{
 "cells": [
  {
   "cell_type": "markdown",
   "metadata": {
    "id": "E0vqbgi9ay0H"
   },
   "source": [
    "# Яндекс.Музыка"
   ]
  },
  {
   "cell_type": "markdown",
   "metadata": {
    "id": "VUC88oWjTJw2"
   },
   "source": [
    "В рамках исследования необходимо сравнить поведение пользователей двух столиц: Москвы и Санкт-Петербурга. Анализ базируется на данных Яндекс.Музыки.\n",
    "\n",
    "**Цель исследования** — проверить три гипотезы:\n",
    "1. Активность пользователей зависит от дня недели. Причём в Москве и Петербурге это проявляется по-разному.\n",
    "2. В понедельник утром в Москве преобладают одни жанры, а в Петербурге — другие. Так же и вечером пятницы преобладают разные жанры — в зависимости от города. \n",
    "3. Москва и Петербург предпочитают разные жанры музыки. В Москве чаще слушают поп-музыку, в Петербурге — русский рэп.\n",
    "\n",
    "Исследование пройдёт в три этапа:\n",
    " 1. Обзор данных.\n",
    " 2. Предобработка данных.\n",
    " 3. Проверка гипотез.\n",
    "\n"
   ]
  },
  {
   "cell_type": "markdown",
   "metadata": {
    "id": "Ml1hmfXC_Zcs"
   },
   "source": [
    "## Обзор данных\n",
    "Составим первое представление о данных Яндекс.Музыки."
   ]
  },
  {
   "cell_type": "code",
   "execution_count": 1,
   "metadata": {
    "id": "AXN7PHPN_Zcs"
   },
   "outputs": [],
   "source": [
    "# импорт библиотеки pandas\n",
    "import pandas as pd"
   ]
  },
  {
   "cell_type": "code",
   "execution_count": 2,
   "metadata": {
    "id": "fFVu7vqh_Zct"
   },
   "outputs": [],
   "source": [
    "# чтение файла с данными и сохранение в df\n",
    "df = pd.read_csv('')"
   ]
  },
  {
   "cell_type": "code",
   "execution_count": 3,
   "metadata": {
    "id": "oWTVX3gW_Zct"
   },
   "outputs": [
    {
     "data": {
      "text/html": [
       "<div>\n",
       "<style scoped>\n",
       "    .dataframe tbody tr th:only-of-type {\n",
       "        vertical-align: middle;\n",
       "    }\n",
       "\n",
       "    .dataframe tbody tr th {\n",
       "        vertical-align: top;\n",
       "    }\n",
       "\n",
       "    .dataframe thead th {\n",
       "        text-align: right;\n",
       "    }\n",
       "</style>\n",
       "<table border=\"1\" class=\"dataframe\">\n",
       "  <thead>\n",
       "    <tr style=\"text-align: right;\">\n",
       "      <th></th>\n",
       "      <th>userID</th>\n",
       "      <th>Track</th>\n",
       "      <th>artist</th>\n",
       "      <th>genre</th>\n",
       "      <th>City</th>\n",
       "      <th>time</th>\n",
       "      <th>Day</th>\n",
       "    </tr>\n",
       "  </thead>\n",
       "  <tbody>\n",
       "    <tr>\n",
       "      <th>0</th>\n",
       "      <td>FFB692EC</td>\n",
       "      <td>Kamigata To Boots</td>\n",
       "      <td>The Mass Missile</td>\n",
       "      <td>rock</td>\n",
       "      <td>Saint-Petersburg</td>\n",
       "      <td>20:28:33</td>\n",
       "      <td>Wednesday</td>\n",
       "    </tr>\n",
       "    <tr>\n",
       "      <th>1</th>\n",
       "      <td>55204538</td>\n",
       "      <td>Delayed Because of Accident</td>\n",
       "      <td>Andreas Rönnberg</td>\n",
       "      <td>rock</td>\n",
       "      <td>Moscow</td>\n",
       "      <td>14:07:09</td>\n",
       "      <td>Friday</td>\n",
       "    </tr>\n",
       "    <tr>\n",
       "      <th>2</th>\n",
       "      <td>20EC38</td>\n",
       "      <td>Funiculì funiculà</td>\n",
       "      <td>Mario Lanza</td>\n",
       "      <td>pop</td>\n",
       "      <td>Saint-Petersburg</td>\n",
       "      <td>20:58:07</td>\n",
       "      <td>Wednesday</td>\n",
       "    </tr>\n",
       "    <tr>\n",
       "      <th>3</th>\n",
       "      <td>A3DD03C9</td>\n",
       "      <td>Dragons in the Sunset</td>\n",
       "      <td>Fire + Ice</td>\n",
       "      <td>folk</td>\n",
       "      <td>Saint-Petersburg</td>\n",
       "      <td>08:37:09</td>\n",
       "      <td>Monday</td>\n",
       "    </tr>\n",
       "    <tr>\n",
       "      <th>4</th>\n",
       "      <td>E2DC1FAE</td>\n",
       "      <td>Soul People</td>\n",
       "      <td>Space Echo</td>\n",
       "      <td>dance</td>\n",
       "      <td>Moscow</td>\n",
       "      <td>08:34:34</td>\n",
       "      <td>Monday</td>\n",
       "    </tr>\n",
       "    <tr>\n",
       "      <th>5</th>\n",
       "      <td>842029A1</td>\n",
       "      <td>Преданная</td>\n",
       "      <td>IMPERVTOR</td>\n",
       "      <td>rusrap</td>\n",
       "      <td>Saint-Petersburg</td>\n",
       "      <td>13:09:41</td>\n",
       "      <td>Friday</td>\n",
       "    </tr>\n",
       "    <tr>\n",
       "      <th>6</th>\n",
       "      <td>4CB90AA5</td>\n",
       "      <td>True</td>\n",
       "      <td>Roman Messer</td>\n",
       "      <td>dance</td>\n",
       "      <td>Moscow</td>\n",
       "      <td>13:00:07</td>\n",
       "      <td>Wednesday</td>\n",
       "    </tr>\n",
       "    <tr>\n",
       "      <th>7</th>\n",
       "      <td>F03E1C1F</td>\n",
       "      <td>Feeling This Way</td>\n",
       "      <td>Polina Griffith</td>\n",
       "      <td>dance</td>\n",
       "      <td>Moscow</td>\n",
       "      <td>20:47:49</td>\n",
       "      <td>Wednesday</td>\n",
       "    </tr>\n",
       "    <tr>\n",
       "      <th>8</th>\n",
       "      <td>8FA1D3BE</td>\n",
       "      <td>И вновь продолжается бой</td>\n",
       "      <td>NaN</td>\n",
       "      <td>ruspop</td>\n",
       "      <td>Moscow</td>\n",
       "      <td>09:17:40</td>\n",
       "      <td>Friday</td>\n",
       "    </tr>\n",
       "    <tr>\n",
       "      <th>9</th>\n",
       "      <td>E772D5C0</td>\n",
       "      <td>Pessimist</td>\n",
       "      <td>NaN</td>\n",
       "      <td>dance</td>\n",
       "      <td>Saint-Petersburg</td>\n",
       "      <td>21:20:49</td>\n",
       "      <td>Wednesday</td>\n",
       "    </tr>\n",
       "  </tbody>\n",
       "</table>\n",
       "</div>"
      ],
      "text/plain": [
       "     userID                        Track            artist   genre  \\\n",
       "0  FFB692EC            Kamigata To Boots  The Mass Missile    rock   \n",
       "1  55204538  Delayed Because of Accident  Andreas Rönnberg    rock   \n",
       "2    20EC38            Funiculì funiculà       Mario Lanza     pop   \n",
       "3  A3DD03C9        Dragons in the Sunset        Fire + Ice    folk   \n",
       "4  E2DC1FAE                  Soul People        Space Echo   dance   \n",
       "5  842029A1                    Преданная         IMPERVTOR  rusrap   \n",
       "6  4CB90AA5                         True      Roman Messer   dance   \n",
       "7  F03E1C1F             Feeling This Way   Polina Griffith   dance   \n",
       "8  8FA1D3BE     И вновь продолжается бой               NaN  ruspop   \n",
       "9  E772D5C0                    Pessimist               NaN   dance   \n",
       "\n",
       "             City        time        Day  \n",
       "0  Saint-Petersburg  20:28:33  Wednesday  \n",
       "1            Moscow  14:07:09     Friday  \n",
       "2  Saint-Petersburg  20:58:07  Wednesday  \n",
       "3  Saint-Petersburg  08:37:09     Monday  \n",
       "4            Moscow  08:34:34     Monday  \n",
       "5  Saint-Petersburg  13:09:41     Friday  \n",
       "6            Moscow  13:00:07  Wednesday  \n",
       "7            Moscow  20:47:49  Wednesday  \n",
       "8            Moscow  09:17:40     Friday  \n",
       "9  Saint-Petersburg  21:20:49  Wednesday  "
      ]
     },
     "execution_count": 3,
     "metadata": {},
     "output_type": "execute_result"
    }
   ],
   "source": [
    "# получение первых 10 строк таблицы df\n",
    "df.head(10)"
   ]
  },
  {
   "cell_type": "code",
   "execution_count": 4,
   "metadata": {
    "id": "DSf2kIb-_Zct"
   },
   "outputs": [
    {
     "name": "stdout",
     "output_type": "stream",
     "text": [
      "<class 'pandas.core.frame.DataFrame'>\n",
      "RangeIndex: 65079 entries, 0 to 65078\n",
      "Data columns (total 7 columns):\n",
      " #   Column    Non-Null Count  Dtype \n",
      "---  ------    --------------  ----- \n",
      " 0     userID  65079 non-null  object\n",
      " 1   Track     63848 non-null  object\n",
      " 2   artist    57876 non-null  object\n",
      " 3   genre     63881 non-null  object\n",
      " 4     City    65079 non-null  object\n",
      " 5   time      65079 non-null  object\n",
      " 6   Day       65079 non-null  object\n",
      "dtypes: object(7)\n",
      "memory usage: 3.5+ MB\n"
     ]
    }
   ],
   "source": [
    "# получение общей информации о данных в таблице df\n",
    "df.info()"
   ]
  },
  {
   "cell_type": "markdown",
   "metadata": {
    "id": "TaQ2Iwbr_Zct"
   },
   "source": [
    "Итак, в таблице семь столбцов. Тип данных во всех столбцах — `object`.\n",
    "\n",
    "Согласно документации к данным:\n",
    "* `userID` — идентификатор пользователя;\n",
    "* `Track` — название трека;  \n",
    "* `artist` — имя исполнителя;\n",
    "* `genre` — название жанра;\n",
    "* `City` — город пользователя;\n",
    "* `time` — время начала прослушивания;\n",
    "* `Day` — день недели.\n",
    "\n",
    "В названиях колонок видны три нарушения стиля:\n",
    "1. Строчные буквы сочетаются с прописными.\n",
    "2. Встречаются пробелы.\n",
    "3. Найдите ещё одну проблему в названии колонок и опишите её в этом пункте: **Используется Верблюжий Регистр**\n",
    "\n",
    "\n",
    "\n",
    "Количество значений в столбцах различается. Значит, в данных есть пропущенные значения."
   ]
  },
  {
   "cell_type": "markdown",
   "metadata": {
    "id": "MCB6-dXG_Zct"
   },
   "source": [
    "**Выводы**\n",
    "\n",
    "В каждой строке таблицы — данные о прослушанном треке. Часть колонок описывает саму композицию: название, исполнителя и жанр. Остальные данные рассказывают о пользователе: из какого он города, когда он слушал музыку. \n",
    "\n",
    "Предварительно можно утверждать, что, данных достаточно для проверки гипотез. Но встречаются пропуски в данных, а в названиях колонок — расхождения с хорошим стилем.\n",
    "\n",
    "Чтобы двигаться дальше, нужно устранить проблемы в данных."
   ]
  },
  {
   "cell_type": "markdown",
   "metadata": {
    "id": "SjYF6Ub9_Zct"
   },
   "source": [
    "## Предобработка данных\n",
    "Исправим стиль в заголовках столбцов, обработаем пропуски. Затем проверим данные на дубликаты."
   ]
  },
  {
   "cell_type": "markdown",
   "metadata": {
    "id": "dIaKXr29_Zct"
   },
   "source": [
    "### Стиль заголовков\n"
   ]
  },
  {
   "cell_type": "code",
   "execution_count": 5,
   "metadata": {
    "id": "oKOTdF_Q_Zct"
   },
   "outputs": [
    {
     "data": {
      "text/plain": [
       "Index(['  userID', 'Track', 'artist', 'genre', '  City  ', 'time', 'Day'], dtype='object')"
      ]
     },
     "execution_count": 5,
     "metadata": {},
     "output_type": "execute_result"
    }
   ],
   "source": [
    "# выведем на экран названия столбцов таблицы df\n",
    "df.columns"
   ]
  },
  {
   "cell_type": "markdown",
   "metadata": {
    "id": "zj5534cv_Zct"
   },
   "source": [
    "Приведем названия в соответствие. Для этого переименуем колонки так:\n",
    "\n",
    "* `'  userID'` → `'user_id'`;\n",
    "* `'Track'` → `'track'`;\n",
    "* `'  City  '` → `'city'`;\n",
    "* `'Day'` → `'day'`."
   ]
  },
  {
   "cell_type": "code",
   "execution_count": 6,
   "metadata": {
    "id": "ISlFqs5y_Zct"
   },
   "outputs": [],
   "source": [
    "# переименование столбцов\n",
    "df = df.rename(columns = {'  userID':'user_id', 'Track':'track', '  City  ':'city', 'Day':'day'})"
   ]
  },
  {
   "cell_type": "code",
   "execution_count": 7,
   "metadata": {
    "id": "d4NOAmTW_Zct"
   },
   "outputs": [
    {
     "data": {
      "text/plain": [
       "Index(['user_id', 'track', 'artist', 'genre', 'city', 'time', 'day'], dtype='object')"
      ]
     },
     "execution_count": 7,
     "metadata": {},
     "output_type": "execute_result"
    }
   ],
   "source": [
    "# проверка результатов - перечень названий столбцов\n",
    "df.columns "
   ]
  },
  {
   "cell_type": "markdown",
   "metadata": {
    "id": "5ISfbcfY_Zct"
   },
   "source": [
    "### Пропуски значений\n",
    "Сначала посчитаем, сколько в таблице пропущенных значений."
   ]
  },
  {
   "cell_type": "code",
   "execution_count": 8,
   "metadata": {
    "id": "RskX29qr_Zct"
   },
   "outputs": [
    {
     "data": {
      "text/plain": [
       "user_id       0\n",
       "track      1231\n",
       "artist     7203\n",
       "genre      1198\n",
       "city          0\n",
       "time          0\n",
       "day           0\n",
       "dtype: int64"
      ]
     },
     "execution_count": 8,
     "metadata": {},
     "output_type": "execute_result"
    }
   ],
   "source": [
    "# подсчёт пропусков\n",
    "df.isna().sum()"
   ]
  },
  {
   "cell_type": "markdown",
   "metadata": {
    "id": "qubhgnlO_Zct"
   },
   "source": [
    "Не все пропущенные значения влияют на исследование. Так в `track` и `artist` пропуски не важны для целей исследования. Достаточно заменить их на костыль.\n",
    "\n",
    "Но пропуски в `genre` могут помешать сравнению музыкальных вкусов в Москве и Санкт-Петербурге. На практике было бы правильно установить причину пропусков и восстановить данные. Такой возможности нет в учебном проекте. Придётся:\n",
    "* заполнить и эти пропуски на костыль,\n",
    "* оценить, насколько они повредят расчётам. "
   ]
  },
  {
   "cell_type": "code",
   "execution_count": 9,
   "metadata": {
    "id": "KplB5qWs_Zct"
   },
   "outputs": [],
   "source": [
    "# перебор названий столбцов в цикле и замена пропущенных значений на 'unknown'\n",
    "columns_to_replace = ['track', 'artist', 'genre']\n",
    "for column in columns_to_replace:\n",
    "    df[column] = df[column].fillna('unknown')"
   ]
  },
  {
   "cell_type": "code",
   "execution_count": 10,
   "metadata": {
    "id": "Tq4nYRX4_Zct"
   },
   "outputs": [
    {
     "data": {
      "text/plain": [
       "user_id    0\n",
       "track      0\n",
       "artist     0\n",
       "genre      0\n",
       "city       0\n",
       "time       0\n",
       "day        0\n",
       "dtype: int64"
      ]
     },
     "execution_count": 10,
     "metadata": {},
     "output_type": "execute_result"
    }
   ],
   "source": [
    "# проверка результатов\n",
    "df.isna().sum()"
   ]
  },
  {
   "cell_type": "markdown",
   "metadata": {
    "id": "BWKRtBJ3_Zct"
   },
   "source": [
    "### Дубликаты\n",
    "Проверим, имеются ли явные дубликаты в датасете."
   ]
  },
  {
   "cell_type": "code",
   "execution_count": 11,
   "metadata": {
    "id": "36eES_S0_Zct"
   },
   "outputs": [
    {
     "data": {
      "text/plain": [
       "3826"
      ]
     },
     "execution_count": 11,
     "metadata": {},
     "output_type": "execute_result"
    }
   ],
   "source": [
    "# подсчёт явных дубликатов\n",
    "df.duplicated().sum()"
   ]
  },
  {
   "cell_type": "markdown",
   "metadata": {
    "id": "Ot25h6XR_Zct"
   },
   "source": [
    "Избавимся от явных дубликатов."
   ]
  },
  {
   "cell_type": "code",
   "execution_count": 12,
   "metadata": {
    "id": "exFHq6tt_Zct"
   },
   "outputs": [],
   "source": [
    "# удаление явных дубликатов (с удалением старых индексов и формированием новых)\n",
    "df = df.drop_duplicates().reset_index(drop = True)"
   ]
  },
  {
   "cell_type": "code",
   "execution_count": 13,
   "metadata": {
    "id": "-8PuNWQ0_Zct"
   },
   "outputs": [
    {
     "data": {
      "text/plain": [
       "0"
      ]
     },
     "execution_count": 13,
     "metadata": {},
     "output_type": "execute_result"
    }
   ],
   "source": [
    "# проверка на отсутствие дубликатов\n",
    "df.duplicated().sum()"
   ]
  },
  {
   "cell_type": "markdown",
   "metadata": {
    "id": "QlFBsxAr_Zct"
   },
   "source": [
    "Теперь избавимся от неявных дубликатов в колонке `genre`. Например, название одного и того же жанра может быть записано немного по-разному. Такие ошибки тоже повлияют на результат исследования."
   ]
  },
  {
   "cell_type": "code",
   "execution_count": 14,
   "metadata": {
    "id": "JIUcqzZN_Zct"
   },
   "outputs": [
    {
     "data": {
      "text/plain": [
       "array(['acid', 'acoustic', 'action', 'adult', 'africa', 'afrikaans',\n",
       "       'alternative', 'alternativepunk', 'ambient', 'americana',\n",
       "       'animated', 'anime', 'arabesk', 'arabic', 'arena',\n",
       "       'argentinetango', 'art', 'audiobook', 'author', 'avantgarde',\n",
       "       'axé', 'baile', 'balkan', 'beats', 'bigroom', 'black', 'bluegrass',\n",
       "       'blues', 'bollywood', 'bossa', 'brazilian', 'breakbeat', 'breaks',\n",
       "       'broadway', 'cantautori', 'cantopop', 'canzone', 'caribbean',\n",
       "       'caucasian', 'celtic', 'chamber', 'chanson', 'children', 'chill',\n",
       "       'chinese', 'choral', 'christian', 'christmas', 'classical',\n",
       "       'classicmetal', 'club', 'colombian', 'comedy', 'conjazz',\n",
       "       'contemporary', 'country', 'cuban', 'dance', 'dancehall',\n",
       "       'dancepop', 'dark', 'death', 'deep', 'deutschrock', 'deutschspr',\n",
       "       'dirty', 'disco', 'dnb', 'documentary', 'downbeat', 'downtempo',\n",
       "       'drum', 'dub', 'dubstep', 'eastern', 'easy', 'electronic',\n",
       "       'electropop', 'emo', 'entehno', 'epicmetal', 'estrada', 'ethnic',\n",
       "       'eurofolk', 'european', 'experimental', 'extrememetal', 'fado',\n",
       "       'fairytail', 'film', 'fitness', 'flamenco', 'folk', 'folklore',\n",
       "       'folkmetal', 'folkrock', 'folktronica', 'forró', 'frankreich',\n",
       "       'französisch', 'french', 'funk', 'future', 'gangsta', 'garage',\n",
       "       'german', 'ghazal', 'gitarre', 'glitch', 'gospel', 'gothic',\n",
       "       'grime', 'grunge', 'gypsy', 'handsup', \"hard'n'heavy\", 'hardcore',\n",
       "       'hardstyle', 'hardtechno', 'hip', 'hip-hop', 'hiphop',\n",
       "       'historisch', 'holiday', 'hop', 'horror', 'house', 'hymn', 'idm',\n",
       "       'independent', 'indian', 'indie', 'indipop', 'industrial',\n",
       "       'inspirational', 'instrumental', 'international', 'irish', 'jam',\n",
       "       'japanese', 'jazz', 'jewish', 'jpop', 'jungle', 'k-pop',\n",
       "       'karadeniz', 'karaoke', 'kayokyoku', 'korean', 'laiko', 'latin',\n",
       "       'latino', 'leftfield', 'local', 'lounge', 'loungeelectronic',\n",
       "       'lovers', 'malaysian', 'mandopop', 'marschmusik', 'meditative',\n",
       "       'mediterranean', 'melodic', 'metal', 'metalcore', 'mexican',\n",
       "       'middle', 'minimal', 'miscellaneous', 'modern', 'mood', 'mpb',\n",
       "       'muslim', 'native', 'neoklassik', 'neue', 'new', 'newage',\n",
       "       'newwave', 'nu', 'nujazz', 'numetal', 'oceania', 'old', 'opera',\n",
       "       'orchestral', 'other', 'piano', 'podcasts', 'pop', 'popdance',\n",
       "       'popelectronic', 'popeurodance', 'poprussian', 'post',\n",
       "       'posthardcore', 'postrock', 'power', 'progmetal', 'progressive',\n",
       "       'psychedelic', 'punjabi', 'punk', 'quebecois', 'ragga', 'ram',\n",
       "       'rancheras', 'rap', 'rave', 'reggae', 'reggaeton', 'regional',\n",
       "       'relax', 'religious', 'retro', 'rhythm', 'rnb', 'rnr', 'rock',\n",
       "       'rockabilly', 'rockalternative', 'rockindie', 'rockother',\n",
       "       'romance', 'roots', 'ruspop', 'rusrap', 'rusrock', 'russian',\n",
       "       'salsa', 'samba', 'scenic', 'schlager', 'self', 'sertanejo',\n",
       "       'shanson', 'shoegazing', 'showtunes', 'singer', 'ska', 'skarock',\n",
       "       'slow', 'smooth', 'soft', 'soul', 'soulful', 'sound', 'soundtrack',\n",
       "       'southern', 'specialty', 'speech', 'spiritual', 'sport',\n",
       "       'stonerrock', 'surf', 'swing', 'synthpop', 'synthrock',\n",
       "       'sängerportrait', 'tango', 'tanzorchester', 'taraftar', 'tatar',\n",
       "       'tech', 'techno', 'teen', 'thrash', 'top', 'traditional',\n",
       "       'tradjazz', 'trance', 'tribal', 'trip', 'triphop', 'tropical',\n",
       "       'türk', 'türkçe', 'ukrrock', 'unknown', 'urban', 'uzbek',\n",
       "       'variété', 'vi', 'videogame', 'vocal', 'western', 'world',\n",
       "       'worldbeat', 'ïîï', 'электроника'], dtype=object)"
      ]
     },
     "execution_count": 14,
     "metadata": {},
     "output_type": "execute_result"
    }
   ],
   "source": [
    "# Просмотр уникальных названий жанров\n",
    "df['genre'].sort_values().unique()"
   ]
  },
  {
   "cell_type": "markdown",
   "metadata": {
    "id": "qej-Qmuo_Zct"
   },
   "source": [
    "Просмотрев список, можно найти неявные дубликаты названия `hiphop`:\n",
    "\n",
    "* *hip*,\n",
    "* *hop*,\n",
    "* *hip-hop*.\n",
    "\n",
    "Для удобства очистки создадим функцию, которая будет брать список дубликатов и возвращать правильное значение."
   ]
  },
  {
   "cell_type": "code",
   "execution_count": 15,
   "metadata": {
    "id": "ErNDkmns_Zct"
   },
   "outputs": [],
   "source": [
    "# Функция для замены неявных дубликатов\n",
    "def replace_wrong_genres(wrong_genres, correct_genre):\n",
    "    for wrong_genres in wrong_genres:\n",
    "        df['genre'] = df['genre'].replace(wrong_genres, correct_genre)"
   ]
  },
  {
   "cell_type": "code",
   "execution_count": 16,
   "metadata": {
    "id": "YN5i2hpmSo09"
   },
   "outputs": [],
   "source": [
    "# Устранение неявных дубликатов\n",
    "duplicates = ['hip', 'hop', 'hip-hop']\n",
    "genre_hiphop = 'hiphop'\n",
    "replace_wrong_genres(duplicates, genre_hiphop)"
   ]
  },
  {
   "cell_type": "code",
   "execution_count": 17,
   "metadata": {
    "id": "wvixALnFG15m"
   },
   "outputs": [
    {
     "data": {
      "text/plain": [
       "array(['rock', 'pop', 'folk', 'dance', 'rusrap', 'ruspop', 'world',\n",
       "       'electronic', 'unknown', 'alternative', 'children', 'rnb',\n",
       "       'hiphop', 'jazz', 'postrock', 'latin', 'classical', 'metal',\n",
       "       'reggae', 'tatar', 'blues', 'instrumental', 'rusrock', 'dnb',\n",
       "       'türk', 'post', 'country', 'psychedelic', 'conjazz', 'indie',\n",
       "       'posthardcore', 'local', 'avantgarde', 'punk', 'videogame',\n",
       "       'techno', 'house', 'christmas', 'melodic', 'caucasian',\n",
       "       'reggaeton', 'soundtrack', 'singer', 'ska', 'shanson', 'ambient',\n",
       "       'film', 'western', 'rap', 'beats', \"hard'n'heavy\", 'progmetal',\n",
       "       'minimal', 'contemporary', 'new', 'soul', 'holiday', 'german',\n",
       "       'tropical', 'fairytail', 'spiritual', 'urban', 'gospel', 'nujazz',\n",
       "       'folkmetal', 'trance', 'miscellaneous', 'anime', 'hardcore',\n",
       "       'progressive', 'chanson', 'numetal', 'vocal', 'estrada', 'russian',\n",
       "       'classicmetal', 'dubstep', 'club', 'deep', 'southern', 'black',\n",
       "       'folkrock', 'fitness', 'french', 'disco', 'religious', 'drum',\n",
       "       'extrememetal', 'türkçe', 'experimental', 'easy', 'metalcore',\n",
       "       'modern', 'argentinetango', 'old', 'breaks', 'eurofolk',\n",
       "       'stonerrock', 'industrial', 'funk', 'jpop', 'middle', 'variété',\n",
       "       'other', 'adult', 'christian', 'gothic', 'international', 'muslim',\n",
       "       'relax', 'schlager', 'caribbean', 'ukrrock', 'nu', 'breakbeat',\n",
       "       'comedy', 'chill', 'newage', 'specialty', 'uzbek', 'k-pop',\n",
       "       'balkan', 'chinese', 'meditative', 'dub', 'power', 'death',\n",
       "       'grime', 'arabesk', 'romance', 'flamenco', 'leftfield', 'european',\n",
       "       'tech', 'newwave', 'dancehall', 'mpb', 'piano', 'top', 'bigroom',\n",
       "       'opera', 'celtic', 'tradjazz', 'acoustic', 'epicmetal',\n",
       "       'historisch', 'downbeat', 'downtempo', 'africa', 'audiobook',\n",
       "       'jewish', 'sängerportrait', 'deutschrock', 'eastern', 'action',\n",
       "       'future', 'electropop', 'folklore', 'bollywood', 'marschmusik',\n",
       "       'rnr', 'karaoke', 'indian', 'rancheras', 'электроника',\n",
       "       'afrikaans', 'tango', 'rhythm', 'sound', 'deutschspr', 'trip',\n",
       "       'lovers', 'choral', 'dancepop', 'podcasts', 'retro', 'smooth',\n",
       "       'mexican', 'brazilian', 'ïîï', 'mood', 'surf', 'author', 'gangsta',\n",
       "       'triphop', 'inspirational', 'idm', 'ethnic', 'bluegrass',\n",
       "       'broadway', 'animated', 'americana', 'karadeniz', 'rockabilly',\n",
       "       'colombian', 'self', 'synthrock', 'sertanejo', 'japanese',\n",
       "       'canzone', 'swing', 'lounge', 'sport', 'korean', 'ragga',\n",
       "       'traditional', 'gitarre', 'frankreich', 'alternativepunk', 'emo',\n",
       "       'laiko', 'cantopop', 'glitch', 'documentary', 'rockalternative',\n",
       "       'thrash', 'hymn', 'oceania', 'rockother', 'popeurodance', 'dark',\n",
       "       'vi', 'grunge', 'hardstyle', 'samba', 'garage', 'soft', 'art',\n",
       "       'folktronica', 'entehno', 'mediterranean', 'chamber', 'cuban',\n",
       "       'taraftar', 'rockindie', 'gypsy', 'hardtechno', 'shoegazing',\n",
       "       'skarock', 'bossa', 'salsa', 'latino', 'worldbeat', 'malaysian',\n",
       "       'baile', 'ghazal', 'loungeelectronic', 'arabic', 'popelectronic',\n",
       "       'acid', 'kayokyoku', 'neoklassik', 'tribal', 'tanzorchester',\n",
       "       'native', 'independent', 'cantautori', 'handsup', 'poprussian',\n",
       "       'punjabi', 'synthpop', 'rave', 'französisch', 'quebecois',\n",
       "       'speech', 'soulful', 'teen', 'jam', 'ram', 'horror', 'scenic',\n",
       "       'orchestral', 'neue', 'roots', 'slow', 'jungle', 'indipop', 'axé',\n",
       "       'fado', 'showtunes', 'arena', 'irish', 'mandopop', 'forró',\n",
       "       'popdance', 'dirty', 'regional'], dtype=object)"
      ]
     },
     "execution_count": 17,
     "metadata": {},
     "output_type": "execute_result"
    }
   ],
   "source": [
    "# Проверка на неявные дубликаты\n",
    "df['genre'].unique()"
   ]
  },
  {
   "cell_type": "markdown",
   "metadata": {
    "id": "jz6a9-7HQUDd"
   },
   "source": [
    "**Выводы**\n",
    "\n",
    "Предобработка обнаружила три проблемы в данных:\n",
    "\n",
    "- нарушения в стиле заголовков,\n",
    "- пропущенные значения,\n",
    "- дубликаты — явные и неявные.\n",
    "\n",
    "Мы исправили заголовки, чтобы упростить работу с таблицей. Без дубликатов исследование станет более точным.\n",
    "\n",
    "Пропущенные значения мы заменили на костыль `'unknown'`. Ещё предстоит увидеть, не повредят ли исследованию пропуски в колонке `genre`.\n",
    "\n",
    "Теперь можно перейти к проверке гипотез. "
   ]
  },
  {
   "cell_type": "markdown",
   "metadata": {
    "id": "WttZHXH0SqKk"
   },
   "source": [
    "## Проверка гипотез"
   ]
  },
  {
   "cell_type": "markdown",
   "metadata": {
    "id": "Im936VVi_Zcu"
   },
   "source": [
    "### Сравнение поведения пользователей двух столиц"
   ]
  },
  {
   "cell_type": "markdown",
   "metadata": {
    "id": "nwt_MuaL_Zcu"
   },
   "source": [
    "Первая гипотеза утверждает, что пользователи по-разному слушают музыку в Москве и Санкт-Петербурге. Проверим это предположение по данным о трёх днях недели — понедельнике, среде и пятнице. Для этого:\n",
    "\n",
    "1) Разделим пользователей Москвы и Санкт-Петербурга\n",
    "2) Сравним, сколько треков послушала каждая группа пользователей в понедельник, среду и пятницу.\n"
   ]
  },
  {
   "cell_type": "code",
   "execution_count": 18,
   "metadata": {
    "id": "0_Qs96oh_Zcu"
   },
   "outputs": [
    {
     "data": {
      "text/plain": [
       "city\n",
       "Moscow              42741\n",
       "Saint-Petersburg    18512\n",
       "Name: city, dtype: int64"
      ]
     },
     "execution_count": 18,
     "metadata": {},
     "output_type": "execute_result"
    }
   ],
   "source": [
    "# Подсчёт прослушиваний в каждом городе\n",
    "df.groupby('city')['city'].count()\n"
   ]
  },
  {
   "cell_type": "markdown",
   "metadata": {
    "id": "dzli3w8o_Zcu"
   },
   "source": [
    "В Москве прослушиваний больше, чем в Петербурге. Из этого не следует, что московские пользователи чаще слушают музыку. Просто самих пользователей в Москве больше.\n",
    "\n",
    "Теперь сгруппируем данные по дню недели и подсчитаем прослушивания в понедельник, среду и пятницу."
   ]
  },
  {
   "cell_type": "code",
   "execution_count": 19,
   "metadata": {
    "id": "uZMKjiJz_Zcu"
   },
   "outputs": [
    {
     "data": {
      "text/plain": [
       "day\n",
       "Friday       21840\n",
       "Monday       21354\n",
       "Wednesday    18059\n",
       "Name: day, dtype: int64"
      ]
     },
     "execution_count": 19,
     "metadata": {},
     "output_type": "execute_result"
    }
   ],
   "source": [
    "# Подсчёт прослушиваний в каждый из трёх дней\n",
    "df.groupby('day')['day'].count()"
   ]
  },
  {
   "cell_type": "markdown",
   "metadata": {
    "id": "cC2tNrlL_Zcu"
   },
   "source": [
    "В среднем пользователи из двух городов менее активны по средам. Но картина может измениться, если рассмотреть каждый город в отдельности."
   ]
  },
  {
   "cell_type": "markdown",
   "metadata": {
    "id": "POzs8bGa_Zcu"
   },
   "source": [
    "Оценим пользовательскую активность как с учетом города, так и с учетом дня недели. Для этого создадим функцию, которая посчитает прослушивания для заданного дня и города."
   ]
  },
  {
   "cell_type": "code",
   "execution_count": 20,
   "metadata": {
    "id": "Nz3GdQB1_Zcu"
   },
   "outputs": [],
   "source": [
    "# создание функции подсчета прослушиваний\n",
    "def number_tracks(day, city):\n",
    "    track_list = df[(df['day'] == day) & (df['city'] == city)] \n",
    "    track_list_count = track_list['user_id'].count()\n",
    "    return track_list_count"
   ]
  },
  {
   "cell_type": "code",
   "execution_count": 21,
   "metadata": {
    "id": "rJcRATNQ_Zcu"
   },
   "outputs": [
    {
     "data": {
      "text/plain": [
       "15740"
      ]
     },
     "execution_count": 21,
     "metadata": {},
     "output_type": "execute_result"
    }
   ],
   "source": [
    "# количество прослушиваний в Москве по понедельникам\n",
    "number_tracks('Monday', 'Moscow')"
   ]
  },
  {
   "cell_type": "code",
   "execution_count": 22,
   "metadata": {
    "id": "hq_ncZ5T_Zcu"
   },
   "outputs": [
    {
     "data": {
      "text/plain": [
       "5614"
      ]
     },
     "execution_count": 22,
     "metadata": {},
     "output_type": "execute_result"
    }
   ],
   "source": [
    "# количество прослушиваний в Санкт-Петербурге по понедельникам\n",
    "number_tracks('Monday', 'Saint-Petersburg')"
   ]
  },
  {
   "cell_type": "code",
   "execution_count": 23,
   "metadata": {
    "id": "_NTy2VPU_Zcu"
   },
   "outputs": [
    {
     "data": {
      "text/plain": [
       "11056"
      ]
     },
     "execution_count": 23,
     "metadata": {},
     "output_type": "execute_result"
    }
   ],
   "source": [
    "# количество прослушиваний в Москве по средам\n",
    "number_tracks('Wednesday', 'Moscow')"
   ]
  },
  {
   "cell_type": "code",
   "execution_count": 24,
   "metadata": {
    "id": "j2y3TAwo_Zcu"
   },
   "outputs": [
    {
     "data": {
      "text/plain": [
       "7003"
      ]
     },
     "execution_count": 24,
     "metadata": {},
     "output_type": "execute_result"
    }
   ],
   "source": [
    "# количество прослушиваний в Санкт-Петербурге по средам\n",
    "number_tracks('Wednesday', 'Saint-Petersburg')"
   ]
  },
  {
   "cell_type": "code",
   "execution_count": 25,
   "metadata": {
    "id": "vYDw5u_K_Zcu"
   },
   "outputs": [
    {
     "data": {
      "text/plain": [
       "15945"
      ]
     },
     "execution_count": 25,
     "metadata": {},
     "output_type": "execute_result"
    }
   ],
   "source": [
    "# количество прослушиваний в Москве по пятницам\n",
    "number_tracks('Friday', 'Moscow')"
   ]
  },
  {
   "cell_type": "code",
   "execution_count": 26,
   "metadata": {
    "id": "8_yzFtW3_Zcu"
   },
   "outputs": [
    {
     "data": {
      "text/plain": [
       "5895"
      ]
     },
     "execution_count": 26,
     "metadata": {},
     "output_type": "execute_result"
    }
   ],
   "source": [
    "# количество прослушиваний в Санкт-Петербурге по пятницам\n",
    "number_tracks('Friday', 'Saint-Petersburg')"
   ]
  },
  {
   "cell_type": "markdown",
   "metadata": {
    "id": "7QXffbO-_Zcu"
   },
   "source": [
    "Оформим результаты в виде таблицы."
   ]
  },
  {
   "cell_type": "code",
   "execution_count": 27,
   "metadata": {
    "id": "APAcLpOr_Zcu"
   },
   "outputs": [
    {
     "data": {
      "text/html": [
       "<div>\n",
       "<style scoped>\n",
       "    .dataframe tbody tr th:only-of-type {\n",
       "        vertical-align: middle;\n",
       "    }\n",
       "\n",
       "    .dataframe tbody tr th {\n",
       "        vertical-align: top;\n",
       "    }\n",
       "\n",
       "    .dataframe thead th {\n",
       "        text-align: right;\n",
       "    }\n",
       "</style>\n",
       "<table border=\"1\" class=\"dataframe\">\n",
       "  <thead>\n",
       "    <tr style=\"text-align: right;\">\n",
       "      <th></th>\n",
       "      <th>city</th>\n",
       "      <th>monday</th>\n",
       "      <th>wednesday</th>\n",
       "      <th>friday</th>\n",
       "    </tr>\n",
       "  </thead>\n",
       "  <tbody>\n",
       "    <tr>\n",
       "      <th>0</th>\n",
       "      <td>Saint-Petersburg</td>\n",
       "      <td>5614</td>\n",
       "      <td>7003</td>\n",
       "      <td>5895</td>\n",
       "    </tr>\n",
       "    <tr>\n",
       "      <th>1</th>\n",
       "      <td>Moscow</td>\n",
       "      <td>15740</td>\n",
       "      <td>11056</td>\n",
       "      <td>15945</td>\n",
       "    </tr>\n",
       "  </tbody>\n",
       "</table>\n",
       "</div>"
      ],
      "text/plain": [
       "               city  monday  wednesday  friday\n",
       "0  Saint-Petersburg    5614       7003    5895\n",
       "1            Moscow   15740      11056   15945"
      ]
     },
     "execution_count": 27,
     "metadata": {},
     "output_type": "execute_result"
    }
   ],
   "source": [
    "# Таблица с результатами\n",
    "number_tracks = [\n",
    "    ['Saint-Petersburg', number_tracks('Monday', 'Saint-Petersburg'), number_tracks('Wednesday', 'Saint-Petersburg'), number_tracks('Friday', 'Saint-Petersburg')],\n",
    "    ['Moscow', number_tracks('Monday', 'Moscow'), number_tracks('Wednesday', 'Moscow'), number_tracks('Friday', 'Moscow')]\n",
    "]\n",
    "pd.DataFrame(data = number_tracks, columns = ['city', 'monday', 'wednesday', 'friday'])"
   ]
  },
  {
   "cell_type": "markdown",
   "metadata": {
    "id": "-EgPIHYu_Zcu"
   },
   "source": [
    "**Выводы**\n",
    "\n",
    "Данные показывают разницу поведения пользователей:\n",
    "\n",
    "- В Москве пик прослушиваний приходится на понедельник и пятницу, а в среду заметен спад.\n",
    "- В Петербурге, наоборот, больше слушают музыку по средам. Активность в понедельник и пятницу здесь почти в равной мере уступает среде.\n",
    "\n",
    "Значит, данные говорят в пользу первой гипотезы."
   ]
  },
  {
   "cell_type": "markdown",
   "metadata": {
    "id": "atZAxtq4_Zcu"
   },
   "source": [
    "### Музыка в начале и в конце недели"
   ]
  },
  {
   "cell_type": "markdown",
   "metadata": {
    "id": "eXrQqXFH_Zcu"
   },
   "source": [
    "Согласно второй гипотезе, утром в понедельник в Москве преобладают одни жанры, а в Петербурге — другие. Так же и вечером пятницы преобладают разные жанры — в зависимости от города."
   ]
  },
  {
   "cell_type": "code",
   "execution_count": 28,
   "metadata": {
    "id": "qeaFfM_P_Zcu"
   },
   "outputs": [],
   "source": [
    "# создадим отдельный датасет по Москве\n",
    "moscow_general = df[df['city'] == 'Moscow']"
   ]
  },
  {
   "cell_type": "code",
   "execution_count": 29,
   "metadata": {
    "id": "ORaVRKto_Zcu"
   },
   "outputs": [],
   "source": [
    "# создадим отдельный датасет по Санкт-Петербургу\n",
    "spb_general = df[df['city'] == 'Saint-Petersburg']"
   ]
  },
  {
   "cell_type": "markdown",
   "metadata": {
    "id": "MEJV-CX2_Zcu"
   },
   "source": [
    "Создадим функцию `genre_weekday()`, которая должна вернуть информацию о топ-10 жанров тех треков, которые прослушивали в указанный день, в промежутке между двумя отметками времени."
   ]
  },
  {
   "cell_type": "code",
   "execution_count": 30,
   "metadata": {
    "id": "laJT9BYl_Zcu"
   },
   "outputs": [],
   "source": [
    "# задаем функцию\n",
    "def genre_weekday(table, day, time1, time2):\n",
    "    genre_df = table[(table['day'] == day) & (table['time'] > time1) & (table['time'] < time2)]\n",
    "    genre_df_count = genre_df.groupby('genre')['track'].count()\n",
    "    genre_df_sorted = genre_df_count.sort_values(ascending = False)\n",
    "    return genre_df_sorted[:10]"
   ]
  },
  {
   "cell_type": "markdown",
   "metadata": {
    "id": "la2s2_PF_Zcu"
   },
   "source": [
    "Cравним результаты функции `genre_weekday()` для Москвы и Санкт-Петербурга в понедельник утром (с 7:00 до 11:00) и в пятницу вечером (с 17:00 до 23:00):"
   ]
  },
  {
   "cell_type": "code",
   "execution_count": 31,
   "metadata": {
    "id": "yz7itPUQ_Zcu"
   },
   "outputs": [
    {
     "data": {
      "text/plain": [
       "genre\n",
       "pop            781\n",
       "dance          549\n",
       "electronic     480\n",
       "rock           474\n",
       "hiphop         286\n",
       "ruspop         186\n",
       "world          181\n",
       "rusrap         175\n",
       "alternative    164\n",
       "unknown        161\n",
       "Name: track, dtype: int64"
      ]
     },
     "execution_count": 31,
     "metadata": {},
     "output_type": "execute_result"
    }
   ],
   "source": [
    "# вызов функции для утра понедельника в Москве\n",
    "genre_weekday(moscow_general, 'Monday', '07:00', '11:00')"
   ]
  },
  {
   "cell_type": "code",
   "execution_count": 32,
   "metadata": {
    "id": "kwUcHPdy_Zcu"
   },
   "outputs": [
    {
     "data": {
      "text/plain": [
       "genre\n",
       "pop            218\n",
       "dance          182\n",
       "rock           162\n",
       "electronic     147\n",
       "hiphop          80\n",
       "ruspop          64\n",
       "alternative     58\n",
       "rusrap          55\n",
       "jazz            44\n",
       "classical       40\n",
       "Name: track, dtype: int64"
      ]
     },
     "execution_count": 32,
     "metadata": {},
     "output_type": "execute_result"
    }
   ],
   "source": [
    "# вызов функции для утра понедельника в Петербурге\n",
    "genre_weekday(spb_general, 'Monday', '07:00', '11:00')"
   ]
  },
  {
   "cell_type": "code",
   "execution_count": 33,
   "metadata": {
    "id": "EzXVRE1o_Zcu"
   },
   "outputs": [
    {
     "data": {
      "text/plain": [
       "genre\n",
       "pop            713\n",
       "rock           517\n",
       "dance          495\n",
       "electronic     482\n",
       "hiphop         273\n",
       "world          208\n",
       "ruspop         170\n",
       "alternative    163\n",
       "classical      163\n",
       "rusrap         142\n",
       "Name: track, dtype: int64"
      ]
     },
     "execution_count": 33,
     "metadata": {},
     "output_type": "execute_result"
    }
   ],
   "source": [
    "# вызов функции для вечера пятницы в Москве\n",
    "genre_weekday(moscow_general, 'Friday', '17:00', '23:00')"
   ]
  },
  {
   "cell_type": "code",
   "execution_count": 34,
   "metadata": {
    "id": "JZaEKu5v_Zcu"
   },
   "outputs": [
    {
     "data": {
      "text/plain": [
       "genre\n",
       "pop            256\n",
       "electronic     216\n",
       "rock           216\n",
       "dance          210\n",
       "hiphop          97\n",
       "alternative     63\n",
       "jazz            61\n",
       "classical       60\n",
       "rusrap          59\n",
       "world           54\n",
       "Name: track, dtype: int64"
      ]
     },
     "execution_count": 34,
     "metadata": {},
     "output_type": "execute_result"
    }
   ],
   "source": [
    "# вызов функции для вечера пятницы в Петербурге\n",
    "genre_weekday(spb_general, 'Friday', '17:00', '23:00')"
   ]
  },
  {
   "cell_type": "markdown",
   "metadata": {
    "id": "wrCe4MNX_Zcu"
   },
   "source": [
    "**Выводы**\n",
    "\n",
    "Если сравнить топ-10 жанров в понедельник утром, можно сделать такие выводы:\n",
    "\n",
    "1. В Москве и Петербурге слушают похожую музыку. Единственное отличие — в московский рейтинг вошёл жанр “world”, а в петербургский — джаз и классика.\n",
    "\n",
    "2. В Москве пропущенных значений оказалось так много, что значение `'unknown'` заняло десятое место среди самых популярных жанров. Значит, пропущенные значения занимают существенную долю в данных и угрожают достоверности исследования.\n",
    "\n",
    "Вечер пятницы не меняет эту картину. Некоторые жанры поднимаются немного выше, другие спускаются, но в целом топ-10 остаётся тем же самым.\n",
    "\n",
    "Таким образом, вторая гипотеза подтвердилась лишь частично:\n",
    "* Пользователи слушают похожую музыку в начале недели и в конце.\n",
    "* Разница между Москвой и Петербургом не слишком выражена. В Москве чаще слушают русскую популярную музыку, в Петербурге — джаз.\n",
    "\n",
    "Однако пропуски в данных ставят под сомнение этот результат. В Москве их так много, что рейтинг топ-10 мог бы выглядеть иначе, если бы не утерянные  данные о жанрах."
   ]
  },
  {
   "cell_type": "markdown",
   "metadata": {
    "id": "JolODAqr_Zcu"
   },
   "source": [
    "### Жанровые предпочтения в Москве и Петербурге\n",
    "\n",
    "Гипотеза: Петербург — столица рэпа, музыку этого жанра там слушают чаще, чем в Москве.  А Москва — город контрастов, в котором, тем не менее, преобладает поп-музыка."
   ]
  },
  {
   "cell_type": "markdown",
   "metadata": {
    "id": "DlegSvaT_Zcu"
   },
   "source": [
    "Сгруппируем данные по городам по жанру и посчитаем прослушивания треков каждого жанра."
   ]
  },
  {
   "cell_type": "code",
   "execution_count": 35,
   "metadata": {
    "id": "r19lIPke_Zcu"
   },
   "outputs": [],
   "source": [
    "# группировка по жанру и подсчёт числа прослушиваний для Москвы\n",
    "moscow_genres = moscow_general.groupby('genre')['genre'].count().sort_values(ascending = False)"
   ]
  },
  {
   "cell_type": "markdown",
   "metadata": {
    "id": "6kMuomxTiIr8"
   },
   "source": [
    "Получаем следующий Топ-10 жанров для Москвы:"
   ]
  },
  {
   "cell_type": "code",
   "execution_count": 36,
   "metadata": {
    "id": "WhCSooF8_Zcv"
   },
   "outputs": [
    {
     "data": {
      "text/plain": [
       "genre\n",
       "pop            5892\n",
       "dance          4435\n",
       "rock           3965\n",
       "electronic     3786\n",
       "hiphop         2096\n",
       "classical      1616\n",
       "world          1432\n",
       "alternative    1379\n",
       "ruspop         1372\n",
       "rusrap         1161\n",
       "Name: genre, dtype: int64"
      ]
     },
     "execution_count": 36,
     "metadata": {},
     "output_type": "execute_result"
    }
   ],
   "source": [
    "# просмотр первых 10 строк moscow_genres\n",
    "moscow_genres.head(10)"
   ]
  },
  {
   "cell_type": "markdown",
   "metadata": {
    "id": "cnPG2vnN_Zcv"
   },
   "source": [
    "Теперь повторим то же и для Петербурга.\n"
   ]
  },
  {
   "cell_type": "code",
   "execution_count": 37,
   "metadata": {
    "id": "gluLIpE7_Zcv"
   },
   "outputs": [],
   "source": [
    "# группировка по жанру и подсчёт числа прослушиваний для Санкт-Петербурга\n",
    "spb_genres = spb_general.groupby('genre')['genre'].count().sort_values(ascending = False)"
   ]
  },
  {
   "cell_type": "markdown",
   "metadata": {
    "id": "5Doha_ODgyQ8"
   },
   "source": [
    "Выведите на Получаем следующий Топ-10 жанров для Санкт-Петербурга:"
   ]
  },
  {
   "cell_type": "code",
   "execution_count": 38,
   "metadata": {
    "id": "uaGJHjVU_Zcv"
   },
   "outputs": [
    {
     "data": {
      "text/plain": [
       "genre\n",
       "pop            2431\n",
       "dance          1932\n",
       "rock           1879\n",
       "electronic     1736\n",
       "hiphop          960\n",
       "alternative     649\n",
       "classical       646\n",
       "rusrap          564\n",
       "ruspop          538\n",
       "world           515\n",
       "Name: genre, dtype: int64"
      ]
     },
     "execution_count": 38,
     "metadata": {},
     "output_type": "execute_result"
    }
   ],
   "source": [
    "# просмотр первых 10 строк spb_genres\n",
    "spb_genres.head(10)"
   ]
  },
  {
   "cell_type": "markdown",
   "metadata": {
    "id": "RY51YJYu_Zcv"
   },
   "source": [
    "**Выводы**"
   ]
  },
  {
   "cell_type": "markdown",
   "metadata": {
    "id": "nVhnJEm__Zcv"
   },
   "source": [
    "Гипотеза частично подтвердилась:\n",
    "* Поп-музыка — самый популярный жанр в Москве, как и предполагала гипотеза. Более того, в топ-10 жанров встречается близкий жанр — русская популярная музыка.\n",
    "* Вопреки ожиданиям, рэп одинаково популярен в Москве и Петербурге. \n"
   ]
  },
  {
   "cell_type": "markdown",
   "metadata": {
    "id": "ykKQ0N65_Zcv"
   },
   "source": [
    "## Итоги исследования"
   ]
  },
  {
   "cell_type": "markdown",
   "metadata": {
    "id": "tjUwbHb3_Zcv"
   },
   "source": [
    "Мы проверили три гипотезы и установили:\n",
    "\n",
    "1. День недели по-разному влияет на активность пользователей в Москве и Петербурге. \n",
    "\n",
    "Первая гипотеза полностью подтвердилась.\n",
    "\n",
    "2. Музыкальные предпочтения не сильно меняются в течение недели — будь то Москва или Петербург. Небольшие различия заметны в начале недели, по понедельникам:\n",
    "* в Москве слушают музыку жанра “world”,\n",
    "* в Петербурге — джаз и классику.\n",
    "\n",
    "Таким образом, вторая гипотеза подтвердилась лишь отчасти. Этот результат мог оказаться иным, если бы не пропуски в данных.\n",
    "\n",
    "3. Во вкусах пользователей Москвы и Петербурга больше общего чем различий. Вопреки ожиданиям, предпочтения жанров в Петербурге напоминают московские.\n",
    "\n",
    "Третья гипотеза не подтвердилась. Если различия в предпочтениях и существуют, на основной массе пользователей они незаметны.\n"
   ]
  }
 ],
 "metadata": {
  "ExecuteTimeLog": [
   {
    "duration": 429,
    "start_time": "2021-11-11T18:48:54.909Z"
   },
   {
    "duration": 355,
    "start_time": "2021-11-11T18:49:37.813Z"
   },
   {
    "duration": 879,
    "start_time": "2021-11-11T19:17:29.966Z"
   },
   {
    "duration": 187,
    "start_time": "2021-11-11T19:17:33.483Z"
   },
   {
    "duration": 10,
    "start_time": "2021-11-11T19:17:37.140Z"
   },
   {
    "duration": 31,
    "start_time": "2021-11-11T19:19:03.438Z"
   },
   {
    "duration": 480,
    "start_time": "2021-11-11T19:28:52.601Z"
   },
   {
    "duration": 12,
    "start_time": "2021-11-11T19:29:26.967Z"
   },
   {
    "duration": 41,
    "start_time": "2021-11-11T19:32:11.335Z"
   },
   {
    "duration": 5,
    "start_time": "2021-11-11T19:32:42.717Z"
   },
   {
    "duration": 39,
    "start_time": "2021-11-11T19:33:30.107Z"
   },
   {
    "duration": 5,
    "start_time": "2021-11-11T19:33:50.015Z"
   },
   {
    "duration": 22,
    "start_time": "2021-11-11T19:37:38.637Z"
   },
   {
    "duration": 23,
    "start_time": "2021-11-11T19:37:53.565Z"
   },
   {
    "duration": 5,
    "start_time": "2021-11-11T19:38:02.573Z"
   },
   {
    "duration": 29,
    "start_time": "2021-11-11T19:39:22.190Z"
   },
   {
    "duration": 23,
    "start_time": "2021-11-11T19:45:30.905Z"
   },
   {
    "duration": 31,
    "start_time": "2021-11-11T19:45:52.422Z"
   },
   {
    "duration": 79,
    "start_time": "2021-11-11T19:46:58.739Z"
   },
   {
    "duration": 85,
    "start_time": "2021-11-11T19:50:47.001Z"
   },
   {
    "duration": 72,
    "start_time": "2021-11-11T19:51:03.086Z"
   },
   {
    "duration": 9,
    "start_time": "2021-11-11T20:01:48.962Z"
   },
   {
    "duration": 375,
    "start_time": "2021-11-11T20:03:58.162Z"
   },
   {
    "duration": 9,
    "start_time": "2021-11-11T20:05:02.735Z"
   },
   {
    "duration": 362,
    "start_time": "2021-11-11T20:13:19.633Z"
   },
   {
    "duration": 378,
    "start_time": "2021-11-11T20:14:20.484Z"
   },
   {
    "duration": 10,
    "start_time": "2021-11-11T20:14:36.124Z"
   },
   {
    "duration": 4,
    "start_time": "2021-11-11T20:20:26.814Z"
   },
   {
    "duration": 42,
    "start_time": "2021-11-11T20:22:19.132Z"
   },
   {
    "duration": 10,
    "start_time": "2021-11-11T20:22:46.011Z"
   },
   {
    "duration": 14,
    "start_time": "2021-11-11T20:26:06.227Z"
   },
   {
    "duration": 10,
    "start_time": "2021-11-11T20:26:11.081Z"
   },
   {
    "duration": 283,
    "start_time": "2021-11-15T08:09:09.378Z"
   },
   {
    "duration": 263,
    "start_time": "2021-11-15T08:09:27.223Z"
   },
   {
    "duration": 660,
    "start_time": "2021-11-15T08:15:01.367Z"
   },
   {
    "duration": 151,
    "start_time": "2021-11-15T08:15:05.838Z"
   },
   {
    "duration": 8,
    "start_time": "2021-11-15T08:15:12.364Z"
   },
   {
    "duration": 25,
    "start_time": "2021-11-15T08:15:24.681Z"
   },
   {
    "duration": 8,
    "start_time": "2021-11-15T08:15:29.523Z"
   },
   {
    "duration": 596,
    "start_time": "2021-11-15T08:16:12.061Z"
   },
   {
    "duration": 138,
    "start_time": "2021-11-15T08:16:12.659Z"
   },
   {
    "duration": 7,
    "start_time": "2021-11-15T08:16:12.799Z"
   },
   {
    "duration": 29,
    "start_time": "2021-11-15T08:16:12.808Z"
   },
   {
    "duration": 8,
    "start_time": "2021-11-15T08:16:12.839Z"
   },
   {
    "duration": 34,
    "start_time": "2021-11-15T08:16:12.848Z"
   },
   {
    "duration": 3,
    "start_time": "2021-11-15T08:16:12.884Z"
   },
   {
    "duration": 28,
    "start_time": "2021-11-15T08:16:12.890Z"
   },
   {
    "duration": 18,
    "start_time": "2021-11-15T08:16:12.920Z"
   },
   {
    "duration": 41,
    "start_time": "2021-11-15T08:16:12.940Z"
   },
   {
    "duration": 63,
    "start_time": "2021-11-15T08:16:12.982Z"
   },
   {
    "duration": 95,
    "start_time": "2021-11-15T08:16:13.047Z"
   },
   {
    "duration": 66,
    "start_time": "2021-11-15T08:16:13.144Z"
   },
   {
    "duration": 9,
    "start_time": "2021-11-15T08:16:13.212Z"
   },
   {
    "duration": 3,
    "start_time": "2021-11-15T08:16:13.223Z"
   },
   {
    "duration": 12,
    "start_time": "2021-11-15T08:16:13.228Z"
   },
   {
    "duration": 27,
    "start_time": "2021-11-15T08:16:13.241Z"
   },
   {
    "duration": 4,
    "start_time": "2021-11-15T08:16:13.270Z"
   },
   {
    "duration": 6,
    "start_time": "2021-11-15T08:16:13.275Z"
   },
   {
    "duration": 6,
    "start_time": "2021-11-15T08:16:13.282Z"
   },
   {
    "duration": 11,
    "start_time": "2021-11-15T08:16:13.289Z"
   },
   {
    "duration": 17,
    "start_time": "2021-11-15T08:16:13.301Z"
   },
   {
    "duration": 9,
    "start_time": "2021-11-15T08:16:13.321Z"
   },
   {
    "duration": 9,
    "start_time": "2021-11-15T08:16:13.331Z"
   },
   {
    "duration": 17,
    "start_time": "2021-11-15T08:16:13.341Z"
   },
   {
    "duration": 14,
    "start_time": "2021-11-15T08:16:13.360Z"
   },
   {
    "duration": 14,
    "start_time": "2021-11-15T08:16:13.376Z"
   },
   {
    "duration": 9,
    "start_time": "2021-11-15T08:16:13.391Z"
   },
   {
    "duration": 8,
    "start_time": "2021-11-15T08:16:13.402Z"
   },
   {
    "duration": 9,
    "start_time": "2021-11-15T08:16:13.411Z"
   },
   {
    "duration": 14,
    "start_time": "2021-11-15T08:16:13.422Z"
   },
   {
    "duration": 15,
    "start_time": "2021-11-15T08:16:13.438Z"
   },
   {
    "duration": 19,
    "start_time": "2021-11-15T08:16:13.455Z"
   },
   {
    "duration": 8,
    "start_time": "2021-11-15T08:16:13.476Z"
   },
   {
    "duration": 14,
    "start_time": "2021-11-15T08:16:13.486Z"
   },
   {
    "duration": 8,
    "start_time": "2021-11-15T08:16:13.502Z"
   },
   {
    "duration": 16,
    "start_time": "2021-11-15T08:16:13.512Z"
   },
   {
    "duration": 15,
    "start_time": "2021-11-15T08:16:13.530Z"
   },
   {
    "duration": 3,
    "start_time": "2021-11-15T08:16:22.601Z"
   },
   {
    "duration": 3,
    "start_time": "2021-11-15T08:17:29.409Z"
   },
   {
    "duration": 20,
    "start_time": "2021-11-15T08:26:36.211Z"
   },
   {
    "duration": 23,
    "start_time": "2021-11-15T08:27:01.909Z"
   },
   {
    "duration": 23,
    "start_time": "2021-11-15T08:27:22.944Z"
   },
   {
    "duration": 28,
    "start_time": "2021-11-15T08:28:24.727Z"
   },
   {
    "duration": 26,
    "start_time": "2021-11-15T08:30:27.279Z"
   },
   {
    "duration": 26,
    "start_time": "2021-11-15T08:30:31.459Z"
   },
   {
    "duration": 48,
    "start_time": "2021-11-15T08:34:37.592Z"
   },
   {
    "duration": 4,
    "start_time": "2021-11-15T08:50:02.390Z"
   },
   {
    "duration": 3797,
    "start_time": "2021-11-15T08:51:23.792Z"
   },
   {
    "duration": 3,
    "start_time": "2021-11-15T09:04:06.141Z"
   },
   {
    "duration": 17,
    "start_time": "2021-11-15T09:04:09.829Z"
   },
   {
    "duration": 16,
    "start_time": "2021-11-15T09:04:45.253Z"
   },
   {
    "duration": 17,
    "start_time": "2021-11-15T09:05:08.346Z"
   },
   {
    "duration": 17,
    "start_time": "2021-11-15T09:05:26.553Z"
   },
   {
    "duration": 19,
    "start_time": "2021-11-15T09:05:49.295Z"
   },
   {
    "duration": 15,
    "start_time": "2021-11-15T09:06:09.119Z"
   },
   {
    "duration": 10,
    "start_time": "2021-11-15T09:12:43.841Z"
   },
   {
    "duration": 12,
    "start_time": "2021-11-15T09:15:41.964Z"
   },
   {
    "duration": 10,
    "start_time": "2021-11-15T09:15:44.529Z"
   },
   {
    "duration": 5,
    "start_time": "2021-11-15T09:38:15.653Z"
   },
   {
    "duration": 18,
    "start_time": "2021-11-15T09:41:19.932Z"
   },
   {
    "duration": 14,
    "start_time": "2021-11-15T09:41:51.637Z"
   },
   {
    "duration": 19,
    "start_time": "2021-11-15T09:42:41.736Z"
   },
   {
    "duration": 19,
    "start_time": "2021-11-15T09:43:02.313Z"
   },
   {
    "duration": 18,
    "start_time": "2021-11-15T09:43:22.873Z"
   },
   {
    "duration": 10,
    "start_time": "2021-11-15T09:48:19.148Z"
   },
   {
    "duration": 5,
    "start_time": "2021-11-15T09:48:45.707Z"
   },
   {
    "duration": 6,
    "start_time": "2021-11-15T09:49:18.302Z"
   },
   {
    "duration": 5,
    "start_time": "2021-11-15T09:49:36.437Z"
   },
   {
    "duration": 403,
    "start_time": "2021-11-15T16:50:04.593Z"
   },
   {
    "duration": 667,
    "start_time": "2021-11-15T16:50:17.888Z"
   },
   {
    "duration": 142,
    "start_time": "2021-11-15T16:50:18.557Z"
   },
   {
    "duration": 8,
    "start_time": "2021-11-15T16:50:18.708Z"
   },
   {
    "duration": 34,
    "start_time": "2021-11-15T16:50:18.718Z"
   },
   {
    "duration": 9,
    "start_time": "2021-11-15T16:50:18.754Z"
   },
   {
    "duration": 41,
    "start_time": "2021-11-15T16:50:18.765Z"
   },
   {
    "duration": 8,
    "start_time": "2021-11-15T16:50:18.809Z"
   },
   {
    "duration": 57,
    "start_time": "2021-11-15T16:50:18.819Z"
   },
   {
    "duration": 41,
    "start_time": "2021-11-15T16:50:18.877Z"
   },
   {
    "duration": 46,
    "start_time": "2021-11-15T16:50:18.919Z"
   },
   {
    "duration": 101,
    "start_time": "2021-11-15T16:50:18.966Z"
   },
   {
    "duration": 76,
    "start_time": "2021-11-15T16:50:19.069Z"
   },
   {
    "duration": 62,
    "start_time": "2021-11-15T16:50:19.147Z"
   },
   {
    "duration": 471,
    "start_time": "2021-11-15T16:50:19.210Z"
   },
   {
    "duration": -2578,
    "start_time": "2021-11-15T16:50:22.262Z"
   },
   {
    "duration": -2581,
    "start_time": "2021-11-15T16:50:22.266Z"
   },
   {
    "duration": -2583,
    "start_time": "2021-11-15T16:50:22.269Z"
   },
   {
    "duration": -2593,
    "start_time": "2021-11-15T16:50:22.280Z"
   },
   {
    "duration": -2595,
    "start_time": "2021-11-15T16:50:22.283Z"
   },
   {
    "duration": -2598,
    "start_time": "2021-11-15T16:50:22.286Z"
   },
   {
    "duration": -2600,
    "start_time": "2021-11-15T16:50:22.289Z"
   },
   {
    "duration": -2604,
    "start_time": "2021-11-15T16:50:22.294Z"
   },
   {
    "duration": -2606,
    "start_time": "2021-11-15T16:50:22.297Z"
   },
   {
    "duration": -2608,
    "start_time": "2021-11-15T16:50:22.300Z"
   },
   {
    "duration": -2610,
    "start_time": "2021-11-15T16:50:22.303Z"
   },
   {
    "duration": -2614,
    "start_time": "2021-11-15T16:50:22.307Z"
   },
   {
    "duration": -2616,
    "start_time": "2021-11-15T16:50:22.310Z"
   },
   {
    "duration": -2618,
    "start_time": "2021-11-15T16:50:22.313Z"
   },
   {
    "duration": -2625,
    "start_time": "2021-11-15T16:50:22.321Z"
   },
   {
    "duration": -2628,
    "start_time": "2021-11-15T16:50:22.325Z"
   },
   {
    "duration": -2629,
    "start_time": "2021-11-15T16:50:22.327Z"
   },
   {
    "duration": -2632,
    "start_time": "2021-11-15T16:50:22.330Z"
   },
   {
    "duration": -2635,
    "start_time": "2021-11-15T16:50:22.334Z"
   },
   {
    "duration": -2637,
    "start_time": "2021-11-15T16:50:22.337Z"
   },
   {
    "duration": -2639,
    "start_time": "2021-11-15T16:50:22.340Z"
   },
   {
    "duration": -2641,
    "start_time": "2021-11-15T16:50:22.343Z"
   },
   {
    "duration": -2643,
    "start_time": "2021-11-15T16:50:22.346Z"
   },
   {
    "duration": -2645,
    "start_time": "2021-11-15T16:50:22.349Z"
   },
   {
    "duration": 7,
    "start_time": "2021-11-15T16:51:39.152Z"
   },
   {
    "duration": 42,
    "start_time": "2021-11-15T16:57:41.667Z"
   },
   {
    "duration": 122,
    "start_time": "2021-11-15T17:02:58.282Z"
   },
   {
    "duration": 172,
    "start_time": "2021-11-15T17:03:48.910Z"
   },
   {
    "duration": 133,
    "start_time": "2021-11-15T17:03:58.817Z"
   },
   {
    "duration": 23,
    "start_time": "2021-11-15T17:11:27.080Z"
   },
   {
    "duration": 31,
    "start_time": "2021-11-15T17:18:51.134Z"
   },
   {
    "duration": 31,
    "start_time": "2021-11-15T17:19:07.355Z"
   },
   {
    "duration": 10,
    "start_time": "2021-11-15T17:19:37.510Z"
   },
   {
    "duration": 34,
    "start_time": "2021-11-15T17:24:05.482Z"
   },
   {
    "duration": 15,
    "start_time": "2021-11-15T17:24:32.303Z"
   },
   {
    "duration": 119,
    "start_time": "2021-11-15T17:27:04.862Z"
   },
   {
    "duration": 10,
    "start_time": "2021-11-15T17:28:01.169Z"
   },
   {
    "duration": 457,
    "start_time": "2021-11-15T17:32:51.465Z"
   },
   {
    "duration": 389,
    "start_time": "2021-11-15T17:35:10.837Z"
   },
   {
    "duration": 3,
    "start_time": "2021-11-15T17:35:26.682Z"
   },
   {
    "duration": 16,
    "start_time": "2021-11-15T17:35:30.003Z"
   },
   {
    "duration": 71,
    "start_time": "2021-11-15T17:35:38.060Z"
   },
   {
    "duration": 343,
    "start_time": "2021-11-15T17:36:56.681Z"
   },
   {
    "duration": 533,
    "start_time": "2023-04-26T18:14:21.149Z"
   },
   {
    "duration": 517,
    "start_time": "2023-04-26T18:14:21.684Z"
   },
   {
    "duration": 9,
    "start_time": "2023-04-26T18:14:22.203Z"
   },
   {
    "duration": 41,
    "start_time": "2023-04-26T18:14:22.215Z"
   },
   {
    "duration": 10,
    "start_time": "2023-04-26T18:14:22.258Z"
   },
   {
    "duration": 23,
    "start_time": "2023-04-26T18:14:22.270Z"
   },
   {
    "duration": 5,
    "start_time": "2023-04-26T18:14:22.295Z"
   },
   {
    "duration": 27,
    "start_time": "2023-04-26T18:14:22.302Z"
   },
   {
    "duration": 20,
    "start_time": "2023-04-26T18:14:22.331Z"
   },
   {
    "duration": 45,
    "start_time": "2023-04-26T18:14:22.354Z"
   },
   {
    "duration": 89,
    "start_time": "2023-04-26T18:14:22.401Z"
   },
   {
    "duration": 110,
    "start_time": "2023-04-26T18:14:22.492Z"
   },
   {
    "duration": 98,
    "start_time": "2023-04-26T18:14:22.603Z"
   },
   {
    "duration": 68,
    "start_time": "2023-04-26T18:14:22.703Z"
   },
   {
    "duration": 20,
    "start_time": "2023-04-26T18:14:22.773Z"
   },
   {
    "duration": 12,
    "start_time": "2023-04-26T18:14:22.795Z"
   },
   {
    "duration": 15,
    "start_time": "2023-04-26T18:14:22.810Z"
   },
   {
    "duration": 17,
    "start_time": "2023-04-26T18:14:22.827Z"
   },
   {
    "duration": 14,
    "start_time": "2023-04-26T18:14:22.846Z"
   },
   {
    "duration": 31,
    "start_time": "2023-04-26T18:14:22.861Z"
   },
   {
    "duration": 22,
    "start_time": "2023-04-26T18:14:22.894Z"
   },
   {
    "duration": 18,
    "start_time": "2023-04-26T18:14:22.918Z"
   },
   {
    "duration": 51,
    "start_time": "2023-04-26T18:14:22.939Z"
   },
   {
    "duration": 25,
    "start_time": "2023-04-26T18:14:22.992Z"
   },
   {
    "duration": 18,
    "start_time": "2023-04-26T18:14:23.019Z"
   },
   {
    "duration": 21,
    "start_time": "2023-04-26T18:14:23.039Z"
   },
   {
    "duration": 82,
    "start_time": "2023-04-26T18:14:23.088Z"
   },
   {
    "duration": 25,
    "start_time": "2023-04-26T18:14:23.173Z"
   },
   {
    "duration": 17,
    "start_time": "2023-04-26T18:14:23.200Z"
   },
   {
    "duration": 6,
    "start_time": "2023-04-26T18:14:23.220Z"
   },
   {
    "duration": 43,
    "start_time": "2023-04-26T18:14:23.229Z"
   },
   {
    "duration": 22,
    "start_time": "2023-04-26T18:14:23.274Z"
   },
   {
    "duration": 22,
    "start_time": "2023-04-26T18:14:23.298Z"
   },
   {
    "duration": 25,
    "start_time": "2023-04-26T18:14:23.323Z"
   },
   {
    "duration": 10,
    "start_time": "2023-04-26T18:14:23.350Z"
   },
   {
    "duration": 29,
    "start_time": "2023-04-26T18:14:23.362Z"
   },
   {
    "duration": 12,
    "start_time": "2023-04-26T18:14:23.394Z"
   },
   {
    "duration": 58,
    "start_time": "2023-04-26T18:14:23.409Z"
   },
   {
    "duration": 421,
    "start_time": "2023-04-26T18:27:57.446Z"
   },
   {
    "duration": 205,
    "start_time": "2023-04-26T18:27:57.870Z"
   },
   {
    "duration": 25,
    "start_time": "2023-04-26T18:27:58.078Z"
   },
   {
    "duration": 35,
    "start_time": "2023-04-26T18:27:58.106Z"
   },
   {
    "duration": 6,
    "start_time": "2023-04-26T18:27:58.144Z"
   },
   {
    "duration": 42,
    "start_time": "2023-04-26T18:27:58.153Z"
   },
   {
    "duration": 20,
    "start_time": "2023-04-26T18:27:58.198Z"
   },
   {
    "duration": 27,
    "start_time": "2023-04-26T18:27:58.219Z"
   },
   {
    "duration": 26,
    "start_time": "2023-04-26T18:27:58.248Z"
   },
   {
    "duration": 27,
    "start_time": "2023-04-26T18:27:58.288Z"
   },
   {
    "duration": 87,
    "start_time": "2023-04-26T18:27:58.317Z"
   },
   {
    "duration": 123,
    "start_time": "2023-04-26T18:27:58.406Z"
   },
   {
    "duration": 87,
    "start_time": "2023-04-26T18:27:58.531Z"
   },
   {
    "duration": 42,
    "start_time": "2023-04-26T18:27:58.620Z"
   },
   {
    "duration": 4,
    "start_time": "2023-04-26T18:27:58.663Z"
   },
   {
    "duration": 11,
    "start_time": "2023-04-26T18:27:58.688Z"
   },
   {
    "duration": 27,
    "start_time": "2023-04-26T18:27:58.701Z"
   },
   {
    "duration": 19,
    "start_time": "2023-04-26T18:27:58.730Z"
   },
   {
    "duration": 12,
    "start_time": "2023-04-26T18:27:58.751Z"
   },
   {
    "duration": 4,
    "start_time": "2023-04-26T18:27:58.766Z"
   },
   {
    "duration": 19,
    "start_time": "2023-04-26T18:27:58.788Z"
   },
   {
    "duration": 20,
    "start_time": "2023-04-26T18:27:58.810Z"
   },
   {
    "duration": 17,
    "start_time": "2023-04-26T18:27:58.832Z"
   },
   {
    "duration": 45,
    "start_time": "2023-04-26T18:27:58.851Z"
   },
   {
    "duration": 23,
    "start_time": "2023-04-26T18:27:58.898Z"
   },
   {
    "duration": 23,
    "start_time": "2023-04-26T18:27:58.923Z"
   },
   {
    "duration": 127,
    "start_time": "2023-04-26T18:27:58.948Z"
   },
   {
    "duration": 20,
    "start_time": "2023-04-26T18:27:59.078Z"
   },
   {
    "duration": 15,
    "start_time": "2023-04-26T18:27:59.101Z"
   },
   {
    "duration": 7,
    "start_time": "2023-04-26T18:27:59.118Z"
   },
   {
    "duration": 22,
    "start_time": "2023-04-26T18:27:59.126Z"
   },
   {
    "duration": 44,
    "start_time": "2023-04-26T18:27:59.150Z"
   },
   {
    "duration": 20,
    "start_time": "2023-04-26T18:27:59.196Z"
   },
   {
    "duration": 15,
    "start_time": "2023-04-26T18:27:59.217Z"
   },
   {
    "duration": 11,
    "start_time": "2023-04-26T18:27:59.235Z"
   },
   {
    "duration": 46,
    "start_time": "2023-04-26T18:27:59.248Z"
   },
   {
    "duration": 11,
    "start_time": "2023-04-26T18:27:59.296Z"
   },
   {
    "duration": 5,
    "start_time": "2023-04-26T18:27:59.309Z"
   }
  ],
  "colab": {
   "collapsed_sections": [
    "E0vqbgi9ay0H",
    "VUC88oWjTJw2"
   ],
   "name": "yandex_music_project_2021.2.ipynb",
   "provenance": []
  },
  "kernelspec": {
   "display_name": "Python 3 (ipykernel)",
   "language": "python",
   "name": "python3"
  },
  "language_info": {
   "codemirror_mode": {
    "name": "ipython",
    "version": 3
   },
   "file_extension": ".py",
   "mimetype": "text/x-python",
   "name": "python",
   "nbconvert_exporter": "python",
   "pygments_lexer": "ipython3",
   "version": "3.10.9"
  },
  "toc": {
   "base_numbering": 1,
   "nav_menu": {},
   "number_sections": true,
   "sideBar": true,
   "skip_h1_title": true,
   "title_cell": "Table of Contents",
   "title_sidebar": "Contents",
   "toc_cell": false,
   "toc_position": {},
   "toc_section_display": true,
   "toc_window_display": true
  }
 },
 "nbformat": 4,
 "nbformat_minor": 1
}
