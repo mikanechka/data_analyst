{
 "cells": [
  {
   "cell_type": "markdown",
   "metadata": {},
   "source": [
    "# Определение выгодного тарифа для телеком компании\n",
    "\n",
    "В нашем распоряжении данные 500 пользователей федерального оператора сотовой связи «Мегалайна»: кто они, откуда, каким тарифом пользуются, сколько звонков и сообщений каждый отправил за 2018 год. Клиентам предлагают два тарифных плана: «Смарт» и «Ультра».\n",
    "\n",
    "**Цель исследования** - проанализировать поведение клиентов и сделать вывод о перспективности одного из существующих тарифов для коррекции рекламного бюджета."
   ]
  },
  {
   "cell_type": "markdown",
   "metadata": {},
   "source": [
    "**Описание тарифов**\n",
    "\n",
    "Тариф «Смарт»\n",
    "\n",
    "- Ежемесячная плата: 550 рублей\n",
    "- Включено 500 минут разговора, 50 сообщений и 15 Гб интернет-трафика\n",
    "- Стоимость услуг сверх тарифного пакета: \n",
    "1. минута разговора: 3 рубля («Мегалайн» всегда округляет вверх значения минут и мегабайтов. Если пользователь проговорил всего 1 секунду, в тарифе засчитывается целая минута); \n",
    "2. сообщение: 3 рубля; \n",
    "3. 1 Гб интернет-трафика: 200 рублей.\n",
    "\n",
    "Тариф «Ультра»\n",
    "\n",
    "- Ежемесячная плата: 1950 рублей\n",
    "- Включено 3000 минут разговора, 1000 сообщений и 30 Гб интернет-трафика\n",
    "- Стоимость услуг сверх тарифного пакета: \n",
    "1. минута разговора: 1 рубль; \n",
    "2. сообщение: 1 рубль; \n",
    "3. 1 Гб интернет-трафика: 150 рублей."
   ]
  },
  {
   "cell_type": "markdown",
   "metadata": {},
   "source": [
    "**Описание данных**\n",
    "\n",
    "Таблица users (информация о пользователях):\n",
    "\n",
    "- user_id — уникальный идентификатор пользователя\n",
    "- first_name — имя пользователя\n",
    "- last_name — фамилия пользователя\n",
    "- age — возраст пользователя (годы)\n",
    "- reg_date — дата подключения тарифа (день, месяц, год)\n",
    "- churn_date — дата прекращения пользования тарифом (если значение пропущено, то тариф ещё действовал на момент выгрузки данных)\n",
    "- city — город проживания пользователя\n",
    "- tarif — название тарифного плана\n",
    "\n",
    "Таблица calls (информация о звонках):\n",
    "\n",
    "- id — уникальный номер звонка\n",
    "- call_date — дата звонка\n",
    "- duration — длительность звонка в минутах\n",
    "- user_id — идентификатор пользователя, сделавшего звонок\n",
    "\n",
    "Таблица messages (информация о сообщениях):\n",
    "\n",
    "- id — уникальный номер сообщения\n",
    "- message_date — дата сообщения\n",
    "- user_id — идентификатор пользователя, отправившего сообщение\n",
    "\n",
    "Таблица internet (информация об интернет-сессиях):\n",
    "\n",
    "- id — уникальный номер сессии\n",
    "- mb_used — объём потраченного за сессию интернет-трафика (в мегабайтах)\n",
    "- session_date — дата интернет-сессии\n",
    "- user_id — идентификатор пользователя\n",
    "\n",
    "Таблица tariffs (информация о тарифах):\n",
    "\n",
    "- tariff_name — название тарифа\n",
    "- rub_monthly_fee — ежемесячная абонентская плата в рублях\n",
    "- minutes_included — количество минут разговора в месяц, включённых в абонентскую плату\n",
    "- messages_included — количество сообщений в месяц, включённых в абонентскую плату\n",
    "- mb_per_month_included — объём интернет-трафика, включённого в абонентскую плату (в мегабайтах)\n",
    "- rub_per_minute — стоимость минуты разговора сверх тарифного пакета (например, если в тарифе 100 минут разговора в месяц, то со 101 минуты будет взиматься плата)\n",
    "- rub_per_message — стоимость отправки сообщения сверх тарифного пакета\n",
    "- rub_per_gb — стоимость дополнительного гигабайта интернет-трафика сверх тарифного пакета (1 гигабайт = 1024 мегабайта)"
   ]
  },
  {
   "cell_type": "markdown",
   "metadata": {},
   "source": [
    "## Изучение общей информации"
   ]
  },
  {
   "cell_type": "markdown",
   "metadata": {},
   "source": [
    "Откроем файлы с данными и изучим общую информацию."
   ]
  },
  {
   "cell_type": "code",
   "execution_count": 1,
   "metadata": {},
   "outputs": [],
   "source": [
    "import pandas as pd #импортируем необходимые в рамках исследования библиотеки\n",
    "import numpy as np\n",
    "from scipy import stats as st\n",
    "import math as mt\n",
    "import matplotlib.pyplot as plt\n",
    "import warnings\n",
    "warnings.filterwarnings('ignore')"
   ]
  },
  {
   "cell_type": "code",
   "execution_count": 2,
   "metadata": {},
   "outputs": [],
   "source": [
    "users = pd.read_csv('') #выгрузим необходимые датасеты\n",
    "calls = pd.read_csv('')\n",
    "messages = pd.read_csv('')\n",
    "internet = pd.read_csv('')\n",
    "tariffs = pd.read_csv('')"
   ]
  },
  {
   "cell_type": "markdown",
   "metadata": {},
   "source": [
    "Поскольку в рамках анализа необходимо ознакомиться с несколькими датасетами, создадим функцию для вывода общей информации: это позволит избавиться от повторов и сократить код."
   ]
  },
  {
   "cell_type": "code",
   "execution_count": 3,
   "metadata": {},
   "outputs": [],
   "source": [
    "def background(data):\n",
    "    display(data.columns, data.head(), data.describe())\n",
    "    print()\n",
    "    display(data.info())"
   ]
  },
  {
   "cell_type": "code",
   "execution_count": 4,
   "metadata": {},
   "outputs": [
    {
     "data": {
      "text/plain": [
       "Index(['user_id', 'age', 'churn_date', 'city', 'first_name', 'last_name',\n",
       "       'reg_date', 'tariff'],\n",
       "      dtype='object')"
      ]
     },
     "metadata": {},
     "output_type": "display_data"
    },
    {
     "data": {
      "text/html": [
       "<div>\n",
       "<style scoped>\n",
       "    .dataframe tbody tr th:only-of-type {\n",
       "        vertical-align: middle;\n",
       "    }\n",
       "\n",
       "    .dataframe tbody tr th {\n",
       "        vertical-align: top;\n",
       "    }\n",
       "\n",
       "    .dataframe thead th {\n",
       "        text-align: right;\n",
       "    }\n",
       "</style>\n",
       "<table border=\"1\" class=\"dataframe\">\n",
       "  <thead>\n",
       "    <tr style=\"text-align: right;\">\n",
       "      <th></th>\n",
       "      <th>user_id</th>\n",
       "      <th>age</th>\n",
       "      <th>churn_date</th>\n",
       "      <th>city</th>\n",
       "      <th>first_name</th>\n",
       "      <th>last_name</th>\n",
       "      <th>reg_date</th>\n",
       "      <th>tariff</th>\n",
       "    </tr>\n",
       "  </thead>\n",
       "  <tbody>\n",
       "    <tr>\n",
       "      <td>0</td>\n",
       "      <td>1000</td>\n",
       "      <td>52</td>\n",
       "      <td>NaN</td>\n",
       "      <td>Краснодар</td>\n",
       "      <td>Рафаил</td>\n",
       "      <td>Верещагин</td>\n",
       "      <td>2018-05-25</td>\n",
       "      <td>ultra</td>\n",
       "    </tr>\n",
       "    <tr>\n",
       "      <td>1</td>\n",
       "      <td>1001</td>\n",
       "      <td>41</td>\n",
       "      <td>NaN</td>\n",
       "      <td>Москва</td>\n",
       "      <td>Иван</td>\n",
       "      <td>Ежов</td>\n",
       "      <td>2018-11-01</td>\n",
       "      <td>smart</td>\n",
       "    </tr>\n",
       "    <tr>\n",
       "      <td>2</td>\n",
       "      <td>1002</td>\n",
       "      <td>59</td>\n",
       "      <td>NaN</td>\n",
       "      <td>Стерлитамак</td>\n",
       "      <td>Евгений</td>\n",
       "      <td>Абрамович</td>\n",
       "      <td>2018-06-17</td>\n",
       "      <td>smart</td>\n",
       "    </tr>\n",
       "    <tr>\n",
       "      <td>3</td>\n",
       "      <td>1003</td>\n",
       "      <td>23</td>\n",
       "      <td>NaN</td>\n",
       "      <td>Москва</td>\n",
       "      <td>Белла</td>\n",
       "      <td>Белякова</td>\n",
       "      <td>2018-08-17</td>\n",
       "      <td>ultra</td>\n",
       "    </tr>\n",
       "    <tr>\n",
       "      <td>4</td>\n",
       "      <td>1004</td>\n",
       "      <td>68</td>\n",
       "      <td>NaN</td>\n",
       "      <td>Новокузнецк</td>\n",
       "      <td>Татьяна</td>\n",
       "      <td>Авдеенко</td>\n",
       "      <td>2018-05-14</td>\n",
       "      <td>ultra</td>\n",
       "    </tr>\n",
       "  </tbody>\n",
       "</table>\n",
       "</div>"
      ],
      "text/plain": [
       "   user_id  age churn_date         city first_name  last_name    reg_date  \\\n",
       "0     1000   52        NaN    Краснодар     Рафаил  Верещагин  2018-05-25   \n",
       "1     1001   41        NaN       Москва       Иван       Ежов  2018-11-01   \n",
       "2     1002   59        NaN  Стерлитамак    Евгений  Абрамович  2018-06-17   \n",
       "3     1003   23        NaN       Москва      Белла   Белякова  2018-08-17   \n",
       "4     1004   68        NaN  Новокузнецк    Татьяна   Авдеенко  2018-05-14   \n",
       "\n",
       "  tariff  \n",
       "0  ultra  \n",
       "1  smart  \n",
       "2  smart  \n",
       "3  ultra  \n",
       "4  ultra  "
      ]
     },
     "metadata": {},
     "output_type": "display_data"
    },
    {
     "data": {
      "text/html": [
       "<div>\n",
       "<style scoped>\n",
       "    .dataframe tbody tr th:only-of-type {\n",
       "        vertical-align: middle;\n",
       "    }\n",
       "\n",
       "    .dataframe tbody tr th {\n",
       "        vertical-align: top;\n",
       "    }\n",
       "\n",
       "    .dataframe thead th {\n",
       "        text-align: right;\n",
       "    }\n",
       "</style>\n",
       "<table border=\"1\" class=\"dataframe\">\n",
       "  <thead>\n",
       "    <tr style=\"text-align: right;\">\n",
       "      <th></th>\n",
       "      <th>user_id</th>\n",
       "      <th>age</th>\n",
       "    </tr>\n",
       "  </thead>\n",
       "  <tbody>\n",
       "    <tr>\n",
       "      <td>count</td>\n",
       "      <td>500.000000</td>\n",
       "      <td>500.00000</td>\n",
       "    </tr>\n",
       "    <tr>\n",
       "      <td>mean</td>\n",
       "      <td>1249.500000</td>\n",
       "      <td>46.58800</td>\n",
       "    </tr>\n",
       "    <tr>\n",
       "      <td>std</td>\n",
       "      <td>144.481833</td>\n",
       "      <td>16.66763</td>\n",
       "    </tr>\n",
       "    <tr>\n",
       "      <td>min</td>\n",
       "      <td>1000.000000</td>\n",
       "      <td>18.00000</td>\n",
       "    </tr>\n",
       "    <tr>\n",
       "      <td>25%</td>\n",
       "      <td>1124.750000</td>\n",
       "      <td>32.00000</td>\n",
       "    </tr>\n",
       "    <tr>\n",
       "      <td>50%</td>\n",
       "      <td>1249.500000</td>\n",
       "      <td>46.00000</td>\n",
       "    </tr>\n",
       "    <tr>\n",
       "      <td>75%</td>\n",
       "      <td>1374.250000</td>\n",
       "      <td>62.00000</td>\n",
       "    </tr>\n",
       "    <tr>\n",
       "      <td>max</td>\n",
       "      <td>1499.000000</td>\n",
       "      <td>75.00000</td>\n",
       "    </tr>\n",
       "  </tbody>\n",
       "</table>\n",
       "</div>"
      ],
      "text/plain": [
       "           user_id        age\n",
       "count   500.000000  500.00000\n",
       "mean   1249.500000   46.58800\n",
       "std     144.481833   16.66763\n",
       "min    1000.000000   18.00000\n",
       "25%    1124.750000   32.00000\n",
       "50%    1249.500000   46.00000\n",
       "75%    1374.250000   62.00000\n",
       "max    1499.000000   75.00000"
      ]
     },
     "metadata": {},
     "output_type": "display_data"
    },
    {
     "name": "stdout",
     "output_type": "stream",
     "text": [
      "\n",
      "<class 'pandas.core.frame.DataFrame'>\n",
      "RangeIndex: 500 entries, 0 to 499\n",
      "Data columns (total 8 columns):\n",
      "user_id       500 non-null int64\n",
      "age           500 non-null int64\n",
      "churn_date    38 non-null object\n",
      "city          500 non-null object\n",
      "first_name    500 non-null object\n",
      "last_name     500 non-null object\n",
      "reg_date      500 non-null object\n",
      "tariff        500 non-null object\n",
      "dtypes: int64(2), object(6)\n",
      "memory usage: 31.4+ KB\n"
     ]
    },
    {
     "data": {
      "text/plain": [
       "None"
      ]
     },
     "metadata": {},
     "output_type": "display_data"
    }
   ],
   "source": [
    "background(users) #информация о пользователях"
   ]
  },
  {
   "cell_type": "code",
   "execution_count": 5,
   "metadata": {},
   "outputs": [
    {
     "data": {
      "text/plain": [
       "Index(['id', 'call_date', 'duration', 'user_id'], dtype='object')"
      ]
     },
     "metadata": {},
     "output_type": "display_data"
    },
    {
     "data": {
      "text/html": [
       "<div>\n",
       "<style scoped>\n",
       "    .dataframe tbody tr th:only-of-type {\n",
       "        vertical-align: middle;\n",
       "    }\n",
       "\n",
       "    .dataframe tbody tr th {\n",
       "        vertical-align: top;\n",
       "    }\n",
       "\n",
       "    .dataframe thead th {\n",
       "        text-align: right;\n",
       "    }\n",
       "</style>\n",
       "<table border=\"1\" class=\"dataframe\">\n",
       "  <thead>\n",
       "    <tr style=\"text-align: right;\">\n",
       "      <th></th>\n",
       "      <th>id</th>\n",
       "      <th>call_date</th>\n",
       "      <th>duration</th>\n",
       "      <th>user_id</th>\n",
       "    </tr>\n",
       "  </thead>\n",
       "  <tbody>\n",
       "    <tr>\n",
       "      <td>0</td>\n",
       "      <td>1000_0</td>\n",
       "      <td>2018-07-25</td>\n",
       "      <td>0.00</td>\n",
       "      <td>1000</td>\n",
       "    </tr>\n",
       "    <tr>\n",
       "      <td>1</td>\n",
       "      <td>1000_1</td>\n",
       "      <td>2018-08-17</td>\n",
       "      <td>0.00</td>\n",
       "      <td>1000</td>\n",
       "    </tr>\n",
       "    <tr>\n",
       "      <td>2</td>\n",
       "      <td>1000_2</td>\n",
       "      <td>2018-06-11</td>\n",
       "      <td>2.85</td>\n",
       "      <td>1000</td>\n",
       "    </tr>\n",
       "    <tr>\n",
       "      <td>3</td>\n",
       "      <td>1000_3</td>\n",
       "      <td>2018-09-21</td>\n",
       "      <td>13.80</td>\n",
       "      <td>1000</td>\n",
       "    </tr>\n",
       "    <tr>\n",
       "      <td>4</td>\n",
       "      <td>1000_4</td>\n",
       "      <td>2018-12-15</td>\n",
       "      <td>5.18</td>\n",
       "      <td>1000</td>\n",
       "    </tr>\n",
       "  </tbody>\n",
       "</table>\n",
       "</div>"
      ],
      "text/plain": [
       "       id   call_date  duration  user_id\n",
       "0  1000_0  2018-07-25      0.00     1000\n",
       "1  1000_1  2018-08-17      0.00     1000\n",
       "2  1000_2  2018-06-11      2.85     1000\n",
       "3  1000_3  2018-09-21     13.80     1000\n",
       "4  1000_4  2018-12-15      5.18     1000"
      ]
     },
     "metadata": {},
     "output_type": "display_data"
    },
    {
     "data": {
      "text/html": [
       "<div>\n",
       "<style scoped>\n",
       "    .dataframe tbody tr th:only-of-type {\n",
       "        vertical-align: middle;\n",
       "    }\n",
       "\n",
       "    .dataframe tbody tr th {\n",
       "        vertical-align: top;\n",
       "    }\n",
       "\n",
       "    .dataframe thead th {\n",
       "        text-align: right;\n",
       "    }\n",
       "</style>\n",
       "<table border=\"1\" class=\"dataframe\">\n",
       "  <thead>\n",
       "    <tr style=\"text-align: right;\">\n",
       "      <th></th>\n",
       "      <th>duration</th>\n",
       "      <th>user_id</th>\n",
       "    </tr>\n",
       "  </thead>\n",
       "  <tbody>\n",
       "    <tr>\n",
       "      <td>count</td>\n",
       "      <td>202607.000000</td>\n",
       "      <td>202607.000000</td>\n",
       "    </tr>\n",
       "    <tr>\n",
       "      <td>mean</td>\n",
       "      <td>6.755887</td>\n",
       "      <td>1253.940619</td>\n",
       "    </tr>\n",
       "    <tr>\n",
       "      <td>std</td>\n",
       "      <td>5.843365</td>\n",
       "      <td>144.722751</td>\n",
       "    </tr>\n",
       "    <tr>\n",
       "      <td>min</td>\n",
       "      <td>0.000000</td>\n",
       "      <td>1000.000000</td>\n",
       "    </tr>\n",
       "    <tr>\n",
       "      <td>25%</td>\n",
       "      <td>1.300000</td>\n",
       "      <td>1126.000000</td>\n",
       "    </tr>\n",
       "    <tr>\n",
       "      <td>50%</td>\n",
       "      <td>6.000000</td>\n",
       "      <td>1260.000000</td>\n",
       "    </tr>\n",
       "    <tr>\n",
       "      <td>75%</td>\n",
       "      <td>10.700000</td>\n",
       "      <td>1379.000000</td>\n",
       "    </tr>\n",
       "    <tr>\n",
       "      <td>max</td>\n",
       "      <td>38.000000</td>\n",
       "      <td>1499.000000</td>\n",
       "    </tr>\n",
       "  </tbody>\n",
       "</table>\n",
       "</div>"
      ],
      "text/plain": [
       "            duration        user_id\n",
       "count  202607.000000  202607.000000\n",
       "mean        6.755887    1253.940619\n",
       "std         5.843365     144.722751\n",
       "min         0.000000    1000.000000\n",
       "25%         1.300000    1126.000000\n",
       "50%         6.000000    1260.000000\n",
       "75%        10.700000    1379.000000\n",
       "max        38.000000    1499.000000"
      ]
     },
     "metadata": {},
     "output_type": "display_data"
    },
    {
     "name": "stdout",
     "output_type": "stream",
     "text": [
      "\n",
      "<class 'pandas.core.frame.DataFrame'>\n",
      "RangeIndex: 202607 entries, 0 to 202606\n",
      "Data columns (total 4 columns):\n",
      "id           202607 non-null object\n",
      "call_date    202607 non-null object\n",
      "duration     202607 non-null float64\n",
      "user_id      202607 non-null int64\n",
      "dtypes: float64(1), int64(1), object(2)\n",
      "memory usage: 6.2+ MB\n"
     ]
    },
    {
     "data": {
      "text/plain": [
       "None"
      ]
     },
     "metadata": {},
     "output_type": "display_data"
    }
   ],
   "source": [
    "background(calls) #информация о звонках"
   ]
  },
  {
   "cell_type": "code",
   "execution_count": 6,
   "metadata": {},
   "outputs": [
    {
     "data": {
      "text/plain": [
       "Index(['id', 'message_date', 'user_id'], dtype='object')"
      ]
     },
     "metadata": {},
     "output_type": "display_data"
    },
    {
     "data": {
      "text/html": [
       "<div>\n",
       "<style scoped>\n",
       "    .dataframe tbody tr th:only-of-type {\n",
       "        vertical-align: middle;\n",
       "    }\n",
       "\n",
       "    .dataframe tbody tr th {\n",
       "        vertical-align: top;\n",
       "    }\n",
       "\n",
       "    .dataframe thead th {\n",
       "        text-align: right;\n",
       "    }\n",
       "</style>\n",
       "<table border=\"1\" class=\"dataframe\">\n",
       "  <thead>\n",
       "    <tr style=\"text-align: right;\">\n",
       "      <th></th>\n",
       "      <th>id</th>\n",
       "      <th>message_date</th>\n",
       "      <th>user_id</th>\n",
       "    </tr>\n",
       "  </thead>\n",
       "  <tbody>\n",
       "    <tr>\n",
       "      <td>0</td>\n",
       "      <td>1000_0</td>\n",
       "      <td>2018-06-27</td>\n",
       "      <td>1000</td>\n",
       "    </tr>\n",
       "    <tr>\n",
       "      <td>1</td>\n",
       "      <td>1000_1</td>\n",
       "      <td>2018-10-08</td>\n",
       "      <td>1000</td>\n",
       "    </tr>\n",
       "    <tr>\n",
       "      <td>2</td>\n",
       "      <td>1000_2</td>\n",
       "      <td>2018-08-04</td>\n",
       "      <td>1000</td>\n",
       "    </tr>\n",
       "    <tr>\n",
       "      <td>3</td>\n",
       "      <td>1000_3</td>\n",
       "      <td>2018-06-16</td>\n",
       "      <td>1000</td>\n",
       "    </tr>\n",
       "    <tr>\n",
       "      <td>4</td>\n",
       "      <td>1000_4</td>\n",
       "      <td>2018-12-05</td>\n",
       "      <td>1000</td>\n",
       "    </tr>\n",
       "  </tbody>\n",
       "</table>\n",
       "</div>"
      ],
      "text/plain": [
       "       id message_date  user_id\n",
       "0  1000_0   2018-06-27     1000\n",
       "1  1000_1   2018-10-08     1000\n",
       "2  1000_2   2018-08-04     1000\n",
       "3  1000_3   2018-06-16     1000\n",
       "4  1000_4   2018-12-05     1000"
      ]
     },
     "metadata": {},
     "output_type": "display_data"
    },
    {
     "data": {
      "text/html": [
       "<div>\n",
       "<style scoped>\n",
       "    .dataframe tbody tr th:only-of-type {\n",
       "        vertical-align: middle;\n",
       "    }\n",
       "\n",
       "    .dataframe tbody tr th {\n",
       "        vertical-align: top;\n",
       "    }\n",
       "\n",
       "    .dataframe thead th {\n",
       "        text-align: right;\n",
       "    }\n",
       "</style>\n",
       "<table border=\"1\" class=\"dataframe\">\n",
       "  <thead>\n",
       "    <tr style=\"text-align: right;\">\n",
       "      <th></th>\n",
       "      <th>user_id</th>\n",
       "    </tr>\n",
       "  </thead>\n",
       "  <tbody>\n",
       "    <tr>\n",
       "      <td>count</td>\n",
       "      <td>123036.000000</td>\n",
       "    </tr>\n",
       "    <tr>\n",
       "      <td>mean</td>\n",
       "      <td>1256.989410</td>\n",
       "    </tr>\n",
       "    <tr>\n",
       "      <td>std</td>\n",
       "      <td>143.523967</td>\n",
       "    </tr>\n",
       "    <tr>\n",
       "      <td>min</td>\n",
       "      <td>1000.000000</td>\n",
       "    </tr>\n",
       "    <tr>\n",
       "      <td>25%</td>\n",
       "      <td>1134.000000</td>\n",
       "    </tr>\n",
       "    <tr>\n",
       "      <td>50%</td>\n",
       "      <td>1271.000000</td>\n",
       "    </tr>\n",
       "    <tr>\n",
       "      <td>75%</td>\n",
       "      <td>1381.000000</td>\n",
       "    </tr>\n",
       "    <tr>\n",
       "      <td>max</td>\n",
       "      <td>1499.000000</td>\n",
       "    </tr>\n",
       "  </tbody>\n",
       "</table>\n",
       "</div>"
      ],
      "text/plain": [
       "             user_id\n",
       "count  123036.000000\n",
       "mean     1256.989410\n",
       "std       143.523967\n",
       "min      1000.000000\n",
       "25%      1134.000000\n",
       "50%      1271.000000\n",
       "75%      1381.000000\n",
       "max      1499.000000"
      ]
     },
     "metadata": {},
     "output_type": "display_data"
    },
    {
     "name": "stdout",
     "output_type": "stream",
     "text": [
      "\n",
      "<class 'pandas.core.frame.DataFrame'>\n",
      "RangeIndex: 123036 entries, 0 to 123035\n",
      "Data columns (total 3 columns):\n",
      "id              123036 non-null object\n",
      "message_date    123036 non-null object\n",
      "user_id         123036 non-null int64\n",
      "dtypes: int64(1), object(2)\n",
      "memory usage: 2.8+ MB\n"
     ]
    },
    {
     "data": {
      "text/plain": [
       "None"
      ]
     },
     "metadata": {},
     "output_type": "display_data"
    }
   ],
   "source": [
    "background(messages) #информация о сообщениях"
   ]
  },
  {
   "cell_type": "code",
   "execution_count": 7,
   "metadata": {},
   "outputs": [
    {
     "data": {
      "text/plain": [
       "Index(['Unnamed: 0', 'id', 'mb_used', 'session_date', 'user_id'], dtype='object')"
      ]
     },
     "metadata": {},
     "output_type": "display_data"
    },
    {
     "data": {
      "text/html": [
       "<div>\n",
       "<style scoped>\n",
       "    .dataframe tbody tr th:only-of-type {\n",
       "        vertical-align: middle;\n",
       "    }\n",
       "\n",
       "    .dataframe tbody tr th {\n",
       "        vertical-align: top;\n",
       "    }\n",
       "\n",
       "    .dataframe thead th {\n",
       "        text-align: right;\n",
       "    }\n",
       "</style>\n",
       "<table border=\"1\" class=\"dataframe\">\n",
       "  <thead>\n",
       "    <tr style=\"text-align: right;\">\n",
       "      <th></th>\n",
       "      <th>Unnamed: 0</th>\n",
       "      <th>id</th>\n",
       "      <th>mb_used</th>\n",
       "      <th>session_date</th>\n",
       "      <th>user_id</th>\n",
       "    </tr>\n",
       "  </thead>\n",
       "  <tbody>\n",
       "    <tr>\n",
       "      <td>0</td>\n",
       "      <td>0</td>\n",
       "      <td>1000_0</td>\n",
       "      <td>112.95</td>\n",
       "      <td>2018-11-25</td>\n",
       "      <td>1000</td>\n",
       "    </tr>\n",
       "    <tr>\n",
       "      <td>1</td>\n",
       "      <td>1</td>\n",
       "      <td>1000_1</td>\n",
       "      <td>1052.81</td>\n",
       "      <td>2018-09-07</td>\n",
       "      <td>1000</td>\n",
       "    </tr>\n",
       "    <tr>\n",
       "      <td>2</td>\n",
       "      <td>2</td>\n",
       "      <td>1000_2</td>\n",
       "      <td>1197.26</td>\n",
       "      <td>2018-06-25</td>\n",
       "      <td>1000</td>\n",
       "    </tr>\n",
       "    <tr>\n",
       "      <td>3</td>\n",
       "      <td>3</td>\n",
       "      <td>1000_3</td>\n",
       "      <td>550.27</td>\n",
       "      <td>2018-08-22</td>\n",
       "      <td>1000</td>\n",
       "    </tr>\n",
       "    <tr>\n",
       "      <td>4</td>\n",
       "      <td>4</td>\n",
       "      <td>1000_4</td>\n",
       "      <td>302.56</td>\n",
       "      <td>2018-09-24</td>\n",
       "      <td>1000</td>\n",
       "    </tr>\n",
       "  </tbody>\n",
       "</table>\n",
       "</div>"
      ],
      "text/plain": [
       "   Unnamed: 0      id  mb_used session_date  user_id\n",
       "0           0  1000_0   112.95   2018-11-25     1000\n",
       "1           1  1000_1  1052.81   2018-09-07     1000\n",
       "2           2  1000_2  1197.26   2018-06-25     1000\n",
       "3           3  1000_3   550.27   2018-08-22     1000\n",
       "4           4  1000_4   302.56   2018-09-24     1000"
      ]
     },
     "metadata": {},
     "output_type": "display_data"
    },
    {
     "data": {
      "text/html": [
       "<div>\n",
       "<style scoped>\n",
       "    .dataframe tbody tr th:only-of-type {\n",
       "        vertical-align: middle;\n",
       "    }\n",
       "\n",
       "    .dataframe tbody tr th {\n",
       "        vertical-align: top;\n",
       "    }\n",
       "\n",
       "    .dataframe thead th {\n",
       "        text-align: right;\n",
       "    }\n",
       "</style>\n",
       "<table border=\"1\" class=\"dataframe\">\n",
       "  <thead>\n",
       "    <tr style=\"text-align: right;\">\n",
       "      <th></th>\n",
       "      <th>Unnamed: 0</th>\n",
       "      <th>mb_used</th>\n",
       "      <th>user_id</th>\n",
       "    </tr>\n",
       "  </thead>\n",
       "  <tbody>\n",
       "    <tr>\n",
       "      <td>count</td>\n",
       "      <td>149396.000000</td>\n",
       "      <td>149396.000000</td>\n",
       "      <td>149396.000000</td>\n",
       "    </tr>\n",
       "    <tr>\n",
       "      <td>mean</td>\n",
       "      <td>74697.500000</td>\n",
       "      <td>370.192426</td>\n",
       "      <td>1252.099842</td>\n",
       "    </tr>\n",
       "    <tr>\n",
       "      <td>std</td>\n",
       "      <td>43127.054745</td>\n",
       "      <td>278.300951</td>\n",
       "      <td>144.050823</td>\n",
       "    </tr>\n",
       "    <tr>\n",
       "      <td>min</td>\n",
       "      <td>0.000000</td>\n",
       "      <td>0.000000</td>\n",
       "      <td>1000.000000</td>\n",
       "    </tr>\n",
       "    <tr>\n",
       "      <td>25%</td>\n",
       "      <td>37348.750000</td>\n",
       "      <td>138.187500</td>\n",
       "      <td>1130.000000</td>\n",
       "    </tr>\n",
       "    <tr>\n",
       "      <td>50%</td>\n",
       "      <td>74697.500000</td>\n",
       "      <td>348.015000</td>\n",
       "      <td>1251.000000</td>\n",
       "    </tr>\n",
       "    <tr>\n",
       "      <td>75%</td>\n",
       "      <td>112046.250000</td>\n",
       "      <td>559.552500</td>\n",
       "      <td>1380.000000</td>\n",
       "    </tr>\n",
       "    <tr>\n",
       "      <td>max</td>\n",
       "      <td>149395.000000</td>\n",
       "      <td>1724.830000</td>\n",
       "      <td>1499.000000</td>\n",
       "    </tr>\n",
       "  </tbody>\n",
       "</table>\n",
       "</div>"
      ],
      "text/plain": [
       "          Unnamed: 0        mb_used        user_id\n",
       "count  149396.000000  149396.000000  149396.000000\n",
       "mean    74697.500000     370.192426    1252.099842\n",
       "std     43127.054745     278.300951     144.050823\n",
       "min         0.000000       0.000000    1000.000000\n",
       "25%     37348.750000     138.187500    1130.000000\n",
       "50%     74697.500000     348.015000    1251.000000\n",
       "75%    112046.250000     559.552500    1380.000000\n",
       "max    149395.000000    1724.830000    1499.000000"
      ]
     },
     "metadata": {},
     "output_type": "display_data"
    },
    {
     "name": "stdout",
     "output_type": "stream",
     "text": [
      "\n",
      "<class 'pandas.core.frame.DataFrame'>\n",
      "RangeIndex: 149396 entries, 0 to 149395\n",
      "Data columns (total 5 columns):\n",
      "Unnamed: 0      149396 non-null int64\n",
      "id              149396 non-null object\n",
      "mb_used         149396 non-null float64\n",
      "session_date    149396 non-null object\n",
      "user_id         149396 non-null int64\n",
      "dtypes: float64(1), int64(2), object(2)\n",
      "memory usage: 5.7+ MB\n"
     ]
    },
    {
     "data": {
      "text/plain": [
       "None"
      ]
     },
     "metadata": {},
     "output_type": "display_data"
    }
   ],
   "source": [
    "background(internet) #информация об интернет-сессиях"
   ]
  },
  {
   "cell_type": "code",
   "execution_count": 8,
   "metadata": {},
   "outputs": [
    {
     "data": {
      "text/plain": [
       "Index(['messages_included', 'mb_per_month_included', 'minutes_included',\n",
       "       'rub_monthly_fee', 'rub_per_gb', 'rub_per_message', 'rub_per_minute',\n",
       "       'tariff_name'],\n",
       "      dtype='object')"
      ]
     },
     "metadata": {},
     "output_type": "display_data"
    },
    {
     "data": {
      "text/html": [
       "<div>\n",
       "<style scoped>\n",
       "    .dataframe tbody tr th:only-of-type {\n",
       "        vertical-align: middle;\n",
       "    }\n",
       "\n",
       "    .dataframe tbody tr th {\n",
       "        vertical-align: top;\n",
       "    }\n",
       "\n",
       "    .dataframe thead th {\n",
       "        text-align: right;\n",
       "    }\n",
       "</style>\n",
       "<table border=\"1\" class=\"dataframe\">\n",
       "  <thead>\n",
       "    <tr style=\"text-align: right;\">\n",
       "      <th></th>\n",
       "      <th>messages_included</th>\n",
       "      <th>mb_per_month_included</th>\n",
       "      <th>minutes_included</th>\n",
       "      <th>rub_monthly_fee</th>\n",
       "      <th>rub_per_gb</th>\n",
       "      <th>rub_per_message</th>\n",
       "      <th>rub_per_minute</th>\n",
       "      <th>tariff_name</th>\n",
       "    </tr>\n",
       "  </thead>\n",
       "  <tbody>\n",
       "    <tr>\n",
       "      <td>0</td>\n",
       "      <td>50</td>\n",
       "      <td>15360</td>\n",
       "      <td>500</td>\n",
       "      <td>550</td>\n",
       "      <td>200</td>\n",
       "      <td>3</td>\n",
       "      <td>3</td>\n",
       "      <td>smart</td>\n",
       "    </tr>\n",
       "    <tr>\n",
       "      <td>1</td>\n",
       "      <td>1000</td>\n",
       "      <td>30720</td>\n",
       "      <td>3000</td>\n",
       "      <td>1950</td>\n",
       "      <td>150</td>\n",
       "      <td>1</td>\n",
       "      <td>1</td>\n",
       "      <td>ultra</td>\n",
       "    </tr>\n",
       "  </tbody>\n",
       "</table>\n",
       "</div>"
      ],
      "text/plain": [
       "   messages_included  mb_per_month_included  minutes_included  \\\n",
       "0                 50                  15360               500   \n",
       "1               1000                  30720              3000   \n",
       "\n",
       "   rub_monthly_fee  rub_per_gb  rub_per_message  rub_per_minute tariff_name  \n",
       "0              550         200                3               3       smart  \n",
       "1             1950         150                1               1       ultra  "
      ]
     },
     "metadata": {},
     "output_type": "display_data"
    },
    {
     "data": {
      "text/html": [
       "<div>\n",
       "<style scoped>\n",
       "    .dataframe tbody tr th:only-of-type {\n",
       "        vertical-align: middle;\n",
       "    }\n",
       "\n",
       "    .dataframe tbody tr th {\n",
       "        vertical-align: top;\n",
       "    }\n",
       "\n",
       "    .dataframe thead th {\n",
       "        text-align: right;\n",
       "    }\n",
       "</style>\n",
       "<table border=\"1\" class=\"dataframe\">\n",
       "  <thead>\n",
       "    <tr style=\"text-align: right;\">\n",
       "      <th></th>\n",
       "      <th>messages_included</th>\n",
       "      <th>mb_per_month_included</th>\n",
       "      <th>minutes_included</th>\n",
       "      <th>rub_monthly_fee</th>\n",
       "      <th>rub_per_gb</th>\n",
       "      <th>rub_per_message</th>\n",
       "      <th>rub_per_minute</th>\n",
       "    </tr>\n",
       "  </thead>\n",
       "  <tbody>\n",
       "    <tr>\n",
       "      <td>count</td>\n",
       "      <td>2.000000</td>\n",
       "      <td>2.000000</td>\n",
       "      <td>2.000000</td>\n",
       "      <td>2.000000</td>\n",
       "      <td>2.000000</td>\n",
       "      <td>2.000000</td>\n",
       "      <td>2.000000</td>\n",
       "    </tr>\n",
       "    <tr>\n",
       "      <td>mean</td>\n",
       "      <td>525.000000</td>\n",
       "      <td>23040.000000</td>\n",
       "      <td>1750.000000</td>\n",
       "      <td>1250.000000</td>\n",
       "      <td>175.000000</td>\n",
       "      <td>2.000000</td>\n",
       "      <td>2.000000</td>\n",
       "    </tr>\n",
       "    <tr>\n",
       "      <td>std</td>\n",
       "      <td>671.751442</td>\n",
       "      <td>10861.160159</td>\n",
       "      <td>1767.766953</td>\n",
       "      <td>989.949494</td>\n",
       "      <td>35.355339</td>\n",
       "      <td>1.414214</td>\n",
       "      <td>1.414214</td>\n",
       "    </tr>\n",
       "    <tr>\n",
       "      <td>min</td>\n",
       "      <td>50.000000</td>\n",
       "      <td>15360.000000</td>\n",
       "      <td>500.000000</td>\n",
       "      <td>550.000000</td>\n",
       "      <td>150.000000</td>\n",
       "      <td>1.000000</td>\n",
       "      <td>1.000000</td>\n",
       "    </tr>\n",
       "    <tr>\n",
       "      <td>25%</td>\n",
       "      <td>287.500000</td>\n",
       "      <td>19200.000000</td>\n",
       "      <td>1125.000000</td>\n",
       "      <td>900.000000</td>\n",
       "      <td>162.500000</td>\n",
       "      <td>1.500000</td>\n",
       "      <td>1.500000</td>\n",
       "    </tr>\n",
       "    <tr>\n",
       "      <td>50%</td>\n",
       "      <td>525.000000</td>\n",
       "      <td>23040.000000</td>\n",
       "      <td>1750.000000</td>\n",
       "      <td>1250.000000</td>\n",
       "      <td>175.000000</td>\n",
       "      <td>2.000000</td>\n",
       "      <td>2.000000</td>\n",
       "    </tr>\n",
       "    <tr>\n",
       "      <td>75%</td>\n",
       "      <td>762.500000</td>\n",
       "      <td>26880.000000</td>\n",
       "      <td>2375.000000</td>\n",
       "      <td>1600.000000</td>\n",
       "      <td>187.500000</td>\n",
       "      <td>2.500000</td>\n",
       "      <td>2.500000</td>\n",
       "    </tr>\n",
       "    <tr>\n",
       "      <td>max</td>\n",
       "      <td>1000.000000</td>\n",
       "      <td>30720.000000</td>\n",
       "      <td>3000.000000</td>\n",
       "      <td>1950.000000</td>\n",
       "      <td>200.000000</td>\n",
       "      <td>3.000000</td>\n",
       "      <td>3.000000</td>\n",
       "    </tr>\n",
       "  </tbody>\n",
       "</table>\n",
       "</div>"
      ],
      "text/plain": [
       "       messages_included  mb_per_month_included  minutes_included  \\\n",
       "count           2.000000               2.000000          2.000000   \n",
       "mean          525.000000           23040.000000       1750.000000   \n",
       "std           671.751442           10861.160159       1767.766953   \n",
       "min            50.000000           15360.000000        500.000000   \n",
       "25%           287.500000           19200.000000       1125.000000   \n",
       "50%           525.000000           23040.000000       1750.000000   \n",
       "75%           762.500000           26880.000000       2375.000000   \n",
       "max          1000.000000           30720.000000       3000.000000   \n",
       "\n",
       "       rub_monthly_fee  rub_per_gb  rub_per_message  rub_per_minute  \n",
       "count         2.000000    2.000000         2.000000        2.000000  \n",
       "mean       1250.000000  175.000000         2.000000        2.000000  \n",
       "std         989.949494   35.355339         1.414214        1.414214  \n",
       "min         550.000000  150.000000         1.000000        1.000000  \n",
       "25%         900.000000  162.500000         1.500000        1.500000  \n",
       "50%        1250.000000  175.000000         2.000000        2.000000  \n",
       "75%        1600.000000  187.500000         2.500000        2.500000  \n",
       "max        1950.000000  200.000000         3.000000        3.000000  "
      ]
     },
     "metadata": {},
     "output_type": "display_data"
    },
    {
     "name": "stdout",
     "output_type": "stream",
     "text": [
      "\n",
      "<class 'pandas.core.frame.DataFrame'>\n",
      "RangeIndex: 2 entries, 0 to 1\n",
      "Data columns (total 8 columns):\n",
      "messages_included        2 non-null int64\n",
      "mb_per_month_included    2 non-null int64\n",
      "minutes_included         2 non-null int64\n",
      "rub_monthly_fee          2 non-null int64\n",
      "rub_per_gb               2 non-null int64\n",
      "rub_per_message          2 non-null int64\n",
      "rub_per_minute           2 non-null int64\n",
      "tariff_name              2 non-null object\n",
      "dtypes: int64(7), object(1)\n",
      "memory usage: 256.0+ bytes\n"
     ]
    },
    {
     "data": {
      "text/plain": [
       "None"
      ]
     },
     "metadata": {},
     "output_type": "display_data"
    }
   ],
   "source": [
    "background(tariffs) #информация о тарифах"
   ]
  },
  {
   "cell_type": "markdown",
   "metadata": {},
   "source": [
    "### Вывод"
   ]
  },
  {
   "cell_type": "markdown",
   "metadata": {},
   "source": [
    "Таким образом, при рассмотрении общей информации о данных 500 пользователей «Мегалайна» (кто они, откуда, каким тарифом пользуются, сколько звонков и сообщений каждый отправил за 2018 год), можно заметить ряд проблем:\n",
    "- в данных присутствуют пропуски (столбец churn_date таблицы users):\n",
    "- несоответствие типов данных в ряде заявленных переменных (наприемр, дата подключения/прекращения пользования тарифа);\n",
    "- часть данных не округлена в соответствии с требованиями  «Мегалайн» (например, длительность звонков);\n",
    "- размещение данных на 5 таблицах затрудняет процесс анализа.\n",
    "\n",
    "Для более точного анализа избавимся от выявленных проблем."
   ]
  },
  {
   "cell_type": "markdown",
   "metadata": {},
   "source": [
    "## Подготовка данных"
   ]
  },
  {
   "cell_type": "markdown",
   "metadata": {},
   "source": [
    "Подготовим данные для дальнейшего анализа и избавимся от выявленных проблем."
   ]
  },
  {
   "cell_type": "markdown",
   "metadata": {},
   "source": [
    "### Замена типов данных"
   ]
  },
  {
   "cell_type": "markdown",
   "metadata": {},
   "source": [
    "Для ряда показателей было бы логичнее изменить тип данных. Произведем нужные замены."
   ]
  },
  {
   "cell_type": "code",
   "execution_count": 9,
   "metadata": {},
   "outputs": [],
   "source": [
    "users['churn_date'] = pd.to_datetime(users['churn_date'], format=\"%Y-%m-%d\") #изменим тип данных для даты, чтобы далее\n",
    "users['reg_date'] = pd.to_datetime(users['reg_date'], format=\"%Y-%m-%d\") #применять методы по работе с датами\n",
    "calls['call_date'] = pd.to_datetime(calls['call_date'], format=\"%Y-%m-%d\")\n",
    "messages['message_date'] = pd.to_datetime(messages['message_date'], format=\"%Y-%m-%d\")\n",
    "internet['session_date'] = pd.to_datetime(internet['session_date'], format=\"%Y-%m-%d\")"
   ]
  },
  {
   "cell_type": "code",
   "execution_count": 10,
   "metadata": {},
   "outputs": [
    {
     "name": "stdout",
     "output_type": "stream",
     "text": [
      "int64\n",
      "int64\n",
      "int64\n"
     ]
    }
   ],
   "source": [
    "data_name = [calls, messages, internet] #изменим тип данных с вещественного на числовой для ID клиентов\n",
    "for name in data_name:\n",
    "    name['id'] = name['id'].astype('int')\n",
    "print(calls['id'].dtypes, messages['id'].dtypes, internet['id'].dtypes, sep='\\n') #проверим результат"
   ]
  },
  {
   "cell_type": "markdown",
   "metadata": {},
   "source": [
    "### Обработка пропусков и значений"
   ]
  },
  {
   "cell_type": "markdown",
   "metadata": {},
   "source": [
    "В таблице с информацией о трафике можно заметить странный столбец 'Unnamed: 0', который дублирует номерацию строк в датафрейме. Избавимся от лишнего."
   ]
  },
  {
   "cell_type": "code",
   "execution_count": 11,
   "metadata": {},
   "outputs": [
    {
     "data": {
      "text/html": [
       "<div>\n",
       "<style scoped>\n",
       "    .dataframe tbody tr th:only-of-type {\n",
       "        vertical-align: middle;\n",
       "    }\n",
       "\n",
       "    .dataframe tbody tr th {\n",
       "        vertical-align: top;\n",
       "    }\n",
       "\n",
       "    .dataframe thead th {\n",
       "        text-align: right;\n",
       "    }\n",
       "</style>\n",
       "<table border=\"1\" class=\"dataframe\">\n",
       "  <thead>\n",
       "    <tr style=\"text-align: right;\">\n",
       "      <th></th>\n",
       "      <th>id</th>\n",
       "      <th>mb_used</th>\n",
       "      <th>session_date</th>\n",
       "      <th>user_id</th>\n",
       "    </tr>\n",
       "  </thead>\n",
       "  <tbody>\n",
       "    <tr>\n",
       "      <td>0</td>\n",
       "      <td>10000</td>\n",
       "      <td>112.95</td>\n",
       "      <td>2018-11-25</td>\n",
       "      <td>1000</td>\n",
       "    </tr>\n",
       "    <tr>\n",
       "      <td>1</td>\n",
       "      <td>10001</td>\n",
       "      <td>1052.81</td>\n",
       "      <td>2018-09-07</td>\n",
       "      <td>1000</td>\n",
       "    </tr>\n",
       "    <tr>\n",
       "      <td>2</td>\n",
       "      <td>10002</td>\n",
       "      <td>1197.26</td>\n",
       "      <td>2018-06-25</td>\n",
       "      <td>1000</td>\n",
       "    </tr>\n",
       "    <tr>\n",
       "      <td>3</td>\n",
       "      <td>10003</td>\n",
       "      <td>550.27</td>\n",
       "      <td>2018-08-22</td>\n",
       "      <td>1000</td>\n",
       "    </tr>\n",
       "    <tr>\n",
       "      <td>4</td>\n",
       "      <td>10004</td>\n",
       "      <td>302.56</td>\n",
       "      <td>2018-09-24</td>\n",
       "      <td>1000</td>\n",
       "    </tr>\n",
       "  </tbody>\n",
       "</table>\n",
       "</div>"
      ],
      "text/plain": [
       "      id  mb_used session_date  user_id\n",
       "0  10000   112.95   2018-11-25     1000\n",
       "1  10001  1052.81   2018-09-07     1000\n",
       "2  10002  1197.26   2018-06-25     1000\n",
       "3  10003   550.27   2018-08-22     1000\n",
       "4  10004   302.56   2018-09-24     1000"
      ]
     },
     "execution_count": 11,
     "metadata": {},
     "output_type": "execute_result"
    }
   ],
   "source": [
    "del internet['Unnamed: 0']\n",
    "internet.head()"
   ]
  },
  {
   "cell_type": "markdown",
   "metadata": {},
   "source": [
    "«Мегалайн» всегда округляет секунды до минут, а мегабайты — до гигабайт. Каждый звонок округляется отдельно: даже если он длился всего 1 секунду, будет засчитан как 1 минута.\n",
    "Для веб-трафика отдельные сессии не считаются. Вместо этого общая сумма за месяц округляется в бо́льшую сторону. Если абонент использует 1025 мегабайт в этом месяце, с него возьмут плату за 2 гигабайта. \n",
    "\n",
    "Произведем округление данных."
   ]
  },
  {
   "cell_type": "code",
   "execution_count": 12,
   "metadata": {},
   "outputs": [
    {
     "name": "stdout",
     "output_type": "stream",
     "text": [
      "count    202607.000000\n",
      "mean          7.158198\n",
      "std           5.959173\n",
      "min           0.000000\n",
      "25%           2.000000\n",
      "50%           6.000000\n",
      "75%          11.000000\n",
      "max          38.000000\n",
      "Name: duration, dtype: float64\n"
     ]
    },
    {
     "data": {
      "text/plain": [
       "dtype('int64')"
      ]
     },
     "execution_count": 12,
     "metadata": {},
     "output_type": "execute_result"
    }
   ],
   "source": [
    "calls['duration'] = calls['duration'].apply(np.ceil).astype('int') #округляем в большую сторону\n",
    "print(calls['duration'].describe()) #проверка результатов\n",
    "calls['duration'].dtypes"
   ]
  },
  {
   "cell_type": "markdown",
   "metadata": {},
   "source": [
    "Среди значений продолжительности звонков встречается \"0\" значение. Так «Мегалайн» обозначает пропущенные звонки, соответственно, производить замену числовых значений методом fillna() не нужно.\n",
    "\n",
    "Поскольку значения интернет-трафика рассчитываются помесячно и округляются в целом за месяц, произведем расчет трафика, а также других ключевых показателей по месяцам."
   ]
  },
  {
   "cell_type": "code",
   "execution_count": 13,
   "metadata": {},
   "outputs": [
    {
     "name": "stdout",
     "output_type": "stream",
     "text": [
      "19598\n"
     ]
    },
    {
     "data": {
      "text/plain": [
       "39613"
      ]
     },
     "execution_count": 13,
     "metadata": {},
     "output_type": "execute_result"
    }
   ],
   "source": [
    "print(len(internet[internet['mb_used'] == 0]))\n",
    "len(calls[calls['duration'] == 0])"
   ]
  },
  {
   "cell_type": "markdown",
   "metadata": {},
   "source": [
    "### Рассчет дополнительных показателей"
   ]
  },
  {
   "cell_type": "markdown",
   "metadata": {},
   "source": [
    "Для каждого пользователя из выборки рассчитаем ключевые показатели."
   ]
  },
  {
   "cell_type": "markdown",
   "metadata": {},
   "source": [
    "#### Количество сделанных звонков и израсходованных минут разговора по месяцам"
   ]
  },
  {
   "cell_type": "code",
   "execution_count": 14,
   "metadata": {},
   "outputs": [
    {
     "data": {
      "text/html": [
       "<div>\n",
       "<style scoped>\n",
       "    .dataframe tbody tr th:only-of-type {\n",
       "        vertical-align: middle;\n",
       "    }\n",
       "\n",
       "    .dataframe tbody tr th {\n",
       "        vertical-align: top;\n",
       "    }\n",
       "\n",
       "    .dataframe thead th {\n",
       "        text-align: right;\n",
       "    }\n",
       "</style>\n",
       "<table border=\"1\" class=\"dataframe\">\n",
       "  <thead>\n",
       "    <tr style=\"text-align: right;\">\n",
       "      <th></th>\n",
       "      <th>id</th>\n",
       "      <th>call_date</th>\n",
       "      <th>duration</th>\n",
       "      <th>user_id</th>\n",
       "      <th>month</th>\n",
       "    </tr>\n",
       "  </thead>\n",
       "  <tbody>\n",
       "    <tr>\n",
       "      <td>0</td>\n",
       "      <td>10000</td>\n",
       "      <td>2018-07-25</td>\n",
       "      <td>0</td>\n",
       "      <td>1000</td>\n",
       "      <td>July</td>\n",
       "    </tr>\n",
       "    <tr>\n",
       "      <td>1</td>\n",
       "      <td>10001</td>\n",
       "      <td>2018-08-17</td>\n",
       "      <td>0</td>\n",
       "      <td>1000</td>\n",
       "      <td>August</td>\n",
       "    </tr>\n",
       "    <tr>\n",
       "      <td>2</td>\n",
       "      <td>10002</td>\n",
       "      <td>2018-06-11</td>\n",
       "      <td>3</td>\n",
       "      <td>1000</td>\n",
       "      <td>June</td>\n",
       "    </tr>\n",
       "    <tr>\n",
       "      <td>3</td>\n",
       "      <td>10003</td>\n",
       "      <td>2018-09-21</td>\n",
       "      <td>14</td>\n",
       "      <td>1000</td>\n",
       "      <td>September</td>\n",
       "    </tr>\n",
       "    <tr>\n",
       "      <td>4</td>\n",
       "      <td>10004</td>\n",
       "      <td>2018-12-15</td>\n",
       "      <td>6</td>\n",
       "      <td>1000</td>\n",
       "      <td>December</td>\n",
       "    </tr>\n",
       "  </tbody>\n",
       "</table>\n",
       "</div>"
      ],
      "text/plain": [
       "      id  call_date  duration  user_id      month\n",
       "0  10000 2018-07-25         0     1000       July\n",
       "1  10001 2018-08-17         0     1000     August\n",
       "2  10002 2018-06-11         3     1000       June\n",
       "3  10003 2018-09-21        14     1000  September\n",
       "4  10004 2018-12-15         6     1000   December"
      ]
     },
     "execution_count": 14,
     "metadata": {},
     "output_type": "execute_result"
    }
   ],
   "source": [
    "calls['month'] = calls['call_date'].dt.month_name() #создаем столбец с месяцем\n",
    "calls.head()"
   ]
  },
  {
   "cell_type": "code",
   "execution_count": 15,
   "metadata": {
    "scrolled": true
   },
   "outputs": [
    {
     "data": {
      "text/html": [
       "<div>\n",
       "<style scoped>\n",
       "    .dataframe tbody tr th:only-of-type {\n",
       "        vertical-align: middle;\n",
       "    }\n",
       "\n",
       "    .dataframe tbody tr th {\n",
       "        vertical-align: top;\n",
       "    }\n",
       "\n",
       "    .dataframe thead th {\n",
       "        text-align: right;\n",
       "    }\n",
       "</style>\n",
       "<table border=\"1\" class=\"dataframe\">\n",
       "  <thead>\n",
       "    <tr style=\"text-align: right;\">\n",
       "      <th></th>\n",
       "      <th>user_id</th>\n",
       "      <th>month</th>\n",
       "      <th>month_total_duration</th>\n",
       "      <th>month_total_calls</th>\n",
       "    </tr>\n",
       "  </thead>\n",
       "  <tbody>\n",
       "    <tr>\n",
       "      <td>0</td>\n",
       "      <td>1000</td>\n",
       "      <td>August</td>\n",
       "      <td>408</td>\n",
       "      <td>52</td>\n",
       "    </tr>\n",
       "    <tr>\n",
       "      <td>1</td>\n",
       "      <td>1000</td>\n",
       "      <td>December</td>\n",
       "      <td>333</td>\n",
       "      <td>46</td>\n",
       "    </tr>\n",
       "    <tr>\n",
       "      <td>2</td>\n",
       "      <td>1000</td>\n",
       "      <td>July</td>\n",
       "      <td>340</td>\n",
       "      <td>47</td>\n",
       "    </tr>\n",
       "    <tr>\n",
       "      <td>3</td>\n",
       "      <td>1000</td>\n",
       "      <td>June</td>\n",
       "      <td>172</td>\n",
       "      <td>43</td>\n",
       "    </tr>\n",
       "    <tr>\n",
       "      <td>4</td>\n",
       "      <td>1000</td>\n",
       "      <td>May</td>\n",
       "      <td>159</td>\n",
       "      <td>22</td>\n",
       "    </tr>\n",
       "  </tbody>\n",
       "</table>\n",
       "</div>"
      ],
      "text/plain": [
       "   user_id     month  month_total_duration  month_total_calls\n",
       "0     1000    August                   408                 52\n",
       "1     1000  December                   333                 46\n",
       "2     1000      July                   340                 47\n",
       "3     1000      June                   172                 43\n",
       "4     1000       May                   159                 22"
      ]
     },
     "execution_count": 15,
     "metadata": {},
     "output_type": "execute_result"
    }
   ],
   "source": [
    "#создаем новый датасет, сгруппированый по каждому пользователю в разрезе месяцев\n",
    "user_calls = calls.groupby(['user_id', 'month'])\\\n",
    "                    .agg({'duration':'sum', 'id':'count'})\\\n",
    "                    .reset_index()\\\n",
    "                    .rename(columns={'duration':'month_total_duration','id':'month_total_calls'})\n",
    "user_calls.head()"
   ]
  },
  {
   "cell_type": "markdown",
   "metadata": {},
   "source": [
    "#### Количество отправленных сообщений по месяцам"
   ]
  },
  {
   "cell_type": "code",
   "execution_count": 16,
   "metadata": {},
   "outputs": [
    {
     "data": {
      "text/html": [
       "<div>\n",
       "<style scoped>\n",
       "    .dataframe tbody tr th:only-of-type {\n",
       "        vertical-align: middle;\n",
       "    }\n",
       "\n",
       "    .dataframe tbody tr th {\n",
       "        vertical-align: top;\n",
       "    }\n",
       "\n",
       "    .dataframe thead th {\n",
       "        text-align: right;\n",
       "    }\n",
       "</style>\n",
       "<table border=\"1\" class=\"dataframe\">\n",
       "  <thead>\n",
       "    <tr style=\"text-align: right;\">\n",
       "      <th></th>\n",
       "      <th>id</th>\n",
       "      <th>message_date</th>\n",
       "      <th>user_id</th>\n",
       "      <th>month</th>\n",
       "    </tr>\n",
       "  </thead>\n",
       "  <tbody>\n",
       "    <tr>\n",
       "      <td>0</td>\n",
       "      <td>10000</td>\n",
       "      <td>2018-06-27</td>\n",
       "      <td>1000</td>\n",
       "      <td>June</td>\n",
       "    </tr>\n",
       "    <tr>\n",
       "      <td>1</td>\n",
       "      <td>10001</td>\n",
       "      <td>2018-10-08</td>\n",
       "      <td>1000</td>\n",
       "      <td>October</td>\n",
       "    </tr>\n",
       "    <tr>\n",
       "      <td>2</td>\n",
       "      <td>10002</td>\n",
       "      <td>2018-08-04</td>\n",
       "      <td>1000</td>\n",
       "      <td>August</td>\n",
       "    </tr>\n",
       "    <tr>\n",
       "      <td>3</td>\n",
       "      <td>10003</td>\n",
       "      <td>2018-06-16</td>\n",
       "      <td>1000</td>\n",
       "      <td>June</td>\n",
       "    </tr>\n",
       "    <tr>\n",
       "      <td>4</td>\n",
       "      <td>10004</td>\n",
       "      <td>2018-12-05</td>\n",
       "      <td>1000</td>\n",
       "      <td>December</td>\n",
       "    </tr>\n",
       "  </tbody>\n",
       "</table>\n",
       "</div>"
      ],
      "text/plain": [
       "      id message_date  user_id     month\n",
       "0  10000   2018-06-27     1000      June\n",
       "1  10001   2018-10-08     1000   October\n",
       "2  10002   2018-08-04     1000    August\n",
       "3  10003   2018-06-16     1000      June\n",
       "4  10004   2018-12-05     1000  December"
      ]
     },
     "execution_count": 16,
     "metadata": {},
     "output_type": "execute_result"
    }
   ],
   "source": [
    "messages['month'] = messages['message_date'].dt.month_name()#создаем столбец с месяцем\n",
    "messages.head()"
   ]
  },
  {
   "cell_type": "code",
   "execution_count": 17,
   "metadata": {},
   "outputs": [
    {
     "data": {
      "text/html": [
       "<div>\n",
       "<style scoped>\n",
       "    .dataframe tbody tr th:only-of-type {\n",
       "        vertical-align: middle;\n",
       "    }\n",
       "\n",
       "    .dataframe tbody tr th {\n",
       "        vertical-align: top;\n",
       "    }\n",
       "\n",
       "    .dataframe thead th {\n",
       "        text-align: right;\n",
       "    }\n",
       "</style>\n",
       "<table border=\"1\" class=\"dataframe\">\n",
       "  <thead>\n",
       "    <tr style=\"text-align: right;\">\n",
       "      <th></th>\n",
       "      <th>user_id</th>\n",
       "      <th>month</th>\n",
       "      <th>month_total_sms</th>\n",
       "    </tr>\n",
       "  </thead>\n",
       "  <tbody>\n",
       "    <tr>\n",
       "      <td>0</td>\n",
       "      <td>1000</td>\n",
       "      <td>August</td>\n",
       "      <td>81</td>\n",
       "    </tr>\n",
       "    <tr>\n",
       "      <td>1</td>\n",
       "      <td>1000</td>\n",
       "      <td>December</td>\n",
       "      <td>70</td>\n",
       "    </tr>\n",
       "    <tr>\n",
       "      <td>2</td>\n",
       "      <td>1000</td>\n",
       "      <td>July</td>\n",
       "      <td>75</td>\n",
       "    </tr>\n",
       "    <tr>\n",
       "      <td>3</td>\n",
       "      <td>1000</td>\n",
       "      <td>June</td>\n",
       "      <td>60</td>\n",
       "    </tr>\n",
       "    <tr>\n",
       "      <td>4</td>\n",
       "      <td>1000</td>\n",
       "      <td>May</td>\n",
       "      <td>22</td>\n",
       "    </tr>\n",
       "  </tbody>\n",
       "</table>\n",
       "</div>"
      ],
      "text/plain": [
       "   user_id     month  month_total_sms\n",
       "0     1000    August               81\n",
       "1     1000  December               70\n",
       "2     1000      July               75\n",
       "3     1000      June               60\n",
       "4     1000       May               22"
      ]
     },
     "execution_count": 17,
     "metadata": {},
     "output_type": "execute_result"
    }
   ],
   "source": [
    "#создаем новый датасет, сгруппированый по каждому пользователю в разрезе месяцев\n",
    "user_messages = messages.groupby(['user_id', 'month'])\\\n",
    "                        .agg({'id':'count'})\\\n",
    "                        .reset_index()\\\n",
    "                        .rename(columns={'id':'month_total_sms'})\n",
    "user_messages.head()"
   ]
  },
  {
   "cell_type": "markdown",
   "metadata": {},
   "source": [
    "#### Объем израсходованного интернет-трафика по месяцам"
   ]
  },
  {
   "cell_type": "code",
   "execution_count": 18,
   "metadata": {},
   "outputs": [
    {
     "data": {
      "text/html": [
       "<div>\n",
       "<style scoped>\n",
       "    .dataframe tbody tr th:only-of-type {\n",
       "        vertical-align: middle;\n",
       "    }\n",
       "\n",
       "    .dataframe tbody tr th {\n",
       "        vertical-align: top;\n",
       "    }\n",
       "\n",
       "    .dataframe thead th {\n",
       "        text-align: right;\n",
       "    }\n",
       "</style>\n",
       "<table border=\"1\" class=\"dataframe\">\n",
       "  <thead>\n",
       "    <tr style=\"text-align: right;\">\n",
       "      <th></th>\n",
       "      <th>id</th>\n",
       "      <th>mb_used</th>\n",
       "      <th>session_date</th>\n",
       "      <th>user_id</th>\n",
       "      <th>month</th>\n",
       "    </tr>\n",
       "  </thead>\n",
       "  <tbody>\n",
       "    <tr>\n",
       "      <td>0</td>\n",
       "      <td>10000</td>\n",
       "      <td>112.95</td>\n",
       "      <td>2018-11-25</td>\n",
       "      <td>1000</td>\n",
       "      <td>November</td>\n",
       "    </tr>\n",
       "    <tr>\n",
       "      <td>1</td>\n",
       "      <td>10001</td>\n",
       "      <td>1052.81</td>\n",
       "      <td>2018-09-07</td>\n",
       "      <td>1000</td>\n",
       "      <td>September</td>\n",
       "    </tr>\n",
       "    <tr>\n",
       "      <td>2</td>\n",
       "      <td>10002</td>\n",
       "      <td>1197.26</td>\n",
       "      <td>2018-06-25</td>\n",
       "      <td>1000</td>\n",
       "      <td>June</td>\n",
       "    </tr>\n",
       "    <tr>\n",
       "      <td>3</td>\n",
       "      <td>10003</td>\n",
       "      <td>550.27</td>\n",
       "      <td>2018-08-22</td>\n",
       "      <td>1000</td>\n",
       "      <td>August</td>\n",
       "    </tr>\n",
       "    <tr>\n",
       "      <td>4</td>\n",
       "      <td>10004</td>\n",
       "      <td>302.56</td>\n",
       "      <td>2018-09-24</td>\n",
       "      <td>1000</td>\n",
       "      <td>September</td>\n",
       "    </tr>\n",
       "  </tbody>\n",
       "</table>\n",
       "</div>"
      ],
      "text/plain": [
       "      id  mb_used session_date  user_id      month\n",
       "0  10000   112.95   2018-11-25     1000   November\n",
       "1  10001  1052.81   2018-09-07     1000  September\n",
       "2  10002  1197.26   2018-06-25     1000       June\n",
       "3  10003   550.27   2018-08-22     1000     August\n",
       "4  10004   302.56   2018-09-24     1000  September"
      ]
     },
     "execution_count": 18,
     "metadata": {},
     "output_type": "execute_result"
    }
   ],
   "source": [
    "internet['month'] = internet['session_date'].dt.month_name() #создаем столбец с месяцем\n",
    "internet.head()"
   ]
  },
  {
   "cell_type": "code",
   "execution_count": 19,
   "metadata": {},
   "outputs": [
    {
     "data": {
      "text/html": [
       "<div>\n",
       "<style scoped>\n",
       "    .dataframe tbody tr th:only-of-type {\n",
       "        vertical-align: middle;\n",
       "    }\n",
       "\n",
       "    .dataframe tbody tr th {\n",
       "        vertical-align: top;\n",
       "    }\n",
       "\n",
       "    .dataframe thead th {\n",
       "        text-align: right;\n",
       "    }\n",
       "</style>\n",
       "<table border=\"1\" class=\"dataframe\">\n",
       "  <thead>\n",
       "    <tr style=\"text-align: right;\">\n",
       "      <th></th>\n",
       "      <th>user_id</th>\n",
       "      <th>month</th>\n",
       "      <th>month_total_mb</th>\n",
       "    </tr>\n",
       "  </thead>\n",
       "  <tbody>\n",
       "    <tr>\n",
       "      <td>0</td>\n",
       "      <td>1000</td>\n",
       "      <td>August</td>\n",
       "      <td>14055.93</td>\n",
       "    </tr>\n",
       "    <tr>\n",
       "      <td>1</td>\n",
       "      <td>1000</td>\n",
       "      <td>December</td>\n",
       "      <td>9817.61</td>\n",
       "    </tr>\n",
       "    <tr>\n",
       "      <td>2</td>\n",
       "      <td>1000</td>\n",
       "      <td>July</td>\n",
       "      <td>14003.64</td>\n",
       "    </tr>\n",
       "    <tr>\n",
       "      <td>3</td>\n",
       "      <td>1000</td>\n",
       "      <td>June</td>\n",
       "      <td>23233.77</td>\n",
       "    </tr>\n",
       "    <tr>\n",
       "      <td>4</td>\n",
       "      <td>1000</td>\n",
       "      <td>May</td>\n",
       "      <td>2253.49</td>\n",
       "    </tr>\n",
       "  </tbody>\n",
       "</table>\n",
       "</div>"
      ],
      "text/plain": [
       "   user_id     month  month_total_mb\n",
       "0     1000    August        14055.93\n",
       "1     1000  December         9817.61\n",
       "2     1000      July        14003.64\n",
       "3     1000      June        23233.77\n",
       "4     1000       May         2253.49"
      ]
     },
     "execution_count": 19,
     "metadata": {},
     "output_type": "execute_result"
    }
   ],
   "source": [
    "#создаем новый датасет, сгруппированый по каждому пользователю в разрезе месяцев\n",
    "user_internet = internet.groupby(['user_id', 'month'])\\\n",
    "                        .agg({'mb_used':'sum'})\\\n",
    "                        .reset_index()\\\n",
    "                        .rename(columns={'mb_used':'month_total_mb'})\n",
    "user_internet.head()"
   ]
  },
  {
   "cell_type": "markdown",
   "metadata": {},
   "source": [
    "Как говорилось ранее, у «Мегалайн» общая сумма трафика за месяц округляется в бо́льшую сторону. Если абонент использует 1025 мегабайт в этом месяце, с него возьмут плату за 2 гигабайта. Округлим данные."
   ]
  },
  {
   "cell_type": "code",
   "execution_count": 20,
   "metadata": {},
   "outputs": [
    {
     "data": {
      "text/html": [
       "<div>\n",
       "<style scoped>\n",
       "    .dataframe tbody tr th:only-of-type {\n",
       "        vertical-align: middle;\n",
       "    }\n",
       "\n",
       "    .dataframe tbody tr th {\n",
       "        vertical-align: top;\n",
       "    }\n",
       "\n",
       "    .dataframe thead th {\n",
       "        text-align: right;\n",
       "    }\n",
       "</style>\n",
       "<table border=\"1\" class=\"dataframe\">\n",
       "  <thead>\n",
       "    <tr style=\"text-align: right;\">\n",
       "      <th></th>\n",
       "      <th>user_id</th>\n",
       "      <th>month</th>\n",
       "      <th>month_total_gb</th>\n",
       "    </tr>\n",
       "  </thead>\n",
       "  <tbody>\n",
       "    <tr>\n",
       "      <td>0</td>\n",
       "      <td>1000</td>\n",
       "      <td>August</td>\n",
       "      <td>14</td>\n",
       "    </tr>\n",
       "    <tr>\n",
       "      <td>1</td>\n",
       "      <td>1000</td>\n",
       "      <td>December</td>\n",
       "      <td>10</td>\n",
       "    </tr>\n",
       "    <tr>\n",
       "      <td>2</td>\n",
       "      <td>1000</td>\n",
       "      <td>July</td>\n",
       "      <td>14</td>\n",
       "    </tr>\n",
       "    <tr>\n",
       "      <td>3</td>\n",
       "      <td>1000</td>\n",
       "      <td>June</td>\n",
       "      <td>23</td>\n",
       "    </tr>\n",
       "    <tr>\n",
       "      <td>4</td>\n",
       "      <td>1000</td>\n",
       "      <td>May</td>\n",
       "      <td>3</td>\n",
       "    </tr>\n",
       "  </tbody>\n",
       "</table>\n",
       "</div>"
      ],
      "text/plain": [
       "   user_id     month  month_total_gb\n",
       "0     1000    August              14\n",
       "1     1000  December              10\n",
       "2     1000      July              14\n",
       "3     1000      June              23\n",
       "4     1000       May               3"
      ]
     },
     "execution_count": 20,
     "metadata": {},
     "output_type": "execute_result"
    }
   ],
   "source": [
    "user_internet['month_total_mb'] = user_internet['month_total_mb'] / 1024 #переводим в Гб\n",
    "user_internet = user_internet.rename(columns={'month_total_mb':'month_total_gb'}) #обновим название\n",
    "user_internet['month_total_gb'] = user_internet['month_total_gb'].apply(np.ceil).astype('int')#округлим в большую сторону\n",
    "user_internet.head() #проверим результат"
   ]
  },
  {
   "cell_type": "markdown",
   "metadata": {},
   "source": [
    "Поскольку мы перевели данные в Гб, произведем конвертацию данных и в таблице с общей информацией по тарифам."
   ]
  },
  {
   "cell_type": "code",
   "execution_count": 21,
   "metadata": {},
   "outputs": [],
   "source": [
    "tariffs['mb_per_month_included'] = tariffs['mb_per_month_included'] / 1024 #переводим в Гб\n",
    "tariffs = tariffs.rename(columns = {'mb_per_month_included':'gb_per_month_included'}) #обновим название"
   ]
  },
  {
   "cell_type": "markdown",
   "metadata": {},
   "source": [
    "####  Помесячная выручка с каждого пользователя "
   ]
  },
  {
   "cell_type": "markdown",
   "metadata": {},
   "source": [
    "Помесячная выручка с каждого пользователя рассчитывается следующим образом: \n",
    "- из суммарного количества звонков, сообщений и интернет-трафика вычитается бесплатный лимит; \n",
    "- остаток умножается на значение из тарифного плана; \n",
    "- прибавляется абонентская плата, соответствующая тарифному плану. \n",
    "\n",
    "Для удобства рассчета и отражения соединим полученные данные в единый датасет."
   ]
  },
  {
   "cell_type": "code",
   "execution_count": 22,
   "metadata": {},
   "outputs": [
    {
     "data": {
      "text/html": [
       "<div>\n",
       "<style scoped>\n",
       "    .dataframe tbody tr th:only-of-type {\n",
       "        vertical-align: middle;\n",
       "    }\n",
       "\n",
       "    .dataframe tbody tr th {\n",
       "        vertical-align: top;\n",
       "    }\n",
       "\n",
       "    .dataframe thead th {\n",
       "        text-align: right;\n",
       "    }\n",
       "</style>\n",
       "<table border=\"1\" class=\"dataframe\">\n",
       "  <thead>\n",
       "    <tr style=\"text-align: right;\">\n",
       "      <th></th>\n",
       "      <th>user_id</th>\n",
       "      <th>month</th>\n",
       "      <th>month_total_duration</th>\n",
       "      <th>month_total_calls</th>\n",
       "      <th>month_total_sms</th>\n",
       "    </tr>\n",
       "  </thead>\n",
       "  <tbody>\n",
       "    <tr>\n",
       "      <td>0</td>\n",
       "      <td>1000</td>\n",
       "      <td>August</td>\n",
       "      <td>408.0</td>\n",
       "      <td>52.0</td>\n",
       "      <td>81.0</td>\n",
       "    </tr>\n",
       "    <tr>\n",
       "      <td>1</td>\n",
       "      <td>1000</td>\n",
       "      <td>December</td>\n",
       "      <td>333.0</td>\n",
       "      <td>46.0</td>\n",
       "      <td>70.0</td>\n",
       "    </tr>\n",
       "    <tr>\n",
       "      <td>2</td>\n",
       "      <td>1000</td>\n",
       "      <td>July</td>\n",
       "      <td>340.0</td>\n",
       "      <td>47.0</td>\n",
       "      <td>75.0</td>\n",
       "    </tr>\n",
       "    <tr>\n",
       "      <td>3</td>\n",
       "      <td>1000</td>\n",
       "      <td>June</td>\n",
       "      <td>172.0</td>\n",
       "      <td>43.0</td>\n",
       "      <td>60.0</td>\n",
       "    </tr>\n",
       "    <tr>\n",
       "      <td>4</td>\n",
       "      <td>1000</td>\n",
       "      <td>May</td>\n",
       "      <td>159.0</td>\n",
       "      <td>22.0</td>\n",
       "      <td>22.0</td>\n",
       "    </tr>\n",
       "  </tbody>\n",
       "</table>\n",
       "</div>"
      ],
      "text/plain": [
       "   user_id     month  month_total_duration  month_total_calls  month_total_sms\n",
       "0     1000    August                 408.0               52.0             81.0\n",
       "1     1000  December                 333.0               46.0             70.0\n",
       "2     1000      July                 340.0               47.0             75.0\n",
       "3     1000      June                 172.0               43.0             60.0\n",
       "4     1000       May                 159.0               22.0             22.0"
      ]
     },
     "execution_count": 22,
     "metadata": {},
     "output_type": "execute_result"
    }
   ],
   "source": [
    "df = user_calls.merge(user_messages, on=['user_id','month'], how='outer') #поочередно объединим таблицы\n",
    "df.head()"
   ]
  },
  {
   "cell_type": "code",
   "execution_count": 23,
   "metadata": {},
   "outputs": [
    {
     "data": {
      "text/html": [
       "<div>\n",
       "<style scoped>\n",
       "    .dataframe tbody tr th:only-of-type {\n",
       "        vertical-align: middle;\n",
       "    }\n",
       "\n",
       "    .dataframe tbody tr th {\n",
       "        vertical-align: top;\n",
       "    }\n",
       "\n",
       "    .dataframe thead th {\n",
       "        text-align: right;\n",
       "    }\n",
       "</style>\n",
       "<table border=\"1\" class=\"dataframe\">\n",
       "  <thead>\n",
       "    <tr style=\"text-align: right;\">\n",
       "      <th></th>\n",
       "      <th>user_id</th>\n",
       "      <th>month</th>\n",
       "      <th>month_total_duration</th>\n",
       "      <th>month_total_calls</th>\n",
       "      <th>month_total_sms</th>\n",
       "      <th>month_total_gb</th>\n",
       "    </tr>\n",
       "  </thead>\n",
       "  <tbody>\n",
       "    <tr>\n",
       "      <td>0</td>\n",
       "      <td>1000</td>\n",
       "      <td>August</td>\n",
       "      <td>408.0</td>\n",
       "      <td>52.0</td>\n",
       "      <td>81.0</td>\n",
       "      <td>14.0</td>\n",
       "    </tr>\n",
       "    <tr>\n",
       "      <td>1</td>\n",
       "      <td>1000</td>\n",
       "      <td>December</td>\n",
       "      <td>333.0</td>\n",
       "      <td>46.0</td>\n",
       "      <td>70.0</td>\n",
       "      <td>10.0</td>\n",
       "    </tr>\n",
       "    <tr>\n",
       "      <td>2</td>\n",
       "      <td>1000</td>\n",
       "      <td>July</td>\n",
       "      <td>340.0</td>\n",
       "      <td>47.0</td>\n",
       "      <td>75.0</td>\n",
       "      <td>14.0</td>\n",
       "    </tr>\n",
       "    <tr>\n",
       "      <td>3</td>\n",
       "      <td>1000</td>\n",
       "      <td>June</td>\n",
       "      <td>172.0</td>\n",
       "      <td>43.0</td>\n",
       "      <td>60.0</td>\n",
       "      <td>23.0</td>\n",
       "    </tr>\n",
       "    <tr>\n",
       "      <td>4</td>\n",
       "      <td>1000</td>\n",
       "      <td>May</td>\n",
       "      <td>159.0</td>\n",
       "      <td>22.0</td>\n",
       "      <td>22.0</td>\n",
       "      <td>3.0</td>\n",
       "    </tr>\n",
       "  </tbody>\n",
       "</table>\n",
       "</div>"
      ],
      "text/plain": [
       "   user_id     month  month_total_duration  month_total_calls  \\\n",
       "0     1000    August                 408.0               52.0   \n",
       "1     1000  December                 333.0               46.0   \n",
       "2     1000      July                 340.0               47.0   \n",
       "3     1000      June                 172.0               43.0   \n",
       "4     1000       May                 159.0               22.0   \n",
       "\n",
       "   month_total_sms  month_total_gb  \n",
       "0             81.0            14.0  \n",
       "1             70.0            10.0  \n",
       "2             75.0            14.0  \n",
       "3             60.0            23.0  \n",
       "4             22.0             3.0  "
      ]
     },
     "execution_count": 23,
     "metadata": {},
     "output_type": "execute_result"
    }
   ],
   "source": [
    "df = df.merge(user_internet, on=['user_id','month'], how = 'outer')\n",
    "df.head()"
   ]
  },
  {
   "cell_type": "code",
   "execution_count": 24,
   "metadata": {},
   "outputs": [
    {
     "data": {
      "text/html": [
       "<div>\n",
       "<style scoped>\n",
       "    .dataframe tbody tr th:only-of-type {\n",
       "        vertical-align: middle;\n",
       "    }\n",
       "\n",
       "    .dataframe tbody tr th {\n",
       "        vertical-align: top;\n",
       "    }\n",
       "\n",
       "    .dataframe thead th {\n",
       "        text-align: right;\n",
       "    }\n",
       "</style>\n",
       "<table border=\"1\" class=\"dataframe\">\n",
       "  <thead>\n",
       "    <tr style=\"text-align: right;\">\n",
       "      <th></th>\n",
       "      <th>user_id</th>\n",
       "      <th>month</th>\n",
       "      <th>month_total_duration</th>\n",
       "      <th>month_total_calls</th>\n",
       "      <th>month_total_sms</th>\n",
       "      <th>month_total_gb</th>\n",
       "      <th>age</th>\n",
       "      <th>churn_date</th>\n",
       "      <th>city</th>\n",
       "      <th>first_name</th>\n",
       "      <th>last_name</th>\n",
       "      <th>reg_date</th>\n",
       "      <th>tariff</th>\n",
       "    </tr>\n",
       "  </thead>\n",
       "  <tbody>\n",
       "    <tr>\n",
       "      <td>0</td>\n",
       "      <td>1000</td>\n",
       "      <td>August</td>\n",
       "      <td>408.0</td>\n",
       "      <td>52.0</td>\n",
       "      <td>81.0</td>\n",
       "      <td>14.0</td>\n",
       "      <td>52</td>\n",
       "      <td>NaT</td>\n",
       "      <td>Краснодар</td>\n",
       "      <td>Рафаил</td>\n",
       "      <td>Верещагин</td>\n",
       "      <td>2018-05-25</td>\n",
       "      <td>ultra</td>\n",
       "    </tr>\n",
       "    <tr>\n",
       "      <td>1</td>\n",
       "      <td>1000</td>\n",
       "      <td>December</td>\n",
       "      <td>333.0</td>\n",
       "      <td>46.0</td>\n",
       "      <td>70.0</td>\n",
       "      <td>10.0</td>\n",
       "      <td>52</td>\n",
       "      <td>NaT</td>\n",
       "      <td>Краснодар</td>\n",
       "      <td>Рафаил</td>\n",
       "      <td>Верещагин</td>\n",
       "      <td>2018-05-25</td>\n",
       "      <td>ultra</td>\n",
       "    </tr>\n",
       "    <tr>\n",
       "      <td>2</td>\n",
       "      <td>1000</td>\n",
       "      <td>July</td>\n",
       "      <td>340.0</td>\n",
       "      <td>47.0</td>\n",
       "      <td>75.0</td>\n",
       "      <td>14.0</td>\n",
       "      <td>52</td>\n",
       "      <td>NaT</td>\n",
       "      <td>Краснодар</td>\n",
       "      <td>Рафаил</td>\n",
       "      <td>Верещагин</td>\n",
       "      <td>2018-05-25</td>\n",
       "      <td>ultra</td>\n",
       "    </tr>\n",
       "    <tr>\n",
       "      <td>3</td>\n",
       "      <td>1000</td>\n",
       "      <td>June</td>\n",
       "      <td>172.0</td>\n",
       "      <td>43.0</td>\n",
       "      <td>60.0</td>\n",
       "      <td>23.0</td>\n",
       "      <td>52</td>\n",
       "      <td>NaT</td>\n",
       "      <td>Краснодар</td>\n",
       "      <td>Рафаил</td>\n",
       "      <td>Верещагин</td>\n",
       "      <td>2018-05-25</td>\n",
       "      <td>ultra</td>\n",
       "    </tr>\n",
       "    <tr>\n",
       "      <td>4</td>\n",
       "      <td>1000</td>\n",
       "      <td>May</td>\n",
       "      <td>159.0</td>\n",
       "      <td>22.0</td>\n",
       "      <td>22.0</td>\n",
       "      <td>3.0</td>\n",
       "      <td>52</td>\n",
       "      <td>NaT</td>\n",
       "      <td>Краснодар</td>\n",
       "      <td>Рафаил</td>\n",
       "      <td>Верещагин</td>\n",
       "      <td>2018-05-25</td>\n",
       "      <td>ultra</td>\n",
       "    </tr>\n",
       "  </tbody>\n",
       "</table>\n",
       "</div>"
      ],
      "text/plain": [
       "   user_id     month  month_total_duration  month_total_calls  \\\n",
       "0     1000    August                 408.0               52.0   \n",
       "1     1000  December                 333.0               46.0   \n",
       "2     1000      July                 340.0               47.0   \n",
       "3     1000      June                 172.0               43.0   \n",
       "4     1000       May                 159.0               22.0   \n",
       "\n",
       "   month_total_sms  month_total_gb  age churn_date       city first_name  \\\n",
       "0             81.0            14.0   52        NaT  Краснодар     Рафаил   \n",
       "1             70.0            10.0   52        NaT  Краснодар     Рафаил   \n",
       "2             75.0            14.0   52        NaT  Краснодар     Рафаил   \n",
       "3             60.0            23.0   52        NaT  Краснодар     Рафаил   \n",
       "4             22.0             3.0   52        NaT  Краснодар     Рафаил   \n",
       "\n",
       "   last_name   reg_date tariff  \n",
       "0  Верещагин 2018-05-25  ultra  \n",
       "1  Верещагин 2018-05-25  ultra  \n",
       "2  Верещагин 2018-05-25  ultra  \n",
       "3  Верещагин 2018-05-25  ultra  \n",
       "4  Верещагин 2018-05-25  ultra  "
      ]
     },
     "execution_count": 24,
     "metadata": {},
     "output_type": "execute_result"
    }
   ],
   "source": [
    "df = df.merge(users, on='user_id', how='left')\n",
    "df.head()"
   ]
  },
  {
   "cell_type": "code",
   "execution_count": 25,
   "metadata": {},
   "outputs": [],
   "source": [
    "tariffs = tariffs.rename(columns = {'tariff_name':'tariff'}) \n",
    "#переименовываем, чтобы объединить 2 таблицы по ключевому столбцу "
   ]
  },
  {
   "cell_type": "code",
   "execution_count": 26,
   "metadata": {},
   "outputs": [
    {
     "data": {
      "text/html": [
       "<div>\n",
       "<style scoped>\n",
       "    .dataframe tbody tr th:only-of-type {\n",
       "        vertical-align: middle;\n",
       "    }\n",
       "\n",
       "    .dataframe tbody tr th {\n",
       "        vertical-align: top;\n",
       "    }\n",
       "\n",
       "    .dataframe thead th {\n",
       "        text-align: right;\n",
       "    }\n",
       "</style>\n",
       "<table border=\"1\" class=\"dataframe\">\n",
       "  <thead>\n",
       "    <tr style=\"text-align: right;\">\n",
       "      <th></th>\n",
       "      <th>user_id</th>\n",
       "      <th>month</th>\n",
       "      <th>month_total_duration</th>\n",
       "      <th>month_total_calls</th>\n",
       "      <th>month_total_sms</th>\n",
       "      <th>month_total_gb</th>\n",
       "      <th>age</th>\n",
       "      <th>churn_date</th>\n",
       "      <th>city</th>\n",
       "      <th>first_name</th>\n",
       "      <th>last_name</th>\n",
       "      <th>reg_date</th>\n",
       "      <th>tariff</th>\n",
       "      <th>messages_included</th>\n",
       "      <th>gb_per_month_included</th>\n",
       "      <th>minutes_included</th>\n",
       "      <th>rub_monthly_fee</th>\n",
       "      <th>rub_per_gb</th>\n",
       "      <th>rub_per_message</th>\n",
       "      <th>rub_per_minute</th>\n",
       "    </tr>\n",
       "  </thead>\n",
       "  <tbody>\n",
       "    <tr>\n",
       "      <td>0</td>\n",
       "      <td>1000</td>\n",
       "      <td>August</td>\n",
       "      <td>408.0</td>\n",
       "      <td>52.0</td>\n",
       "      <td>81.0</td>\n",
       "      <td>14.0</td>\n",
       "      <td>52</td>\n",
       "      <td>NaT</td>\n",
       "      <td>Краснодар</td>\n",
       "      <td>Рафаил</td>\n",
       "      <td>Верещагин</td>\n",
       "      <td>2018-05-25</td>\n",
       "      <td>ultra</td>\n",
       "      <td>1000</td>\n",
       "      <td>30.0</td>\n",
       "      <td>3000</td>\n",
       "      <td>1950</td>\n",
       "      <td>150</td>\n",
       "      <td>1</td>\n",
       "      <td>1</td>\n",
       "    </tr>\n",
       "    <tr>\n",
       "      <td>1</td>\n",
       "      <td>1000</td>\n",
       "      <td>December</td>\n",
       "      <td>333.0</td>\n",
       "      <td>46.0</td>\n",
       "      <td>70.0</td>\n",
       "      <td>10.0</td>\n",
       "      <td>52</td>\n",
       "      <td>NaT</td>\n",
       "      <td>Краснодар</td>\n",
       "      <td>Рафаил</td>\n",
       "      <td>Верещагин</td>\n",
       "      <td>2018-05-25</td>\n",
       "      <td>ultra</td>\n",
       "      <td>1000</td>\n",
       "      <td>30.0</td>\n",
       "      <td>3000</td>\n",
       "      <td>1950</td>\n",
       "      <td>150</td>\n",
       "      <td>1</td>\n",
       "      <td>1</td>\n",
       "    </tr>\n",
       "    <tr>\n",
       "      <td>2</td>\n",
       "      <td>1000</td>\n",
       "      <td>July</td>\n",
       "      <td>340.0</td>\n",
       "      <td>47.0</td>\n",
       "      <td>75.0</td>\n",
       "      <td>14.0</td>\n",
       "      <td>52</td>\n",
       "      <td>NaT</td>\n",
       "      <td>Краснодар</td>\n",
       "      <td>Рафаил</td>\n",
       "      <td>Верещагин</td>\n",
       "      <td>2018-05-25</td>\n",
       "      <td>ultra</td>\n",
       "      <td>1000</td>\n",
       "      <td>30.0</td>\n",
       "      <td>3000</td>\n",
       "      <td>1950</td>\n",
       "      <td>150</td>\n",
       "      <td>1</td>\n",
       "      <td>1</td>\n",
       "    </tr>\n",
       "    <tr>\n",
       "      <td>3</td>\n",
       "      <td>1000</td>\n",
       "      <td>June</td>\n",
       "      <td>172.0</td>\n",
       "      <td>43.0</td>\n",
       "      <td>60.0</td>\n",
       "      <td>23.0</td>\n",
       "      <td>52</td>\n",
       "      <td>NaT</td>\n",
       "      <td>Краснодар</td>\n",
       "      <td>Рафаил</td>\n",
       "      <td>Верещагин</td>\n",
       "      <td>2018-05-25</td>\n",
       "      <td>ultra</td>\n",
       "      <td>1000</td>\n",
       "      <td>30.0</td>\n",
       "      <td>3000</td>\n",
       "      <td>1950</td>\n",
       "      <td>150</td>\n",
       "      <td>1</td>\n",
       "      <td>1</td>\n",
       "    </tr>\n",
       "    <tr>\n",
       "      <td>4</td>\n",
       "      <td>1000</td>\n",
       "      <td>May</td>\n",
       "      <td>159.0</td>\n",
       "      <td>22.0</td>\n",
       "      <td>22.0</td>\n",
       "      <td>3.0</td>\n",
       "      <td>52</td>\n",
       "      <td>NaT</td>\n",
       "      <td>Краснодар</td>\n",
       "      <td>Рафаил</td>\n",
       "      <td>Верещагин</td>\n",
       "      <td>2018-05-25</td>\n",
       "      <td>ultra</td>\n",
       "      <td>1000</td>\n",
       "      <td>30.0</td>\n",
       "      <td>3000</td>\n",
       "      <td>1950</td>\n",
       "      <td>150</td>\n",
       "      <td>1</td>\n",
       "      <td>1</td>\n",
       "    </tr>\n",
       "  </tbody>\n",
       "</table>\n",
       "</div>"
      ],
      "text/plain": [
       "   user_id     month  month_total_duration  month_total_calls  \\\n",
       "0     1000    August                 408.0               52.0   \n",
       "1     1000  December                 333.0               46.0   \n",
       "2     1000      July                 340.0               47.0   \n",
       "3     1000      June                 172.0               43.0   \n",
       "4     1000       May                 159.0               22.0   \n",
       "\n",
       "   month_total_sms  month_total_gb  age churn_date       city first_name  \\\n",
       "0             81.0            14.0   52        NaT  Краснодар     Рафаил   \n",
       "1             70.0            10.0   52        NaT  Краснодар     Рафаил   \n",
       "2             75.0            14.0   52        NaT  Краснодар     Рафаил   \n",
       "3             60.0            23.0   52        NaT  Краснодар     Рафаил   \n",
       "4             22.0             3.0   52        NaT  Краснодар     Рафаил   \n",
       "\n",
       "   last_name   reg_date tariff  messages_included  gb_per_month_included  \\\n",
       "0  Верещагин 2018-05-25  ultra               1000                   30.0   \n",
       "1  Верещагин 2018-05-25  ultra               1000                   30.0   \n",
       "2  Верещагин 2018-05-25  ultra               1000                   30.0   \n",
       "3  Верещагин 2018-05-25  ultra               1000                   30.0   \n",
       "4  Верещагин 2018-05-25  ultra               1000                   30.0   \n",
       "\n",
       "   minutes_included  rub_monthly_fee  rub_per_gb  rub_per_message  \\\n",
       "0              3000             1950         150                1   \n",
       "1              3000             1950         150                1   \n",
       "2              3000             1950         150                1   \n",
       "3              3000             1950         150                1   \n",
       "4              3000             1950         150                1   \n",
       "\n",
       "   rub_per_minute  \n",
       "0               1  \n",
       "1               1  \n",
       "2               1  \n",
       "3               1  \n",
       "4               1  "
      ]
     },
     "execution_count": 26,
     "metadata": {},
     "output_type": "execute_result"
    }
   ],
   "source": [
    "df = df.merge(tariffs, on='tariff', how='left')\n",
    "df.head() "
   ]
  },
  {
   "cell_type": "markdown",
   "metadata": {},
   "source": [
    "Поочередно объединив 5 таблиц в один датасет, можем приступить к рассчету выручки. Однако, стоит проверить, нет ли пропусков/недочетов в новой таблице."
   ]
  },
  {
   "cell_type": "code",
   "execution_count": 27,
   "metadata": {},
   "outputs": [
    {
     "data": {
      "text/plain": [
       "user_id                     0\n",
       "month                       0\n",
       "month_total_duration       40\n",
       "month_total_calls          40\n",
       "month_total_sms           497\n",
       "month_total_gb             11\n",
       "age                         0\n",
       "churn_date               3027\n",
       "city                        0\n",
       "first_name                  0\n",
       "last_name                   0\n",
       "reg_date                    0\n",
       "tariff                      0\n",
       "messages_included           0\n",
       "gb_per_month_included       0\n",
       "minutes_included            0\n",
       "rub_monthly_fee             0\n",
       "rub_per_gb                  0\n",
       "rub_per_message             0\n",
       "rub_per_minute              0\n",
       "dtype: int64"
      ]
     },
     "execution_count": 27,
     "metadata": {},
     "output_type": "execute_result"
    }
   ],
   "source": [
    "df.isna().sum()"
   ]
  },
  {
   "cell_type": "markdown",
   "metadata": {},
   "source": [
    "Поскольку потребности в ср-вах связи у всех разные, вполне может быть, что некоторые клиенты совсем не пользуются СМС или телефонной связью (например, все коммуникации проходят через интернет по соц. сетям. И наоборот, некоторые предпочитают стандартные виды коммуникации в виде СМС и звонков, соответственно интернет-трафик у таких клиентов будет нулевым). Заполним пропуски на соответствующие значения."
   ]
  },
  {
   "cell_type": "code",
   "execution_count": 28,
   "metadata": {
    "scrolled": false
   },
   "outputs": [
    {
     "data": {
      "text/plain": [
       "user_id                     0\n",
       "month                       0\n",
       "month_total_duration        0\n",
       "month_total_calls           0\n",
       "month_total_sms             0\n",
       "month_total_gb              0\n",
       "age                         0\n",
       "churn_date               3027\n",
       "city                        0\n",
       "first_name                  0\n",
       "last_name                   0\n",
       "reg_date                    0\n",
       "tariff                      0\n",
       "messages_included           0\n",
       "gb_per_month_included       0\n",
       "minutes_included            0\n",
       "rub_monthly_fee             0\n",
       "rub_per_gb                  0\n",
       "rub_per_message             0\n",
       "rub_per_minute              0\n",
       "dtype: int64"
      ]
     },
     "execution_count": 28,
     "metadata": {},
     "output_type": "execute_result"
    }
   ],
   "source": [
    "columns_name = ['month_total_duration', 'month_total_calls', 'month_total_sms', 'month_total_gb']\n",
    "for name in columns_name:\n",
    "    df[name] = df[name].fillna(0)\n",
    "df.isna().sum()"
   ]
  },
  {
   "cell_type": "markdown",
   "metadata": {},
   "source": [
    "Данные очищены и готовы к рассчету. Для удобства вычисления суммы ежемесячной выручки можно создать функцию, определяющую сумму расходов на связь."
   ]
  },
  {
   "cell_type": "code",
   "execution_count": 29,
   "metadata": {},
   "outputs": [],
   "source": [
    "def above_the_tariff(row):\n",
    "    message = (row['month_total_sms'] - row['messages_included']) * row['rub_per_message'] #переплата за СМС\n",
    "    minute = (row['month_total_duration'] - row['minutes_included']) * row['rub_per_minute'] #переплата за минуты\n",
    "    gb = (row['month_total_gb'] - row['gb_per_month_included']) * row['rub_per_gb'] #переплата за Гб\n",
    "    total = 0\n",
    "    for i in [message, minute, gb]:\n",
    "        if i > 0:\n",
    "            total += i\n",
    "    return total"
   ]
  },
  {
   "cell_type": "code",
   "execution_count": 30,
   "metadata": {},
   "outputs": [
    {
     "data": {
      "text/html": [
       "<div>\n",
       "<style scoped>\n",
       "    .dataframe tbody tr th:only-of-type {\n",
       "        vertical-align: middle;\n",
       "    }\n",
       "\n",
       "    .dataframe tbody tr th {\n",
       "        vertical-align: top;\n",
       "    }\n",
       "\n",
       "    .dataframe thead th {\n",
       "        text-align: right;\n",
       "    }\n",
       "</style>\n",
       "<table border=\"1\" class=\"dataframe\">\n",
       "  <thead>\n",
       "    <tr style=\"text-align: right;\">\n",
       "      <th></th>\n",
       "      <th>user_id</th>\n",
       "      <th>month_total_duration</th>\n",
       "      <th>month_total_calls</th>\n",
       "      <th>month_total_sms</th>\n",
       "      <th>month_total_gb</th>\n",
       "      <th>age</th>\n",
       "      <th>messages_included</th>\n",
       "      <th>gb_per_month_included</th>\n",
       "      <th>minutes_included</th>\n",
       "      <th>rub_monthly_fee</th>\n",
       "      <th>rub_per_gb</th>\n",
       "      <th>rub_per_message</th>\n",
       "      <th>rub_per_minute</th>\n",
       "      <th>above_the_tariff</th>\n",
       "      <th>total_paid</th>\n",
       "    </tr>\n",
       "  </thead>\n",
       "  <tbody>\n",
       "    <tr>\n",
       "      <td>count</td>\n",
       "      <td>3214.000000</td>\n",
       "      <td>3214.000000</td>\n",
       "      <td>3214.000000</td>\n",
       "      <td>3214.000000</td>\n",
       "      <td>3214.000000</td>\n",
       "      <td>3214.000000</td>\n",
       "      <td>3214.000000</td>\n",
       "      <td>3214.000000</td>\n",
       "      <td>3214.000000</td>\n",
       "      <td>3214.000000</td>\n",
       "      <td>3214.000000</td>\n",
       "      <td>3214.000000</td>\n",
       "      <td>3214.000000</td>\n",
       "      <td>3214.000000</td>\n",
       "      <td>3214.000000</td>\n",
       "    </tr>\n",
       "    <tr>\n",
       "      <td>mean</td>\n",
       "      <td>1251.590230</td>\n",
       "      <td>451.244866</td>\n",
       "      <td>63.038892</td>\n",
       "      <td>38.281269</td>\n",
       "      <td>17.299004</td>\n",
       "      <td>46.641568</td>\n",
       "      <td>341.148102</td>\n",
       "      <td>19.597075</td>\n",
       "      <td>1266.179216</td>\n",
       "      <td>979.060361</td>\n",
       "      <td>184.676416</td>\n",
       "      <td>2.387057</td>\n",
       "      <td>2.387057</td>\n",
       "      <td>550.015868</td>\n",
       "      <td>1529.076229</td>\n",
       "    </tr>\n",
       "    <tr>\n",
       "      <td>std</td>\n",
       "      <td>144.659172</td>\n",
       "      <td>241.909978</td>\n",
       "      <td>33.236368</td>\n",
       "      <td>36.148326</td>\n",
       "      <td>7.400584</td>\n",
       "      <td>16.586109</td>\n",
       "      <td>438.044726</td>\n",
       "      <td>6.916496</td>\n",
       "      <td>1152.749279</td>\n",
       "      <td>645.539596</td>\n",
       "      <td>23.054986</td>\n",
       "      <td>0.922199</td>\n",
       "      <td>0.922199</td>\n",
       "      <td>767.771509</td>\n",
       "      <td>798.251091</td>\n",
       "    </tr>\n",
       "    <tr>\n",
       "      <td>min</td>\n",
       "      <td>1000.000000</td>\n",
       "      <td>0.000000</td>\n",
       "      <td>0.000000</td>\n",
       "      <td>0.000000</td>\n",
       "      <td>0.000000</td>\n",
       "      <td>18.000000</td>\n",
       "      <td>50.000000</td>\n",
       "      <td>15.000000</td>\n",
       "      <td>500.000000</td>\n",
       "      <td>550.000000</td>\n",
       "      <td>150.000000</td>\n",
       "      <td>1.000000</td>\n",
       "      <td>1.000000</td>\n",
       "      <td>0.000000</td>\n",
       "      <td>550.000000</td>\n",
       "    </tr>\n",
       "    <tr>\n",
       "      <td>25%</td>\n",
       "      <td>1125.000000</td>\n",
       "      <td>282.000000</td>\n",
       "      <td>40.000000</td>\n",
       "      <td>9.000000</td>\n",
       "      <td>13.000000</td>\n",
       "      <td>32.000000</td>\n",
       "      <td>50.000000</td>\n",
       "      <td>15.000000</td>\n",
       "      <td>500.000000</td>\n",
       "      <td>550.000000</td>\n",
       "      <td>150.000000</td>\n",
       "      <td>1.000000</td>\n",
       "      <td>1.000000</td>\n",
       "      <td>0.000000</td>\n",
       "      <td>750.000000</td>\n",
       "    </tr>\n",
       "    <tr>\n",
       "      <td>50%</td>\n",
       "      <td>1253.000000</td>\n",
       "      <td>443.000000</td>\n",
       "      <td>62.000000</td>\n",
       "      <td>30.000000</td>\n",
       "      <td>17.000000</td>\n",
       "      <td>46.000000</td>\n",
       "      <td>50.000000</td>\n",
       "      <td>15.000000</td>\n",
       "      <td>500.000000</td>\n",
       "      <td>550.000000</td>\n",
       "      <td>200.000000</td>\n",
       "      <td>3.000000</td>\n",
       "      <td>3.000000</td>\n",
       "      <td>163.500000</td>\n",
       "      <td>1653.500000</td>\n",
       "    </tr>\n",
       "    <tr>\n",
       "      <td>75%</td>\n",
       "      <td>1378.750000</td>\n",
       "      <td>589.000000</td>\n",
       "      <td>82.000000</td>\n",
       "      <td>57.000000</td>\n",
       "      <td>21.000000</td>\n",
       "      <td>62.000000</td>\n",
       "      <td>1000.000000</td>\n",
       "      <td>30.000000</td>\n",
       "      <td>3000.000000</td>\n",
       "      <td>1950.000000</td>\n",
       "      <td>200.000000</td>\n",
       "      <td>3.000000</td>\n",
       "      <td>3.000000</td>\n",
       "      <td>938.000000</td>\n",
       "      <td>1950.000000</td>\n",
       "    </tr>\n",
       "    <tr>\n",
       "      <td>max</td>\n",
       "      <td>1499.000000</td>\n",
       "      <td>1673.000000</td>\n",
       "      <td>244.000000</td>\n",
       "      <td>224.000000</td>\n",
       "      <td>49.000000</td>\n",
       "      <td>75.000000</td>\n",
       "      <td>1000.000000</td>\n",
       "      <td>30.000000</td>\n",
       "      <td>3000.000000</td>\n",
       "      <td>1950.000000</td>\n",
       "      <td>200.000000</td>\n",
       "      <td>3.000000</td>\n",
       "      <td>3.000000</td>\n",
       "      <td>6220.000000</td>\n",
       "      <td>6770.000000</td>\n",
       "    </tr>\n",
       "  </tbody>\n",
       "</table>\n",
       "</div>"
      ],
      "text/plain": [
       "           user_id  month_total_duration  month_total_calls  month_total_sms  \\\n",
       "count  3214.000000           3214.000000        3214.000000      3214.000000   \n",
       "mean   1251.590230            451.244866          63.038892        38.281269   \n",
       "std     144.659172            241.909978          33.236368        36.148326   \n",
       "min    1000.000000              0.000000           0.000000         0.000000   \n",
       "25%    1125.000000            282.000000          40.000000         9.000000   \n",
       "50%    1253.000000            443.000000          62.000000        30.000000   \n",
       "75%    1378.750000            589.000000          82.000000        57.000000   \n",
       "max    1499.000000           1673.000000         244.000000       224.000000   \n",
       "\n",
       "       month_total_gb          age  messages_included  gb_per_month_included  \\\n",
       "count     3214.000000  3214.000000        3214.000000            3214.000000   \n",
       "mean        17.299004    46.641568         341.148102              19.597075   \n",
       "std          7.400584    16.586109         438.044726               6.916496   \n",
       "min          0.000000    18.000000          50.000000              15.000000   \n",
       "25%         13.000000    32.000000          50.000000              15.000000   \n",
       "50%         17.000000    46.000000          50.000000              15.000000   \n",
       "75%         21.000000    62.000000        1000.000000              30.000000   \n",
       "max         49.000000    75.000000        1000.000000              30.000000   \n",
       "\n",
       "       minutes_included  rub_monthly_fee   rub_per_gb  rub_per_message  \\\n",
       "count       3214.000000      3214.000000  3214.000000      3214.000000   \n",
       "mean        1266.179216       979.060361   184.676416         2.387057   \n",
       "std         1152.749279       645.539596    23.054986         0.922199   \n",
       "min          500.000000       550.000000   150.000000         1.000000   \n",
       "25%          500.000000       550.000000   150.000000         1.000000   \n",
       "50%          500.000000       550.000000   200.000000         3.000000   \n",
       "75%         3000.000000      1950.000000   200.000000         3.000000   \n",
       "max         3000.000000      1950.000000   200.000000         3.000000   \n",
       "\n",
       "       rub_per_minute  above_the_tariff   total_paid  \n",
       "count     3214.000000       3214.000000  3214.000000  \n",
       "mean         2.387057        550.015868  1529.076229  \n",
       "std          0.922199        767.771509   798.251091  \n",
       "min          1.000000          0.000000   550.000000  \n",
       "25%          1.000000          0.000000   750.000000  \n",
       "50%          3.000000        163.500000  1653.500000  \n",
       "75%          3.000000        938.000000  1950.000000  \n",
       "max          3.000000       6220.000000  6770.000000  "
      ]
     },
     "execution_count": 30,
     "metadata": {},
     "output_type": "execute_result"
    }
   ],
   "source": [
    "df['above_the_tariff'] = df.apply(lambda x: above_the_tariff(x), axis=1) #столбец переплаты за месяц сверх лимита (если есть)\n",
    "df['total_paid'] = df['rub_monthly_fee'] + df['above_the_tariff'] #итоговая сумма, которую заплатит клиент за месяц\n",
    "df.describe()"
   ]
  },
  {
   "cell_type": "code",
   "execution_count": 31,
   "metadata": {},
   "outputs": [
    {
     "data": {
      "text/html": [
       "<div>\n",
       "<style scoped>\n",
       "    .dataframe tbody tr th:only-of-type {\n",
       "        vertical-align: middle;\n",
       "    }\n",
       "\n",
       "    .dataframe tbody tr th {\n",
       "        vertical-align: top;\n",
       "    }\n",
       "\n",
       "    .dataframe thead th {\n",
       "        text-align: right;\n",
       "    }\n",
       "</style>\n",
       "<table border=\"1\" class=\"dataframe\">\n",
       "  <thead>\n",
       "    <tr style=\"text-align: right;\">\n",
       "      <th></th>\n",
       "      <th>user_id</th>\n",
       "      <th>month</th>\n",
       "      <th>month_total_duration</th>\n",
       "      <th>month_total_calls</th>\n",
       "      <th>month_total_sms</th>\n",
       "      <th>month_total_gb</th>\n",
       "      <th>age</th>\n",
       "      <th>churn_date</th>\n",
       "      <th>city</th>\n",
       "      <th>first_name</th>\n",
       "      <th>...</th>\n",
       "      <th>tariff</th>\n",
       "      <th>messages_included</th>\n",
       "      <th>gb_per_month_included</th>\n",
       "      <th>minutes_included</th>\n",
       "      <th>rub_monthly_fee</th>\n",
       "      <th>rub_per_gb</th>\n",
       "      <th>rub_per_message</th>\n",
       "      <th>rub_per_minute</th>\n",
       "      <th>above_the_tariff</th>\n",
       "      <th>total_paid</th>\n",
       "    </tr>\n",
       "  </thead>\n",
       "  <tbody>\n",
       "    <tr>\n",
       "      <td>0</td>\n",
       "      <td>1000</td>\n",
       "      <td>August</td>\n",
       "      <td>408.0</td>\n",
       "      <td>52.0</td>\n",
       "      <td>81.0</td>\n",
       "      <td>14.0</td>\n",
       "      <td>52</td>\n",
       "      <td>NaT</td>\n",
       "      <td>Краснодар</td>\n",
       "      <td>Рафаил</td>\n",
       "      <td>...</td>\n",
       "      <td>ultra</td>\n",
       "      <td>1000</td>\n",
       "      <td>30.0</td>\n",
       "      <td>3000</td>\n",
       "      <td>1950</td>\n",
       "      <td>150</td>\n",
       "      <td>1</td>\n",
       "      <td>1</td>\n",
       "      <td>0.0</td>\n",
       "      <td>1950.0</td>\n",
       "    </tr>\n",
       "    <tr>\n",
       "      <td>1</td>\n",
       "      <td>1000</td>\n",
       "      <td>December</td>\n",
       "      <td>333.0</td>\n",
       "      <td>46.0</td>\n",
       "      <td>70.0</td>\n",
       "      <td>10.0</td>\n",
       "      <td>52</td>\n",
       "      <td>NaT</td>\n",
       "      <td>Краснодар</td>\n",
       "      <td>Рафаил</td>\n",
       "      <td>...</td>\n",
       "      <td>ultra</td>\n",
       "      <td>1000</td>\n",
       "      <td>30.0</td>\n",
       "      <td>3000</td>\n",
       "      <td>1950</td>\n",
       "      <td>150</td>\n",
       "      <td>1</td>\n",
       "      <td>1</td>\n",
       "      <td>0.0</td>\n",
       "      <td>1950.0</td>\n",
       "    </tr>\n",
       "    <tr>\n",
       "      <td>2</td>\n",
       "      <td>1000</td>\n",
       "      <td>July</td>\n",
       "      <td>340.0</td>\n",
       "      <td>47.0</td>\n",
       "      <td>75.0</td>\n",
       "      <td>14.0</td>\n",
       "      <td>52</td>\n",
       "      <td>NaT</td>\n",
       "      <td>Краснодар</td>\n",
       "      <td>Рафаил</td>\n",
       "      <td>...</td>\n",
       "      <td>ultra</td>\n",
       "      <td>1000</td>\n",
       "      <td>30.0</td>\n",
       "      <td>3000</td>\n",
       "      <td>1950</td>\n",
       "      <td>150</td>\n",
       "      <td>1</td>\n",
       "      <td>1</td>\n",
       "      <td>0.0</td>\n",
       "      <td>1950.0</td>\n",
       "    </tr>\n",
       "    <tr>\n",
       "      <td>3</td>\n",
       "      <td>1000</td>\n",
       "      <td>June</td>\n",
       "      <td>172.0</td>\n",
       "      <td>43.0</td>\n",
       "      <td>60.0</td>\n",
       "      <td>23.0</td>\n",
       "      <td>52</td>\n",
       "      <td>NaT</td>\n",
       "      <td>Краснодар</td>\n",
       "      <td>Рафаил</td>\n",
       "      <td>...</td>\n",
       "      <td>ultra</td>\n",
       "      <td>1000</td>\n",
       "      <td>30.0</td>\n",
       "      <td>3000</td>\n",
       "      <td>1950</td>\n",
       "      <td>150</td>\n",
       "      <td>1</td>\n",
       "      <td>1</td>\n",
       "      <td>0.0</td>\n",
       "      <td>1950.0</td>\n",
       "    </tr>\n",
       "    <tr>\n",
       "      <td>4</td>\n",
       "      <td>1000</td>\n",
       "      <td>May</td>\n",
       "      <td>159.0</td>\n",
       "      <td>22.0</td>\n",
       "      <td>22.0</td>\n",
       "      <td>3.0</td>\n",
       "      <td>52</td>\n",
       "      <td>NaT</td>\n",
       "      <td>Краснодар</td>\n",
       "      <td>Рафаил</td>\n",
       "      <td>...</td>\n",
       "      <td>ultra</td>\n",
       "      <td>1000</td>\n",
       "      <td>30.0</td>\n",
       "      <td>3000</td>\n",
       "      <td>1950</td>\n",
       "      <td>150</td>\n",
       "      <td>1</td>\n",
       "      <td>1</td>\n",
       "      <td>0.0</td>\n",
       "      <td>1950.0</td>\n",
       "    </tr>\n",
       "  </tbody>\n",
       "</table>\n",
       "<p>5 rows × 22 columns</p>\n",
       "</div>"
      ],
      "text/plain": [
       "   user_id     month  month_total_duration  month_total_calls  \\\n",
       "0     1000    August                 408.0               52.0   \n",
       "1     1000  December                 333.0               46.0   \n",
       "2     1000      July                 340.0               47.0   \n",
       "3     1000      June                 172.0               43.0   \n",
       "4     1000       May                 159.0               22.0   \n",
       "\n",
       "   month_total_sms  month_total_gb  age churn_date       city first_name  ...  \\\n",
       "0             81.0            14.0   52        NaT  Краснодар     Рафаил  ...   \n",
       "1             70.0            10.0   52        NaT  Краснодар     Рафаил  ...   \n",
       "2             75.0            14.0   52        NaT  Краснодар     Рафаил  ...   \n",
       "3             60.0            23.0   52        NaT  Краснодар     Рафаил  ...   \n",
       "4             22.0             3.0   52        NaT  Краснодар     Рафаил  ...   \n",
       "\n",
       "  tariff messages_included gb_per_month_included  minutes_included  \\\n",
       "0  ultra              1000                  30.0              3000   \n",
       "1  ultra              1000                  30.0              3000   \n",
       "2  ultra              1000                  30.0              3000   \n",
       "3  ultra              1000                  30.0              3000   \n",
       "4  ultra              1000                  30.0              3000   \n",
       "\n",
       "   rub_monthly_fee  rub_per_gb  rub_per_message  rub_per_minute  \\\n",
       "0             1950         150                1               1   \n",
       "1             1950         150                1               1   \n",
       "2             1950         150                1               1   \n",
       "3             1950         150                1               1   \n",
       "4             1950         150                1               1   \n",
       "\n",
       "   above_the_tariff  total_paid  \n",
       "0               0.0      1950.0  \n",
       "1               0.0      1950.0  \n",
       "2               0.0      1950.0  \n",
       "3               0.0      1950.0  \n",
       "4               0.0      1950.0  \n",
       "\n",
       "[5 rows x 22 columns]"
      ]
     },
     "execution_count": 31,
     "metadata": {},
     "output_type": "execute_result"
    }
   ],
   "source": [
    "df.head()"
   ]
  },
  {
   "cell_type": "code",
   "execution_count": 32,
   "metadata": {},
   "outputs": [
    {
     "data": {
      "text/html": [
       "<div>\n",
       "<style scoped>\n",
       "    .dataframe tbody tr th:only-of-type {\n",
       "        vertical-align: middle;\n",
       "    }\n",
       "\n",
       "    .dataframe tbody tr th {\n",
       "        vertical-align: top;\n",
       "    }\n",
       "\n",
       "    .dataframe thead th {\n",
       "        text-align: right;\n",
       "    }\n",
       "</style>\n",
       "<table border=\"1\" class=\"dataframe\">\n",
       "  <thead>\n",
       "    <tr style=\"text-align: right;\">\n",
       "      <th></th>\n",
       "      <th>user_id</th>\n",
       "      <th>month</th>\n",
       "      <th>month_total_duration</th>\n",
       "      <th>month_total_calls</th>\n",
       "      <th>month_total_sms</th>\n",
       "      <th>month_total_gb</th>\n",
       "      <th>age</th>\n",
       "      <th>churn_date</th>\n",
       "      <th>city</th>\n",
       "      <th>reg_date</th>\n",
       "      <th>tariff</th>\n",
       "      <th>rub_monthly_fee</th>\n",
       "      <th>above_the_tariff</th>\n",
       "      <th>total_paid</th>\n",
       "    </tr>\n",
       "  </thead>\n",
       "  <tbody>\n",
       "    <tr>\n",
       "      <td>0</td>\n",
       "      <td>1000</td>\n",
       "      <td>August</td>\n",
       "      <td>408.0</td>\n",
       "      <td>52.0</td>\n",
       "      <td>81.0</td>\n",
       "      <td>14.0</td>\n",
       "      <td>52</td>\n",
       "      <td>NaT</td>\n",
       "      <td>Краснодар</td>\n",
       "      <td>2018-05-25</td>\n",
       "      <td>ultra</td>\n",
       "      <td>1950</td>\n",
       "      <td>0.0</td>\n",
       "      <td>1950.0</td>\n",
       "    </tr>\n",
       "    <tr>\n",
       "      <td>1</td>\n",
       "      <td>1000</td>\n",
       "      <td>December</td>\n",
       "      <td>333.0</td>\n",
       "      <td>46.0</td>\n",
       "      <td>70.0</td>\n",
       "      <td>10.0</td>\n",
       "      <td>52</td>\n",
       "      <td>NaT</td>\n",
       "      <td>Краснодар</td>\n",
       "      <td>2018-05-25</td>\n",
       "      <td>ultra</td>\n",
       "      <td>1950</td>\n",
       "      <td>0.0</td>\n",
       "      <td>1950.0</td>\n",
       "    </tr>\n",
       "    <tr>\n",
       "      <td>2</td>\n",
       "      <td>1000</td>\n",
       "      <td>July</td>\n",
       "      <td>340.0</td>\n",
       "      <td>47.0</td>\n",
       "      <td>75.0</td>\n",
       "      <td>14.0</td>\n",
       "      <td>52</td>\n",
       "      <td>NaT</td>\n",
       "      <td>Краснодар</td>\n",
       "      <td>2018-05-25</td>\n",
       "      <td>ultra</td>\n",
       "      <td>1950</td>\n",
       "      <td>0.0</td>\n",
       "      <td>1950.0</td>\n",
       "    </tr>\n",
       "    <tr>\n",
       "      <td>3</td>\n",
       "      <td>1000</td>\n",
       "      <td>June</td>\n",
       "      <td>172.0</td>\n",
       "      <td>43.0</td>\n",
       "      <td>60.0</td>\n",
       "      <td>23.0</td>\n",
       "      <td>52</td>\n",
       "      <td>NaT</td>\n",
       "      <td>Краснодар</td>\n",
       "      <td>2018-05-25</td>\n",
       "      <td>ultra</td>\n",
       "      <td>1950</td>\n",
       "      <td>0.0</td>\n",
       "      <td>1950.0</td>\n",
       "    </tr>\n",
       "    <tr>\n",
       "      <td>4</td>\n",
       "      <td>1000</td>\n",
       "      <td>May</td>\n",
       "      <td>159.0</td>\n",
       "      <td>22.0</td>\n",
       "      <td>22.0</td>\n",
       "      <td>3.0</td>\n",
       "      <td>52</td>\n",
       "      <td>NaT</td>\n",
       "      <td>Краснодар</td>\n",
       "      <td>2018-05-25</td>\n",
       "      <td>ultra</td>\n",
       "      <td>1950</td>\n",
       "      <td>0.0</td>\n",
       "      <td>1950.0</td>\n",
       "    </tr>\n",
       "  </tbody>\n",
       "</table>\n",
       "</div>"
      ],
      "text/plain": [
       "   user_id     month  month_total_duration  month_total_calls  \\\n",
       "0     1000    August                 408.0               52.0   \n",
       "1     1000  December                 333.0               46.0   \n",
       "2     1000      July                 340.0               47.0   \n",
       "3     1000      June                 172.0               43.0   \n",
       "4     1000       May                 159.0               22.0   \n",
       "\n",
       "   month_total_sms  month_total_gb  age churn_date       city   reg_date  \\\n",
       "0             81.0            14.0   52        NaT  Краснодар 2018-05-25   \n",
       "1             70.0            10.0   52        NaT  Краснодар 2018-05-25   \n",
       "2             75.0            14.0   52        NaT  Краснодар 2018-05-25   \n",
       "3             60.0            23.0   52        NaT  Краснодар 2018-05-25   \n",
       "4             22.0             3.0   52        NaT  Краснодар 2018-05-25   \n",
       "\n",
       "  tariff  rub_monthly_fee  above_the_tariff  total_paid  \n",
       "0  ultra             1950               0.0      1950.0  \n",
       "1  ultra             1950               0.0      1950.0  \n",
       "2  ultra             1950               0.0      1950.0  \n",
       "3  ultra             1950               0.0      1950.0  \n",
       "4  ultra             1950               0.0      1950.0  "
      ]
     },
     "execution_count": 32,
     "metadata": {},
     "output_type": "execute_result"
    }
   ],
   "source": [
    "for column in ['first_name', 'last_name', 'messages_included', 'gb_per_month_included', 'minutes_included',\\\n",
    "               'rub_per_gb', 'rub_per_message', 'rub_per_minute']:\n",
    "    del df[column]\n",
    "df.head()"
   ]
  },
  {
   "cell_type": "code",
   "execution_count": 48,
   "metadata": {},
   "outputs": [
    {
     "data": {
      "text/html": [
       "<div>\n",
       "<style scoped>\n",
       "    .dataframe tbody tr th:only-of-type {\n",
       "        vertical-align: middle;\n",
       "    }\n",
       "\n",
       "    .dataframe tbody tr th {\n",
       "        vertical-align: top;\n",
       "    }\n",
       "\n",
       "    .dataframe thead th {\n",
       "        text-align: right;\n",
       "    }\n",
       "</style>\n",
       "<table border=\"1\" class=\"dataframe\">\n",
       "  <thead>\n",
       "    <tr style=\"text-align: right;\">\n",
       "      <th></th>\n",
       "      <th>user_id</th>\n",
       "      <th>month</th>\n",
       "      <th>month_total_duration</th>\n",
       "      <th>month_total_calls</th>\n",
       "      <th>month_total_sms</th>\n",
       "      <th>month_total_gb</th>\n",
       "      <th>age</th>\n",
       "      <th>churn_date</th>\n",
       "      <th>city</th>\n",
       "      <th>reg_date</th>\n",
       "      <th>tariff</th>\n",
       "      <th>rub_monthly_fee</th>\n",
       "      <th>above_the_tariff</th>\n",
       "      <th>total_paid</th>\n",
       "    </tr>\n",
       "  </thead>\n",
       "  <tbody>\n",
       "    <tr>\n",
       "      <td>0</td>\n",
       "      <td>1000</td>\n",
       "      <td>August</td>\n",
       "      <td>408.0</td>\n",
       "      <td>52.0</td>\n",
       "      <td>81.0</td>\n",
       "      <td>14.0</td>\n",
       "      <td>52</td>\n",
       "      <td>NaT</td>\n",
       "      <td>Краснодар</td>\n",
       "      <td>2018-05-25</td>\n",
       "      <td>ultra</td>\n",
       "      <td>1950</td>\n",
       "      <td>0.0</td>\n",
       "      <td>1950</td>\n",
       "    </tr>\n",
       "    <tr>\n",
       "      <td>1</td>\n",
       "      <td>1000</td>\n",
       "      <td>December</td>\n",
       "      <td>333.0</td>\n",
       "      <td>46.0</td>\n",
       "      <td>70.0</td>\n",
       "      <td>10.0</td>\n",
       "      <td>52</td>\n",
       "      <td>NaT</td>\n",
       "      <td>Краснодар</td>\n",
       "      <td>2018-05-25</td>\n",
       "      <td>ultra</td>\n",
       "      <td>1950</td>\n",
       "      <td>0.0</td>\n",
       "      <td>1950</td>\n",
       "    </tr>\n",
       "    <tr>\n",
       "      <td>2</td>\n",
       "      <td>1000</td>\n",
       "      <td>July</td>\n",
       "      <td>340.0</td>\n",
       "      <td>47.0</td>\n",
       "      <td>75.0</td>\n",
       "      <td>14.0</td>\n",
       "      <td>52</td>\n",
       "      <td>NaT</td>\n",
       "      <td>Краснодар</td>\n",
       "      <td>2018-05-25</td>\n",
       "      <td>ultra</td>\n",
       "      <td>1950</td>\n",
       "      <td>0.0</td>\n",
       "      <td>1950</td>\n",
       "    </tr>\n",
       "    <tr>\n",
       "      <td>3</td>\n",
       "      <td>1000</td>\n",
       "      <td>June</td>\n",
       "      <td>172.0</td>\n",
       "      <td>43.0</td>\n",
       "      <td>60.0</td>\n",
       "      <td>23.0</td>\n",
       "      <td>52</td>\n",
       "      <td>NaT</td>\n",
       "      <td>Краснодар</td>\n",
       "      <td>2018-05-25</td>\n",
       "      <td>ultra</td>\n",
       "      <td>1950</td>\n",
       "      <td>0.0</td>\n",
       "      <td>1950</td>\n",
       "    </tr>\n",
       "    <tr>\n",
       "      <td>4</td>\n",
       "      <td>1000</td>\n",
       "      <td>May</td>\n",
       "      <td>159.0</td>\n",
       "      <td>22.0</td>\n",
       "      <td>22.0</td>\n",
       "      <td>3.0</td>\n",
       "      <td>52</td>\n",
       "      <td>NaT</td>\n",
       "      <td>Краснодар</td>\n",
       "      <td>2018-05-25</td>\n",
       "      <td>ultra</td>\n",
       "      <td>1950</td>\n",
       "      <td>0.0</td>\n",
       "      <td>1950</td>\n",
       "    </tr>\n",
       "  </tbody>\n",
       "</table>\n",
       "</div>"
      ],
      "text/plain": [
       "   user_id     month  month_total_duration  month_total_calls  \\\n",
       "0     1000    August                 408.0               52.0   \n",
       "1     1000  December                 333.0               46.0   \n",
       "2     1000      July                 340.0               47.0   \n",
       "3     1000      June                 172.0               43.0   \n",
       "4     1000       May                 159.0               22.0   \n",
       "\n",
       "   month_total_sms  month_total_gb  age churn_date       city   reg_date  \\\n",
       "0             81.0            14.0   52        NaT  Краснодар 2018-05-25   \n",
       "1             70.0            10.0   52        NaT  Краснодар 2018-05-25   \n",
       "2             75.0            14.0   52        NaT  Краснодар 2018-05-25   \n",
       "3             60.0            23.0   52        NaT  Краснодар 2018-05-25   \n",
       "4             22.0             3.0   52        NaT  Краснодар 2018-05-25   \n",
       "\n",
       "  tariff  rub_monthly_fee  above_the_tariff  total_paid  \n",
       "0  ultra             1950               0.0        1950  \n",
       "1  ultra             1950               0.0        1950  \n",
       "2  ultra             1950               0.0        1950  \n",
       "3  ultra             1950               0.0        1950  \n",
       "4  ultra             1950               0.0        1950  "
      ]
     },
     "execution_count": 48,
     "metadata": {},
     "output_type": "execute_result"
    }
   ],
   "source": [
    "df['total_paid'] = df['total_paid'].astype('int')\n",
    "df.head()"
   ]
  },
  {
   "cell_type": "markdown",
   "metadata": {},
   "source": [
    "### Вывод"
   ]
  },
  {
   "cell_type": "markdown",
   "metadata": {},
   "source": [
    "Таким образом, в результате предобработки данных информация была очищена, соответствующие типы данных установлены, ключевые показатели для анализа рассчитаны и сформирован итоговый датасет."
   ]
  },
  {
   "cell_type": "markdown",
   "metadata": {},
   "source": [
    "## Анализ данных"
   ]
  },
  {
   "cell_type": "markdown",
   "metadata": {},
   "source": [
    "Рассмотрим поведение клиентов оператора, исходя из полученной выборки."
   ]
  },
  {
   "cell_type": "code",
   "execution_count": 33,
   "metadata": {
    "scrolled": false
   },
   "outputs": [
    {
     "data": {
      "image/png": "[encoded data removed]",
      "text/plain": [
       "<Figure size 1080x360 with 1 Axes>"
      ]
     },
     "metadata": {
      "needs_background": "light"
     },
     "output_type": "display_data"
    },
    {
     "data": {
      "image/png": "[encoded data removed]",
      "text/plain": [
       "<Figure size 1080x360 with 1 Axes>"
      ]
     },
     "metadata": {
      "needs_background": "light"
     },
     "output_type": "display_data"
    },
    {
     "data": {
      "image/png": "[encoded data removed]",
      "text/plain": [
       "<Figure size 1080x360 with 1 Axes>"
      ]
     },
     "metadata": {
      "needs_background": "light"
     },
     "output_type": "display_data"
    }
   ],
   "source": [
    "relevant_columns = ['month_total_duration', 'month_total_sms', 'month_total_gb']\n",
    "for relevant_column in relevant_columns:\n",
    "    df.boxplot(relevant_column, by='tariff',figsize=(15,5))"
   ]
  },
  {
   "cell_type": "code",
   "execution_count": 34,
   "metadata": {},
   "outputs": [
    {
     "data": {
      "text/plain": [
       "<matplotlib.legend.Legend at 0x7f22f6889a90>"
      ]
     },
     "execution_count": 34,
     "metadata": {},
     "output_type": "execute_result"
    },
    {
     "data": {
      "image/png": "[encoded data removed]",
      "text/plain": [
       "<Figure size 1080x360 with 1 Axes>"
      ]
     },
     "metadata": {
      "needs_background": "light"
     },
     "output_type": "display_data"
    }
   ],
   "source": [
    "ax = df[df['tariff'] == 'smart']['month_total_duration'].hist(bins=50)\n",
    "df[df['tariff'] == 'ultra']['month_total_duration'].hist(ax=ax, bins=50, grid=True, figsize=(15,5), alpha=0.7)\n",
    "plt.title('distribution by month_total_duration')\n",
    "plt.xlabel('month_total_duration')\n",
    "plt.legend(['smart', 'ultra'])"
   ]
  },
  {
   "cell_type": "code",
   "execution_count": 35,
   "metadata": {},
   "outputs": [
    {
     "data": {
      "text/plain": [
       "<matplotlib.legend.Legend at 0x7f22ee6c8450>"
      ]
     },
     "execution_count": 35,
     "metadata": {},
     "output_type": "execute_result"
    },
    {
     "data": {
      "image/png": "[encoded data removed]",
      "text/plain": [
       "<Figure size 1080x360 with 1 Axes>"
      ]
     },
     "metadata": {
      "needs_background": "light"
     },
     "output_type": "display_data"
    }
   ],
   "source": [
    "ax = df[df['tariff'] == 'smart']['month_total_sms'].hist(bins=50)\n",
    "df[df['tariff'] == 'ultra']['month_total_sms'].hist(ax=ax, bins=50, grid=True, figsize=(15,5), alpha=0.7)\n",
    "plt.title('distribution by month_total_sms')\n",
    "plt.xlabel('month_total_sms')\n",
    "plt.legend(['smart', 'ultra'])"
   ]
  },
  {
   "cell_type": "code",
   "execution_count": 36,
   "metadata": {},
   "outputs": [
    {
     "data": {
      "text/plain": [
       "<matplotlib.legend.Legend at 0x7f22f68a27d0>"
      ]
     },
     "execution_count": 36,
     "metadata": {},
     "output_type": "execute_result"
    },
    {
     "data": {
      "image/png": "[encoded data removed]",
      "text/plain": [
       "<Figure size 1080x360 with 1 Axes>"
      ]
     },
     "metadata": {
      "needs_background": "light"
     },
     "output_type": "display_data"
    }
   ],
   "source": [
    "ax = df[df['tariff'] == 'smart']['month_total_gb'].hist(bins=50)\n",
    "df[df['tariff'] == 'ultra']['month_total_gb'].hist(ax=ax, bins=50, grid=True, figsize=(15,5), alpha=0.7)\n",
    "plt.title('distribution by month_total_gb')\n",
    "plt.xlabel('month_total_gb')\n",
    "plt.legend(['smart', 'ultra'])"
   ]
  },
  {
   "cell_type": "code",
   "execution_count": 37,
   "metadata": {},
   "outputs": [
    {
     "data": {
      "image/png": "[encoded data removed]",
      "text/plain": [
       "<Figure size 1080x360 with 1 Axes>"
      ]
     },
     "metadata": {
      "needs_background": "light"
     },
     "output_type": "display_data"
    },
    {
     "data": {
      "image/png": "[encoded data removed]",
      "text/plain": [
       "<Figure size 1080x360 with 1 Axes>"
      ]
     },
     "metadata": {
      "needs_background": "light"
     },
     "output_type": "display_data"
    },
    {
     "data": {
      "image/png": "[encoded data removed]",
      "text/plain": [
       "<Figure size 1080x360 with 1 Axes>"
      ]
     },
     "metadata": {
      "needs_background": "light"
     },
     "output_type": "display_data"
    }
   ],
   "source": [
    "for relevant_column in relevant_columns:\n",
    "    df.pivot_table(index='month', columns='tariff', values=relevant_column)\\\n",
    "    .sort_values(by='month', ascending='False')\\\n",
    "    .plot( grid=True, figsize=(15,5))\n",
    "    plt.title(f'distribution by {relevant_column}')"
   ]
  },
  {
   "cell_type": "markdown",
   "metadata": {},
   "source": [
    "Поскольку мы работаем с выборкой, генеральная совокупность недостижима. 500 наблюдений - достаточно большой объем для игнорирования ddof при расчете дисперсии и стандартного отклонения. Найдем значения дисперсии и стандартного отклонения для каждого из показателей."
   ]
  },
  {
   "cell_type": "code",
   "execution_count": 38,
   "metadata": {
    "scrolled": false
   },
   "outputs": [
    {
     "name": "stdout",
     "output_type": "stream",
     "text": [
      "       month_total_duration                                       \n",
      "                     median        mean            var         std\n",
      "tariff                                                            \n",
      "smart                 422.0  417.934948   36219.315784  190.313730\n",
      "ultra                 518.0  526.623350  100873.633397  317.606098\n",
      "\n",
      "       month_total_sms                                   \n",
      "                median       mean          var        std\n",
      "tariff                                                   \n",
      "smart             28.0  33.384029   796.812958  28.227876\n",
      "ultra             38.0  49.363452  2285.266143  47.804457\n",
      "\n",
      "       month_total_gb                                \n",
      "               median       mean        var       std\n",
      "tariff                                               \n",
      "smart            17.0  16.328847  33.028705  5.747061\n",
      "ultra            19.0  19.494416  97.091686  9.853511\n",
      "\n",
      "       total_paid                                        \n",
      "           median         mean            var         std\n",
      "tariff                                                   \n",
      "smart      1023.0  1289.973531  669785.708006  818.404367\n",
      "ultra      1950.0  2070.152284  141516.745079  376.187114\n",
      "\n"
     ]
    }
   ],
   "source": [
    "relevant_columns = ['month_total_duration', 'month_total_sms', 'month_total_gb', 'total_paid']\n",
    "for relevant_column in relevant_columns:\n",
    "    print(df.groupby('tariff').agg({relevant_column:['median','mean','var','std']}))\n",
    "    print()"
   ]
  },
  {
   "cell_type": "markdown",
   "metadata": {},
   "source": [
    "### Вывод"
   ]
  },
  {
   "cell_type": "markdown",
   "metadata": {},
   "source": [
    "Рассматривая каждый тарифный плат по отдельности, можно заметить следующее:\n",
    "- пользователи тарифа \"smart\" обычно тратят на звонки 450-500 мин/месяц, что соответствует лимиту на месяц;\n",
    "- пользователи тарифа \"ultra\" обычно тратят на звонки около 750 мин/месяц, что не превышает лимит на месяц, однако у пользователей ежемесячно сгорает более 50% пакета минут, что не рентабельно;\n",
    "- по кол-ву СМС-сообщений пользователи обоих тарифных планов не показывают особой заинтересованности в данном средстве связи (большинство клиентов отправляет не более 20 СМС в месяц, соответственно, по каждому из тарифов сгорает больше половины пакета СМС-сообщений);\n",
    "- пользователи обоих тарифных планов обычно расходуют около 20 Гб/месяц, с той лишь разницец, что клиентам \"smart\" приходятся доплачивать за дополнительные Гб (в среднем не хватает 5 Гб), у клиентов \"ultra\" трафик в запасе и в большинстве случаев его хватает на месяц."
   ]
  },
  {
   "cell_type": "markdown",
   "metadata": {},
   "source": [
    "## Проверка гипотез"
   ]
  },
  {
   "cell_type": "markdown",
   "metadata": {},
   "source": [
    "В рамках анализа необходимо проверить 2 гипотизы касательно выручки «Мегалайн». \n",
    "\n",
    "Проверку гипотез будем производить при помощи t-тестов, поскольку выборки для гипотез предсавляют собой независимые массивы данных.\n",
    "\n",
    "Установим критический уровень статистической значимости в размере 5%."
   ]
  },
  {
   "cell_type": "code",
   "execution_count": 39,
   "metadata": {},
   "outputs": [],
   "source": [
    "alpha = .05"
   ]
  },
  {
   "cell_type": "markdown",
   "metadata": {},
   "source": [
    "Чтобы проверить гипотезы, данные должны быть очищены от выбросов, поскольку согласно правилу 3х сигм, около 99% всех значений находятся в промежутке 6 сигм."
   ]
  },
  {
   "cell_type": "code",
   "execution_count": 40,
   "metadata": {},
   "outputs": [],
   "source": [
    "def rare_values(df, col): # создадим функцию для определения межквартильного размаха, \n",
    "    q1 = df[col].quantile(0.25) #границ размаха для исключения выбросов\n",
    "    q3 = df[col].quantile(0.75)\n",
    "    iqr = q3 - q1\n",
    "    bot_border = q1 - iqr*1.5\n",
    "    top_border = q3 + iqr*1.5\n",
    "    rare_values_bot = df.query(f'{col} < @bot_border')[col].count()\n",
    "    rare_values_top = df.query(f'{col} > @top_border')[col].count()\n",
    "    perc = ((rare_values_bot + rare_values_top) / df[col].count() * 100).round(1)\n",
    "    return (f'Первый квартиль = {q1}, Третий квартиль = {q3}\\n'\n",
    "            f'Нижняя граница = {bot_border}, Верхняя граница = {top_border}\\n'\n",
    "            f'Редкие значения до нижней границы = {rare_values_bot}\\n'\n",
    "            f'Редкие значения выше верхней границы = {rare_values_top}\\n'\n",
    "            f'Процент редких значений = {perc}'\n",
    "           )"
   ]
  },
  {
   "cell_type": "code",
   "execution_count": 41,
   "metadata": {},
   "outputs": [
    {
     "name": "stdout",
     "output_type": "stream",
     "text": [
      "Первый квартиль = 750.0, Третий квартиль = 1950.0\n",
      "Нижняя граница = -1050.0, Верхняя граница = 3750.0\n",
      "Редкие значения до нижней границы = 0\n",
      "Редкие значения выше верхней границы = 35\n",
      "Процент редких значений = 1.1\n"
     ]
    }
   ],
   "source": [
    "print(rare_values(df, 'total_paid')) #определяем значения, которые стоит убрать"
   ]
  },
  {
   "cell_type": "code",
   "execution_count": 42,
   "metadata": {},
   "outputs": [
    {
     "data": {
      "text/html": [
       "<div>\n",
       "<style scoped>\n",
       "    .dataframe tbody tr th:only-of-type {\n",
       "        vertical-align: middle;\n",
       "    }\n",
       "\n",
       "    .dataframe tbody tr th {\n",
       "        vertical-align: top;\n",
       "    }\n",
       "\n",
       "    .dataframe thead th {\n",
       "        text-align: right;\n",
       "    }\n",
       "</style>\n",
       "<table border=\"1\" class=\"dataframe\">\n",
       "  <thead>\n",
       "    <tr style=\"text-align: right;\">\n",
       "      <th></th>\n",
       "      <th>user_id</th>\n",
       "      <th>month_total_duration</th>\n",
       "      <th>month_total_calls</th>\n",
       "      <th>month_total_sms</th>\n",
       "      <th>month_total_gb</th>\n",
       "      <th>age</th>\n",
       "      <th>rub_monthly_fee</th>\n",
       "      <th>above_the_tariff</th>\n",
       "      <th>total_paid</th>\n",
       "    </tr>\n",
       "  </thead>\n",
       "  <tbody>\n",
       "    <tr>\n",
       "      <td>count</td>\n",
       "      <td>3179.000000</td>\n",
       "      <td>3179.000000</td>\n",
       "      <td>3179.000000</td>\n",
       "      <td>3179.000000</td>\n",
       "      <td>3179.000000</td>\n",
       "      <td>3179.000000</td>\n",
       "      <td>3179.000000</td>\n",
       "      <td>3179.000000</td>\n",
       "      <td>3179.000000</td>\n",
       "    </tr>\n",
       "    <tr>\n",
       "      <td>mean</td>\n",
       "      <td>1251.634162</td>\n",
       "      <td>448.285624</td>\n",
       "      <td>62.631960</td>\n",
       "      <td>38.239383</td>\n",
       "      <td>17.105694</td>\n",
       "      <td>46.718465</td>\n",
       "      <td>979.380308</td>\n",
       "      <td>517.658069</td>\n",
       "      <td>1497.038377</td>\n",
       "    </tr>\n",
       "    <tr>\n",
       "      <td>std</td>\n",
       "      <td>144.794609</td>\n",
       "      <td>239.606163</td>\n",
       "      <td>32.939182</td>\n",
       "      <td>36.015244</td>\n",
       "      <td>7.168354</td>\n",
       "      <td>16.598193</td>\n",
       "      <td>645.674936</td>\n",
       "      <td>697.984434</td>\n",
       "      <td>737.994878</td>\n",
       "    </tr>\n",
       "    <tr>\n",
       "      <td>min</td>\n",
       "      <td>1000.000000</td>\n",
       "      <td>0.000000</td>\n",
       "      <td>0.000000</td>\n",
       "      <td>0.000000</td>\n",
       "      <td>0.000000</td>\n",
       "      <td>18.000000</td>\n",
       "      <td>550.000000</td>\n",
       "      <td>0.000000</td>\n",
       "      <td>550.000000</td>\n",
       "    </tr>\n",
       "    <tr>\n",
       "      <td>25%</td>\n",
       "      <td>1124.500000</td>\n",
       "      <td>281.000000</td>\n",
       "      <td>40.000000</td>\n",
       "      <td>9.000000</td>\n",
       "      <td>13.000000</td>\n",
       "      <td>32.000000</td>\n",
       "      <td>550.000000</td>\n",
       "      <td>0.000000</td>\n",
       "      <td>750.000000</td>\n",
       "    </tr>\n",
       "    <tr>\n",
       "      <td>50%</td>\n",
       "      <td>1253.000000</td>\n",
       "      <td>440.000000</td>\n",
       "      <td>62.000000</td>\n",
       "      <td>30.000000</td>\n",
       "      <td>17.000000</td>\n",
       "      <td>47.000000</td>\n",
       "      <td>550.000000</td>\n",
       "      <td>150.000000</td>\n",
       "      <td>1612.000000</td>\n",
       "    </tr>\n",
       "    <tr>\n",
       "      <td>75%</td>\n",
       "      <td>1379.000000</td>\n",
       "      <td>585.500000</td>\n",
       "      <td>82.000000</td>\n",
       "      <td>57.000000</td>\n",
       "      <td>21.000000</td>\n",
       "      <td>62.000000</td>\n",
       "      <td>1950.000000</td>\n",
       "      <td>893.000000</td>\n",
       "      <td>1950.000000</td>\n",
       "    </tr>\n",
       "    <tr>\n",
       "      <td>max</td>\n",
       "      <td>1499.000000</td>\n",
       "      <td>1673.000000</td>\n",
       "      <td>244.000000</td>\n",
       "      <td>224.000000</td>\n",
       "      <td>42.000000</td>\n",
       "      <td>75.000000</td>\n",
       "      <td>1950.000000</td>\n",
       "      <td>3200.000000</td>\n",
       "      <td>3750.000000</td>\n",
       "    </tr>\n",
       "  </tbody>\n",
       "</table>\n",
       "</div>"
      ],
      "text/plain": [
       "           user_id  month_total_duration  month_total_calls  month_total_sms  \\\n",
       "count  3179.000000           3179.000000        3179.000000      3179.000000   \n",
       "mean   1251.634162            448.285624          62.631960        38.239383   \n",
       "std     144.794609            239.606163          32.939182        36.015244   \n",
       "min    1000.000000              0.000000           0.000000         0.000000   \n",
       "25%    1124.500000            281.000000          40.000000         9.000000   \n",
       "50%    1253.000000            440.000000          62.000000        30.000000   \n",
       "75%    1379.000000            585.500000          82.000000        57.000000   \n",
       "max    1499.000000           1673.000000         244.000000       224.000000   \n",
       "\n",
       "       month_total_gb          age  rub_monthly_fee  above_the_tariff  \\\n",
       "count     3179.000000  3179.000000      3179.000000       3179.000000   \n",
       "mean        17.105694    46.718465       979.380308        517.658069   \n",
       "std          7.168354    16.598193       645.674936        697.984434   \n",
       "min          0.000000    18.000000       550.000000          0.000000   \n",
       "25%         13.000000    32.000000       550.000000          0.000000   \n",
       "50%         17.000000    47.000000       550.000000        150.000000   \n",
       "75%         21.000000    62.000000      1950.000000        893.000000   \n",
       "max         42.000000    75.000000      1950.000000       3200.000000   \n",
       "\n",
       "        total_paid  \n",
       "count  3179.000000  \n",
       "mean   1497.038377  \n",
       "std     737.994878  \n",
       "min     550.000000  \n",
       "25%     750.000000  \n",
       "50%    1612.000000  \n",
       "75%    1950.000000  \n",
       "max    3750.000000  "
      ]
     },
     "execution_count": 42,
     "metadata": {},
     "output_type": "execute_result"
    }
   ],
   "source": [
    "df_new = df[df['total_paid'] <= 3750] #создаем новый датасет уже без учета редких значений\n",
    "df_new.describe()"
   ]
  },
  {
   "cell_type": "markdown",
   "metadata": {},
   "source": [
    "Мы готовы приступить к проверке гипотез."
   ]
  },
  {
   "cell_type": "markdown",
   "metadata": {},
   "source": [
    "### Гипотиза \"Средняя выручка пользователей тарифов «Ультра» и «Смарт» различаются \""
   ]
  },
  {
   "cell_type": "markdown",
   "metadata": {},
   "source": [
    "Пойдем методом от обратного. Предположим, что средняя выручка пользователей тарифов «Ультра» совпадает с тарифом «Смарт». Так,\n",
    "\n",
    "H0: выручка пользователей тарифов «Ультра» и «Смарт» не различается\n",
    "\n",
    "H1: выручка пользователей тарифов «Ультра» и «Смарт» различается"
   ]
  },
  {
   "cell_type": "code",
   "execution_count": 43,
   "metadata": {},
   "outputs": [],
   "source": [
    "ultra = df_new[df_new['tariff'] == 'ultra'] #формируем выборку по тарифному плану\n",
    "smart = df_new[df_new['tariff'] == 'smart']\n",
    "ultra = ultra['total_paid'] #формируем массив по выручке\n",
    "smart = smart['total_paid']"
   ]
  },
  {
   "cell_type": "code",
   "execution_count": 44,
   "metadata": {},
   "outputs": [
    {
     "name": "stdout",
     "output_type": "stream",
     "text": [
      "p-value: 1.1481243947765852e-198\n",
      "Отвергаем нулевую гипотезу\n"
     ]
    }
   ],
   "source": [
    "results = st.ttest_ind(ultra, smart) #используем метод для 2хнезависимых выборок\n",
    "print('p-value:', results.pvalue) #выводим уровень значимости \n",
    "\n",
    "if (results.pvalue < alpha):\n",
    "    print(\"Отвергаем нулевую гипотезу\")\n",
    "else:\n",
    "    print(\"Не получилось отвергнуть нулевую гипотезу\")"
   ]
  },
  {
   "cell_type": "markdown",
   "metadata": {},
   "source": [
    "#### Вывод"
   ]
  },
  {
   "cell_type": "markdown",
   "metadata": {},
   "source": [
    "По наблюдаемым данным можно предположить, что средняя выручка пользователей тарифов «Ультра» и «Смарт» различается."
   ]
  },
  {
   "cell_type": "markdown",
   "metadata": {},
   "source": [
    "### Гипотиза \"Средняя выручка пользователей из Москвы отличается от выручки пользователей из других регионов\""
   ]
  },
  {
   "cell_type": "markdown",
   "metadata": {},
   "source": [
    "Пойдем методом от обратного. Предположим, что средняя выручка пользователей из Москвы не отличается от выручки пользователей из других регионов. Так,\n",
    "\n",
    "H0: средняя выручка пользователей из Москвы не отличается от выручки пользователей из других регионов\n",
    "\n",
    "H1: средняя выручка пользователей из Москвы отличается от выручки пользователей из других регионов"
   ]
  },
  {
   "cell_type": "code",
   "execution_count": 45,
   "metadata": {},
   "outputs": [
    {
     "data": {
      "text/plain": [
       "array(['Краснодар', 'Москва', 'Стерлитамак', 'Новокузнецк',\n",
       "       'Набережные Челны', 'Ульяновск', 'Челябинск', 'Пермь', 'Тюмень',\n",
       "       'Самара', 'Санкт-Петербург', 'Иваново', 'Чебоксары', 'Омск', 'Уфа',\n",
       "       'Томск', 'Чита', 'Мурманск', 'Петрозаводск', 'Тверь',\n",
       "       'Екатеринбург', 'Махачкала', 'Вологда', 'Череповец', 'Ярославль',\n",
       "       'Сочи', 'Хабаровск', 'Ставрополь', 'Рязань', 'Улан-Удэ', 'Тула',\n",
       "       'Саратов', 'Ростов-на-Дону', 'Казань', 'Иркутск', 'Курск',\n",
       "       'Калуга', 'Якутск', 'Астрахань', 'Химки', 'Владикавказ',\n",
       "       'Волгоград', 'Саранск', 'Ижевск', 'Новосибирск', 'Брянск',\n",
       "       'Тольятти', 'Нижний Тагил', 'Орёл', 'Белгород', 'Воронеж',\n",
       "       'Курган', 'Барнаул', 'Красноярск', 'Архангельск', 'Липецк',\n",
       "       'Кемерово', 'Киров', 'Сургут', 'Пенза', 'Волжский', 'Магнитогорск',\n",
       "       'Нижний Новгород', 'Кострома', 'Владивосток', 'Тамбов', 'Балашиха',\n",
       "       'Севастополь', 'Калининград', 'Оренбург', 'Смоленск',\n",
       "       'Нижневартовск', 'Владимир', 'Новороссийск', 'Грозный', 'Подольск'],\n",
       "      dtype=object)"
      ]
     },
     "execution_count": 45,
     "metadata": {},
     "output_type": "execute_result"
    }
   ],
   "source": [
    "df_new['city'].unique()#проверяем значения городов,чтобы корректно объединить данные по принципу Москва - Регион"
   ]
  },
  {
   "cell_type": "code",
   "execution_count": 46,
   "metadata": {},
   "outputs": [],
   "source": [
    "df_new['region'] = np.where(df_new['city'] == 'Москва', 'Москва', 'Регион') #присваиваем признак Москва - Регион\n",
    "moscow = df_new[df_new['region'] == 'Москва'] #формируем выборку по городу\n",
    "region = df_new[df_new['region'] == 'Регион']\n",
    "moscow = moscow['total_paid'] #формируем массив по выручке\n",
    "region = region['total_paid']"
   ]
  },
  {
   "cell_type": "code",
   "execution_count": 47,
   "metadata": {},
   "outputs": [
    {
     "name": "stdout",
     "output_type": "stream",
     "text": [
      "p-value: 0.2465723257484849\n",
      "Не получилось отвергнуть нулевую гипотезу\n"
     ]
    }
   ],
   "source": [
    "results = st.ttest_ind(moscow, region) #используем метод для 2хнезависимых выборок\n",
    "print('p-value:', results.pvalue) #выводим уровень значимости\n",
    "\n",
    "if (results.pvalue < alpha):\n",
    "    print(\"Отвергаем нулевую гипотезу\")\n",
    "else:\n",
    "    print(\"Не получилось отвергнуть нулевую гипотезу\")"
   ]
  },
  {
   "cell_type": "markdown",
   "metadata": {},
   "source": [
    "#### Вывод"
   ]
  },
  {
   "cell_type": "markdown",
   "metadata": {},
   "source": [
    "По наблюдаемым данным нельзя отвергнуть предположение, что средняя выручка пользователей из Москвы не отличается от выручки пользователей из других регионов."
   ]
  },
  {
   "cell_type": "markdown",
   "metadata": {},
   "source": [
    "## Общий вывод"
   ]
  },
  {
   "cell_type": "markdown",
   "metadata": {},
   "source": [
    "Таким образом, был проведен статистический анализ данных тарифов «Мегалайн» (федерального оператора сотовой связи)  на небольшой выборке клиентов.\n",
    "\n",
    "Ситуация на данный момент:\n",
    "- пользователи тарифа \"smart\" обычно тратят на звонки 450-500 мин/месяц, что соответствует лимиту на месяц;\n",
    "- пользователи тарифа \"ultra\" обычно тратят на звонки около 750 мин/месяц, что не превышает лимит на месяц, однако у пользователей ежемесячно сгорает более 50% пакета минут, что не рентабельно;\n",
    "- по кол-ву СМС-сообщений пользователи обоих тарифных планов не показывают особой заинтересованности в данном средстве связи (большинство клиентов отправляет не более 20 СМС в месяц, соответственно, по каждому из тарифов сгорает больше половины пакета СМС-сообщений);\n",
    "- пользователи обоих тарифных планов обычно расходуют около 20 Гб/месяц, с той лишь разницец, что клиентам \"smart\" приходятся доплачивать за дополнительные Гб (в среднем не хватает 5 Гб), у клиентов \"ultra\" трафик в запасе и в большинстве случаев его хватает на месяц.\n",
    "\n",
    "По наблюдаемым данным можно предположить, что средняя выручка пользователей тарифов «Ультра» и «Смарт» различается. Первые пользователи в основном не выходят за пределы тарифного плана и в среднем приносят «Мегалайн» ещемесячно 1950, как и прописано в тарифах. Вторые пользователи чаще выходят за лимиты пакета услуг и доплачивают за услуги связи, принося компании в среднем 1000, что на 50% больше ежемесячной платы. такая ситуация может привести к оттоку клиентов, необходимо обратить внимание на данный аспект.\n",
    "\n",
    "По наблюдаемым данным нельзя отвергнуть предположение, что средняя выручка пользователей из Москвы не отличается от выручки пользователей из других регионов."
   ]
  },
  {
   "cell_type": "markdown",
   "metadata": {},
   "source": [
    "### Рекомендации"
   ]
  },
  {
   "cell_type": "markdown",
   "metadata": {},
   "source": [
    "При корректировке рекламного бюджета коммерческому департаменту следует учесть огромные переплаты клиентов по тарифу \"Смарт\" и сгорающие минуты, СМС и ГБ у тарифа \"Ультра\"."
   ]
  }
 ],
 "metadata": {
  "ExecuteTimeLog": [
   {
    "duration": 1245,
    "start_time": "2022-01-10T16:39:50.579Z"
   },
   {
    "duration": 572,
    "start_time": "2022-01-10T16:39:52.137Z"
   },
   {
    "duration": 425,
    "start_time": "2022-01-10T16:43:21.393Z"
   },
   {
    "duration": 557,
    "start_time": "2022-01-10T16:43:24.935Z"
   },
   {
    "duration": 27,
    "start_time": "2022-01-10T16:43:27.646Z"
   },
   {
    "duration": 30,
    "start_time": "2022-01-10T16:44:01.440Z"
   },
   {
    "duration": 10,
    "start_time": "2022-01-10T16:44:11.927Z"
   },
   {
    "duration": 30,
    "start_time": "2022-01-10T16:46:09.536Z"
   },
   {
    "duration": 34,
    "start_time": "2022-01-10T16:47:53.218Z"
   },
   {
    "duration": 4,
    "start_time": "2022-01-10T17:00:15.409Z"
   },
   {
    "duration": 30,
    "start_time": "2022-01-10T17:00:34.061Z"
   },
   {
    "duration": 4,
    "start_time": "2022-01-10T17:03:13.897Z"
   },
   {
    "duration": 29,
    "start_time": "2022-01-10T17:03:18.433Z"
   },
   {
    "duration": 5,
    "start_time": "2022-01-10T17:04:58.936Z"
   },
   {
    "duration": 30,
    "start_time": "2022-01-10T17:05:02.231Z"
   },
   {
    "duration": 4,
    "start_time": "2022-01-10T17:05:55.145Z"
   },
   {
    "duration": 30,
    "start_time": "2022-01-10T17:05:57.976Z"
   },
   {
    "duration": 4,
    "start_time": "2022-01-10T17:06:14.960Z"
   },
   {
    "duration": 28,
    "start_time": "2022-01-10T17:06:17.395Z"
   },
   {
    "duration": 4,
    "start_time": "2022-01-10T17:07:36.009Z"
   },
   {
    "duration": 26,
    "start_time": "2022-01-10T17:07:37.773Z"
   },
   {
    "duration": 4,
    "start_time": "2022-01-10T17:07:57.088Z"
   },
   {
    "duration": 29,
    "start_time": "2022-01-10T17:07:58.205Z"
   },
   {
    "duration": 5,
    "start_time": "2022-01-10T17:08:12.160Z"
   },
   {
    "duration": 30,
    "start_time": "2022-01-10T17:08:13.244Z"
   },
   {
    "duration": 6,
    "start_time": "2022-01-10T17:08:23.033Z"
   },
   {
    "duration": 30,
    "start_time": "2022-01-10T17:08:23.796Z"
   },
   {
    "duration": 1394,
    "start_time": "2022-01-10T17:08:57.948Z"
   },
   {
    "duration": 729,
    "start_time": "2022-01-10T17:08:59.346Z"
   },
   {
    "duration": 6,
    "start_time": "2022-01-10T17:09:00.078Z"
   },
   {
    "duration": 291,
    "start_time": "2022-01-10T17:09:00.086Z"
   },
   {
    "duration": 64,
    "start_time": "2022-01-10T17:11:43.843Z"
   },
   {
    "duration": 34,
    "start_time": "2022-01-10T17:12:34.982Z"
   },
   {
    "duration": 64,
    "start_time": "2022-01-10T17:12:38.203Z"
   },
   {
    "duration": 48,
    "start_time": "2022-01-10T17:12:40.708Z"
   },
   {
    "duration": 1230,
    "start_time": "2022-01-10T17:33:14.465Z"
   },
   {
    "duration": 592,
    "start_time": "2022-01-10T17:33:15.698Z"
   },
   {
    "duration": 4,
    "start_time": "2022-01-10T17:33:16.294Z"
   },
   {
    "duration": 175,
    "start_time": "2022-01-10T17:33:16.301Z"
   },
   {
    "duration": 186,
    "start_time": "2022-01-10T17:33:16.480Z"
   },
   {
    "duration": 114,
    "start_time": "2022-01-10T17:33:16.668Z"
   },
   {
    "duration": 196,
    "start_time": "2022-01-10T17:33:16.785Z"
   },
   {
    "duration": 107,
    "start_time": "2022-01-10T17:33:16.984Z"
   },
   {
    "duration": 1187,
    "start_time": "2022-01-12T17:02:22.949Z"
   },
   {
    "duration": 530,
    "start_time": "2022-01-12T17:02:24.138Z"
   },
   {
    "duration": 4,
    "start_time": "2022-01-12T17:02:24.674Z"
   },
   {
    "duration": 41,
    "start_time": "2022-01-12T17:02:24.680Z"
   },
   {
    "duration": 64,
    "start_time": "2022-01-12T17:02:24.724Z"
   },
   {
    "duration": 51,
    "start_time": "2022-01-12T17:02:24.791Z"
   },
   {
    "duration": 84,
    "start_time": "2022-01-12T17:02:24.848Z"
   },
   {
    "duration": 42,
    "start_time": "2022-01-12T17:02:24.936Z"
   },
   {
    "duration": 127,
    "start_time": "2022-01-12T17:02:24.981Z"
   },
   {
    "duration": 93,
    "start_time": "2022-01-12T17:02:25.111Z"
   },
   {
    "duration": 6,
    "start_time": "2022-01-12T17:02:25.216Z"
   },
   {
    "duration": 438,
    "start_time": "2022-01-12T17:02:25.225Z"
   },
   {
    "duration": 5,
    "start_time": "2022-01-12T17:02:25.661Z"
   },
   {
    "duration": 0,
    "start_time": "2022-01-12T17:02:25.667Z"
   },
   {
    "duration": -3,
    "start_time": "2022-01-12T17:02:25.672Z"
   },
   {
    "duration": -5,
    "start_time": "2022-01-12T17:02:25.675Z"
   },
   {
    "duration": -5,
    "start_time": "2022-01-12T17:02:25.677Z"
   },
   {
    "duration": -7,
    "start_time": "2022-01-12T17:02:25.680Z"
   },
   {
    "duration": -7,
    "start_time": "2022-01-12T17:02:25.682Z"
   },
   {
    "duration": -7,
    "start_time": "2022-01-12T17:02:25.684Z"
   },
   {
    "duration": -9,
    "start_time": "2022-01-12T17:02:25.687Z"
   },
   {
    "duration": -9,
    "start_time": "2022-01-12T17:02:25.689Z"
   },
   {
    "duration": -10,
    "start_time": "2022-01-12T17:02:25.691Z"
   },
   {
    "duration": -16,
    "start_time": "2022-01-12T17:02:25.699Z"
   },
   {
    "duration": -20,
    "start_time": "2022-01-12T17:02:25.704Z"
   },
   {
    "duration": 15,
    "start_time": "2022-01-12T17:03:20.391Z"
   },
   {
    "duration": 22,
    "start_time": "2022-01-12T17:03:29.230Z"
   },
   {
    "duration": 18,
    "start_time": "2022-01-12T17:05:10.204Z"
   },
   {
    "duration": 18,
    "start_time": "2022-01-12T17:06:56.160Z"
   },
   {
    "duration": 9,
    "start_time": "2022-01-12T17:07:18.543Z"
   },
   {
    "duration": 9,
    "start_time": "2022-01-12T17:08:08.033Z"
   },
   {
    "duration": 11,
    "start_time": "2022-01-12T17:08:33.402Z"
   },
   {
    "duration": 103,
    "start_time": "2022-01-12T17:10:31.715Z"
   },
   {
    "duration": 100,
    "start_time": "2022-01-12T17:10:40.162Z"
   },
   {
    "duration": 301,
    "start_time": "2022-01-12T17:19:11.517Z"
   },
   {
    "duration": 10,
    "start_time": "2022-01-12T17:19:37.761Z"
   },
   {
    "duration": 19,
    "start_time": "2022-01-12T17:20:02.082Z"
   },
   {
    "duration": 21,
    "start_time": "2022-01-12T17:20:49.028Z"
   },
   {
    "duration": 19,
    "start_time": "2022-01-12T17:21:03.091Z"
   },
   {
    "duration": 1695,
    "start_time": "2022-01-12T17:58:52.197Z"
   },
   {
    "duration": 664,
    "start_time": "2022-01-12T17:58:53.896Z"
   },
   {
    "duration": 5,
    "start_time": "2022-01-12T17:58:54.562Z"
   },
   {
    "duration": 46,
    "start_time": "2022-01-12T17:58:54.570Z"
   },
   {
    "duration": 70,
    "start_time": "2022-01-12T17:58:54.620Z"
   },
   {
    "duration": 70,
    "start_time": "2022-01-12T17:58:54.693Z"
   },
   {
    "duration": 93,
    "start_time": "2022-01-12T17:58:54.765Z"
   },
   {
    "duration": 82,
    "start_time": "2022-01-12T17:58:54.864Z"
   },
   {
    "duration": 189,
    "start_time": "2022-01-12T17:58:54.950Z"
   },
   {
    "duration": 177,
    "start_time": "2022-01-12T17:58:55.142Z"
   },
   {
    "duration": 42,
    "start_time": "2022-01-12T17:58:55.322Z"
   },
   {
    "duration": 6,
    "start_time": "2022-01-12T17:58:55.367Z"
   },
   {
    "duration": 193,
    "start_time": "2022-01-12T17:58:55.376Z"
   },
   {
    "duration": 102,
    "start_time": "2022-01-12T17:58:55.572Z"
   },
   {
    "duration": 26,
    "start_time": "2022-01-12T17:58:55.651Z"
   },
   {
    "duration": 26,
    "start_time": "2022-01-12T17:58:55.654Z"
   },
   {
    "duration": 24,
    "start_time": "2022-01-12T17:58:55.658Z"
   },
   {
    "duration": 22,
    "start_time": "2022-01-12T17:58:55.662Z"
   },
   {
    "duration": 22,
    "start_time": "2022-01-12T17:58:55.664Z"
   },
   {
    "duration": 19,
    "start_time": "2022-01-12T17:58:55.670Z"
   },
   {
    "duration": 17,
    "start_time": "2022-01-12T17:58:55.674Z"
   },
   {
    "duration": 16,
    "start_time": "2022-01-12T17:58:55.677Z"
   },
   {
    "duration": 16,
    "start_time": "2022-01-12T17:58:55.679Z"
   },
   {
    "duration": 17,
    "start_time": "2022-01-12T17:58:55.681Z"
   },
   {
    "duration": 17,
    "start_time": "2022-01-12T17:58:55.683Z"
   },
   {
    "duration": 11,
    "start_time": "2022-01-12T17:58:55.691Z"
   },
   {
    "duration": 4707,
    "start_time": "2022-01-12T17:59:54.707Z"
   },
   {
    "duration": 6,
    "start_time": "2022-01-12T18:00:33.389Z"
   },
   {
    "duration": 1277,
    "start_time": "2022-01-12T18:00:57.267Z"
   },
   {
    "duration": 606,
    "start_time": "2022-01-12T18:00:58.547Z"
   },
   {
    "duration": 4,
    "start_time": "2022-01-12T18:00:59.156Z"
   },
   {
    "duration": 32,
    "start_time": "2022-01-12T18:00:59.163Z"
   },
   {
    "duration": 94,
    "start_time": "2022-01-12T18:00:59.199Z"
   },
   {
    "duration": 63,
    "start_time": "2022-01-12T18:00:59.296Z"
   },
   {
    "duration": 92,
    "start_time": "2022-01-12T18:00:59.361Z"
   },
   {
    "duration": 85,
    "start_time": "2022-01-12T18:00:59.459Z"
   },
   {
    "duration": 178,
    "start_time": "2022-01-12T18:00:59.548Z"
   },
   {
    "duration": 176,
    "start_time": "2022-01-12T18:00:59.729Z"
   },
   {
    "duration": 45,
    "start_time": "2022-01-12T18:00:59.908Z"
   },
   {
    "duration": 17,
    "start_time": "2022-01-12T18:00:59.956Z"
   },
   {
    "duration": 145,
    "start_time": "2022-01-12T18:00:59.976Z"
   },
   {
    "duration": 284,
    "start_time": "2022-01-12T18:01:00.126Z"
   },
   {
    "duration": 54,
    "start_time": "2022-01-12T18:01:00.359Z"
   },
   {
    "duration": 50,
    "start_time": "2022-01-12T18:01:00.365Z"
   },
   {
    "duration": 46,
    "start_time": "2022-01-12T18:01:00.370Z"
   },
   {
    "duration": 46,
    "start_time": "2022-01-12T18:01:00.372Z"
   },
   {
    "duration": 31,
    "start_time": "2022-01-12T18:01:00.388Z"
   },
   {
    "duration": 28,
    "start_time": "2022-01-12T18:01:00.393Z"
   },
   {
    "duration": -6,
    "start_time": "2022-01-12T18:01:00.431Z"
   },
   {
    "duration": -17,
    "start_time": "2022-01-12T18:01:00.444Z"
   },
   {
    "duration": -27,
    "start_time": "2022-01-12T18:01:00.456Z"
   },
   {
    "duration": -44,
    "start_time": "2022-01-12T18:01:00.475Z"
   },
   {
    "duration": -47,
    "start_time": "2022-01-12T18:01:00.480Z"
   },
   {
    "duration": -54,
    "start_time": "2022-01-12T18:01:00.489Z"
   },
   {
    "duration": 1251,
    "start_time": "2022-01-12T18:02:12.689Z"
   },
   {
    "duration": 560,
    "start_time": "2022-01-12T18:02:13.942Z"
   },
   {
    "duration": 4,
    "start_time": "2022-01-12T18:02:14.505Z"
   },
   {
    "duration": 38,
    "start_time": "2022-01-12T18:02:14.511Z"
   },
   {
    "duration": 82,
    "start_time": "2022-01-12T18:02:14.552Z"
   },
   {
    "duration": 36,
    "start_time": "2022-01-12T18:02:14.636Z"
   },
   {
    "duration": 86,
    "start_time": "2022-01-12T18:02:14.674Z"
   },
   {
    "duration": 74,
    "start_time": "2022-01-12T18:02:14.767Z"
   },
   {
    "duration": 128,
    "start_time": "2022-01-12T18:02:14.845Z"
   },
   {
    "duration": 90,
    "start_time": "2022-01-12T18:02:14.975Z"
   },
   {
    "duration": 55,
    "start_time": "2022-01-12T18:02:15.067Z"
   },
   {
    "duration": 18,
    "start_time": "2022-01-12T18:02:15.126Z"
   },
   {
    "duration": 129,
    "start_time": "2022-01-12T18:02:15.146Z"
   },
   {
    "duration": 111,
    "start_time": "2022-01-12T18:02:15.277Z"
   },
   {
    "duration": 10,
    "start_time": "2022-01-12T18:02:15.381Z"
   },
   {
    "duration": -5,
    "start_time": "2022-01-12T18:02:15.398Z"
   },
   {
    "duration": -7,
    "start_time": "2022-01-12T18:02:15.401Z"
   },
   {
    "duration": -20,
    "start_time": "2022-01-12T18:02:15.416Z"
   },
   {
    "duration": -25,
    "start_time": "2022-01-12T18:02:15.422Z"
   },
   {
    "duration": -28,
    "start_time": "2022-01-12T18:02:15.427Z"
   },
   {
    "duration": -30,
    "start_time": "2022-01-12T18:02:15.430Z"
   },
   {
    "duration": -29,
    "start_time": "2022-01-12T18:02:15.432Z"
   },
   {
    "duration": -33,
    "start_time": "2022-01-12T18:02:15.438Z"
   },
   {
    "duration": -35,
    "start_time": "2022-01-12T18:02:15.441Z"
   },
   {
    "duration": -35,
    "start_time": "2022-01-12T18:02:15.443Z"
   },
   {
    "duration": -35,
    "start_time": "2022-01-12T18:02:15.445Z"
   },
   {
    "duration": 103,
    "start_time": "2022-01-12T18:22:34.096Z"
   },
   {
    "duration": 98,
    "start_time": "2022-01-12T18:22:55.187Z"
   },
   {
    "duration": 94,
    "start_time": "2022-01-12T18:23:02.968Z"
   },
   {
    "duration": 101,
    "start_time": "2022-01-12T18:23:14.874Z"
   },
   {
    "duration": 89,
    "start_time": "2022-01-12T18:24:18.180Z"
   },
   {
    "duration": 44,
    "start_time": "2022-01-12T18:24:54.824Z"
   },
   {
    "duration": 34,
    "start_time": "2022-01-12T18:25:31.697Z"
   },
   {
    "duration": 42,
    "start_time": "2022-01-12T18:25:49.461Z"
   },
   {
    "duration": 427,
    "start_time": "2022-01-12T18:28:46.468Z"
   },
   {
    "duration": 67,
    "start_time": "2022-01-12T18:29:08.719Z"
   },
   {
    "duration": 48,
    "start_time": "2022-01-12T18:31:11.832Z"
   },
   {
    "duration": 34,
    "start_time": "2022-01-12T18:31:25.564Z"
   },
   {
    "duration": 86,
    "start_time": "2022-01-12T18:32:35.048Z"
   },
   {
    "duration": 40,
    "start_time": "2022-01-12T18:35:07.043Z"
   },
   {
    "duration": 18,
    "start_time": "2022-01-12T18:36:47.200Z"
   },
   {
    "duration": 15,
    "start_time": "2022-01-12T18:42:06.447Z"
   },
   {
    "duration": 49,
    "start_time": "2022-01-12T18:43:04.741Z"
   },
   {
    "duration": 7404,
    "start_time": "2022-01-12T18:43:44.394Z"
   },
   {
    "duration": 1155,
    "start_time": "2022-01-12T18:44:24.877Z"
   },
   {
    "duration": 540,
    "start_time": "2022-01-12T18:44:26.035Z"
   },
   {
    "duration": 4,
    "start_time": "2022-01-12T18:44:26.577Z"
   },
   {
    "duration": 39,
    "start_time": "2022-01-12T18:44:26.584Z"
   },
   {
    "duration": 61,
    "start_time": "2022-01-12T18:44:26.625Z"
   },
   {
    "duration": 57,
    "start_time": "2022-01-12T18:44:26.689Z"
   },
   {
    "duration": 77,
    "start_time": "2022-01-12T18:44:26.749Z"
   },
   {
    "duration": 42,
    "start_time": "2022-01-12T18:44:26.830Z"
   },
   {
    "duration": 122,
    "start_time": "2022-01-12T18:44:26.875Z"
   },
   {
    "duration": 87,
    "start_time": "2022-01-12T18:44:27.000Z"
   },
   {
    "duration": 44,
    "start_time": "2022-01-12T18:44:27.089Z"
   },
   {
    "duration": 22,
    "start_time": "2022-01-12T18:44:27.136Z"
   },
   {
    "duration": 117,
    "start_time": "2022-01-12T18:44:27.160Z"
   },
   {
    "duration": 72,
    "start_time": "2022-01-12T18:44:27.279Z"
   },
   {
    "duration": 72,
    "start_time": "2022-01-12T18:44:27.353Z"
   },
   {
    "duration": 31,
    "start_time": "2022-01-12T18:44:27.427Z"
   },
   {
    "duration": 92,
    "start_time": "2022-01-12T18:44:27.461Z"
   },
   {
    "duration": 35,
    "start_time": "2022-01-12T18:44:27.556Z"
   },
   {
    "duration": 39,
    "start_time": "2022-01-12T18:44:27.594Z"
   },
   {
    "duration": 24,
    "start_time": "2022-01-12T18:44:27.636Z"
   },
   {
    "duration": 54,
    "start_time": "2022-01-12T18:44:27.663Z"
   },
   {
    "duration": 31,
    "start_time": "2022-01-12T18:44:27.720Z"
   },
   {
    "duration": 415,
    "start_time": "2022-01-12T18:44:27.757Z"
   },
   {
    "duration": 36,
    "start_time": "2022-01-12T18:44:28.138Z"
   },
   {
    "duration": 33,
    "start_time": "2022-01-12T18:44:28.143Z"
   },
   {
    "duration": 32,
    "start_time": "2022-01-12T18:44:28.145Z"
   },
   {
    "duration": 32,
    "start_time": "2022-01-12T18:44:28.147Z"
   },
   {
    "duration": 40,
    "start_time": "2022-01-12T19:08:03.921Z"
   },
   {
    "duration": 46,
    "start_time": "2022-01-12T19:08:40.250Z"
   },
   {
    "duration": 288,
    "start_time": "2022-01-12T19:08:54.685Z"
   },
   {
    "duration": 1205,
    "start_time": "2022-01-12T19:16:59.827Z"
   },
   {
    "duration": 567,
    "start_time": "2022-01-12T19:17:01.035Z"
   },
   {
    "duration": 4,
    "start_time": "2022-01-12T19:17:01.605Z"
   },
   {
    "duration": 36,
    "start_time": "2022-01-12T19:17:01.611Z"
   },
   {
    "duration": 76,
    "start_time": "2022-01-12T19:17:01.649Z"
   },
   {
    "duration": 34,
    "start_time": "2022-01-12T19:17:01.728Z"
   },
   {
    "duration": 84,
    "start_time": "2022-01-12T19:17:01.764Z"
   },
   {
    "duration": 42,
    "start_time": "2022-01-12T19:17:01.851Z"
   },
   {
    "duration": 117,
    "start_time": "2022-01-12T19:17:01.918Z"
   },
   {
    "duration": 179,
    "start_time": "2022-01-12T19:17:02.038Z"
   },
   {
    "duration": 23,
    "start_time": "2022-01-12T19:17:02.220Z"
   },
   {
    "duration": 21,
    "start_time": "2022-01-12T19:17:02.246Z"
   },
   {
    "duration": 135,
    "start_time": "2022-01-12T19:17:02.270Z"
   },
   {
    "duration": 54,
    "start_time": "2022-01-12T19:17:02.418Z"
   },
   {
    "duration": 84,
    "start_time": "2022-01-12T19:17:02.474Z"
   },
   {
    "duration": 32,
    "start_time": "2022-01-12T19:17:02.560Z"
   },
   {
    "duration": 146,
    "start_time": "2022-01-12T19:17:02.595Z"
   },
   {
    "duration": 53,
    "start_time": "2022-01-12T19:17:02.745Z"
   },
   {
    "duration": 20,
    "start_time": "2022-01-12T19:17:02.819Z"
   },
   {
    "duration": 24,
    "start_time": "2022-01-12T19:17:02.841Z"
   },
   {
    "duration": 63,
    "start_time": "2022-01-12T19:17:02.868Z"
   },
   {
    "duration": 32,
    "start_time": "2022-01-12T19:17:02.934Z"
   },
   {
    "duration": 7,
    "start_time": "2022-01-12T19:17:02.972Z"
   },
   {
    "duration": 506,
    "start_time": "2022-01-12T19:17:02.982Z"
   },
   {
    "duration": 83,
    "start_time": "2022-01-12T19:17:03.407Z"
   },
   {
    "duration": 79,
    "start_time": "2022-01-12T19:17:03.413Z"
   },
   {
    "duration": 76,
    "start_time": "2022-01-12T19:17:03.417Z"
   },
   {
    "duration": 75,
    "start_time": "2022-01-12T19:17:03.419Z"
   },
   {
    "duration": 1158,
    "start_time": "2022-01-12T19:18:10.070Z"
   },
   {
    "duration": 546,
    "start_time": "2022-01-12T19:18:11.231Z"
   },
   {
    "duration": 4,
    "start_time": "2022-01-12T19:18:11.780Z"
   },
   {
    "duration": 50,
    "start_time": "2022-01-12T19:18:11.787Z"
   },
   {
    "duration": 80,
    "start_time": "2022-01-12T19:18:11.839Z"
   },
   {
    "duration": 35,
    "start_time": "2022-01-12T19:18:11.922Z"
   },
   {
    "duration": 81,
    "start_time": "2022-01-12T19:18:11.959Z"
   },
   {
    "duration": 42,
    "start_time": "2022-01-12T19:18:12.044Z"
   },
   {
    "duration": 137,
    "start_time": "2022-01-12T19:18:12.089Z"
   },
   {
    "duration": 92,
    "start_time": "2022-01-12T19:18:12.229Z"
   },
   {
    "duration": 22,
    "start_time": "2022-01-12T19:18:12.323Z"
   },
   {
    "duration": 21,
    "start_time": "2022-01-12T19:18:12.347Z"
   },
   {
    "duration": 133,
    "start_time": "2022-01-12T19:18:12.371Z"
   },
   {
    "duration": 62,
    "start_time": "2022-01-12T19:18:12.506Z"
   },
   {
    "duration": 81,
    "start_time": "2022-01-12T19:18:12.571Z"
   },
   {
    "duration": 32,
    "start_time": "2022-01-12T19:18:12.654Z"
   },
   {
    "duration": 98,
    "start_time": "2022-01-12T19:18:12.688Z"
   },
   {
    "duration": 49,
    "start_time": "2022-01-12T19:18:12.789Z"
   },
   {
    "duration": 22,
    "start_time": "2022-01-12T19:18:12.841Z"
   },
   {
    "duration": 53,
    "start_time": "2022-01-12T19:18:12.866Z"
   },
   {
    "duration": 31,
    "start_time": "2022-01-12T19:18:12.921Z"
   },
   {
    "duration": 62,
    "start_time": "2022-01-12T19:18:12.955Z"
   },
   {
    "duration": 6,
    "start_time": "2022-01-12T19:18:13.023Z"
   },
   {
    "duration": 507,
    "start_time": "2022-01-12T19:18:13.032Z"
   },
   {
    "duration": 81,
    "start_time": "2022-01-12T19:18:13.461Z"
   },
   {
    "duration": 78,
    "start_time": "2022-01-12T19:18:13.466Z"
   },
   {
    "duration": 77,
    "start_time": "2022-01-12T19:18:13.469Z"
   },
   {
    "duration": 76,
    "start_time": "2022-01-12T19:18:13.471Z"
   },
   {
    "duration": 1291,
    "start_time": "2022-01-12T19:20:07.533Z"
   },
   {
    "duration": 544,
    "start_time": "2022-01-12T19:20:08.826Z"
   },
   {
    "duration": 5,
    "start_time": "2022-01-12T19:20:09.374Z"
   },
   {
    "duration": 35,
    "start_time": "2022-01-12T19:20:09.382Z"
   },
   {
    "duration": 61,
    "start_time": "2022-01-12T19:20:09.419Z"
   },
   {
    "duration": 59,
    "start_time": "2022-01-12T19:20:09.482Z"
   },
   {
    "duration": 79,
    "start_time": "2022-01-12T19:20:09.543Z"
   },
   {
    "duration": 46,
    "start_time": "2022-01-12T19:20:09.626Z"
   },
   {
    "duration": 132,
    "start_time": "2022-01-12T19:20:09.676Z"
   },
   {
    "duration": 84,
    "start_time": "2022-01-12T19:20:09.817Z"
   },
   {
    "duration": 21,
    "start_time": "2022-01-12T19:20:09.917Z"
   },
   {
    "duration": 21,
    "start_time": "2022-01-12T19:20:09.941Z"
   },
   {
    "duration": 125,
    "start_time": "2022-01-12T19:20:09.964Z"
   },
   {
    "duration": 71,
    "start_time": "2022-01-12T19:20:10.092Z"
   },
   {
    "duration": 76,
    "start_time": "2022-01-12T19:20:10.166Z"
   },
   {
    "duration": 33,
    "start_time": "2022-01-12T19:20:10.244Z"
   },
   {
    "duration": 104,
    "start_time": "2022-01-12T19:20:10.279Z"
   },
   {
    "duration": 56,
    "start_time": "2022-01-12T19:20:10.386Z"
   },
   {
    "duration": 18,
    "start_time": "2022-01-12T19:20:10.445Z"
   },
   {
    "duration": 23,
    "start_time": "2022-01-12T19:20:10.466Z"
   },
   {
    "duration": 23,
    "start_time": "2022-01-12T19:20:10.516Z"
   },
   {
    "duration": 31,
    "start_time": "2022-01-12T19:20:10.542Z"
   },
   {
    "duration": 38,
    "start_time": "2022-01-12T19:20:10.579Z"
   },
   {
    "duration": 33,
    "start_time": "2022-01-12T19:20:10.621Z"
   },
   {
    "duration": 10,
    "start_time": "2022-01-12T19:20:10.656Z"
   },
   {
    "duration": 7438,
    "start_time": "2022-01-12T19:20:10.668Z"
   },
   {
    "duration": 68,
    "start_time": "2022-01-12T19:20:18.040Z"
   },
   {
    "duration": 56,
    "start_time": "2022-01-12T19:20:18.054Z"
   },
   {
    "duration": 13,
    "start_time": "2022-01-12T19:43:58.932Z"
   },
   {
    "duration": 1162,
    "start_time": "2022-01-12T20:01:19.368Z"
   },
   {
    "duration": 547,
    "start_time": "2022-01-12T20:01:20.534Z"
   },
   {
    "duration": 4,
    "start_time": "2022-01-12T20:01:21.084Z"
   },
   {
    "duration": 34,
    "start_time": "2022-01-12T20:01:21.091Z"
   },
   {
    "duration": 61,
    "start_time": "2022-01-12T20:01:21.128Z"
   },
   {
    "duration": 52,
    "start_time": "2022-01-12T20:01:21.192Z"
   },
   {
    "duration": 81,
    "start_time": "2022-01-12T20:01:21.246Z"
   },
   {
    "duration": 46,
    "start_time": "2022-01-12T20:01:21.331Z"
   },
   {
    "duration": 156,
    "start_time": "2022-01-12T20:01:21.380Z"
   },
   {
    "duration": 178,
    "start_time": "2022-01-12T20:01:21.539Z"
   },
   {
    "duration": 33,
    "start_time": "2022-01-12T20:01:21.720Z"
   },
   {
    "duration": 27,
    "start_time": "2022-01-12T20:01:21.756Z"
   },
   {
    "duration": 134,
    "start_time": "2022-01-12T20:01:21.786Z"
   },
   {
    "duration": 54,
    "start_time": "2022-01-12T20:01:21.923Z"
   },
   {
    "duration": 102,
    "start_time": "2022-01-12T20:01:21.979Z"
   },
   {
    "duration": 63,
    "start_time": "2022-01-12T20:01:22.084Z"
   },
   {
    "duration": 87,
    "start_time": "2022-01-12T20:01:22.150Z"
   },
   {
    "duration": 37,
    "start_time": "2022-01-12T20:01:22.239Z"
   },
   {
    "duration": 46,
    "start_time": "2022-01-12T20:01:22.279Z"
   },
   {
    "duration": 6,
    "start_time": "2022-01-12T20:01:22.328Z"
   },
   {
    "duration": 27,
    "start_time": "2022-01-12T20:01:22.337Z"
   },
   {
    "duration": 53,
    "start_time": "2022-01-12T20:01:22.367Z"
   },
   {
    "duration": 29,
    "start_time": "2022-01-12T20:01:22.426Z"
   },
   {
    "duration": 6,
    "start_time": "2022-01-12T20:01:22.459Z"
   },
   {
    "duration": 67,
    "start_time": "2022-01-12T20:01:22.468Z"
   },
   {
    "duration": 11,
    "start_time": "2022-01-12T20:01:22.538Z"
   },
   {
    "duration": 13,
    "start_time": "2022-01-12T20:01:22.552Z"
   },
   {
    "duration": 6,
    "start_time": "2022-01-12T20:01:22.568Z"
   },
   {
    "duration": 8845,
    "start_time": "2022-01-12T20:01:22.577Z"
   },
   {
    "duration": 8584,
    "start_time": "2022-01-12T20:04:36.260Z"
   },
   {
    "duration": 1331,
    "start_time": "2022-01-12T20:04:59.940Z"
   },
   {
    "duration": 561,
    "start_time": "2022-01-12T20:05:01.274Z"
   },
   {
    "duration": 4,
    "start_time": "2022-01-12T20:05:01.842Z"
   },
   {
    "duration": 72,
    "start_time": "2022-01-12T20:05:01.849Z"
   },
   {
    "duration": 73,
    "start_time": "2022-01-12T20:05:01.923Z"
   },
   {
    "duration": 45,
    "start_time": "2022-01-12T20:05:01.999Z"
   },
   {
    "duration": 99,
    "start_time": "2022-01-12T20:05:02.049Z"
   },
   {
    "duration": 76,
    "start_time": "2022-01-12T20:05:02.151Z"
   },
   {
    "duration": 166,
    "start_time": "2022-01-12T20:05:02.231Z"
   },
   {
    "duration": 84,
    "start_time": "2022-01-12T20:05:02.400Z"
   },
   {
    "duration": 39,
    "start_time": "2022-01-12T20:05:02.486Z"
   },
   {
    "duration": 21,
    "start_time": "2022-01-12T20:05:02.527Z"
   },
   {
    "duration": 122,
    "start_time": "2022-01-12T20:05:02.550Z"
   },
   {
    "duration": 72,
    "start_time": "2022-01-12T20:05:02.675Z"
   },
   {
    "duration": 73,
    "start_time": "2022-01-12T20:05:02.750Z"
   },
   {
    "duration": 36,
    "start_time": "2022-01-12T20:05:02.826Z"
   },
   {
    "duration": 91,
    "start_time": "2022-01-12T20:05:02.865Z"
   },
   {
    "duration": 60,
    "start_time": "2022-01-12T20:05:02.959Z"
   },
   {
    "duration": 18,
    "start_time": "2022-01-12T20:05:03.022Z"
   },
   {
    "duration": 6,
    "start_time": "2022-01-12T20:05:03.042Z"
   },
   {
    "duration": 36,
    "start_time": "2022-01-12T20:05:03.050Z"
   },
   {
    "duration": 44,
    "start_time": "2022-01-12T20:05:03.090Z"
   },
   {
    "duration": 29,
    "start_time": "2022-01-12T20:05:03.136Z"
   },
   {
    "duration": 4,
    "start_time": "2022-01-12T20:05:03.168Z"
   },
   {
    "duration": 63,
    "start_time": "2022-01-12T20:05:03.174Z"
   },
   {
    "duration": 10,
    "start_time": "2022-01-12T20:05:03.240Z"
   },
   {
    "duration": 15,
    "start_time": "2022-01-12T20:05:03.252Z"
   },
   {
    "duration": 7,
    "start_time": "2022-01-12T20:05:03.270Z"
   },
   {
    "duration": 381,
    "start_time": "2022-01-12T20:05:03.316Z"
   },
   {
    "duration": 362,
    "start_time": "2022-01-12T20:11:02.642Z"
   },
   {
    "duration": 431,
    "start_time": "2022-01-12T20:11:14.818Z"
   },
   {
    "duration": 1955,
    "start_time": "2022-01-12T20:29:54.045Z"
   },
   {
    "duration": 1009,
    "start_time": "2022-01-12T20:30:45.432Z"
   },
   {
    "duration": 1169,
    "start_time": "2022-01-12T20:32:07.163Z"
   },
   {
    "duration": 557,
    "start_time": "2022-01-12T20:32:08.335Z"
   },
   {
    "duration": 5,
    "start_time": "2022-01-12T20:32:08.896Z"
   },
   {
    "duration": 36,
    "start_time": "2022-01-12T20:32:08.904Z"
   },
   {
    "duration": 82,
    "start_time": "2022-01-12T20:32:08.944Z"
   },
   {
    "duration": 35,
    "start_time": "2022-01-12T20:32:09.028Z"
   },
   {
    "duration": 84,
    "start_time": "2022-01-12T20:32:09.065Z"
   },
   {
    "duration": 65,
    "start_time": "2022-01-12T20:32:09.153Z"
   },
   {
    "duration": 118,
    "start_time": "2022-01-12T20:32:09.221Z"
   },
   {
    "duration": 93,
    "start_time": "2022-01-12T20:32:09.342Z"
   },
   {
    "duration": 23,
    "start_time": "2022-01-12T20:32:09.437Z"
   },
   {
    "duration": 21,
    "start_time": "2022-01-12T20:32:09.462Z"
   },
   {
    "duration": 106,
    "start_time": "2022-01-12T20:32:09.517Z"
   },
   {
    "duration": 53,
    "start_time": "2022-01-12T20:32:09.625Z"
   },
   {
    "duration": 77,
    "start_time": "2022-01-12T20:32:09.681Z"
   },
   {
    "duration": 31,
    "start_time": "2022-01-12T20:32:09.760Z"
   },
   {
    "duration": 94,
    "start_time": "2022-01-12T20:32:09.794Z"
   },
   {
    "duration": 59,
    "start_time": "2022-01-12T20:32:09.890Z"
   },
   {
    "duration": 26,
    "start_time": "2022-01-12T20:32:09.952Z"
   },
   {
    "duration": 7,
    "start_time": "2022-01-12T20:32:09.981Z"
   },
   {
    "duration": 48,
    "start_time": "2022-01-12T20:32:09.990Z"
   },
   {
    "duration": 25,
    "start_time": "2022-01-12T20:32:10.040Z"
   },
   {
    "duration": 56,
    "start_time": "2022-01-12T20:32:10.069Z"
   },
   {
    "duration": 5,
    "start_time": "2022-01-12T20:32:10.127Z"
   },
   {
    "duration": 38,
    "start_time": "2022-01-12T20:32:10.134Z"
   },
   {
    "duration": 11,
    "start_time": "2022-01-12T20:32:10.174Z"
   },
   {
    "duration": 42,
    "start_time": "2022-01-12T20:32:10.187Z"
   },
   {
    "duration": 5,
    "start_time": "2022-01-12T20:32:10.232Z"
   },
   {
    "duration": 394,
    "start_time": "2022-01-12T20:32:10.240Z"
   },
   {
    "duration": 1182,
    "start_time": "2022-01-12T20:32:10.637Z"
   },
   {
    "duration": 266,
    "start_time": "2022-01-13T16:16:15.016Z"
   },
   {
    "duration": 909,
    "start_time": "2022-01-13T16:16:22.628Z"
   },
   {
    "duration": 343,
    "start_time": "2022-01-13T16:16:23.539Z"
   },
   {
    "duration": 3,
    "start_time": "2022-01-13T16:16:23.883Z"
   },
   {
    "duration": 19,
    "start_time": "2022-01-13T16:16:23.887Z"
   },
   {
    "duration": 44,
    "start_time": "2022-01-13T16:16:23.907Z"
   },
   {
    "duration": 22,
    "start_time": "2022-01-13T16:16:23.952Z"
   },
   {
    "duration": 57,
    "start_time": "2022-01-13T16:16:23.975Z"
   },
   {
    "duration": 25,
    "start_time": "2022-01-13T16:16:24.034Z"
   },
   {
    "duration": 79,
    "start_time": "2022-01-13T16:16:24.061Z"
   },
   {
    "duration": 49,
    "start_time": "2022-01-13T16:16:24.142Z"
   },
   {
    "duration": 25,
    "start_time": "2022-01-13T16:16:24.192Z"
   },
   {
    "duration": 14,
    "start_time": "2022-01-13T16:16:24.218Z"
   },
   {
    "duration": 57,
    "start_time": "2022-01-13T16:16:24.234Z"
   },
   {
    "duration": 51,
    "start_time": "2022-01-13T16:16:24.293Z"
   },
   {
    "duration": 38,
    "start_time": "2022-01-13T16:16:24.346Z"
   },
   {
    "duration": 43,
    "start_time": "2022-01-13T16:16:24.386Z"
   },
   {
    "duration": 45,
    "start_time": "2022-01-13T16:16:24.431Z"
   },
   {
    "duration": 40,
    "start_time": "2022-01-13T16:16:24.477Z"
   },
   {
    "duration": 8,
    "start_time": "2022-01-13T16:16:24.519Z"
   },
   {
    "duration": 4,
    "start_time": "2022-01-13T16:16:24.529Z"
   },
   {
    "duration": 14,
    "start_time": "2022-01-13T16:16:24.535Z"
   },
   {
    "duration": 13,
    "start_time": "2022-01-13T16:16:24.550Z"
   },
   {
    "duration": 17,
    "start_time": "2022-01-13T16:16:24.565Z"
   },
   {
    "duration": 29,
    "start_time": "2022-01-13T16:16:24.583Z"
   },
   {
    "duration": 19,
    "start_time": "2022-01-13T16:16:24.613Z"
   },
   {
    "duration": 6,
    "start_time": "2022-01-13T16:16:24.633Z"
   },
   {
    "duration": 7,
    "start_time": "2022-01-13T16:16:24.640Z"
   },
   {
    "duration": 3,
    "start_time": "2022-01-13T16:16:24.649Z"
   },
   {
    "duration": 225,
    "start_time": "2022-01-13T16:16:24.653Z"
   },
   {
    "duration": 675,
    "start_time": "2022-01-13T16:16:24.879Z"
   },
   {
    "duration": 532,
    "start_time": "2022-01-13T16:16:25.555Z"
   },
   {
    "duration": 415,
    "start_time": "2022-01-13T16:17:12.886Z"
   },
   {
    "duration": 173,
    "start_time": "2022-01-13T16:17:19.534Z"
   },
   {
    "duration": 217,
    "start_time": "2022-01-13T16:17:26.369Z"
   },
   {
    "duration": 225,
    "start_time": "2022-01-13T16:20:43.571Z"
   },
   {
    "duration": 215,
    "start_time": "2022-01-13T16:28:40.396Z"
   },
   {
    "duration": 671,
    "start_time": "2022-01-13T16:39:45.488Z"
   },
   {
    "duration": 431,
    "start_time": "2022-01-13T16:41:25.920Z"
   },
   {
    "duration": 916,
    "start_time": "2022-01-13T16:41:51.411Z"
   },
   {
    "duration": 346,
    "start_time": "2022-01-13T16:41:52.329Z"
   },
   {
    "duration": 2,
    "start_time": "2022-01-13T16:41:52.677Z"
   },
   {
    "duration": 21,
    "start_time": "2022-01-13T16:41:52.681Z"
   },
   {
    "duration": 41,
    "start_time": "2022-01-13T16:41:52.703Z"
   },
   {
    "duration": 21,
    "start_time": "2022-01-13T16:41:52.745Z"
   },
   {
    "duration": 52,
    "start_time": "2022-01-13T16:41:52.768Z"
   },
   {
    "duration": 26,
    "start_time": "2022-01-13T16:41:52.822Z"
   },
   {
    "duration": 79,
    "start_time": "2022-01-13T16:41:52.850Z"
   },
   {
    "duration": 48,
    "start_time": "2022-01-13T16:41:52.931Z"
   },
   {
    "duration": 13,
    "start_time": "2022-01-13T16:41:52.980Z"
   },
   {
    "duration": 28,
    "start_time": "2022-01-13T16:41:52.995Z"
   },
   {
    "duration": 58,
    "start_time": "2022-01-13T16:41:53.024Z"
   },
   {
    "duration": 50,
    "start_time": "2022-01-13T16:41:53.084Z"
   },
   {
    "duration": 38,
    "start_time": "2022-01-13T16:41:53.135Z"
   },
   {
    "duration": 41,
    "start_time": "2022-01-13T16:41:53.174Z"
   },
   {
    "duration": 46,
    "start_time": "2022-01-13T16:41:53.216Z"
   },
   {
    "duration": 24,
    "start_time": "2022-01-13T16:41:53.263Z"
   },
   {
    "duration": 30,
    "start_time": "2022-01-13T16:41:53.288Z"
   },
   {
    "duration": 4,
    "start_time": "2022-01-13T16:41:53.319Z"
   },
   {
    "duration": 19,
    "start_time": "2022-01-13T16:41:53.324Z"
   },
   {
    "duration": 14,
    "start_time": "2022-01-13T16:41:53.344Z"
   },
   {
    "duration": 17,
    "start_time": "2022-01-13T16:41:53.361Z"
   },
   {
    "duration": 3,
    "start_time": "2022-01-13T16:41:53.379Z"
   },
   {
    "duration": 45,
    "start_time": "2022-01-13T16:41:53.384Z"
   },
   {
    "duration": 8,
    "start_time": "2022-01-13T16:41:53.431Z"
   },
   {
    "duration": 11,
    "start_time": "2022-01-13T16:41:53.447Z"
   },
   {
    "duration": 4,
    "start_time": "2022-01-13T16:41:53.460Z"
   },
   {
    "duration": 261,
    "start_time": "2022-01-13T16:41:53.466Z"
   },
   {
    "duration": 730,
    "start_time": "2022-01-13T16:41:53.729Z"
   },
   {
    "duration": 544,
    "start_time": "2022-01-13T16:41:54.461Z"
   },
   {
    "duration": 1022,
    "start_time": "2022-01-13T16:42:59.519Z"
   },
   {
    "duration": 352,
    "start_time": "2022-01-13T16:43:00.543Z"
   },
   {
    "duration": 2,
    "start_time": "2022-01-13T16:43:00.897Z"
   },
   {
    "duration": 22,
    "start_time": "2022-01-13T16:43:00.901Z"
   },
   {
    "duration": 40,
    "start_time": "2022-01-13T16:43:00.925Z"
   },
   {
    "duration": 22,
    "start_time": "2022-01-13T16:43:00.966Z"
   },
   {
    "duration": 56,
    "start_time": "2022-01-13T16:43:00.990Z"
   },
   {
    "duration": 26,
    "start_time": "2022-01-13T16:43:01.049Z"
   },
   {
    "duration": 83,
    "start_time": "2022-01-13T16:43:01.077Z"
   },
   {
    "duration": 54,
    "start_time": "2022-01-13T16:43:01.162Z"
   },
   {
    "duration": 11,
    "start_time": "2022-01-13T16:43:01.217Z"
   },
   {
    "duration": 16,
    "start_time": "2022-01-13T16:43:01.229Z"
   },
   {
    "duration": 78,
    "start_time": "2022-01-13T16:43:01.247Z"
   },
   {
    "duration": 46,
    "start_time": "2022-01-13T16:43:01.327Z"
   },
   {
    "duration": 52,
    "start_time": "2022-01-13T16:43:01.374Z"
   },
   {
    "duration": 20,
    "start_time": "2022-01-13T16:43:01.428Z"
   },
   {
    "duration": 64,
    "start_time": "2022-01-13T16:43:01.449Z"
   },
   {
    "duration": 24,
    "start_time": "2022-01-13T16:43:01.514Z"
   },
   {
    "duration": 10,
    "start_time": "2022-01-13T16:43:01.540Z"
   },
   {
    "duration": 3,
    "start_time": "2022-01-13T16:43:01.551Z"
   },
   {
    "duration": 17,
    "start_time": "2022-01-13T16:43:01.556Z"
   },
   {
    "duration": 39,
    "start_time": "2022-01-13T16:43:01.574Z"
   },
   {
    "duration": 17,
    "start_time": "2022-01-13T16:43:01.616Z"
   },
   {
    "duration": 3,
    "start_time": "2022-01-13T16:43:01.634Z"
   },
   {
    "duration": 21,
    "start_time": "2022-01-13T16:43:01.639Z"
   },
   {
    "duration": 6,
    "start_time": "2022-01-13T16:43:01.661Z"
   },
   {
    "duration": 18,
    "start_time": "2022-01-13T16:43:01.668Z"
   },
   {
    "duration": 25,
    "start_time": "2022-01-13T16:43:01.687Z"
   },
   {
    "duration": 202,
    "start_time": "2022-01-13T16:43:01.713Z"
   },
   {
    "duration": 577,
    "start_time": "2022-01-13T16:43:01.916Z"
   },
   {
    "duration": 668,
    "start_time": "2022-01-13T16:43:02.495Z"
   },
   {
    "duration": 21,
    "start_time": "2022-01-13T16:52:05.276Z"
   },
   {
    "duration": 24,
    "start_time": "2022-01-13T16:52:39.268Z"
   },
   {
    "duration": 23,
    "start_time": "2022-01-13T16:53:26.824Z"
   },
   {
    "duration": 23,
    "start_time": "2022-01-13T16:54:47.320Z"
   },
   {
    "duration": 27,
    "start_time": "2022-01-13T17:11:34.298Z"
   },
   {
    "duration": 541,
    "start_time": "2022-01-13T17:28:30.747Z"
   },
   {
    "duration": 852,
    "start_time": "2022-01-13T17:28:46.873Z"
   },
   {
    "duration": 384,
    "start_time": "2022-01-13T17:29:23.964Z"
   },
   {
    "duration": 1157,
    "start_time": "2022-01-13T17:30:12.059Z"
   },
   {
    "duration": 880,
    "start_time": "2022-01-13T17:38:32.575Z"
   },
   {
    "duration": 691,
    "start_time": "2022-01-13T17:41:43.657Z"
   },
   {
    "duration": 382,
    "start_time": "2022-01-13T17:45:41.011Z"
   },
   {
    "duration": 364,
    "start_time": "2022-01-13T17:46:34.793Z"
   },
   {
    "duration": 583,
    "start_time": "2022-01-13T17:47:22.410Z"
   },
   {
    "duration": 501,
    "start_time": "2022-01-13T17:48:58.895Z"
   },
   {
    "duration": 439,
    "start_time": "2022-01-13T17:53:56.311Z"
   },
   {
    "duration": 464,
    "start_time": "2022-01-13T17:54:55.767Z"
   },
   {
    "duration": 998,
    "start_time": "2022-01-13T18:21:49.614Z"
   },
   {
    "duration": 357,
    "start_time": "2022-01-13T18:21:50.614Z"
   },
   {
    "duration": 3,
    "start_time": "2022-01-13T18:21:50.973Z"
   },
   {
    "duration": 20,
    "start_time": "2022-01-13T18:21:50.977Z"
   },
   {
    "duration": 48,
    "start_time": "2022-01-13T18:21:50.998Z"
   },
   {
    "duration": 22,
    "start_time": "2022-01-13T18:21:51.048Z"
   },
   {
    "duration": 65,
    "start_time": "2022-01-13T18:21:51.071Z"
   },
   {
    "duration": 26,
    "start_time": "2022-01-13T18:21:51.140Z"
   },
   {
    "duration": 84,
    "start_time": "2022-01-13T18:21:51.168Z"
   },
   {
    "duration": 49,
    "start_time": "2022-01-13T18:21:51.254Z"
   },
   {
    "duration": 11,
    "start_time": "2022-01-13T18:21:51.312Z"
   },
   {
    "duration": 16,
    "start_time": "2022-01-13T18:21:51.325Z"
   },
   {
    "duration": 98,
    "start_time": "2022-01-13T18:21:51.343Z"
   },
   {
    "duration": 36,
    "start_time": "2022-01-13T18:21:51.443Z"
   },
   {
    "duration": 66,
    "start_time": "2022-01-13T18:21:51.480Z"
   },
   {
    "duration": 20,
    "start_time": "2022-01-13T18:21:51.548Z"
   },
   {
    "duration": 76,
    "start_time": "2022-01-13T18:21:51.569Z"
   },
   {
    "duration": 22,
    "start_time": "2022-01-13T18:21:51.646Z"
   },
   {
    "duration": 8,
    "start_time": "2022-01-13T18:21:51.670Z"
   },
   {
    "duration": 4,
    "start_time": "2022-01-13T18:21:51.680Z"
   },
   {
    "duration": 36,
    "start_time": "2022-01-13T18:21:51.685Z"
   },
   {
    "duration": 13,
    "start_time": "2022-01-13T18:21:51.722Z"
   },
   {
    "duration": 17,
    "start_time": "2022-01-13T18:21:51.738Z"
   },
   {
    "duration": 3,
    "start_time": "2022-01-13T18:21:51.756Z"
   },
   {
    "duration": 25,
    "start_time": "2022-01-13T18:21:51.761Z"
   },
   {
    "duration": 29,
    "start_time": "2022-01-13T18:21:51.788Z"
   },
   {
    "duration": 7,
    "start_time": "2022-01-13T18:21:51.819Z"
   },
   {
    "duration": 4,
    "start_time": "2022-01-13T18:21:51.828Z"
   },
   {
    "duration": 224,
    "start_time": "2022-01-13T18:21:51.833Z"
   },
   {
    "duration": 604,
    "start_time": "2022-01-13T18:21:52.058Z"
   },
   {
    "duration": 449,
    "start_time": "2022-01-13T18:21:52.663Z"
   },
   {
    "duration": 473,
    "start_time": "2022-01-13T18:21:53.113Z"
   },
   {
    "duration": 463,
    "start_time": "2022-01-13T18:21:53.587Z"
   },
   {
    "duration": 752,
    "start_time": "2022-01-13T18:21:54.051Z"
   },
   {
    "duration": 22,
    "start_time": "2022-01-13T18:21:54.811Z"
   },
   {
    "duration": 315,
    "start_time": "2022-01-13T18:39:10.419Z"
   },
   {
    "duration": 4,
    "start_time": "2022-01-13T18:39:19.277Z"
   },
   {
    "duration": 14,
    "start_time": "2022-01-13T18:39:20.776Z"
   },
   {
    "duration": 210,
    "start_time": "2022-01-13T18:43:56.521Z"
   },
   {
    "duration": 219,
    "start_time": "2022-01-13T18:44:16.886Z"
   },
   {
    "duration": 45,
    "start_time": "2022-01-13T18:46:04.512Z"
   },
   {
    "duration": 1035,
    "start_time": "2022-01-13T19:17:01.195Z"
   },
   {
    "duration": 359,
    "start_time": "2022-01-13T19:17:02.232Z"
   },
   {
    "duration": 3,
    "start_time": "2022-01-13T19:17:02.592Z"
   },
   {
    "duration": 20,
    "start_time": "2022-01-13T19:17:02.596Z"
   },
   {
    "duration": 41,
    "start_time": "2022-01-13T19:17:02.618Z"
   },
   {
    "duration": 23,
    "start_time": "2022-01-13T19:17:02.661Z"
   },
   {
    "duration": 64,
    "start_time": "2022-01-13T19:17:02.686Z"
   },
   {
    "duration": 25,
    "start_time": "2022-01-13T19:17:02.752Z"
   },
   {
    "duration": 82,
    "start_time": "2022-01-13T19:17:02.778Z"
   },
   {
    "duration": 53,
    "start_time": "2022-01-13T19:17:02.861Z"
   },
   {
    "duration": 10,
    "start_time": "2022-01-13T19:17:02.915Z"
   },
   {
    "duration": 14,
    "start_time": "2022-01-13T19:17:02.927Z"
   },
   {
    "duration": 82,
    "start_time": "2022-01-13T19:17:02.942Z"
   },
   {
    "duration": 35,
    "start_time": "2022-01-13T19:17:03.025Z"
   },
   {
    "duration": 51,
    "start_time": "2022-01-13T19:17:03.061Z"
   },
   {
    "duration": 19,
    "start_time": "2022-01-13T19:17:03.113Z"
   },
   {
    "duration": 45,
    "start_time": "2022-01-13T19:17:03.134Z"
   },
   {
    "duration": 38,
    "start_time": "2022-01-13T19:17:03.180Z"
   },
   {
    "duration": 9,
    "start_time": "2022-01-13T19:17:03.219Z"
   },
   {
    "duration": 3,
    "start_time": "2022-01-13T19:17:03.230Z"
   },
   {
    "duration": 13,
    "start_time": "2022-01-13T19:17:03.235Z"
   },
   {
    "duration": 13,
    "start_time": "2022-01-13T19:17:03.249Z"
   },
   {
    "duration": 16,
    "start_time": "2022-01-13T19:17:03.265Z"
   },
   {
    "duration": 31,
    "start_time": "2022-01-13T19:17:03.282Z"
   },
   {
    "duration": 25,
    "start_time": "2022-01-13T19:17:03.315Z"
   },
   {
    "duration": 6,
    "start_time": "2022-01-13T19:17:03.341Z"
   },
   {
    "duration": 7,
    "start_time": "2022-01-13T19:17:03.348Z"
   },
   {
    "duration": 5,
    "start_time": "2022-01-13T19:17:03.356Z"
   },
   {
    "duration": 242,
    "start_time": "2022-01-13T19:17:03.363Z"
   },
   {
    "duration": 578,
    "start_time": "2022-01-13T19:17:03.606Z"
   },
   {
    "duration": 411,
    "start_time": "2022-01-13T19:17:04.186Z"
   },
   {
    "duration": 410,
    "start_time": "2022-01-13T19:17:04.599Z"
   },
   {
    "duration": 417,
    "start_time": "2022-01-13T19:17:05.012Z"
   },
   {
    "duration": 701,
    "start_time": "2022-01-13T19:17:05.430Z"
   },
   {
    "duration": 22,
    "start_time": "2022-01-13T19:17:06.133Z"
   },
   {
    "duration": 2,
    "start_time": "2022-01-13T19:17:06.156Z"
   },
   {
    "duration": 6,
    "start_time": "2022-01-13T19:17:06.160Z"
   },
   {
    "duration": 12,
    "start_time": "2022-01-13T19:17:06.167Z"
   },
   {
    "duration": 63,
    "start_time": "2022-01-13T19:17:06.181Z"
   },
   {
    "duration": 6,
    "start_time": "2022-01-13T19:17:06.246Z"
   },
   {
    "duration": 5,
    "start_time": "2022-01-13T19:17:06.253Z"
   },
   {
    "duration": 7,
    "start_time": "2022-01-13T19:21:53.038Z"
   },
   {
    "duration": 5,
    "start_time": "2022-01-13T19:21:54.442Z"
   },
   {
    "duration": 4,
    "start_time": "2022-01-13T19:22:04.866Z"
   },
   {
    "duration": 8,
    "start_time": "2022-01-13T19:25:38.805Z"
   },
   {
    "duration": 4,
    "start_time": "2022-01-13T19:25:40.244Z"
   },
   {
    "duration": 1029,
    "start_time": "2022-01-13T19:26:09.301Z"
   },
   {
    "duration": 355,
    "start_time": "2022-01-13T19:26:10.331Z"
   },
   {
    "duration": 2,
    "start_time": "2022-01-13T19:26:10.688Z"
   },
   {
    "duration": 20,
    "start_time": "2022-01-13T19:26:10.692Z"
   },
   {
    "duration": 40,
    "start_time": "2022-01-13T19:26:10.714Z"
   },
   {
    "duration": 21,
    "start_time": "2022-01-13T19:26:10.755Z"
   },
   {
    "duration": 53,
    "start_time": "2022-01-13T19:26:10.777Z"
   },
   {
    "duration": 26,
    "start_time": "2022-01-13T19:26:10.832Z"
   },
   {
    "duration": 80,
    "start_time": "2022-01-13T19:26:10.859Z"
   },
   {
    "duration": 50,
    "start_time": "2022-01-13T19:26:10.940Z"
   },
   {
    "duration": 24,
    "start_time": "2022-01-13T19:26:10.991Z"
   },
   {
    "duration": 13,
    "start_time": "2022-01-13T19:26:11.017Z"
   },
   {
    "duration": 62,
    "start_time": "2022-01-13T19:26:11.031Z"
   },
   {
    "duration": 52,
    "start_time": "2022-01-13T19:26:11.095Z"
   },
   {
    "duration": 38,
    "start_time": "2022-01-13T19:26:11.149Z"
   },
   {
    "duration": 41,
    "start_time": "2022-01-13T19:26:11.188Z"
   },
   {
    "duration": 45,
    "start_time": "2022-01-13T19:26:11.231Z"
   },
   {
    "duration": 35,
    "start_time": "2022-01-13T19:26:11.278Z"
   },
   {
    "duration": 9,
    "start_time": "2022-01-13T19:26:11.315Z"
   },
   {
    "duration": 4,
    "start_time": "2022-01-13T19:26:11.325Z"
   },
   {
    "duration": 16,
    "start_time": "2022-01-13T19:26:11.330Z"
   },
   {
    "duration": 13,
    "start_time": "2022-01-13T19:26:11.347Z"
   },
   {
    "duration": 17,
    "start_time": "2022-01-13T19:26:11.363Z"
   },
   {
    "duration": 31,
    "start_time": "2022-01-13T19:26:11.382Z"
   },
   {
    "duration": 23,
    "start_time": "2022-01-13T19:26:11.414Z"
   },
   {
    "duration": 6,
    "start_time": "2022-01-13T19:26:11.438Z"
   },
   {
    "duration": 8,
    "start_time": "2022-01-13T19:26:11.446Z"
   },
   {
    "duration": 4,
    "start_time": "2022-01-13T19:26:11.456Z"
   },
   {
    "duration": 252,
    "start_time": "2022-01-13T19:26:11.461Z"
   },
   {
    "duration": 611,
    "start_time": "2022-01-13T19:26:11.715Z"
   },
   {
    "duration": 440,
    "start_time": "2022-01-13T19:26:12.328Z"
   },
   {
    "duration": 424,
    "start_time": "2022-01-13T19:26:12.769Z"
   },
   {
    "duration": 426,
    "start_time": "2022-01-13T19:26:13.194Z"
   },
   {
    "duration": 727,
    "start_time": "2022-01-13T19:26:13.622Z"
   },
   {
    "duration": 22,
    "start_time": "2022-01-13T19:26:14.351Z"
   },
   {
    "duration": 2,
    "start_time": "2022-01-13T19:26:14.375Z"
   },
   {
    "duration": 6,
    "start_time": "2022-01-13T19:26:14.378Z"
   },
   {
    "duration": 27,
    "start_time": "2022-01-13T19:26:14.385Z"
   },
   {
    "duration": 44,
    "start_time": "2022-01-13T19:26:14.414Z"
   },
   {
    "duration": 6,
    "start_time": "2022-01-13T19:26:14.460Z"
   },
   {
    "duration": 6,
    "start_time": "2022-01-13T19:26:14.467Z"
   },
   {
    "duration": 5,
    "start_time": "2022-01-13T19:26:14.475Z"
   },
   {
    "duration": 9,
    "start_time": "2022-01-13T19:26:14.511Z"
   },
   {
    "duration": 5,
    "start_time": "2022-01-13T19:26:14.522Z"
   },
   {
    "duration": 522,
    "start_time": "2022-01-13T19:49:30.994Z"
   },
   {
    "duration": 412,
    "start_time": "2022-01-13T19:49:41.089Z"
   },
   {
    "duration": 955,
    "start_time": "2022-01-13T20:25:58.880Z"
   },
   {
    "duration": 362,
    "start_time": "2022-01-13T20:25:59.836Z"
   },
   {
    "duration": 2,
    "start_time": "2022-01-13T20:26:00.202Z"
   },
   {
    "duration": 22,
    "start_time": "2022-01-13T20:26:00.206Z"
   },
   {
    "duration": 43,
    "start_time": "2022-01-13T20:26:00.230Z"
   },
   {
    "duration": 39,
    "start_time": "2022-01-13T20:26:00.275Z"
   },
   {
    "duration": 39,
    "start_time": "2022-01-13T20:26:00.317Z"
   },
   {
    "duration": 26,
    "start_time": "2022-01-13T20:26:00.359Z"
   },
   {
    "duration": 88,
    "start_time": "2022-01-13T20:26:00.386Z"
   },
   {
    "duration": 62,
    "start_time": "2022-01-13T20:26:00.475Z"
   },
   {
    "duration": 10,
    "start_time": "2022-01-13T20:26:00.539Z"
   },
   {
    "duration": 13,
    "start_time": "2022-01-13T20:26:00.551Z"
   },
   {
    "duration": 74,
    "start_time": "2022-01-13T20:26:00.566Z"
   },
   {
    "duration": 37,
    "start_time": "2022-01-13T20:26:00.642Z"
   },
   {
    "duration": 56,
    "start_time": "2022-01-13T20:26:00.681Z"
   },
   {
    "duration": 22,
    "start_time": "2022-01-13T20:26:00.738Z"
   },
   {
    "duration": 62,
    "start_time": "2022-01-13T20:26:00.761Z"
   },
   {
    "duration": 24,
    "start_time": "2022-01-13T20:26:00.825Z"
   },
   {
    "duration": 9,
    "start_time": "2022-01-13T20:26:00.851Z"
   },
   {
    "duration": 4,
    "start_time": "2022-01-13T20:26:00.861Z"
   },
   {
    "duration": 15,
    "start_time": "2022-01-13T20:26:00.866Z"
   },
   {
    "duration": 14,
    "start_time": "2022-01-13T20:26:00.911Z"
   },
   {
    "duration": 17,
    "start_time": "2022-01-13T20:26:00.926Z"
   },
   {
    "duration": 3,
    "start_time": "2022-01-13T20:26:00.944Z"
   },
   {
    "duration": 23,
    "start_time": "2022-01-13T20:26:00.949Z"
   },
   {
    "duration": 7,
    "start_time": "2022-01-13T20:26:00.974Z"
   },
   {
    "duration": 36,
    "start_time": "2022-01-13T20:26:00.982Z"
   },
   {
    "duration": 4,
    "start_time": "2022-01-13T20:26:01.019Z"
   },
   {
    "duration": 245,
    "start_time": "2022-01-13T20:26:01.024Z"
   },
   {
    "duration": 579,
    "start_time": "2022-01-13T20:26:01.270Z"
   },
   {
    "duration": 422,
    "start_time": "2022-01-13T20:26:01.851Z"
   },
   {
    "duration": 397,
    "start_time": "2022-01-13T20:26:02.275Z"
   },
   {
    "duration": 414,
    "start_time": "2022-01-13T20:26:02.674Z"
   },
   {
    "duration": 692,
    "start_time": "2022-01-13T20:26:03.089Z"
   },
   {
    "duration": 30,
    "start_time": "2022-01-13T20:26:03.782Z"
   },
   {
    "duration": 2,
    "start_time": "2022-01-13T20:26:03.814Z"
   },
   {
    "duration": 6,
    "start_time": "2022-01-13T20:26:03.817Z"
   },
   {
    "duration": 13,
    "start_time": "2022-01-13T20:26:03.824Z"
   },
   {
    "duration": 47,
    "start_time": "2022-01-13T20:26:03.838Z"
   },
   {
    "duration": 26,
    "start_time": "2022-01-13T20:26:03.886Z"
   },
   {
    "duration": 4,
    "start_time": "2022-01-13T20:26:03.913Z"
   },
   {
    "duration": 8,
    "start_time": "2022-01-13T20:26:03.918Z"
   },
   {
    "duration": 10,
    "start_time": "2022-01-13T20:26:03.928Z"
   },
   {
    "duration": 4,
    "start_time": "2022-01-13T20:26:03.939Z"
   },
   {
    "duration": 1049,
    "start_time": "2022-01-13T21:03:38.491Z"
   },
   {
    "duration": 362,
    "start_time": "2022-01-13T21:03:39.541Z"
   },
   {
    "duration": 3,
    "start_time": "2022-01-13T21:03:39.906Z"
   },
   {
    "duration": 19,
    "start_time": "2022-01-13T21:03:39.911Z"
   },
   {
    "duration": 40,
    "start_time": "2022-01-13T21:03:39.932Z"
   },
   {
    "duration": 42,
    "start_time": "2022-01-13T21:03:39.974Z"
   },
   {
    "duration": 39,
    "start_time": "2022-01-13T21:03:40.018Z"
   },
   {
    "duration": 27,
    "start_time": "2022-01-13T21:03:40.059Z"
   },
   {
    "duration": 82,
    "start_time": "2022-01-13T21:03:40.088Z"
   },
   {
    "duration": 63,
    "start_time": "2022-01-13T21:03:40.172Z"
   },
   {
    "duration": 10,
    "start_time": "2022-01-13T21:03:40.236Z"
   },
   {
    "duration": 13,
    "start_time": "2022-01-13T21:03:40.248Z"
   },
   {
    "duration": 80,
    "start_time": "2022-01-13T21:03:40.262Z"
   },
   {
    "duration": 37,
    "start_time": "2022-01-13T21:03:40.343Z"
   },
   {
    "duration": 70,
    "start_time": "2022-01-13T21:03:40.381Z"
   },
   {
    "duration": 21,
    "start_time": "2022-01-13T21:03:40.452Z"
   },
   {
    "duration": 58,
    "start_time": "2022-01-13T21:03:40.475Z"
   },
   {
    "duration": 24,
    "start_time": "2022-01-13T21:03:40.535Z"
   },
   {
    "duration": 10,
    "start_time": "2022-01-13T21:03:40.561Z"
   },
   {
    "duration": 4,
    "start_time": "2022-01-13T21:03:40.572Z"
   },
   {
    "duration": 43,
    "start_time": "2022-01-13T21:03:40.577Z"
   },
   {
    "duration": 16,
    "start_time": "2022-01-13T21:03:40.622Z"
   },
   {
    "duration": 17,
    "start_time": "2022-01-13T21:03:40.640Z"
   },
   {
    "duration": 3,
    "start_time": "2022-01-13T21:03:40.659Z"
   },
   {
    "duration": 48,
    "start_time": "2022-01-13T21:03:40.664Z"
   },
   {
    "duration": 7,
    "start_time": "2022-01-13T21:03:40.714Z"
   },
   {
    "duration": 11,
    "start_time": "2022-01-13T21:03:40.725Z"
   },
   {
    "duration": 4,
    "start_time": "2022-01-13T21:03:40.738Z"
   },
   {
    "duration": 253,
    "start_time": "2022-01-13T21:03:40.744Z"
   },
   {
    "duration": 596,
    "start_time": "2022-01-13T21:03:40.999Z"
   },
   {
    "duration": 442,
    "start_time": "2022-01-13T21:03:41.597Z"
   },
   {
    "duration": 418,
    "start_time": "2022-01-13T21:03:42.040Z"
   },
   {
    "duration": 422,
    "start_time": "2022-01-13T21:03:42.459Z"
   },
   {
    "duration": 709,
    "start_time": "2022-01-13T21:03:42.883Z"
   },
   {
    "duration": 300,
    "start_time": "2022-01-13T21:03:43.593Z"
   },
   {
    "duration": 390,
    "start_time": "2022-01-13T21:03:43.504Z"
   },
   {
    "duration": 389,
    "start_time": "2022-01-13T21:03:43.507Z"
   },
   {
    "duration": 386,
    "start_time": "2022-01-13T21:03:43.511Z"
   },
   {
    "duration": 383,
    "start_time": "2022-01-13T21:03:43.515Z"
   },
   {
    "duration": 377,
    "start_time": "2022-01-13T21:03:43.522Z"
   },
   {
    "duration": 374,
    "start_time": "2022-01-13T21:03:43.526Z"
   },
   {
    "duration": 355,
    "start_time": "2022-01-13T21:03:43.546Z"
   },
   {
    "duration": 350,
    "start_time": "2022-01-13T21:03:43.552Z"
   },
   {
    "duration": 347,
    "start_time": "2022-01-13T21:03:43.556Z"
   },
   {
    "duration": 384,
    "start_time": "2022-01-13T21:04:05.839Z"
   },
   {
    "duration": 32,
    "start_time": "2022-01-13T21:04:52.074Z"
   },
   {
    "duration": 1066,
    "start_time": "2022-01-16T09:02:04.552Z"
   },
   {
    "duration": 403,
    "start_time": "2022-01-16T09:02:05.619Z"
   },
   {
    "duration": 3,
    "start_time": "2022-01-16T09:02:06.024Z"
   },
   {
    "duration": 25,
    "start_time": "2022-01-16T09:02:06.028Z"
   },
   {
    "duration": 49,
    "start_time": "2022-01-16T09:02:06.055Z"
   },
   {
    "duration": 22,
    "start_time": "2022-01-16T09:02:06.106Z"
   },
   {
    "duration": 41,
    "start_time": "2022-01-16T09:02:06.130Z"
   },
   {
    "duration": 40,
    "start_time": "2022-01-16T09:02:06.174Z"
   },
   {
    "duration": 94,
    "start_time": "2022-01-16T09:02:06.216Z"
   },
   {
    "duration": 55,
    "start_time": "2022-01-16T09:02:06.312Z"
   },
   {
    "duration": 29,
    "start_time": "2022-01-16T09:02:06.369Z"
   },
   {
    "duration": 16,
    "start_time": "2022-01-16T09:02:06.399Z"
   },
   {
    "duration": 85,
    "start_time": "2022-01-16T09:02:06.417Z"
   },
   {
    "duration": 39,
    "start_time": "2022-01-16T09:02:06.504Z"
   },
   {
    "duration": 60,
    "start_time": "2022-01-16T09:02:06.544Z"
   },
   {
    "duration": 22,
    "start_time": "2022-01-16T09:02:06.605Z"
   },
   {
    "duration": 70,
    "start_time": "2022-01-16T09:02:06.628Z"
   },
   {
    "duration": 29,
    "start_time": "2022-01-16T09:02:06.700Z"
   },
   {
    "duration": 12,
    "start_time": "2022-01-16T09:02:06.731Z"
   },
   {
    "duration": 4,
    "start_time": "2022-01-16T09:02:06.744Z"
   },
   {
    "duration": 43,
    "start_time": "2022-01-16T09:02:06.750Z"
   },
   {
    "duration": 16,
    "start_time": "2022-01-16T09:02:06.796Z"
   },
   {
    "duration": 20,
    "start_time": "2022-01-16T09:02:06.816Z"
   },
   {
    "duration": 4,
    "start_time": "2022-01-16T09:02:06.838Z"
   },
   {
    "duration": 56,
    "start_time": "2022-01-16T09:02:06.844Z"
   },
   {
    "duration": 8,
    "start_time": "2022-01-16T09:02:06.902Z"
   },
   {
    "duration": 10,
    "start_time": "2022-01-16T09:02:06.912Z"
   },
   {
    "duration": 4,
    "start_time": "2022-01-16T09:02:06.924Z"
   },
   {
    "duration": 266,
    "start_time": "2022-01-16T09:02:06.930Z"
   },
   {
    "duration": 627,
    "start_time": "2022-01-16T09:02:07.198Z"
   },
   {
    "duration": 501,
    "start_time": "2022-01-16T09:02:07.827Z"
   },
   {
    "duration": 461,
    "start_time": "2022-01-16T09:02:08.330Z"
   },
   {
    "duration": 479,
    "start_time": "2022-01-16T09:02:08.793Z"
   },
   {
    "duration": 787,
    "start_time": "2022-01-16T09:02:09.274Z"
   },
   {
    "duration": 46,
    "start_time": "2022-01-16T09:02:10.063Z"
   },
   {
    "duration": 3,
    "start_time": "2022-01-16T09:02:10.111Z"
   },
   {
    "duration": 21,
    "start_time": "2022-01-16T09:02:10.116Z"
   },
   {
    "duration": 37,
    "start_time": "2022-01-16T09:02:10.139Z"
   },
   {
    "duration": 75,
    "start_time": "2022-01-16T09:02:10.178Z"
   },
   {
    "duration": 8,
    "start_time": "2022-01-16T09:02:10.255Z"
   },
   {
    "duration": 15,
    "start_time": "2022-01-16T09:02:10.265Z"
   },
   {
    "duration": 32,
    "start_time": "2022-01-16T09:02:10.281Z"
   },
   {
    "duration": 41,
    "start_time": "2022-01-16T09:02:10.315Z"
   },
   {
    "duration": 20,
    "start_time": "2022-01-16T09:02:10.358Z"
   },
   {
    "duration": 38,
    "start_time": "2022-01-16T09:04:43.735Z"
   },
   {
    "duration": 1366,
    "start_time": "2022-01-16T15:16:52.075Z"
   },
   {
    "duration": 549,
    "start_time": "2022-01-16T15:16:53.444Z"
   },
   {
    "duration": 4,
    "start_time": "2022-01-16T15:16:53.996Z"
   },
   {
    "duration": 31,
    "start_time": "2022-01-16T15:16:54.003Z"
   },
   {
    "duration": 73,
    "start_time": "2022-01-16T15:16:54.037Z"
   },
   {
    "duration": 54,
    "start_time": "2022-01-16T15:16:54.112Z"
   },
   {
    "duration": 60,
    "start_time": "2022-01-16T15:16:54.169Z"
   },
   {
    "duration": 46,
    "start_time": "2022-01-16T15:16:54.259Z"
   },
   {
    "duration": 129,
    "start_time": "2022-01-16T15:16:54.309Z"
   },
   {
    "duration": 85,
    "start_time": "2022-01-16T15:16:54.441Z"
   },
   {
    "duration": 40,
    "start_time": "2022-01-16T15:16:54.529Z"
   },
   {
    "duration": 20,
    "start_time": "2022-01-16T15:16:54.572Z"
   },
   {
    "duration": 115,
    "start_time": "2022-01-16T15:16:54.594Z"
   },
   {
    "duration": 75,
    "start_time": "2022-01-16T15:16:54.711Z"
   },
   {
    "duration": 75,
    "start_time": "2022-01-16T15:16:54.788Z"
   },
   {
    "duration": 31,
    "start_time": "2022-01-16T15:16:54.865Z"
   },
   {
    "duration": 94,
    "start_time": "2022-01-16T15:16:54.898Z"
   },
   {
    "duration": 35,
    "start_time": "2022-01-16T15:16:54.995Z"
   },
   {
    "duration": 32,
    "start_time": "2022-01-16T15:16:55.032Z"
   },
   {
    "duration": 7,
    "start_time": "2022-01-16T15:16:55.067Z"
   },
   {
    "duration": 23,
    "start_time": "2022-01-16T15:16:55.077Z"
   },
   {
    "duration": 63,
    "start_time": "2022-01-16T15:16:55.102Z"
   },
   {
    "duration": 29,
    "start_time": "2022-01-16T15:16:55.170Z"
   },
   {
    "duration": 4,
    "start_time": "2022-01-16T15:16:55.202Z"
   },
   {
    "duration": 59,
    "start_time": "2022-01-16T15:16:55.209Z"
   },
   {
    "duration": 10,
    "start_time": "2022-01-16T15:16:55.270Z"
   },
   {
    "duration": 11,
    "start_time": "2022-01-16T15:16:55.282Z"
   },
   {
    "duration": 5,
    "start_time": "2022-01-16T15:16:55.296Z"
   },
   {
    "duration": 443,
    "start_time": "2022-01-16T15:16:55.303Z"
   },
   {
    "duration": 57,
    "start_time": "2022-01-16T15:16:55.748Z"
   },
   {
    "duration": 1154,
    "start_time": "2022-01-16T15:16:55.808Z"
   },
   {
    "duration": 962,
    "start_time": "2022-01-16T15:16:56.965Z"
   },
   {
    "duration": 758,
    "start_time": "2022-01-16T15:16:57.930Z"
   },
   {
    "duration": 758,
    "start_time": "2022-01-16T15:16:58.690Z"
   },
   {
    "duration": 1181,
    "start_time": "2022-01-16T15:16:59.450Z"
   },
   {
    "duration": 57,
    "start_time": "2022-01-16T15:17:00.634Z"
   },
   {
    "duration": 3,
    "start_time": "2022-01-16T15:17:00.693Z"
   },
   {
    "duration": 21,
    "start_time": "2022-01-16T15:17:00.698Z"
   },
   {
    "duration": 23,
    "start_time": "2022-01-16T15:17:00.721Z"
   },
   {
    "duration": 82,
    "start_time": "2022-01-16T15:17:00.747Z"
   },
   {
    "duration": 27,
    "start_time": "2022-01-16T15:17:00.832Z"
   },
   {
    "duration": 6,
    "start_time": "2022-01-16T15:17:00.862Z"
   },
   {
    "duration": 12,
    "start_time": "2022-01-16T15:17:00.871Z"
   },
   {
    "duration": 36,
    "start_time": "2022-01-16T15:17:00.885Z"
   },
   {
    "duration": 18,
    "start_time": "2022-01-16T15:17:00.924Z"
   },
   {
    "duration": 438,
    "start_time": "2022-01-16T15:18:46.086Z"
   },
   {
    "duration": 1351,
    "start_time": "2022-01-16T15:18:58.683Z"
   },
   {
    "duration": 556,
    "start_time": "2022-01-16T15:19:00.037Z"
   },
   {
    "duration": 551,
    "start_time": "2022-01-16T15:19:00.596Z"
   },
   {
    "duration": -241,
    "start_time": "2022-01-16T15:19:01.393Z"
   },
   {
    "duration": -259,
    "start_time": "2022-01-16T15:19:01.412Z"
   },
   {
    "duration": -262,
    "start_time": "2022-01-16T15:19:01.417Z"
   },
   {
    "duration": -264,
    "start_time": "2022-01-16T15:19:01.421Z"
   },
   {
    "duration": -275,
    "start_time": "2022-01-16T15:19:01.434Z"
   },
   {
    "duration": -277,
    "start_time": "2022-01-16T15:19:01.437Z"
   },
   {
    "duration": -291,
    "start_time": "2022-01-16T15:19:01.452Z"
   },
   {
    "duration": -296,
    "start_time": "2022-01-16T15:19:01.459Z"
   },
   {
    "duration": -306,
    "start_time": "2022-01-16T15:19:01.471Z"
   },
   {
    "duration": -313,
    "start_time": "2022-01-16T15:19:01.480Z"
   },
   {
    "duration": -343,
    "start_time": "2022-01-16T15:19:01.512Z"
   },
   {
    "duration": -373,
    "start_time": "2022-01-16T15:19:01.544Z"
   },
   {
    "duration": -400,
    "start_time": "2022-01-16T15:19:01.572Z"
   },
   {
    "duration": -416,
    "start_time": "2022-01-16T15:19:01.590Z"
   },
   {
    "duration": -435,
    "start_time": "2022-01-16T15:19:01.611Z"
   },
   {
    "duration": -451,
    "start_time": "2022-01-16T15:19:01.629Z"
   },
   {
    "duration": -456,
    "start_time": "2022-01-16T15:19:01.636Z"
   },
   {
    "duration": -462,
    "start_time": "2022-01-16T15:19:01.643Z"
   },
   {
    "duration": -464,
    "start_time": "2022-01-16T15:19:01.647Z"
   },
   {
    "duration": -466,
    "start_time": "2022-01-16T15:19:01.650Z"
   },
   {
    "duration": -468,
    "start_time": "2022-01-16T15:19:01.654Z"
   },
   {
    "duration": -486,
    "start_time": "2022-01-16T15:19:01.674Z"
   },
   {
    "duration": -488,
    "start_time": "2022-01-16T15:19:01.677Z"
   },
   {
    "duration": -490,
    "start_time": "2022-01-16T15:19:01.681Z"
   },
   {
    "duration": -491,
    "start_time": "2022-01-16T15:19:01.684Z"
   },
   {
    "duration": -508,
    "start_time": "2022-01-16T15:19:01.702Z"
   },
   {
    "duration": -511,
    "start_time": "2022-01-16T15:19:01.707Z"
   },
   {
    "duration": -513,
    "start_time": "2022-01-16T15:19:01.710Z"
   },
   {
    "duration": -514,
    "start_time": "2022-01-16T15:19:01.713Z"
   },
   {
    "duration": -457,
    "start_time": "2022-01-16T15:19:01.716Z"
   },
   {
    "duration": -459,
    "start_time": "2022-01-16T15:19:01.720Z"
   },
   {
    "duration": -462,
    "start_time": "2022-01-16T15:19:01.724Z"
   },
   {
    "duration": -487,
    "start_time": "2022-01-16T15:19:01.751Z"
   },
   {
    "duration": -490,
    "start_time": "2022-01-16T15:19:01.756Z"
   },
   {
    "duration": -528,
    "start_time": "2022-01-16T15:19:01.795Z"
   },
   {
    "duration": -596,
    "start_time": "2022-01-16T15:19:01.864Z"
   },
   {
    "duration": -629,
    "start_time": "2022-01-16T15:19:01.898Z"
   },
   {
    "duration": -660,
    "start_time": "2022-01-16T15:19:01.930Z"
   },
   {
    "duration": -693,
    "start_time": "2022-01-16T15:19:01.964Z"
   },
   {
    "duration": -696,
    "start_time": "2022-01-16T15:19:01.968Z"
   },
   {
    "duration": -709,
    "start_time": "2022-01-16T15:19:01.982Z"
   },
   {
    "duration": -711,
    "start_time": "2022-01-16T15:19:01.985Z"
   },
   {
    "duration": 54,
    "start_time": "2022-01-16T15:19:40.976Z"
   },
   {
    "duration": 4,
    "start_time": "2022-01-16T15:20:17.764Z"
   },
   {
    "duration": 2076,
    "start_time": "2022-01-16T15:20:22.404Z"
   },
   {
    "duration": 4,
    "start_time": "2022-01-16T15:20:43.220Z"
   },
   {
    "duration": 40,
    "start_time": "2022-01-16T15:20:46.392Z"
   },
   {
    "duration": 1355,
    "start_time": "2022-01-16T15:20:58.782Z"
   },
   {
    "duration": 546,
    "start_time": "2022-01-16T15:21:00.139Z"
   },
   {
    "duration": 4,
    "start_time": "2022-01-16T15:21:00.688Z"
   },
   {
    "duration": 62,
    "start_time": "2022-01-16T15:21:00.695Z"
   },
   {
    "duration": 70,
    "start_time": "2022-01-16T15:21:00.760Z"
   },
   {
    "duration": 70,
    "start_time": "2022-01-16T15:21:00.833Z"
   },
   {
    "duration": 102,
    "start_time": "2022-01-16T15:21:00.906Z"
   },
   {
    "duration": 82,
    "start_time": "2022-01-16T15:21:01.011Z"
   },
   {
    "duration": 134,
    "start_time": "2022-01-16T15:21:01.097Z"
   },
   {
    "duration": 85,
    "start_time": "2022-01-16T15:21:01.234Z"
   },
   {
    "duration": 12,
    "start_time": "2022-01-16T15:21:01.322Z"
   },
   {
    "duration": 41,
    "start_time": "2022-01-16T15:21:01.337Z"
   },
   {
    "duration": 116,
    "start_time": "2022-01-16T15:21:01.381Z"
   },
   {
    "duration": 72,
    "start_time": "2022-01-16T15:21:01.499Z"
   },
   {
    "duration": 65,
    "start_time": "2022-01-16T15:21:01.573Z"
   },
   {
    "duration": 49,
    "start_time": "2022-01-16T15:21:01.640Z"
   },
   {
    "duration": 93,
    "start_time": "2022-01-16T15:21:01.692Z"
   },
   {
    "duration": 39,
    "start_time": "2022-01-16T15:21:01.787Z"
   },
   {
    "duration": 40,
    "start_time": "2022-01-16T15:21:01.829Z"
   },
   {
    "duration": 6,
    "start_time": "2022-01-16T15:21:01.871Z"
   },
   {
    "duration": 26,
    "start_time": "2022-01-16T15:21:01.879Z"
   },
   {
    "duration": 52,
    "start_time": "2022-01-16T15:21:01.907Z"
   },
   {
    "duration": 30,
    "start_time": "2022-01-16T15:21:01.964Z"
   },
   {
    "duration": 6,
    "start_time": "2022-01-16T15:21:01.996Z"
   },
   {
    "duration": 59,
    "start_time": "2022-01-16T15:21:02.005Z"
   },
   {
    "duration": 9,
    "start_time": "2022-01-16T15:21:02.067Z"
   },
   {
    "duration": 12,
    "start_time": "2022-01-16T15:21:02.078Z"
   },
   {
    "duration": 5,
    "start_time": "2022-01-16T15:21:02.092Z"
   },
   {
    "duration": 437,
    "start_time": "2022-01-16T15:21:02.100Z"
   },
   {
    "duration": 63,
    "start_time": "2022-01-16T15:21:02.539Z"
   },
   {
    "duration": 1041,
    "start_time": "2022-01-16T15:21:02.604Z"
   },
   {
    "duration": 883,
    "start_time": "2022-01-16T15:21:03.648Z"
   },
   {
    "duration": 874,
    "start_time": "2022-01-16T15:21:04.534Z"
   },
   {
    "duration": 767,
    "start_time": "2022-01-16T15:21:05.412Z"
   },
   {
    "duration": 1322,
    "start_time": "2022-01-16T15:21:06.182Z"
   },
   {
    "duration": 63,
    "start_time": "2022-01-16T15:21:07.506Z"
   },
   {
    "duration": 5,
    "start_time": "2022-01-16T15:21:07.572Z"
   },
   {
    "duration": 10,
    "start_time": "2022-01-16T15:21:07.579Z"
   },
   {
    "duration": 17,
    "start_time": "2022-01-16T15:21:07.591Z"
   },
   {
    "duration": 109,
    "start_time": "2022-01-16T15:21:07.610Z"
   },
   {
    "duration": 9,
    "start_time": "2022-01-16T15:21:07.721Z"
   },
   {
    "duration": 30,
    "start_time": "2022-01-16T15:21:07.732Z"
   },
   {
    "duration": 6,
    "start_time": "2022-01-16T15:21:07.764Z"
   },
   {
    "duration": 12,
    "start_time": "2022-01-16T15:21:07.772Z"
   },
   {
    "duration": 6,
    "start_time": "2022-01-16T15:21:07.786Z"
   },
   {
    "duration": 18,
    "start_time": "2022-01-16T15:41:40.463Z"
   },
   {
    "duration": 23,
    "start_time": "2022-01-16T15:42:39.342Z"
   },
   {
    "duration": 7,
    "start_time": "2022-01-16T15:44:01.633Z"
   },
   {
    "duration": 6,
    "start_time": "2022-01-16T15:44:46.797Z"
   },
   {
    "duration": 9,
    "start_time": "2022-01-16T15:46:13.321Z"
   },
   {
    "duration": 11,
    "start_time": "2022-01-16T15:50:42.220Z"
   },
   {
    "duration": 15,
    "start_time": "2022-01-16T15:51:32.472Z"
   },
   {
    "duration": 34,
    "start_time": "2022-01-16T17:53:25.131Z"
   },
   {
    "duration": 35,
    "start_time": "2022-01-16T17:53:51.067Z"
   },
   {
    "duration": 1525,
    "start_time": "2022-01-16T17:56:34.415Z"
   },
   {
    "duration": 562,
    "start_time": "2022-01-16T17:56:35.943Z"
   },
   {
    "duration": 4,
    "start_time": "2022-01-16T17:56:36.509Z"
   },
   {
    "duration": 62,
    "start_time": "2022-01-16T17:56:36.516Z"
   },
   {
    "duration": 107,
    "start_time": "2022-01-16T17:56:36.581Z"
   },
   {
    "duration": 79,
    "start_time": "2022-01-16T17:56:36.690Z"
   },
   {
    "duration": 94,
    "start_time": "2022-01-16T17:56:36.771Z"
   },
   {
    "duration": 87,
    "start_time": "2022-01-16T17:56:36.874Z"
   },
   {
    "duration": 126,
    "start_time": "2022-01-16T17:56:36.964Z"
   },
   {
    "duration": 99,
    "start_time": "2022-01-16T17:56:37.092Z"
   },
   {
    "duration": 13,
    "start_time": "2022-01-16T17:56:37.193Z"
   },
   {
    "duration": 20,
    "start_time": "2022-01-16T17:56:37.208Z"
   },
   {
    "duration": 24,
    "start_time": "2022-01-16T17:56:37.268Z"
   },
   {
    "duration": 123,
    "start_time": "2022-01-16T17:56:37.295Z"
   },
   {
    "duration": 70,
    "start_time": "2022-01-16T17:56:37.420Z"
   },
   {
    "duration": 83,
    "start_time": "2022-01-16T17:56:37.492Z"
   },
   {
    "duration": 35,
    "start_time": "2022-01-16T17:56:37.577Z"
   },
   {
    "duration": 111,
    "start_time": "2022-01-16T17:56:37.615Z"
   },
   {
    "duration": 52,
    "start_time": "2022-01-16T17:56:37.729Z"
   },
   {
    "duration": 19,
    "start_time": "2022-01-16T17:56:37.784Z"
   },
   {
    "duration": 6,
    "start_time": "2022-01-16T17:56:37.806Z"
   },
   {
    "duration": 70,
    "start_time": "2022-01-16T17:56:37.814Z"
   },
   {
    "duration": 22,
    "start_time": "2022-01-16T17:56:37.889Z"
   },
   {
    "duration": 56,
    "start_time": "2022-01-16T17:56:37.914Z"
   },
   {
    "duration": 5,
    "start_time": "2022-01-16T17:56:37.976Z"
   },
   {
    "duration": 36,
    "start_time": "2022-01-16T17:56:37.984Z"
   },
   {
    "duration": 41,
    "start_time": "2022-01-16T17:56:38.023Z"
   },
   {
    "duration": 14,
    "start_time": "2022-01-16T17:56:38.066Z"
   },
   {
    "duration": 7,
    "start_time": "2022-01-16T17:56:38.083Z"
   },
   {
    "duration": 499,
    "start_time": "2022-01-16T17:56:38.093Z"
   },
   {
    "duration": 33,
    "start_time": "2022-01-16T17:56:38.594Z"
   },
   {
    "duration": 54,
    "start_time": "2022-01-16T17:56:38.629Z"
   },
   {
    "duration": 1055,
    "start_time": "2022-01-16T17:56:38.686Z"
   },
   {
    "duration": 802,
    "start_time": "2022-01-16T17:56:39.743Z"
   },
   {
    "duration": 763,
    "start_time": "2022-01-16T17:56:40.548Z"
   },
   {
    "duration": 776,
    "start_time": "2022-01-16T17:56:41.314Z"
   },
   {
    "duration": 1393,
    "start_time": "2022-01-16T17:56:42.092Z"
   },
   {
    "duration": 46,
    "start_time": "2022-01-16T17:56:43.487Z"
   },
   {
    "duration": 25,
    "start_time": "2022-01-16T17:56:43.536Z"
   },
   {
    "duration": 17,
    "start_time": "2022-01-16T17:56:43.568Z"
   },
   {
    "duration": 20,
    "start_time": "2022-01-16T17:56:43.587Z"
   },
   {
    "duration": 98,
    "start_time": "2022-01-16T17:56:43.610Z"
   },
   {
    "duration": 12,
    "start_time": "2022-01-16T17:56:43.711Z"
   },
   {
    "duration": 39,
    "start_time": "2022-01-16T17:56:43.726Z"
   },
   {
    "duration": 9,
    "start_time": "2022-01-16T17:56:43.768Z"
   },
   {
    "duration": 14,
    "start_time": "2022-01-16T17:56:43.779Z"
   },
   {
    "duration": 8,
    "start_time": "2022-01-16T17:56:43.796Z"
   },
   {
    "duration": 8846,
    "start_time": "2022-01-16T18:00:07.203Z"
   },
   {
    "duration": 9520,
    "start_time": "2022-01-16T18:00:36.394Z"
   },
   {
    "duration": 1332,
    "start_time": "2022-01-16T18:00:52.799Z"
   },
   {
    "duration": 549,
    "start_time": "2022-01-16T18:00:54.133Z"
   },
   {
    "duration": 4,
    "start_time": "2022-01-16T18:00:54.686Z"
   },
   {
    "duration": 67,
    "start_time": "2022-01-16T18:00:54.692Z"
   },
   {
    "duration": 99,
    "start_time": "2022-01-16T18:00:54.762Z"
   },
   {
    "duration": 52,
    "start_time": "2022-01-16T18:00:54.865Z"
   },
   {
    "duration": 154,
    "start_time": "2022-01-16T18:00:54.920Z"
   },
   {
    "duration": 94,
    "start_time": "2022-01-16T18:00:55.079Z"
   },
   {
    "duration": 141,
    "start_time": "2022-01-16T18:00:55.177Z"
   },
   {
    "duration": 90,
    "start_time": "2022-01-16T18:00:55.320Z"
   },
   {
    "duration": 13,
    "start_time": "2022-01-16T18:00:55.412Z"
   },
   {
    "duration": 51,
    "start_time": "2022-01-16T18:00:55.428Z"
   },
   {
    "duration": 26,
    "start_time": "2022-01-16T18:00:55.481Z"
   },
   {
    "duration": 114,
    "start_time": "2022-01-16T18:00:55.558Z"
   },
   {
    "duration": 46,
    "start_time": "2022-01-16T18:00:55.675Z"
   },
   {
    "duration": 91,
    "start_time": "2022-01-16T18:00:55.723Z"
   },
   {
    "duration": 61,
    "start_time": "2022-01-16T18:00:55.817Z"
   },
   {
    "duration": 86,
    "start_time": "2022-01-16T18:00:55.880Z"
   },
   {
    "duration": 36,
    "start_time": "2022-01-16T18:00:55.968Z"
   },
   {
    "duration": 20,
    "start_time": "2022-01-16T18:00:56.006Z"
   },
   {
    "duration": 9,
    "start_time": "2022-01-16T18:00:56.060Z"
   },
   {
    "duration": 28,
    "start_time": "2022-01-16T18:00:56.072Z"
   },
   {
    "duration": 68,
    "start_time": "2022-01-16T18:00:56.108Z"
   },
   {
    "duration": 34,
    "start_time": "2022-01-16T18:00:56.180Z"
   },
   {
    "duration": 6,
    "start_time": "2022-01-16T18:00:56.217Z"
   },
   {
    "duration": 63,
    "start_time": "2022-01-16T18:00:56.226Z"
   },
   {
    "duration": 15,
    "start_time": "2022-01-16T18:00:56.292Z"
   },
   {
    "duration": 57,
    "start_time": "2022-01-16T18:00:56.309Z"
   },
   {
    "duration": 6,
    "start_time": "2022-01-16T18:00:56.368Z"
   },
   {
    "duration": 434,
    "start_time": "2022-01-16T18:00:56.377Z"
   },
   {
    "duration": 52,
    "start_time": "2022-01-16T18:00:56.814Z"
   },
   {
    "duration": 32,
    "start_time": "2022-01-16T18:00:56.869Z"
   },
   {
    "duration": 1424,
    "start_time": "2022-01-16T18:00:56.904Z"
   },
   {
    "duration": 783,
    "start_time": "2022-01-16T18:00:58.331Z"
   },
   {
    "duration": 1077,
    "start_time": "2022-01-16T18:00:59.117Z"
   },
   {
    "duration": 763,
    "start_time": "2022-01-16T18:01:00.196Z"
   },
   {
    "duration": 1246,
    "start_time": "2022-01-16T18:01:00.961Z"
   },
   {
    "duration": 64,
    "start_time": "2022-01-16T18:01:02.210Z"
   },
   {
    "duration": 3,
    "start_time": "2022-01-16T18:01:02.277Z"
   },
   {
    "duration": 7,
    "start_time": "2022-01-16T18:01:02.283Z"
   },
   {
    "duration": 19,
    "start_time": "2022-01-16T18:01:02.292Z"
   },
   {
    "duration": 91,
    "start_time": "2022-01-16T18:01:02.314Z"
   },
   {
    "duration": 10,
    "start_time": "2022-01-16T18:01:02.408Z"
   },
   {
    "duration": 41,
    "start_time": "2022-01-16T18:01:02.422Z"
   },
   {
    "duration": 11,
    "start_time": "2022-01-16T18:01:02.466Z"
   },
   {
    "duration": 15,
    "start_time": "2022-01-16T18:01:02.480Z"
   },
   {
    "duration": 9,
    "start_time": "2022-01-16T18:01:02.498Z"
   },
   {
    "duration": 27,
    "start_time": "2022-01-16T18:01:29.767Z"
   },
   {
    "duration": 116,
    "start_time": "2022-01-16T18:04:44.856Z"
   }
  ],
  "kernelspec": {
   "display_name": "Python 3 (ipykernel)",
   "language": "python",
   "name": "python3"
  },
  "language_info": {
   "codemirror_mode": {
    "name": "ipython",
    "version": 3
   },
   "file_extension": ".py",
   "mimetype": "text/x-python",
   "name": "python",
   "nbconvert_exporter": "python",
   "pygments_lexer": "ipython3",
   "version": "3.10.9"
  },
  "toc": {
   "base_numbering": 1,
   "nav_menu": {},
   "number_sections": true,
   "sideBar": true,
   "skip_h1_title": true,
   "title_cell": "Table of Contents",
   "title_sidebar": "Contents",
   "toc_cell": false,
   "toc_position": {
    "height": "calc(100% - 180px)",
    "left": "10px",
    "top": "150px",
    "width": "286.225px"
   },
   "toc_section_display": true,
   "toc_window_display": true
  }
 },
 "nbformat": 4,
 "nbformat_minor": 2
}
