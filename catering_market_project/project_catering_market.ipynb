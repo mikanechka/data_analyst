{
 "cells": [
  {
   "cell_type": "markdown",
   "metadata": {},
   "source": [
    "# Исследования рынка общепита в Москве для принятия решения об открытии нового заведения\n",
    "\n",
    "Заказчик решил открыть небольшое кафе в Москве. Оно оригинальное — гостей должны обслуживать роботы. Проект многообещающий, но дорогой. Вместе с партнёрами заказчик решил обратиться к инвесторам. Их интересует текущее положение дел на рынке.\n",
    "\n",
    "**Цель исследования** - анализ рынка общепита в Москве для принятия решения об открытии нового заведения.\n",
    "\n",
    "У нас в распоряжении есть открытые данные о заведениях общественного питания в Москве."
   ]
  },
  {
   "cell_type": "markdown",
   "metadata": {},
   "source": [
    "**Описание данных**\n",
    "\n",
    "Таблица rest_data:\n",
    "\n",
    "- id — идентификатор объекта;\n",
    "- object_name — название объекта общественного питания;\n",
    "- chain — сетевой ресторан;\n",
    "- object_type — тип объекта общественного питания;\n",
    "- address — адрес;\n",
    "- number — количество посадочных мест."
   ]
  },
  {
   "cell_type": "markdown",
   "metadata": {},
   "source": [
    "## Изучение общей информации о данных"
   ]
  },
  {
   "cell_type": "markdown",
   "metadata": {},
   "source": [
    "Загрузим данные о заведениях общественного питания Москвы и изучим общую информацию. "
   ]
  },
  {
   "cell_type": "code",
   "execution_count": 1,
   "metadata": {},
   "outputs": [],
   "source": [
    "#импортируем необходимые в рамках анализа библиотеки\n",
    "import pandas as pd\n",
    "import matplotlib.pyplot as plt\n",
    "import seaborn as sns\n",
    "from io import BytesIO\n",
    "import requests\n",
    "import warnings\n",
    "warnings.filterwarnings('ignore')"
   ]
  },
  {
   "cell_type": "code",
   "execution_count": 2,
   "metadata": {},
   "outputs": [],
   "source": [
    "#откроем файл с данными\n",
    "df = pd.read_csv('')"
   ]
  },
  {
   "cell_type": "code",
   "execution_count": 3,
   "metadata": {
    "scrolled": false
   },
   "outputs": [
    {
     "data": {
      "text/plain": [
       "Index(['id', 'object_name', 'chain', 'object_type', 'address', 'number'], dtype='object')"
      ]
     },
     "metadata": {},
     "output_type": "display_data"
    },
    {
     "data": {
      "text/html": [
       "<div>\n",
       "<style scoped>\n",
       "    .dataframe tbody tr th:only-of-type {\n",
       "        vertical-align: middle;\n",
       "    }\n",
       "\n",
       "    .dataframe tbody tr th {\n",
       "        vertical-align: top;\n",
       "    }\n",
       "\n",
       "    .dataframe thead th {\n",
       "        text-align: right;\n",
       "    }\n",
       "</style>\n",
       "<table border=\"1\" class=\"dataframe\">\n",
       "  <thead>\n",
       "    <tr style=\"text-align: right;\">\n",
       "      <th></th>\n",
       "      <th>id</th>\n",
       "      <th>object_name</th>\n",
       "      <th>chain</th>\n",
       "      <th>object_type</th>\n",
       "      <th>address</th>\n",
       "      <th>number</th>\n",
       "    </tr>\n",
       "  </thead>\n",
       "  <tbody>\n",
       "    <tr>\n",
       "      <th>0</th>\n",
       "      <td>151635</td>\n",
       "      <td>СМЕТАНА</td>\n",
       "      <td>нет</td>\n",
       "      <td>кафе</td>\n",
       "      <td>город Москва, улица Егора Абакумова, дом 9</td>\n",
       "      <td>48</td>\n",
       "    </tr>\n",
       "    <tr>\n",
       "      <th>1</th>\n",
       "      <td>77874</td>\n",
       "      <td>Родник</td>\n",
       "      <td>нет</td>\n",
       "      <td>кафе</td>\n",
       "      <td>город Москва, улица Талалихина, дом 2/1, корпус 1</td>\n",
       "      <td>35</td>\n",
       "    </tr>\n",
       "    <tr>\n",
       "      <th>2</th>\n",
       "      <td>24309</td>\n",
       "      <td>Кафе «Академия»</td>\n",
       "      <td>нет</td>\n",
       "      <td>кафе</td>\n",
       "      <td>город Москва, Абельмановская улица, дом 6</td>\n",
       "      <td>95</td>\n",
       "    </tr>\n",
       "    <tr>\n",
       "      <th>3</th>\n",
       "      <td>21894</td>\n",
       "      <td>ПИЦЦЕТОРИЯ</td>\n",
       "      <td>да</td>\n",
       "      <td>кафе</td>\n",
       "      <td>город Москва, Абрамцевская улица, дом 1</td>\n",
       "      <td>40</td>\n",
       "    </tr>\n",
       "    <tr>\n",
       "      <th>4</th>\n",
       "      <td>119365</td>\n",
       "      <td>Кафе «Вишневая метель»</td>\n",
       "      <td>нет</td>\n",
       "      <td>кафе</td>\n",
       "      <td>город Москва, Абрамцевская улица, дом 9, корпус 1</td>\n",
       "      <td>50</td>\n",
       "    </tr>\n",
       "  </tbody>\n",
       "</table>\n",
       "</div>"
      ],
      "text/plain": [
       "       id             object_name chain object_type  \\\n",
       "0  151635                 СМЕТАНА   нет        кафе   \n",
       "1   77874                  Родник   нет        кафе   \n",
       "2   24309         Кафе «Академия»   нет        кафе   \n",
       "3   21894              ПИЦЦЕТОРИЯ    да        кафе   \n",
       "4  119365  Кафе «Вишневая метель»   нет        кафе   \n",
       "\n",
       "                                             address  number  \n",
       "0         город Москва, улица Егора Абакумова, дом 9      48  \n",
       "1  город Москва, улица Талалихина, дом 2/1, корпус 1      35  \n",
       "2          город Москва, Абельмановская улица, дом 6      95  \n",
       "3            город Москва, Абрамцевская улица, дом 1      40  \n",
       "4  город Москва, Абрамцевская улица, дом 9, корпус 1      50  "
      ]
     },
     "metadata": {},
     "output_type": "display_data"
    },
    {
     "data": {
      "text/html": [
       "<div>\n",
       "<style scoped>\n",
       "    .dataframe tbody tr th:only-of-type {\n",
       "        vertical-align: middle;\n",
       "    }\n",
       "\n",
       "    .dataframe tbody tr th {\n",
       "        vertical-align: top;\n",
       "    }\n",
       "\n",
       "    .dataframe thead th {\n",
       "        text-align: right;\n",
       "    }\n",
       "</style>\n",
       "<table border=\"1\" class=\"dataframe\">\n",
       "  <thead>\n",
       "    <tr style=\"text-align: right;\">\n",
       "      <th></th>\n",
       "      <th>id</th>\n",
       "      <th>number</th>\n",
       "    </tr>\n",
       "  </thead>\n",
       "  <tbody>\n",
       "    <tr>\n",
       "      <th>count</th>\n",
       "      <td>15366.000000</td>\n",
       "      <td>15366.000000</td>\n",
       "    </tr>\n",
       "    <tr>\n",
       "      <th>mean</th>\n",
       "      <td>119720.066901</td>\n",
       "      <td>59.547182</td>\n",
       "    </tr>\n",
       "    <tr>\n",
       "      <th>std</th>\n",
       "      <td>73036.130732</td>\n",
       "      <td>74.736833</td>\n",
       "    </tr>\n",
       "    <tr>\n",
       "      <th>min</th>\n",
       "      <td>838.000000</td>\n",
       "      <td>0.000000</td>\n",
       "    </tr>\n",
       "    <tr>\n",
       "      <th>25%</th>\n",
       "      <td>28524.000000</td>\n",
       "      <td>12.000000</td>\n",
       "    </tr>\n",
       "    <tr>\n",
       "      <th>50%</th>\n",
       "      <td>144974.500000</td>\n",
       "      <td>40.000000</td>\n",
       "    </tr>\n",
       "    <tr>\n",
       "      <th>75%</th>\n",
       "      <td>184262.250000</td>\n",
       "      <td>80.000000</td>\n",
       "    </tr>\n",
       "    <tr>\n",
       "      <th>max</th>\n",
       "      <td>223439.000000</td>\n",
       "      <td>1700.000000</td>\n",
       "    </tr>\n",
       "  </tbody>\n",
       "</table>\n",
       "</div>"
      ],
      "text/plain": [
       "                  id        number\n",
       "count   15366.000000  15366.000000\n",
       "mean   119720.066901     59.547182\n",
       "std     73036.130732     74.736833\n",
       "min       838.000000      0.000000\n",
       "25%     28524.000000     12.000000\n",
       "50%    144974.500000     40.000000\n",
       "75%    184262.250000     80.000000\n",
       "max    223439.000000   1700.000000"
      ]
     },
     "metadata": {},
     "output_type": "display_data"
    },
    {
     "name": "stdout",
     "output_type": "stream",
     "text": [
      "**************************************************\n",
      "<class 'pandas.core.frame.DataFrame'>\n",
      "RangeIndex: 15366 entries, 0 to 15365\n",
      "Data columns (total 6 columns):\n",
      " #   Column       Non-Null Count  Dtype \n",
      "---  ------       --------------  ----- \n",
      " 0   id           15366 non-null  int64 \n",
      " 1   object_name  15366 non-null  object\n",
      " 2   chain        15366 non-null  object\n",
      " 3   object_type  15366 non-null  object\n",
      " 4   address      15366 non-null  object\n",
      " 5   number       15366 non-null  int64 \n",
      "dtypes: int64(2), object(4)\n",
      "memory usage: 720.4+ KB\n"
     ]
    }
   ],
   "source": [
    "#изучим общую информацию\n",
    "display(df.columns, df.head(), df.describe())\n",
    "print('*' * 50)\n",
    "df.info()"
   ]
  },
  {
   "cell_type": "code",
   "execution_count": 4,
   "metadata": {},
   "outputs": [
    {
     "name": "stdout",
     "output_type": "stream",
     "text": [
      "['нет' 'да']\n",
      "['кафе' 'столовая' 'закусочная' 'предприятие быстрого обслуживания'\n",
      " 'ресторан' 'кафетерий' 'буфет' 'бар' 'магазин (отдел кулинарии)']\n"
     ]
    }
   ],
   "source": [
    "#проверим, нет ли необычных значений\n",
    "for column in ['chain', 'object_type']:\n",
    "    print(df[column].unique())"
   ]
  },
  {
   "cell_type": "code",
   "execution_count": 5,
   "metadata": {},
   "outputs": [
    {
     "data": {
      "text/plain": [
       "0"
      ]
     },
     "execution_count": 5,
     "metadata": {},
     "output_type": "execute_result"
    }
   ],
   "source": [
    "#проверка на наличие дубликатов\n",
    "df.duplicated().sum()"
   ]
  },
  {
   "cell_type": "markdown",
   "metadata": {},
   "source": [
    "В результате ознакомления с данными, можно сделать следующие выводы:\n",
    "\n",
    "- Для каждой колонки выбран соответствубщий тип данных;\n",
    "- В данных отсутствуют пропущенные значения;\n",
    "- В датасете отсутствуют явные дубликаты.\n",
    "\n",
    "Однако, столбец с названием заведений содержит информацию с разными регистрами, на разных языках и с дополнительным указанием категории заведения в некоторых случаях. Это может стать причиной для появления неявных дубликатов."
   ]
  },
  {
   "cell_type": "code",
   "execution_count": 6,
   "metadata": {},
   "outputs": [
    {
     "data": {
      "text/html": [
       "<div>\n",
       "<style scoped>\n",
       "    .dataframe tbody tr th:only-of-type {\n",
       "        vertical-align: middle;\n",
       "    }\n",
       "\n",
       "    .dataframe tbody tr th {\n",
       "        vertical-align: top;\n",
       "    }\n",
       "\n",
       "    .dataframe thead th {\n",
       "        text-align: right;\n",
       "    }\n",
       "</style>\n",
       "<table border=\"1\" class=\"dataframe\">\n",
       "  <thead>\n",
       "    <tr style=\"text-align: right;\">\n",
       "      <th></th>\n",
       "      <th>id</th>\n",
       "      <th>object_name</th>\n",
       "      <th>chain</th>\n",
       "      <th>object_type</th>\n",
       "      <th>address</th>\n",
       "      <th>number</th>\n",
       "      <th>object_name_new</th>\n",
       "    </tr>\n",
       "  </thead>\n",
       "  <tbody>\n",
       "    <tr>\n",
       "      <th>0</th>\n",
       "      <td>151635</td>\n",
       "      <td>СМЕТАНА</td>\n",
       "      <td>нет</td>\n",
       "      <td>кафе</td>\n",
       "      <td>город Москва, улица Егора Абакумова, дом 9</td>\n",
       "      <td>48</td>\n",
       "      <td>сметана</td>\n",
       "    </tr>\n",
       "    <tr>\n",
       "      <th>1</th>\n",
       "      <td>77874</td>\n",
       "      <td>Родник</td>\n",
       "      <td>нет</td>\n",
       "      <td>кафе</td>\n",
       "      <td>город Москва, улица Талалихина, дом 2/1, корпус 1</td>\n",
       "      <td>35</td>\n",
       "      <td>родник</td>\n",
       "    </tr>\n",
       "    <tr>\n",
       "      <th>2</th>\n",
       "      <td>24309</td>\n",
       "      <td>Кафе «Академия»</td>\n",
       "      <td>нет</td>\n",
       "      <td>кафе</td>\n",
       "      <td>город Москва, Абельмановская улица, дом 6</td>\n",
       "      <td>95</td>\n",
       "      <td>«академия»</td>\n",
       "    </tr>\n",
       "    <tr>\n",
       "      <th>3</th>\n",
       "      <td>21894</td>\n",
       "      <td>ПИЦЦЕТОРИЯ</td>\n",
       "      <td>да</td>\n",
       "      <td>кафе</td>\n",
       "      <td>город Москва, Абрамцевская улица, дом 1</td>\n",
       "      <td>40</td>\n",
       "      <td>пиццетория</td>\n",
       "    </tr>\n",
       "    <tr>\n",
       "      <th>4</th>\n",
       "      <td>119365</td>\n",
       "      <td>Кафе «Вишневая метель»</td>\n",
       "      <td>нет</td>\n",
       "      <td>кафе</td>\n",
       "      <td>город Москва, Абрамцевская улица, дом 9, корпус 1</td>\n",
       "      <td>50</td>\n",
       "      <td>«вишневая метель»</td>\n",
       "    </tr>\n",
       "  </tbody>\n",
       "</table>\n",
       "</div>"
      ],
      "text/plain": [
       "       id             object_name chain object_type  \\\n",
       "0  151635                 СМЕТАНА   нет        кафе   \n",
       "1   77874                  Родник   нет        кафе   \n",
       "2   24309         Кафе «Академия»   нет        кафе   \n",
       "3   21894              ПИЦЦЕТОРИЯ    да        кафе   \n",
       "4  119365  Кафе «Вишневая метель»   нет        кафе   \n",
       "\n",
       "                                             address  number  \\\n",
       "0         город Москва, улица Егора Абакумова, дом 9      48   \n",
       "1  город Москва, улица Талалихина, дом 2/1, корпус 1      35   \n",
       "2          город Москва, Абельмановская улица, дом 6      95   \n",
       "3            город Москва, Абрамцевская улица, дом 1      40   \n",
       "4  город Москва, Абрамцевская улица, дом 9, корпус 1      50   \n",
       "\n",
       "      object_name_new  \n",
       "0             сметана  \n",
       "1              родник  \n",
       "2          «академия»  \n",
       "3          пиццетория  \n",
       "4   «вишневая метель»  "
      ]
     },
     "execution_count": 6,
     "metadata": {},
     "output_type": "execute_result"
    }
   ],
   "source": [
    "#избавимся от разных регистров, а также очистим названия от вида заведения\n",
    "df['object_name_new'] = df['object_name'].str.lower()\\\n",
    "                                    .str.replace('кафе|ресторан|столовая|закусочная|кафетерий|буфет|бар|магазин', '')\n",
    "df.head()"
   ]
  },
  {
   "cell_type": "markdown",
   "metadata": {},
   "source": [
    "Таким образом, мы получили очищенный датасет. Можем приступать к анализу данных."
   ]
  },
  {
   "cell_type": "code",
   "execution_count": 7,
   "metadata": {},
   "outputs": [
    {
     "data": {
      "text/html": [
       "<div>\n",
       "<style scoped>\n",
       "    .dataframe tbody tr th:only-of-type {\n",
       "        vertical-align: middle;\n",
       "    }\n",
       "\n",
       "    .dataframe tbody tr th {\n",
       "        vertical-align: top;\n",
       "    }\n",
       "\n",
       "    .dataframe thead th {\n",
       "        text-align: right;\n",
       "    }\n",
       "</style>\n",
       "<table border=\"1\" class=\"dataframe\">\n",
       "  <thead>\n",
       "    <tr style=\"text-align: right;\">\n",
       "      <th></th>\n",
       "      <th>object_name</th>\n",
       "      <th>chain</th>\n",
       "      <th>object_type</th>\n",
       "      <th>address</th>\n",
       "      <th>number</th>\n",
       "    </tr>\n",
       "  </thead>\n",
       "  <tbody>\n",
       "    <tr>\n",
       "      <th>137</th>\n",
       "      <td>Пекарня &amp; Донер</td>\n",
       "      <td>нет</td>\n",
       "      <td>закусочная</td>\n",
       "      <td>город Москва, Бутырская улица, дом 9, корпус 2</td>\n",
       "      <td>0</td>\n",
       "    </tr>\n",
       "    <tr>\n",
       "      <th>154</th>\n",
       "      <td>Шаурма в пите</td>\n",
       "      <td>нет</td>\n",
       "      <td>предприятие быстрого обслуживания</td>\n",
       "      <td>город Москва, Варшавское шоссе, дом 72, корпус 2</td>\n",
       "      <td>0</td>\n",
       "    </tr>\n",
       "    <tr>\n",
       "      <th>157</th>\n",
       "      <td>Суши</td>\n",
       "      <td>нет</td>\n",
       "      <td>предприятие быстрого обслуживания</td>\n",
       "      <td>город Москва, улица Маршала Василевского, дом ...</td>\n",
       "      <td>0</td>\n",
       "    </tr>\n",
       "    <tr>\n",
       "      <th>190</th>\n",
       "      <td>Шаурма, куры-гриль</td>\n",
       "      <td>нет</td>\n",
       "      <td>предприятие быстрого обслуживания</td>\n",
       "      <td>город Москва, 1-я Владимирская улица, дом 21</td>\n",
       "      <td>0</td>\n",
       "    </tr>\n",
       "    <tr>\n",
       "      <th>195</th>\n",
       "      <td>Шаурма, куры-гриль</td>\n",
       "      <td>нет</td>\n",
       "      <td>предприятие быстрого обслуживания</td>\n",
       "      <td>город Москва, 2-я Владимирская улица, дом 44/10</td>\n",
       "      <td>0</td>\n",
       "    </tr>\n",
       "    <tr>\n",
       "      <th>...</th>\n",
       "      <td>...</td>\n",
       "      <td>...</td>\n",
       "      <td>...</td>\n",
       "      <td>...</td>\n",
       "      <td>...</td>\n",
       "    </tr>\n",
       "    <tr>\n",
       "      <th>15334</th>\n",
       "      <td>МИЛТИ</td>\n",
       "      <td>да</td>\n",
       "      <td>магазин (отдел кулинарии)</td>\n",
       "      <td>город Москва, Дубравная улица, дом 34/29</td>\n",
       "      <td>0</td>\n",
       "    </tr>\n",
       "    <tr>\n",
       "      <th>15335</th>\n",
       "      <td>МИЛТИ</td>\n",
       "      <td>да</td>\n",
       "      <td>магазин (отдел кулинарии)</td>\n",
       "      <td>город Москва, Пятницкое шоссе, дом 3</td>\n",
       "      <td>0</td>\n",
       "    </tr>\n",
       "    <tr>\n",
       "      <th>15336</th>\n",
       "      <td>Готовые блюда Милти</td>\n",
       "      <td>да</td>\n",
       "      <td>предприятие быстрого обслуживания</td>\n",
       "      <td>город Москва, Ореховый бульвар, дом 22А</td>\n",
       "      <td>0</td>\n",
       "    </tr>\n",
       "    <tr>\n",
       "      <th>15337</th>\n",
       "      <td>Милти</td>\n",
       "      <td>да</td>\n",
       "      <td>предприятие быстрого обслуживания</td>\n",
       "      <td>город Москва, 3-й Крутицкий переулок, дом 18</td>\n",
       "      <td>0</td>\n",
       "    </tr>\n",
       "    <tr>\n",
       "      <th>15338</th>\n",
       "      <td>Милти</td>\n",
       "      <td>да</td>\n",
       "      <td>магазин (отдел кулинарии)</td>\n",
       "      <td>город Москва, Новослободская улица, дом 4</td>\n",
       "      <td>0</td>\n",
       "    </tr>\n",
       "  </tbody>\n",
       "</table>\n",
       "<p>1621 rows × 5 columns</p>\n",
       "</div>"
      ],
      "text/plain": [
       "               object_name chain                        object_type  \\\n",
       "137        Пекарня & Донер   нет                         закусочная   \n",
       "154          Шаурма в пите   нет  предприятие быстрого обслуживания   \n",
       "157                   Суши   нет  предприятие быстрого обслуживания   \n",
       "190     Шаурма, куры-гриль   нет  предприятие быстрого обслуживания   \n",
       "195     Шаурма, куры-гриль   нет  предприятие быстрого обслуживания   \n",
       "...                    ...   ...                                ...   \n",
       "15334                МИЛТИ    да          магазин (отдел кулинарии)   \n",
       "15335                МИЛТИ    да          магазин (отдел кулинарии)   \n",
       "15336  Готовые блюда Милти    да  предприятие быстрого обслуживания   \n",
       "15337                Милти    да  предприятие быстрого обслуживания   \n",
       "15338                Милти    да          магазин (отдел кулинарии)   \n",
       "\n",
       "                                                 address  number  \n",
       "137       город Москва, Бутырская улица, дом 9, корпус 2       0  \n",
       "154     город Москва, Варшавское шоссе, дом 72, корпус 2       0  \n",
       "157    город Москва, улица Маршала Василевского, дом ...       0  \n",
       "190         город Москва, 1-я Владимирская улица, дом 21       0  \n",
       "195      город Москва, 2-я Владимирская улица, дом 44/10       0  \n",
       "...                                                  ...     ...  \n",
       "15334           город Москва, Дубравная улица, дом 34/29       0  \n",
       "15335               город Москва, Пятницкое шоссе, дом 3       0  \n",
       "15336            город Москва, Ореховый бульвар, дом 22А       0  \n",
       "15337       город Москва, 3-й Крутицкий переулок, дом 18       0  \n",
       "15338          город Москва, Новослободская улица, дом 4       0  \n",
       "\n",
       "[1621 rows x 5 columns]"
      ]
     },
     "metadata": {},
     "output_type": "display_data"
    },
    {
     "name": "stdout",
     "output_type": "stream",
     "text": [
      "82\n"
     ]
    },
    {
     "data": {
      "text/html": [
       "<div>\n",
       "<style scoped>\n",
       "    .dataframe tbody tr th:only-of-type {\n",
       "        vertical-align: middle;\n",
       "    }\n",
       "\n",
       "    .dataframe tbody tr th {\n",
       "        vertical-align: top;\n",
       "    }\n",
       "\n",
       "    .dataframe thead th {\n",
       "        text-align: right;\n",
       "    }\n",
       "</style>\n",
       "<table border=\"1\" class=\"dataframe\">\n",
       "  <thead>\n",
       "    <tr style=\"text-align: right;\">\n",
       "      <th></th>\n",
       "      <th>object_name</th>\n",
       "      <th>chain</th>\n",
       "      <th>object_type</th>\n",
       "      <th>address</th>\n",
       "      <th>number</th>\n",
       "    </tr>\n",
       "  </thead>\n",
       "  <tbody>\n",
       "    <tr>\n",
       "      <th>13858</th>\n",
       "      <td>LALTRO BOSCO</td>\n",
       "      <td>нет</td>\n",
       "      <td>ресторан</td>\n",
       "      <td>город Москва, улица Петровка, дом 10</td>\n",
       "      <td>145</td>\n",
       "    </tr>\n",
       "    <tr>\n",
       "      <th>5059</th>\n",
       "      <td>LIFT</td>\n",
       "      <td>нет</td>\n",
       "      <td>кафе</td>\n",
       "      <td>город Москва, Багратионовский проезд, дом 7, к...</td>\n",
       "      <td>20</td>\n",
       "    </tr>\n",
       "    <tr>\n",
       "      <th>5069</th>\n",
       "      <td>LIFT</td>\n",
       "      <td>нет</td>\n",
       "      <td>кафе</td>\n",
       "      <td>город Москва, Багратионовский проезд, дом 7, к...</td>\n",
       "      <td>10</td>\n",
       "    </tr>\n",
       "    <tr>\n",
       "      <th>14844</th>\n",
       "      <td>Sushi-Make</td>\n",
       "      <td>нет</td>\n",
       "      <td>предприятие быстрого обслуживания</td>\n",
       "      <td>город Москва, Ярцевская улица, дом 19</td>\n",
       "      <td>0</td>\n",
       "    </tr>\n",
       "    <tr>\n",
       "      <th>5762</th>\n",
       "      <td>Алекс</td>\n",
       "      <td>нет</td>\n",
       "      <td>кафе</td>\n",
       "      <td>город Москва, Тихорецкий бульвар, владение 1, ...</td>\n",
       "      <td>45</td>\n",
       "    </tr>\n",
       "  </tbody>\n",
       "</table>\n",
       "</div>"
      ],
      "text/plain": [
       "        object_name chain                        object_type  \\\n",
       "13858  LALTRO BOSCO   нет                           ресторан   \n",
       "5059           LIFT   нет                               кафе   \n",
       "5069           LIFT   нет                               кафе   \n",
       "14844    Sushi-Make   нет  предприятие быстрого обслуживания   \n",
       "5762          Алекс   нет                               кафе   \n",
       "\n",
       "                                                 address  number  \n",
       "13858               город Москва, улица Петровка, дом 10     145  \n",
       "5059   город Москва, Багратионовский проезд, дом 7, к...      20  \n",
       "5069   город Москва, Багратионовский проезд, дом 7, к...      10  \n",
       "14844              город Москва, Ярцевская улица, дом 19       0  \n",
       "5762   город Москва, Тихорецкий бульвар, владение 1, ...      45  "
      ]
     },
     "execution_count": 7,
     "metadata": {},
     "output_type": "execute_result"
    }
   ],
   "source": [
    "#формируем срез по датасету без учет id\n",
    "df_dub = df.loc[:, 'object_name':'number']\n",
    "#проверяем те заведения, где кол-во посадочных мест = 0\n",
    "display(df_dub.query('number == 0'))\n",
    "#удалять эти заведения не  будем, т.к. возможен такой формат\n",
    "#проверяем число дублей\n",
    "print(df_dub.duplicated().sum())\n",
    "#выводим дубли на экран для проверки\n",
    "df_dub = df_dub[df_dub.duplicated()].sort_values(by='object_name')\n",
    "df_dub.head()"
   ]
  },
  {
   "cell_type": "markdown",
   "metadata": {},
   "source": [
    "Получается, что к числу дублей попадают как явные дубли, так и заведения, схожие по названию, но отличающиеся в адресе/кол-ве мест,  также сетевые заведения. Поскольку таких заведений незначительное кол-во (0.5% от всех заведений), можем пренебречь этой погрешностью и не удалять их,посколько они не несут статистической значимости и не повлияют на результаты исследования"
   ]
  },
  {
   "cell_type": "markdown",
   "metadata": {},
   "source": [
    "## Анализ данных"
   ]
  },
  {
   "cell_type": "markdown",
   "metadata": {},
   "source": [
    "### Соотношение видов объектов общественного питания по количеству"
   ]
  },
  {
   "cell_type": "code",
   "execution_count": 8,
   "metadata": {},
   "outputs": [
    {
     "data": {
      "text/html": [
       "<div>\n",
       "<style scoped>\n",
       "    .dataframe tbody tr th:only-of-type {\n",
       "        vertical-align: middle;\n",
       "    }\n",
       "\n",
       "    .dataframe tbody tr th {\n",
       "        vertical-align: top;\n",
       "    }\n",
       "\n",
       "    .dataframe thead th {\n",
       "        text-align: right;\n",
       "    }\n",
       "</style>\n",
       "<table border=\"1\" class=\"dataframe\">\n",
       "  <thead>\n",
       "    <tr style=\"text-align: right;\">\n",
       "      <th></th>\n",
       "      <th>object_type</th>\n",
       "      <th>total</th>\n",
       "      <th>% of total</th>\n",
       "    </tr>\n",
       "  </thead>\n",
       "  <tbody>\n",
       "    <tr>\n",
       "      <th>3</th>\n",
       "      <td>кафе</td>\n",
       "      <td>6099</td>\n",
       "      <td>39.691527</td>\n",
       "    </tr>\n",
       "    <tr>\n",
       "      <th>8</th>\n",
       "      <td>столовая</td>\n",
       "      <td>2587</td>\n",
       "      <td>16.835871</td>\n",
       "    </tr>\n",
       "    <tr>\n",
       "      <th>7</th>\n",
       "      <td>ресторан</td>\n",
       "      <td>2285</td>\n",
       "      <td>14.870493</td>\n",
       "    </tr>\n",
       "    <tr>\n",
       "      <th>6</th>\n",
       "      <td>предприятие быстрого обслуживания</td>\n",
       "      <td>1923</td>\n",
       "      <td>12.514643</td>\n",
       "    </tr>\n",
       "    <tr>\n",
       "      <th>0</th>\n",
       "      <td>бар</td>\n",
       "      <td>856</td>\n",
       "      <td>5.570741</td>\n",
       "    </tr>\n",
       "    <tr>\n",
       "      <th>1</th>\n",
       "      <td>буфет</td>\n",
       "      <td>585</td>\n",
       "      <td>3.807107</td>\n",
       "    </tr>\n",
       "    <tr>\n",
       "      <th>4</th>\n",
       "      <td>кафетерий</td>\n",
       "      <td>398</td>\n",
       "      <td>2.590134</td>\n",
       "    </tr>\n",
       "    <tr>\n",
       "      <th>2</th>\n",
       "      <td>закусочная</td>\n",
       "      <td>360</td>\n",
       "      <td>2.342835</td>\n",
       "    </tr>\n",
       "    <tr>\n",
       "      <th>5</th>\n",
       "      <td>магазин (отдел кулинарии)</td>\n",
       "      <td>273</td>\n",
       "      <td>1.776650</td>\n",
       "    </tr>\n",
       "  </tbody>\n",
       "</table>\n",
       "</div>"
      ],
      "text/plain": [
       "                         object_type  total  % of total\n",
       "3                               кафе   6099   39.691527\n",
       "8                           столовая   2587   16.835871\n",
       "7                           ресторан   2285   14.870493\n",
       "6  предприятие быстрого обслуживания   1923   12.514643\n",
       "0                                бар    856    5.570741\n",
       "1                              буфет    585    3.807107\n",
       "4                          кафетерий    398    2.590134\n",
       "2                         закусочная    360    2.342835\n",
       "5          магазин (отдел кулинарии)    273    1.776650"
      ]
     },
     "metadata": {},
     "output_type": "display_data"
    },
    {
     "data": {
      "image/png": "[encoded data removed]",
      "text/plain": [
       "<Figure size 1080x360 with 1 Axes>"
      ]
     },
     "metadata": {
      "needs_background": "light"
     },
     "output_type": "display_data"
    }
   ],
   "source": [
    "df_ratio_object_type = df.groupby('object_type').agg({'id':'count'}).reset_index()\n",
    "df_ratio_object_type.columns = ['object_type', 'total']\n",
    "df_ratio_object_type['% of total'] = df_ratio_object_type['total'] / df_ratio_object_type['total'].sum() * 100\n",
    "df_ratio_object_type = df_ratio_object_type.sort_values(by = 'total', ascending = False)\n",
    "display(df_ratio_object_type)\n",
    "\n",
    "plt.figure(figsize=(15, 5)) \n",
    "sns.barplot(x='total', y='object_type', data=df_ratio_object_type) \n",
    "plt.title('Cоотношение видов объектов общественного питания по количеству')\n",
    "plt.xlabel('Количество')    \n",
    "plt.ylabel('Вид заведения');"
   ]
  },
  {
   "cell_type": "markdown",
   "metadata": {},
   "source": [
    "По графику видно, что наиболее распространенный вид объектов общественного питания - кафе (почти 40%). Данная ситуация легко объясняется: \n",
    "\n",
    "- благодаря своей универсальности кафе предлагают своим клиентам широкий спектр блюд, закусок и напитков, обеспечивая постоянный поток клиентов;\n",
    "- как правило, для организации кафе требуются меньшие производственные мощности, соответственно, меньшие затраты инвесторов на аренду помещения, з/п работникам и т.д.\n",
    "\n",
    "Также к числу наиболее распространенных видов объектов общественного питания можно отнести столовые (17%), рестораны (15%) и предприятия быстрого обслуживания (13%)."
   ]
  },
  {
   "cell_type": "markdown",
   "metadata": {},
   "source": [
    "### Соотношение сетевых и несетевых заведений по количеству"
   ]
  },
  {
   "cell_type": "code",
   "execution_count": 9,
   "metadata": {},
   "outputs": [
    {
     "data": {
      "text/html": [
       "<div>\n",
       "<style scoped>\n",
       "    .dataframe tbody tr th:only-of-type {\n",
       "        vertical-align: middle;\n",
       "    }\n",
       "\n",
       "    .dataframe tbody tr th {\n",
       "        vertical-align: top;\n",
       "    }\n",
       "\n",
       "    .dataframe thead th {\n",
       "        text-align: right;\n",
       "    }\n",
       "</style>\n",
       "<table border=\"1\" class=\"dataframe\">\n",
       "  <thead>\n",
       "    <tr style=\"text-align: right;\">\n",
       "      <th></th>\n",
       "      <th>chain</th>\n",
       "      <th>total</th>\n",
       "      <th>% of total</th>\n",
       "    </tr>\n",
       "  </thead>\n",
       "  <tbody>\n",
       "    <tr>\n",
       "      <th>1</th>\n",
       "      <td>нет</td>\n",
       "      <td>12398</td>\n",
       "      <td>80.684628</td>\n",
       "    </tr>\n",
       "    <tr>\n",
       "      <th>0</th>\n",
       "      <td>да</td>\n",
       "      <td>2968</td>\n",
       "      <td>19.315372</td>\n",
       "    </tr>\n",
       "  </tbody>\n",
       "</table>\n",
       "</div>"
      ],
      "text/plain": [
       "  chain  total  % of total\n",
       "1   нет  12398   80.684628\n",
       "0    да   2968   19.315372"
      ]
     },
     "metadata": {},
     "output_type": "display_data"
    },
    {
     "data": {
      "image/png": "[encoded data removed]",
      "text/plain": [
       "<Figure size 1080x360 with 1 Axes>"
      ]
     },
     "metadata": {
      "needs_background": "light"
     },
     "output_type": "display_data"
    }
   ],
   "source": [
    "df_ratio_chain = df.groupby('chain').agg({'id':'count'}).reset_index()\n",
    "df_ratio_chain.columns = ['chain', 'total']\n",
    "df_ratio_chain['% of total'] = df_ratio_chain['total'] / df_ratio_chain['total'].sum() * 100\n",
    "df_ratio_chain = df_ratio_chain.sort_values(by = 'total', ascending = False)\n",
    "display(df_ratio_chain)\n",
    "\n",
    "plt.figure(figsize=(15, 5)) \n",
    "sns.barplot(x='total', y='chain', data=df_ratio_chain) \n",
    "plt.title('Cоотношение сетевых и несетевых заведений по количеству')\n",
    "plt.xlabel('Количество')    \n",
    "plt.ylabel('Является сетевым');"
   ]
  },
  {
   "cell_type": "markdown",
   "metadata": {},
   "source": [
    "С точки зрения распространения, наиболее популярны несетевые заведения (81%). На долю сетевых приходится лишь 19%. Скорее всего данная ситуация объясняется преобладающим числом одиночных кафе на рынке общественного питания, которые не предполагают сетевой статус. Тогда к какому виду заведений относятся сетевые?"
   ]
  },
  {
   "cell_type": "markdown",
   "metadata": {},
   "source": [
    "### Определение вида объекта общественного питания, для которого характерно сетевое распространение"
   ]
  },
  {
   "cell_type": "code",
   "execution_count": 10,
   "metadata": {
    "scrolled": false
   },
   "outputs": [
    {
     "data": {
      "text/html": [
       "<div>\n",
       "<style scoped>\n",
       "    .dataframe tbody tr th:only-of-type {\n",
       "        vertical-align: middle;\n",
       "    }\n",
       "\n",
       "    .dataframe tbody tr th {\n",
       "        vertical-align: top;\n",
       "    }\n",
       "\n",
       "    .dataframe thead th {\n",
       "        text-align: right;\n",
       "    }\n",
       "</style>\n",
       "<table border=\"1\" class=\"dataframe\">\n",
       "  <thead>\n",
       "    <tr style=\"text-align: right;\">\n",
       "      <th>chain</th>\n",
       "      <th>да</th>\n",
       "      <th>нет</th>\n",
       "      <th>total</th>\n",
       "    </tr>\n",
       "    <tr>\n",
       "      <th>object_type</th>\n",
       "      <th></th>\n",
       "      <th></th>\n",
       "      <th></th>\n",
       "    </tr>\n",
       "  </thead>\n",
       "  <tbody>\n",
       "    <tr>\n",
       "      <th>кафе</th>\n",
       "      <td>1396</td>\n",
       "      <td>4703</td>\n",
       "      <td>6099</td>\n",
       "    </tr>\n",
       "    <tr>\n",
       "      <th>столовая</th>\n",
       "      <td>3</td>\n",
       "      <td>2584</td>\n",
       "      <td>2587</td>\n",
       "    </tr>\n",
       "    <tr>\n",
       "      <th>ресторан</th>\n",
       "      <td>544</td>\n",
       "      <td>1741</td>\n",
       "      <td>2285</td>\n",
       "    </tr>\n",
       "    <tr>\n",
       "      <th>предприятие быстрого обслуживания</th>\n",
       "      <td>791</td>\n",
       "      <td>1132</td>\n",
       "      <td>1923</td>\n",
       "    </tr>\n",
       "    <tr>\n",
       "      <th>бар</th>\n",
       "      <td>37</td>\n",
       "      <td>819</td>\n",
       "      <td>856</td>\n",
       "    </tr>\n",
       "    <tr>\n",
       "      <th>буфет</th>\n",
       "      <td>11</td>\n",
       "      <td>574</td>\n",
       "      <td>585</td>\n",
       "    </tr>\n",
       "    <tr>\n",
       "      <th>кафетерий</th>\n",
       "      <td>52</td>\n",
       "      <td>346</td>\n",
       "      <td>398</td>\n",
       "    </tr>\n",
       "    <tr>\n",
       "      <th>закусочная</th>\n",
       "      <td>56</td>\n",
       "      <td>304</td>\n",
       "      <td>360</td>\n",
       "    </tr>\n",
       "    <tr>\n",
       "      <th>магазин (отдел кулинарии)</th>\n",
       "      <td>78</td>\n",
       "      <td>195</td>\n",
       "      <td>273</td>\n",
       "    </tr>\n",
       "  </tbody>\n",
       "</table>\n",
       "</div>"
      ],
      "text/plain": [
       "chain                                да   нет  total\n",
       "object_type                                         \n",
       "кафе                               1396  4703   6099\n",
       "столовая                              3  2584   2587\n",
       "ресторан                            544  1741   2285\n",
       "предприятие быстрого обслуживания   791  1132   1923\n",
       "бар                                  37   819    856\n",
       "буфет                                11   574    585\n",
       "кафетерий                            52   346    398\n",
       "закусочная                           56   304    360\n",
       "магазин (отдел кулинарии)            78   195    273"
      ]
     },
     "metadata": {},
     "output_type": "display_data"
    },
    {
     "data": {
      "image/png": "[encoded data removed]",
      "text/plain": [
       "<Figure size 1080x360 with 1 Axes>"
      ]
     },
     "metadata": {
      "needs_background": "light"
     },
     "output_type": "display_data"
    }
   ],
   "source": [
    "df_ratio_object_chain = df.pivot_table(index='object_type', columns='chain', values='id', aggfunc='nunique')\n",
    "df_ratio_object_chain['total'] = df_ratio_object_chain['да'] + df_ratio_object_chain['нет']\n",
    "df_ratio_object_chain = df_ratio_object_chain.sort_values(by='total', ascending=False)\n",
    "display(df_ratio_object_chain)\n",
    "\n",
    "\n",
    "df_ratio_object_chain[['да', 'нет']].plot(kind='barh', figsize=(15, 5), stacked=True, color=['#FFD32D', '#008E89'])\n",
    "plt.title('Cоотношение сетевых и несетевых заведений по виду заведения')\n",
    "plt.xlabel('Количество')    \n",
    "plt.ylabel('Вид заведения');"
   ]
  },
  {
   "cell_type": "markdown",
   "metadata": {},
   "source": [
    "Действительно, большая часть несетевых заведений приходится на кафе. Помимо этого, преимущественно к несетевым относятся столовые, буфеты, бары. \n",
    "\n",
    "Если говорить про сетевые заведения, то это могут быть предприятия быстрого обслуживания, рестораны. Однако велика доля и сетевых кафе."
   ]
  },
  {
   "cell_type": "markdown",
   "metadata": {},
   "source": [
    "### Определение отличительных черт для сетевых заведений"
   ]
  },
  {
   "cell_type": "code",
   "execution_count": 11,
   "metadata": {},
   "outputs": [
    {
     "data": {
      "text/html": [
       "<div>\n",
       "<style scoped>\n",
       "    .dataframe tbody tr th:only-of-type {\n",
       "        vertical-align: middle;\n",
       "    }\n",
       "\n",
       "    .dataframe tbody tr th {\n",
       "        vertical-align: top;\n",
       "    }\n",
       "\n",
       "    .dataframe thead th {\n",
       "        text-align: right;\n",
       "    }\n",
       "</style>\n",
       "<table border=\"1\" class=\"dataframe\">\n",
       "  <thead>\n",
       "    <tr style=\"text-align: right;\">\n",
       "      <th></th>\n",
       "      <th>id</th>\n",
       "      <th>number</th>\n",
       "    </tr>\n",
       "  </thead>\n",
       "  <tbody>\n",
       "    <tr>\n",
       "      <th>count</th>\n",
       "      <td>724.000000</td>\n",
       "      <td>724.000000</td>\n",
       "    </tr>\n",
       "    <tr>\n",
       "      <th>mean</th>\n",
       "      <td>4.099448</td>\n",
       "      <td>60.320759</td>\n",
       "    </tr>\n",
       "    <tr>\n",
       "      <th>std</th>\n",
       "      <td>12.625954</td>\n",
       "      <td>56.132763</td>\n",
       "    </tr>\n",
       "    <tr>\n",
       "      <th>min</th>\n",
       "      <td>1.000000</td>\n",
       "      <td>0.000000</td>\n",
       "    </tr>\n",
       "    <tr>\n",
       "      <th>25%</th>\n",
       "      <td>1.000000</td>\n",
       "      <td>20.000000</td>\n",
       "    </tr>\n",
       "    <tr>\n",
       "      <th>50%</th>\n",
       "      <td>1.000000</td>\n",
       "      <td>45.000000</td>\n",
       "    </tr>\n",
       "    <tr>\n",
       "      <th>75%</th>\n",
       "      <td>2.000000</td>\n",
       "      <td>83.625000</td>\n",
       "    </tr>\n",
       "    <tr>\n",
       "      <th>max</th>\n",
       "      <td>155.000000</td>\n",
       "      <td>356.000000</td>\n",
       "    </tr>\n",
       "  </tbody>\n",
       "</table>\n",
       "</div>"
      ],
      "text/plain": [
       "               id      number\n",
       "count  724.000000  724.000000\n",
       "mean     4.099448   60.320759\n",
       "std     12.625954   56.132763\n",
       "min      1.000000    0.000000\n",
       "25%      1.000000   20.000000\n",
       "50%      1.000000   45.000000\n",
       "75%      2.000000   83.625000\n",
       "max    155.000000  356.000000"
      ]
     },
     "metadata": {},
     "output_type": "display_data"
    },
    {
     "data": {
      "text/html": [
       "<div>\n",
       "<style scoped>\n",
       "    .dataframe tbody tr th:only-of-type {\n",
       "        vertical-align: middle;\n",
       "    }\n",
       "\n",
       "    .dataframe tbody tr th {\n",
       "        vertical-align: top;\n",
       "    }\n",
       "\n",
       "    .dataframe thead th {\n",
       "        text-align: right;\n",
       "    }\n",
       "</style>\n",
       "<table border=\"1\" class=\"dataframe\">\n",
       "  <thead>\n",
       "    <tr style=\"text-align: right;\">\n",
       "      <th></th>\n",
       "      <th>кол-во сетей</th>\n",
       "      <th>медианное число заведений</th>\n",
       "      <th>медианное кол-во посадочных мест</th>\n",
       "    </tr>\n",
       "    <tr>\n",
       "      <th>группа</th>\n",
       "      <th></th>\n",
       "      <th></th>\n",
       "      <th></th>\n",
       "    </tr>\n",
       "  </thead>\n",
       "  <tbody>\n",
       "    <tr>\n",
       "      <th>мало заведений - мало мест</th>\n",
       "      <td>174</td>\n",
       "      <td>1</td>\n",
       "      <td>10.000000</td>\n",
       "    </tr>\n",
       "    <tr>\n",
       "      <th>мало заведений - много мест</th>\n",
       "      <td>464</td>\n",
       "      <td>1</td>\n",
       "      <td>64.083333</td>\n",
       "    </tr>\n",
       "    <tr>\n",
       "      <th>много заведений - мало мест</th>\n",
       "      <td>21</td>\n",
       "      <td>12</td>\n",
       "      <td>9.454545</td>\n",
       "    </tr>\n",
       "    <tr>\n",
       "      <th>много заведений - много мест</th>\n",
       "      <td>65</td>\n",
       "      <td>10</td>\n",
       "      <td>55.341935</td>\n",
       "    </tr>\n",
       "  </tbody>\n",
       "</table>\n",
       "</div>"
      ],
      "text/plain": [
       "                              кол-во сетей  медианное число заведений  \\\n",
       "группа                                                                  \n",
       "мало заведений - мало мест             174                          1   \n",
       "мало заведений - много мест            464                          1   \n",
       "много заведений - мало мест             21                         12   \n",
       "много заведений - много мест            65                         10   \n",
       "\n",
       "                              медианное кол-во посадочных мест  \n",
       "группа                                                          \n",
       "мало заведений - мало мест                           10.000000  \n",
       "мало заведений - много мест                          64.083333  \n",
       "много заведений - мало мест                           9.454545  \n",
       "много заведений - много мест                         55.341935  "
      ]
     },
     "metadata": {},
     "output_type": "display_data"
    },
    {
     "data": {
      "image/png": "[encoded data removed]",
      "text/plain": [
       "<Figure size 1080x360 with 1 Axes>"
      ]
     },
     "metadata": {
      "needs_background": "light"
     },
     "output_type": "display_data"
    }
   ],
   "source": [
    "#отберем все сетевые рестораны\n",
    "df_ratio_number_chain = df.query('chain == \"да\"')\n",
    "#для каждой сети посчитаем число заведений и среднее значение посадочных мест\n",
    "df_ratio_number_chain = df_ratio_number_chain.groupby('object_name').agg({'id':'count', 'number':'mean'})\n",
    "\n",
    "display(df_ratio_number_chain.describe())\n",
    "\n",
    "#установим границу много/мало заведений на уровне 5\n",
    "df_ratio_number_chain['restaurant_group'] = 'мало заведений'\n",
    "df_ratio_number_chain.loc[df_ratio_number_chain['id'] > 5, 'restaurant_group'] = 'много заведений'\n",
    "#установим границу много/мало посадочных мест на уровне 20\n",
    "df_ratio_number_chain['seat_group'] = 'мало мест'\n",
    "df_ratio_number_chain.loc[df_ratio_number_chain['number'] > 20, 'seat_group'] = 'много мест'\n",
    "#формируем группы\n",
    "df_ratio_number_chain['группа'] = df_ratio_number_chain['restaurant_group'].astype(str) + \\\n",
    "                                    ' - ' + \\\n",
    "                                    df_ratio_number_chain['seat_group'].astype(str) \n",
    "display(df_ratio_number_chain.reset_index().groupby('группа')\\\n",
    "                                            .agg({'object_name':'nunique', 'id':'median', 'number':'median'})\\\n",
    "                                            .rename(columns={'object_name':'кол-во сетей',\n",
    "                                                              'id':'медианное число заведений',\n",
    "                                                              'number':'медианное кол-во посадочных мест'}))\n",
    "\n",
    "plt.figure(figsize=(15, 5))\n",
    "sns.scatterplot(data=df_ratio_number_chain, x='id', y='number', hue='группа')\n",
    "plt.title('Cоотношение сетевых заведений по кол-ву заведений/посадочных мест')\n",
    "plt.xlabel('Среднее кол-во заведений')    \n",
    "plt.ylabel('Среднее кол-во посадочных мест');"
   ]
  },
  {
   "cell_type": "markdown",
   "metadata": {},
   "source": [
    "Как видно из графика, для сетевых заведений характерна следующая ситуация на рынке:\n",
    "    \n",
    "    - по количеству заведений в сети преобладают сети с малыми производственными мощностями (кол-во заведений в сети менее 5);\n",
    "    - по количеству посадочных мест преобладают сети с большим их количеством (вне зависимости от кол-ва заведений в сети)."
   ]
  },
  {
   "cell_type": "markdown",
   "metadata": {},
   "source": [
    "### Определение среднего количества посадочных мест для каждого вида объекта общественного питания"
   ]
  },
  {
   "cell_type": "code",
   "execution_count": 12,
   "metadata": {},
   "outputs": [
    {
     "data": {
      "text/html": [
       "<div>\n",
       "<style scoped>\n",
       "    .dataframe tbody tr th:only-of-type {\n",
       "        vertical-align: middle;\n",
       "    }\n",
       "\n",
       "    .dataframe tbody tr th {\n",
       "        vertical-align: top;\n",
       "    }\n",
       "\n",
       "    .dataframe thead th {\n",
       "        text-align: right;\n",
       "    }\n",
       "</style>\n",
       "<table border=\"1\" class=\"dataframe\">\n",
       "  <thead>\n",
       "    <tr style=\"text-align: right;\">\n",
       "      <th></th>\n",
       "      <th>object_type</th>\n",
       "      <th>id</th>\n",
       "      <th>number</th>\n",
       "    </tr>\n",
       "  </thead>\n",
       "  <tbody>\n",
       "    <tr>\n",
       "      <th>0</th>\n",
       "      <td>столовая</td>\n",
       "      <td>2587</td>\n",
       "      <td>130.246618</td>\n",
       "    </tr>\n",
       "    <tr>\n",
       "      <th>1</th>\n",
       "      <td>ресторан</td>\n",
       "      <td>2285</td>\n",
       "      <td>96.834136</td>\n",
       "    </tr>\n",
       "    <tr>\n",
       "      <th>2</th>\n",
       "      <td>буфет</td>\n",
       "      <td>585</td>\n",
       "      <td>51.129915</td>\n",
       "    </tr>\n",
       "    <tr>\n",
       "      <th>3</th>\n",
       "      <td>бар</td>\n",
       "      <td>856</td>\n",
       "      <td>43.494159</td>\n",
       "    </tr>\n",
       "    <tr>\n",
       "      <th>4</th>\n",
       "      <td>кафе</td>\n",
       "      <td>6099</td>\n",
       "      <td>39.716019</td>\n",
       "    </tr>\n",
       "    <tr>\n",
       "      <th>5</th>\n",
       "      <td>предприятие быстрого обслуживания</td>\n",
       "      <td>1923</td>\n",
       "      <td>20.552262</td>\n",
       "    </tr>\n",
       "    <tr>\n",
       "      <th>6</th>\n",
       "      <td>кафетерий</td>\n",
       "      <td>398</td>\n",
       "      <td>9.123116</td>\n",
       "    </tr>\n",
       "    <tr>\n",
       "      <th>7</th>\n",
       "      <td>закусочная</td>\n",
       "      <td>360</td>\n",
       "      <td>7.608333</td>\n",
       "    </tr>\n",
       "    <tr>\n",
       "      <th>8</th>\n",
       "      <td>магазин (отдел кулинарии)</td>\n",
       "      <td>273</td>\n",
       "      <td>5.589744</td>\n",
       "    </tr>\n",
       "  </tbody>\n",
       "</table>\n",
       "</div>"
      ],
      "text/plain": [
       "                         object_type    id      number\n",
       "0                           столовая  2587  130.246618\n",
       "1                           ресторан  2285   96.834136\n",
       "2                              буфет   585   51.129915\n",
       "3                                бар   856   43.494159\n",
       "4                               кафе  6099   39.716019\n",
       "5  предприятие быстрого обслуживания  1923   20.552262\n",
       "6                          кафетерий   398    9.123116\n",
       "7                         закусочная   360    7.608333\n",
       "8          магазин (отдел кулинарии)   273    5.589744"
      ]
     },
     "metadata": {},
     "output_type": "display_data"
    },
    {
     "data": {
      "image/png": "[encoded data removed]",
      "text/plain": [
       "<Figure size 1080x360 with 1 Axes>"
      ]
     },
     "metadata": {
      "needs_background": "light"
     },
     "output_type": "display_data"
    }
   ],
   "source": [
    "#для каждого вида объекта общественного питания посчитаем среднее значение посадочных мест\n",
    "df_ratio_number_object = df.groupby('object_type').agg({'id':'count', 'number':'mean'})\\\n",
    "                                                    .sort_values(by='number', ascending=False).reset_index()\n",
    "display(df_ratio_number_object)\n",
    "\n",
    "plt.figure(figsize=(15, 5))\n",
    "sns.boxplot(x='object_type', y='number', data=df)\n",
    "plt.title('Распределение кол-ва посадочных мест по объектам общепита')\n",
    "plt.xlabel('Вид заведения')    \n",
    "plt.ylabel('Кол-во посадочных мест')\n",
    "plt.xticks (rotation = 45)\n",
    "plt.ylim (1, 300);"
   ]
  },
  {
   "cell_type": "markdown",
   "metadata": {},
   "source": [
    "Если сравнивать объекты общественного питания по кол-ву посадочных мест, то лидером по среднему кол-ву являются столовые: в среднем столовые могут одновременно разместить до 130 гостей. \n",
    "\n",
    "На второе место вышли рестораны: здесь одновременно может находиться до 96 посетителей.\n",
    "\n",
    "На третьем месте - буфет со своей способностью разместить 51 гостя."
   ]
  },
  {
   "cell_type": "markdown",
   "metadata": {},
   "source": [
    "### Выделение улицы в отдельный столбец"
   ]
  },
  {
   "cell_type": "code",
   "execution_count": 13,
   "metadata": {},
   "outputs": [],
   "source": [
    "#создадим функцию для удобства выделения улицы из адреса\n",
    "def get_streetname(cell):\n",
    "    for add_part in cell.split(','):\n",
    "        for str_type in [\"улица\", \"проспект\", \"бульвар\", \"шоссе\", \"набережная\"]:\n",
    "            if str_type in add_part:\n",
    "                return add_part\n",
    "    return cell.split(',')[1]"
   ]
  },
  {
   "cell_type": "code",
   "execution_count": 14,
   "metadata": {},
   "outputs": [
    {
     "data": {
      "text/html": [
       "<div>\n",
       "<style scoped>\n",
       "    .dataframe tbody tr th:only-of-type {\n",
       "        vertical-align: middle;\n",
       "    }\n",
       "\n",
       "    .dataframe tbody tr th {\n",
       "        vertical-align: top;\n",
       "    }\n",
       "\n",
       "    .dataframe thead th {\n",
       "        text-align: right;\n",
       "    }\n",
       "</style>\n",
       "<table border=\"1\" class=\"dataframe\">\n",
       "  <thead>\n",
       "    <tr style=\"text-align: right;\">\n",
       "      <th></th>\n",
       "      <th>id</th>\n",
       "      <th>object_name</th>\n",
       "      <th>chain</th>\n",
       "      <th>object_type</th>\n",
       "      <th>address</th>\n",
       "      <th>number</th>\n",
       "      <th>object_name_new</th>\n",
       "      <th>street</th>\n",
       "    </tr>\n",
       "  </thead>\n",
       "  <tbody>\n",
       "    <tr>\n",
       "      <th>0</th>\n",
       "      <td>151635</td>\n",
       "      <td>СМЕТАНА</td>\n",
       "      <td>нет</td>\n",
       "      <td>кафе</td>\n",
       "      <td>город Москва, улица Егора Абакумова, дом 9</td>\n",
       "      <td>48</td>\n",
       "      <td>сметана</td>\n",
       "      <td>улица Егора Абакумова</td>\n",
       "    </tr>\n",
       "    <tr>\n",
       "      <th>1</th>\n",
       "      <td>77874</td>\n",
       "      <td>Родник</td>\n",
       "      <td>нет</td>\n",
       "      <td>кафе</td>\n",
       "      <td>город Москва, улица Талалихина, дом 2/1, корпус 1</td>\n",
       "      <td>35</td>\n",
       "      <td>родник</td>\n",
       "      <td>улица Талалихина</td>\n",
       "    </tr>\n",
       "    <tr>\n",
       "      <th>2</th>\n",
       "      <td>24309</td>\n",
       "      <td>Кафе «Академия»</td>\n",
       "      <td>нет</td>\n",
       "      <td>кафе</td>\n",
       "      <td>город Москва, Абельмановская улица, дом 6</td>\n",
       "      <td>95</td>\n",
       "      <td>«академия»</td>\n",
       "      <td>Абельмановская улица</td>\n",
       "    </tr>\n",
       "    <tr>\n",
       "      <th>3</th>\n",
       "      <td>21894</td>\n",
       "      <td>ПИЦЦЕТОРИЯ</td>\n",
       "      <td>да</td>\n",
       "      <td>кафе</td>\n",
       "      <td>город Москва, Абрамцевская улица, дом 1</td>\n",
       "      <td>40</td>\n",
       "      <td>пиццетория</td>\n",
       "      <td>Абрамцевская улица</td>\n",
       "    </tr>\n",
       "    <tr>\n",
       "      <th>4</th>\n",
       "      <td>119365</td>\n",
       "      <td>Кафе «Вишневая метель»</td>\n",
       "      <td>нет</td>\n",
       "      <td>кафе</td>\n",
       "      <td>город Москва, Абрамцевская улица, дом 9, корпус 1</td>\n",
       "      <td>50</td>\n",
       "      <td>«вишневая метель»</td>\n",
       "      <td>Абрамцевская улица</td>\n",
       "    </tr>\n",
       "  </tbody>\n",
       "</table>\n",
       "</div>"
      ],
      "text/plain": [
       "       id             object_name chain object_type  \\\n",
       "0  151635                 СМЕТАНА   нет        кафе   \n",
       "1   77874                  Родник   нет        кафе   \n",
       "2   24309         Кафе «Академия»   нет        кафе   \n",
       "3   21894              ПИЦЦЕТОРИЯ    да        кафе   \n",
       "4  119365  Кафе «Вишневая метель»   нет        кафе   \n",
       "\n",
       "                                             address  number  \\\n",
       "0         город Москва, улица Егора Абакумова, дом 9      48   \n",
       "1  город Москва, улица Талалихина, дом 2/1, корпус 1      35   \n",
       "2          город Москва, Абельмановская улица, дом 6      95   \n",
       "3            город Москва, Абрамцевская улица, дом 1      40   \n",
       "4  город Москва, Абрамцевская улица, дом 9, корпус 1      50   \n",
       "\n",
       "      object_name_new                 street  \n",
       "0             сметана  улица Егора Абакумова  \n",
       "1              родник       улица Талалихина  \n",
       "2          «академия»   Абельмановская улица  \n",
       "3          пиццетория     Абрамцевская улица  \n",
       "4   «вишневая метель»     Абрамцевская улица  "
      ]
     },
     "execution_count": 14,
     "metadata": {},
     "output_type": "execute_result"
    }
   ],
   "source": [
    "df['street'] = df['address'].apply(get_streetname)\n",
    "df['street'] = df['street'].str.strip()\n",
    "df.head()"
   ]
  },
  {
   "cell_type": "markdown",
   "metadata": {},
   "source": [
    "Получили новый столбец с указанием улицы. Можем приступать к дальнейшему анализу."
   ]
  },
  {
   "cell_type": "markdown",
   "metadata": {},
   "source": [
    "### Топ-10 улиц по количеству объектов общественного питания"
   ]
  },
  {
   "cell_type": "code",
   "execution_count": 15,
   "metadata": {
    "scrolled": false
   },
   "outputs": [
    {
     "data": {
      "text/html": [
       "<div>\n",
       "<style scoped>\n",
       "    .dataframe tbody tr th:only-of-type {\n",
       "        vertical-align: middle;\n",
       "    }\n",
       "\n",
       "    .dataframe tbody tr th {\n",
       "        vertical-align: top;\n",
       "    }\n",
       "\n",
       "    .dataframe thead th {\n",
       "        text-align: right;\n",
       "    }\n",
       "</style>\n",
       "<table border=\"1\" class=\"dataframe\">\n",
       "  <thead>\n",
       "    <tr style=\"text-align: right;\">\n",
       "      <th></th>\n",
       "      <th>streetname</th>\n",
       "      <th>total</th>\n",
       "    </tr>\n",
       "  </thead>\n",
       "  <tbody>\n",
       "    <tr>\n",
       "      <th>1459</th>\n",
       "      <td>проспект Мира</td>\n",
       "      <td>204</td>\n",
       "    </tr>\n",
       "    <tr>\n",
       "      <th>1376</th>\n",
       "      <td>город Зеленоград</td>\n",
       "      <td>194</td>\n",
       "    </tr>\n",
       "    <tr>\n",
       "      <th>1022</th>\n",
       "      <td>Профсоюзная улица</td>\n",
       "      <td>183</td>\n",
       "    </tr>\n",
       "    <tr>\n",
       "      <th>700</th>\n",
       "      <td>Ленинградский проспект</td>\n",
       "      <td>173</td>\n",
       "    </tr>\n",
       "    <tr>\n",
       "      <th>1008</th>\n",
       "      <td>Пресненская набережная</td>\n",
       "      <td>167</td>\n",
       "    </tr>\n",
       "    <tr>\n",
       "      <th>417</th>\n",
       "      <td>Варшавское шоссе</td>\n",
       "      <td>165</td>\n",
       "    </tr>\n",
       "    <tr>\n",
       "      <th>703</th>\n",
       "      <td>Ленинский проспект</td>\n",
       "      <td>148</td>\n",
       "    </tr>\n",
       "    <tr>\n",
       "      <th>1455</th>\n",
       "      <td>проспект Вернадского</td>\n",
       "      <td>132</td>\n",
       "    </tr>\n",
       "    <tr>\n",
       "      <th>690</th>\n",
       "      <td>Кутузовский проспект</td>\n",
       "      <td>114</td>\n",
       "    </tr>\n",
       "    <tr>\n",
       "      <th>615</th>\n",
       "      <td>Каширское шоссе</td>\n",
       "      <td>112</td>\n",
       "    </tr>\n",
       "  </tbody>\n",
       "</table>\n",
       "</div>"
      ],
      "text/plain": [
       "                  streetname  total\n",
       "1459           проспект Мира    204\n",
       "1376        город Зеленоград    194\n",
       "1022       Профсоюзная улица    183\n",
       "700   Ленинградский проспект    173\n",
       "1008  Пресненская набережная    167\n",
       "417         Варшавское шоссе    165\n",
       "703       Ленинский проспект    148\n",
       "1455    проспект Вернадского    132\n",
       "690     Кутузовский проспект    114\n",
       "615          Каширское шоссе    112"
      ]
     },
     "metadata": {},
     "output_type": "display_data"
    },
    {
     "data": {
      "text/html": [
       "<div>\n",
       "<style scoped>\n",
       "    .dataframe tbody tr th:only-of-type {\n",
       "        vertical-align: middle;\n",
       "    }\n",
       "\n",
       "    .dataframe tbody tr th {\n",
       "        vertical-align: top;\n",
       "    }\n",
       "\n",
       "    .dataframe thead th {\n",
       "        text-align: right;\n",
       "    }\n",
       "</style>\n",
       "<table border=\"1\" class=\"dataframe\">\n",
       "  <thead>\n",
       "    <tr style=\"text-align: right;\">\n",
       "      <th></th>\n",
       "      <th>streetname</th>\n",
       "      <th>total</th>\n",
       "    </tr>\n",
       "  </thead>\n",
       "  <tbody>\n",
       "    <tr>\n",
       "      <th>1459</th>\n",
       "      <td>проспект Мира</td>\n",
       "      <td>204</td>\n",
       "    </tr>\n",
       "    <tr>\n",
       "      <th>1022</th>\n",
       "      <td>Профсоюзная улица</td>\n",
       "      <td>183</td>\n",
       "    </tr>\n",
       "    <tr>\n",
       "      <th>700</th>\n",
       "      <td>Ленинградский проспект</td>\n",
       "      <td>173</td>\n",
       "    </tr>\n",
       "    <tr>\n",
       "      <th>1008</th>\n",
       "      <td>Пресненская набережная</td>\n",
       "      <td>167</td>\n",
       "    </tr>\n",
       "    <tr>\n",
       "      <th>417</th>\n",
       "      <td>Варшавское шоссе</td>\n",
       "      <td>165</td>\n",
       "    </tr>\n",
       "    <tr>\n",
       "      <th>703</th>\n",
       "      <td>Ленинский проспект</td>\n",
       "      <td>148</td>\n",
       "    </tr>\n",
       "    <tr>\n",
       "      <th>1455</th>\n",
       "      <td>проспект Вернадского</td>\n",
       "      <td>132</td>\n",
       "    </tr>\n",
       "    <tr>\n",
       "      <th>690</th>\n",
       "      <td>Кутузовский проспект</td>\n",
       "      <td>114</td>\n",
       "    </tr>\n",
       "    <tr>\n",
       "      <th>615</th>\n",
       "      <td>Каширское шоссе</td>\n",
       "      <td>112</td>\n",
       "    </tr>\n",
       "    <tr>\n",
       "      <th>621</th>\n",
       "      <td>Кировоградская улица</td>\n",
       "      <td>110</td>\n",
       "    </tr>\n",
       "  </tbody>\n",
       "</table>\n",
       "</div>"
      ],
      "text/plain": [
       "                  streetname  total\n",
       "1459           проспект Мира    204\n",
       "1022       Профсоюзная улица    183\n",
       "700   Ленинградский проспект    173\n",
       "1008  Пресненская набережная    167\n",
       "417         Варшавское шоссе    165\n",
       "703       Ленинский проспект    148\n",
       "1455    проспект Вернадского    132\n",
       "690     Кутузовский проспект    114\n",
       "615          Каширское шоссе    112\n",
       "621     Кировоградская улица    110"
      ]
     },
     "execution_count": 15,
     "metadata": {},
     "output_type": "execute_result"
    }
   ],
   "source": [
    "df_top_streets = df.groupby('street').agg({'id':'count'}).reset_index().rename(columns={'street':'streetname', 'id':'total'})\\\n",
    "                                                            .sort_values(by='total', ascending = False)\n",
    "display(df_top_streets.head(10))\n",
    "\n",
    "df_top_streets = df_top_streets.query('streetname != \"город Зеленоград\"')\n",
    "df_top_streets.head(10)"
   ]
  },
  {
   "cell_type": "markdown",
   "metadata": {},
   "source": [
    "Территориально все улицы из Топ-10 находятся в пределах МКАДа. Для определения наиболее востребованных районов загрузим дополнительную информацию из стороннего источника и сравним районы по нашему Топ-10."
   ]
  },
  {
   "cell_type": "code",
   "execution_count": 16,
   "metadata": {},
   "outputs": [
    {
     "data": {
      "text/html": [
       "<div>\n",
       "<style scoped>\n",
       "    .dataframe tbody tr th:only-of-type {\n",
       "        vertical-align: middle;\n",
       "    }\n",
       "\n",
       "    .dataframe tbody tr th {\n",
       "        vertical-align: top;\n",
       "    }\n",
       "\n",
       "    .dataframe thead th {\n",
       "        text-align: right;\n",
       "    }\n",
       "</style>\n",
       "<table border=\"1\" class=\"dataframe\">\n",
       "  <thead>\n",
       "    <tr style=\"text-align: right;\">\n",
       "      <th></th>\n",
       "      <th>streetname</th>\n",
       "      <th>areaid</th>\n",
       "      <th>okrug</th>\n",
       "      <th>area</th>\n",
       "    </tr>\n",
       "  </thead>\n",
       "  <tbody>\n",
       "    <tr>\n",
       "      <th>0</th>\n",
       "      <td>Выставочный переулок</td>\n",
       "      <td>17</td>\n",
       "      <td>ЦАО</td>\n",
       "      <td>Пресненский район</td>\n",
       "    </tr>\n",
       "    <tr>\n",
       "      <th>1</th>\n",
       "      <td>улица Гашека</td>\n",
       "      <td>17</td>\n",
       "      <td>ЦАО</td>\n",
       "      <td>Пресненский район</td>\n",
       "    </tr>\n",
       "    <tr>\n",
       "      <th>2</th>\n",
       "      <td>Большая Никитская улица</td>\n",
       "      <td>17</td>\n",
       "      <td>ЦАО</td>\n",
       "      <td>Пресненский район</td>\n",
       "    </tr>\n",
       "    <tr>\n",
       "      <th>3</th>\n",
       "      <td>Глубокий переулок</td>\n",
       "      <td>17</td>\n",
       "      <td>ЦАО</td>\n",
       "      <td>Пресненский район</td>\n",
       "    </tr>\n",
       "    <tr>\n",
       "      <th>4</th>\n",
       "      <td>Большой Гнездниковский переулок</td>\n",
       "      <td>17</td>\n",
       "      <td>ЦАО</td>\n",
       "      <td>Пресненский район</td>\n",
       "    </tr>\n",
       "  </tbody>\n",
       "</table>\n",
       "</div>"
      ],
      "text/plain": [
       "                        streetname  areaid okrug               area\n",
       "0             Выставочный переулок      17   ЦАО  Пресненский район\n",
       "1                     улица Гашека      17   ЦАО  Пресненский район\n",
       "2          Большая Никитская улица      17   ЦАО  Пресненский район\n",
       "3                Глубокий переулок      17   ЦАО  Пресненский район\n",
       "4  Большой Гнездниковский переулок      17   ЦАО  Пресненский район"
      ]
     },
     "execution_count": 16,
     "metadata": {},
     "output_type": "execute_result"
    }
   ],
   "source": [
    "#загружаем датасет с районами Москвы\n",
    "spreadsheet_id = '1mkAFTcEN_mGy7iBEZXzDSUAMm32FHfU1E3J2VCQXb0Y'\n",
    "file_name = 'https://docs.google.com/spreadsheets/d/{}/export?format=csv'.format(spreadsheet_id)\n",
    "r = requests.get(file_name)\n",
    "mosgaz = pd.read_csv(BytesIO(r.content))\n",
    "mosgaz.head()"
   ]
  },
  {
   "cell_type": "code",
   "execution_count": 17,
   "metadata": {},
   "outputs": [],
   "source": [
    "#объединяем таблицы\n",
    "df_top_streets_area = df_top_streets.merge(mosgaz, on='streetname', how='left')"
   ]
  },
  {
   "cell_type": "code",
   "execution_count": 18,
   "metadata": {},
   "outputs": [
    {
     "data": {
      "text/html": [
       "<div>\n",
       "<style scoped>\n",
       "    .dataframe tbody tr th:only-of-type {\n",
       "        vertical-align: middle;\n",
       "    }\n",
       "\n",
       "    .dataframe tbody tr th {\n",
       "        vertical-align: top;\n",
       "    }\n",
       "\n",
       "    .dataframe thead th {\n",
       "        text-align: right;\n",
       "    }\n",
       "</style>\n",
       "<table border=\"1\" class=\"dataframe\">\n",
       "  <thead>\n",
       "    <tr style=\"text-align: right;\">\n",
       "      <th></th>\n",
       "      <th>streetname</th>\n",
       "      <th>total</th>\n",
       "      <th>areaid</th>\n",
       "      <th>okrug</th>\n",
       "      <th>area</th>\n",
       "    </tr>\n",
       "  </thead>\n",
       "  <tbody>\n",
       "    <tr>\n",
       "      <th>0</th>\n",
       "      <td>проспект Мира</td>\n",
       "      <td>204</td>\n",
       "      <td>70.0</td>\n",
       "      <td>СВАО</td>\n",
       "      <td>Алексеевский район</td>\n",
       "    </tr>\n",
       "    <tr>\n",
       "      <th>1</th>\n",
       "      <td>проспект Мира</td>\n",
       "      <td>204</td>\n",
       "      <td>86.0</td>\n",
       "      <td>СВАО</td>\n",
       "      <td>Ярославский Район</td>\n",
       "    </tr>\n",
       "    <tr>\n",
       "      <th>2</th>\n",
       "      <td>проспект Мира</td>\n",
       "      <td>204</td>\n",
       "      <td>78.0</td>\n",
       "      <td>СВАО</td>\n",
       "      <td>Район Марьина роща</td>\n",
       "    </tr>\n",
       "    <tr>\n",
       "      <th>3</th>\n",
       "      <td>проспект Мира</td>\n",
       "      <td>204</td>\n",
       "      <td>79.0</td>\n",
       "      <td>СВАО</td>\n",
       "      <td>Останкинский район</td>\n",
       "    </tr>\n",
       "    <tr>\n",
       "      <th>4</th>\n",
       "      <td>проспект Мира</td>\n",
       "      <td>204</td>\n",
       "      <td>81.0</td>\n",
       "      <td>СВАО</td>\n",
       "      <td>Район Ростокино</td>\n",
       "    </tr>\n",
       "    <tr>\n",
       "      <th>5</th>\n",
       "      <td>проспект Мира</td>\n",
       "      <td>204</td>\n",
       "      <td>82.0</td>\n",
       "      <td>СВАО</td>\n",
       "      <td>Район Свиблово</td>\n",
       "    </tr>\n",
       "    <tr>\n",
       "      <th>6</th>\n",
       "      <td>проспект Мира</td>\n",
       "      <td>204</td>\n",
       "      <td>16.0</td>\n",
       "      <td>ЦАО</td>\n",
       "      <td>Мещанский район</td>\n",
       "    </tr>\n",
       "    <tr>\n",
       "      <th>7</th>\n",
       "      <td>Профсоюзная улица</td>\n",
       "      <td>183</td>\n",
       "      <td>123.0</td>\n",
       "      <td>ЮЗАО</td>\n",
       "      <td>Академический район</td>\n",
       "    </tr>\n",
       "    <tr>\n",
       "      <th>8</th>\n",
       "      <td>Профсоюзная улица</td>\n",
       "      <td>183</td>\n",
       "      <td>132.0</td>\n",
       "      <td>ЮЗАО</td>\n",
       "      <td>Район Черемушки</td>\n",
       "    </tr>\n",
       "    <tr>\n",
       "      <th>9</th>\n",
       "      <td>Профсоюзная улица</td>\n",
       "      <td>183</td>\n",
       "      <td>134.0</td>\n",
       "      <td>ЮЗАО</td>\n",
       "      <td>Район Ясенево</td>\n",
       "    </tr>\n",
       "    <tr>\n",
       "      <th>10</th>\n",
       "      <td>Профсоюзная улица</td>\n",
       "      <td>183</td>\n",
       "      <td>126.0</td>\n",
       "      <td>ЮЗАО</td>\n",
       "      <td>Район Коньково</td>\n",
       "    </tr>\n",
       "    <tr>\n",
       "      <th>11</th>\n",
       "      <td>Профсоюзная улица</td>\n",
       "      <td>183</td>\n",
       "      <td>129.0</td>\n",
       "      <td>ЮЗАО</td>\n",
       "      <td>Обручевский район</td>\n",
       "    </tr>\n",
       "    <tr>\n",
       "      <th>12</th>\n",
       "      <td>Профсоюзная улица</td>\n",
       "      <td>183</td>\n",
       "      <td>131.0</td>\n",
       "      <td>ЮЗАО</td>\n",
       "      <td>Район Теплый Стан</td>\n",
       "    </tr>\n",
       "    <tr>\n",
       "      <th>13</th>\n",
       "      <td>Ленинградский проспект</td>\n",
       "      <td>173</td>\n",
       "      <td>54.0</td>\n",
       "      <td>САО</td>\n",
       "      <td>Район Аэропорт</td>\n",
       "    </tr>\n",
       "    <tr>\n",
       "      <th>14</th>\n",
       "      <td>Ленинградский проспект</td>\n",
       "      <td>173</td>\n",
       "      <td>55.0</td>\n",
       "      <td>САО</td>\n",
       "      <td>Район Беговой</td>\n",
       "    </tr>\n",
       "    <tr>\n",
       "      <th>15</th>\n",
       "      <td>Ленинградский проспект</td>\n",
       "      <td>173</td>\n",
       "      <td>69.0</td>\n",
       "      <td>САО</td>\n",
       "      <td>Хорошевский район</td>\n",
       "    </tr>\n",
       "    <tr>\n",
       "      <th>16</th>\n",
       "      <td>Ленинградский проспект</td>\n",
       "      <td>173</td>\n",
       "      <td>66.0</td>\n",
       "      <td>САО</td>\n",
       "      <td>Район Сокол</td>\n",
       "    </tr>\n",
       "    <tr>\n",
       "      <th>17</th>\n",
       "      <td>Пресненская набережная</td>\n",
       "      <td>167</td>\n",
       "      <td>17.0</td>\n",
       "      <td>ЦАО</td>\n",
       "      <td>Пресненский район</td>\n",
       "    </tr>\n",
       "    <tr>\n",
       "      <th>18</th>\n",
       "      <td>Варшавское шоссе</td>\n",
       "      <td>165</td>\n",
       "      <td>109.0</td>\n",
       "      <td>ЮАО</td>\n",
       "      <td>Район Чертаново Центральное</td>\n",
       "    </tr>\n",
       "    <tr>\n",
       "      <th>19</th>\n",
       "      <td>Варшавское шоссе</td>\n",
       "      <td>165</td>\n",
       "      <td>108.0</td>\n",
       "      <td>ЮАО</td>\n",
       "      <td>Район Чертаново Северное</td>\n",
       "    </tr>\n",
       "    <tr>\n",
       "      <th>20</th>\n",
       "      <td>Варшавское шоссе</td>\n",
       "      <td>165</td>\n",
       "      <td>110.0</td>\n",
       "      <td>ЮАО</td>\n",
       "      <td>Район Чертаново Южное</td>\n",
       "    </tr>\n",
       "    <tr>\n",
       "      <th>21</th>\n",
       "      <td>Варшавское шоссе</td>\n",
       "      <td>165</td>\n",
       "      <td>99.0</td>\n",
       "      <td>ЮАО</td>\n",
       "      <td>Донской район</td>\n",
       "    </tr>\n",
       "    <tr>\n",
       "      <th>22</th>\n",
       "      <td>Варшавское шоссе</td>\n",
       "      <td>165</td>\n",
       "      <td>102.0</td>\n",
       "      <td>ЮАО</td>\n",
       "      <td>Район Нагатино-Садовники</td>\n",
       "    </tr>\n",
       "    <tr>\n",
       "      <th>23</th>\n",
       "      <td>Варшавское шоссе</td>\n",
       "      <td>165</td>\n",
       "      <td>104.0</td>\n",
       "      <td>ЮАО</td>\n",
       "      <td>Нагорный район</td>\n",
       "    </tr>\n",
       "    <tr>\n",
       "      <th>24</th>\n",
       "      <td>Варшавское шоссе</td>\n",
       "      <td>165</td>\n",
       "      <td>130.0</td>\n",
       "      <td>ЮЗАО</td>\n",
       "      <td>Район Северное Бутово</td>\n",
       "    </tr>\n",
       "    <tr>\n",
       "      <th>25</th>\n",
       "      <td>Варшавское шоссе</td>\n",
       "      <td>165</td>\n",
       "      <td>133.0</td>\n",
       "      <td>ЮЗАО</td>\n",
       "      <td>Район Южное Бутово</td>\n",
       "    </tr>\n",
       "    <tr>\n",
       "      <th>26</th>\n",
       "      <td>Ленинский проспект</td>\n",
       "      <td>148</td>\n",
       "      <td>44.0</td>\n",
       "      <td>ЗАО</td>\n",
       "      <td>Район Проспект Вернадского</td>\n",
       "    </tr>\n",
       "    <tr>\n",
       "      <th>27</th>\n",
       "      <td>Ленинский проспект</td>\n",
       "      <td>148</td>\n",
       "      <td>47.0</td>\n",
       "      <td>ЗАО</td>\n",
       "      <td>Район Тропарево-Никулино</td>\n",
       "    </tr>\n",
       "    <tr>\n",
       "      <th>28</th>\n",
       "      <td>Ленинский проспект</td>\n",
       "      <td>148</td>\n",
       "      <td>99.0</td>\n",
       "      <td>ЮАО</td>\n",
       "      <td>Донской район</td>\n",
       "    </tr>\n",
       "    <tr>\n",
       "      <th>29</th>\n",
       "      <td>Ленинский проспект</td>\n",
       "      <td>148</td>\n",
       "      <td>124.0</td>\n",
       "      <td>ЮЗАО</td>\n",
       "      <td>Район Гагаринский</td>\n",
       "    </tr>\n",
       "    <tr>\n",
       "      <th>30</th>\n",
       "      <td>Ленинский проспект</td>\n",
       "      <td>148</td>\n",
       "      <td>128.0</td>\n",
       "      <td>ЮЗАО</td>\n",
       "      <td>Ломоносовский район</td>\n",
       "    </tr>\n",
       "    <tr>\n",
       "      <th>31</th>\n",
       "      <td>Ленинский проспект</td>\n",
       "      <td>148</td>\n",
       "      <td>129.0</td>\n",
       "      <td>ЮЗАО</td>\n",
       "      <td>Обручевский район</td>\n",
       "    </tr>\n",
       "    <tr>\n",
       "      <th>32</th>\n",
       "      <td>Ленинский проспект</td>\n",
       "      <td>148</td>\n",
       "      <td>131.0</td>\n",
       "      <td>ЮЗАО</td>\n",
       "      <td>Район Теплый Стан</td>\n",
       "    </tr>\n",
       "    <tr>\n",
       "      <th>33</th>\n",
       "      <td>Ленинский проспект</td>\n",
       "      <td>148</td>\n",
       "      <td>21.0</td>\n",
       "      <td>ЦАО</td>\n",
       "      <td>Район Якиманка</td>\n",
       "    </tr>\n",
       "    <tr>\n",
       "      <th>34</th>\n",
       "      <td>проспект Вернадского</td>\n",
       "      <td>132</td>\n",
       "      <td>44.0</td>\n",
       "      <td>ЗАО</td>\n",
       "      <td>Район Проспект Вернадского</td>\n",
       "    </tr>\n",
       "    <tr>\n",
       "      <th>35</th>\n",
       "      <td>проспект Вернадского</td>\n",
       "      <td>132</td>\n",
       "      <td>45.0</td>\n",
       "      <td>ЗАО</td>\n",
       "      <td>Район Раменки</td>\n",
       "    </tr>\n",
       "    <tr>\n",
       "      <th>36</th>\n",
       "      <td>проспект Вернадского</td>\n",
       "      <td>132</td>\n",
       "      <td>47.0</td>\n",
       "      <td>ЗАО</td>\n",
       "      <td>Район Тропарево-Никулино</td>\n",
       "    </tr>\n",
       "    <tr>\n",
       "      <th>37</th>\n",
       "      <td>проспект Вернадского</td>\n",
       "      <td>132</td>\n",
       "      <td>124.0</td>\n",
       "      <td>ЮЗАО</td>\n",
       "      <td>Район Гагаринский</td>\n",
       "    </tr>\n",
       "    <tr>\n",
       "      <th>38</th>\n",
       "      <td>проспект Вернадского</td>\n",
       "      <td>132</td>\n",
       "      <td>128.0</td>\n",
       "      <td>ЮЗАО</td>\n",
       "      <td>Ломоносовский район</td>\n",
       "    </tr>\n",
       "    <tr>\n",
       "      <th>39</th>\n",
       "      <td>Кутузовский проспект</td>\n",
       "      <td>114</td>\n",
       "      <td>38.0</td>\n",
       "      <td>ЗАО</td>\n",
       "      <td>Район Дорогомилово</td>\n",
       "    </tr>\n",
       "    <tr>\n",
       "      <th>40</th>\n",
       "      <td>Кутузовский проспект</td>\n",
       "      <td>114</td>\n",
       "      <td>49.0</td>\n",
       "      <td>ЗАО</td>\n",
       "      <td>Район Фили-Давыдково</td>\n",
       "    </tr>\n",
       "    <tr>\n",
       "      <th>41</th>\n",
       "      <td>Каширское шоссе</td>\n",
       "      <td>112</td>\n",
       "      <td>101.0</td>\n",
       "      <td>ЮАО</td>\n",
       "      <td>Район Москворечье-Сабурово</td>\n",
       "    </tr>\n",
       "    <tr>\n",
       "      <th>42</th>\n",
       "      <td>Каширское шоссе</td>\n",
       "      <td>112</td>\n",
       "      <td>102.0</td>\n",
       "      <td>ЮАО</td>\n",
       "      <td>Район Нагатино-Садовники</td>\n",
       "    </tr>\n",
       "    <tr>\n",
       "      <th>43</th>\n",
       "      <td>Каширское шоссе</td>\n",
       "      <td>112</td>\n",
       "      <td>106.0</td>\n",
       "      <td>ЮАО</td>\n",
       "      <td>Район Орехово-Борисово Южное</td>\n",
       "    </tr>\n",
       "    <tr>\n",
       "      <th>44</th>\n",
       "      <td>Каширское шоссе</td>\n",
       "      <td>112</td>\n",
       "      <td>105.0</td>\n",
       "      <td>ЮАО</td>\n",
       "      <td>Район Орехово-Борисово Северное</td>\n",
       "    </tr>\n",
       "    <tr>\n",
       "      <th>45</th>\n",
       "      <td>Кировоградская улица</td>\n",
       "      <td>110</td>\n",
       "      <td>109.0</td>\n",
       "      <td>ЮАО</td>\n",
       "      <td>Район Чертаново Центральное</td>\n",
       "    </tr>\n",
       "    <tr>\n",
       "      <th>46</th>\n",
       "      <td>Кировоградская улица</td>\n",
       "      <td>110</td>\n",
       "      <td>108.0</td>\n",
       "      <td>ЮАО</td>\n",
       "      <td>Район Чертаново Северное</td>\n",
       "    </tr>\n",
       "    <tr>\n",
       "      <th>47</th>\n",
       "      <td>Кировоградская улица</td>\n",
       "      <td>110</td>\n",
       "      <td>110.0</td>\n",
       "      <td>ЮАО</td>\n",
       "      <td>Район Чертаново Южное</td>\n",
       "    </tr>\n",
       "  </tbody>\n",
       "</table>\n",
       "</div>"
      ],
      "text/plain": [
       "                streetname  total  areaid okrug  \\\n",
       "0            проспект Мира    204    70.0  СВАО   \n",
       "1            проспект Мира    204    86.0  СВАО   \n",
       "2            проспект Мира    204    78.0  СВАО   \n",
       "3            проспект Мира    204    79.0  СВАО   \n",
       "4            проспект Мира    204    81.0  СВАО   \n",
       "5            проспект Мира    204    82.0  СВАО   \n",
       "6            проспект Мира    204    16.0   ЦАО   \n",
       "7        Профсоюзная улица    183   123.0  ЮЗАО   \n",
       "8        Профсоюзная улица    183   132.0  ЮЗАО   \n",
       "9        Профсоюзная улица    183   134.0  ЮЗАО   \n",
       "10       Профсоюзная улица    183   126.0  ЮЗАО   \n",
       "11       Профсоюзная улица    183   129.0  ЮЗАО   \n",
       "12       Профсоюзная улица    183   131.0  ЮЗАО   \n",
       "13  Ленинградский проспект    173    54.0   САО   \n",
       "14  Ленинградский проспект    173    55.0   САО   \n",
       "15  Ленинградский проспект    173    69.0   САО   \n",
       "16  Ленинградский проспект    173    66.0   САО   \n",
       "17  Пресненская набережная    167    17.0   ЦАО   \n",
       "18        Варшавское шоссе    165   109.0   ЮАО   \n",
       "19        Варшавское шоссе    165   108.0   ЮАО   \n",
       "20        Варшавское шоссе    165   110.0   ЮАО   \n",
       "21        Варшавское шоссе    165    99.0   ЮАО   \n",
       "22        Варшавское шоссе    165   102.0   ЮАО   \n",
       "23        Варшавское шоссе    165   104.0   ЮАО   \n",
       "24        Варшавское шоссе    165   130.0  ЮЗАО   \n",
       "25        Варшавское шоссе    165   133.0  ЮЗАО   \n",
       "26      Ленинский проспект    148    44.0   ЗАО   \n",
       "27      Ленинский проспект    148    47.0   ЗАО   \n",
       "28      Ленинский проспект    148    99.0   ЮАО   \n",
       "29      Ленинский проспект    148   124.0  ЮЗАО   \n",
       "30      Ленинский проспект    148   128.0  ЮЗАО   \n",
       "31      Ленинский проспект    148   129.0  ЮЗАО   \n",
       "32      Ленинский проспект    148   131.0  ЮЗАО   \n",
       "33      Ленинский проспект    148    21.0   ЦАО   \n",
       "34    проспект Вернадского    132    44.0   ЗАО   \n",
       "35    проспект Вернадского    132    45.0   ЗАО   \n",
       "36    проспект Вернадского    132    47.0   ЗАО   \n",
       "37    проспект Вернадского    132   124.0  ЮЗАО   \n",
       "38    проспект Вернадского    132   128.0  ЮЗАО   \n",
       "39    Кутузовский проспект    114    38.0   ЗАО   \n",
       "40    Кутузовский проспект    114    49.0   ЗАО   \n",
       "41         Каширское шоссе    112   101.0   ЮАО   \n",
       "42         Каширское шоссе    112   102.0   ЮАО   \n",
       "43         Каширское шоссе    112   106.0   ЮАО   \n",
       "44         Каширское шоссе    112   105.0   ЮАО   \n",
       "45    Кировоградская улица    110   109.0   ЮАО   \n",
       "46    Кировоградская улица    110   108.0   ЮАО   \n",
       "47    Кировоградская улица    110   110.0   ЮАО   \n",
       "\n",
       "                               area  \n",
       "0                Алексеевский район  \n",
       "1                 Ярославский Район  \n",
       "2                Район Марьина роща  \n",
       "3                Останкинский район  \n",
       "4                   Район Ростокино  \n",
       "5                    Район Свиблово  \n",
       "6                   Мещанский район  \n",
       "7               Академический район  \n",
       "8                   Район Черемушки  \n",
       "9                     Район Ясенево  \n",
       "10                   Район Коньково  \n",
       "11                Обручевский район  \n",
       "12                Район Теплый Стан  \n",
       "13                   Район Аэропорт  \n",
       "14                    Район Беговой  \n",
       "15                Хорошевский район  \n",
       "16                      Район Сокол  \n",
       "17                Пресненский район  \n",
       "18      Район Чертаново Центральное  \n",
       "19         Район Чертаново Северное  \n",
       "20            Район Чертаново Южное  \n",
       "21                    Донской район  \n",
       "22         Район Нагатино-Садовники  \n",
       "23                   Нагорный район  \n",
       "24            Район Северное Бутово  \n",
       "25               Район Южное Бутово  \n",
       "26       Район Проспект Вернадского  \n",
       "27         Район Тропарево-Никулино  \n",
       "28                    Донской район  \n",
       "29                Район Гагаринский  \n",
       "30              Ломоносовский район  \n",
       "31                Обручевский район  \n",
       "32                Район Теплый Стан  \n",
       "33                   Район Якиманка  \n",
       "34       Район Проспект Вернадского  \n",
       "35                    Район Раменки  \n",
       "36         Район Тропарево-Никулино  \n",
       "37                Район Гагаринский  \n",
       "38              Ломоносовский район  \n",
       "39               Район Дорогомилово  \n",
       "40             Район Фили-Давыдково  \n",
       "41       Район Москворечье-Сабурово  \n",
       "42         Район Нагатино-Садовники  \n",
       "43     Район Орехово-Борисово Южное  \n",
       "44  Район Орехово-Борисово Северное  \n",
       "45      Район Чертаново Центральное  \n",
       "46         Район Чертаново Северное  \n",
       "47            Район Чертаново Южное  "
      ]
     },
     "execution_count": 18,
     "metadata": {},
     "output_type": "execute_result"
    }
   ],
   "source": [
    "#получаем полный список районов, через которые проходят улицы из Топ-10\n",
    "df_top_streets_area.head(48)"
   ]
  },
  {
   "cell_type": "code",
   "execution_count": 19,
   "metadata": {},
   "outputs": [
    {
     "data": {
      "text/html": [
       "<div>\n",
       "<style scoped>\n",
       "    .dataframe tbody tr th:only-of-type {\n",
       "        vertical-align: middle;\n",
       "    }\n",
       "\n",
       "    .dataframe tbody tr th {\n",
       "        vertical-align: top;\n",
       "    }\n",
       "\n",
       "    .dataframe thead th {\n",
       "        text-align: right;\n",
       "    }\n",
       "</style>\n",
       "<table border=\"1\" class=\"dataframe\">\n",
       "  <thead>\n",
       "    <tr style=\"text-align: right;\">\n",
       "      <th></th>\n",
       "      <th>streetname</th>\n",
       "    </tr>\n",
       "    <tr>\n",
       "      <th>area</th>\n",
       "      <th></th>\n",
       "    </tr>\n",
       "  </thead>\n",
       "  <tbody>\n",
       "    <tr>\n",
       "      <th>Район Чертаново Центральное</th>\n",
       "      <td>2</td>\n",
       "    </tr>\n",
       "    <tr>\n",
       "      <th>Донской район</th>\n",
       "      <td>2</td>\n",
       "    </tr>\n",
       "    <tr>\n",
       "      <th>Ломоносовский район</th>\n",
       "      <td>2</td>\n",
       "    </tr>\n",
       "    <tr>\n",
       "      <th>Район Проспект Вернадского</th>\n",
       "      <td>2</td>\n",
       "    </tr>\n",
       "    <tr>\n",
       "      <th>Обручевский район</th>\n",
       "      <td>2</td>\n",
       "    </tr>\n",
       "    <tr>\n",
       "      <th>Район Теплый Стан</th>\n",
       "      <td>2</td>\n",
       "    </tr>\n",
       "    <tr>\n",
       "      <th>Район Нагатино-Садовники</th>\n",
       "      <td>2</td>\n",
       "    </tr>\n",
       "    <tr>\n",
       "      <th>Район Чертаново Южное</th>\n",
       "      <td>2</td>\n",
       "    </tr>\n",
       "    <tr>\n",
       "      <th>Район Тропарево-Никулино</th>\n",
       "      <td>2</td>\n",
       "    </tr>\n",
       "    <tr>\n",
       "      <th>Район Гагаринский</th>\n",
       "      <td>2</td>\n",
       "    </tr>\n",
       "    <tr>\n",
       "      <th>Район Чертаново Северное</th>\n",
       "      <td>2</td>\n",
       "    </tr>\n",
       "    <tr>\n",
       "      <th>Район Фили-Давыдково</th>\n",
       "      <td>1</td>\n",
       "    </tr>\n",
       "    <tr>\n",
       "      <th>Район Сокол</th>\n",
       "      <td>1</td>\n",
       "    </tr>\n",
       "    <tr>\n",
       "      <th>Академический район</th>\n",
       "      <td>1</td>\n",
       "    </tr>\n",
       "    <tr>\n",
       "      <th>Район Черемушки</th>\n",
       "      <td>1</td>\n",
       "    </tr>\n",
       "    <tr>\n",
       "      <th>Район Свиблово</th>\n",
       "      <td>1</td>\n",
       "    </tr>\n",
       "    <tr>\n",
       "      <th>Район Южное Бутово</th>\n",
       "      <td>1</td>\n",
       "    </tr>\n",
       "    <tr>\n",
       "      <th>Район Якиманка</th>\n",
       "      <td>1</td>\n",
       "    </tr>\n",
       "    <tr>\n",
       "      <th>Район Ясенево</th>\n",
       "      <td>1</td>\n",
       "    </tr>\n",
       "    <tr>\n",
       "      <th>Хорошевский район</th>\n",
       "      <td>1</td>\n",
       "    </tr>\n",
       "    <tr>\n",
       "      <th>Район Северное Бутово</th>\n",
       "      <td>1</td>\n",
       "    </tr>\n",
       "    <tr>\n",
       "      <th>Район Орехово-Борисово Южное</th>\n",
       "      <td>1</td>\n",
       "    </tr>\n",
       "    <tr>\n",
       "      <th>Район Ростокино</th>\n",
       "      <td>1</td>\n",
       "    </tr>\n",
       "    <tr>\n",
       "      <th>Район Раменки</th>\n",
       "      <td>1</td>\n",
       "    </tr>\n",
       "    <tr>\n",
       "      <th>Алексеевский район</th>\n",
       "      <td>1</td>\n",
       "    </tr>\n",
       "    <tr>\n",
       "      <th>Район Орехово-Борисово Северное</th>\n",
       "      <td>1</td>\n",
       "    </tr>\n",
       "    <tr>\n",
       "      <th>Район Москворечье-Сабурово</th>\n",
       "      <td>1</td>\n",
       "    </tr>\n",
       "    <tr>\n",
       "      <th>Район Марьина роща</th>\n",
       "      <td>1</td>\n",
       "    </tr>\n",
       "    <tr>\n",
       "      <th>Район Коньково</th>\n",
       "      <td>1</td>\n",
       "    </tr>\n",
       "    <tr>\n",
       "      <th>Район Дорогомилово</th>\n",
       "      <td>1</td>\n",
       "    </tr>\n",
       "    <tr>\n",
       "      <th>Район Беговой</th>\n",
       "      <td>1</td>\n",
       "    </tr>\n",
       "    <tr>\n",
       "      <th>Район Аэропорт</th>\n",
       "      <td>1</td>\n",
       "    </tr>\n",
       "    <tr>\n",
       "      <th>Пресненский район</th>\n",
       "      <td>1</td>\n",
       "    </tr>\n",
       "    <tr>\n",
       "      <th>Останкинский район</th>\n",
       "      <td>1</td>\n",
       "    </tr>\n",
       "    <tr>\n",
       "      <th>Нагорный район</th>\n",
       "      <td>1</td>\n",
       "    </tr>\n",
       "    <tr>\n",
       "      <th>Мещанский район</th>\n",
       "      <td>1</td>\n",
       "    </tr>\n",
       "    <tr>\n",
       "      <th>Ярославский Район</th>\n",
       "      <td>1</td>\n",
       "    </tr>\n",
       "  </tbody>\n",
       "</table>\n",
       "</div>"
      ],
      "text/plain": [
       "                                 streetname\n",
       "area                                       \n",
       "Район Чертаново Центральное               2\n",
       "Донской район                             2\n",
       "Ломоносовский район                       2\n",
       "Район Проспект Вернадского                2\n",
       "Обручевский район                         2\n",
       "Район Теплый Стан                         2\n",
       "Район Нагатино-Садовники                  2\n",
       "Район Чертаново Южное                     2\n",
       "Район Тропарево-Никулино                  2\n",
       "Район Гагаринский                         2\n",
       "Район Чертаново Северное                  2\n",
       "Район Фили-Давыдково                      1\n",
       "Район Сокол                               1\n",
       "Академический район                       1\n",
       "Район Черемушки                           1\n",
       "Район Свиблово                            1\n",
       "Район Южное Бутово                        1\n",
       "Район Якиманка                            1\n",
       "Район Ясенево                             1\n",
       "Хорошевский район                         1\n",
       "Район Северное Бутово                     1\n",
       "Район Орехово-Борисово Южное              1\n",
       "Район Ростокино                           1\n",
       "Район Раменки                             1\n",
       "Алексеевский район                        1\n",
       "Район Орехово-Борисово Северное           1\n",
       "Район Москворечье-Сабурово                1\n",
       "Район Марьина роща                        1\n",
       "Район Коньково                            1\n",
       "Район Дорогомилово                        1\n",
       "Район Беговой                             1\n",
       "Район Аэропорт                            1\n",
       "Пресненский район                         1\n",
       "Останкинский район                        1\n",
       "Нагорный район                            1\n",
       "Мещанский район                           1\n",
       "Ярославский Район                         1"
      ]
     },
     "execution_count": 19,
     "metadata": {},
     "output_type": "execute_result"
    }
   ],
   "source": [
    "#находим районы-лидеры по наиболее востребованным улицам\n",
    "top_10 = ['проспект Мира', 'Профсоюзная улица', 'Ленинградский проспект', 'Пресненская набережная',\n",
    "         'Варшавское шоссе', 'Ленинский проспект', 'проспект Вернадского', 'Кутузовский проспект',\n",
    "         'Каширское шоссе', 'Кировоградская улица']\n",
    "df_top_streets_area.query('streetname in @top_10').groupby('area').agg({'streetname':'count'})\\\n",
    "                                                            .sort_values(by='streetname', ascending=False)"
   ]
  },
  {
   "cell_type": "markdown",
   "metadata": {},
   "source": [
    "Таким образом, мы получили 11 районов Москвы, где расположено больше всего объектов общественного питания:\n",
    "\n",
    "        Район Чертаново Центральное\n",
    "        Донской район\n",
    "        Ломоносовский район\n",
    "        Район Проспект Вернадского\n",
    "        Обручевский район\n",
    "        Район Теплый Стан\n",
    "        Район Нагатино-Садовники\n",
    "        Район Чертаново Южное\n",
    "        Район Тропарево-Никулино\n",
    "        Район Гагаринский\n",
    "        Район Чертаново Северное"
   ]
  },
  {
   "cell_type": "markdown",
   "metadata": {},
   "source": [
    "### Число улиц с одним объектом общественного питания"
   ]
  },
  {
   "cell_type": "code",
   "execution_count": 20,
   "metadata": {},
   "outputs": [
    {
     "name": "stdout",
     "output_type": "stream",
     "text": [
      "Количество улиц с одним объектом общепита: 620\n"
     ]
    }
   ],
   "source": [
    "df_min_streets_area = df_top_streets_area.query('total == 1')\n",
    "print(f'Количество улиц с одним объектом общепита: {len(df_min_streets_area)}')"
   ]
  },
  {
   "cell_type": "code",
   "execution_count": 21,
   "metadata": {},
   "outputs": [
    {
     "data": {
      "text/html": [
       "<div>\n",
       "<style scoped>\n",
       "    .dataframe tbody tr th:only-of-type {\n",
       "        vertical-align: middle;\n",
       "    }\n",
       "\n",
       "    .dataframe tbody tr th {\n",
       "        vertical-align: top;\n",
       "    }\n",
       "\n",
       "    .dataframe thead th {\n",
       "        text-align: right;\n",
       "    }\n",
       "</style>\n",
       "<table border=\"1\" class=\"dataframe\">\n",
       "  <thead>\n",
       "    <tr style=\"text-align: right;\">\n",
       "      <th></th>\n",
       "      <th>streetname</th>\n",
       "    </tr>\n",
       "    <tr>\n",
       "      <th>area</th>\n",
       "      <th></th>\n",
       "    </tr>\n",
       "  </thead>\n",
       "  <tbody>\n",
       "    <tr>\n",
       "      <th>Таганский район</th>\n",
       "      <td>27</td>\n",
       "    </tr>\n",
       "    <tr>\n",
       "      <th>Район Хамовники</th>\n",
       "      <td>26</td>\n",
       "    </tr>\n",
       "    <tr>\n",
       "      <th>Басманный район</th>\n",
       "      <td>25</td>\n",
       "    </tr>\n",
       "    <tr>\n",
       "      <th>Тверской район</th>\n",
       "      <td>20</td>\n",
       "    </tr>\n",
       "    <tr>\n",
       "      <th>Пресненский район</th>\n",
       "      <td>19</td>\n",
       "    </tr>\n",
       "    <tr>\n",
       "      <th>Район Марьина роща</th>\n",
       "      <td>18</td>\n",
       "    </tr>\n",
       "    <tr>\n",
       "      <th>Район Арбат</th>\n",
       "      <td>17</td>\n",
       "    </tr>\n",
       "    <tr>\n",
       "      <th>Мещанский район</th>\n",
       "      <td>16</td>\n",
       "    </tr>\n",
       "    <tr>\n",
       "      <th>Район Сокольники</th>\n",
       "      <td>15</td>\n",
       "    </tr>\n",
       "    <tr>\n",
       "      <th>Район Замоскворечье</th>\n",
       "      <td>14</td>\n",
       "    </tr>\n",
       "    <tr>\n",
       "      <th>Район Соколиная Гора</th>\n",
       "      <td>12</td>\n",
       "    </tr>\n",
       "    <tr>\n",
       "      <th>Район Лефортово</th>\n",
       "      <td>12</td>\n",
       "    </tr>\n",
       "    <tr>\n",
       "      <th>Даниловский район</th>\n",
       "      <td>11</td>\n",
       "    </tr>\n",
       "    <tr>\n",
       "      <th>Красносельский район</th>\n",
       "      <td>10</td>\n",
       "    </tr>\n",
       "    <tr>\n",
       "      <th>Район Богородское</th>\n",
       "      <td>10</td>\n",
       "    </tr>\n",
       "    <tr>\n",
       "      <th>Район Якиманка</th>\n",
       "      <td>10</td>\n",
       "    </tr>\n",
       "    <tr>\n",
       "      <th>Нижегородский район</th>\n",
       "      <td>9</td>\n",
       "    </tr>\n",
       "    <tr>\n",
       "      <th>Район Внуково</th>\n",
       "      <td>8</td>\n",
       "    </tr>\n",
       "    <tr>\n",
       "      <th>Район Люблино</th>\n",
       "      <td>8</td>\n",
       "    </tr>\n",
       "    <tr>\n",
       "      <th>Можайский Район</th>\n",
       "      <td>8</td>\n",
       "    </tr>\n",
       "  </tbody>\n",
       "</table>\n",
       "</div>"
      ],
      "text/plain": [
       "                      streetname\n",
       "area                            \n",
       "Таганский район               27\n",
       "Район Хамовники               26\n",
       "Басманный район               25\n",
       "Тверской район                20\n",
       "Пресненский район             19\n",
       "Район Марьина роща            18\n",
       "Район Арбат                   17\n",
       "Мещанский район               16\n",
       "Район Сокольники              15\n",
       "Район Замоскворечье           14\n",
       "Район Соколиная Гора          12\n",
       "Район Лефортово               12\n",
       "Даниловский район             11\n",
       "Красносельский район          10\n",
       "Район Богородское             10\n",
       "Район Якиманка                10\n",
       "Нижегородский район            9\n",
       "Район Внуково                  8\n",
       "Район Люблино                  8\n",
       "Можайский Район                8"
      ]
     },
     "execution_count": 21,
     "metadata": {},
     "output_type": "execute_result"
    }
   ],
   "source": [
    "df_min_streets_area.groupby('area').agg({'streetname':'nunique'}).sort_values(by='streetname', ascending=False).head(20)"
   ]
  },
  {
   "cell_type": "markdown",
   "metadata": {},
   "source": [
    "Таким образом, мы получили 16 районов Москвы, где зарегистрировано больше всего единственных предприятий общепита на всю улицу:\n",
    "\n",
    "        Таганский район\n",
    "        Район Хамовники\t\n",
    "        Басманный район\t\n",
    "        Тверской район\t\n",
    "        Пресненский район\t\n",
    "        Район Марьина роща\t\n",
    "        Район Арбат\t\n",
    "        Мещанский район\t\n",
    "        Район Сокольники\t\n",
    "        Район Замоскворечье\t\n",
    "        Район Соколиная Гора\t\n",
    "        Район Лефортово\t\n",
    "        Даниловский район\t\n",
    "        Красносельский район\t\n",
    "        Район Богородское\t\n",
    "        Район Якиманка\t"
   ]
  },
  {
   "cell_type": "markdown",
   "metadata": {},
   "source": [
    "### Распределение количества посадочных мест для улиц с большим количеством объектов общественного питания"
   ]
  },
  {
   "cell_type": "code",
   "execution_count": 22,
   "metadata": {},
   "outputs": [
    {
     "data": {
      "image/png": "[encoded data removed]",
      "text/plain": [
       "<Figure size 1080x360 with 1 Axes>"
      ]
     },
     "metadata": {
      "needs_background": "light"
     },
     "output_type": "display_data"
    }
   ],
   "source": [
    "df_ratio_streets_number = df.query('street in @top_10')\n",
    "\n",
    "plt.figure(figsize=(15, 5))\n",
    "sns.distplot(df_ratio_streets_number['number'], bins=100) \n",
    "plt.title('Распределение посадочных мест для улиц с большим кол-вом объектов общепита')\n",
    "plt.xlabel('Кол-во посадочных мест')    \n",
    "plt.xlim (1, 400);"
   ]
  },
  {
   "cell_type": "markdown",
   "metadata": {},
   "source": [
    "Если оценивать заведения, расположенные в пределах Топ-10 улиц, с точки зрения посадочных мест, то наиболее распространен вариант с кол-вом посадочных мест в пределах 100."
   ]
  },
  {
   "cell_type": "markdown",
   "metadata": {},
   "source": [
    "### Общий вывод "
   ]
  },
  {
   "cell_type": "markdown",
   "metadata": {},
   "source": [
    "**Подведем итоги:**\n",
    "\n",
    "<font color='green'>1) наиболее распространенный вид объектов общественного питания - кафе (почти 40%)</font>\n",
    "\n",
    "Также к числу наиболее распространенных видов объектов общественного питания можно отнести столовые (17%), рестораны (15%) и предприятия быстрого обслуживания (13%).\n",
    "        \n",
    "<font color='green'>2) наиболее популярны несетевые заведения (81%)</font>\n",
    "\n",
    "Большая часть несетевых заведений приходится на кафе. Помимо этого, преимущественно к несетевым относятся столовые, буфеты, бары.\n",
    "\n",
    "Если говорить про сетевые заведения, то это могут быть предприятия быстрого обслуживания, рестораны. Однако велика доля и сетевых кафе.\n",
    "\n",
    "<font color='green'>3) по кол-ву посадочных мест лидером являются столовые: в среднем столовые могут одновременно разместить до 130 гостей</font>\n",
    "\n",
    "На второе место вышли рестораны: здесь одновременно может находиться до 96 посетителей.\n",
    "\n",
    "На третьем месте - буфет со своей способностью разместить 51 гостя.\n",
    "\n",
    "Для кафе характерны небольшие размеры, следовательно, среднее кол-во посадочных мест не превышает 40.\n",
    "\n",
    "<font color='green'>4) по территориальному признаку наиболее распространены заведения в пределах МКАДа</font>\n",
    "\n",
    "Мы получили 11 районов Москвы, где расположено больше всего объектов общественного питания:\n",
    "\n",
    "    Район Чертаново Центральное\n",
    "    Донской район\n",
    "    Ломоносовский район\n",
    "    Район Проспект Вернадского\n",
    "    Обручевский район\n",
    "    Район Теплый Стан\n",
    "    Район Нагатино-Садовники\n",
    "    Район Чертаново Южное\n",
    "    Район Тропарево-Никулино\n",
    "    Район Гагаринский\n",
    "    Район Чертаново Северное\n",
    "Следует учесть, что в этих районах будет высока конкуренция.\n",
    "\n",
    "Также мы получили 16 районов Москвы, где зарегистрировано больше всего единственных предприятий общепита на всю улицу:\n",
    "\n",
    "    Таганский район\n",
    "    Район Хамовники    \n",
    "    Басманный район    \n",
    "    Тверской район    \n",
    "    Пресненский район    \n",
    "    Район Марьина роща    \n",
    "    Район Арбат    \n",
    "    Мещанский район    \n",
    "    Район Сокольники    \n",
    "    Район Замоскворечье    \n",
    "    Район Соколиная Гора    \n",
    "    Район Лефортово    \n",
    "    Даниловский район    \n",
    "    Красносельский район    \n",
    "    Район Богородское    \n",
    "    Район Якиманка \n",
    "В данных районах конкуренция будет минимальной, но стоит также дополнительно учитывать проходимость в данных районах города.\n",
    "\n",
    "**Рекомендации по формату заведения общественного питания:**\n",
    "\n",
    "- По виду заведения: кафе\n",
    "- По кол-ву посадочных мест: в пределах 50\n",
    "- Территориально: Южный, Юго-Западный и Западный административный округ (при условии высокой конкуренции), либо Центральный административный округ (при условии низкой конкуренции, но требуется дополнительное исследование проходимости места)\n",
    "- Возможность сети: формат кафе нашел широкое распространение среди сетевых заведений, однако целесообразнее будет развить сеть через некоторое время, когда головное заведение начнет окупаться"
   ]
  },
  {
   "cell_type": "markdown",
   "metadata": {},
   "source": [
    "## Подготовка презентации"
   ]
  },
  {
   "cell_type": "markdown",
   "metadata": {},
   "source": [
    "Подготовим презентацию исследования для инвесторов."
   ]
  },
  {
   "cell_type": "markdown",
   "metadata": {},
   "source": [
    "Презентация: https://drive.google.com/file/d/1gIdgc79bLK8qi0RwePGw4PaNooWJWZju/view?usp=sharing"
   ]
  }
 ],
 "metadata": {
  "ExecuteTimeLog": [
   {
    "duration": 1453,
    "start_time": "2022-04-20T13:08:20.683Z"
   },
   {
    "duration": 70,
    "start_time": "2022-04-20T13:08:23.023Z"
   },
   {
    "duration": 37,
    "start_time": "2022-04-20T13:08:24.600Z"
   },
   {
    "duration": 1216,
    "start_time": "2022-04-20T13:13:07.826Z"
   },
   {
    "duration": 69,
    "start_time": "2022-04-20T13:13:09.043Z"
   },
   {
    "duration": 34,
    "start_time": "2022-04-20T13:13:09.114Z"
   },
   {
    "duration": 18,
    "start_time": "2022-04-20T13:13:09.150Z"
   },
   {
    "duration": 9,
    "start_time": "2022-04-20T13:15:49.244Z"
   },
   {
    "duration": 5,
    "start_time": "2022-04-20T13:31:51.833Z"
   },
   {
    "duration": 6,
    "start_time": "2022-04-20T13:32:32.614Z"
   },
   {
    "duration": 6,
    "start_time": "2022-04-20T13:32:48.261Z"
   },
   {
    "duration": 6,
    "start_time": "2022-04-20T13:47:42.859Z"
   },
   {
    "duration": 14,
    "start_time": "2022-04-20T13:48:10.294Z"
   },
   {
    "duration": 96,
    "start_time": "2022-04-20T13:57:25.080Z"
   },
   {
    "duration": 18,
    "start_time": "2022-04-20T13:58:05.115Z"
   },
   {
    "duration": 24,
    "start_time": "2022-04-20T13:58:28.736Z"
   },
   {
    "duration": 1227,
    "start_time": "2022-04-20T14:00:03.717Z"
   },
   {
    "duration": 60,
    "start_time": "2022-04-20T14:00:04.946Z"
   },
   {
    "duration": 38,
    "start_time": "2022-04-20T14:00:05.007Z"
   },
   {
    "duration": 6,
    "start_time": "2022-04-20T14:00:05.047Z"
   },
   {
    "duration": 37,
    "start_time": "2022-04-20T14:00:05.054Z"
   },
   {
    "duration": 13,
    "start_time": "2022-04-20T14:00:05.093Z"
   },
   {
    "duration": 43,
    "start_time": "2022-04-20T14:00:05.107Z"
   },
   {
    "duration": 8,
    "start_time": "2022-04-20T14:00:05.151Z"
   },
   {
    "duration": 30,
    "start_time": "2022-04-20T14:00:49.194Z"
   },
   {
    "duration": 31,
    "start_time": "2022-04-20T14:02:38.707Z"
   },
   {
    "duration": 25,
    "start_time": "2022-04-20T14:03:11.082Z"
   },
   {
    "duration": 37,
    "start_time": "2022-04-20T14:05:55.007Z"
   },
   {
    "duration": 27,
    "start_time": "2022-04-20T14:06:40.667Z"
   },
   {
    "duration": 36,
    "start_time": "2022-04-20T14:06:52.796Z"
   },
   {
    "duration": 34,
    "start_time": "2022-04-20T14:16:21.018Z"
   },
   {
    "duration": 34,
    "start_time": "2022-04-20T14:16:31.281Z"
   },
   {
    "duration": 1232,
    "start_time": "2022-04-20T14:16:49.921Z"
   },
   {
    "duration": 60,
    "start_time": "2022-04-20T14:16:51.155Z"
   },
   {
    "duration": 37,
    "start_time": "2022-04-20T14:16:51.217Z"
   },
   {
    "duration": 5,
    "start_time": "2022-04-20T14:16:51.256Z"
   },
   {
    "duration": 22,
    "start_time": "2022-04-20T14:16:51.263Z"
   },
   {
    "duration": 59,
    "start_time": "2022-04-20T14:16:51.287Z"
   },
   {
    "duration": 47,
    "start_time": "2022-04-20T14:17:48.052Z"
   },
   {
    "duration": 44,
    "start_time": "2022-04-20T14:18:51.414Z"
   },
   {
    "duration": 46,
    "start_time": "2022-04-20T14:19:11.521Z"
   },
   {
    "duration": 31,
    "start_time": "2022-04-20T14:20:07.750Z"
   },
   {
    "duration": 1195,
    "start_time": "2022-04-20T14:22:17.983Z"
   },
   {
    "duration": 60,
    "start_time": "2022-04-20T14:22:19.180Z"
   },
   {
    "duration": 41,
    "start_time": "2022-04-20T14:22:19.242Z"
   },
   {
    "duration": 5,
    "start_time": "2022-04-20T14:22:19.285Z"
   },
   {
    "duration": 47,
    "start_time": "2022-04-20T14:22:19.292Z"
   },
   {
    "duration": 35,
    "start_time": "2022-04-20T14:22:19.341Z"
   },
   {
    "duration": 108,
    "start_time": "2022-04-20T14:32:00.740Z"
   },
   {
    "duration": 169,
    "start_time": "2022-04-20T14:48:23.852Z"
   },
   {
    "duration": 11,
    "start_time": "2022-04-20T14:48:42.132Z"
   },
   {
    "duration": 10,
    "start_time": "2022-04-20T14:49:26.695Z"
   },
   {
    "duration": 12,
    "start_time": "2022-04-20T14:49:36.524Z"
   },
   {
    "duration": 15,
    "start_time": "2022-04-20T14:50:32.458Z"
   },
   {
    "duration": 674,
    "start_time": "2022-04-20T14:53:30.880Z"
   },
   {
    "duration": 716,
    "start_time": "2022-04-20T14:53:42.768Z"
   },
   {
    "duration": 12,
    "start_time": "2022-04-20T14:54:05.352Z"
   },
   {
    "duration": 11,
    "start_time": "2022-04-20T14:54:29.111Z"
   },
   {
    "duration": 160,
    "start_time": "2022-04-20T14:54:41.491Z"
   },
   {
    "duration": 15,
    "start_time": "2022-04-20T14:56:49.117Z"
   },
   {
    "duration": 89,
    "start_time": "2022-04-20T14:57:43.897Z"
   },
   {
    "duration": 1274,
    "start_time": "2022-04-20T14:57:49.412Z"
   },
   {
    "duration": 58,
    "start_time": "2022-04-20T14:57:50.688Z"
   },
   {
    "duration": 34,
    "start_time": "2022-04-20T14:57:50.748Z"
   },
   {
    "duration": 5,
    "start_time": "2022-04-20T14:57:50.783Z"
   },
   {
    "duration": 37,
    "start_time": "2022-04-20T14:57:50.789Z"
   },
   {
    "duration": 33,
    "start_time": "2022-04-20T14:57:50.827Z"
   },
   {
    "duration": 192,
    "start_time": "2022-04-20T14:57:50.862Z"
   },
   {
    "duration": 179,
    "start_time": "2022-04-20T14:58:51.362Z"
   },
   {
    "duration": 278,
    "start_time": "2022-04-20T15:02:20.384Z"
   },
   {
    "duration": 168,
    "start_time": "2022-04-20T15:02:39.456Z"
   },
   {
    "duration": 192,
    "start_time": "2022-04-20T15:04:14.529Z"
   },
   {
    "duration": 177,
    "start_time": "2022-04-20T15:04:24.881Z"
   },
   {
    "duration": 179,
    "start_time": "2022-04-20T15:05:50.561Z"
   },
   {
    "duration": 273,
    "start_time": "2022-04-20T15:06:11.138Z"
   },
   {
    "duration": 125,
    "start_time": "2022-04-20T15:21:40.395Z"
   },
   {
    "duration": 198,
    "start_time": "2022-04-20T15:29:51.067Z"
   },
   {
    "duration": 184,
    "start_time": "2022-04-20T15:29:58.989Z"
   },
   {
    "duration": 129,
    "start_time": "2022-04-20T15:35:45.179Z"
   },
   {
    "duration": 152,
    "start_time": "2022-04-20T15:36:15.557Z"
   },
   {
    "duration": 36,
    "start_time": "2022-04-20T15:56:44.117Z"
   },
   {
    "duration": 130,
    "start_time": "2022-04-20T15:56:58.054Z"
   },
   {
    "duration": 188,
    "start_time": "2022-04-20T15:57:22.179Z"
   },
   {
    "duration": 178,
    "start_time": "2022-04-20T15:57:57.751Z"
   },
   {
    "duration": 211,
    "start_time": "2022-04-20T15:59:19.696Z"
   },
   {
    "duration": 315,
    "start_time": "2022-04-20T15:59:41.580Z"
   },
   {
    "duration": 287,
    "start_time": "2022-04-20T15:59:53.172Z"
   },
   {
    "duration": 218,
    "start_time": "2022-04-20T16:00:28.836Z"
   },
   {
    "duration": 161,
    "start_time": "2022-04-20T18:14:09.081Z"
   },
   {
    "duration": 643,
    "start_time": "2022-04-20T18:14:22.881Z"
   },
   {
    "duration": 26,
    "start_time": "2022-04-20T18:15:22.974Z"
   },
   {
    "duration": 33,
    "start_time": "2022-04-20T18:18:19.748Z"
   },
   {
    "duration": 254,
    "start_time": "2022-04-20T18:18:48.429Z"
   },
   {
    "duration": 252,
    "start_time": "2022-04-20T18:19:37.660Z"
   },
   {
    "duration": 276,
    "start_time": "2022-04-20T18:26:31.653Z"
   },
   {
    "duration": 293,
    "start_time": "2022-04-20T18:29:18.899Z"
   },
   {
    "duration": 1548,
    "start_time": "2022-04-21T08:10:54.849Z"
   },
   {
    "duration": 58,
    "start_time": "2022-04-21T08:10:56.399Z"
   },
   {
    "duration": 46,
    "start_time": "2022-04-21T08:10:56.458Z"
   },
   {
    "duration": 5,
    "start_time": "2022-04-21T08:10:56.506Z"
   },
   {
    "duration": 20,
    "start_time": "2022-04-21T08:10:56.513Z"
   },
   {
    "duration": 62,
    "start_time": "2022-04-21T08:10:56.535Z"
   },
   {
    "duration": 223,
    "start_time": "2022-04-21T08:10:56.599Z"
   },
   {
    "duration": 151,
    "start_time": "2022-04-21T08:10:56.824Z"
   },
   {
    "duration": 256,
    "start_time": "2022-04-21T08:10:56.976Z"
   },
   {
    "duration": 358,
    "start_time": "2022-04-21T08:10:57.234Z"
   },
   {
    "duration": 319,
    "start_time": "2022-04-21T08:14:09.881Z"
   },
   {
    "duration": 492,
    "start_time": "2022-04-21T08:14:59.931Z"
   },
   {
    "duration": 327,
    "start_time": "2022-04-21T08:18:31.653Z"
   },
   {
    "duration": 400,
    "start_time": "2022-04-21T08:19:02.446Z"
   },
   {
    "duration": 319,
    "start_time": "2022-04-21T08:53:21.615Z"
   },
   {
    "duration": 18,
    "start_time": "2022-04-21T10:49:08.384Z"
   },
   {
    "duration": 16,
    "start_time": "2022-04-21T10:49:46.640Z"
   },
   {
    "duration": 12,
    "start_time": "2022-04-21T10:50:19.920Z"
   },
   {
    "duration": 12,
    "start_time": "2022-04-21T10:55:59.767Z"
   },
   {
    "duration": 14,
    "start_time": "2022-04-21T10:57:21.864Z"
   },
   {
    "duration": 211,
    "start_time": "2022-04-21T11:00:11.549Z"
   },
   {
    "duration": 228,
    "start_time": "2022-04-21T11:01:20.905Z"
   },
   {
    "duration": 252,
    "start_time": "2022-04-21T11:04:05.965Z"
   },
   {
    "duration": 273,
    "start_time": "2022-04-21T11:05:39.095Z"
   },
   {
    "duration": 264,
    "start_time": "2022-04-21T11:06:33.572Z"
   },
   {
    "duration": 3,
    "start_time": "2022-04-21T11:43:19.883Z"
   },
   {
    "duration": 37,
    "start_time": "2022-04-21T11:44:02.339Z"
   },
   {
    "duration": 17,
    "start_time": "2022-04-21T11:51:27.230Z"
   },
   {
    "duration": 16,
    "start_time": "2022-04-21T11:51:52.864Z"
   },
   {
    "duration": 19,
    "start_time": "2022-04-21T11:55:00.458Z"
   },
   {
    "duration": 23,
    "start_time": "2022-04-21T11:55:26.008Z"
   },
   {
    "duration": 1355,
    "start_time": "2022-04-21T12:46:33.674Z"
   },
   {
    "duration": 54,
    "start_time": "2022-04-21T12:46:35.031Z"
   },
   {
    "duration": 43,
    "start_time": "2022-04-21T12:46:35.087Z"
   },
   {
    "duration": 6,
    "start_time": "2022-04-21T12:46:35.132Z"
   },
   {
    "duration": 27,
    "start_time": "2022-04-21T12:46:35.140Z"
   },
   {
    "duration": 38,
    "start_time": "2022-04-21T12:46:35.192Z"
   },
   {
    "duration": 229,
    "start_time": "2022-04-21T12:46:35.232Z"
   },
   {
    "duration": 159,
    "start_time": "2022-04-21T12:46:35.463Z"
   },
   {
    "duration": 253,
    "start_time": "2022-04-21T12:46:35.624Z"
   },
   {
    "duration": 334,
    "start_time": "2022-04-21T12:46:35.880Z"
   },
   {
    "duration": 285,
    "start_time": "2022-04-21T12:46:36.216Z"
   },
   {
    "duration": 4,
    "start_time": "2022-04-21T12:46:36.502Z"
   },
   {
    "duration": 39,
    "start_time": "2022-04-21T12:46:36.508Z"
   },
   {
    "duration": 44,
    "start_time": "2022-04-21T12:46:36.549Z"
   },
   {
    "duration": 2908,
    "start_time": "2022-04-21T12:46:36.595Z"
   },
   {
    "duration": 1259,
    "start_time": "2022-04-21T12:48:29.217Z"
   },
   {
    "duration": 52,
    "start_time": "2022-04-21T12:48:30.478Z"
   },
   {
    "duration": 37,
    "start_time": "2022-04-21T12:48:30.532Z"
   },
   {
    "duration": 22,
    "start_time": "2022-04-21T12:48:30.570Z"
   },
   {
    "duration": 22,
    "start_time": "2022-04-21T12:48:30.595Z"
   },
   {
    "duration": 32,
    "start_time": "2022-04-21T12:48:30.619Z"
   },
   {
    "duration": 235,
    "start_time": "2022-04-21T12:48:30.652Z"
   },
   {
    "duration": 143,
    "start_time": "2022-04-21T12:48:30.892Z"
   },
   {
    "duration": 256,
    "start_time": "2022-04-21T12:48:31.036Z"
   },
   {
    "duration": 334,
    "start_time": "2022-04-21T12:48:31.294Z"
   },
   {
    "duration": 283,
    "start_time": "2022-04-21T12:48:31.629Z"
   },
   {
    "duration": 4,
    "start_time": "2022-04-21T12:48:31.914Z"
   },
   {
    "duration": 54,
    "start_time": "2022-04-21T12:48:31.919Z"
   },
   {
    "duration": 25,
    "start_time": "2022-04-21T12:48:31.975Z"
   },
   {
    "duration": 3027,
    "start_time": "2022-04-21T12:48:32.001Z"
   },
   {
    "duration": 2942,
    "start_time": "2022-04-21T12:59:10.472Z"
   },
   {
    "duration": 3044,
    "start_time": "2022-04-21T13:00:25.386Z"
   },
   {
    "duration": 565,
    "start_time": "2022-04-21T13:03:29.052Z"
   },
   {
    "duration": 512,
    "start_time": "2022-04-21T13:05:40.547Z"
   },
   {
    "duration": 1254,
    "start_time": "2022-04-21T13:06:06.933Z"
   },
   {
    "duration": 52,
    "start_time": "2022-04-21T13:06:08.192Z"
   },
   {
    "duration": 50,
    "start_time": "2022-04-21T13:06:08.246Z"
   },
   {
    "duration": 5,
    "start_time": "2022-04-21T13:06:08.298Z"
   },
   {
    "duration": 22,
    "start_time": "2022-04-21T13:06:08.305Z"
   },
   {
    "duration": 35,
    "start_time": "2022-04-21T13:06:08.328Z"
   },
   {
    "duration": 249,
    "start_time": "2022-04-21T13:06:08.365Z"
   },
   {
    "duration": 142,
    "start_time": "2022-04-21T13:06:08.615Z"
   },
   {
    "duration": 360,
    "start_time": "2022-04-21T13:06:08.759Z"
   },
   {
    "duration": 344,
    "start_time": "2022-04-21T13:06:09.122Z"
   },
   {
    "duration": 282,
    "start_time": "2022-04-21T13:06:09.468Z"
   },
   {
    "duration": 3,
    "start_time": "2022-04-21T13:06:09.752Z"
   },
   {
    "duration": 49,
    "start_time": "2022-04-21T13:06:09.757Z"
   },
   {
    "duration": 22,
    "start_time": "2022-04-21T13:06:09.808Z"
   },
   {
    "duration": 583,
    "start_time": "2022-04-21T13:06:09.831Z"
   },
   {
    "duration": 708,
    "start_time": "2022-04-21T13:07:42.503Z"
   },
   {
    "duration": 662,
    "start_time": "2022-04-21T13:08:01.039Z"
   },
   {
    "duration": 568,
    "start_time": "2022-04-21T13:09:57.887Z"
   },
   {
    "duration": 613,
    "start_time": "2022-04-21T13:10:51.524Z"
   },
   {
    "duration": 1346,
    "start_time": "2022-04-21T13:11:28.782Z"
   },
   {
    "duration": 55,
    "start_time": "2022-04-21T13:11:30.130Z"
   },
   {
    "duration": 39,
    "start_time": "2022-04-21T13:11:30.187Z"
   },
   {
    "duration": 5,
    "start_time": "2022-04-21T13:11:30.227Z"
   },
   {
    "duration": 35,
    "start_time": "2022-04-21T13:11:30.235Z"
   },
   {
    "duration": 49,
    "start_time": "2022-04-21T13:11:30.271Z"
   },
   {
    "duration": 234,
    "start_time": "2022-04-21T13:11:30.321Z"
   },
   {
    "duration": 150,
    "start_time": "2022-04-21T13:11:30.557Z"
   },
   {
    "duration": 251,
    "start_time": "2022-04-21T13:11:30.708Z"
   },
   {
    "duration": 349,
    "start_time": "2022-04-21T13:11:30.961Z"
   },
   {
    "duration": 395,
    "start_time": "2022-04-21T13:11:31.312Z"
   },
   {
    "duration": 4,
    "start_time": "2022-04-21T13:11:31.709Z"
   },
   {
    "duration": 67,
    "start_time": "2022-04-21T13:11:31.716Z"
   },
   {
    "duration": 26,
    "start_time": "2022-04-21T13:11:31.786Z"
   },
   {
    "duration": 596,
    "start_time": "2022-04-21T13:11:31.814Z"
   },
   {
    "duration": 143,
    "start_time": "2022-04-21T13:29:15.014Z"
   },
   {
    "duration": 22,
    "start_time": "2022-04-21T13:29:42.416Z"
   },
   {
    "duration": 721,
    "start_time": "2022-04-21T13:30:29.051Z"
   },
   {
    "duration": 810,
    "start_time": "2022-04-21T13:31:26.978Z"
   },
   {
    "duration": 866,
    "start_time": "2022-04-21T13:37:42.083Z"
   },
   {
    "duration": 641,
    "start_time": "2022-04-21T13:39:49.776Z"
   },
   {
    "duration": 1568,
    "start_time": "2022-04-21T13:40:01.033Z"
   },
   {
    "duration": 1299,
    "start_time": "2022-04-21T13:40:08.741Z"
   },
   {
    "duration": 56,
    "start_time": "2022-04-21T13:40:10.042Z"
   },
   {
    "duration": 39,
    "start_time": "2022-04-21T13:40:10.099Z"
   },
   {
    "duration": 5,
    "start_time": "2022-04-21T13:40:10.140Z"
   },
   {
    "duration": 22,
    "start_time": "2022-04-21T13:40:10.146Z"
   },
   {
    "duration": 56,
    "start_time": "2022-04-21T13:40:10.169Z"
   },
   {
    "duration": 215,
    "start_time": "2022-04-21T13:40:10.227Z"
   },
   {
    "duration": 142,
    "start_time": "2022-04-21T13:40:10.444Z"
   },
   {
    "duration": 246,
    "start_time": "2022-04-21T13:40:10.588Z"
   },
   {
    "duration": 321,
    "start_time": "2022-04-21T13:40:10.838Z"
   },
   {
    "duration": 268,
    "start_time": "2022-04-21T13:40:11.161Z"
   },
   {
    "duration": 4,
    "start_time": "2022-04-21T13:40:11.431Z"
   },
   {
    "duration": 40,
    "start_time": "2022-04-21T13:40:11.437Z"
   },
   {
    "duration": 24,
    "start_time": "2022-04-21T13:40:11.492Z"
   },
   {
    "duration": 812,
    "start_time": "2022-04-21T13:40:11.518Z"
   },
   {
    "duration": 645,
    "start_time": "2022-04-21T13:40:31.615Z"
   },
   {
    "duration": 24,
    "start_time": "2022-04-21T13:40:36.503Z"
   },
   {
    "duration": 1328,
    "start_time": "2022-04-21T13:40:44.793Z"
   },
   {
    "duration": 53,
    "start_time": "2022-04-21T13:40:46.122Z"
   },
   {
    "duration": 46,
    "start_time": "2022-04-21T13:40:46.177Z"
   },
   {
    "duration": 5,
    "start_time": "2022-04-21T13:40:46.225Z"
   },
   {
    "duration": 25,
    "start_time": "2022-04-21T13:40:46.232Z"
   },
   {
    "duration": 56,
    "start_time": "2022-04-21T13:40:46.259Z"
   },
   {
    "duration": 215,
    "start_time": "2022-04-21T13:40:46.316Z"
   },
   {
    "duration": 138,
    "start_time": "2022-04-21T13:40:46.533Z"
   },
   {
    "duration": 244,
    "start_time": "2022-04-21T13:40:46.673Z"
   },
   {
    "duration": 317,
    "start_time": "2022-04-21T13:40:46.920Z"
   },
   {
    "duration": 277,
    "start_time": "2022-04-21T13:40:47.238Z"
   },
   {
    "duration": 3,
    "start_time": "2022-04-21T13:40:47.517Z"
   },
   {
    "duration": 37,
    "start_time": "2022-04-21T13:40:47.522Z"
   },
   {
    "duration": 41,
    "start_time": "2022-04-21T13:40:47.560Z"
   },
   {
    "duration": 702,
    "start_time": "2022-04-21T13:40:47.602Z"
   },
   {
    "duration": 18,
    "start_time": "2022-04-21T13:40:48.306Z"
   },
   {
    "duration": 1265,
    "start_time": "2022-04-21T13:43:36.251Z"
   },
   {
    "duration": 58,
    "start_time": "2022-04-21T13:43:37.518Z"
   },
   {
    "duration": 39,
    "start_time": "2022-04-21T13:43:37.578Z"
   },
   {
    "duration": 6,
    "start_time": "2022-04-21T13:43:37.618Z"
   },
   {
    "duration": 24,
    "start_time": "2022-04-21T13:43:37.627Z"
   },
   {
    "duration": 60,
    "start_time": "2022-04-21T13:43:37.653Z"
   },
   {
    "duration": 214,
    "start_time": "2022-04-21T13:43:37.714Z"
   },
   {
    "duration": 142,
    "start_time": "2022-04-21T13:43:37.929Z"
   },
   {
    "duration": 241,
    "start_time": "2022-04-21T13:43:38.073Z"
   },
   {
    "duration": 322,
    "start_time": "2022-04-21T13:43:38.316Z"
   },
   {
    "duration": 269,
    "start_time": "2022-04-21T13:43:38.640Z"
   },
   {
    "duration": 3,
    "start_time": "2022-04-21T13:43:38.911Z"
   },
   {
    "duration": 37,
    "start_time": "2022-04-21T13:43:38.916Z"
   },
   {
    "duration": 37,
    "start_time": "2022-04-21T13:43:38.956Z"
   },
   {
    "duration": 705,
    "start_time": "2022-04-21T13:43:38.995Z"
   },
   {
    "duration": 17,
    "start_time": "2022-04-21T13:43:39.701Z"
   },
   {
    "duration": 22,
    "start_time": "2022-04-21T13:44:07.876Z"
   },
   {
    "duration": 1295,
    "start_time": "2022-04-21T13:44:26.334Z"
   },
   {
    "duration": 50,
    "start_time": "2022-04-21T13:44:27.631Z"
   },
   {
    "duration": 35,
    "start_time": "2022-04-21T13:44:27.682Z"
   },
   {
    "duration": 4,
    "start_time": "2022-04-21T13:44:27.720Z"
   },
   {
    "duration": 20,
    "start_time": "2022-04-21T13:44:27.726Z"
   },
   {
    "duration": 62,
    "start_time": "2022-04-21T13:44:27.748Z"
   },
   {
    "duration": 204,
    "start_time": "2022-04-21T13:44:27.812Z"
   },
   {
    "duration": 139,
    "start_time": "2022-04-21T13:44:28.017Z"
   },
   {
    "duration": 239,
    "start_time": "2022-04-21T13:44:28.158Z"
   },
   {
    "duration": 320,
    "start_time": "2022-04-21T13:44:28.400Z"
   },
   {
    "duration": 273,
    "start_time": "2022-04-21T13:44:28.722Z"
   },
   {
    "duration": 4,
    "start_time": "2022-04-21T13:44:28.996Z"
   },
   {
    "duration": 38,
    "start_time": "2022-04-21T13:44:29.002Z"
   },
   {
    "duration": 22,
    "start_time": "2022-04-21T13:44:29.041Z"
   },
   {
    "duration": 803,
    "start_time": "2022-04-21T13:44:29.065Z"
   },
   {
    "duration": 17,
    "start_time": "2022-04-21T13:44:29.870Z"
   },
   {
    "duration": 1293,
    "start_time": "2022-04-21T13:45:15.822Z"
   },
   {
    "duration": 51,
    "start_time": "2022-04-21T13:45:17.117Z"
   },
   {
    "duration": 40,
    "start_time": "2022-04-21T13:45:17.170Z"
   },
   {
    "duration": 5,
    "start_time": "2022-04-21T13:45:17.212Z"
   },
   {
    "duration": 21,
    "start_time": "2022-04-21T13:45:17.218Z"
   },
   {
    "duration": 54,
    "start_time": "2022-04-21T13:45:17.241Z"
   },
   {
    "duration": 220,
    "start_time": "2022-04-21T13:45:17.297Z"
   },
   {
    "duration": 148,
    "start_time": "2022-04-21T13:45:17.520Z"
   },
   {
    "duration": 244,
    "start_time": "2022-04-21T13:45:17.670Z"
   },
   {
    "duration": 339,
    "start_time": "2022-04-21T13:45:17.918Z"
   },
   {
    "duration": 393,
    "start_time": "2022-04-21T13:45:18.259Z"
   },
   {
    "duration": 5,
    "start_time": "2022-04-21T13:45:18.654Z"
   },
   {
    "duration": 69,
    "start_time": "2022-04-21T13:45:18.661Z"
   },
   {
    "duration": 26,
    "start_time": "2022-04-21T13:45:18.732Z"
   },
   {
    "duration": 715,
    "start_time": "2022-04-21T13:45:18.760Z"
   },
   {
    "duration": 9,
    "start_time": "2022-04-21T13:45:19.477Z"
   },
   {
    "duration": 13,
    "start_time": "2022-04-21T13:45:25.696Z"
   },
   {
    "duration": 13,
    "start_time": "2022-04-21T13:45:33.978Z"
   },
   {
    "duration": 15,
    "start_time": "2022-04-21T13:46:10.145Z"
   },
   {
    "duration": 17,
    "start_time": "2022-04-21T13:46:40.726Z"
   },
   {
    "duration": 15,
    "start_time": "2022-04-21T13:56:21.752Z"
   },
   {
    "duration": 13,
    "start_time": "2022-04-21T13:57:23.955Z"
   },
   {
    "duration": 13,
    "start_time": "2022-04-21T14:48:26.325Z"
   },
   {
    "duration": 9,
    "start_time": "2022-04-21T14:49:31.882Z"
   },
   {
    "duration": 21,
    "start_time": "2022-04-21T14:49:35.411Z"
   },
   {
    "duration": 1320,
    "start_time": "2022-04-21T14:49:44.225Z"
   },
   {
    "duration": 56,
    "start_time": "2022-04-21T14:49:45.547Z"
   },
   {
    "duration": 39,
    "start_time": "2022-04-21T14:49:45.605Z"
   },
   {
    "duration": 6,
    "start_time": "2022-04-21T14:49:45.646Z"
   },
   {
    "duration": 61,
    "start_time": "2022-04-21T14:49:45.654Z"
   },
   {
    "duration": 58,
    "start_time": "2022-04-21T14:49:45.717Z"
   },
   {
    "duration": 349,
    "start_time": "2022-04-21T14:49:45.793Z"
   },
   {
    "duration": 202,
    "start_time": "2022-04-21T14:49:46.145Z"
   },
   {
    "duration": 273,
    "start_time": "2022-04-21T14:49:46.349Z"
   },
   {
    "duration": 548,
    "start_time": "2022-04-21T14:49:46.624Z"
   },
   {
    "duration": 474,
    "start_time": "2022-04-21T14:49:47.175Z"
   },
   {
    "duration": 5,
    "start_time": "2022-04-21T14:49:47.651Z"
   },
   {
    "duration": 57,
    "start_time": "2022-04-21T14:49:47.658Z"
   },
   {
    "duration": 35,
    "start_time": "2022-04-21T14:49:47.718Z"
   },
   {
    "duration": 1157,
    "start_time": "2022-04-21T14:49:47.756Z"
   },
   {
    "duration": 8,
    "start_time": "2022-04-21T14:49:48.914Z"
   },
   {
    "duration": 68,
    "start_time": "2022-04-21T14:49:48.924Z"
   },
   {
    "duration": 330,
    "start_time": "2022-04-21T14:49:48.994Z"
   },
   {
    "duration": 0,
    "start_time": "2022-04-21T14:49:49.326Z"
   },
   {
    "duration": 15,
    "start_time": "2022-04-21T14:50:13.614Z"
   },
   {
    "duration": 8,
    "start_time": "2022-04-21T14:50:21.689Z"
   },
   {
    "duration": 8,
    "start_time": "2022-04-21T14:51:10.139Z"
   },
   {
    "duration": 10,
    "start_time": "2022-04-21T14:52:44.652Z"
   },
   {
    "duration": 8,
    "start_time": "2022-04-21T14:54:39.360Z"
   },
   {
    "duration": 1346,
    "start_time": "2022-04-21T14:54:54.589Z"
   },
   {
    "duration": 54,
    "start_time": "2022-04-21T14:54:55.937Z"
   },
   {
    "duration": 37,
    "start_time": "2022-04-21T14:54:55.993Z"
   },
   {
    "duration": 5,
    "start_time": "2022-04-21T14:54:56.032Z"
   },
   {
    "duration": 36,
    "start_time": "2022-04-21T14:54:56.039Z"
   },
   {
    "duration": 47,
    "start_time": "2022-04-21T14:54:56.077Z"
   },
   {
    "duration": 219,
    "start_time": "2022-04-21T14:54:56.126Z"
   },
   {
    "duration": 151,
    "start_time": "2022-04-21T14:54:56.347Z"
   },
   {
    "duration": 254,
    "start_time": "2022-04-21T14:54:56.500Z"
   },
   {
    "duration": 339,
    "start_time": "2022-04-21T14:54:56.757Z"
   },
   {
    "duration": 288,
    "start_time": "2022-04-21T14:54:57.098Z"
   },
   {
    "duration": 4,
    "start_time": "2022-04-21T14:54:57.391Z"
   },
   {
    "duration": 40,
    "start_time": "2022-04-21T14:54:57.397Z"
   },
   {
    "duration": 23,
    "start_time": "2022-04-21T14:54:57.438Z"
   },
   {
    "duration": 824,
    "start_time": "2022-04-21T14:54:57.463Z"
   },
   {
    "duration": 9,
    "start_time": "2022-04-21T14:54:58.289Z"
   },
   {
    "duration": 19,
    "start_time": "2022-04-21T14:54:58.299Z"
   },
   {
    "duration": 16,
    "start_time": "2022-04-21T14:54:58.319Z"
   },
   {
    "duration": 8,
    "start_time": "2022-04-21T14:54:58.337Z"
   },
   {
    "duration": 10,
    "start_time": "2022-04-21T14:55:04.921Z"
   },
   {
    "duration": 11,
    "start_time": "2022-04-21T14:55:07.669Z"
   },
   {
    "duration": 1406,
    "start_time": "2022-04-21T14:55:14.859Z"
   },
   {
    "duration": 53,
    "start_time": "2022-04-21T14:55:16.267Z"
   },
   {
    "duration": 39,
    "start_time": "2022-04-21T14:55:16.322Z"
   },
   {
    "duration": 6,
    "start_time": "2022-04-21T14:55:16.362Z"
   },
   {
    "duration": 20,
    "start_time": "2022-04-21T14:55:16.393Z"
   },
   {
    "duration": 35,
    "start_time": "2022-04-21T14:55:16.415Z"
   },
   {
    "duration": 243,
    "start_time": "2022-04-21T14:55:16.452Z"
   },
   {
    "duration": 172,
    "start_time": "2022-04-21T14:55:16.696Z"
   },
   {
    "duration": 264,
    "start_time": "2022-04-21T14:55:16.870Z"
   },
   {
    "duration": 341,
    "start_time": "2022-04-21T14:55:17.137Z"
   },
   {
    "duration": 297,
    "start_time": "2022-04-21T14:55:17.480Z"
   },
   {
    "duration": 4,
    "start_time": "2022-04-21T14:55:17.779Z"
   },
   {
    "duration": 46,
    "start_time": "2022-04-21T14:55:17.784Z"
   },
   {
    "duration": 23,
    "start_time": "2022-04-21T14:55:17.833Z"
   },
   {
    "duration": 771,
    "start_time": "2022-04-21T14:55:17.858Z"
   },
   {
    "duration": 9,
    "start_time": "2022-04-21T14:55:18.631Z"
   },
   {
    "duration": 19,
    "start_time": "2022-04-21T14:55:18.641Z"
   },
   {
    "duration": 15,
    "start_time": "2022-04-21T14:55:18.662Z"
   },
   {
    "duration": 19,
    "start_time": "2022-04-21T14:55:18.679Z"
   },
   {
    "duration": 11,
    "start_time": "2022-04-21T14:55:23.311Z"
   },
   {
    "duration": 15,
    "start_time": "2022-04-21T14:55:47.856Z"
   },
   {
    "duration": 17,
    "start_time": "2022-04-21T14:56:04.189Z"
   },
   {
    "duration": 1367,
    "start_time": "2022-04-21T14:56:11.283Z"
   },
   {
    "duration": 56,
    "start_time": "2022-04-21T14:56:12.652Z"
   },
   {
    "duration": 37,
    "start_time": "2022-04-21T14:56:12.710Z"
   },
   {
    "duration": 5,
    "start_time": "2022-04-21T14:56:12.750Z"
   },
   {
    "duration": 44,
    "start_time": "2022-04-21T14:56:12.757Z"
   },
   {
    "duration": 37,
    "start_time": "2022-04-21T14:56:12.803Z"
   },
   {
    "duration": 229,
    "start_time": "2022-04-21T14:56:12.841Z"
   },
   {
    "duration": 152,
    "start_time": "2022-04-21T14:56:13.072Z"
   },
   {
    "duration": 250,
    "start_time": "2022-04-21T14:56:13.226Z"
   },
   {
    "duration": 338,
    "start_time": "2022-04-21T14:56:13.479Z"
   },
   {
    "duration": 286,
    "start_time": "2022-04-21T14:56:13.818Z"
   },
   {
    "duration": 3,
    "start_time": "2022-04-21T14:56:14.106Z"
   },
   {
    "duration": 41,
    "start_time": "2022-04-21T14:56:14.111Z"
   },
   {
    "duration": 40,
    "start_time": "2022-04-21T14:56:14.154Z"
   },
   {
    "duration": 759,
    "start_time": "2022-04-21T14:56:14.195Z"
   },
   {
    "duration": 8,
    "start_time": "2022-04-21T14:56:14.956Z"
   },
   {
    "duration": 18,
    "start_time": "2022-04-21T14:56:14.965Z"
   },
   {
    "duration": 17,
    "start_time": "2022-04-21T14:56:14.984Z"
   },
   {
    "duration": 24,
    "start_time": "2022-04-21T14:56:15.003Z"
   },
   {
    "duration": 17,
    "start_time": "2022-04-21T15:07:22.713Z"
   },
   {
    "duration": 6,
    "start_time": "2022-04-21T15:19:28.580Z"
   },
   {
    "duration": 11,
    "start_time": "2022-04-21T15:19:31.437Z"
   },
   {
    "duration": 12,
    "start_time": "2022-04-21T15:19:44.972Z"
   },
   {
    "duration": 132,
    "start_time": "2022-04-21T15:22:37.025Z"
   },
   {
    "duration": 6,
    "start_time": "2022-04-21T15:23:19.401Z"
   },
   {
    "duration": 5,
    "start_time": "2022-04-21T15:27:42.872Z"
   },
   {
    "duration": 12,
    "start_time": "2022-04-21T15:29:57.623Z"
   },
   {
    "duration": 12,
    "start_time": "2022-04-21T15:31:23.457Z"
   },
   {
    "duration": 15,
    "start_time": "2022-04-21T15:31:34.298Z"
   },
   {
    "duration": 12,
    "start_time": "2022-04-21T15:44:11.839Z"
   },
   {
    "duration": 18,
    "start_time": "2022-04-21T15:44:23.325Z"
   },
   {
    "duration": 284,
    "start_time": "2022-04-21T15:46:11.327Z"
   },
   {
    "duration": 1485,
    "start_time": "2022-04-21T16:02:07.976Z"
   },
   {
    "duration": 61,
    "start_time": "2022-04-21T16:02:09.464Z"
   },
   {
    "duration": 50,
    "start_time": "2022-04-21T16:02:09.527Z"
   },
   {
    "duration": 8,
    "start_time": "2022-04-21T16:02:09.593Z"
   },
   {
    "duration": 22,
    "start_time": "2022-04-21T16:02:09.603Z"
   },
   {
    "duration": 39,
    "start_time": "2022-04-21T16:02:09.627Z"
   },
   {
    "duration": 235,
    "start_time": "2022-04-21T16:02:09.692Z"
   },
   {
    "duration": 151,
    "start_time": "2022-04-21T16:02:09.929Z"
   },
   {
    "duration": 279,
    "start_time": "2022-04-21T16:02:10.081Z"
   },
   {
    "duration": 357,
    "start_time": "2022-04-21T16:02:10.362Z"
   },
   {
    "duration": 283,
    "start_time": "2022-04-21T16:02:10.721Z"
   },
   {
    "duration": 3,
    "start_time": "2022-04-21T16:02:11.006Z"
   },
   {
    "duration": 47,
    "start_time": "2022-04-21T16:02:11.011Z"
   },
   {
    "duration": 38,
    "start_time": "2022-04-21T16:02:11.060Z"
   },
   {
    "duration": 1171,
    "start_time": "2022-04-21T16:02:11.100Z"
   },
   {
    "duration": 10,
    "start_time": "2022-04-21T16:02:12.272Z"
   },
   {
    "duration": 27,
    "start_time": "2022-04-21T16:02:12.284Z"
   },
   {
    "duration": 32,
    "start_time": "2022-04-21T16:02:12.313Z"
   },
   {
    "duration": 17,
    "start_time": "2022-04-21T16:02:12.347Z"
   },
   {
    "duration": 28,
    "start_time": "2022-04-21T16:02:12.366Z"
   },
   {
    "duration": 25,
    "start_time": "2022-04-21T16:02:12.396Z"
   },
   {
    "duration": 19,
    "start_time": "2022-04-21T16:16:06.423Z"
   },
   {
    "duration": 17,
    "start_time": "2022-04-21T16:16:42.174Z"
   },
   {
    "duration": 17,
    "start_time": "2022-04-21T16:16:53.371Z"
   },
   {
    "duration": 15,
    "start_time": "2022-04-21T16:22:41.299Z"
   },
   {
    "duration": 16,
    "start_time": "2022-04-21T16:23:13.147Z"
   },
   {
    "duration": 16,
    "start_time": "2022-04-21T16:23:28.027Z"
   },
   {
    "duration": 16,
    "start_time": "2022-04-21T16:23:49.008Z"
   },
   {
    "duration": 286,
    "start_time": "2022-04-21T16:25:59.857Z"
   },
   {
    "duration": 171,
    "start_time": "2022-04-21T16:26:26.589Z"
   },
   {
    "duration": 201,
    "start_time": "2022-04-21T16:28:16.706Z"
   },
   {
    "duration": 408,
    "start_time": "2022-04-21T16:28:22.442Z"
   },
   {
    "duration": 381,
    "start_time": "2022-04-21T16:28:59.467Z"
   },
   {
    "duration": 361,
    "start_time": "2022-04-21T16:30:34.754Z"
   },
   {
    "duration": 241,
    "start_time": "2022-04-21T16:31:04.648Z"
   },
   {
    "duration": 360,
    "start_time": "2022-04-21T16:35:14.505Z"
   },
   {
    "duration": 1499,
    "start_time": "2022-04-21T18:06:47.768Z"
   },
   {
    "duration": 68,
    "start_time": "2022-04-21T18:06:49.269Z"
   },
   {
    "duration": 55,
    "start_time": "2022-04-21T18:06:49.338Z"
   },
   {
    "duration": 8,
    "start_time": "2022-04-21T18:06:49.396Z"
   },
   {
    "duration": 27,
    "start_time": "2022-04-21T18:06:49.407Z"
   },
   {
    "duration": 35,
    "start_time": "2022-04-21T18:06:49.436Z"
   },
   {
    "duration": 252,
    "start_time": "2022-04-21T18:06:49.472Z"
   },
   {
    "duration": 158,
    "start_time": "2022-04-21T18:06:49.726Z"
   },
   {
    "duration": 267,
    "start_time": "2022-04-21T18:06:49.886Z"
   },
   {
    "duration": 362,
    "start_time": "2022-04-21T18:06:50.156Z"
   },
   {
    "duration": 299,
    "start_time": "2022-04-21T18:06:50.519Z"
   },
   {
    "duration": 4,
    "start_time": "2022-04-21T18:06:50.822Z"
   },
   {
    "duration": 40,
    "start_time": "2022-04-21T18:06:50.828Z"
   },
   {
    "duration": 51,
    "start_time": "2022-04-21T18:06:50.870Z"
   },
   {
    "duration": 921,
    "start_time": "2022-04-21T18:06:50.923Z"
   },
   {
    "duration": 56,
    "start_time": "2022-04-21T18:06:51.845Z"
   },
   {
    "duration": 26,
    "start_time": "2022-04-21T18:06:51.902Z"
   },
   {
    "duration": 70,
    "start_time": "2022-04-21T18:06:51.929Z"
   },
   {
    "duration": 14,
    "start_time": "2022-04-21T18:06:52.001Z"
   },
   {
    "duration": 13,
    "start_time": "2022-04-21T18:06:52.017Z"
   },
   {
    "duration": 531,
    "start_time": "2022-04-21T18:06:52.032Z"
   },
   {
    "duration": 2530,
    "start_time": "2022-04-22T20:46:51.081Z"
   },
   {
    "duration": 71,
    "start_time": "2022-04-22T20:46:53.613Z"
   },
   {
    "duration": 72,
    "start_time": "2022-04-22T20:46:53.687Z"
   },
   {
    "duration": 10,
    "start_time": "2022-04-22T20:46:53.782Z"
   },
   {
    "duration": 41,
    "start_time": "2022-04-22T20:46:53.796Z"
   },
   {
    "duration": 83,
    "start_time": "2022-04-22T20:46:53.840Z"
   },
   {
    "duration": 385,
    "start_time": "2022-04-22T20:46:53.925Z"
   },
   {
    "duration": 266,
    "start_time": "2022-04-22T20:46:54.314Z"
   },
   {
    "duration": 433,
    "start_time": "2022-04-22T20:46:54.589Z"
   },
   {
    "duration": 568,
    "start_time": "2022-04-22T20:46:55.025Z"
   },
   {
    "duration": 483,
    "start_time": "2022-04-22T20:46:55.596Z"
   },
   {
    "duration": 8,
    "start_time": "2022-04-22T20:46:56.087Z"
   },
   {
    "duration": 57,
    "start_time": "2022-04-22T20:46:56.099Z"
   },
   {
    "duration": 60,
    "start_time": "2022-04-22T20:46:56.160Z"
   },
   {
    "duration": 1260,
    "start_time": "2022-04-22T20:46:56.222Z"
   },
   {
    "duration": 12,
    "start_time": "2022-04-22T20:46:57.484Z"
   },
   {
    "duration": 33,
    "start_time": "2022-04-22T20:46:57.499Z"
   },
   {
    "duration": 20,
    "start_time": "2022-04-22T20:46:57.534Z"
   },
   {
    "duration": 28,
    "start_time": "2022-04-22T20:46:57.556Z"
   },
   {
    "duration": 15,
    "start_time": "2022-04-22T20:46:57.590Z"
   },
   {
    "duration": 625,
    "start_time": "2022-04-22T20:46:57.609Z"
   },
   {
    "duration": 1788,
    "start_time": "2022-04-22T22:00:37.718Z"
   },
   {
    "duration": 97,
    "start_time": "2022-04-22T22:00:39.509Z"
   },
   {
    "duration": 51,
    "start_time": "2022-04-22T22:00:39.609Z"
   },
   {
    "duration": 6,
    "start_time": "2022-04-22T22:00:39.663Z"
   },
   {
    "duration": 28,
    "start_time": "2022-04-22T22:00:39.671Z"
   },
   {
    "duration": 49,
    "start_time": "2022-04-22T22:00:39.701Z"
   },
   {
    "duration": 202,
    "start_time": "2022-04-22T22:00:39.752Z"
   },
   {
    "duration": 140,
    "start_time": "2022-04-22T22:00:39.956Z"
   },
   {
    "duration": 228,
    "start_time": "2022-04-22T22:00:40.098Z"
   },
   {
    "duration": 302,
    "start_time": "2022-04-22T22:00:40.328Z"
   },
   {
    "duration": 254,
    "start_time": "2022-04-22T22:00:40.631Z"
   },
   {
    "duration": 4,
    "start_time": "2022-04-22T22:00:40.886Z"
   },
   {
    "duration": 43,
    "start_time": "2022-04-22T22:00:40.891Z"
   },
   {
    "duration": 31,
    "start_time": "2022-04-22T22:00:40.936Z"
   },
   {
    "duration": 1107,
    "start_time": "2022-04-22T22:00:40.970Z"
   },
   {
    "duration": 9,
    "start_time": "2022-04-22T22:00:42.078Z"
   },
   {
    "duration": 20,
    "start_time": "2022-04-22T22:00:42.088Z"
   },
   {
    "duration": 26,
    "start_time": "2022-04-22T22:00:42.110Z"
   },
   {
    "duration": 19,
    "start_time": "2022-04-22T22:00:42.138Z"
   },
   {
    "duration": 31,
    "start_time": "2022-04-22T22:00:42.160Z"
   },
   {
    "duration": 360,
    "start_time": "2022-04-22T22:00:42.192Z"
   },
   {
    "duration": 5,
    "start_time": "2022-04-22T22:04:05.784Z"
   },
   {
    "duration": 5,
    "start_time": "2022-04-22T22:04:20.601Z"
   },
   {
    "duration": 15,
    "start_time": "2022-04-22T22:08:39.697Z"
   },
   {
    "duration": 18,
    "start_time": "2022-04-22T22:09:02.276Z"
   },
   {
    "duration": 21,
    "start_time": "2022-04-22T22:09:45.457Z"
   },
   {
    "duration": 22,
    "start_time": "2022-04-22T22:10:10.946Z"
   },
   {
    "duration": 22,
    "start_time": "2022-04-22T22:12:21.278Z"
   },
   {
    "duration": 24,
    "start_time": "2022-04-22T22:12:33.802Z"
   },
   {
    "duration": 25,
    "start_time": "2022-04-22T22:13:58.305Z"
   },
   {
    "duration": 23,
    "start_time": "2022-04-22T22:14:36.772Z"
   },
   {
    "duration": 27,
    "start_time": "2022-04-22T22:17:01.237Z"
   },
   {
    "duration": 26,
    "start_time": "2022-04-22T22:18:26.322Z"
   },
   {
    "duration": 115,
    "start_time": "2022-04-22T22:21:42.184Z"
   },
   {
    "duration": 29,
    "start_time": "2022-04-22T22:21:54.403Z"
   },
   {
    "duration": 27,
    "start_time": "2022-04-22T22:22:08.953Z"
   },
   {
    "duration": 20,
    "start_time": "2022-04-22T22:24:23.197Z"
   },
   {
    "duration": 15,
    "start_time": "2022-04-22T22:26:23.507Z"
   },
   {
    "duration": 34,
    "start_time": "2022-04-22T22:26:29.601Z"
   },
   {
    "duration": 33,
    "start_time": "2022-04-22T22:29:45.354Z"
   },
   {
    "duration": 46,
    "start_time": "2022-04-22T22:32:31.849Z"
   },
   {
    "duration": 52,
    "start_time": "2022-04-22T22:32:39.268Z"
   },
   {
    "duration": 50,
    "start_time": "2022-04-22T22:32:49.956Z"
   },
   {
    "duration": 53,
    "start_time": "2022-04-22T22:33:10.316Z"
   },
   {
    "duration": 20,
    "start_time": "2022-04-22T22:33:38.212Z"
   },
   {
    "duration": 45,
    "start_time": "2022-04-22T22:33:58.669Z"
   },
   {
    "duration": 41,
    "start_time": "2022-04-22T22:36:49.940Z"
   },
   {
    "duration": 41,
    "start_time": "2022-04-22T22:44:37.280Z"
   },
   {
    "duration": 93,
    "start_time": "2022-04-22T22:47:40.802Z"
   },
   {
    "duration": 1569,
    "start_time": "2022-04-22T22:48:38.503Z"
   },
   {
    "duration": 1642,
    "start_time": "2022-04-22T22:49:08.056Z"
   },
   {
    "duration": 532,
    "start_time": "2022-04-22T22:52:35.129Z"
   },
   {
    "duration": 37,
    "start_time": "2022-04-22T22:53:18.301Z"
   },
   {
    "duration": 1139,
    "start_time": "2022-04-22T22:53:36.992Z"
   },
   {
    "duration": 46,
    "start_time": "2022-04-22T22:53:38.133Z"
   },
   {
    "duration": 47,
    "start_time": "2022-04-22T22:53:38.181Z"
   },
   {
    "duration": 6,
    "start_time": "2022-04-22T22:53:38.230Z"
   },
   {
    "duration": 27,
    "start_time": "2022-04-22T22:53:38.237Z"
   },
   {
    "duration": 29,
    "start_time": "2022-04-22T22:53:38.265Z"
   },
   {
    "duration": 54,
    "start_time": "2022-04-22T22:53:38.295Z"
   },
   {
    "duration": 9,
    "start_time": "2022-04-22T22:53:38.350Z"
   },
   {
    "duration": 201,
    "start_time": "2022-04-22T22:53:38.361Z"
   },
   {
    "duration": 126,
    "start_time": "2022-04-22T22:53:38.564Z"
   },
   {
    "duration": 218,
    "start_time": "2022-04-22T22:53:38.691Z"
   },
   {
    "duration": 291,
    "start_time": "2022-04-22T22:53:38.911Z"
   },
   {
    "duration": 242,
    "start_time": "2022-04-22T22:53:39.203Z"
   },
   {
    "duration": 3,
    "start_time": "2022-04-22T22:53:39.447Z"
   },
   {
    "duration": 78,
    "start_time": "2022-04-22T22:53:39.451Z"
   },
   {
    "duration": 21,
    "start_time": "2022-04-22T22:53:39.530Z"
   },
   {
    "duration": 1165,
    "start_time": "2022-04-22T22:53:39.552Z"
   },
   {
    "duration": 8,
    "start_time": "2022-04-22T22:53:40.718Z"
   },
   {
    "duration": 16,
    "start_time": "2022-04-22T22:53:40.727Z"
   },
   {
    "duration": 12,
    "start_time": "2022-04-22T22:53:40.744Z"
   },
   {
    "duration": 4,
    "start_time": "2022-04-22T22:53:40.758Z"
   },
   {
    "duration": 9,
    "start_time": "2022-04-22T22:53:40.764Z"
   },
   {
    "duration": 335,
    "start_time": "2022-04-22T22:53:40.774Z"
   },
   {
    "duration": 32,
    "start_time": "2022-04-22T22:54:12.784Z"
   },
   {
    "duration": 39,
    "start_time": "2022-04-22T22:54:29.087Z"
   },
   {
    "duration": 9,
    "start_time": "2022-04-22T22:54:42.069Z"
   },
   {
    "duration": 8,
    "start_time": "2022-04-22T22:55:14.640Z"
   },
   {
    "duration": 17,
    "start_time": "2022-04-22T22:55:37.637Z"
   },
   {
    "duration": 1058,
    "start_time": "2022-04-22T22:56:15.156Z"
   },
   {
    "duration": 46,
    "start_time": "2022-04-22T22:56:16.215Z"
   },
   {
    "duration": 32,
    "start_time": "2022-04-22T22:56:16.263Z"
   },
   {
    "duration": 4,
    "start_time": "2022-04-22T22:56:16.297Z"
   },
   {
    "duration": 34,
    "start_time": "2022-04-22T22:56:16.303Z"
   },
   {
    "duration": 29,
    "start_time": "2022-04-22T22:56:16.338Z"
   },
   {
    "duration": 56,
    "start_time": "2022-04-22T22:56:16.369Z"
   },
   {
    "duration": 17,
    "start_time": "2022-04-22T22:56:16.427Z"
   },
   {
    "duration": 200,
    "start_time": "2022-04-22T22:56:16.445Z"
   },
   {
    "duration": 126,
    "start_time": "2022-04-22T22:56:16.647Z"
   },
   {
    "duration": 217,
    "start_time": "2022-04-22T22:56:16.775Z"
   },
   {
    "duration": 294,
    "start_time": "2022-04-22T22:56:16.994Z"
   },
   {
    "duration": 242,
    "start_time": "2022-04-22T22:56:17.290Z"
   },
   {
    "duration": 3,
    "start_time": "2022-04-22T22:56:17.536Z"
   },
   {
    "duration": 34,
    "start_time": "2022-04-22T22:56:17.540Z"
   },
   {
    "duration": 20,
    "start_time": "2022-04-22T22:56:17.576Z"
   },
   {
    "duration": 765,
    "start_time": "2022-04-22T22:56:17.598Z"
   },
   {
    "duration": 8,
    "start_time": "2022-04-22T22:56:18.365Z"
   },
   {
    "duration": 14,
    "start_time": "2022-04-22T22:56:18.375Z"
   },
   {
    "duration": 13,
    "start_time": "2022-04-22T22:56:18.391Z"
   },
   {
    "duration": 5,
    "start_time": "2022-04-22T22:56:18.406Z"
   },
   {
    "duration": 9,
    "start_time": "2022-04-22T22:56:18.423Z"
   },
   {
    "duration": 318,
    "start_time": "2022-04-22T22:56:18.433Z"
   },
   {
    "duration": 6,
    "start_time": "2022-04-22T22:56:59.502Z"
   },
   {
    "duration": 1777,
    "start_time": "2022-04-22T22:58:06.270Z"
   },
   {
    "duration": 5,
    "start_time": "2022-04-22T22:58:29.068Z"
   },
   {
    "duration": 20,
    "start_time": "2022-04-22T22:58:52.342Z"
   },
   {
    "duration": 19,
    "start_time": "2022-04-22T22:59:11.528Z"
   },
   {
    "duration": 18,
    "start_time": "2022-04-22T22:59:21.014Z"
   },
   {
    "duration": 19,
    "start_time": "2022-04-22T23:00:40.561Z"
   },
   {
    "duration": 19,
    "start_time": "2022-04-22T23:00:50.116Z"
   },
   {
    "duration": 12,
    "start_time": "2022-04-22T23:02:29.880Z"
   },
   {
    "duration": 1134,
    "start_time": "2022-04-22T23:02:45.784Z"
   },
   {
    "duration": 44,
    "start_time": "2022-04-22T23:02:46.920Z"
   },
   {
    "duration": 33,
    "start_time": "2022-04-22T23:02:46.965Z"
   },
   {
    "duration": 4,
    "start_time": "2022-04-22T23:02:47.000Z"
   },
   {
    "duration": 35,
    "start_time": "2022-04-22T23:02:47.005Z"
   },
   {
    "duration": 28,
    "start_time": "2022-04-22T23:02:47.041Z"
   },
   {
    "duration": 54,
    "start_time": "2022-04-22T23:02:47.070Z"
   },
   {
    "duration": 11,
    "start_time": "2022-04-22T23:02:47.126Z"
   },
   {
    "duration": 121,
    "start_time": "2022-04-22T23:02:47.139Z"
   },
   {
    "duration": 0,
    "start_time": "2022-04-22T23:02:47.262Z"
   },
   {
    "duration": 0,
    "start_time": "2022-04-22T23:02:47.263Z"
   },
   {
    "duration": 0,
    "start_time": "2022-04-22T23:02:47.264Z"
   },
   {
    "duration": 0,
    "start_time": "2022-04-22T23:02:47.265Z"
   },
   {
    "duration": 0,
    "start_time": "2022-04-22T23:02:47.266Z"
   },
   {
    "duration": 0,
    "start_time": "2022-04-22T23:02:47.267Z"
   },
   {
    "duration": 0,
    "start_time": "2022-04-22T23:02:47.268Z"
   },
   {
    "duration": 0,
    "start_time": "2022-04-22T23:02:47.269Z"
   },
   {
    "duration": 0,
    "start_time": "2022-04-22T23:02:47.270Z"
   },
   {
    "duration": 0,
    "start_time": "2022-04-22T23:02:47.270Z"
   },
   {
    "duration": 0,
    "start_time": "2022-04-22T23:02:47.271Z"
   },
   {
    "duration": 0,
    "start_time": "2022-04-22T23:02:47.272Z"
   },
   {
    "duration": 0,
    "start_time": "2022-04-22T23:02:47.273Z"
   },
   {
    "duration": 0,
    "start_time": "2022-04-22T23:02:47.274Z"
   },
   {
    "duration": 11,
    "start_time": "2022-04-22T23:03:02.843Z"
   },
   {
    "duration": 1053,
    "start_time": "2022-04-22T23:03:10.179Z"
   },
   {
    "duration": 47,
    "start_time": "2022-04-22T23:03:11.234Z"
   },
   {
    "duration": 40,
    "start_time": "2022-04-22T23:03:11.283Z"
   },
   {
    "duration": 5,
    "start_time": "2022-04-22T23:03:11.325Z"
   },
   {
    "duration": 20,
    "start_time": "2022-04-22T23:03:11.332Z"
   },
   {
    "duration": 31,
    "start_time": "2022-04-22T23:03:11.354Z"
   },
   {
    "duration": 65,
    "start_time": "2022-04-22T23:03:11.386Z"
   },
   {
    "duration": 17,
    "start_time": "2022-04-22T23:03:11.453Z"
   },
   {
    "duration": 195,
    "start_time": "2022-04-22T23:03:11.471Z"
   },
   {
    "duration": 121,
    "start_time": "2022-04-22T23:03:11.668Z"
   },
   {
    "duration": 210,
    "start_time": "2022-04-22T23:03:11.791Z"
   },
   {
    "duration": 277,
    "start_time": "2022-04-22T23:03:12.002Z"
   },
   {
    "duration": 237,
    "start_time": "2022-04-22T23:03:12.281Z"
   },
   {
    "duration": 3,
    "start_time": "2022-04-22T23:03:12.524Z"
   },
   {
    "duration": 34,
    "start_time": "2022-04-22T23:03:12.529Z"
   },
   {
    "duration": 21,
    "start_time": "2022-04-22T23:03:12.564Z"
   },
   {
    "duration": 1083,
    "start_time": "2022-04-22T23:03:12.587Z"
   },
   {
    "duration": 7,
    "start_time": "2022-04-22T23:03:13.671Z"
   },
   {
    "duration": 17,
    "start_time": "2022-04-22T23:03:13.680Z"
   },
   {
    "duration": 16,
    "start_time": "2022-04-22T23:03:13.699Z"
   },
   {
    "duration": 5,
    "start_time": "2022-04-22T23:03:13.716Z"
   },
   {
    "duration": 16,
    "start_time": "2022-04-22T23:03:13.722Z"
   },
   {
    "duration": 311,
    "start_time": "2022-04-22T23:03:13.740Z"
   },
   {
    "duration": 102,
    "start_time": "2022-04-22T23:03:45.657Z"
   },
   {
    "duration": 12,
    "start_time": "2022-04-22T23:03:57.132Z"
   },
   {
    "duration": 18,
    "start_time": "2022-04-22T23:07:39.364Z"
   },
   {
    "duration": 1111,
    "start_time": "2022-04-22T23:07:48.117Z"
   },
   {
    "duration": 47,
    "start_time": "2022-04-22T23:07:49.231Z"
   },
   {
    "duration": 45,
    "start_time": "2022-04-22T23:07:49.280Z"
   },
   {
    "duration": 5,
    "start_time": "2022-04-22T23:07:49.327Z"
   },
   {
    "duration": 18,
    "start_time": "2022-04-22T23:07:49.334Z"
   },
   {
    "duration": 30,
    "start_time": "2022-04-22T23:07:49.354Z"
   },
   {
    "duration": 71,
    "start_time": "2022-04-22T23:07:49.386Z"
   },
   {
    "duration": 18,
    "start_time": "2022-04-22T23:07:49.458Z"
   },
   {
    "duration": 218,
    "start_time": "2022-04-22T23:07:49.478Z"
   },
   {
    "duration": 139,
    "start_time": "2022-04-22T23:07:49.699Z"
   },
   {
    "duration": 224,
    "start_time": "2022-04-22T23:07:49.839Z"
   },
   {
    "duration": 300,
    "start_time": "2022-04-22T23:07:50.065Z"
   },
   {
    "duration": 259,
    "start_time": "2022-04-22T23:07:50.367Z"
   },
   {
    "duration": 4,
    "start_time": "2022-04-22T23:07:50.627Z"
   },
   {
    "duration": 40,
    "start_time": "2022-04-22T23:07:50.632Z"
   },
   {
    "duration": 22,
    "start_time": "2022-04-22T23:07:50.674Z"
   },
   {
    "duration": 849,
    "start_time": "2022-04-22T23:07:50.697Z"
   },
   {
    "duration": 8,
    "start_time": "2022-04-22T23:07:51.548Z"
   },
   {
    "duration": 17,
    "start_time": "2022-04-22T23:07:51.557Z"
   },
   {
    "duration": 15,
    "start_time": "2022-04-22T23:07:51.575Z"
   },
   {
    "duration": 8,
    "start_time": "2022-04-22T23:07:51.592Z"
   },
   {
    "duration": 24,
    "start_time": "2022-04-22T23:07:51.601Z"
   },
   {
    "duration": 338,
    "start_time": "2022-04-22T23:07:51.627Z"
   },
   {
    "duration": 13,
    "start_time": "2022-04-22T23:12:05.176Z"
   },
   {
    "duration": 16,
    "start_time": "2022-04-22T23:13:51.674Z"
   },
   {
    "duration": 1103,
    "start_time": "2022-04-22T23:14:22.432Z"
   },
   {
    "duration": 46,
    "start_time": "2022-04-22T23:14:23.537Z"
   },
   {
    "duration": 41,
    "start_time": "2022-04-22T23:14:23.585Z"
   },
   {
    "duration": 5,
    "start_time": "2022-04-22T23:14:23.628Z"
   },
   {
    "duration": 19,
    "start_time": "2022-04-22T23:14:23.634Z"
   },
   {
    "duration": 30,
    "start_time": "2022-04-22T23:14:23.654Z"
   },
   {
    "duration": 66,
    "start_time": "2022-04-22T23:14:23.685Z"
   },
   {
    "duration": 17,
    "start_time": "2022-04-22T23:14:23.752Z"
   },
   {
    "duration": 206,
    "start_time": "2022-04-22T23:14:23.770Z"
   },
   {
    "duration": 130,
    "start_time": "2022-04-22T23:14:23.979Z"
   },
   {
    "duration": 226,
    "start_time": "2022-04-22T23:14:24.110Z"
   },
   {
    "duration": 298,
    "start_time": "2022-04-22T23:14:24.337Z"
   },
   {
    "duration": 248,
    "start_time": "2022-04-22T23:14:24.637Z"
   },
   {
    "duration": 3,
    "start_time": "2022-04-22T23:14:24.887Z"
   },
   {
    "duration": 51,
    "start_time": "2022-04-22T23:14:24.891Z"
   },
   {
    "duration": 23,
    "start_time": "2022-04-22T23:14:24.943Z"
   },
   {
    "duration": 1044,
    "start_time": "2022-04-22T23:14:25.023Z"
   },
   {
    "duration": 7,
    "start_time": "2022-04-22T23:14:26.069Z"
   },
   {
    "duration": 17,
    "start_time": "2022-04-22T23:14:26.077Z"
   },
   {
    "duration": 15,
    "start_time": "2022-04-22T23:14:26.096Z"
   },
   {
    "duration": 5,
    "start_time": "2022-04-22T23:14:26.112Z"
   },
   {
    "duration": 10,
    "start_time": "2022-04-22T23:14:26.119Z"
   },
   {
    "duration": 335,
    "start_time": "2022-04-22T23:14:26.131Z"
   },
   {
    "duration": 11,
    "start_time": "2022-04-22T23:14:52.661Z"
   },
   {
    "duration": 11,
    "start_time": "2022-04-22T23:15:07.572Z"
   },
   {
    "duration": 18,
    "start_time": "2022-04-22T23:15:19.162Z"
   },
   {
    "duration": 19,
    "start_time": "2022-04-22T23:17:57.864Z"
   },
   {
    "duration": 1086,
    "start_time": "2022-04-22T23:18:05.332Z"
   },
   {
    "duration": 44,
    "start_time": "2022-04-22T23:18:06.420Z"
   },
   {
    "duration": 34,
    "start_time": "2022-04-22T23:18:06.466Z"
   },
   {
    "duration": 22,
    "start_time": "2022-04-22T23:18:06.503Z"
   },
   {
    "duration": 18,
    "start_time": "2022-04-22T23:18:06.527Z"
   },
   {
    "duration": 30,
    "start_time": "2022-04-22T23:18:06.547Z"
   },
   {
    "duration": 61,
    "start_time": "2022-04-22T23:18:06.579Z"
   },
   {
    "duration": 125,
    "start_time": "2022-04-22T23:18:06.642Z"
   },
   {
    "duration": 0,
    "start_time": "2022-04-22T23:18:06.770Z"
   },
   {
    "duration": 1,
    "start_time": "2022-04-22T23:18:06.771Z"
   },
   {
    "duration": 1,
    "start_time": "2022-04-22T23:18:06.772Z"
   },
   {
    "duration": 0,
    "start_time": "2022-04-22T23:18:06.774Z"
   },
   {
    "duration": 0,
    "start_time": "2022-04-22T23:18:06.776Z"
   },
   {
    "duration": 0,
    "start_time": "2022-04-22T23:18:06.777Z"
   },
   {
    "duration": 0,
    "start_time": "2022-04-22T23:18:06.778Z"
   },
   {
    "duration": 0,
    "start_time": "2022-04-22T23:18:06.780Z"
   },
   {
    "duration": 0,
    "start_time": "2022-04-22T23:18:06.781Z"
   },
   {
    "duration": 0,
    "start_time": "2022-04-22T23:18:06.782Z"
   },
   {
    "duration": 0,
    "start_time": "2022-04-22T23:18:06.783Z"
   },
   {
    "duration": 0,
    "start_time": "2022-04-22T23:18:06.785Z"
   },
   {
    "duration": 0,
    "start_time": "2022-04-22T23:18:06.786Z"
   },
   {
    "duration": 0,
    "start_time": "2022-04-22T23:18:06.787Z"
   },
   {
    "duration": 0,
    "start_time": "2022-04-22T23:18:06.788Z"
   },
   {
    "duration": 16,
    "start_time": "2022-04-22T23:18:27.537Z"
   },
   {
    "duration": 17,
    "start_time": "2022-04-22T23:18:39.489Z"
   },
   {
    "duration": 1062,
    "start_time": "2022-04-22T23:22:32.767Z"
   },
   {
    "duration": 46,
    "start_time": "2022-04-22T23:22:33.831Z"
   },
   {
    "duration": 33,
    "start_time": "2022-04-22T23:22:33.879Z"
   },
   {
    "duration": 5,
    "start_time": "2022-04-22T23:22:33.924Z"
   },
   {
    "duration": 19,
    "start_time": "2022-04-22T23:22:33.930Z"
   },
   {
    "duration": 29,
    "start_time": "2022-04-22T23:22:33.950Z"
   },
   {
    "duration": 61,
    "start_time": "2022-04-22T23:22:33.981Z"
   },
   {
    "duration": 19,
    "start_time": "2022-04-22T23:22:34.043Z"
   },
   {
    "duration": 196,
    "start_time": "2022-04-22T23:22:34.064Z"
   },
   {
    "duration": 125,
    "start_time": "2022-04-22T23:22:34.263Z"
   },
   {
    "duration": 208,
    "start_time": "2022-04-22T23:22:34.390Z"
   },
   {
    "duration": 277,
    "start_time": "2022-04-22T23:22:34.599Z"
   },
   {
    "duration": 243,
    "start_time": "2022-04-22T23:22:34.877Z"
   },
   {
    "duration": 3,
    "start_time": "2022-04-22T23:22:35.121Z"
   },
   {
    "duration": 34,
    "start_time": "2022-04-22T23:22:35.125Z"
   },
   {
    "duration": 20,
    "start_time": "2022-04-22T23:22:35.160Z"
   },
   {
    "duration": 960,
    "start_time": "2022-04-22T23:22:35.182Z"
   },
   {
    "duration": 8,
    "start_time": "2022-04-22T23:22:36.143Z"
   },
   {
    "duration": 16,
    "start_time": "2022-04-22T23:22:36.152Z"
   },
   {
    "duration": 12,
    "start_time": "2022-04-22T23:22:36.169Z"
   },
   {
    "duration": 5,
    "start_time": "2022-04-22T23:22:36.182Z"
   },
   {
    "duration": 11,
    "start_time": "2022-04-22T23:22:36.188Z"
   },
   {
    "duration": 350,
    "start_time": "2022-04-22T23:22:36.200Z"
   },
   {
    "duration": 17,
    "start_time": "2022-04-22T23:23:24.672Z"
   },
   {
    "duration": 1084,
    "start_time": "2022-04-22T23:23:31.530Z"
   },
   {
    "duration": 47,
    "start_time": "2022-04-22T23:23:32.615Z"
   },
   {
    "duration": 32,
    "start_time": "2022-04-22T23:23:32.664Z"
   },
   {
    "duration": 5,
    "start_time": "2022-04-22T23:23:32.698Z"
   },
   {
    "duration": 33,
    "start_time": "2022-04-22T23:23:32.704Z"
   },
   {
    "duration": 29,
    "start_time": "2022-04-22T23:23:32.739Z"
   },
   {
    "duration": 57,
    "start_time": "2022-04-22T23:23:32.769Z"
   },
   {
    "duration": 19,
    "start_time": "2022-04-22T23:23:32.828Z"
   },
   {
    "duration": 197,
    "start_time": "2022-04-22T23:23:32.848Z"
   },
   {
    "duration": 127,
    "start_time": "2022-04-22T23:23:33.048Z"
   },
   {
    "duration": 214,
    "start_time": "2022-04-22T23:23:33.177Z"
   },
   {
    "duration": 457,
    "start_time": "2022-04-22T23:23:33.393Z"
   },
   {
    "duration": 497,
    "start_time": "2022-04-22T23:23:33.852Z"
   },
   {
    "duration": 3,
    "start_time": "2022-04-22T23:23:34.351Z"
   },
   {
    "duration": 107,
    "start_time": "2022-04-22T23:23:34.356Z"
   },
   {
    "duration": 77,
    "start_time": "2022-04-22T23:23:34.465Z"
   },
   {
    "duration": 837,
    "start_time": "2022-04-22T23:23:34.544Z"
   },
   {
    "duration": 9,
    "start_time": "2022-04-22T23:23:35.382Z"
   },
   {
    "duration": 22,
    "start_time": "2022-04-22T23:23:35.392Z"
   },
   {
    "duration": 20,
    "start_time": "2022-04-22T23:23:35.415Z"
   },
   {
    "duration": 9,
    "start_time": "2022-04-22T23:23:35.437Z"
   },
   {
    "duration": 12,
    "start_time": "2022-04-22T23:23:35.448Z"
   },
   {
    "duration": 331,
    "start_time": "2022-04-22T23:23:35.462Z"
   },
   {
    "duration": 1111,
    "start_time": "2022-04-22T23:33:33.113Z"
   },
   {
    "duration": 46,
    "start_time": "2022-04-22T23:33:34.226Z"
   },
   {
    "duration": 32,
    "start_time": "2022-04-22T23:33:34.274Z"
   },
   {
    "duration": 18,
    "start_time": "2022-04-22T23:33:34.308Z"
   },
   {
    "duration": 19,
    "start_time": "2022-04-22T23:33:34.327Z"
   },
   {
    "duration": 29,
    "start_time": "2022-04-22T23:33:34.347Z"
   },
   {
    "duration": 62,
    "start_time": "2022-04-22T23:33:34.377Z"
   },
   {
    "duration": 181,
    "start_time": "2022-04-22T23:33:34.441Z"
   },
   {
    "duration": 123,
    "start_time": "2022-04-22T23:33:34.623Z"
   },
   {
    "duration": 310,
    "start_time": "2022-04-22T23:33:34.749Z"
   },
   {
    "duration": 279,
    "start_time": "2022-04-22T23:33:35.060Z"
   },
   {
    "duration": 294,
    "start_time": "2022-04-22T23:33:35.341Z"
   },
   {
    "duration": 3,
    "start_time": "2022-04-22T23:33:35.636Z"
   },
   {
    "duration": 88,
    "start_time": "2022-04-22T23:33:35.641Z"
   },
   {
    "duration": 20,
    "start_time": "2022-04-22T23:33:35.730Z"
   },
   {
    "duration": 933,
    "start_time": "2022-04-22T23:33:35.752Z"
   },
   {
    "duration": 7,
    "start_time": "2022-04-22T23:33:36.686Z"
   },
   {
    "duration": 17,
    "start_time": "2022-04-22T23:33:36.694Z"
   },
   {
    "duration": 13,
    "start_time": "2022-04-22T23:33:36.713Z"
   },
   {
    "duration": 7,
    "start_time": "2022-04-22T23:33:36.728Z"
   },
   {
    "duration": 12,
    "start_time": "2022-04-22T23:33:36.736Z"
   },
   {
    "duration": 339,
    "start_time": "2022-04-22T23:33:36.750Z"
   }
  ],
  "kernelspec": {
   "display_name": "Python 3 (ipykernel)",
   "language": "python",
   "name": "python3"
  },
  "language_info": {
   "codemirror_mode": {
    "name": "ipython",
    "version": 3
   },
   "file_extension": ".py",
   "mimetype": "text/x-python",
   "name": "python",
   "nbconvert_exporter": "python",
   "pygments_lexer": "ipython3",
   "version": "3.10.9"
  },
  "toc": {
   "base_numbering": 1,
   "nav_menu": {},
   "number_sections": true,
   "sideBar": true,
   "skip_h1_title": true,
   "title_cell": "Table of Contents",
   "title_sidebar": "Contents",
   "toc_cell": false,
   "toc_position": {
    "height": "calc(100% - 180px)",
    "left": "10px",
    "top": "150px",
    "width": "286.237px"
   },
   "toc_section_display": true,
   "toc_window_display": false
  }
 },
 "nbformat": 4,
 "nbformat_minor": 2
}
