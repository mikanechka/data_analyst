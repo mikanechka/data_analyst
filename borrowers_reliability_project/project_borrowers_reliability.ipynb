{
 "cells": [
  {
   "cell_type": "markdown",
   "metadata": {},
   "source": [
    "# Исследование надёжности заёмщиков\n",
    "\n",
    "Заказчик — кредитный отдел банка. Нужно разобраться, влияет ли семейное положение и количество детей клиента на факт погашения кредита в срок. Входные данные от банка — статистика о платёжеспособности клиентов.\n",
    "\n",
    "Результаты исследования будут учтены при построении модели **кредитного скоринга** — специальной системы, которая оценивает способность потенциального заёмщика вернуть кредит банку."
   ]
  },
  {
   "cell_type": "markdown",
   "metadata": {},
   "source": [
    "## Изучение общей информации"
   ]
  },
  {
   "cell_type": "markdown",
   "metadata": {},
   "source": [
    "Для того чтобы открыть файл в формате csv, импортируем нужную библиотеку. Для работы с табличными данными лучше всего подойдет Pandas."
   ]
  },
  {
   "cell_type": "code",
   "execution_count": 1,
   "metadata": {},
   "outputs": [],
   "source": [
    "import pandas as pd\n",
    "from pymystem3 import Mystem\n",
    "from collections import Counter"
   ]
  },
  {
   "cell_type": "code",
   "execution_count": 2,
   "metadata": {},
   "outputs": [],
   "source": [
    "df = pd.read_csv('')"
   ]
  },
  {
   "cell_type": "markdown",
   "metadata": {},
   "source": [
    "Чтобы получить общее представление о датасете, ознакомимся с первыми и последними строками таблицы, а также изучим общую инфо о файле."
   ]
  },
  {
   "cell_type": "code",
   "execution_count": 3,
   "metadata": {},
   "outputs": [
    {
     "data": {
      "text/html": [
       "<div>\n",
       "<style scoped>\n",
       "    .dataframe tbody tr th:only-of-type {\n",
       "        vertical-align: middle;\n",
       "    }\n",
       "\n",
       "    .dataframe tbody tr th {\n",
       "        vertical-align: top;\n",
       "    }\n",
       "\n",
       "    .dataframe thead th {\n",
       "        text-align: right;\n",
       "    }\n",
       "</style>\n",
       "<table border=\"1\" class=\"dataframe\">\n",
       "  <thead>\n",
       "    <tr style=\"text-align: right;\">\n",
       "      <th></th>\n",
       "      <th>children</th>\n",
       "      <th>days_employed</th>\n",
       "      <th>dob_years</th>\n",
       "      <th>education</th>\n",
       "      <th>education_id</th>\n",
       "      <th>family_status</th>\n",
       "      <th>family_status_id</th>\n",
       "      <th>gender</th>\n",
       "      <th>income_type</th>\n",
       "      <th>debt</th>\n",
       "      <th>total_income</th>\n",
       "      <th>purpose</th>\n",
       "    </tr>\n",
       "  </thead>\n",
       "  <tbody>\n",
       "    <tr>\n",
       "      <td>0</td>\n",
       "      <td>1</td>\n",
       "      <td>-8437.673028</td>\n",
       "      <td>42</td>\n",
       "      <td>высшее</td>\n",
       "      <td>0</td>\n",
       "      <td>женат / замужем</td>\n",
       "      <td>0</td>\n",
       "      <td>F</td>\n",
       "      <td>сотрудник</td>\n",
       "      <td>0</td>\n",
       "      <td>253875.639453</td>\n",
       "      <td>покупка жилья</td>\n",
       "    </tr>\n",
       "    <tr>\n",
       "      <td>1</td>\n",
       "      <td>1</td>\n",
       "      <td>-4024.803754</td>\n",
       "      <td>36</td>\n",
       "      <td>среднее</td>\n",
       "      <td>1</td>\n",
       "      <td>женат / замужем</td>\n",
       "      <td>0</td>\n",
       "      <td>F</td>\n",
       "      <td>сотрудник</td>\n",
       "      <td>0</td>\n",
       "      <td>112080.014102</td>\n",
       "      <td>приобретение автомобиля</td>\n",
       "    </tr>\n",
       "    <tr>\n",
       "      <td>2</td>\n",
       "      <td>0</td>\n",
       "      <td>-5623.422610</td>\n",
       "      <td>33</td>\n",
       "      <td>Среднее</td>\n",
       "      <td>1</td>\n",
       "      <td>женат / замужем</td>\n",
       "      <td>0</td>\n",
       "      <td>M</td>\n",
       "      <td>сотрудник</td>\n",
       "      <td>0</td>\n",
       "      <td>145885.952297</td>\n",
       "      <td>покупка жилья</td>\n",
       "    </tr>\n",
       "    <tr>\n",
       "      <td>3</td>\n",
       "      <td>3</td>\n",
       "      <td>-4124.747207</td>\n",
       "      <td>32</td>\n",
       "      <td>среднее</td>\n",
       "      <td>1</td>\n",
       "      <td>женат / замужем</td>\n",
       "      <td>0</td>\n",
       "      <td>M</td>\n",
       "      <td>сотрудник</td>\n",
       "      <td>0</td>\n",
       "      <td>267628.550329</td>\n",
       "      <td>дополнительное образование</td>\n",
       "    </tr>\n",
       "    <tr>\n",
       "      <td>4</td>\n",
       "      <td>0</td>\n",
       "      <td>340266.072047</td>\n",
       "      <td>53</td>\n",
       "      <td>среднее</td>\n",
       "      <td>1</td>\n",
       "      <td>гражданский брак</td>\n",
       "      <td>1</td>\n",
       "      <td>F</td>\n",
       "      <td>пенсионер</td>\n",
       "      <td>0</td>\n",
       "      <td>158616.077870</td>\n",
       "      <td>сыграть свадьбу</td>\n",
       "    </tr>\n",
       "    <tr>\n",
       "      <td>5</td>\n",
       "      <td>0</td>\n",
       "      <td>-926.185831</td>\n",
       "      <td>27</td>\n",
       "      <td>высшее</td>\n",
       "      <td>0</td>\n",
       "      <td>гражданский брак</td>\n",
       "      <td>1</td>\n",
       "      <td>M</td>\n",
       "      <td>компаньон</td>\n",
       "      <td>0</td>\n",
       "      <td>255763.565419</td>\n",
       "      <td>покупка жилья</td>\n",
       "    </tr>\n",
       "    <tr>\n",
       "      <td>6</td>\n",
       "      <td>0</td>\n",
       "      <td>-2879.202052</td>\n",
       "      <td>43</td>\n",
       "      <td>высшее</td>\n",
       "      <td>0</td>\n",
       "      <td>женат / замужем</td>\n",
       "      <td>0</td>\n",
       "      <td>F</td>\n",
       "      <td>компаньон</td>\n",
       "      <td>0</td>\n",
       "      <td>240525.971920</td>\n",
       "      <td>операции с жильем</td>\n",
       "    </tr>\n",
       "    <tr>\n",
       "      <td>7</td>\n",
       "      <td>0</td>\n",
       "      <td>-152.779569</td>\n",
       "      <td>50</td>\n",
       "      <td>СРЕДНЕЕ</td>\n",
       "      <td>1</td>\n",
       "      <td>женат / замужем</td>\n",
       "      <td>0</td>\n",
       "      <td>M</td>\n",
       "      <td>сотрудник</td>\n",
       "      <td>0</td>\n",
       "      <td>135823.934197</td>\n",
       "      <td>образование</td>\n",
       "    </tr>\n",
       "    <tr>\n",
       "      <td>8</td>\n",
       "      <td>2</td>\n",
       "      <td>-6929.865299</td>\n",
       "      <td>35</td>\n",
       "      <td>ВЫСШЕЕ</td>\n",
       "      <td>0</td>\n",
       "      <td>гражданский брак</td>\n",
       "      <td>1</td>\n",
       "      <td>F</td>\n",
       "      <td>сотрудник</td>\n",
       "      <td>0</td>\n",
       "      <td>95856.832424</td>\n",
       "      <td>на проведение свадьбы</td>\n",
       "    </tr>\n",
       "    <tr>\n",
       "      <td>9</td>\n",
       "      <td>0</td>\n",
       "      <td>-2188.756445</td>\n",
       "      <td>41</td>\n",
       "      <td>среднее</td>\n",
       "      <td>1</td>\n",
       "      <td>женат / замужем</td>\n",
       "      <td>0</td>\n",
       "      <td>M</td>\n",
       "      <td>сотрудник</td>\n",
       "      <td>0</td>\n",
       "      <td>144425.938277</td>\n",
       "      <td>покупка жилья для семьи</td>\n",
       "    </tr>\n",
       "  </tbody>\n",
       "</table>\n",
       "</div>"
      ],
      "text/plain": [
       "   children  days_employed  dob_years education  education_id  \\\n",
       "0         1   -8437.673028         42    высшее             0   \n",
       "1         1   -4024.803754         36   среднее             1   \n",
       "2         0   -5623.422610         33   Среднее             1   \n",
       "3         3   -4124.747207         32   среднее             1   \n",
       "4         0  340266.072047         53   среднее             1   \n",
       "5         0    -926.185831         27    высшее             0   \n",
       "6         0   -2879.202052         43    высшее             0   \n",
       "7         0    -152.779569         50   СРЕДНЕЕ             1   \n",
       "8         2   -6929.865299         35    ВЫСШЕЕ             0   \n",
       "9         0   -2188.756445         41   среднее             1   \n",
       "\n",
       "      family_status  family_status_id gender income_type  debt   total_income  \\\n",
       "0   женат / замужем                 0      F   сотрудник     0  253875.639453   \n",
       "1   женат / замужем                 0      F   сотрудник     0  112080.014102   \n",
       "2   женат / замужем                 0      M   сотрудник     0  145885.952297   \n",
       "3   женат / замужем                 0      M   сотрудник     0  267628.550329   \n",
       "4  гражданский брак                 1      F   пенсионер     0  158616.077870   \n",
       "5  гражданский брак                 1      M   компаньон     0  255763.565419   \n",
       "6   женат / замужем                 0      F   компаньон     0  240525.971920   \n",
       "7   женат / замужем                 0      M   сотрудник     0  135823.934197   \n",
       "8  гражданский брак                 1      F   сотрудник     0   95856.832424   \n",
       "9   женат / замужем                 0      M   сотрудник     0  144425.938277   \n",
       "\n",
       "                      purpose  \n",
       "0               покупка жилья  \n",
       "1     приобретение автомобиля  \n",
       "2               покупка жилья  \n",
       "3  дополнительное образование  \n",
       "4             сыграть свадьбу  \n",
       "5               покупка жилья  \n",
       "6           операции с жильем  \n",
       "7                 образование  \n",
       "8       на проведение свадьбы  \n",
       "9     покупка жилья для семьи  "
      ]
     },
     "execution_count": 3,
     "metadata": {},
     "output_type": "execute_result"
    }
   ],
   "source": [
    "df.head(10)"
   ]
  },
  {
   "cell_type": "code",
   "execution_count": 4,
   "metadata": {},
   "outputs": [
    {
     "data": {
      "text/html": [
       "<div>\n",
       "<style scoped>\n",
       "    .dataframe tbody tr th:only-of-type {\n",
       "        vertical-align: middle;\n",
       "    }\n",
       "\n",
       "    .dataframe tbody tr th {\n",
       "        vertical-align: top;\n",
       "    }\n",
       "\n",
       "    .dataframe thead th {\n",
       "        text-align: right;\n",
       "    }\n",
       "</style>\n",
       "<table border=\"1\" class=\"dataframe\">\n",
       "  <thead>\n",
       "    <tr style=\"text-align: right;\">\n",
       "      <th></th>\n",
       "      <th>children</th>\n",
       "      <th>days_employed</th>\n",
       "      <th>dob_years</th>\n",
       "      <th>education</th>\n",
       "      <th>education_id</th>\n",
       "      <th>family_status</th>\n",
       "      <th>family_status_id</th>\n",
       "      <th>gender</th>\n",
       "      <th>income_type</th>\n",
       "      <th>debt</th>\n",
       "      <th>total_income</th>\n",
       "      <th>purpose</th>\n",
       "    </tr>\n",
       "  </thead>\n",
       "  <tbody>\n",
       "    <tr>\n",
       "      <td>21515</td>\n",
       "      <td>1</td>\n",
       "      <td>-467.685130</td>\n",
       "      <td>28</td>\n",
       "      <td>среднее</td>\n",
       "      <td>1</td>\n",
       "      <td>женат / замужем</td>\n",
       "      <td>0</td>\n",
       "      <td>F</td>\n",
       "      <td>сотрудник</td>\n",
       "      <td>1</td>\n",
       "      <td>109486.327999</td>\n",
       "      <td>заняться образованием</td>\n",
       "    </tr>\n",
       "    <tr>\n",
       "      <td>21516</td>\n",
       "      <td>0</td>\n",
       "      <td>-914.391429</td>\n",
       "      <td>42</td>\n",
       "      <td>высшее</td>\n",
       "      <td>0</td>\n",
       "      <td>женат / замужем</td>\n",
       "      <td>0</td>\n",
       "      <td>F</td>\n",
       "      <td>компаньон</td>\n",
       "      <td>0</td>\n",
       "      <td>322807.776603</td>\n",
       "      <td>покупка своего жилья</td>\n",
       "    </tr>\n",
       "    <tr>\n",
       "      <td>21517</td>\n",
       "      <td>0</td>\n",
       "      <td>-404.679034</td>\n",
       "      <td>42</td>\n",
       "      <td>высшее</td>\n",
       "      <td>0</td>\n",
       "      <td>гражданский брак</td>\n",
       "      <td>1</td>\n",
       "      <td>F</td>\n",
       "      <td>компаньон</td>\n",
       "      <td>0</td>\n",
       "      <td>178059.553491</td>\n",
       "      <td>на покупку своего автомобиля</td>\n",
       "    </tr>\n",
       "    <tr>\n",
       "      <td>21518</td>\n",
       "      <td>0</td>\n",
       "      <td>373995.710838</td>\n",
       "      <td>59</td>\n",
       "      <td>СРЕДНЕЕ</td>\n",
       "      <td>1</td>\n",
       "      <td>женат / замужем</td>\n",
       "      <td>0</td>\n",
       "      <td>F</td>\n",
       "      <td>пенсионер</td>\n",
       "      <td>0</td>\n",
       "      <td>153864.650328</td>\n",
       "      <td>сделка с автомобилем</td>\n",
       "    </tr>\n",
       "    <tr>\n",
       "      <td>21519</td>\n",
       "      <td>1</td>\n",
       "      <td>-2351.431934</td>\n",
       "      <td>37</td>\n",
       "      <td>ученая степень</td>\n",
       "      <td>4</td>\n",
       "      <td>в разводе</td>\n",
       "      <td>3</td>\n",
       "      <td>M</td>\n",
       "      <td>сотрудник</td>\n",
       "      <td>0</td>\n",
       "      <td>115949.039788</td>\n",
       "      <td>покупка коммерческой недвижимости</td>\n",
       "    </tr>\n",
       "    <tr>\n",
       "      <td>21520</td>\n",
       "      <td>1</td>\n",
       "      <td>-4529.316663</td>\n",
       "      <td>43</td>\n",
       "      <td>среднее</td>\n",
       "      <td>1</td>\n",
       "      <td>гражданский брак</td>\n",
       "      <td>1</td>\n",
       "      <td>F</td>\n",
       "      <td>компаньон</td>\n",
       "      <td>0</td>\n",
       "      <td>224791.862382</td>\n",
       "      <td>операции с жильем</td>\n",
       "    </tr>\n",
       "    <tr>\n",
       "      <td>21521</td>\n",
       "      <td>0</td>\n",
       "      <td>343937.404131</td>\n",
       "      <td>67</td>\n",
       "      <td>среднее</td>\n",
       "      <td>1</td>\n",
       "      <td>женат / замужем</td>\n",
       "      <td>0</td>\n",
       "      <td>F</td>\n",
       "      <td>пенсионер</td>\n",
       "      <td>0</td>\n",
       "      <td>155999.806512</td>\n",
       "      <td>сделка с автомобилем</td>\n",
       "    </tr>\n",
       "    <tr>\n",
       "      <td>21522</td>\n",
       "      <td>1</td>\n",
       "      <td>-2113.346888</td>\n",
       "      <td>38</td>\n",
       "      <td>среднее</td>\n",
       "      <td>1</td>\n",
       "      <td>гражданский брак</td>\n",
       "      <td>1</td>\n",
       "      <td>M</td>\n",
       "      <td>сотрудник</td>\n",
       "      <td>1</td>\n",
       "      <td>89672.561153</td>\n",
       "      <td>недвижимость</td>\n",
       "    </tr>\n",
       "    <tr>\n",
       "      <td>21523</td>\n",
       "      <td>3</td>\n",
       "      <td>-3112.481705</td>\n",
       "      <td>38</td>\n",
       "      <td>среднее</td>\n",
       "      <td>1</td>\n",
       "      <td>женат / замужем</td>\n",
       "      <td>0</td>\n",
       "      <td>M</td>\n",
       "      <td>сотрудник</td>\n",
       "      <td>1</td>\n",
       "      <td>244093.050500</td>\n",
       "      <td>на покупку своего автомобиля</td>\n",
       "    </tr>\n",
       "    <tr>\n",
       "      <td>21524</td>\n",
       "      <td>2</td>\n",
       "      <td>-1984.507589</td>\n",
       "      <td>40</td>\n",
       "      <td>среднее</td>\n",
       "      <td>1</td>\n",
       "      <td>женат / замужем</td>\n",
       "      <td>0</td>\n",
       "      <td>F</td>\n",
       "      <td>сотрудник</td>\n",
       "      <td>0</td>\n",
       "      <td>82047.418899</td>\n",
       "      <td>на покупку автомобиля</td>\n",
       "    </tr>\n",
       "  </tbody>\n",
       "</table>\n",
       "</div>"
      ],
      "text/plain": [
       "       children  days_employed  dob_years       education  education_id  \\\n",
       "21515         1    -467.685130         28         среднее             1   \n",
       "21516         0    -914.391429         42          высшее             0   \n",
       "21517         0    -404.679034         42          высшее             0   \n",
       "21518         0  373995.710838         59         СРЕДНЕЕ             1   \n",
       "21519         1   -2351.431934         37  ученая степень             4   \n",
       "21520         1   -4529.316663         43         среднее             1   \n",
       "21521         0  343937.404131         67         среднее             1   \n",
       "21522         1   -2113.346888         38         среднее             1   \n",
       "21523         3   -3112.481705         38         среднее             1   \n",
       "21524         2   -1984.507589         40         среднее             1   \n",
       "\n",
       "          family_status  family_status_id gender income_type  debt  \\\n",
       "21515   женат / замужем                 0      F   сотрудник     1   \n",
       "21516   женат / замужем                 0      F   компаньон     0   \n",
       "21517  гражданский брак                 1      F   компаньон     0   \n",
       "21518   женат / замужем                 0      F   пенсионер     0   \n",
       "21519         в разводе                 3      M   сотрудник     0   \n",
       "21520  гражданский брак                 1      F   компаньон     0   \n",
       "21521   женат / замужем                 0      F   пенсионер     0   \n",
       "21522  гражданский брак                 1      M   сотрудник     1   \n",
       "21523   женат / замужем                 0      M   сотрудник     1   \n",
       "21524   женат / замужем                 0      F   сотрудник     0   \n",
       "\n",
       "        total_income                            purpose  \n",
       "21515  109486.327999              заняться образованием  \n",
       "21516  322807.776603               покупка своего жилья  \n",
       "21517  178059.553491       на покупку своего автомобиля  \n",
       "21518  153864.650328               сделка с автомобилем  \n",
       "21519  115949.039788  покупка коммерческой недвижимости  \n",
       "21520  224791.862382                  операции с жильем  \n",
       "21521  155999.806512               сделка с автомобилем  \n",
       "21522   89672.561153                       недвижимость  \n",
       "21523  244093.050500       на покупку своего автомобиля  \n",
       "21524   82047.418899              на покупку автомобиля  "
      ]
     },
     "execution_count": 4,
     "metadata": {},
     "output_type": "execute_result"
    }
   ],
   "source": [
    "df.tail(10)"
   ]
  },
  {
   "cell_type": "code",
   "execution_count": 5,
   "metadata": {},
   "outputs": [
    {
     "name": "stdout",
     "output_type": "stream",
     "text": [
      "<class 'pandas.core.frame.DataFrame'>\n",
      "RangeIndex: 21525 entries, 0 to 21524\n",
      "Data columns (total 12 columns):\n",
      "children            21525 non-null int64\n",
      "days_employed       19351 non-null float64\n",
      "dob_years           21525 non-null int64\n",
      "education           21525 non-null object\n",
      "education_id        21525 non-null int64\n",
      "family_status       21525 non-null object\n",
      "family_status_id    21525 non-null int64\n",
      "gender              21525 non-null object\n",
      "income_type         21525 non-null object\n",
      "debt                21525 non-null int64\n",
      "total_income        19351 non-null float64\n",
      "purpose             21525 non-null object\n",
      "dtypes: float64(2), int64(5), object(5)\n",
      "memory usage: 2.0+ MB\n"
     ]
    }
   ],
   "source": [
    "df.info()"
   ]
  },
  {
   "cell_type": "code",
   "execution_count": 6,
   "metadata": {},
   "outputs": [
    {
     "data": {
      "text/plain": [
       "Index(['children', 'days_employed', 'dob_years', 'education', 'education_id',\n",
       "       'family_status', 'family_status_id', 'gender', 'income_type', 'debt',\n",
       "       'total_income', 'purpose'],\n",
       "      dtype='object')"
      ]
     },
     "execution_count": 6,
     "metadata": {},
     "output_type": "execute_result"
    }
   ],
   "source": [
    "df.columns #проверка на наличие лишних пробелов в названии столбцов"
   ]
  },
  {
   "cell_type": "markdown",
   "metadata": {},
   "source": [
    "**Вывод** \n",
    "\n",
    "Открыв файл с данными, мы получили таблицу с информацией о 21525 потенциальных заемщиках банка, которая включает в себя 12 столбцов. Условно все столбцы можно поделить на 2 группы: семья (кол-во детей, семейное положение) и карьера (трудовой стаж, доход). Для целей анализа необходимо будет оценить зависимость первой группы критериев на своевременное погашение долговых обязательств. \n",
    "\n",
    "Рассмотрев первые и последние 10 строк таблицы, а также общую информацию о ней, можно заметить ряд проблем:\n",
    "1) Строчные буквы сочетаются с прописными \n",
    "\n",
    "2) Встречаются дубликаты\n",
    "\n",
    "3) Некорректный формат отображения данных в столбцах 'days_employed' и 'total_income'\n",
    "\n",
    "3) Отрицательные значения в столбце 'days_employed'\n",
    "\n",
    "4) В данных есть пропущенные значения"
   ]
  },
  {
   "cell_type": "markdown",
   "metadata": {},
   "source": [
    "## Предобработка данных"
   ]
  },
  {
   "cell_type": "markdown",
   "metadata": {},
   "source": [
    "### Обработка пропусков"
   ]
  },
  {
   "cell_type": "markdown",
   "metadata": {},
   "source": [
    "Для начала проверим, какой объем занимают пропущенные значения"
   ]
  },
  {
   "cell_type": "code",
   "execution_count": 7,
   "metadata": {},
   "outputs": [
    {
     "data": {
      "text/plain": [
       "children               0\n",
       "days_employed       2174\n",
       "dob_years              0\n",
       "education              0\n",
       "education_id           0\n",
       "family_status          0\n",
       "family_status_id       0\n",
       "gender                 0\n",
       "income_type            0\n",
       "debt                   0\n",
       "total_income        2174\n",
       "purpose                0\n",
       "dtype: int64"
      ]
     },
     "execution_count": 7,
     "metadata": {},
     "output_type": "execute_result"
    }
   ],
   "source": [
    "df.isna().sum()"
   ]
  },
  {
   "cell_type": "markdown",
   "metadata": {},
   "source": [
    "Можно заметить некоторую взаимосвязь между пропусками в столбцах 'days_employed' и 'total_income'. Возможные причины: ошибки при выгрузке данных или же часть клиентов действительно не работает, следовательно, и совокупный доход будет пустым.\n",
    "\n",
    "Для удобства анализа и исключения ошибок необходимо избавиться от пустых значений в этих столбцах. Заменим их на 0. "
   ]
  },
  {
   "cell_type": "code",
   "execution_count": 8,
   "metadata": {},
   "outputs": [
    {
     "data": {
      "text/plain": [
       "children            0\n",
       "days_employed       0\n",
       "dob_years           0\n",
       "education           0\n",
       "education_id        0\n",
       "family_status       0\n",
       "family_status_id    0\n",
       "gender              0\n",
       "income_type         0\n",
       "debt                0\n",
       "total_income        0\n",
       "purpose             0\n",
       "dtype: int64"
      ]
     },
     "execution_count": 8,
     "metadata": {},
     "output_type": "execute_result"
    }
   ],
   "source": [
    "df['days_employed'] = df['days_employed'].fillna(0)\n",
    "df['total_income'] = df['total_income'].fillna(0)\n",
    "df.isna().sum()"
   ]
  },
  {
   "cell_type": "markdown",
   "metadata": {},
   "source": [
    "Таким образом, мы избавились от пустых значений в данных.\n",
    "\n",
    "Однако помимо пропусков в значениях существует ряд стилистических проблем. Разберем каждый столбец по отдельности."
   ]
  },
  {
   "cell_type": "code",
   "execution_count": 9,
   "metadata": {},
   "outputs": [
    {
     "data": {
      "text/plain": [
       " 0     14149\n",
       " 1      4818\n",
       " 2      2055\n",
       " 3       330\n",
       " 20       76\n",
       "-1        47\n",
       " 4        41\n",
       " 5         9\n",
       "Name: children, dtype: int64"
      ]
     },
     "execution_count": 9,
     "metadata": {},
     "output_type": "execute_result"
    }
   ],
   "source": [
    "# проверка столбца children\n",
    "df['children'].value_counts()"
   ]
  },
  {
   "cell_type": "markdown",
   "metadata": {},
   "source": [
    "В столбце с кол-вом детей присутствуют отрицательные значения, а также несоразмерно большие. В первом случае подобное обозначение может предполагать отсутствие детей, тогда значения -1 можно заменить на 0. Во втором случае возможна опечатка: вместо 20 детей предполагается 2. Произведем замены. "
   ]
  },
  {
   "cell_type": "code",
   "execution_count": 10,
   "metadata": {
    "scrolled": true
   },
   "outputs": [
    {
     "data": {
      "text/plain": [
       "0    14272\n",
       "1     4818\n",
       "2     2055\n",
       "3      330\n",
       "4       41\n",
       "5        9\n",
       "Name: children, dtype: int64"
      ]
     },
     "execution_count": 10,
     "metadata": {},
     "output_type": "execute_result"
    }
   ],
   "source": [
    "df['children'] = df['children'].replace(-1, 0)\n",
    "df['children'] = df['children'].replace(20, 0)\n",
    "df['children'].value_counts()"
   ]
  },
  {
   "cell_type": "code",
   "execution_count": 11,
   "metadata": {
    "scrolled": true
   },
   "outputs": [
    {
     "data": {
      "text/plain": [
       "array([-8437.67302776, -4024.80375385, -5623.42261023, ...,\n",
       "       -2113.3468877 , -3112.4817052 , -1984.50758853])"
      ]
     },
     "execution_count": 11,
     "metadata": {},
     "output_type": "execute_result"
    }
   ],
   "source": [
    "# проверка столбца days_employed\n",
    "df['days_employed'].unique()"
   ]
  },
  {
   "cell_type": "markdown",
   "metadata": {},
   "source": [
    "При просмотре уникальных значений трудового стажа мы наблюдаем отрицательные значения. Рассмотрим отдельно положительные и отрицательные значения данного столбца."
   ]
  },
  {
   "cell_type": "code",
   "execution_count": 12,
   "metadata": {},
   "outputs": [
    {
     "data": {
      "text/plain": [
       "count      3445.000000\n",
       "mean     365004.309916\n",
       "std       21075.016396\n",
       "min      328728.720605\n",
       "25%      346639.413916\n",
       "50%      365213.306266\n",
       "75%      383246.444219\n",
       "max      401755.400475\n",
       "Name: days_employed, dtype: float64"
      ]
     },
     "execution_count": 12,
     "metadata": {},
     "output_type": "execute_result"
    }
   ],
   "source": [
    "df[df['days_employed'] > 0]['days_employed'].describe() #описание данных для положительных значений"
   ]
  },
  {
   "cell_type": "code",
   "execution_count": 13,
   "metadata": {},
   "outputs": [
    {
     "data": {
      "text/plain": [
       "count    15906.000000\n",
       "mean     -2353.015932\n",
       "std       2304.243851\n",
       "min     -18388.949901\n",
       "25%      -3157.480084\n",
       "50%      -1630.019381\n",
       "75%       -756.371964\n",
       "max        -24.141633\n",
       "Name: days_employed, dtype: float64"
      ]
     },
     "execution_count": 13,
     "metadata": {},
     "output_type": "execute_result"
    }
   ],
   "source": [
    "df[df['days_employed'] < 0]['days_employed'].describe() #описание данных для отрицательных значений"
   ]
  },
  {
   "cell_type": "markdown",
   "metadata": {},
   "source": [
    "В столбце с кол-вом дней занятости присутствуют отрицательные значения, что не характерно для данного параметра. Избавимся от '-'"
   ]
  },
  {
   "cell_type": "code",
   "execution_count": 14,
   "metadata": {},
   "outputs": [],
   "source": [
    "df['days_employed'] = df['days_employed'].apply(abs)"
   ]
  },
  {
   "cell_type": "markdown",
   "metadata": {},
   "source": [
    "От отрицательных значений мы избавились, но необходимо проверить, нет ли неоправданно больших значений."
   ]
  },
  {
   "cell_type": "code",
   "execution_count": 15,
   "metadata": {},
   "outputs": [
    {
     "data": {
      "text/plain": [
       "6954     401755.400475\n",
       "10006    401715.811749\n",
       "7664     401675.093434\n",
       "2156     401674.466633\n",
       "7794     401663.850046\n",
       "4697     401635.032697\n",
       "13420    401619.633298\n",
       "17823    401614.475622\n",
       "10991    401591.828457\n",
       "8369     401590.452231\n",
       "1184     401575.196728\n",
       "4949     401573.905288\n",
       "15192    401556.753550\n",
       "5716     401524.259153\n",
       "10484    401517.276388\n",
       "16237    401486.706746\n",
       "15599    401458.877781\n",
       "701      401446.446720\n",
       "14356    401440.834336\n",
       "5762     401381.736156\n",
       "Name: days_employed, dtype: float64"
      ]
     },
     "execution_count": 15,
     "metadata": {},
     "output_type": "execute_result"
    }
   ],
   "source": [
    "df['days_employed'].sort_values(ascending = False).head(20)"
   ]
  },
  {
   "cell_type": "markdown",
   "metadata": {},
   "source": [
    "Если перевести максимальное значение в годы, получится 1100 лет. Следовательно, часть данных сохранена в другом формате. Можно предположить, что данные были выгружаны в часах, а не в днях. Переведем максимальные значения из часов в дни. "
   ]
  },
  {
   "cell_type": "code",
   "execution_count": 16,
   "metadata": {
    "scrolled": false
   },
   "outputs": [
    {
     "data": {
      "text/plain": [
       "16335    18388.949901\n",
       "4299     17615.563266\n",
       "6954     16739.808353\n",
       "10006    16738.158823\n",
       "7664     16736.462226\n",
       "2156     16736.436110\n",
       "7794     16735.993752\n",
       "4697     16734.793029\n",
       "13420    16734.151387\n",
       "17823    16733.936484\n",
       "10991    16732.992852\n",
       "8369     16732.935510\n",
       "1184     16732.299864\n",
       "4949     16732.246054\n",
       "15192    16731.531398\n",
       "5716     16730.177465\n",
       "10484    16729.886516\n",
       "16237    16728.612781\n",
       "15599    16727.453241\n",
       "701      16726.935280\n",
       "Name: days_employed, dtype: float64"
      ]
     },
     "execution_count": 16,
     "metadata": {},
     "output_type": "execute_result"
    }
   ],
   "source": [
    "df.loc[df['days_employed'] > 25000, 'days_employed'] = df.loc[df['days_employed'] > 25000, 'days_employed'] / 24\n",
    "df['days_employed'].sort_values(ascending = False).head(20)"
   ]
  },
  {
   "cell_type": "markdown",
   "metadata": {},
   "source": [
    "50 лет - уже похоже на правду!"
   ]
  },
  {
   "cell_type": "code",
   "execution_count": 17,
   "metadata": {},
   "outputs": [
    {
     "data": {
      "text/plain": [
       "8880     75\n",
       "11532    74\n",
       "19642    74\n",
       "4895     74\n",
       "3460     74\n",
       "         ..\n",
       "4147      0\n",
       "21179     0\n",
       "7034      0\n",
       "16042     0\n",
       "6859      0\n",
       "Name: dob_years, Length: 21525, dtype: int64"
      ]
     },
     "execution_count": 17,
     "metadata": {},
     "output_type": "execute_result"
    }
   ],
   "source": [
    "df['dob_years'].sort_values(ascending = False) #с этим столбцом все нормально c оформлением"
   ]
  },
  {
   "cell_type": "code",
   "execution_count": 18,
   "metadata": {},
   "outputs": [
    {
     "data": {
      "text/plain": [
       "array(['высшее', 'среднее', 'Среднее', 'СРЕДНЕЕ', 'ВЫСШЕЕ',\n",
       "       'неоконченное высшее', 'начальное', 'Высшее',\n",
       "       'НЕОКОНЧЕННОЕ ВЫСШЕЕ', 'Неоконченное высшее', 'НАЧАЛЬНОЕ',\n",
       "       'Начальное', 'Ученая степень', 'УЧЕНАЯ СТЕПЕНЬ', 'ученая степень'],\n",
       "      dtype=object)"
      ]
     },
     "execution_count": 18,
     "metadata": {},
     "output_type": "execute_result"
    }
   ],
   "source": [
    "df['education'].unique()"
   ]
  },
  {
   "cell_type": "markdown",
   "metadata": {},
   "source": [
    "Избавимся от строчной записи."
   ]
  },
  {
   "cell_type": "code",
   "execution_count": 19,
   "metadata": {},
   "outputs": [
    {
     "data": {
      "text/plain": [
       "array(['высшее', 'среднее', 'неоконченное высшее', 'начальное',\n",
       "       'ученая степень'], dtype=object)"
      ]
     },
     "execution_count": 19,
     "metadata": {},
     "output_type": "execute_result"
    }
   ],
   "source": [
    "df['education'] = df['education'].str.lower()\n",
    "df['education'].unique()"
   ]
  },
  {
   "cell_type": "code",
   "execution_count": 20,
   "metadata": {},
   "outputs": [
    {
     "data": {
      "text/plain": [
       "1    15233\n",
       "0     5260\n",
       "2      744\n",
       "3      282\n",
       "4        6\n",
       "Name: education_id, dtype: int64"
      ]
     },
     "execution_count": 20,
     "metadata": {},
     "output_type": "execute_result"
    }
   ],
   "source": [
    "df['education_id'].value_counts() #с этим столбцом все нормально c оформлением"
   ]
  },
  {
   "cell_type": "code",
   "execution_count": 21,
   "metadata": {},
   "outputs": [
    {
     "data": {
      "text/plain": [
       "array(['женат / замужем', 'гражданский брак', 'вдовец / вдова',\n",
       "       'в разводе', 'Не женат / не замужем'], dtype=object)"
      ]
     },
     "execution_count": 21,
     "metadata": {},
     "output_type": "execute_result"
    }
   ],
   "source": [
    "df['family_status'].unique() #аналогично образованию, избавимся от строчных букв"
   ]
  },
  {
   "cell_type": "code",
   "execution_count": 22,
   "metadata": {},
   "outputs": [
    {
     "data": {
      "text/plain": [
       "array(['женат / замужем', 'гражданский брак', 'вдовец / вдова',\n",
       "       'в разводе', 'не женат / не замужем'], dtype=object)"
      ]
     },
     "execution_count": 22,
     "metadata": {},
     "output_type": "execute_result"
    }
   ],
   "source": [
    "df['family_status'] = df['family_status'].str.lower()\n",
    "df['family_status'].unique()"
   ]
  },
  {
   "cell_type": "code",
   "execution_count": 23,
   "metadata": {},
   "outputs": [
    {
     "data": {
      "text/plain": [
       "0    12380\n",
       "1     4177\n",
       "4     2813\n",
       "3     1195\n",
       "2      960\n",
       "Name: family_status_id, dtype: int64"
      ]
     },
     "execution_count": 23,
     "metadata": {},
     "output_type": "execute_result"
    }
   ],
   "source": [
    "df['family_status_id'].value_counts() #с этим столбцом все нормально c оформлением"
   ]
  },
  {
   "cell_type": "code",
   "execution_count": 24,
   "metadata": {},
   "outputs": [
    {
     "data": {
      "text/plain": [
       "F      14236\n",
       "M       7288\n",
       "XNA        1\n",
       "Name: gender, dtype: int64"
      ]
     },
     "execution_count": 24,
     "metadata": {},
     "output_type": "execute_result"
    }
   ],
   "source": [
    "df['gender'].value_counts()"
   ]
  },
  {
   "cell_type": "markdown",
   "metadata": {},
   "source": [
    "Поскольку с неопределенным признаком пола всего 1 строка, можно заменить ее значение на наиболее распространенное - F."
   ]
  },
  {
   "cell_type": "code",
   "execution_count": 25,
   "metadata": {},
   "outputs": [
    {
     "data": {
      "text/plain": [
       "F    14237\n",
       "M     7288\n",
       "Name: gender, dtype: int64"
      ]
     },
     "execution_count": 25,
     "metadata": {},
     "output_type": "execute_result"
    }
   ],
   "source": [
    "df['gender'] = df['gender'].replace('XNA', 'F')\n",
    "df['gender'].value_counts()"
   ]
  },
  {
   "cell_type": "code",
   "execution_count": 26,
   "metadata": {},
   "outputs": [
    {
     "data": {
      "text/plain": [
       "сотрудник          11119\n",
       "компаньон           5085\n",
       "пенсионер           3856\n",
       "госслужащий         1459\n",
       "безработный            2\n",
       "предприниматель        2\n",
       "в декрете              1\n",
       "студент                1\n",
       "Name: income_type, dtype: int64"
      ]
     },
     "execution_count": 26,
     "metadata": {},
     "output_type": "execute_result"
    }
   ],
   "source": [
    "df['income_type'].value_counts() #с этим столбцом все нормально c оформлением"
   ]
  },
  {
   "cell_type": "code",
   "execution_count": 27,
   "metadata": {},
   "outputs": [
    {
     "data": {
      "text/plain": [
       "0    19784\n",
       "1     1741\n",
       "Name: debt, dtype: int64"
      ]
     },
     "execution_count": 27,
     "metadata": {},
     "output_type": "execute_result"
    }
   ],
   "source": [
    "df['debt'].value_counts() #с этим столбцом все нормально c оформлением"
   ]
  },
  {
   "cell_type": "code",
   "execution_count": 28,
   "metadata": {},
   "outputs": [
    {
     "data": {
      "text/plain": [
       "12412    2.265604e+06\n",
       "19606    2.200852e+06\n",
       "9169     1.726276e+06\n",
       "20809    1.715018e+06\n",
       "17178    1.711309e+06\n",
       "             ...     \n",
       "12407    0.000000e+00\n",
       "12427    0.000000e+00\n",
       "12436    0.000000e+00\n",
       "12451    0.000000e+00\n",
       "10762    0.000000e+00\n",
       "Name: total_income, Length: 21525, dtype: float64"
      ]
     },
     "execution_count": 28,
     "metadata": {},
     "output_type": "execute_result"
    }
   ],
   "source": [
    "df['total_income'].sort_values(ascending = False) #с этим столбцом все нормально c оформлением"
   ]
  },
  {
   "cell_type": "code",
   "execution_count": 29,
   "metadata": {},
   "outputs": [
    {
     "data": {
      "text/plain": [
       "array(['покупка жилья', 'приобретение автомобиля',\n",
       "       'дополнительное образование', 'сыграть свадьбу',\n",
       "       'операции с жильем', 'образование', 'на проведение свадьбы',\n",
       "       'покупка жилья для семьи', 'покупка недвижимости',\n",
       "       'покупка коммерческой недвижимости', 'покупка жилой недвижимости',\n",
       "       'строительство собственной недвижимости', 'недвижимость',\n",
       "       'строительство недвижимости', 'на покупку подержанного автомобиля',\n",
       "       'на покупку своего автомобиля',\n",
       "       'операции с коммерческой недвижимостью',\n",
       "       'строительство жилой недвижимости', 'жилье',\n",
       "       'операции со своей недвижимостью', 'автомобили',\n",
       "       'заняться образованием', 'сделка с подержанным автомобилем',\n",
       "       'получение образования', 'автомобиль', 'свадьба',\n",
       "       'получение дополнительного образования', 'покупка своего жилья',\n",
       "       'операции с недвижимостью', 'получение высшего образования',\n",
       "       'свой автомобиль', 'сделка с автомобилем',\n",
       "       'профильное образование', 'высшее образование',\n",
       "       'покупка жилья для сдачи', 'на покупку автомобиля', 'ремонт жилью',\n",
       "       'заняться высшим образованием'], dtype=object)"
      ]
     },
     "execution_count": 29,
     "metadata": {},
     "output_type": "execute_result"
    }
   ],
   "source": [
    "df['purpose'].unique() #с этим столбцом все нормально c оформлением"
   ]
  },
  {
   "cell_type": "markdown",
   "metadata": {},
   "source": [
    "**Вывод**\n",
    "\n",
    "Были обнаружены все пропуски в таблице и заменены на подходящие значения. Также была проведена работа по общей стилизации и оформлению табличных данных."
   ]
  },
  {
   "cell_type": "markdown",
   "metadata": {},
   "source": [
    "### Замена типа данных"
   ]
  },
  {
   "cell_type": "markdown",
   "metadata": {},
   "source": [
    "В датасете есть несколько столбцов, где уместен был бы другой тип данных. Сделаем заменту типов данных для данных столбцов.\n",
    "\n",
    "Во-первых, столбец с занятостью в днях (days_employed): кол-во дней всегда целое число."
   ]
  },
  {
   "cell_type": "code",
   "execution_count": 30,
   "metadata": {},
   "outputs": [
    {
     "data": {
      "text/plain": [
       "0     8437\n",
       "1     4024\n",
       "2     5623\n",
       "3     4124\n",
       "4    14177\n",
       "5      926\n",
       "6     2879\n",
       "7      152\n",
       "8     6929\n",
       "9     2188\n",
       "Name: days_employed, dtype: int64"
      ]
     },
     "execution_count": 30,
     "metadata": {},
     "output_type": "execute_result"
    }
   ],
   "source": [
    "df['days_employed'] = df['days_employed'].astype('int')\n",
    "df['days_employed'].head(10)"
   ]
  },
  {
   "cell_type": "markdown",
   "metadata": {},
   "source": [
    "Во-вторых, столбец с доходом (total_income): для лучшего восприятия можно округлить этот показатель."
   ]
  },
  {
   "cell_type": "code",
   "execution_count": 31,
   "metadata": {},
   "outputs": [
    {
     "data": {
      "text/plain": [
       "0    253875\n",
       "1    112080\n",
       "2    145885\n",
       "3    267628\n",
       "4    158616\n",
       "5    255763\n",
       "6    240525\n",
       "7    135823\n",
       "8     95856\n",
       "9    144425\n",
       "Name: total_income, dtype: int64"
      ]
     },
     "execution_count": 31,
     "metadata": {},
     "output_type": "execute_result"
    }
   ],
   "source": [
    "df['total_income'] = df['total_income'].astype('int')\n",
    "df['total_income'].head(10)"
   ]
  },
  {
   "cell_type": "code",
   "execution_count": 32,
   "metadata": {},
   "outputs": [
    {
     "name": "stdout",
     "output_type": "stream",
     "text": [
      "<class 'pandas.core.frame.DataFrame'>\n",
      "RangeIndex: 21525 entries, 0 to 21524\n",
      "Data columns (total 12 columns):\n",
      "children            21525 non-null int64\n",
      "days_employed       21525 non-null int64\n",
      "dob_years           21525 non-null int64\n",
      "education           21525 non-null object\n",
      "education_id        21525 non-null int64\n",
      "family_status       21525 non-null object\n",
      "family_status_id    21525 non-null int64\n",
      "gender              21525 non-null object\n",
      "income_type         21525 non-null object\n",
      "debt                21525 non-null int64\n",
      "total_income        21525 non-null int64\n",
      "purpose             21525 non-null object\n",
      "dtypes: int64(7), object(5)\n",
      "memory usage: 2.0+ MB\n"
     ]
    }
   ],
   "source": [
    "df.info()"
   ]
  },
  {
   "cell_type": "markdown",
   "metadata": {},
   "source": [
    "**Вывод**\n",
    "\n",
    "Теперь все данные оформлены корректно и имеют соответствующий тип данных."
   ]
  },
  {
   "cell_type": "markdown",
   "metadata": {},
   "source": [
    "### Обработка дубликатов"
   ]
  },
  {
   "cell_type": "markdown",
   "metadata": {},
   "source": [
    "Для начала проверим, какие строки попадают в категорию полных дубликатов."
   ]
  },
  {
   "cell_type": "code",
   "execution_count": 33,
   "metadata": {},
   "outputs": [
    {
     "data": {
      "text/html": [
       "<div>\n",
       "<style scoped>\n",
       "    .dataframe tbody tr th:only-of-type {\n",
       "        vertical-align: middle;\n",
       "    }\n",
       "\n",
       "    .dataframe tbody tr th {\n",
       "        vertical-align: top;\n",
       "    }\n",
       "\n",
       "    .dataframe thead th {\n",
       "        text-align: right;\n",
       "    }\n",
       "</style>\n",
       "<table border=\"1\" class=\"dataframe\">\n",
       "  <thead>\n",
       "    <tr style=\"text-align: right;\">\n",
       "      <th></th>\n",
       "      <th>children</th>\n",
       "      <th>days_employed</th>\n",
       "      <th>dob_years</th>\n",
       "      <th>education</th>\n",
       "      <th>education_id</th>\n",
       "      <th>family_status</th>\n",
       "      <th>family_status_id</th>\n",
       "      <th>gender</th>\n",
       "      <th>income_type</th>\n",
       "      <th>debt</th>\n",
       "      <th>total_income</th>\n",
       "      <th>purpose</th>\n",
       "    </tr>\n",
       "  </thead>\n",
       "  <tbody>\n",
       "    <tr>\n",
       "      <td>15892</td>\n",
       "      <td>0</td>\n",
       "      <td>0</td>\n",
       "      <td>23</td>\n",
       "      <td>среднее</td>\n",
       "      <td>1</td>\n",
       "      <td>не женат / не замужем</td>\n",
       "      <td>4</td>\n",
       "      <td>F</td>\n",
       "      <td>сотрудник</td>\n",
       "      <td>0</td>\n",
       "      <td>0</td>\n",
       "      <td>сделка с подержанным автомобилем</td>\n",
       "    </tr>\n",
       "    <tr>\n",
       "      <td>19321</td>\n",
       "      <td>0</td>\n",
       "      <td>0</td>\n",
       "      <td>23</td>\n",
       "      <td>среднее</td>\n",
       "      <td>1</td>\n",
       "      <td>не женат / не замужем</td>\n",
       "      <td>4</td>\n",
       "      <td>F</td>\n",
       "      <td>сотрудник</td>\n",
       "      <td>0</td>\n",
       "      <td>0</td>\n",
       "      <td>сделка с подержанным автомобилем</td>\n",
       "    </tr>\n",
       "    <tr>\n",
       "      <td>3452</td>\n",
       "      <td>0</td>\n",
       "      <td>0</td>\n",
       "      <td>29</td>\n",
       "      <td>высшее</td>\n",
       "      <td>0</td>\n",
       "      <td>женат / замужем</td>\n",
       "      <td>0</td>\n",
       "      <td>M</td>\n",
       "      <td>сотрудник</td>\n",
       "      <td>0</td>\n",
       "      <td>0</td>\n",
       "      <td>покупка жилой недвижимости</td>\n",
       "    </tr>\n",
       "    <tr>\n",
       "      <td>18328</td>\n",
       "      <td>0</td>\n",
       "      <td>0</td>\n",
       "      <td>29</td>\n",
       "      <td>высшее</td>\n",
       "      <td>0</td>\n",
       "      <td>женат / замужем</td>\n",
       "      <td>0</td>\n",
       "      <td>M</td>\n",
       "      <td>сотрудник</td>\n",
       "      <td>0</td>\n",
       "      <td>0</td>\n",
       "      <td>покупка жилой недвижимости</td>\n",
       "    </tr>\n",
       "    <tr>\n",
       "      <td>4216</td>\n",
       "      <td>0</td>\n",
       "      <td>0</td>\n",
       "      <td>30</td>\n",
       "      <td>среднее</td>\n",
       "      <td>1</td>\n",
       "      <td>женат / замужем</td>\n",
       "      <td>0</td>\n",
       "      <td>M</td>\n",
       "      <td>сотрудник</td>\n",
       "      <td>0</td>\n",
       "      <td>0</td>\n",
       "      <td>строительство жилой недвижимости</td>\n",
       "    </tr>\n",
       "    <tr>\n",
       "      <td>...</td>\n",
       "      <td>...</td>\n",
       "      <td>...</td>\n",
       "      <td>...</td>\n",
       "      <td>...</td>\n",
       "      <td>...</td>\n",
       "      <td>...</td>\n",
       "      <td>...</td>\n",
       "      <td>...</td>\n",
       "      <td>...</td>\n",
       "      <td>...</td>\n",
       "      <td>...</td>\n",
       "      <td>...</td>\n",
       "    </tr>\n",
       "    <tr>\n",
       "      <td>9238</td>\n",
       "      <td>2</td>\n",
       "      <td>0</td>\n",
       "      <td>34</td>\n",
       "      <td>среднее</td>\n",
       "      <td>1</td>\n",
       "      <td>женат / замужем</td>\n",
       "      <td>0</td>\n",
       "      <td>F</td>\n",
       "      <td>сотрудник</td>\n",
       "      <td>0</td>\n",
       "      <td>0</td>\n",
       "      <td>покупка жилья для сдачи</td>\n",
       "    </tr>\n",
       "    <tr>\n",
       "      <td>9013</td>\n",
       "      <td>2</td>\n",
       "      <td>0</td>\n",
       "      <td>36</td>\n",
       "      <td>высшее</td>\n",
       "      <td>0</td>\n",
       "      <td>женат / замужем</td>\n",
       "      <td>0</td>\n",
       "      <td>F</td>\n",
       "      <td>госслужащий</td>\n",
       "      <td>0</td>\n",
       "      <td>0</td>\n",
       "      <td>получение образования</td>\n",
       "    </tr>\n",
       "    <tr>\n",
       "      <td>14432</td>\n",
       "      <td>2</td>\n",
       "      <td>0</td>\n",
       "      <td>36</td>\n",
       "      <td>высшее</td>\n",
       "      <td>0</td>\n",
       "      <td>женат / замужем</td>\n",
       "      <td>0</td>\n",
       "      <td>F</td>\n",
       "      <td>госслужащий</td>\n",
       "      <td>0</td>\n",
       "      <td>0</td>\n",
       "      <td>получение образования</td>\n",
       "    </tr>\n",
       "    <tr>\n",
       "      <td>11033</td>\n",
       "      <td>2</td>\n",
       "      <td>0</td>\n",
       "      <td>39</td>\n",
       "      <td>среднее</td>\n",
       "      <td>1</td>\n",
       "      <td>гражданский брак</td>\n",
       "      <td>1</td>\n",
       "      <td>F</td>\n",
       "      <td>сотрудник</td>\n",
       "      <td>0</td>\n",
       "      <td>0</td>\n",
       "      <td>сыграть свадьбу</td>\n",
       "    </tr>\n",
       "    <tr>\n",
       "      <td>16902</td>\n",
       "      <td>2</td>\n",
       "      <td>0</td>\n",
       "      <td>39</td>\n",
       "      <td>среднее</td>\n",
       "      <td>1</td>\n",
       "      <td>гражданский брак</td>\n",
       "      <td>1</td>\n",
       "      <td>F</td>\n",
       "      <td>сотрудник</td>\n",
       "      <td>0</td>\n",
       "      <td>0</td>\n",
       "      <td>сыграть свадьбу</td>\n",
       "    </tr>\n",
       "  </tbody>\n",
       "</table>\n",
       "<p>137 rows × 12 columns</p>\n",
       "</div>"
      ],
      "text/plain": [
       "       children  days_employed  dob_years education  education_id  \\\n",
       "15892         0              0         23   среднее             1   \n",
       "19321         0              0         23   среднее             1   \n",
       "3452          0              0         29    высшее             0   \n",
       "18328         0              0         29    высшее             0   \n",
       "4216          0              0         30   среднее             1   \n",
       "...         ...            ...        ...       ...           ...   \n",
       "9238          2              0         34   среднее             1   \n",
       "9013          2              0         36    высшее             0   \n",
       "14432         2              0         36    высшее             0   \n",
       "11033         2              0         39   среднее             1   \n",
       "16902         2              0         39   среднее             1   \n",
       "\n",
       "               family_status  family_status_id gender  income_type  debt  \\\n",
       "15892  не женат / не замужем                 4      F    сотрудник     0   \n",
       "19321  не женат / не замужем                 4      F    сотрудник     0   \n",
       "3452         женат / замужем                 0      M    сотрудник     0   \n",
       "18328        женат / замужем                 0      M    сотрудник     0   \n",
       "4216         женат / замужем                 0      M    сотрудник     0   \n",
       "...                      ...               ...    ...          ...   ...   \n",
       "9238         женат / замужем                 0      F    сотрудник     0   \n",
       "9013         женат / замужем                 0      F  госслужащий     0   \n",
       "14432        женат / замужем                 0      F  госслужащий     0   \n",
       "11033       гражданский брак                 1      F    сотрудник     0   \n",
       "16902       гражданский брак                 1      F    сотрудник     0   \n",
       "\n",
       "       total_income                           purpose  \n",
       "15892             0  сделка с подержанным автомобилем  \n",
       "19321             0  сделка с подержанным автомобилем  \n",
       "3452              0        покупка жилой недвижимости  \n",
       "18328             0        покупка жилой недвижимости  \n",
       "4216              0  строительство жилой недвижимости  \n",
       "...             ...                               ...  \n",
       "9238              0           покупка жилья для сдачи  \n",
       "9013              0             получение образования  \n",
       "14432             0             получение образования  \n",
       "11033             0                   сыграть свадьбу  \n",
       "16902             0                   сыграть свадьбу  \n",
       "\n",
       "[137 rows x 12 columns]"
      ]
     },
     "execution_count": 33,
     "metadata": {},
     "output_type": "execute_result"
    }
   ],
   "source": [
    "df_duplicated = df[df.duplicated(keep = False)].sort_values(by = list(df.columns))\n",
    "df_duplicated"
   ]
  },
  {
   "cell_type": "code",
   "execution_count": 34,
   "metadata": {},
   "outputs": [
    {
     "name": "stdout",
     "output_type": "stream",
     "text": [
      "<class 'pandas.core.frame.DataFrame'>\n",
      "RangeIndex: 21454 entries, 0 to 21453\n",
      "Data columns (total 12 columns):\n",
      "children            21454 non-null int64\n",
      "days_employed       21454 non-null int64\n",
      "dob_years           21454 non-null int64\n",
      "education           21454 non-null object\n",
      "education_id        21454 non-null int64\n",
      "family_status       21454 non-null object\n",
      "family_status_id    21454 non-null int64\n",
      "gender              21454 non-null object\n",
      "income_type         21454 non-null object\n",
      "debt                21454 non-null int64\n",
      "total_income        21454 non-null int64\n",
      "purpose             21454 non-null object\n",
      "dtypes: int64(7), object(5)\n",
      "memory usage: 2.0+ MB\n"
     ]
    }
   ],
   "source": [
    "df = df.drop_duplicates().reset_index(drop=True) #удаляем дубликаты\n",
    "df.info()"
   ]
  },
  {
   "cell_type": "markdown",
   "metadata": {},
   "source": [
    "**Вывод**\n",
    "\n",
    "Теперь данные готовы для анализа и неточности в оформлении, дублированные значения не повлияют на результаты исследования."
   ]
  },
  {
   "cell_type": "markdown",
   "metadata": {},
   "source": [
    "### Лемматизация"
   ]
  },
  {
   "cell_type": "markdown",
   "metadata": {},
   "source": [
    "Все данные можно поделить на группы (категории) по столбцу целей кредита ('purpose'). Для этого необходимо определить основу в каждой ячейке столбца. Нам поможет лемматизация. "
   ]
  },
  {
   "cell_type": "code",
   "execution_count": 35,
   "metadata": {},
   "outputs": [],
   "source": [
    "m = Mystem()"
   ]
  },
  {
   "cell_type": "code",
   "execution_count": 36,
   "metadata": {
    "scrolled": false
   },
   "outputs": [],
   "source": [
    "purpose_unique = ' '.join(df['purpose'].unique()) #находим уникальные значения столбца и объединяем их в строку\n",
    "lemmas = m.lemmatize(purpose_unique) #находим основу уникальных значений"
   ]
  },
  {
   "cell_type": "markdown",
   "metadata": {},
   "source": [
    "Определим частоту упоминания каждой основы, чтобы на ее основе определить будущие категории."
   ]
  },
  {
   "cell_type": "code",
   "execution_count": 37,
   "metadata": {},
   "outputs": [
    {
     "data": {
      "text/plain": [
       "Counter({'покупка': 10,\n",
       "         ' ': 96,\n",
       "         'жилье': 7,\n",
       "         'приобретение': 1,\n",
       "         'автомобиль': 9,\n",
       "         'дополнительный': 2,\n",
       "         'образование': 9,\n",
       "         'сыграть': 1,\n",
       "         'свадьба': 3,\n",
       "         'операция': 4,\n",
       "         'с': 5,\n",
       "         'на': 4,\n",
       "         'проведение': 1,\n",
       "         'для': 2,\n",
       "         'семья': 1,\n",
       "         'недвижимость': 10,\n",
       "         'коммерческий': 2,\n",
       "         'жилой': 2,\n",
       "         'строительство': 3,\n",
       "         'собственный': 1,\n",
       "         'подержать': 2,\n",
       "         'свой': 4,\n",
       "         'со': 1,\n",
       "         'заниматься': 2,\n",
       "         'сделка': 2,\n",
       "         'получение': 3,\n",
       "         'высокий': 3,\n",
       "         'профильный': 1,\n",
       "         'сдача': 1,\n",
       "         'ремонт': 1,\n",
       "         '\\n': 1})"
      ]
     },
     "execution_count": 37,
     "metadata": {},
     "output_type": "execute_result"
    }
   ],
   "source": [
    "Counter(lemmas)"
   ]
  },
  {
   "cell_type": "markdown",
   "metadata": {},
   "source": [
    "Создадим функцию, которая определит категорию каждому клиенту банка исходя из целей кредитования."
   ]
  },
  {
   "cell_type": "code",
   "execution_count": 38,
   "metadata": {},
   "outputs": [],
   "source": [
    "purpose = ['жилье', 'недвижимость', 'автомобиль', 'образование', 'свадьба']\n",
    "def categorize(value):\n",
    "    lemmas = m.lemmatize(value)\n",
    "    for item in purpose:\n",
    "        if item in lemmas:\n",
    "            return item\n",
    "    return 'прочее'"
   ]
  },
  {
   "cell_type": "code",
   "execution_count": 39,
   "metadata": {},
   "outputs": [
    {
     "data": {
      "text/html": [
       "<div>\n",
       "<style scoped>\n",
       "    .dataframe tbody tr th:only-of-type {\n",
       "        vertical-align: middle;\n",
       "    }\n",
       "\n",
       "    .dataframe tbody tr th {\n",
       "        vertical-align: top;\n",
       "    }\n",
       "\n",
       "    .dataframe thead th {\n",
       "        text-align: right;\n",
       "    }\n",
       "</style>\n",
       "<table border=\"1\" class=\"dataframe\">\n",
       "  <thead>\n",
       "    <tr style=\"text-align: right;\">\n",
       "      <th></th>\n",
       "      <th>children</th>\n",
       "      <th>days_employed</th>\n",
       "      <th>dob_years</th>\n",
       "      <th>education</th>\n",
       "      <th>education_id</th>\n",
       "      <th>family_status</th>\n",
       "      <th>family_status_id</th>\n",
       "      <th>gender</th>\n",
       "      <th>income_type</th>\n",
       "      <th>debt</th>\n",
       "      <th>total_income</th>\n",
       "      <th>purpose</th>\n",
       "      <th>purpose_category</th>\n",
       "    </tr>\n",
       "  </thead>\n",
       "  <tbody>\n",
       "    <tr>\n",
       "      <td>0</td>\n",
       "      <td>1</td>\n",
       "      <td>8437</td>\n",
       "      <td>42</td>\n",
       "      <td>высшее</td>\n",
       "      <td>0</td>\n",
       "      <td>женат / замужем</td>\n",
       "      <td>0</td>\n",
       "      <td>F</td>\n",
       "      <td>сотрудник</td>\n",
       "      <td>0</td>\n",
       "      <td>253875</td>\n",
       "      <td>покупка жилья</td>\n",
       "      <td>жилье</td>\n",
       "    </tr>\n",
       "    <tr>\n",
       "      <td>1</td>\n",
       "      <td>1</td>\n",
       "      <td>4024</td>\n",
       "      <td>36</td>\n",
       "      <td>среднее</td>\n",
       "      <td>1</td>\n",
       "      <td>женат / замужем</td>\n",
       "      <td>0</td>\n",
       "      <td>F</td>\n",
       "      <td>сотрудник</td>\n",
       "      <td>0</td>\n",
       "      <td>112080</td>\n",
       "      <td>приобретение автомобиля</td>\n",
       "      <td>автомобиль</td>\n",
       "    </tr>\n",
       "    <tr>\n",
       "      <td>2</td>\n",
       "      <td>0</td>\n",
       "      <td>5623</td>\n",
       "      <td>33</td>\n",
       "      <td>среднее</td>\n",
       "      <td>1</td>\n",
       "      <td>женат / замужем</td>\n",
       "      <td>0</td>\n",
       "      <td>M</td>\n",
       "      <td>сотрудник</td>\n",
       "      <td>0</td>\n",
       "      <td>145885</td>\n",
       "      <td>покупка жилья</td>\n",
       "      <td>жилье</td>\n",
       "    </tr>\n",
       "    <tr>\n",
       "      <td>3</td>\n",
       "      <td>3</td>\n",
       "      <td>4124</td>\n",
       "      <td>32</td>\n",
       "      <td>среднее</td>\n",
       "      <td>1</td>\n",
       "      <td>женат / замужем</td>\n",
       "      <td>0</td>\n",
       "      <td>M</td>\n",
       "      <td>сотрудник</td>\n",
       "      <td>0</td>\n",
       "      <td>267628</td>\n",
       "      <td>дополнительное образование</td>\n",
       "      <td>образование</td>\n",
       "    </tr>\n",
       "    <tr>\n",
       "      <td>4</td>\n",
       "      <td>0</td>\n",
       "      <td>14177</td>\n",
       "      <td>53</td>\n",
       "      <td>среднее</td>\n",
       "      <td>1</td>\n",
       "      <td>гражданский брак</td>\n",
       "      <td>1</td>\n",
       "      <td>F</td>\n",
       "      <td>пенсионер</td>\n",
       "      <td>0</td>\n",
       "      <td>158616</td>\n",
       "      <td>сыграть свадьбу</td>\n",
       "      <td>свадьба</td>\n",
       "    </tr>\n",
       "  </tbody>\n",
       "</table>\n",
       "</div>"
      ],
      "text/plain": [
       "   children  days_employed  dob_years education  education_id  \\\n",
       "0         1           8437         42    высшее             0   \n",
       "1         1           4024         36   среднее             1   \n",
       "2         0           5623         33   среднее             1   \n",
       "3         3           4124         32   среднее             1   \n",
       "4         0          14177         53   среднее             1   \n",
       "\n",
       "      family_status  family_status_id gender income_type  debt  total_income  \\\n",
       "0   женат / замужем                 0      F   сотрудник     0        253875   \n",
       "1   женат / замужем                 0      F   сотрудник     0        112080   \n",
       "2   женат / замужем                 0      M   сотрудник     0        145885   \n",
       "3   женат / замужем                 0      M   сотрудник     0        267628   \n",
       "4  гражданский брак                 1      F   пенсионер     0        158616   \n",
       "\n",
       "                      purpose purpose_category  \n",
       "0               покупка жилья            жилье  \n",
       "1     приобретение автомобиля       автомобиль  \n",
       "2               покупка жилья            жилье  \n",
       "3  дополнительное образование      образование  \n",
       "4             сыграть свадьбу          свадьба  "
      ]
     },
     "execution_count": 39,
     "metadata": {},
     "output_type": "execute_result"
    }
   ],
   "source": [
    "df['purpose_category'] = df['purpose'].apply(categorize) #добавим новый столбец в таблицу с полученной категорией \n",
    "df.head()"
   ]
  },
  {
   "cell_type": "markdown",
   "metadata": {},
   "source": [
    "**Вывод**\n",
    "\n",
    "Таким образом, мы получили новый столбец с категорией."
   ]
  },
  {
   "cell_type": "markdown",
   "metadata": {},
   "source": [
    "### Категоризация данных"
   ]
  },
  {
   "cell_type": "markdown",
   "metadata": {},
   "source": [
    "В настоящий момент наш датасет наполнен большим объемом информации. Чтобы было проще ориентироваться в данных, можно создать \"словари\"."
   ]
  },
  {
   "cell_type": "code",
   "execution_count": 40,
   "metadata": {},
   "outputs": [
    {
     "data": {
      "text/html": [
       "<div>\n",
       "<style scoped>\n",
       "    .dataframe tbody tr th:only-of-type {\n",
       "        vertical-align: middle;\n",
       "    }\n",
       "\n",
       "    .dataframe tbody tr th {\n",
       "        vertical-align: top;\n",
       "    }\n",
       "\n",
       "    .dataframe thead th {\n",
       "        text-align: right;\n",
       "    }\n",
       "</style>\n",
       "<table border=\"1\" class=\"dataframe\">\n",
       "  <thead>\n",
       "    <tr style=\"text-align: right;\">\n",
       "      <th></th>\n",
       "      <th>education</th>\n",
       "    </tr>\n",
       "    <tr>\n",
       "      <th>education_id</th>\n",
       "      <th></th>\n",
       "    </tr>\n",
       "  </thead>\n",
       "  <tbody>\n",
       "    <tr>\n",
       "      <td>0</td>\n",
       "      <td>высшее</td>\n",
       "    </tr>\n",
       "    <tr>\n",
       "      <td>1</td>\n",
       "      <td>среднее</td>\n",
       "    </tr>\n",
       "    <tr>\n",
       "      <td>2</td>\n",
       "      <td>неоконченное высшее</td>\n",
       "    </tr>\n",
       "    <tr>\n",
       "      <td>3</td>\n",
       "      <td>начальное</td>\n",
       "    </tr>\n",
       "    <tr>\n",
       "      <td>4</td>\n",
       "      <td>ученая степень</td>\n",
       "    </tr>\n",
       "  </tbody>\n",
       "</table>\n",
       "</div>"
      ],
      "text/plain": [
       "                        education\n",
       "education_id                     \n",
       "0                          высшее\n",
       "1                         среднее\n",
       "2             неоконченное высшее\n",
       "3                       начальное\n",
       "4                  ученая степень"
      ]
     },
     "execution_count": 40,
     "metadata": {},
     "output_type": "execute_result"
    }
   ],
   "source": [
    "df_dict_education = df[['education_id', 'education']].drop_duplicates().set_index('education_id')\n",
    "df_dict_education"
   ]
  },
  {
   "cell_type": "code",
   "execution_count": 41,
   "metadata": {},
   "outputs": [
    {
     "data": {
      "text/html": [
       "<div>\n",
       "<style scoped>\n",
       "    .dataframe tbody tr th:only-of-type {\n",
       "        vertical-align: middle;\n",
       "    }\n",
       "\n",
       "    .dataframe tbody tr th {\n",
       "        vertical-align: top;\n",
       "    }\n",
       "\n",
       "    .dataframe thead th {\n",
       "        text-align: right;\n",
       "    }\n",
       "</style>\n",
       "<table border=\"1\" class=\"dataframe\">\n",
       "  <thead>\n",
       "    <tr style=\"text-align: right;\">\n",
       "      <th></th>\n",
       "      <th>family_status</th>\n",
       "    </tr>\n",
       "    <tr>\n",
       "      <th>family_status_id</th>\n",
       "      <th></th>\n",
       "    </tr>\n",
       "  </thead>\n",
       "  <tbody>\n",
       "    <tr>\n",
       "      <td>0</td>\n",
       "      <td>женат / замужем</td>\n",
       "    </tr>\n",
       "    <tr>\n",
       "      <td>1</td>\n",
       "      <td>гражданский брак</td>\n",
       "    </tr>\n",
       "    <tr>\n",
       "      <td>2</td>\n",
       "      <td>вдовец / вдова</td>\n",
       "    </tr>\n",
       "    <tr>\n",
       "      <td>3</td>\n",
       "      <td>в разводе</td>\n",
       "    </tr>\n",
       "    <tr>\n",
       "      <td>4</td>\n",
       "      <td>не женат / не замужем</td>\n",
       "    </tr>\n",
       "  </tbody>\n",
       "</table>\n",
       "</div>"
      ],
      "text/plain": [
       "                          family_status\n",
       "family_status_id                       \n",
       "0                       женат / замужем\n",
       "1                      гражданский брак\n",
       "2                        вдовец / вдова\n",
       "3                             в разводе\n",
       "4                 не женат / не замужем"
      ]
     },
     "execution_count": 41,
     "metadata": {},
     "output_type": "execute_result"
    }
   ],
   "source": [
    "df_dict_education = df[['family_status_id', 'family_status']].drop_duplicates().set_index('family_status_id')\n",
    "df_dict_education"
   ]
  },
  {
   "cell_type": "markdown",
   "metadata": {},
   "source": [
    "Можно создать категории в зависимости от совокупного дохода клиента банка."
   ]
  },
  {
   "cell_type": "code",
   "execution_count": 42,
   "metadata": {},
   "outputs": [
    {
     "data": {
      "text/html": [
       "<div>\n",
       "<style scoped>\n",
       "    .dataframe tbody tr th:only-of-type {\n",
       "        vertical-align: middle;\n",
       "    }\n",
       "\n",
       "    .dataframe tbody tr th {\n",
       "        vertical-align: top;\n",
       "    }\n",
       "\n",
       "    .dataframe thead th {\n",
       "        text-align: right;\n",
       "    }\n",
       "</style>\n",
       "<table border=\"1\" class=\"dataframe\">\n",
       "  <thead>\n",
       "    <tr style=\"text-align: right;\">\n",
       "      <th></th>\n",
       "      <th>income_description</th>\n",
       "    </tr>\n",
       "    <tr>\n",
       "      <th>income_category</th>\n",
       "      <th></th>\n",
       "    </tr>\n",
       "  </thead>\n",
       "  <tbody>\n",
       "    <tr>\n",
       "      <td>высокий</td>\n",
       "      <td>более 150 000</td>\n",
       "    </tr>\n",
       "    <tr>\n",
       "      <td>средний</td>\n",
       "      <td>50 000 - 150 000</td>\n",
       "    </tr>\n",
       "    <tr>\n",
       "      <td>низкий</td>\n",
       "      <td>менее 50 000</td>\n",
       "    </tr>\n",
       "  </tbody>\n",
       "</table>\n",
       "</div>"
      ],
      "text/plain": [
       "                income_description\n",
       "income_category                   \n",
       "высокий              более 150 000\n",
       "средний           50 000 - 150 000\n",
       "низкий                менее 50 000"
      ]
     },
     "execution_count": 42,
     "metadata": {},
     "output_type": "execute_result"
    }
   ],
   "source": [
    "def income_category(income): #создаем функцию для определения уровня дохода\n",
    "    if income  < 50000:\n",
    "        return 'низкий'\n",
    "    if income  > 150000:\n",
    "        return 'высокий'\n",
    "    return 'средний'\n",
    "df['income_category'] = df['total_income'].apply(income_category) #добавляем новые сведения в таблицу\n",
    "df_dict_income = df[['income_category']].drop_duplicates().set_index('income_category')\n",
    "df_dict_income['income_description'] = ['более 150 000', '50 000 - 150 000', 'менее 50 000']\n",
    "df_dict_income"
   ]
  },
  {
   "cell_type": "markdown",
   "metadata": {},
   "source": [
    "**Вывод**\n",
    "\n",
    "Были созданы небольшие \"словари\", помогающие определить значения id"
   ]
  },
  {
   "cell_type": "markdown",
   "metadata": {},
   "source": [
    "## Ответы на вопросы"
   ]
  },
  {
   "cell_type": "markdown",
   "metadata": {},
   "source": [
    "- Есть ли зависимость между наличием детей и возвратом кредита в срок?"
   ]
  },
  {
   "cell_type": "code",
   "execution_count": 43,
   "metadata": {},
   "outputs": [
    {
     "data": {
      "text/html": [
       "<div>\n",
       "<style scoped>\n",
       "    .dataframe tbody tr th:only-of-type {\n",
       "        vertical-align: middle;\n",
       "    }\n",
       "\n",
       "    .dataframe tbody tr th {\n",
       "        vertical-align: top;\n",
       "    }\n",
       "\n",
       "    .dataframe thead th {\n",
       "        text-align: right;\n",
       "    }\n",
       "</style>\n",
       "<table border=\"1\" class=\"dataframe\">\n",
       "  <thead>\n",
       "    <tr style=\"text-align: right;\">\n",
       "      <th></th>\n",
       "      <th>no debt</th>\n",
       "      <th>debt</th>\n",
       "      <th>ratio</th>\n",
       "    </tr>\n",
       "    <tr>\n",
       "      <th>children</th>\n",
       "      <th></th>\n",
       "      <th></th>\n",
       "      <th></th>\n",
       "    </tr>\n",
       "  </thead>\n",
       "  <tbody>\n",
       "    <tr>\n",
       "      <td>0</td>\n",
       "      <td>13142.0</td>\n",
       "      <td>1072.0</td>\n",
       "      <td>0.075419</td>\n",
       "    </tr>\n",
       "    <tr>\n",
       "      <td>1</td>\n",
       "      <td>4364.0</td>\n",
       "      <td>444.0</td>\n",
       "      <td>0.092346</td>\n",
       "    </tr>\n",
       "    <tr>\n",
       "      <td>2</td>\n",
       "      <td>1858.0</td>\n",
       "      <td>194.0</td>\n",
       "      <td>0.094542</td>\n",
       "    </tr>\n",
       "    <tr>\n",
       "      <td>3</td>\n",
       "      <td>303.0</td>\n",
       "      <td>27.0</td>\n",
       "      <td>0.081818</td>\n",
       "    </tr>\n",
       "    <tr>\n",
       "      <td>4</td>\n",
       "      <td>37.0</td>\n",
       "      <td>4.0</td>\n",
       "      <td>0.097561</td>\n",
       "    </tr>\n",
       "    <tr>\n",
       "      <td>5</td>\n",
       "      <td>9.0</td>\n",
       "      <td>NaN</td>\n",
       "      <td>NaN</td>\n",
       "    </tr>\n",
       "  </tbody>\n",
       "</table>\n",
       "</div>"
      ],
      "text/plain": [
       "          no debt    debt     ratio\n",
       "children                           \n",
       "0         13142.0  1072.0  0.075419\n",
       "1          4364.0   444.0  0.092346\n",
       "2          1858.0   194.0  0.094542\n",
       "3           303.0    27.0  0.081818\n",
       "4            37.0     4.0  0.097561\n",
       "5             9.0     NaN       NaN"
      ]
     },
     "execution_count": 43,
     "metadata": {},
     "output_type": "execute_result"
    }
   ],
   "source": [
    "df_children_debt = df.pivot_table(index = 'children', columns = 'debt', values = 'total_income', aggfunc = 'count')\n",
    "df_children_debt.columns = ['no debt', 'debt']\n",
    "df_children_debt['ratio'] = df_children_debt['debt'] / (df_children_debt['no debt'] + df_children_debt['debt'])\n",
    "df_children_debt"
   ]
  },
  {
   "cell_type": "markdown",
   "metadata": {},
   "source": [
    "**Вывод**\n",
    "Разница между клиентами, у которых есть дети, и бездетными невелика. Но все же должников с детьми больше."
   ]
  },
  {
   "cell_type": "markdown",
   "metadata": {},
   "source": [
    "- Есть ли зависимость между семейным положением и возвратом кредита в срок?"
   ]
  },
  {
   "cell_type": "code",
   "execution_count": 44,
   "metadata": {},
   "outputs": [
    {
     "data": {
      "text/html": [
       "<div>\n",
       "<style scoped>\n",
       "    .dataframe tbody tr th:only-of-type {\n",
       "        vertical-align: middle;\n",
       "    }\n",
       "\n",
       "    .dataframe tbody tr th {\n",
       "        vertical-align: top;\n",
       "    }\n",
       "\n",
       "    .dataframe thead th {\n",
       "        text-align: right;\n",
       "    }\n",
       "</style>\n",
       "<table border=\"1\" class=\"dataframe\">\n",
       "  <thead>\n",
       "    <tr style=\"text-align: right;\">\n",
       "      <th></th>\n",
       "      <th>no debt</th>\n",
       "      <th>debt</th>\n",
       "      <th>ratio</th>\n",
       "    </tr>\n",
       "    <tr>\n",
       "      <th>family_status</th>\n",
       "      <th></th>\n",
       "      <th></th>\n",
       "      <th></th>\n",
       "    </tr>\n",
       "  </thead>\n",
       "  <tbody>\n",
       "    <tr>\n",
       "      <td>в разводе</td>\n",
       "      <td>1110</td>\n",
       "      <td>85</td>\n",
       "      <td>0.071130</td>\n",
       "    </tr>\n",
       "    <tr>\n",
       "      <td>вдовец / вдова</td>\n",
       "      <td>896</td>\n",
       "      <td>63</td>\n",
       "      <td>0.065693</td>\n",
       "    </tr>\n",
       "    <tr>\n",
       "      <td>гражданский брак</td>\n",
       "      <td>3763</td>\n",
       "      <td>388</td>\n",
       "      <td>0.093471</td>\n",
       "    </tr>\n",
       "    <tr>\n",
       "      <td>женат / замужем</td>\n",
       "      <td>11408</td>\n",
       "      <td>931</td>\n",
       "      <td>0.075452</td>\n",
       "    </tr>\n",
       "    <tr>\n",
       "      <td>не женат / не замужем</td>\n",
       "      <td>2536</td>\n",
       "      <td>274</td>\n",
       "      <td>0.097509</td>\n",
       "    </tr>\n",
       "  </tbody>\n",
       "</table>\n",
       "</div>"
      ],
      "text/plain": [
       "                       no debt  debt     ratio\n",
       "family_status                                 \n",
       "в разводе                 1110    85  0.071130\n",
       "вдовец / вдова             896    63  0.065693\n",
       "гражданский брак          3763   388  0.093471\n",
       "женат / замужем          11408   931  0.075452\n",
       "не женат / не замужем     2536   274  0.097509"
      ]
     },
     "execution_count": 44,
     "metadata": {},
     "output_type": "execute_result"
    }
   ],
   "source": [
    "df_family_debt = df.pivot_table(index = 'family_status', columns = 'debt', values = 'total_income', aggfunc = 'count')\n",
    "df_family_debt.columns = ['no debt', 'debt']\n",
    "df_family_debt['ratio'] = df_family_debt['debt'] / (df_family_debt['no debt'] + df_family_debt['debt'])\n",
    "df_family_debt"
   ]
  },
  {
   "cell_type": "markdown",
   "metadata": {},
   "source": [
    "**Вывод**\n",
    "Взаимосвязь между семейным положением и возвратом кредита имеется. Ниже всего процент у разведенных и вдовцов/вдов."
   ]
  },
  {
   "cell_type": "markdown",
   "metadata": {},
   "source": [
    "- Есть ли зависимость между уровнем дохода и возвратом кредита в срок?"
   ]
  },
  {
   "cell_type": "code",
   "execution_count": 45,
   "metadata": {},
   "outputs": [
    {
     "data": {
      "text/html": [
       "<div>\n",
       "<style scoped>\n",
       "    .dataframe tbody tr th:only-of-type {\n",
       "        vertical-align: middle;\n",
       "    }\n",
       "\n",
       "    .dataframe tbody tr th {\n",
       "        vertical-align: top;\n",
       "    }\n",
       "\n",
       "    .dataframe thead th {\n",
       "        text-align: right;\n",
       "    }\n",
       "</style>\n",
       "<table border=\"1\" class=\"dataframe\">\n",
       "  <thead>\n",
       "    <tr style=\"text-align: right;\">\n",
       "      <th></th>\n",
       "      <th>no debt</th>\n",
       "      <th>debt</th>\n",
       "      <th>ratio</th>\n",
       "    </tr>\n",
       "    <tr>\n",
       "      <th>income_category</th>\n",
       "      <th></th>\n",
       "      <th></th>\n",
       "      <th></th>\n",
       "    </tr>\n",
       "  </thead>\n",
       "  <tbody>\n",
       "    <tr>\n",
       "      <td>высокий</td>\n",
       "      <td>8458</td>\n",
       "      <td>726</td>\n",
       "      <td>0.079051</td>\n",
       "    </tr>\n",
       "    <tr>\n",
       "      <td>низкий</td>\n",
       "      <td>2282</td>\n",
       "      <td>193</td>\n",
       "      <td>0.077980</td>\n",
       "    </tr>\n",
       "    <tr>\n",
       "      <td>средний</td>\n",
       "      <td>8973</td>\n",
       "      <td>822</td>\n",
       "      <td>0.083920</td>\n",
       "    </tr>\n",
       "  </tbody>\n",
       "</table>\n",
       "</div>"
      ],
      "text/plain": [
       "                 no debt  debt     ratio\n",
       "income_category                         \n",
       "высокий             8458   726  0.079051\n",
       "низкий              2282   193  0.077980\n",
       "средний             8973   822  0.083920"
      ]
     },
     "execution_count": 45,
     "metadata": {},
     "output_type": "execute_result"
    }
   ],
   "source": [
    "df_income_debt = df.pivot_table(index = 'income_category', columns = 'debt', values = 'total_income', aggfunc = 'count')\n",
    "df_income_debt.columns = ['no debt', 'debt']\n",
    "df_income_debt['ratio'] = df_income_debt['debt'] / (df_income_debt['no debt'] + df_income_debt['debt'])\n",
    "df_income_debt"
   ]
  },
  {
   "cell_type": "markdown",
   "metadata": {},
   "source": [
    "**Вывод**\n",
    "Зависимость между уровнем дохода и возвратом кредита есть. В категории высокого дохода процент должников ниже."
   ]
  },
  {
   "cell_type": "markdown",
   "metadata": {},
   "source": [
    "- Как разные цели кредита влияют на его возврат в срок?"
   ]
  },
  {
   "cell_type": "code",
   "execution_count": 46,
   "metadata": {},
   "outputs": [
    {
     "data": {
      "text/html": [
       "<div>\n",
       "<style scoped>\n",
       "    .dataframe tbody tr th:only-of-type {\n",
       "        vertical-align: middle;\n",
       "    }\n",
       "\n",
       "    .dataframe tbody tr th {\n",
       "        vertical-align: top;\n",
       "    }\n",
       "\n",
       "    .dataframe thead th {\n",
       "        text-align: right;\n",
       "    }\n",
       "</style>\n",
       "<table border=\"1\" class=\"dataframe\">\n",
       "  <thead>\n",
       "    <tr style=\"text-align: right;\">\n",
       "      <th></th>\n",
       "      <th>no debt</th>\n",
       "      <th>debt</th>\n",
       "      <th>ratio</th>\n",
       "    </tr>\n",
       "    <tr>\n",
       "      <th>purpose_category</th>\n",
       "      <th></th>\n",
       "      <th></th>\n",
       "      <th></th>\n",
       "    </tr>\n",
       "  </thead>\n",
       "  <tbody>\n",
       "    <tr>\n",
       "      <td>автомобиль</td>\n",
       "      <td>3903</td>\n",
       "      <td>403</td>\n",
       "      <td>0.093590</td>\n",
       "    </tr>\n",
       "    <tr>\n",
       "      <td>жилье</td>\n",
       "      <td>4152</td>\n",
       "      <td>308</td>\n",
       "      <td>0.069058</td>\n",
       "    </tr>\n",
       "    <tr>\n",
       "      <td>недвижимость</td>\n",
       "      <td>5877</td>\n",
       "      <td>474</td>\n",
       "      <td>0.074634</td>\n",
       "    </tr>\n",
       "    <tr>\n",
       "      <td>образование</td>\n",
       "      <td>3643</td>\n",
       "      <td>370</td>\n",
       "      <td>0.092200</td>\n",
       "    </tr>\n",
       "    <tr>\n",
       "      <td>свадьба</td>\n",
       "      <td>2138</td>\n",
       "      <td>186</td>\n",
       "      <td>0.080034</td>\n",
       "    </tr>\n",
       "  </tbody>\n",
       "</table>\n",
       "</div>"
      ],
      "text/plain": [
       "                  no debt  debt     ratio\n",
       "purpose_category                         \n",
       "автомобиль           3903   403  0.093590\n",
       "жилье                4152   308  0.069058\n",
       "недвижимость         5877   474  0.074634\n",
       "образование          3643   370  0.092200\n",
       "свадьба              2138   186  0.080034"
      ]
     },
     "execution_count": 46,
     "metadata": {},
     "output_type": "execute_result"
    }
   ],
   "source": [
    "df_purpose_debt = df.pivot_table(index = 'purpose_category', columns = 'debt', values = 'total_income', aggfunc = 'count')\n",
    "df_purpose_debt.columns = ['no debt', 'debt']\n",
    "df_purpose_debt['ratio'] = df_purpose_debt['debt'] / (df_purpose_debt['no debt'] + df_purpose_debt['debt'])\n",
    "df_purpose_debt"
   ]
  },
  {
   "cell_type": "markdown",
   "metadata": {},
   "source": [
    "**Вывод** \n",
    "В зависимости от целей кредита, вероятность возврата меняется. Минимальный процент задолженности приходится на недвижимость. "
   ]
  },
  {
   "cell_type": "markdown",
   "metadata": {},
   "source": [
    "## Общий вывод"
   ]
  },
  {
   "cell_type": "markdown",
   "metadata": {},
   "source": [
    "Подводя итог, можно сказать что <b>наличие/отсутствие детей, семейное положение, уровень дохода или же цель кредитования оказывает влияние на факт погашения кредита в срок</b>. \n",
    "\n",
    "При принятии решения необходимо это учитывать, ведь даже незначительные различия по возврату кредитов (до 2%) в реальных условиях могут вызвать увеличение кредитного портфеля банка и, как следствие, повысит затраты банка на формирование обязательных резервов.\n",
    "\n",
    "Ниже всего процент невозврата у <b>разведенных и вдовцов/вдов</b>, а также <b>клиентов без детей</b>.\n",
    "\n",
    "Наиболее обеспеченные типы кредитования - на покупку <b>недвижимости и жилья</b> (процент должников по этим целям мельше всего).\n",
    "\n",
    "По уровню заработка особое внимание стоит уделять клиентам с заработком <b>50 000 - 150 000 руб.</b> (<b>процент должников выше</b> всего именно по ним).\n",
    "\n",
    "Чтобы в будущем не сталкиваться с проблемой некорректного отображения данных, можно предложить <b>ряд рекомендаций</b>:\n",
    "\n",
    "- считать занятость не в днях, а в годах (преобладающее кол-во людей не знают точный стаж в днях, зато с годами не возникнет проблем);\n",
    "- привести выгрузку данных к единой форме, чтобы исключить разночтение;\n",
    "- ограничить заведение аномальных данных, которые могут повлиять на результаты анализа (например, число детей -1).\n",
    "\n"
   ]
  }
 ],
 "metadata": {
  "ExecuteTimeLog": [
   {
    "duration": 2891,
    "start_time": "2021-12-08T16:51:24.121Z"
   },
   {
    "duration": 692,
    "start_time": "2021-12-08T16:52:23.280Z"
   },
   {
    "duration": 872,
    "start_time": "2021-12-08T16:52:50.535Z"
   },
   {
    "duration": 718,
    "start_time": "2021-12-08T16:52:57.112Z"
   },
   {
    "duration": 3,
    "start_time": "2021-12-08T16:58:29.992Z"
   },
   {
    "duration": 3,
    "start_time": "2021-12-08T16:59:01.763Z"
   },
   {
    "duration": 697,
    "start_time": "2021-12-08T17:05:46.220Z"
   },
   {
    "duration": 2926,
    "start_time": "2021-12-08T17:06:18.047Z"
   },
   {
    "duration": 699,
    "start_time": "2021-12-08T17:06:51.528Z"
   },
   {
    "duration": 62,
    "start_time": "2021-12-08T17:10:22.131Z"
   },
   {
    "duration": 714,
    "start_time": "2021-12-08T17:10:40.666Z"
   },
   {
    "duration": 61,
    "start_time": "2021-12-08T17:10:41.383Z"
   },
   {
    "duration": 31,
    "start_time": "2021-12-08T17:15:51.390Z"
   },
   {
    "duration": 15,
    "start_time": "2021-12-08T17:17:00.517Z"
   },
   {
    "duration": 19,
    "start_time": "2021-12-08T17:31:11.837Z"
   },
   {
    "duration": 24,
    "start_time": "2021-12-08T17:37:07.412Z"
   },
   {
    "duration": 14,
    "start_time": "2021-12-08T18:36:19.265Z"
   },
   {
    "duration": 14,
    "start_time": "2021-12-08T18:59:29.590Z"
   },
   {
    "duration": 603,
    "start_time": "2021-12-10T16:51:32.432Z"
   },
   {
    "duration": 53,
    "start_time": "2021-12-10T16:51:33.036Z"
   },
   {
    "duration": 18,
    "start_time": "2021-12-10T16:51:33.092Z"
   },
   {
    "duration": 14,
    "start_time": "2021-12-10T16:51:33.112Z"
   },
   {
    "duration": 27,
    "start_time": "2021-12-10T16:51:33.128Z"
   },
   {
    "duration": 18,
    "start_time": "2021-12-10T16:51:33.156Z"
   },
   {
    "duration": 10,
    "start_time": "2021-12-10T17:22:19.685Z"
   },
   {
    "duration": 10,
    "start_time": "2021-12-10T17:23:03.928Z"
   },
   {
    "duration": 315,
    "start_time": "2021-12-10T17:48:33.345Z"
   },
   {
    "duration": 6,
    "start_time": "2021-12-10T17:48:42.455Z"
   },
   {
    "duration": 5,
    "start_time": "2021-12-10T17:59:11.716Z"
   },
   {
    "duration": 6,
    "start_time": "2021-12-10T18:00:08.956Z"
   },
   {
    "duration": 6,
    "start_time": "2021-12-10T18:02:35.277Z"
   },
   {
    "duration": 738,
    "start_time": "2021-12-11T09:02:55.689Z"
   },
   {
    "duration": 61,
    "start_time": "2021-12-11T09:02:56.429Z"
   },
   {
    "duration": 35,
    "start_time": "2021-12-11T09:02:56.493Z"
   },
   {
    "duration": 18,
    "start_time": "2021-12-11T09:02:56.531Z"
   },
   {
    "duration": 15,
    "start_time": "2021-12-11T09:02:56.551Z"
   },
   {
    "duration": 6,
    "start_time": "2021-12-11T09:02:56.568Z"
   },
   {
    "duration": 48,
    "start_time": "2021-12-11T09:02:56.576Z"
   },
   {
    "duration": 14,
    "start_time": "2021-12-11T09:02:56.628Z"
   },
   {
    "duration": 7,
    "start_time": "2021-12-11T09:02:56.644Z"
   },
   {
    "duration": 11,
    "start_time": "2021-12-11T09:02:56.653Z"
   },
   {
    "duration": 20,
    "start_time": "2021-12-11T09:09:21.392Z"
   },
   {
    "duration": 15,
    "start_time": "2021-12-11T09:09:36.872Z"
   },
   {
    "duration": 10,
    "start_time": "2021-12-11T09:09:49.875Z"
   },
   {
    "duration": 90,
    "start_time": "2021-12-11T09:21:08.467Z"
   },
   {
    "duration": 12,
    "start_time": "2021-12-11T09:24:05.536Z"
   },
   {
    "duration": 13,
    "start_time": "2021-12-11T09:27:54.687Z"
   },
   {
    "duration": 17,
    "start_time": "2021-12-11T09:30:55.253Z"
   },
   {
    "duration": 22,
    "start_time": "2021-12-11T09:31:21.152Z"
   },
   {
    "duration": 12,
    "start_time": "2021-12-11T09:32:57.461Z"
   },
   {
    "duration": 12,
    "start_time": "2021-12-11T09:34:13.337Z"
   },
   {
    "duration": 410,
    "start_time": "2021-12-11T10:10:07.557Z"
   },
   {
    "duration": 13,
    "start_time": "2021-12-11T10:10:43.613Z"
   },
   {
    "duration": 8,
    "start_time": "2021-12-11T10:21:28.582Z"
   },
   {
    "duration": 15,
    "start_time": "2021-12-11T10:21:54.988Z"
   },
   {
    "duration": 9,
    "start_time": "2021-12-11T10:37:47.424Z"
   },
   {
    "duration": 9,
    "start_time": "2021-12-11T10:38:25.141Z"
   },
   {
    "duration": 9,
    "start_time": "2021-12-11T10:39:10.957Z"
   },
   {
    "duration": 8,
    "start_time": "2021-12-11T10:46:44.102Z"
   },
   {
    "duration": 20,
    "start_time": "2021-12-11T10:55:07.922Z"
   },
   {
    "duration": 16,
    "start_time": "2021-12-11T10:56:42.759Z"
   },
   {
    "duration": 23,
    "start_time": "2021-12-11T10:57:05.088Z"
   },
   {
    "duration": 11,
    "start_time": "2021-12-11T10:59:43.431Z"
   },
   {
    "duration": 9,
    "start_time": "2021-12-11T11:01:58.422Z"
   },
   {
    "duration": 26,
    "start_time": "2021-12-11T11:03:40.363Z"
   },
   {
    "duration": 8,
    "start_time": "2021-12-11T11:06:34.756Z"
   },
   {
    "duration": 9,
    "start_time": "2021-12-11T11:08:52.910Z"
   },
   {
    "duration": 17,
    "start_time": "2021-12-11T11:15:41.468Z"
   },
   {
    "duration": 10,
    "start_time": "2021-12-11T11:20:49.891Z"
   },
   {
    "duration": 10,
    "start_time": "2021-12-11T11:22:22.862Z"
   },
   {
    "duration": 11,
    "start_time": "2021-12-11T11:23:33.930Z"
   },
   {
    "duration": 7,
    "start_time": "2021-12-11T11:25:45.428Z"
   },
   {
    "duration": 8,
    "start_time": "2021-12-11T11:40:52.158Z"
   },
   {
    "duration": 8,
    "start_time": "2021-12-11T11:43:46.420Z"
   },
   {
    "duration": 15,
    "start_time": "2021-12-11T11:51:55.081Z"
   },
   {
    "duration": 25,
    "start_time": "2021-12-11T11:54:07.550Z"
   },
   {
    "duration": 25,
    "start_time": "2021-12-11T11:54:32.857Z"
   },
   {
    "duration": 22,
    "start_time": "2021-12-11T11:57:08.564Z"
   },
   {
    "duration": 31,
    "start_time": "2021-12-11T12:03:20.547Z"
   },
   {
    "duration": 24,
    "start_time": "2021-12-11T12:03:31.961Z"
   },
   {
    "duration": 22,
    "start_time": "2021-12-11T12:03:46.506Z"
   },
   {
    "duration": 21,
    "start_time": "2021-12-11T12:12:51.899Z"
   },
   {
    "duration": 35,
    "start_time": "2021-12-11T12:19:22.519Z"
   },
   {
    "duration": 40,
    "start_time": "2021-12-11T12:19:49.437Z"
   },
   {
    "duration": 46,
    "start_time": "2021-12-11T12:20:42.664Z"
   },
   {
    "duration": 43,
    "start_time": "2021-12-11T12:20:57.735Z"
   },
   {
    "duration": 51,
    "start_time": "2021-12-11T12:22:37.174Z"
   },
   {
    "duration": 75,
    "start_time": "2021-12-11T12:26:02.217Z"
   },
   {
    "duration": 29,
    "start_time": "2021-12-11T12:28:39.188Z"
   },
   {
    "duration": 33,
    "start_time": "2021-12-11T12:28:42.251Z"
   },
   {
    "duration": 64,
    "start_time": "2021-12-11T12:30:23.024Z"
   },
   {
    "duration": 277,
    "start_time": "2021-12-11T12:31:30.513Z"
   },
   {
    "duration": 24,
    "start_time": "2021-12-11T12:32:27.593Z"
   },
   {
    "duration": 24,
    "start_time": "2021-12-11T12:33:27.708Z"
   },
   {
    "duration": 52,
    "start_time": "2021-12-11T12:33:41.729Z"
   },
   {
    "duration": 49,
    "start_time": "2021-12-11T12:34:00.075Z"
   },
   {
    "duration": 52,
    "start_time": "2021-12-11T12:35:55.969Z"
   },
   {
    "duration": 48,
    "start_time": "2021-12-11T12:40:38.130Z"
   },
   {
    "duration": 60,
    "start_time": "2021-12-11T12:43:27.190Z"
   },
   {
    "duration": 800,
    "start_time": "2021-12-11T12:43:41.388Z"
   },
   {
    "duration": 43,
    "start_time": "2021-12-11T12:44:44.268Z"
   },
   {
    "duration": 41,
    "start_time": "2021-12-11T12:44:57.212Z"
   },
   {
    "duration": 387,
    "start_time": "2021-12-11T12:45:00.630Z"
   },
   {
    "duration": 735,
    "start_time": "2021-12-11T12:45:23.512Z"
   },
   {
    "duration": 60,
    "start_time": "2021-12-11T12:45:24.250Z"
   },
   {
    "duration": 32,
    "start_time": "2021-12-11T12:45:24.313Z"
   },
   {
    "duration": 18,
    "start_time": "2021-12-11T12:45:24.348Z"
   },
   {
    "duration": 16,
    "start_time": "2021-12-11T12:45:24.368Z"
   },
   {
    "duration": 37,
    "start_time": "2021-12-11T12:45:24.387Z"
   },
   {
    "duration": 14,
    "start_time": "2021-12-11T12:45:24.426Z"
   },
   {
    "duration": 14,
    "start_time": "2021-12-11T12:45:24.443Z"
   },
   {
    "duration": 7,
    "start_time": "2021-12-11T12:45:24.460Z"
   },
   {
    "duration": 10,
    "start_time": "2021-12-11T12:45:24.469Z"
   },
   {
    "duration": 44,
    "start_time": "2021-12-11T12:45:24.482Z"
   },
   {
    "duration": 9,
    "start_time": "2021-12-11T12:45:24.528Z"
   },
   {
    "duration": 10,
    "start_time": "2021-12-11T12:45:24.539Z"
   },
   {
    "duration": 19,
    "start_time": "2021-12-11T12:45:24.552Z"
   },
   {
    "duration": 50,
    "start_time": "2021-12-11T12:45:24.573Z"
   },
   {
    "duration": 6,
    "start_time": "2021-12-11T12:45:24.625Z"
   },
   {
    "duration": 22,
    "start_time": "2021-12-11T12:45:24.633Z"
   },
   {
    "duration": 9,
    "start_time": "2021-12-11T12:45:24.657Z"
   },
   {
    "duration": 7,
    "start_time": "2021-12-11T12:45:24.668Z"
   },
   {
    "duration": 58,
    "start_time": "2021-12-11T12:45:24.677Z"
   },
   {
    "duration": 7,
    "start_time": "2021-12-11T12:45:24.738Z"
   },
   {
    "duration": 13,
    "start_time": "2021-12-11T12:45:24.747Z"
   },
   {
    "duration": 16,
    "start_time": "2021-12-11T12:45:24.765Z"
   },
   {
    "duration": 43,
    "start_time": "2021-12-11T12:45:24.783Z"
   },
   {
    "duration": 8,
    "start_time": "2021-12-11T12:45:24.829Z"
   },
   {
    "duration": 13,
    "start_time": "2021-12-11T12:45:24.839Z"
   },
   {
    "duration": 7,
    "start_time": "2021-12-11T12:45:24.854Z"
   },
   {
    "duration": 8,
    "start_time": "2021-12-11T12:45:24.863Z"
   },
   {
    "duration": 14,
    "start_time": "2021-12-11T12:45:24.873Z"
   },
   {
    "duration": 18,
    "start_time": "2021-12-11T12:45:24.924Z"
   },
   {
    "duration": 52,
    "start_time": "2021-12-11T12:45:24.945Z"
   },
   {
    "duration": 49,
    "start_time": "2021-12-11T12:45:25.025Z"
   },
   {
    "duration": 54,
    "start_time": "2021-12-11T12:45:55.049Z"
   },
   {
    "duration": 11,
    "start_time": "2021-12-11T13:54:33.219Z"
   },
   {
    "duration": 7,
    "start_time": "2021-12-11T14:20:08.717Z"
   },
   {
    "duration": 358,
    "start_time": "2021-12-11T14:23:15.949Z"
   },
   {
    "duration": 276,
    "start_time": "2021-12-11T14:24:12.295Z"
   },
   {
    "duration": 293,
    "start_time": "2021-12-11T14:24:37.143Z"
   },
   {
    "duration": 883,
    "start_time": "2021-12-11T14:25:35.880Z"
   },
   {
    "duration": 17,
    "start_time": "2021-12-11T14:25:49.720Z"
   },
   {
    "duration": 11,
    "start_time": "2021-12-11T14:33:07.707Z"
   },
   {
    "duration": 279,
    "start_time": "2021-12-11T14:36:19.878Z"
   },
   {
    "duration": 6,
    "start_time": "2021-12-11T14:41:29.928Z"
   },
   {
    "duration": 5,
    "start_time": "2021-12-11T15:17:41.108Z"
   },
   {
    "duration": 1366,
    "start_time": "2021-12-11T15:21:03.635Z"
   },
   {
    "duration": 293,
    "start_time": "2021-12-11T15:31:51.535Z"
   },
   {
    "duration": 6,
    "start_time": "2021-12-11T15:57:11.665Z"
   },
   {
    "duration": 3855,
    "start_time": "2021-12-11T15:59:09.743Z"
   },
   {
    "duration": 3933,
    "start_time": "2021-12-11T15:59:27.529Z"
   },
   {
    "duration": 4080,
    "start_time": "2021-12-11T16:03:47.997Z"
   },
   {
    "duration": 106,
    "start_time": "2021-12-11T16:34:40.407Z"
   },
   {
    "duration": 21,
    "start_time": "2021-12-11T16:37:13.143Z"
   },
   {
    "duration": 16,
    "start_time": "2021-12-11T16:39:18.352Z"
   },
   {
    "duration": 279,
    "start_time": "2021-12-11T16:40:33.377Z"
   },
   {
    "duration": 15,
    "start_time": "2021-12-11T16:40:44.448Z"
   },
   {
    "duration": 16,
    "start_time": "2021-12-11T16:45:13.240Z"
   },
   {
    "duration": 12,
    "start_time": "2021-12-11T16:58:23.614Z"
   },
   {
    "duration": 57,
    "start_time": "2021-12-11T16:58:54.322Z"
   },
   {
    "duration": 814,
    "start_time": "2021-12-11T17:17:34.619Z"
   },
   {
    "duration": 63,
    "start_time": "2021-12-11T17:17:35.436Z"
   },
   {
    "duration": 38,
    "start_time": "2021-12-11T17:17:35.506Z"
   },
   {
    "duration": 19,
    "start_time": "2021-12-11T17:17:35.546Z"
   },
   {
    "duration": 44,
    "start_time": "2021-12-11T17:17:35.568Z"
   },
   {
    "duration": 11,
    "start_time": "2021-12-11T17:17:35.616Z"
   },
   {
    "duration": 35,
    "start_time": "2021-12-11T17:17:35.631Z"
   },
   {
    "duration": 15,
    "start_time": "2021-12-11T17:17:35.670Z"
   },
   {
    "duration": 18,
    "start_time": "2021-12-11T17:17:35.688Z"
   },
   {
    "duration": 22,
    "start_time": "2021-12-11T17:17:35.709Z"
   },
   {
    "duration": 24,
    "start_time": "2021-12-11T17:17:35.733Z"
   },
   {
    "duration": 27,
    "start_time": "2021-12-11T17:17:35.759Z"
   },
   {
    "duration": 16,
    "start_time": "2021-12-11T17:17:35.789Z"
   },
   {
    "duration": 24,
    "start_time": "2021-12-11T17:17:35.808Z"
   },
   {
    "duration": 11,
    "start_time": "2021-12-11T17:17:35.835Z"
   },
   {
    "duration": 15,
    "start_time": "2021-12-11T17:17:35.849Z"
   },
   {
    "duration": 33,
    "start_time": "2021-12-11T17:17:35.867Z"
   },
   {
    "duration": 26,
    "start_time": "2021-12-11T17:17:35.903Z"
   },
   {
    "duration": 23,
    "start_time": "2021-12-11T17:17:35.932Z"
   },
   {
    "duration": 38,
    "start_time": "2021-12-11T17:17:35.958Z"
   },
   {
    "duration": 8,
    "start_time": "2021-12-11T17:17:35.999Z"
   },
   {
    "duration": 18,
    "start_time": "2021-12-11T17:17:36.012Z"
   },
   {
    "duration": 27,
    "start_time": "2021-12-11T17:17:36.033Z"
   },
   {
    "duration": 24,
    "start_time": "2021-12-11T17:17:36.062Z"
   },
   {
    "duration": 21,
    "start_time": "2021-12-11T17:17:36.088Z"
   },
   {
    "duration": 29,
    "start_time": "2021-12-11T17:17:36.111Z"
   },
   {
    "duration": 25,
    "start_time": "2021-12-11T17:17:36.143Z"
   },
   {
    "duration": 8,
    "start_time": "2021-12-11T17:17:36.170Z"
   },
   {
    "duration": 27,
    "start_time": "2021-12-11T17:17:36.180Z"
   },
   {
    "duration": 34,
    "start_time": "2021-12-11T17:17:36.209Z"
   },
   {
    "duration": 56,
    "start_time": "2021-12-11T17:17:36.246Z"
   },
   {
    "duration": 40,
    "start_time": "2021-12-11T17:17:36.305Z"
   },
   {
    "duration": 5,
    "start_time": "2021-12-11T17:17:36.348Z"
   },
   {
    "duration": 882,
    "start_time": "2021-12-11T17:17:36.355Z"
   },
   {
    "duration": 7,
    "start_time": "2021-12-11T17:17:37.240Z"
   },
   {
    "duration": 26,
    "start_time": "2021-12-11T17:17:37.249Z"
   },
   {
    "duration": 4585,
    "start_time": "2021-12-11T17:17:37.277Z"
   },
   {
    "duration": 24,
    "start_time": "2021-12-11T17:17:41.865Z"
   },
   {
    "duration": 31,
    "start_time": "2021-12-11T17:17:41.895Z"
   },
   {
    "duration": 743,
    "start_time": "2021-12-11T17:17:41.929Z"
   },
   {
    "duration": 325,
    "start_time": "2021-12-11T17:20:37.242Z"
   },
   {
    "duration": 356,
    "start_time": "2021-12-11T17:23:18.795Z"
   },
   {
    "duration": 23,
    "start_time": "2021-12-11T17:32:35.769Z"
   },
   {
    "duration": 29,
    "start_time": "2021-12-11T17:32:51.139Z"
   },
   {
    "duration": 7319,
    "start_time": "2021-12-11T17:37:14.443Z"
   },
   {
    "duration": 5362,
    "start_time": "2021-12-11T17:37:43.273Z"
   },
   {
    "duration": 5287,
    "start_time": "2021-12-11T17:38:39.449Z"
   },
   {
    "duration": 34,
    "start_time": "2021-12-11T17:38:55.117Z"
   },
   {
    "duration": 45,
    "start_time": "2021-12-11T17:41:56.138Z"
   },
   {
    "duration": 32,
    "start_time": "2021-12-11T17:55:14.377Z"
   },
   {
    "duration": 733,
    "start_time": "2021-12-11T18:45:13.124Z"
   },
   {
    "duration": 64,
    "start_time": "2021-12-11T18:45:13.860Z"
   },
   {
    "duration": 29,
    "start_time": "2021-12-11T18:45:13.930Z"
   },
   {
    "duration": 17,
    "start_time": "2021-12-11T18:45:13.961Z"
   },
   {
    "duration": 50,
    "start_time": "2021-12-11T18:45:13.980Z"
   },
   {
    "duration": 5,
    "start_time": "2021-12-11T18:45:14.033Z"
   },
   {
    "duration": 14,
    "start_time": "2021-12-11T18:45:14.042Z"
   },
   {
    "duration": 15,
    "start_time": "2021-12-11T18:45:14.059Z"
   },
   {
    "duration": 7,
    "start_time": "2021-12-11T18:45:14.076Z"
   },
   {
    "duration": 48,
    "start_time": "2021-12-11T18:45:14.085Z"
   },
   {
    "duration": 9,
    "start_time": "2021-12-11T18:45:14.136Z"
   },
   {
    "duration": 19,
    "start_time": "2021-12-11T18:45:14.147Z"
   },
   {
    "duration": 17,
    "start_time": "2021-12-11T18:45:14.169Z"
   },
   {
    "duration": 20,
    "start_time": "2021-12-11T18:45:14.224Z"
   },
   {
    "duration": 8,
    "start_time": "2021-12-11T18:45:14.246Z"
   },
   {
    "duration": 6,
    "start_time": "2021-12-11T18:45:14.257Z"
   },
   {
    "duration": 57,
    "start_time": "2021-12-11T18:45:14.266Z"
   },
   {
    "duration": 10,
    "start_time": "2021-12-11T18:45:14.327Z"
   },
   {
    "duration": 11,
    "start_time": "2021-12-11T18:45:14.340Z"
   },
   {
    "duration": 25,
    "start_time": "2021-12-11T18:45:14.354Z"
   },
   {
    "duration": 50,
    "start_time": "2021-12-11T18:45:14.382Z"
   },
   {
    "duration": 9,
    "start_time": "2021-12-11T18:45:14.439Z"
   },
   {
    "duration": 14,
    "start_time": "2021-12-11T18:45:14.452Z"
   },
   {
    "duration": 11,
    "start_time": "2021-12-11T18:45:14.469Z"
   },
   {
    "duration": 10,
    "start_time": "2021-12-11T18:45:14.524Z"
   },
   {
    "duration": 13,
    "start_time": "2021-12-11T18:45:14.537Z"
   },
   {
    "duration": 7,
    "start_time": "2021-12-11T18:45:14.552Z"
   },
   {
    "duration": 7,
    "start_time": "2021-12-11T18:45:14.561Z"
   },
   {
    "duration": 58,
    "start_time": "2021-12-11T18:45:14.571Z"
   },
   {
    "duration": 18,
    "start_time": "2021-12-11T18:45:14.631Z"
   },
   {
    "duration": 76,
    "start_time": "2021-12-11T18:45:14.651Z"
   },
   {
    "duration": 35,
    "start_time": "2021-12-11T18:45:14.730Z"
   },
   {
    "duration": 5,
    "start_time": "2021-12-11T18:45:14.768Z"
   },
   {
    "duration": 994,
    "start_time": "2021-12-11T18:45:14.775Z"
   },
   {
    "duration": 6,
    "start_time": "2021-12-11T18:45:15.772Z"
   },
   {
    "duration": 6,
    "start_time": "2021-12-11T18:45:15.780Z"
   },
   {
    "duration": 4053,
    "start_time": "2021-12-11T18:45:15.788Z"
   },
   {
    "duration": 20,
    "start_time": "2021-12-11T18:45:19.844Z"
   },
   {
    "duration": 15,
    "start_time": "2021-12-11T18:45:19.867Z"
   },
   {
    "duration": 58,
    "start_time": "2021-12-11T18:45:19.884Z"
   },
   {
    "duration": 29,
    "start_time": "2021-12-11T18:45:19.944Z"
   },
   {
    "duration": 14,
    "start_time": "2021-12-11T18:46:08.022Z"
   },
   {
    "duration": 18,
    "start_time": "2021-12-11T18:46:23.155Z"
   },
   {
    "duration": 26,
    "start_time": "2021-12-11T18:46:46.856Z"
   },
   {
    "duration": 31,
    "start_time": "2021-12-11T18:47:18.303Z"
   },
   {
    "duration": 27,
    "start_time": "2021-12-11T18:47:39.220Z"
   },
   {
    "duration": 28,
    "start_time": "2021-12-11T18:48:01.741Z"
   },
   {
    "duration": 27,
    "start_time": "2021-12-11T18:48:31.035Z"
   },
   {
    "duration": 14,
    "start_time": "2021-12-11T18:48:58.347Z"
   },
   {
    "duration": 28,
    "start_time": "2021-12-11T19:07:53.703Z"
   },
   {
    "duration": 28,
    "start_time": "2021-12-11T19:08:29.727Z"
   },
   {
    "duration": 25,
    "start_time": "2021-12-11T19:14:14.186Z"
   },
   {
    "duration": 26,
    "start_time": "2021-12-11T19:14:53.854Z"
   },
   {
    "duration": 33,
    "start_time": "2021-12-11T19:19:17.864Z"
   },
   {
    "duration": 30,
    "start_time": "2021-12-11T19:33:45.081Z"
   },
   {
    "duration": 589,
    "start_time": "2021-12-12T14:06:19.264Z"
   },
   {
    "duration": 54,
    "start_time": "2021-12-12T14:06:19.855Z"
   },
   {
    "duration": 19,
    "start_time": "2021-12-12T14:06:19.911Z"
   },
   {
    "duration": 21,
    "start_time": "2021-12-12T14:06:19.932Z"
   },
   {
    "duration": 12,
    "start_time": "2021-12-12T14:06:19.955Z"
   },
   {
    "duration": 3,
    "start_time": "2021-12-12T14:06:19.969Z"
   },
   {
    "duration": 10,
    "start_time": "2021-12-12T14:06:19.974Z"
   },
   {
    "duration": 12,
    "start_time": "2021-12-12T14:06:19.987Z"
   },
   {
    "duration": 6,
    "start_time": "2021-12-12T14:06:20.001Z"
   },
   {
    "duration": 44,
    "start_time": "2021-12-12T14:06:20.009Z"
   },
   {
    "duration": 4,
    "start_time": "2021-12-12T14:06:20.055Z"
   },
   {
    "duration": 7,
    "start_time": "2021-12-12T14:06:20.061Z"
   },
   {
    "duration": 10,
    "start_time": "2021-12-12T14:06:20.070Z"
   },
   {
    "duration": 12,
    "start_time": "2021-12-12T14:06:20.082Z"
   },
   {
    "duration": 6,
    "start_time": "2021-12-12T14:06:20.095Z"
   },
   {
    "duration": 4,
    "start_time": "2021-12-12T14:06:20.103Z"
   },
   {
    "duration": 15,
    "start_time": "2021-12-12T14:06:20.145Z"
   },
   {
    "duration": 5,
    "start_time": "2021-12-12T14:06:20.162Z"
   },
   {
    "duration": 7,
    "start_time": "2021-12-12T14:06:20.169Z"
   },
   {
    "duration": 17,
    "start_time": "2021-12-12T14:06:20.178Z"
   },
   {
    "duration": 7,
    "start_time": "2021-12-12T14:06:20.196Z"
   },
   {
    "duration": 42,
    "start_time": "2021-12-12T14:06:20.205Z"
   },
   {
    "duration": 9,
    "start_time": "2021-12-12T14:06:20.250Z"
   },
   {
    "duration": 9,
    "start_time": "2021-12-12T14:06:20.261Z"
   },
   {
    "duration": 6,
    "start_time": "2021-12-12T14:06:20.272Z"
   },
   {
    "duration": 15,
    "start_time": "2021-12-12T14:06:20.280Z"
   },
   {
    "duration": 12,
    "start_time": "2021-12-12T14:06:20.296Z"
   },
   {
    "duration": 6,
    "start_time": "2021-12-12T14:06:20.310Z"
   },
   {
    "duration": 6,
    "start_time": "2021-12-12T14:06:20.344Z"
   },
   {
    "duration": 15,
    "start_time": "2021-12-12T14:06:20.352Z"
   },
   {
    "duration": 36,
    "start_time": "2021-12-12T14:06:20.368Z"
   },
   {
    "duration": 50,
    "start_time": "2021-12-12T14:06:20.406Z"
   },
   {
    "duration": 8,
    "start_time": "2021-12-12T14:06:20.458Z"
   },
   {
    "duration": 649,
    "start_time": "2021-12-12T14:06:20.468Z"
   },
   {
    "duration": 5,
    "start_time": "2021-12-12T14:06:21.119Z"
   },
   {
    "duration": 6,
    "start_time": "2021-12-12T14:06:21.125Z"
   },
   {
    "duration": 3078,
    "start_time": "2021-12-12T14:06:21.144Z"
   },
   {
    "duration": 32,
    "start_time": "2021-12-12T14:06:24.224Z"
   },
   {
    "duration": 11,
    "start_time": "2021-12-12T14:06:24.258Z"
   },
   {
    "duration": 20,
    "start_time": "2021-12-12T14:06:24.271Z"
   },
   {
    "duration": 19,
    "start_time": "2021-12-12T14:06:24.292Z"
   },
   {
    "duration": 55,
    "start_time": "2021-12-12T14:06:24.313Z"
   },
   {
    "duration": 24,
    "start_time": "2021-12-12T14:06:24.370Z"
   },
   {
    "duration": 25,
    "start_time": "2021-12-12T14:06:24.396Z"
   },
   {
    "duration": 2,
    "start_time": "2021-12-12T14:14:33.074Z"
   },
   {
    "duration": 50,
    "start_time": "2021-12-12T14:14:33.080Z"
   },
   {
    "duration": 13,
    "start_time": "2021-12-12T14:14:33.132Z"
   },
   {
    "duration": 21,
    "start_time": "2021-12-12T14:14:33.147Z"
   },
   {
    "duration": 21,
    "start_time": "2021-12-12T14:14:33.171Z"
   },
   {
    "duration": 4,
    "start_time": "2021-12-12T14:14:33.194Z"
   },
   {
    "duration": 11,
    "start_time": "2021-12-12T14:14:33.199Z"
   },
   {
    "duration": 10,
    "start_time": "2021-12-12T14:14:33.212Z"
   },
   {
    "duration": 23,
    "start_time": "2021-12-12T14:14:33.225Z"
   },
   {
    "duration": 12,
    "start_time": "2021-12-12T14:14:33.250Z"
   },
   {
    "duration": 8,
    "start_time": "2021-12-12T14:14:33.264Z"
   },
   {
    "duration": 5,
    "start_time": "2021-12-12T14:14:47.395Z"
   },
   {
    "duration": 23,
    "start_time": "2021-12-12T14:15:10.544Z"
   },
   {
    "duration": 11,
    "start_time": "2021-12-12T14:15:22.304Z"
   },
   {
    "duration": 10,
    "start_time": "2021-12-12T14:15:42.899Z"
   },
   {
    "duration": 641,
    "start_time": "2021-12-12T14:19:13.761Z"
   },
   {
    "duration": 51,
    "start_time": "2021-12-12T14:19:14.404Z"
   },
   {
    "duration": 19,
    "start_time": "2021-12-12T14:19:14.457Z"
   },
   {
    "duration": 12,
    "start_time": "2021-12-12T14:19:14.478Z"
   },
   {
    "duration": 12,
    "start_time": "2021-12-12T14:19:14.492Z"
   },
   {
    "duration": 4,
    "start_time": "2021-12-12T14:19:14.505Z"
   },
   {
    "duration": 36,
    "start_time": "2021-12-12T14:19:14.511Z"
   },
   {
    "duration": 11,
    "start_time": "2021-12-12T14:19:14.550Z"
   },
   {
    "duration": 8,
    "start_time": "2021-12-12T14:19:14.563Z"
   },
   {
    "duration": 7,
    "start_time": "2021-12-12T14:19:14.572Z"
   },
   {
    "duration": 5,
    "start_time": "2021-12-12T14:19:14.580Z"
   },
   {
    "duration": 6,
    "start_time": "2021-12-12T14:19:14.586Z"
   },
   {
    "duration": 12,
    "start_time": "2021-12-12T14:19:14.594Z"
   },
   {
    "duration": 47,
    "start_time": "2021-12-12T14:19:14.607Z"
   },
   {
    "duration": 6,
    "start_time": "2021-12-12T14:19:14.656Z"
   },
   {
    "duration": 10,
    "start_time": "2021-12-12T14:19:14.664Z"
   },
   {
    "duration": 15,
    "start_time": "2021-12-12T14:19:14.675Z"
   },
   {
    "duration": 6,
    "start_time": "2021-12-12T14:19:14.692Z"
   },
   {
    "duration": 4,
    "start_time": "2021-12-12T14:19:14.700Z"
   },
   {
    "duration": 46,
    "start_time": "2021-12-12T14:19:14.706Z"
   },
   {
    "duration": 5,
    "start_time": "2021-12-12T14:19:14.754Z"
   },
   {
    "duration": 13,
    "start_time": "2021-12-12T14:19:14.761Z"
   },
   {
    "duration": 8,
    "start_time": "2021-12-12T14:19:14.777Z"
   },
   {
    "duration": 6,
    "start_time": "2021-12-12T14:19:14.787Z"
   },
   {
    "duration": 9,
    "start_time": "2021-12-12T14:19:14.795Z"
   },
   {
    "duration": 8,
    "start_time": "2021-12-12T14:19:14.806Z"
   },
   {
    "duration": 29,
    "start_time": "2021-12-12T14:19:14.816Z"
   },
   {
    "duration": 5,
    "start_time": "2021-12-12T14:19:14.847Z"
   },
   {
    "duration": 5,
    "start_time": "2021-12-12T14:19:14.854Z"
   },
   {
    "duration": 13,
    "start_time": "2021-12-12T14:19:14.861Z"
   },
   {
    "duration": 33,
    "start_time": "2021-12-12T14:19:14.875Z"
   },
   {
    "duration": 55,
    "start_time": "2021-12-12T14:19:14.910Z"
   },
   {
    "duration": 8,
    "start_time": "2021-12-12T14:19:14.967Z"
   },
   {
    "duration": 640,
    "start_time": "2021-12-12T14:19:14.977Z"
   },
   {
    "duration": 7,
    "start_time": "2021-12-12T14:19:15.619Z"
   },
   {
    "duration": 22,
    "start_time": "2021-12-12T14:19:15.627Z"
   },
   {
    "duration": 2876,
    "start_time": "2021-12-12T14:19:15.651Z"
   },
   {
    "duration": 28,
    "start_time": "2021-12-12T14:19:18.529Z"
   },
   {
    "duration": 24,
    "start_time": "2021-12-12T14:19:18.558Z"
   },
   {
    "duration": 34,
    "start_time": "2021-12-12T14:19:18.583Z"
   },
   {
    "duration": 17,
    "start_time": "2021-12-12T14:19:18.619Z"
   },
   {
    "duration": 31,
    "start_time": "2021-12-12T14:19:18.638Z"
   },
   {
    "duration": 22,
    "start_time": "2021-12-12T14:19:18.670Z"
   },
   {
    "duration": 18,
    "start_time": "2021-12-12T14:19:18.694Z"
   },
   {
    "duration": 4,
    "start_time": "2021-12-12T14:53:40.234Z"
   },
   {
    "duration": 5,
    "start_time": "2021-12-12T14:53:47.570Z"
   },
   {
    "duration": 5,
    "start_time": "2021-12-12T14:54:06.170Z"
   },
   {
    "duration": 5,
    "start_time": "2021-12-12T14:54:08.757Z"
   },
   {
    "duration": 626,
    "start_time": "2021-12-12T15:13:28.451Z"
   },
   {
    "duration": 50,
    "start_time": "2021-12-12T15:13:29.078Z"
   },
   {
    "duration": 18,
    "start_time": "2021-12-12T15:13:29.131Z"
   },
   {
    "duration": 18,
    "start_time": "2021-12-12T15:13:29.150Z"
   },
   {
    "duration": 11,
    "start_time": "2021-12-12T15:13:29.170Z"
   },
   {
    "duration": 4,
    "start_time": "2021-12-12T15:13:29.182Z"
   },
   {
    "duration": 10,
    "start_time": "2021-12-12T15:13:29.188Z"
   },
   {
    "duration": 10,
    "start_time": "2021-12-12T15:13:29.200Z"
   },
   {
    "duration": 34,
    "start_time": "2021-12-12T15:13:29.212Z"
   },
   {
    "duration": 9,
    "start_time": "2021-12-12T15:13:29.248Z"
   },
   {
    "duration": 5,
    "start_time": "2021-12-12T15:13:29.259Z"
   },
   {
    "duration": 17,
    "start_time": "2021-12-12T15:13:29.265Z"
   },
   {
    "duration": 13,
    "start_time": "2021-12-12T15:13:29.284Z"
   },
   {
    "duration": 13,
    "start_time": "2021-12-12T15:13:29.299Z"
   },
   {
    "duration": 30,
    "start_time": "2021-12-12T15:13:29.314Z"
   },
   {
    "duration": 6,
    "start_time": "2021-12-12T15:13:29.346Z"
   },
   {
    "duration": 17,
    "start_time": "2021-12-12T15:13:29.353Z"
   },
   {
    "duration": 6,
    "start_time": "2021-12-12T15:13:29.373Z"
   },
   {
    "duration": 7,
    "start_time": "2021-12-12T15:13:29.381Z"
   },
   {
    "duration": 20,
    "start_time": "2021-12-12T15:13:29.389Z"
   },
   {
    "duration": 7,
    "start_time": "2021-12-12T15:13:29.445Z"
   },
   {
    "duration": 9,
    "start_time": "2021-12-12T15:13:29.454Z"
   },
   {
    "duration": 10,
    "start_time": "2021-12-12T15:13:29.467Z"
   },
   {
    "duration": 7,
    "start_time": "2021-12-12T15:13:29.479Z"
   },
   {
    "duration": 6,
    "start_time": "2021-12-12T15:13:29.488Z"
   },
   {
    "duration": 11,
    "start_time": "2021-12-12T15:13:29.496Z"
   },
   {
    "duration": 6,
    "start_time": "2021-12-12T15:13:29.545Z"
   },
   {
    "duration": 7,
    "start_time": "2021-12-12T15:13:29.553Z"
   },
   {
    "duration": 6,
    "start_time": "2021-12-12T15:13:29.561Z"
   },
   {
    "duration": 13,
    "start_time": "2021-12-12T15:13:29.569Z"
   },
   {
    "duration": 67,
    "start_time": "2021-12-12T15:13:29.583Z"
   },
   {
    "duration": 26,
    "start_time": "2021-12-12T15:13:29.652Z"
   },
   {
    "duration": 8,
    "start_time": "2021-12-12T15:13:29.680Z"
   },
   {
    "duration": 694,
    "start_time": "2021-12-12T15:13:29.690Z"
   },
   {
    "duration": 6,
    "start_time": "2021-12-12T15:13:30.386Z"
   },
   {
    "duration": 11,
    "start_time": "2021-12-12T15:13:30.394Z"
   },
   {
    "duration": 3165,
    "start_time": "2021-12-12T15:13:30.407Z"
   },
   {
    "duration": 14,
    "start_time": "2021-12-12T15:13:33.574Z"
   },
   {
    "duration": 11,
    "start_time": "2021-12-12T15:13:33.590Z"
   },
   {
    "duration": 44,
    "start_time": "2021-12-12T15:13:33.603Z"
   },
   {
    "duration": 19,
    "start_time": "2021-12-12T15:13:33.648Z"
   },
   {
    "duration": 20,
    "start_time": "2021-12-12T15:13:33.669Z"
   },
   {
    "duration": 17,
    "start_time": "2021-12-12T15:13:33.691Z"
   },
   {
    "duration": 48,
    "start_time": "2021-12-12T15:13:33.710Z"
   },
   {
    "duration": 338,
    "start_time": "2021-12-12T17:54:19.475Z"
   },
   {
    "duration": 263,
    "start_time": "2021-12-12T17:54:52.854Z"
   },
   {
    "duration": 766,
    "start_time": "2021-12-12T17:55:12.435Z"
   },
   {
    "duration": 67,
    "start_time": "2021-12-12T17:55:13.204Z"
   },
   {
    "duration": 29,
    "start_time": "2021-12-12T17:55:13.274Z"
   },
   {
    "duration": 31,
    "start_time": "2021-12-12T17:55:13.306Z"
   },
   {
    "duration": 18,
    "start_time": "2021-12-12T17:55:13.340Z"
   },
   {
    "duration": 7,
    "start_time": "2021-12-12T17:55:13.361Z"
   },
   {
    "duration": 52,
    "start_time": "2021-12-12T17:55:13.371Z"
   },
   {
    "duration": 16,
    "start_time": "2021-12-12T17:55:13.428Z"
   },
   {
    "duration": 9,
    "start_time": "2021-12-12T17:55:13.448Z"
   },
   {
    "duration": 15,
    "start_time": "2021-12-12T17:55:13.460Z"
   },
   {
    "duration": 46,
    "start_time": "2021-12-12T17:55:13.477Z"
   },
   {
    "duration": 43,
    "start_time": "2021-12-12T17:55:13.525Z"
   },
   {
    "duration": 8,
    "start_time": "2021-12-12T17:55:13.571Z"
   },
   {
    "duration": 14,
    "start_time": "2021-12-12T17:55:13.581Z"
   },
   {
    "duration": 20,
    "start_time": "2021-12-12T17:55:13.624Z"
   },
   {
    "duration": 8,
    "start_time": "2021-12-12T17:55:13.646Z"
   },
   {
    "duration": 5,
    "start_time": "2021-12-12T17:55:13.657Z"
   },
   {
    "duration": 21,
    "start_time": "2021-12-12T17:55:13.664Z"
   },
   {
    "duration": 41,
    "start_time": "2021-12-12T17:55:13.687Z"
   },
   {
    "duration": 7,
    "start_time": "2021-12-12T17:55:13.730Z"
   },
   {
    "duration": 24,
    "start_time": "2021-12-12T17:55:13.739Z"
   },
   {
    "duration": 8,
    "start_time": "2021-12-12T17:55:13.765Z"
   },
   {
    "duration": 50,
    "start_time": "2021-12-12T17:55:13.778Z"
   },
   {
    "duration": 12,
    "start_time": "2021-12-12T17:55:13.831Z"
   },
   {
    "duration": 9,
    "start_time": "2021-12-12T17:55:13.846Z"
   },
   {
    "duration": 9,
    "start_time": "2021-12-12T17:55:13.857Z"
   },
   {
    "duration": 55,
    "start_time": "2021-12-12T17:55:13.868Z"
   },
   {
    "duration": 8,
    "start_time": "2021-12-12T17:55:13.925Z"
   },
   {
    "duration": 8,
    "start_time": "2021-12-12T17:55:13.936Z"
   },
   {
    "duration": 10,
    "start_time": "2021-12-12T17:55:13.946Z"
   },
   {
    "duration": 16,
    "start_time": "2021-12-12T17:55:13.958Z"
   },
   {
    "duration": 94,
    "start_time": "2021-12-12T17:55:13.976Z"
   },
   {
    "duration": 51,
    "start_time": "2021-12-12T17:55:14.072Z"
   },
   {
    "duration": 6,
    "start_time": "2021-12-12T17:55:14.125Z"
   },
   {
    "duration": 889,
    "start_time": "2021-12-12T17:55:14.134Z"
   },
   {
    "duration": 7,
    "start_time": "2021-12-12T17:55:15.026Z"
   },
   {
    "duration": 9,
    "start_time": "2021-12-12T17:55:15.036Z"
   },
   {
    "duration": 3924,
    "start_time": "2021-12-12T17:55:15.047Z"
   },
   {
    "duration": 21,
    "start_time": "2021-12-12T17:55:18.974Z"
   },
   {
    "duration": 36,
    "start_time": "2021-12-12T17:55:18.998Z"
   },
   {
    "duration": 31,
    "start_time": "2021-12-12T17:55:19.037Z"
   },
   {
    "duration": 63,
    "start_time": "2021-12-12T17:55:19.070Z"
   },
   {
    "duration": 27,
    "start_time": "2021-12-12T17:55:19.135Z"
   },
   {
    "duration": 27,
    "start_time": "2021-12-12T17:55:19.164Z"
   },
   {
    "duration": 54,
    "start_time": "2021-12-12T17:55:19.193Z"
   },
   {
    "duration": 139,
    "start_time": "2021-12-12T17:55:46.973Z"
   },
   {
    "duration": 51,
    "start_time": "2021-12-12T17:56:08.004Z"
   },
   {
    "duration": 16,
    "start_time": "2021-12-12T17:57:27.426Z"
   },
   {
    "duration": 11,
    "start_time": "2021-12-12T17:58:11.954Z"
   },
   {
    "duration": 14,
    "start_time": "2021-12-12T17:58:52.409Z"
   },
   {
    "duration": 12,
    "start_time": "2021-12-12T17:59:03.465Z"
   },
   {
    "duration": 17,
    "start_time": "2021-12-12T17:59:25.406Z"
   },
   {
    "duration": 10,
    "start_time": "2021-12-12T17:59:44.020Z"
   },
   {
    "duration": 14,
    "start_time": "2021-12-12T18:00:09.018Z"
   },
   {
    "duration": 9,
    "start_time": "2021-12-12T18:03:19.745Z"
   },
   {
    "duration": 8,
    "start_time": "2021-12-12T18:03:43.940Z"
   },
   {
    "duration": 807,
    "start_time": "2021-12-12T18:05:04.303Z"
   },
   {
    "duration": 71,
    "start_time": "2021-12-12T18:05:05.114Z"
   },
   {
    "duration": 42,
    "start_time": "2021-12-12T18:05:05.188Z"
   },
   {
    "duration": 18,
    "start_time": "2021-12-12T18:05:05.234Z"
   },
   {
    "duration": 21,
    "start_time": "2021-12-12T18:05:05.256Z"
   },
   {
    "duration": 6,
    "start_time": "2021-12-12T18:05:05.280Z"
   },
   {
    "duration": 12,
    "start_time": "2021-12-12T18:05:05.324Z"
   },
   {
    "duration": 18,
    "start_time": "2021-12-12T18:05:05.339Z"
   },
   {
    "duration": 8,
    "start_time": "2021-12-12T18:05:05.361Z"
   },
   {
    "duration": 10,
    "start_time": "2021-12-12T18:05:05.372Z"
   },
   {
    "duration": 7,
    "start_time": "2021-12-12T18:05:05.424Z"
   },
   {
    "duration": 13,
    "start_time": "2021-12-12T18:05:05.434Z"
   },
   {
    "duration": 16,
    "start_time": "2021-12-12T18:05:05.450Z"
   },
   {
    "duration": 9,
    "start_time": "2021-12-12T18:05:05.468Z"
   },
   {
    "duration": 55,
    "start_time": "2021-12-12T18:05:05.479Z"
   },
   {
    "duration": 30,
    "start_time": "2021-12-12T18:05:05.536Z"
   },
   {
    "duration": 11,
    "start_time": "2021-12-12T18:05:05.568Z"
   },
   {
    "duration": 7,
    "start_time": "2021-12-12T18:05:05.582Z"
   },
   {
    "duration": 49,
    "start_time": "2021-12-12T18:05:05.592Z"
   },
   {
    "duration": 7,
    "start_time": "2021-12-12T18:05:05.644Z"
   },
   {
    "duration": 8,
    "start_time": "2021-12-12T18:05:05.653Z"
   },
   {
    "duration": 25,
    "start_time": "2021-12-12T18:05:05.663Z"
   },
   {
    "duration": 8,
    "start_time": "2021-12-12T18:05:05.725Z"
   },
   {
    "duration": 13,
    "start_time": "2021-12-12T18:05:05.735Z"
   },
   {
    "duration": 17,
    "start_time": "2021-12-12T18:05:05.751Z"
   },
   {
    "duration": 10,
    "start_time": "2021-12-12T18:05:05.771Z"
   },
   {
    "duration": 42,
    "start_time": "2021-12-12T18:05:05.783Z"
   },
   {
    "duration": 12,
    "start_time": "2021-12-12T18:05:05.828Z"
   },
   {
    "duration": 9,
    "start_time": "2021-12-12T18:05:05.843Z"
   },
   {
    "duration": 8,
    "start_time": "2021-12-12T18:05:05.855Z"
   },
   {
    "duration": 7,
    "start_time": "2021-12-12T18:05:05.866Z"
   },
   {
    "duration": 57,
    "start_time": "2021-12-12T18:05:05.875Z"
   },
   {
    "duration": 50,
    "start_time": "2021-12-12T18:05:05.935Z"
   },
   {
    "duration": 65,
    "start_time": "2021-12-12T18:05:05.987Z"
   },
   {
    "duration": 6,
    "start_time": "2021-12-12T18:05:06.054Z"
   },
   {
    "duration": 865,
    "start_time": "2021-12-12T18:05:06.063Z"
   },
   {
    "duration": 7,
    "start_time": "2021-12-12T18:05:06.930Z"
   },
   {
    "duration": 7,
    "start_time": "2021-12-12T18:05:06.939Z"
   },
   {
    "duration": 4034,
    "start_time": "2021-12-12T18:05:06.948Z"
   },
   {
    "duration": 20,
    "start_time": "2021-12-12T18:05:10.985Z"
   },
   {
    "duration": 15,
    "start_time": "2021-12-12T18:05:11.024Z"
   },
   {
    "duration": 35,
    "start_time": "2021-12-12T18:05:11.041Z"
   },
   {
    "duration": 50,
    "start_time": "2021-12-12T18:05:11.078Z"
   },
   {
    "duration": 31,
    "start_time": "2021-12-12T18:05:11.130Z"
   },
   {
    "duration": 27,
    "start_time": "2021-12-12T18:05:11.164Z"
   },
   {
    "duration": 59,
    "start_time": "2021-12-12T18:05:11.193Z"
   },
   {
    "duration": 4,
    "start_time": "2021-12-12T18:33:01.304Z"
   },
   {
    "duration": 3934,
    "start_time": "2021-12-12T18:33:03.726Z"
   },
   {
    "duration": 4090,
    "start_time": "2021-12-12T18:33:26.350Z"
   },
   {
    "duration": 3902,
    "start_time": "2021-12-12T18:34:03.866Z"
   },
   {
    "duration": 4,
    "start_time": "2021-12-12T18:34:58.118Z"
   },
   {
    "duration": 3831,
    "start_time": "2021-12-12T18:35:01.262Z"
   },
   {
    "duration": 4,
    "start_time": "2021-12-12T18:36:27.460Z"
   },
   {
    "duration": 3980,
    "start_time": "2021-12-12T18:36:29.963Z"
   },
   {
    "duration": 742,
    "start_time": "2021-12-12T18:36:47.042Z"
   },
   {
    "duration": 62,
    "start_time": "2021-12-12T18:36:47.787Z"
   },
   {
    "duration": 29,
    "start_time": "2021-12-12T18:36:47.852Z"
   },
   {
    "duration": 45,
    "start_time": "2021-12-12T18:36:47.885Z"
   },
   {
    "duration": 18,
    "start_time": "2021-12-12T18:36:47.932Z"
   },
   {
    "duration": 7,
    "start_time": "2021-12-12T18:36:47.952Z"
   },
   {
    "duration": 14,
    "start_time": "2021-12-12T18:36:47.962Z"
   },
   {
    "duration": 56,
    "start_time": "2021-12-12T18:36:47.980Z"
   },
   {
    "duration": 8,
    "start_time": "2021-12-12T18:36:48.039Z"
   },
   {
    "duration": 10,
    "start_time": "2021-12-12T18:36:48.049Z"
   },
   {
    "duration": 16,
    "start_time": "2021-12-12T18:36:48.062Z"
   },
   {
    "duration": 53,
    "start_time": "2021-12-12T18:36:48.080Z"
   },
   {
    "duration": 15,
    "start_time": "2021-12-12T18:36:48.135Z"
   },
   {
    "duration": 11,
    "start_time": "2021-12-12T18:36:48.153Z"
   },
   {
    "duration": 25,
    "start_time": "2021-12-12T18:36:48.166Z"
   },
   {
    "duration": 38,
    "start_time": "2021-12-12T18:36:48.193Z"
   },
   {
    "duration": 11,
    "start_time": "2021-12-12T18:36:48.234Z"
   },
   {
    "duration": 9,
    "start_time": "2021-12-12T18:36:48.248Z"
   },
   {
    "duration": 29,
    "start_time": "2021-12-12T18:36:48.260Z"
   },
   {
    "duration": 38,
    "start_time": "2021-12-12T18:36:48.292Z"
   },
   {
    "duration": 17,
    "start_time": "2021-12-12T18:36:48.333Z"
   },
   {
    "duration": 29,
    "start_time": "2021-12-12T18:36:48.352Z"
   },
   {
    "duration": 15,
    "start_time": "2021-12-12T18:36:48.387Z"
   },
   {
    "duration": 10,
    "start_time": "2021-12-12T18:36:48.424Z"
   },
   {
    "duration": 18,
    "start_time": "2021-12-12T18:36:48.436Z"
   },
   {
    "duration": 29,
    "start_time": "2021-12-12T18:36:48.456Z"
   },
   {
    "duration": 9,
    "start_time": "2021-12-12T18:36:48.487Z"
   },
   {
    "duration": 27,
    "start_time": "2021-12-12T18:36:48.498Z"
   },
   {
    "duration": 8,
    "start_time": "2021-12-12T18:36:48.528Z"
   },
   {
    "duration": 7,
    "start_time": "2021-12-12T18:36:48.538Z"
   },
   {
    "duration": 11,
    "start_time": "2021-12-12T18:36:48.547Z"
   },
   {
    "duration": 16,
    "start_time": "2021-12-12T18:36:48.560Z"
   },
   {
    "duration": 92,
    "start_time": "2021-12-12T18:36:48.579Z"
   },
   {
    "duration": 51,
    "start_time": "2021-12-12T18:36:48.674Z"
   },
   {
    "duration": 6,
    "start_time": "2021-12-12T18:36:48.728Z"
   },
   {
    "duration": 879,
    "start_time": "2021-12-12T18:36:48.737Z"
   },
   {
    "duration": 8,
    "start_time": "2021-12-12T18:36:49.619Z"
   },
   {
    "duration": 7,
    "start_time": "2021-12-12T18:36:49.629Z"
   },
   {
    "duration": 3931,
    "start_time": "2021-12-12T18:36:49.638Z"
   },
   {
    "duration": 22,
    "start_time": "2021-12-12T18:36:53.571Z"
   },
   {
    "duration": 38,
    "start_time": "2021-12-12T18:36:53.596Z"
   },
   {
    "duration": 30,
    "start_time": "2021-12-12T18:36:53.636Z"
   },
   {
    "duration": 62,
    "start_time": "2021-12-12T18:36:53.669Z"
   },
   {
    "duration": 31,
    "start_time": "2021-12-12T18:36:53.735Z"
   },
   {
    "duration": 58,
    "start_time": "2021-12-12T18:36:53.769Z"
   },
   {
    "duration": 30,
    "start_time": "2021-12-12T18:36:53.830Z"
   }
  ],
  "kernelspec": {
   "display_name": "Python 3 (ipykernel)",
   "language": "python",
   "name": "python3"
  },
  "language_info": {
   "codemirror_mode": {
    "name": "ipython",
    "version": 3
   },
   "file_extension": ".py",
   "mimetype": "text/x-python",
   "name": "python",
   "nbconvert_exporter": "python",
   "pygments_lexer": "ipython3",
   "version": "3.10.9"
  },
  "toc": {
   "base_numbering": 1,
   "nav_menu": {},
   "number_sections": true,
   "sideBar": true,
   "skip_h1_title": true,
   "title_cell": "Table of Contents",
   "title_sidebar": "Contents",
   "toc_cell": false,
   "toc_position": {},
   "toc_section_display": true,
   "toc_window_display": false
  }
 },
 "nbformat": 4,
 "nbformat_minor": 2
}
