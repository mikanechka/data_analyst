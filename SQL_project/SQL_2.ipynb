{
  "metadata": {
    "ExecuteTimeLog": [
      {
        "duration": 889,
        "start_time": "2022-06-17T16:26:43.467Z"
      },
      {
        "duration": 566,
        "start_time": "2022-06-17T16:36:12.804Z"
      },
      {
        "duration": 3,
        "start_time": "2022-06-17T16:36:13.372Z"
      },
      {
        "duration": 28,
        "start_time": "2022-06-17T17:46:47.111Z"
      },
      {
        "duration": 29,
        "start_time": "2022-06-17T17:47:50.432Z"
      },
      {
        "duration": 24,
        "start_time": "2022-06-17T17:47:59.534Z"
      },
      {
        "duration": 25,
        "start_time": "2022-06-17T17:48:10.443Z"
      },
      {
        "duration": 54,
        "start_time": "2022-06-17T17:48:37.325Z"
      },
      {
        "duration": 573,
        "start_time": "2022-06-17T17:48:54.264Z"
      },
      {
        "duration": 3,
        "start_time": "2022-06-17T17:48:54.839Z"
      },
      {
        "duration": 265,
        "start_time": "2022-06-17T17:48:54.844Z"
      },
      {
        "duration": 5,
        "start_time": "2022-06-17T17:49:19.660Z"
      },
      {
        "duration": 77,
        "start_time": "2022-06-17T17:49:32.420Z"
      },
      {
        "duration": 66,
        "start_time": "2022-06-17T17:52:12.286Z"
      },
      {
        "duration": 76,
        "start_time": "2022-06-17T17:53:04.578Z"
      },
      {
        "duration": 22,
        "start_time": "2022-06-17T17:53:23.821Z"
      },
      {
        "duration": 78,
        "start_time": "2022-06-17T17:53:33.166Z"
      },
      {
        "duration": 76,
        "start_time": "2022-06-17T17:57:19.212Z"
      },
      {
        "duration": 81,
        "start_time": "2022-06-17T17:57:51.088Z"
      },
      {
        "duration": 96,
        "start_time": "2022-06-17T18:01:10.222Z"
      },
      {
        "duration": 101,
        "start_time": "2022-06-17T18:01:25.242Z"
      },
      {
        "duration": 96,
        "start_time": "2022-06-17T18:03:11.828Z"
      },
      {
        "duration": 3,
        "start_time": "2022-06-17T18:07:24.669Z"
      },
      {
        "duration": 3,
        "start_time": "2022-06-17T18:12:53.555Z"
      },
      {
        "duration": 97,
        "start_time": "2022-06-17T18:12:54.112Z"
      },
      {
        "duration": 82,
        "start_time": "2022-06-17T18:12:54.847Z"
      },
      {
        "duration": 73,
        "start_time": "2022-06-17T18:12:55.464Z"
      },
      {
        "duration": 132,
        "start_time": "2022-06-17T18:12:56.519Z"
      },
      {
        "duration": 102,
        "start_time": "2022-06-17T18:12:57.159Z"
      },
      {
        "duration": 161,
        "start_time": "2022-06-17T18:14:27.813Z"
      },
      {
        "duration": 4,
        "start_time": "2022-06-17T18:20:08.011Z"
      },
      {
        "duration": 95,
        "start_time": "2022-06-17T18:20:09.274Z"
      },
      {
        "duration": 71,
        "start_time": "2022-06-17T18:20:09.786Z"
      },
      {
        "duration": 69,
        "start_time": "2022-06-17T18:20:10.354Z"
      },
      {
        "duration": 123,
        "start_time": "2022-06-17T18:20:11.586Z"
      },
      {
        "duration": 123,
        "start_time": "2022-06-17T18:20:12.578Z"
      },
      {
        "duration": 173,
        "start_time": "2022-06-17T18:20:57.124Z"
      },
      {
        "duration": 117,
        "start_time": "2022-06-17T18:28:00.574Z"
      },
      {
        "duration": 564,
        "start_time": "2022-06-17T18:28:17.343Z"
      },
      {
        "duration": 272,
        "start_time": "2022-06-17T18:28:17.909Z"
      },
      {
        "duration": 76,
        "start_time": "2022-06-17T18:28:18.183Z"
      },
      {
        "duration": 74,
        "start_time": "2022-06-17T18:28:18.261Z"
      },
      {
        "duration": 95,
        "start_time": "2022-06-17T18:28:18.337Z"
      },
      {
        "duration": 88,
        "start_time": "2022-06-17T18:28:18.433Z"
      },
      {
        "duration": 3,
        "start_time": "2022-06-17T18:28:18.523Z"
      },
      {
        "duration": 153,
        "start_time": "2022-06-17T18:28:18.527Z"
      },
      {
        "duration": 72,
        "start_time": "2022-06-17T18:46:04.359Z"
      },
      {
        "duration": 76,
        "start_time": "2022-06-17T18:46:13.496Z"
      },
      {
        "duration": 177,
        "start_time": "2022-06-17T19:17:45.809Z"
      },
      {
        "duration": 116,
        "start_time": "2022-06-17T19:18:48.250Z"
      },
      {
        "duration": 112,
        "start_time": "2022-06-17T19:19:18.279Z"
      },
      {
        "duration": 104,
        "start_time": "2022-06-17T19:22:19.717Z"
      },
      {
        "duration": 99,
        "start_time": "2022-06-17T19:22:47.328Z"
      },
      {
        "duration": 101,
        "start_time": "2022-06-17T19:23:18.521Z"
      },
      {
        "duration": 116,
        "start_time": "2022-06-17T19:39:23.414Z"
      },
      {
        "duration": 80,
        "start_time": "2022-06-17T19:40:21.380Z"
      },
      {
        "duration": 80,
        "start_time": "2022-06-17T19:40:37.549Z"
      },
      {
        "duration": 582,
        "start_time": "2022-06-17T19:42:05.989Z"
      },
      {
        "duration": 287,
        "start_time": "2022-06-17T19:42:06.573Z"
      },
      {
        "duration": 74,
        "start_time": "2022-06-17T19:42:06.862Z"
      },
      {
        "duration": 74,
        "start_time": "2022-06-17T19:42:06.939Z"
      },
      {
        "duration": 97,
        "start_time": "2022-06-17T19:42:07.015Z"
      },
      {
        "duration": 90,
        "start_time": "2022-06-17T19:42:07.114Z"
      },
      {
        "duration": 4,
        "start_time": "2022-06-17T19:42:07.206Z"
      },
      {
        "duration": 218,
        "start_time": "2022-06-17T19:42:07.212Z"
      },
      {
        "duration": 29,
        "start_time": "2022-06-17T19:42:07.432Z"
      },
      {
        "duration": 0,
        "start_time": "2022-06-17T19:42:07.463Z"
      },
      {
        "duration": 0,
        "start_time": "2022-06-17T19:42:07.465Z"
      },
      {
        "duration": 74,
        "start_time": "2022-06-17T19:42:18.808Z"
      },
      {
        "duration": 561,
        "start_time": "2022-06-17T19:42:24.274Z"
      },
      {
        "duration": 249,
        "start_time": "2022-06-17T19:42:24.837Z"
      },
      {
        "duration": 68,
        "start_time": "2022-06-17T19:42:25.088Z"
      },
      {
        "duration": 66,
        "start_time": "2022-06-17T19:42:25.158Z"
      },
      {
        "duration": 86,
        "start_time": "2022-06-17T19:42:25.226Z"
      },
      {
        "duration": 82,
        "start_time": "2022-06-17T19:42:25.314Z"
      },
      {
        "duration": 5,
        "start_time": "2022-06-17T19:42:25.398Z"
      },
      {
        "duration": 178,
        "start_time": "2022-06-17T19:42:25.405Z"
      },
      {
        "duration": 69,
        "start_time": "2022-06-17T19:42:25.585Z"
      },
      {
        "duration": 84,
        "start_time": "2022-06-17T19:42:25.657Z"
      },
      {
        "duration": 74,
        "start_time": "2022-06-17T19:42:25.743Z"
      },
      {
        "duration": 104,
        "start_time": "2022-06-17T19:43:41.112Z"
      },
      {
        "duration": 103,
        "start_time": "2022-06-17T19:48:40.156Z"
      },
      {
        "duration": 77,
        "start_time": "2022-06-17T19:56:22.157Z"
      },
      {
        "duration": 157,
        "start_time": "2022-06-17T20:17:37.743Z"
      },
      {
        "duration": 102,
        "start_time": "2022-06-17T20:18:21.739Z"
      },
      {
        "duration": 77,
        "start_time": "2022-06-17T20:42:35.330Z"
      },
      {
        "duration": 517,
        "start_time": "2022-06-17T20:46:37.194Z"
      },
      {
        "duration": 240,
        "start_time": "2022-06-17T20:46:37.713Z"
      },
      {
        "duration": 64,
        "start_time": "2022-06-17T20:46:37.955Z"
      },
      {
        "duration": 64,
        "start_time": "2022-06-17T20:46:38.021Z"
      },
      {
        "duration": 92,
        "start_time": "2022-06-17T20:46:38.087Z"
      },
      {
        "duration": 80,
        "start_time": "2022-06-17T20:46:38.181Z"
      },
      {
        "duration": 3,
        "start_time": "2022-06-17T20:46:38.263Z"
      },
      {
        "duration": 138,
        "start_time": "2022-06-17T20:46:38.267Z"
      },
      {
        "duration": 66,
        "start_time": "2022-06-17T20:46:38.407Z"
      },
      {
        "duration": 83,
        "start_time": "2022-06-17T20:46:38.475Z"
      },
      {
        "duration": 71,
        "start_time": "2022-06-17T20:46:38.560Z"
      },
      {
        "duration": 72,
        "start_time": "2022-06-17T20:46:38.633Z"
      },
      {
        "duration": 73,
        "start_time": "2022-06-17T20:46:38.707Z"
      },
      {
        "duration": 13,
        "start_time": "2022-06-17T21:05:39.299Z"
      },
      {
        "duration": 101,
        "start_time": "2022-06-17T21:15:20.093Z"
      },
      {
        "duration": 80,
        "start_time": "2022-06-17T21:15:45.176Z"
      },
      {
        "duration": 69,
        "start_time": "2022-06-17T21:24:41.609Z"
      },
      {
        "duration": 75,
        "start_time": "2022-06-17T21:25:01.491Z"
      },
      {
        "duration": 536,
        "start_time": "2022-06-17T21:28:59.266Z"
      },
      {
        "duration": 273,
        "start_time": "2022-06-17T21:28:59.803Z"
      },
      {
        "duration": 73,
        "start_time": "2022-06-17T21:29:00.078Z"
      },
      {
        "duration": 74,
        "start_time": "2022-06-17T21:29:00.153Z"
      },
      {
        "duration": 93,
        "start_time": "2022-06-17T21:29:00.229Z"
      },
      {
        "duration": 88,
        "start_time": "2022-06-17T21:29:00.324Z"
      },
      {
        "duration": 4,
        "start_time": "2022-06-17T21:29:00.413Z"
      },
      {
        "duration": 162,
        "start_time": "2022-06-17T21:29:00.419Z"
      },
      {
        "duration": 12,
        "start_time": "2022-06-17T21:29:00.583Z"
      },
      {
        "duration": 75,
        "start_time": "2022-06-17T21:29:00.597Z"
      },
      {
        "duration": 87,
        "start_time": "2022-06-17T21:29:00.674Z"
      },
      {
        "duration": 78,
        "start_time": "2022-06-17T21:29:00.763Z"
      },
      {
        "duration": 79,
        "start_time": "2022-06-17T21:29:00.843Z"
      },
      {
        "duration": 80,
        "start_time": "2022-06-17T21:29:00.924Z"
      },
      {
        "duration": 52,
        "start_time": "2022-06-18T13:24:10.865Z"
      },
      {
        "duration": 551,
        "start_time": "2022-06-18T13:24:22.171Z"
      },
      {
        "duration": 47,
        "start_time": "2022-06-18T13:24:22.724Z"
      },
      {
        "duration": 59,
        "start_time": "2022-06-18T13:24:22.773Z"
      },
      {
        "duration": 8,
        "start_time": "2022-06-18T13:24:22.834Z"
      },
      {
        "duration": 9,
        "start_time": "2022-06-18T13:24:22.844Z"
      },
      {
        "duration": 19,
        "start_time": "2022-06-18T13:24:22.855Z"
      },
      {
        "duration": 14,
        "start_time": "2022-06-18T13:24:22.876Z"
      },
      {
        "duration": 107,
        "start_time": "2022-06-18T13:24:22.892Z"
      },
      {
        "duration": 0,
        "start_time": "2022-06-18T13:24:23.000Z"
      },
      {
        "duration": 0,
        "start_time": "2022-06-18T13:24:23.002Z"
      },
      {
        "duration": 0,
        "start_time": "2022-06-18T13:24:23.003Z"
      },
      {
        "duration": 0,
        "start_time": "2022-06-18T13:24:23.004Z"
      },
      {
        "duration": 0,
        "start_time": "2022-06-18T13:24:23.005Z"
      },
      {
        "duration": 0,
        "start_time": "2022-06-18T13:24:23.006Z"
      },
      {
        "duration": 0,
        "start_time": "2022-06-18T13:24:23.008Z"
      },
      {
        "duration": 0,
        "start_time": "2022-06-18T13:24:23.009Z"
      },
      {
        "duration": 25,
        "start_time": "2022-06-18T13:25:11.507Z"
      },
      {
        "duration": 57,
        "start_time": "2022-06-18T13:25:39.963Z"
      },
      {
        "duration": 57,
        "start_time": "2022-06-18T13:26:02.903Z"
      },
      {
        "duration": 87,
        "start_time": "2022-06-18T13:31:52.480Z"
      },
      {
        "duration": 71,
        "start_time": "2022-06-18T13:42:17.824Z"
      },
      {
        "duration": 77,
        "start_time": "2022-06-18T13:46:22.044Z"
      },
      {
        "duration": 111,
        "start_time": "2022-06-18T13:46:58.303Z"
      },
      {
        "duration": 141,
        "start_time": "2022-06-18T13:47:18.185Z"
      },
      {
        "duration": 130,
        "start_time": "2022-06-18T13:48:06.705Z"
      },
      {
        "duration": 111,
        "start_time": "2022-06-18T13:49:56.063Z"
      },
      {
        "duration": 3,
        "start_time": "2022-06-18T14:02:07.795Z"
      },
      {
        "duration": 501,
        "start_time": "2022-06-18T14:02:20.466Z"
      },
      {
        "duration": 41,
        "start_time": "2022-06-18T14:02:20.969Z"
      },
      {
        "duration": 133,
        "start_time": "2022-06-18T14:02:21.012Z"
      },
      {
        "duration": 11,
        "start_time": "2022-06-18T14:02:21.147Z"
      },
      {
        "duration": 8,
        "start_time": "2022-06-18T14:02:21.160Z"
      },
      {
        "duration": 24,
        "start_time": "2022-06-18T14:02:21.170Z"
      },
      {
        "duration": 16,
        "start_time": "2022-06-18T14:02:21.195Z"
      },
      {
        "duration": 3,
        "start_time": "2022-06-18T14:02:21.213Z"
      },
      {
        "duration": 22,
        "start_time": "2022-06-18T14:02:21.220Z"
      },
      {
        "duration": 197,
        "start_time": "2022-06-18T14:02:21.245Z"
      },
      {
        "duration": 13,
        "start_time": "2022-06-18T14:02:21.444Z"
      },
      {
        "duration": 12,
        "start_time": "2022-06-18T14:02:21.459Z"
      },
      {
        "duration": 28,
        "start_time": "2022-06-18T14:02:21.473Z"
      },
      {
        "duration": 12,
        "start_time": "2022-06-18T14:02:21.504Z"
      },
      {
        "duration": 30,
        "start_time": "2022-06-18T14:02:21.518Z"
      },
      {
        "duration": 25,
        "start_time": "2022-06-18T14:02:21.550Z"
      },
      {
        "duration": 143,
        "start_time": "2022-06-18T14:03:00.437Z"
      },
      {
        "duration": 3,
        "start_time": "2022-06-18T14:03:50.838Z"
      },
      {
        "duration": 67,
        "start_time": "2022-06-18T14:03:52.327Z"
      },
      {
        "duration": 3,
        "start_time": "2022-06-18T14:05:23.291Z"
      },
      {
        "duration": 91,
        "start_time": "2022-06-18T14:05:46.165Z"
      },
      {
        "duration": 611,
        "start_time": "2022-06-18T14:08:42.418Z"
      },
      {
        "duration": 42,
        "start_time": "2022-06-18T14:08:43.031Z"
      },
      {
        "duration": 57,
        "start_time": "2022-06-18T14:08:43.075Z"
      },
      {
        "duration": 9,
        "start_time": "2022-06-18T14:08:43.134Z"
      },
      {
        "duration": 8,
        "start_time": "2022-06-18T14:08:43.144Z"
      },
      {
        "duration": 23,
        "start_time": "2022-06-18T14:08:43.153Z"
      },
      {
        "duration": 13,
        "start_time": "2022-06-18T14:08:43.178Z"
      },
      {
        "duration": 4,
        "start_time": "2022-06-18T14:08:43.193Z"
      },
      {
        "duration": 181,
        "start_time": "2022-06-18T14:08:43.199Z"
      },
      {
        "duration": 13,
        "start_time": "2022-06-18T14:08:43.383Z"
      },
      {
        "duration": 11,
        "start_time": "2022-06-18T14:08:43.398Z"
      },
      {
        "duration": 51,
        "start_time": "2022-06-18T14:08:43.411Z"
      },
      {
        "duration": 13,
        "start_time": "2022-06-18T14:08:43.464Z"
      },
      {
        "duration": 16,
        "start_time": "2022-06-18T14:08:43.478Z"
      },
      {
        "duration": 24,
        "start_time": "2022-06-18T14:08:43.496Z"
      },
      {
        "duration": 32,
        "start_time": "2022-06-18T14:17:16.819Z"
      },
      {
        "duration": 17,
        "start_time": "2022-06-18T14:29:45.784Z"
      },
      {
        "duration": 126,
        "start_time": "2022-06-18T14:29:58.469Z"
      },
      {
        "duration": 30,
        "start_time": "2022-06-18T14:31:19.366Z"
      },
      {
        "duration": 74,
        "start_time": "2022-06-18T14:36:23.803Z"
      },
      {
        "duration": 30,
        "start_time": "2022-06-18T14:36:42.644Z"
      },
      {
        "duration": 18,
        "start_time": "2022-06-18T14:37:07.425Z"
      },
      {
        "duration": 70,
        "start_time": "2022-06-18T14:37:52.496Z"
      },
      {
        "duration": 12,
        "start_time": "2022-06-18T14:38:12.664Z"
      },
      {
        "duration": 49,
        "start_time": "2022-06-18T14:38:49.008Z"
      },
      {
        "duration": 28,
        "start_time": "2022-06-18T14:39:23.223Z"
      },
      {
        "duration": 22,
        "start_time": "2022-06-18T14:40:05.619Z"
      },
      {
        "duration": 28,
        "start_time": "2022-06-18T14:42:09.383Z"
      },
      {
        "duration": 28,
        "start_time": "2022-06-18T14:42:26.311Z"
      },
      {
        "duration": 58,
        "start_time": "2022-06-18T14:57:41.498Z"
      },
      {
        "duration": 53,
        "start_time": "2022-06-18T14:58:17.391Z"
      },
      {
        "duration": 101,
        "start_time": "2022-06-18T15:22:09.212Z"
      },
      {
        "duration": 50,
        "start_time": "2022-06-18T15:23:10.317Z"
      },
      {
        "duration": 23,
        "start_time": "2022-06-18T15:23:37.793Z"
      },
      {
        "duration": 19,
        "start_time": "2022-06-18T15:24:31.504Z"
      },
      {
        "duration": 25,
        "start_time": "2022-06-18T15:25:48.743Z"
      },
      {
        "duration": 23,
        "start_time": "2022-06-18T15:25:58.063Z"
      },
      {
        "duration": 24,
        "start_time": "2022-06-18T15:37:04.672Z"
      },
      {
        "duration": 25,
        "start_time": "2022-06-18T15:37:24.373Z"
      },
      {
        "duration": 24,
        "start_time": "2022-06-18T15:38:47.017Z"
      },
      {
        "duration": 24,
        "start_time": "2022-06-18T15:39:07.845Z"
      },
      {
        "duration": 27,
        "start_time": "2022-06-18T15:39:20.265Z"
      },
      {
        "duration": 505,
        "start_time": "2022-06-18T15:39:33.676Z"
      },
      {
        "duration": 40,
        "start_time": "2022-06-18T15:39:34.183Z"
      },
      {
        "duration": 50,
        "start_time": "2022-06-18T15:39:34.225Z"
      },
      {
        "duration": 10,
        "start_time": "2022-06-18T15:39:34.277Z"
      },
      {
        "duration": 8,
        "start_time": "2022-06-18T15:39:34.288Z"
      },
      {
        "duration": 19,
        "start_time": "2022-06-18T15:39:34.298Z"
      },
      {
        "duration": 14,
        "start_time": "2022-06-18T15:39:34.318Z"
      },
      {
        "duration": 3,
        "start_time": "2022-06-18T15:39:34.333Z"
      },
      {
        "duration": 153,
        "start_time": "2022-06-18T15:39:34.338Z"
      },
      {
        "duration": 13,
        "start_time": "2022-06-18T15:39:34.494Z"
      },
      {
        "duration": 39,
        "start_time": "2022-06-18T15:39:34.510Z"
      },
      {
        "duration": 14,
        "start_time": "2022-06-18T15:39:34.551Z"
      },
      {
        "duration": 24,
        "start_time": "2022-06-18T15:39:34.567Z"
      },
      {
        "duration": 17,
        "start_time": "2022-06-18T15:39:34.593Z"
      },
      {
        "duration": 36,
        "start_time": "2022-06-18T15:39:34.611Z"
      },
      {
        "duration": 12,
        "start_time": "2022-06-18T15:39:34.648Z"
      },
      {
        "duration": 15,
        "start_time": "2022-06-18T15:39:34.662Z"
      },
      {
        "duration": 18,
        "start_time": "2022-06-18T15:39:34.678Z"
      },
      {
        "duration": 24,
        "start_time": "2022-06-18T15:40:38.532Z"
      },
      {
        "duration": 25,
        "start_time": "2022-06-18T15:46:05.071Z"
      },
      {
        "duration": 24,
        "start_time": "2022-06-18T15:46:29.740Z"
      },
      {
        "duration": 38,
        "start_time": "2022-06-18T15:46:42.947Z"
      },
      {
        "duration": 23,
        "start_time": "2022-06-18T15:46:51.968Z"
      },
      {
        "duration": 25,
        "start_time": "2022-06-18T15:47:31.279Z"
      },
      {
        "duration": 26,
        "start_time": "2022-06-18T15:48:32.595Z"
      },
      {
        "duration": 24,
        "start_time": "2022-06-18T15:48:44.608Z"
      },
      {
        "duration": 16,
        "start_time": "2022-06-18T15:49:08.987Z"
      },
      {
        "duration": 109,
        "start_time": "2022-06-18T15:49:31.787Z"
      },
      {
        "duration": 54,
        "start_time": "2022-06-18T15:52:09.536Z"
      },
      {
        "duration": 25,
        "start_time": "2022-06-18T15:52:30.280Z"
      },
      {
        "duration": 26,
        "start_time": "2022-06-18T15:53:50.308Z"
      },
      {
        "duration": 515,
        "start_time": "2022-06-18T16:01:33.708Z"
      },
      {
        "duration": 39,
        "start_time": "2022-06-18T16:01:34.225Z"
      },
      {
        "duration": 54,
        "start_time": "2022-06-18T16:01:34.266Z"
      },
      {
        "duration": 8,
        "start_time": "2022-06-18T16:01:34.322Z"
      },
      {
        "duration": 9,
        "start_time": "2022-06-18T16:01:34.332Z"
      },
      {
        "duration": 20,
        "start_time": "2022-06-18T16:01:34.342Z"
      },
      {
        "duration": 14,
        "start_time": "2022-06-18T16:01:34.363Z"
      },
      {
        "duration": 3,
        "start_time": "2022-06-18T16:01:34.379Z"
      },
      {
        "duration": 178,
        "start_time": "2022-06-18T16:01:34.384Z"
      },
      {
        "duration": 12,
        "start_time": "2022-06-18T16:01:34.564Z"
      },
      {
        "duration": 23,
        "start_time": "2022-06-18T16:01:34.578Z"
      },
      {
        "duration": 21,
        "start_time": "2022-06-18T16:01:34.603Z"
      },
      {
        "duration": 24,
        "start_time": "2022-06-18T16:01:34.625Z"
      },
      {
        "duration": 23,
        "start_time": "2022-06-18T16:01:34.650Z"
      },
      {
        "duration": 28,
        "start_time": "2022-06-18T16:01:34.675Z"
      },
      {
        "duration": 11,
        "start_time": "2022-06-18T16:01:34.705Z"
      },
      {
        "duration": 15,
        "start_time": "2022-06-18T16:01:34.718Z"
      },
      {
        "duration": 21,
        "start_time": "2022-06-18T16:01:34.735Z"
      },
      {
        "duration": 128,
        "start_time": "2022-06-18T16:07:50.880Z"
      },
      {
        "duration": 62,
        "start_time": "2022-06-18T16:08:33.749Z"
      },
      {
        "duration": 54,
        "start_time": "2022-06-18T16:09:11.428Z"
      },
      {
        "duration": 65,
        "start_time": "2022-06-18T16:09:17.508Z"
      },
      {
        "duration": 26,
        "start_time": "2022-06-18T16:09:23.070Z"
      },
      {
        "duration": 33,
        "start_time": "2022-06-18T16:30:11.651Z"
      },
      {
        "duration": 24,
        "start_time": "2022-06-18T16:32:03.130Z"
      },
      {
        "duration": 24,
        "start_time": "2022-06-18T16:36:44.216Z"
      },
      {
        "duration": 24,
        "start_time": "2022-06-18T16:37:27.804Z"
      },
      {
        "duration": 2,
        "start_time": "2022-06-18T16:39:44.773Z"
      },
      {
        "duration": 23,
        "start_time": "2022-06-18T16:41:17.647Z"
      },
      {
        "duration": 109,
        "start_time": "2022-06-18T16:43:26.956Z"
      },
      {
        "duration": 24,
        "start_time": "2022-06-18T16:44:08.727Z"
      },
      {
        "duration": 3,
        "start_time": "2022-06-18T16:53:40.702Z"
      },
      {
        "duration": 14,
        "start_time": "2022-06-18T16:58:41.898Z"
      },
      {
        "duration": 15,
        "start_time": "2022-06-18T17:07:16.503Z"
      },
      {
        "duration": 16,
        "start_time": "2022-06-18T17:07:29.054Z"
      },
      {
        "duration": 70,
        "start_time": "2022-06-18T17:29:07.324Z"
      },
      {
        "duration": 49,
        "start_time": "2022-06-18T17:29:16.091Z"
      },
      {
        "duration": 54,
        "start_time": "2022-06-18T17:29:49.763Z"
      },
      {
        "duration": 60,
        "start_time": "2022-06-18T19:07:04.315Z"
      },
      {
        "duration": 15,
        "start_time": "2022-06-18T19:07:23.957Z"
      },
      {
        "duration": 19,
        "start_time": "2022-06-18T19:08:18.057Z"
      },
      {
        "duration": 17,
        "start_time": "2022-06-18T19:08:58.811Z"
      },
      {
        "duration": 15,
        "start_time": "2022-06-18T19:09:09.254Z"
      },
      {
        "duration": 3,
        "start_time": "2022-06-18T19:12:17.453Z"
      },
      {
        "duration": 1614,
        "start_time": "2022-06-18T19:14:46.649Z"
      },
      {
        "duration": 15,
        "start_time": "2022-06-18T19:29:57.292Z"
      },
      {
        "duration": 67,
        "start_time": "2022-06-18T19:33:00.041Z"
      },
      {
        "duration": 49,
        "start_time": "2022-06-18T19:33:25.192Z"
      },
      {
        "duration": 80,
        "start_time": "2022-06-18T19:35:00.512Z"
      },
      {
        "duration": 76,
        "start_time": "2022-06-18T19:36:06.116Z"
      },
      {
        "duration": 19,
        "start_time": "2022-06-18T19:37:38.548Z"
      },
      {
        "duration": 16,
        "start_time": "2022-06-18T19:40:23.487Z"
      },
      {
        "duration": 549,
        "start_time": "2022-06-18T19:40:39.886Z"
      },
      {
        "duration": 51,
        "start_time": "2022-06-18T19:40:40.437Z"
      },
      {
        "duration": 67,
        "start_time": "2022-06-18T19:40:40.489Z"
      },
      {
        "duration": 9,
        "start_time": "2022-06-18T19:40:40.558Z"
      },
      {
        "duration": 12,
        "start_time": "2022-06-18T19:40:40.570Z"
      },
      {
        "duration": 27,
        "start_time": "2022-06-18T19:40:40.584Z"
      },
      {
        "duration": 14,
        "start_time": "2022-06-18T19:40:40.613Z"
      },
      {
        "duration": 13,
        "start_time": "2022-06-18T19:40:40.629Z"
      },
      {
        "duration": 245,
        "start_time": "2022-06-18T19:40:40.644Z"
      },
      {
        "duration": 19,
        "start_time": "2022-06-18T19:40:40.891Z"
      },
      {
        "duration": 15,
        "start_time": "2022-06-18T19:40:40.942Z"
      },
      {
        "duration": 25,
        "start_time": "2022-06-18T19:40:40.960Z"
      },
      {
        "duration": 23,
        "start_time": "2022-06-18T19:40:40.987Z"
      },
      {
        "duration": 33,
        "start_time": "2022-06-18T19:40:41.014Z"
      },
      {
        "duration": 3,
        "start_time": "2022-06-18T19:40:41.049Z"
      },
      {
        "duration": 22,
        "start_time": "2022-06-18T19:40:41.055Z"
      },
      {
        "duration": 22,
        "start_time": "2022-06-18T19:40:41.079Z"
      },
      {
        "duration": 6,
        "start_time": "2022-06-18T19:40:41.103Z"
      },
      {
        "duration": 40,
        "start_time": "2022-06-18T19:40:41.111Z"
      },
      {
        "duration": 19,
        "start_time": "2022-06-18T19:40:41.153Z"
      },
      {
        "duration": 3,
        "start_time": "2022-06-18T19:40:41.174Z"
      }
    ],
    "toc": {
      "base_numbering": 1,
      "nav_menu": {},
      "number_sections": true,
      "sideBar": true,
      "skip_h1_title": true,
      "title_cell": "Table of Contents",
      "title_sidebar": "Contents",
      "toc_cell": false,
      "toc_position": {
        "height": "calc(100% - 180px)",
        "left": "10px",
        "top": "150px",
        "width": "289.6px"
      },
      "toc_section_display": true,
      "toc_window_display": true
    },
    "kernelspec": {
      "name": "python",
      "display_name": "Python (Pyodide)",
      "language": "python"
    },
    "language_info": {
      "codemirror_mode": {
        "name": "ipython",
        "version": 3
      },
      "file_extension": ".py",
      "mimetype": "text/x-python",
      "name": "python",
      "nbconvert_exporter": "python",
      "pygments_lexer": "ipython3",
      "version": "3.9.5"
    }
  },
  "nbformat_minor": 4,
  "nbformat": 4,
  "cells": [
    {
      "cell_type": "markdown",
      "source": "## Загрузка данных",
      "metadata": {}
    },
    {
      "cell_type": "code",
      "source": "# импортируем библиотеки\n\nimport pandas as pd\nfrom sqlalchemy import create_engine",
      "metadata": {},
      "execution_count": 1,
      "outputs": []
    },
    {
      "cell_type": "code",
      "source": "# устанавливаем параметры\n\ndb_config = {'user': '', # имя пользователя\n'pwd': '', # пароль\n'host': '',\n'port': , # порт подключения\n'db': ''} # название базы данных\nconnection_string = 'postgresql://{}:{}@{}:{}/{}'.format(db_config['user'],\n db_config['pwd'],\n db_config['host'],\n db_config['port'],\n db_config['db'])\n\n# сохраняем коннектор\n\nengine = create_engine(connection_string, connect_args={'sslmode':'require'})",
      "metadata": {},
      "execution_count": 2,
      "outputs": []
    },
    {
      "cell_type": "markdown",
      "source": "Базу данных подключили, можем приступать к заданию таблиц.",
      "metadata": {}
    },
    {
      "cell_type": "code",
      "source": "for data in ['books', 'authors', 'publishers', 'ratings', 'reviews']:\n    query = (\n        '''\n            select * \n            from {} \n    \n        '''.format(data))\n\n    data = pd.io.sql.read_sql(query, con = engine)",
      "metadata": {},
      "execution_count": null,
      "outputs": []
    },
    {
      "cell_type": "markdown",
      "source": "Приступим к исследованию таблиц.",
      "metadata": {}
    },
    {
      "cell_type": "markdown",
      "source": "## Исследование таблиц",
      "metadata": {}
    },
    {
      "cell_type": "code",
      "source": "# создадим функцию для вывода общей информации: это позволит избавиться от повторов и сократить код \n\ndef background(data):\n    display(data.columns, data.head(), data.describe())\n    print('*' * 50)\n    data.info()\n    print('*' * 50)\n\n",
      "metadata": {},
      "execution_count": 8,
      "outputs": []
    },
    {
      "cell_type": "code",
      "source": "for data in [books, authors, publishers, ratings, reviews]:\n    background(data)",
      "metadata": {
        "scrolled": true
      },
      "execution_count": 9,
      "outputs": [
        {
          "output_type": "display_data",
          "data": {
            "text/plain": [
              "Index(['book_id', 'author_id', 'title', 'num_pages', 'publication_date',\n",
              "       'publisher_id'],\n",
              "      dtype='object')"
            ]
          },
          "metadata": {}
        },
        {
          "output_type": "display_data",
          "data": {
            "text/html": [
              "<div>\n",
              "<style scoped>\n",
              "    .dataframe tbody tr th:only-of-type {\n",
              "        vertical-align: middle;\n",
              "    }\n",
              "\n",
              "    .dataframe tbody tr th {\n",
              "        vertical-align: top;\n",
              "    }\n",
              "\n",
              "    .dataframe thead th {\n",
              "        text-align: right;\n",
              "    }\n",
              "</style>\n",
              "<table border=\"1\" class=\"dataframe\">\n",
              "  <thead>\n",
              "    <tr style=\"text-align: right;\">\n",
              "      <th></th>\n",
              "      <th>book_id</th>\n",
              "      <th>author_id</th>\n",
              "      <th>title</th>\n",
              "      <th>num_pages</th>\n",
              "      <th>publication_date</th>\n",
              "      <th>publisher_id</th>\n",
              "    </tr>\n",
              "  </thead>\n",
              "  <tbody>\n",
              "    <tr>\n",
              "      <th>0</th>\n",
              "      <td>1</td>\n",
              "      <td>546</td>\n",
              "      <td>'Salem's Lot</td>\n",
              "      <td>594</td>\n",
              "      <td>2005-11-01</td>\n",
              "      <td>93</td>\n",
              "    </tr>\n",
              "    <tr>\n",
              "      <th>1</th>\n",
              "      <td>2</td>\n",
              "      <td>465</td>\n",
              "      <td>1 000 Places to See Before You Die</td>\n",
              "      <td>992</td>\n",
              "      <td>2003-05-22</td>\n",
              "      <td>336</td>\n",
              "    </tr>\n",
              "    <tr>\n",
              "      <th>2</th>\n",
              "      <td>3</td>\n",
              "      <td>407</td>\n",
              "      <td>13 Little Blue Envelopes (Little Blue Envelope...</td>\n",
              "      <td>322</td>\n",
              "      <td>2010-12-21</td>\n",
              "      <td>135</td>\n",
              "    </tr>\n",
              "    <tr>\n",
              "      <th>3</th>\n",
              "      <td>4</td>\n",
              "      <td>82</td>\n",
              "      <td>1491: New Revelations of the Americas Before C...</td>\n",
              "      <td>541</td>\n",
              "      <td>2006-10-10</td>\n",
              "      <td>309</td>\n",
              "    </tr>\n",
              "    <tr>\n",
              "      <th>4</th>\n",
              "      <td>5</td>\n",
              "      <td>125</td>\n",
              "      <td>1776</td>\n",
              "      <td>386</td>\n",
              "      <td>2006-07-04</td>\n",
              "      <td>268</td>\n",
              "    </tr>\n",
              "  </tbody>\n",
              "</table>\n",
              "</div>"
            ],
            "text/plain": [
              "   book_id  author_id                                              title  \\\n",
              "0        1        546                                       'Salem's Lot   \n",
              "1        2        465                 1 000 Places to See Before You Die   \n",
              "2        3        407  13 Little Blue Envelopes (Little Blue Envelope...   \n",
              "3        4         82  1491: New Revelations of the Americas Before C...   \n",
              "4        5        125                                               1776   \n",
              "\n",
              "   num_pages publication_date  publisher_id  \n",
              "0        594       2005-11-01            93  \n",
              "1        992       2003-05-22           336  \n",
              "2        322       2010-12-21           135  \n",
              "3        541       2006-10-10           309  \n",
              "4        386       2006-07-04           268  "
            ]
          },
          "metadata": {}
        },
        {
          "output_type": "display_data",
          "data": {
            "text/html": [
              "<div>\n",
              "<style scoped>\n",
              "    .dataframe tbody tr th:only-of-type {\n",
              "        vertical-align: middle;\n",
              "    }\n",
              "\n",
              "    .dataframe tbody tr th {\n",
              "        vertical-align: top;\n",
              "    }\n",
              "\n",
              "    .dataframe thead th {\n",
              "        text-align: right;\n",
              "    }\n",
              "</style>\n",
              "<table border=\"1\" class=\"dataframe\">\n",
              "  <thead>\n",
              "    <tr style=\"text-align: right;\">\n",
              "      <th></th>\n",
              "      <th>book_id</th>\n",
              "      <th>author_id</th>\n",
              "      <th>num_pages</th>\n",
              "      <th>publisher_id</th>\n",
              "    </tr>\n",
              "  </thead>\n",
              "  <tbody>\n",
              "    <tr>\n",
              "      <th>count</th>\n",
              "      <td>1000.000000</td>\n",
              "      <td>1000.000000</td>\n",
              "      <td>1000.00000</td>\n",
              "      <td>1000.000000</td>\n",
              "    </tr>\n",
              "    <tr>\n",
              "      <th>mean</th>\n",
              "      <td>500.500000</td>\n",
              "      <td>320.417000</td>\n",
              "      <td>389.11100</td>\n",
              "      <td>171.270000</td>\n",
              "    </tr>\n",
              "    <tr>\n",
              "      <th>std</th>\n",
              "      <td>288.819436</td>\n",
              "      <td>181.620172</td>\n",
              "      <td>229.39014</td>\n",
              "      <td>99.082685</td>\n",
              "    </tr>\n",
              "    <tr>\n",
              "      <th>min</th>\n",
              "      <td>1.000000</td>\n",
              "      <td>1.000000</td>\n",
              "      <td>14.00000</td>\n",
              "      <td>1.000000</td>\n",
              "    </tr>\n",
              "    <tr>\n",
              "      <th>25%</th>\n",
              "      <td>250.750000</td>\n",
              "      <td>162.750000</td>\n",
              "      <td>249.00000</td>\n",
              "      <td>83.000000</td>\n",
              "    </tr>\n",
              "    <tr>\n",
              "      <th>50%</th>\n",
              "      <td>500.500000</td>\n",
              "      <td>316.500000</td>\n",
              "      <td>352.00000</td>\n",
              "      <td>177.500000</td>\n",
              "    </tr>\n",
              "    <tr>\n",
              "      <th>75%</th>\n",
              "      <td>750.250000</td>\n",
              "      <td>481.000000</td>\n",
              "      <td>453.00000</td>\n",
              "      <td>258.000000</td>\n",
              "    </tr>\n",
              "    <tr>\n",
              "      <th>max</th>\n",
              "      <td>1000.000000</td>\n",
              "      <td>636.000000</td>\n",
              "      <td>2690.00000</td>\n",
              "      <td>340.000000</td>\n",
              "    </tr>\n",
              "  </tbody>\n",
              "</table>\n",
              "</div>"
            ],
            "text/plain": [
              "           book_id    author_id   num_pages  publisher_id\n",
              "count  1000.000000  1000.000000  1000.00000   1000.000000\n",
              "mean    500.500000   320.417000   389.11100    171.270000\n",
              "std     288.819436   181.620172   229.39014     99.082685\n",
              "min       1.000000     1.000000    14.00000      1.000000\n",
              "25%     250.750000   162.750000   249.00000     83.000000\n",
              "50%     500.500000   316.500000   352.00000    177.500000\n",
              "75%     750.250000   481.000000   453.00000    258.000000\n",
              "max    1000.000000   636.000000  2690.00000    340.000000"
            ]
          },
          "metadata": {}
        },
        {
          "name": "stdout",
          "output_type": "stream",
          "text": "**************************************************\n\n<class 'pandas.core.frame.DataFrame'>\n\nRangeIndex: 1000 entries, 0 to 999\n\nData columns (total 6 columns):\n\n #   Column            Non-Null Count  Dtype \n\n---  ------            --------------  ----- \n\n 0   book_id           1000 non-null   int64 \n\n 1   author_id         1000 non-null   int64 \n\n 2   title             1000 non-null   object\n\n 3   num_pages         1000 non-null   int64 \n\n 4   publication_date  1000 non-null   object\n\n 5   publisher_id      1000 non-null   int64 \n\ndtypes: int64(4), object(2)\n\nmemory usage: 47.0+ KB\n\n**************************************************\n"
        },
        {
          "output_type": "display_data",
          "data": {
            "text/plain": [
              "Index(['author_id', 'author'], dtype='object')"
            ]
          },
          "metadata": {}
        },
        {
          "output_type": "display_data",
          "data": {
            "text/html": [
              "<div>\n",
              "<style scoped>\n",
              "    .dataframe tbody tr th:only-of-type {\n",
              "        vertical-align: middle;\n",
              "    }\n",
              "\n",
              "    .dataframe tbody tr th {\n",
              "        vertical-align: top;\n",
              "    }\n",
              "\n",
              "    .dataframe thead th {\n",
              "        text-align: right;\n",
              "    }\n",
              "</style>\n",
              "<table border=\"1\" class=\"dataframe\">\n",
              "  <thead>\n",
              "    <tr style=\"text-align: right;\">\n",
              "      <th></th>\n",
              "      <th>author_id</th>\n",
              "      <th>author</th>\n",
              "    </tr>\n",
              "  </thead>\n",
              "  <tbody>\n",
              "    <tr>\n",
              "      <th>0</th>\n",
              "      <td>1</td>\n",
              "      <td>A.S. Byatt</td>\n",
              "    </tr>\n",
              "    <tr>\n",
              "      <th>1</th>\n",
              "      <td>2</td>\n",
              "      <td>Aesop/Laura Harris/Laura Gibbs</td>\n",
              "    </tr>\n",
              "    <tr>\n",
              "      <th>2</th>\n",
              "      <td>3</td>\n",
              "      <td>Agatha Christie</td>\n",
              "    </tr>\n",
              "    <tr>\n",
              "      <th>3</th>\n",
              "      <td>4</td>\n",
              "      <td>Alan Brennert</td>\n",
              "    </tr>\n",
              "    <tr>\n",
              "      <th>4</th>\n",
              "      <td>5</td>\n",
              "      <td>Alan Moore/David   Lloyd</td>\n",
              "    </tr>\n",
              "  </tbody>\n",
              "</table>\n",
              "</div>"
            ],
            "text/plain": [
              "   author_id                          author\n",
              "0          1                      A.S. Byatt\n",
              "1          2  Aesop/Laura Harris/Laura Gibbs\n",
              "2          3                 Agatha Christie\n",
              "3          4                   Alan Brennert\n",
              "4          5        Alan Moore/David   Lloyd"
            ]
          },
          "metadata": {}
        },
        {
          "output_type": "display_data",
          "data": {
            "text/html": [
              "<div>\n",
              "<style scoped>\n",
              "    .dataframe tbody tr th:only-of-type {\n",
              "        vertical-align: middle;\n",
              "    }\n",
              "\n",
              "    .dataframe tbody tr th {\n",
              "        vertical-align: top;\n",
              "    }\n",
              "\n",
              "    .dataframe thead th {\n",
              "        text-align: right;\n",
              "    }\n",
              "</style>\n",
              "<table border=\"1\" class=\"dataframe\">\n",
              "  <thead>\n",
              "    <tr style=\"text-align: right;\">\n",
              "      <th></th>\n",
              "      <th>author_id</th>\n",
              "    </tr>\n",
              "  </thead>\n",
              "  <tbody>\n",
              "    <tr>\n",
              "      <th>count</th>\n",
              "      <td>636.000000</td>\n",
              "    </tr>\n",
              "    <tr>\n",
              "      <th>mean</th>\n",
              "      <td>318.500000</td>\n",
              "    </tr>\n",
              "    <tr>\n",
              "      <th>std</th>\n",
              "      <td>183.741666</td>\n",
              "    </tr>\n",
              "    <tr>\n",
              "      <th>min</th>\n",
              "      <td>1.000000</td>\n",
              "    </tr>\n",
              "    <tr>\n",
              "      <th>25%</th>\n",
              "      <td>159.750000</td>\n",
              "    </tr>\n",
              "    <tr>\n",
              "      <th>50%</th>\n",
              "      <td>318.500000</td>\n",
              "    </tr>\n",
              "    <tr>\n",
              "      <th>75%</th>\n",
              "      <td>477.250000</td>\n",
              "    </tr>\n",
              "    <tr>\n",
              "      <th>max</th>\n",
              "      <td>636.000000</td>\n",
              "    </tr>\n",
              "  </tbody>\n",
              "</table>\n",
              "</div>"
            ],
            "text/plain": [
              "        author_id\n",
              "count  636.000000\n",
              "mean   318.500000\n",
              "std    183.741666\n",
              "min      1.000000\n",
              "25%    159.750000\n",
              "50%    318.500000\n",
              "75%    477.250000\n",
              "max    636.000000"
            ]
          },
          "metadata": {}
        },
        {
          "name": "stdout",
          "output_type": "stream",
          "text": "**************************************************\n\n<class 'pandas.core.frame.DataFrame'>\n\nRangeIndex: 636 entries, 0 to 635\n\nData columns (total 2 columns):\n\n #   Column     Non-Null Count  Dtype \n\n---  ------     --------------  ----- \n\n 0   author_id  636 non-null    int64 \n\n 1   author     636 non-null    object\n\ndtypes: int64(1), object(1)\n\nmemory usage: 10.1+ KB\n\n**************************************************\n"
        },
        {
          "output_type": "display_data",
          "data": {
            "text/plain": [
              "Index(['publisher_id', 'publisher'], dtype='object')"
            ]
          },
          "metadata": {}
        },
        {
          "output_type": "display_data",
          "data": {
            "text/html": [
              "<div>\n",
              "<style scoped>\n",
              "    .dataframe tbody tr th:only-of-type {\n",
              "        vertical-align: middle;\n",
              "    }\n",
              "\n",
              "    .dataframe tbody tr th {\n",
              "        vertical-align: top;\n",
              "    }\n",
              "\n",
              "    .dataframe thead th {\n",
              "        text-align: right;\n",
              "    }\n",
              "</style>\n",
              "<table border=\"1\" class=\"dataframe\">\n",
              "  <thead>\n",
              "    <tr style=\"text-align: right;\">\n",
              "      <th></th>\n",
              "      <th>publisher_id</th>\n",
              "      <th>publisher</th>\n",
              "    </tr>\n",
              "  </thead>\n",
              "  <tbody>\n",
              "    <tr>\n",
              "      <th>0</th>\n",
              "      <td>1</td>\n",
              "      <td>Ace</td>\n",
              "    </tr>\n",
              "    <tr>\n",
              "      <th>1</th>\n",
              "      <td>2</td>\n",
              "      <td>Ace Book</td>\n",
              "    </tr>\n",
              "    <tr>\n",
              "      <th>2</th>\n",
              "      <td>3</td>\n",
              "      <td>Ace Books</td>\n",
              "    </tr>\n",
              "    <tr>\n",
              "      <th>3</th>\n",
              "      <td>4</td>\n",
              "      <td>Ace Hardcover</td>\n",
              "    </tr>\n",
              "    <tr>\n",
              "      <th>4</th>\n",
              "      <td>5</td>\n",
              "      <td>Addison Wesley Publishing Company</td>\n",
              "    </tr>\n",
              "  </tbody>\n",
              "</table>\n",
              "</div>"
            ],
            "text/plain": [
              "   publisher_id                          publisher\n",
              "0             1                                Ace\n",
              "1             2                           Ace Book\n",
              "2             3                          Ace Books\n",
              "3             4                      Ace Hardcover\n",
              "4             5  Addison Wesley Publishing Company"
            ]
          },
          "metadata": {}
        },
        {
          "output_type": "display_data",
          "data": {
            "text/html": [
              "<div>\n",
              "<style scoped>\n",
              "    .dataframe tbody tr th:only-of-type {\n",
              "        vertical-align: middle;\n",
              "    }\n",
              "\n",
              "    .dataframe tbody tr th {\n",
              "        vertical-align: top;\n",
              "    }\n",
              "\n",
              "    .dataframe thead th {\n",
              "        text-align: right;\n",
              "    }\n",
              "</style>\n",
              "<table border=\"1\" class=\"dataframe\">\n",
              "  <thead>\n",
              "    <tr style=\"text-align: right;\">\n",
              "      <th></th>\n",
              "      <th>publisher_id</th>\n",
              "    </tr>\n",
              "  </thead>\n",
              "  <tbody>\n",
              "    <tr>\n",
              "      <th>count</th>\n",
              "      <td>340.000000</td>\n",
              "    </tr>\n",
              "    <tr>\n",
              "      <th>mean</th>\n",
              "      <td>170.500000</td>\n",
              "    </tr>\n",
              "    <tr>\n",
              "      <th>std</th>\n",
              "      <td>98.293777</td>\n",
              "    </tr>\n",
              "    <tr>\n",
              "      <th>min</th>\n",
              "      <td>1.000000</td>\n",
              "    </tr>\n",
              "    <tr>\n",
              "      <th>25%</th>\n",
              "      <td>85.750000</td>\n",
              "    </tr>\n",
              "    <tr>\n",
              "      <th>50%</th>\n",
              "      <td>170.500000</td>\n",
              "    </tr>\n",
              "    <tr>\n",
              "      <th>75%</th>\n",
              "      <td>255.250000</td>\n",
              "    </tr>\n",
              "    <tr>\n",
              "      <th>max</th>\n",
              "      <td>340.000000</td>\n",
              "    </tr>\n",
              "  </tbody>\n",
              "</table>\n",
              "</div>"
            ],
            "text/plain": [
              "       publisher_id\n",
              "count    340.000000\n",
              "mean     170.500000\n",
              "std       98.293777\n",
              "min        1.000000\n",
              "25%       85.750000\n",
              "50%      170.500000\n",
              "75%      255.250000\n",
              "max      340.000000"
            ]
          },
          "metadata": {}
        },
        {
          "name": "stdout",
          "output_type": "stream",
          "text": "**************************************************\n\n<class 'pandas.core.frame.DataFrame'>\n\nRangeIndex: 340 entries, 0 to 339\n\nData columns (total 2 columns):\n\n #   Column        Non-Null Count  Dtype \n\n---  ------        --------------  ----- \n\n 0   publisher_id  340 non-null    int64 \n\n 1   publisher     340 non-null    object\n\ndtypes: int64(1), object(1)\n\nmemory usage: 5.4+ KB\n\n**************************************************\n"
        },
        {
          "output_type": "display_data",
          "data": {
            "text/plain": [
              "Index(['rating_id', 'book_id', 'username', 'rating'], dtype='object')"
            ]
          },
          "metadata": {}
        },
        {
          "output_type": "display_data",
          "data": {
            "text/html": [
              "<div>\n",
              "<style scoped>\n",
              "    .dataframe tbody tr th:only-of-type {\n",
              "        vertical-align: middle;\n",
              "    }\n",
              "\n",
              "    .dataframe tbody tr th {\n",
              "        vertical-align: top;\n",
              "    }\n",
              "\n",
              "    .dataframe thead th {\n",
              "        text-align: right;\n",
              "    }\n",
              "</style>\n",
              "<table border=\"1\" class=\"dataframe\">\n",
              "  <thead>\n",
              "    <tr style=\"text-align: right;\">\n",
              "      <th></th>\n",
              "      <th>rating_id</th>\n",
              "      <th>book_id</th>\n",
              "      <th>username</th>\n",
              "      <th>rating</th>\n",
              "    </tr>\n",
              "  </thead>\n",
              "  <tbody>\n",
              "    <tr>\n",
              "      <th>0</th>\n",
              "      <td>1</td>\n",
              "      <td>1</td>\n",
              "      <td>ryanfranco</td>\n",
              "      <td>4</td>\n",
              "    </tr>\n",
              "    <tr>\n",
              "      <th>1</th>\n",
              "      <td>2</td>\n",
              "      <td>1</td>\n",
              "      <td>grantpatricia</td>\n",
              "      <td>2</td>\n",
              "    </tr>\n",
              "    <tr>\n",
              "      <th>2</th>\n",
              "      <td>3</td>\n",
              "      <td>1</td>\n",
              "      <td>brandtandrea</td>\n",
              "      <td>5</td>\n",
              "    </tr>\n",
              "    <tr>\n",
              "      <th>3</th>\n",
              "      <td>4</td>\n",
              "      <td>2</td>\n",
              "      <td>lorichen</td>\n",
              "      <td>3</td>\n",
              "    </tr>\n",
              "    <tr>\n",
              "      <th>4</th>\n",
              "      <td>5</td>\n",
              "      <td>2</td>\n",
              "      <td>mariokeller</td>\n",
              "      <td>2</td>\n",
              "    </tr>\n",
              "  </tbody>\n",
              "</table>\n",
              "</div>"
            ],
            "text/plain": [
              "   rating_id  book_id       username  rating\n",
              "0          1        1     ryanfranco       4\n",
              "1          2        1  grantpatricia       2\n",
              "2          3        1   brandtandrea       5\n",
              "3          4        2       lorichen       3\n",
              "4          5        2    mariokeller       2"
            ]
          },
          "metadata": {}
        },
        {
          "output_type": "display_data",
          "data": {
            "text/html": [
              "<div>\n",
              "<style scoped>\n",
              "    .dataframe tbody tr th:only-of-type {\n",
              "        vertical-align: middle;\n",
              "    }\n",
              "\n",
              "    .dataframe tbody tr th {\n",
              "        vertical-align: top;\n",
              "    }\n",
              "\n",
              "    .dataframe thead th {\n",
              "        text-align: right;\n",
              "    }\n",
              "</style>\n",
              "<table border=\"1\" class=\"dataframe\">\n",
              "  <thead>\n",
              "    <tr style=\"text-align: right;\">\n",
              "      <th></th>\n",
              "      <th>rating_id</th>\n",
              "      <th>book_id</th>\n",
              "      <th>rating</th>\n",
              "    </tr>\n",
              "  </thead>\n",
              "  <tbody>\n",
              "    <tr>\n",
              "      <th>count</th>\n",
              "      <td>6456.000000</td>\n",
              "      <td>6456.000000</td>\n",
              "      <td>6456.000000</td>\n",
              "    </tr>\n",
              "    <tr>\n",
              "      <th>mean</th>\n",
              "      <td>3228.500000</td>\n",
              "      <td>510.574195</td>\n",
              "      <td>3.928284</td>\n",
              "    </tr>\n",
              "    <tr>\n",
              "      <th>std</th>\n",
              "      <td>1863.831001</td>\n",
              "      <td>284.141636</td>\n",
              "      <td>0.943303</td>\n",
              "    </tr>\n",
              "    <tr>\n",
              "      <th>min</th>\n",
              "      <td>1.000000</td>\n",
              "      <td>1.000000</td>\n",
              "      <td>1.000000</td>\n",
              "    </tr>\n",
              "    <tr>\n",
              "      <th>25%</th>\n",
              "      <td>1614.750000</td>\n",
              "      <td>291.000000</td>\n",
              "      <td>3.000000</td>\n",
              "    </tr>\n",
              "    <tr>\n",
              "      <th>50%</th>\n",
              "      <td>3228.500000</td>\n",
              "      <td>506.000000</td>\n",
              "      <td>4.000000</td>\n",
              "    </tr>\n",
              "    <tr>\n",
              "      <th>75%</th>\n",
              "      <td>4842.250000</td>\n",
              "      <td>750.000000</td>\n",
              "      <td>5.000000</td>\n",
              "    </tr>\n",
              "    <tr>\n",
              "      <th>max</th>\n",
              "      <td>6456.000000</td>\n",
              "      <td>1000.000000</td>\n",
              "      <td>5.000000</td>\n",
              "    </tr>\n",
              "  </tbody>\n",
              "</table>\n",
              "</div>"
            ],
            "text/plain": [
              "         rating_id      book_id       rating\n",
              "count  6456.000000  6456.000000  6456.000000\n",
              "mean   3228.500000   510.574195     3.928284\n",
              "std    1863.831001   284.141636     0.943303\n",
              "min       1.000000     1.000000     1.000000\n",
              "25%    1614.750000   291.000000     3.000000\n",
              "50%    3228.500000   506.000000     4.000000\n",
              "75%    4842.250000   750.000000     5.000000\n",
              "max    6456.000000  1000.000000     5.000000"
            ]
          },
          "metadata": {}
        },
        {
          "name": "stdout",
          "output_type": "stream",
          "text": "**************************************************\n\n<class 'pandas.core.frame.DataFrame'>\n\nRangeIndex: 6456 entries, 0 to 6455\n\nData columns (total 4 columns):\n\n #   Column     Non-Null Count  Dtype \n\n---  ------     --------------  ----- \n\n 0   rating_id  6456 non-null   int64 \n\n 1   book_id    6456 non-null   int64 \n\n 2   username   6456 non-null   object\n\n 3   rating     6456 non-null   int64 \n\ndtypes: int64(3), object(1)\n\nmemory usage: 201.9+ KB\n\n**************************************************\n"
        },
        {
          "output_type": "display_data",
          "data": {
            "text/plain": [
              "Index(['review_id', 'book_id', 'username', 'text'], dtype='object')"
            ]
          },
          "metadata": {}
        },
        {
          "output_type": "display_data",
          "data": {
            "text/html": [
              "<div>\n",
              "<style scoped>\n",
              "    .dataframe tbody tr th:only-of-type {\n",
              "        vertical-align: middle;\n",
              "    }\n",
              "\n",
              "    .dataframe tbody tr th {\n",
              "        vertical-align: top;\n",
              "    }\n",
              "\n",
              "    .dataframe thead th {\n",
              "        text-align: right;\n",
              "    }\n",
              "</style>\n",
              "<table border=\"1\" class=\"dataframe\">\n",
              "  <thead>\n",
              "    <tr style=\"text-align: right;\">\n",
              "      <th></th>\n",
              "      <th>review_id</th>\n",
              "      <th>book_id</th>\n",
              "      <th>username</th>\n",
              "      <th>text</th>\n",
              "    </tr>\n",
              "  </thead>\n",
              "  <tbody>\n",
              "    <tr>\n",
              "      <th>0</th>\n",
              "      <td>1</td>\n",
              "      <td>1</td>\n",
              "      <td>brandtandrea</td>\n",
              "      <td>Mention society tell send professor analysis. ...</td>\n",
              "    </tr>\n",
              "    <tr>\n",
              "      <th>1</th>\n",
              "      <td>2</td>\n",
              "      <td>1</td>\n",
              "      <td>ryanfranco</td>\n",
              "      <td>Foot glass pretty audience hit themselves. Amo...</td>\n",
              "    </tr>\n",
              "    <tr>\n",
              "      <th>2</th>\n",
              "      <td>3</td>\n",
              "      <td>2</td>\n",
              "      <td>lorichen</td>\n",
              "      <td>Listen treat keep worry. Miss husband tax but ...</td>\n",
              "    </tr>\n",
              "    <tr>\n",
              "      <th>3</th>\n",
              "      <td>4</td>\n",
              "      <td>3</td>\n",
              "      <td>johnsonamanda</td>\n",
              "      <td>Finally month interesting blue could nature cu...</td>\n",
              "    </tr>\n",
              "    <tr>\n",
              "      <th>4</th>\n",
              "      <td>5</td>\n",
              "      <td>3</td>\n",
              "      <td>scotttamara</td>\n",
              "      <td>Nation purpose heavy give wait song will. List...</td>\n",
              "    </tr>\n",
              "  </tbody>\n",
              "</table>\n",
              "</div>"
            ],
            "text/plain": [
              "   review_id  book_id       username  \\\n",
              "0          1        1   brandtandrea   \n",
              "1          2        1     ryanfranco   \n",
              "2          3        2       lorichen   \n",
              "3          4        3  johnsonamanda   \n",
              "4          5        3    scotttamara   \n",
              "\n",
              "                                                text  \n",
              "0  Mention society tell send professor analysis. ...  \n",
              "1  Foot glass pretty audience hit themselves. Amo...  \n",
              "2  Listen treat keep worry. Miss husband tax but ...  \n",
              "3  Finally month interesting blue could nature cu...  \n",
              "4  Nation purpose heavy give wait song will. List...  "
            ]
          },
          "metadata": {}
        },
        {
          "output_type": "display_data",
          "data": {
            "text/html": [
              "<div>\n",
              "<style scoped>\n",
              "    .dataframe tbody tr th:only-of-type {\n",
              "        vertical-align: middle;\n",
              "    }\n",
              "\n",
              "    .dataframe tbody tr th {\n",
              "        vertical-align: top;\n",
              "    }\n",
              "\n",
              "    .dataframe thead th {\n",
              "        text-align: right;\n",
              "    }\n",
              "</style>\n",
              "<table border=\"1\" class=\"dataframe\">\n",
              "  <thead>\n",
              "    <tr style=\"text-align: right;\">\n",
              "      <th></th>\n",
              "      <th>review_id</th>\n",
              "      <th>book_id</th>\n",
              "    </tr>\n",
              "  </thead>\n",
              "  <tbody>\n",
              "    <tr>\n",
              "      <th>count</th>\n",
              "      <td>2793.000000</td>\n",
              "      <td>2793.000000</td>\n",
              "    </tr>\n",
              "    <tr>\n",
              "      <th>mean</th>\n",
              "      <td>1397.000000</td>\n",
              "      <td>504.693161</td>\n",
              "    </tr>\n",
              "    <tr>\n",
              "      <th>std</th>\n",
              "      <td>806.413976</td>\n",
              "      <td>288.472931</td>\n",
              "    </tr>\n",
              "    <tr>\n",
              "      <th>min</th>\n",
              "      <td>1.000000</td>\n",
              "      <td>1.000000</td>\n",
              "    </tr>\n",
              "    <tr>\n",
              "      <th>25%</th>\n",
              "      <td>699.000000</td>\n",
              "      <td>259.000000</td>\n",
              "    </tr>\n",
              "    <tr>\n",
              "      <th>50%</th>\n",
              "      <td>1397.000000</td>\n",
              "      <td>505.000000</td>\n",
              "    </tr>\n",
              "    <tr>\n",
              "      <th>75%</th>\n",
              "      <td>2095.000000</td>\n",
              "      <td>753.000000</td>\n",
              "    </tr>\n",
              "    <tr>\n",
              "      <th>max</th>\n",
              "      <td>2793.000000</td>\n",
              "      <td>1000.000000</td>\n",
              "    </tr>\n",
              "  </tbody>\n",
              "</table>\n",
              "</div>"
            ],
            "text/plain": [
              "         review_id      book_id\n",
              "count  2793.000000  2793.000000\n",
              "mean   1397.000000   504.693161\n",
              "std     806.413976   288.472931\n",
              "min       1.000000     1.000000\n",
              "25%     699.000000   259.000000\n",
              "50%    1397.000000   505.000000\n",
              "75%    2095.000000   753.000000\n",
              "max    2793.000000  1000.000000"
            ]
          },
          "metadata": {}
        },
        {
          "name": "stdout",
          "output_type": "stream",
          "text": "**************************************************\n\n<class 'pandas.core.frame.DataFrame'>\n\nRangeIndex: 2793 entries, 0 to 2792\n\nData columns (total 4 columns):\n\n #   Column     Non-Null Count  Dtype \n\n---  ------     --------------  ----- \n\n 0   review_id  2793 non-null   int64 \n\n 1   book_id    2793 non-null   int64 \n\n 2   username   2793 non-null   object\n\n 3   text       2793 non-null   object\n\ndtypes: int64(2), object(2)\n\nmemory usage: 87.4+ KB\n\n**************************************************\n"
        }
      ]
    },
    {
      "cell_type": "code",
      "source": "for data in [books, authors, publishers, ratings, reviews]:\n    print(data.duplicated().sum())",
      "metadata": {},
      "execution_count": 10,
      "outputs": [
        {
          "name": "stdout",
          "output_type": "stream",
          "text": "0\n\n0\n\n0\n\n0\n\n0\n"
        }
      ]
    },
    {
      "cell_type": "markdown",
      "source": "В результате ознакомления с данными, можно сделать следующие выводы:\n\n- Названия столбцов оформлены корректно;\n- Практически все столбцы приведены к правильному типу данных (исключение - даты);\n- В данных отсутствуют пропущенные значения;\n- В данных отсутствуют явные дубликты.",
      "metadata": {}
    },
    {
      "cell_type": "markdown",
      "source": "## SQL-запросы",
      "metadata": {}
    },
    {
      "cell_type": "markdown",
      "source": "Ответим на интересующие нас вопросы.",
      "metadata": {}
    },
    {
      "cell_type": "markdown",
      "source": "### Сколько книг вышло после 1 января 2000 года",
      "metadata": {}
    },
    {
      "cell_type": "code",
      "source": "query = (\n'''\n    select count(book_id) \n    from books\n    where publication_date > '2000-01-01'\n        \n''')\n\npd.io.sql.read_sql(query, con = engine)",
      "metadata": {},
      "execution_count": 11,
      "outputs": [
        {
          "execution_count": 11,
          "output_type": "execute_result",
          "data": {
            "text/html": [
              "<div>\n",
              "<style scoped>\n",
              "    .dataframe tbody tr th:only-of-type {\n",
              "        vertical-align: middle;\n",
              "    }\n",
              "\n",
              "    .dataframe tbody tr th {\n",
              "        vertical-align: top;\n",
              "    }\n",
              "\n",
              "    .dataframe thead th {\n",
              "        text-align: right;\n",
              "    }\n",
              "</style>\n",
              "<table border=\"1\" class=\"dataframe\">\n",
              "  <thead>\n",
              "    <tr style=\"text-align: right;\">\n",
              "      <th></th>\n",
              "      <th>count</th>\n",
              "    </tr>\n",
              "  </thead>\n",
              "  <tbody>\n",
              "    <tr>\n",
              "      <th>0</th>\n",
              "      <td>819</td>\n",
              "    </tr>\n",
              "  </tbody>\n",
              "</table>\n",
              "</div>"
            ],
            "text/plain": [
              "   count\n",
              "0    819"
            ]
          },
          "metadata": {}
        }
      ]
    },
    {
      "cell_type": "markdown",
      "source": "После 1 января 2000 года вышло 819 книг.",
      "metadata": {}
    },
    {
      "cell_type": "markdown",
      "source": "### Количество обзоров и средняя оценка для каждой книги",
      "metadata": {}
    },
    {
      "cell_type": "code",
      "source": "# отдельно проверим количество обзоров\nquery = (\n'''\n    select book_id, count(review_id)\n    from reviews\n    group by book_id \n    order by count(review_id) desc \n    \n''')\n\npd.io.sql.read_sql(query, con = engine)",
      "metadata": {},
      "execution_count": 12,
      "outputs": [
        {
          "execution_count": 12,
          "output_type": "execute_result",
          "data": {
            "text/html": [
              "<div>\n",
              "<style scoped>\n",
              "    .dataframe tbody tr th:only-of-type {\n",
              "        vertical-align: middle;\n",
              "    }\n",
              "\n",
              "    .dataframe tbody tr th {\n",
              "        vertical-align: top;\n",
              "    }\n",
              "\n",
              "    .dataframe thead th {\n",
              "        text-align: right;\n",
              "    }\n",
              "</style>\n",
              "<table border=\"1\" class=\"dataframe\">\n",
              "  <thead>\n",
              "    <tr style=\"text-align: right;\">\n",
              "      <th></th>\n",
              "      <th>book_id</th>\n",
              "      <th>count</th>\n",
              "    </tr>\n",
              "  </thead>\n",
              "  <tbody>\n",
              "    <tr>\n",
              "      <th>0</th>\n",
              "      <td>948</td>\n",
              "      <td>7</td>\n",
              "    </tr>\n",
              "    <tr>\n",
              "      <th>1</th>\n",
              "      <td>656</td>\n",
              "      <td>6</td>\n",
              "    </tr>\n",
              "    <tr>\n",
              "      <th>2</th>\n",
              "      <td>497</td>\n",
              "      <td>6</td>\n",
              "    </tr>\n",
              "    <tr>\n",
              "      <th>3</th>\n",
              "      <td>963</td>\n",
              "      <td>6</td>\n",
              "    </tr>\n",
              "    <tr>\n",
              "      <th>4</th>\n",
              "      <td>696</td>\n",
              "      <td>6</td>\n",
              "    </tr>\n",
              "    <tr>\n",
              "      <th>...</th>\n",
              "      <td>...</td>\n",
              "      <td>...</td>\n",
              "    </tr>\n",
              "    <tr>\n",
              "      <th>989</th>\n",
              "      <td>599</td>\n",
              "      <td>1</td>\n",
              "    </tr>\n",
              "    <tr>\n",
              "      <th>990</th>\n",
              "      <td>187</td>\n",
              "      <td>1</td>\n",
              "    </tr>\n",
              "    <tr>\n",
              "      <th>991</th>\n",
              "      <td>156</td>\n",
              "      <td>1</td>\n",
              "    </tr>\n",
              "    <tr>\n",
              "      <th>992</th>\n",
              "      <td>984</td>\n",
              "      <td>1</td>\n",
              "    </tr>\n",
              "    <tr>\n",
              "      <th>993</th>\n",
              "      <td>760</td>\n",
              "      <td>1</td>\n",
              "    </tr>\n",
              "  </tbody>\n",
              "</table>\n",
              "<p>994 rows × 2 columns</p>\n",
              "</div>"
            ],
            "text/plain": [
              "     book_id  count\n",
              "0        948      7\n",
              "1        656      6\n",
              "2        497      6\n",
              "3        963      6\n",
              "4        696      6\n",
              "..       ...    ...\n",
              "989      599      1\n",
              "990      187      1\n",
              "991      156      1\n",
              "992      984      1\n",
              "993      760      1\n",
              "\n",
              "[994 rows x 2 columns]"
            ]
          },
          "metadata": {}
        }
      ]
    },
    {
      "cell_type": "code",
      "source": "# отдельно проверим среднюю оценка\nquery = (\n'''\n    select book_id, avg(rating)\n    from ratings\n    group by book_id\n    order by avg(rating) desc \n''')\n\npd.io.sql.read_sql(query, con = engine)",
      "metadata": {},
      "execution_count": 13,
      "outputs": [
        {
          "execution_count": 13,
          "output_type": "execute_result",
          "data": {
            "text/html": [
              "<div>\n",
              "<style scoped>\n",
              "    .dataframe tbody tr th:only-of-type {\n",
              "        vertical-align: middle;\n",
              "    }\n",
              "\n",
              "    .dataframe tbody tr th {\n",
              "        vertical-align: top;\n",
              "    }\n",
              "\n",
              "    .dataframe thead th {\n",
              "        text-align: right;\n",
              "    }\n",
              "</style>\n",
              "<table border=\"1\" class=\"dataframe\">\n",
              "  <thead>\n",
              "    <tr style=\"text-align: right;\">\n",
              "      <th></th>\n",
              "      <th>book_id</th>\n",
              "      <th>avg</th>\n",
              "    </tr>\n",
              "  </thead>\n",
              "  <tbody>\n",
              "    <tr>\n",
              "      <th>0</th>\n",
              "      <td>518</td>\n",
              "      <td>5.00</td>\n",
              "    </tr>\n",
              "    <tr>\n",
              "      <th>1</th>\n",
              "      <td>732</td>\n",
              "      <td>5.00</td>\n",
              "    </tr>\n",
              "    <tr>\n",
              "      <th>2</th>\n",
              "      <td>347</td>\n",
              "      <td>5.00</td>\n",
              "    </tr>\n",
              "    <tr>\n",
              "      <th>3</th>\n",
              "      <td>610</td>\n",
              "      <td>5.00</td>\n",
              "    </tr>\n",
              "    <tr>\n",
              "      <th>4</th>\n",
              "      <td>330</td>\n",
              "      <td>5.00</td>\n",
              "    </tr>\n",
              "    <tr>\n",
              "      <th>...</th>\n",
              "      <td>...</td>\n",
              "      <td>...</td>\n",
              "    </tr>\n",
              "    <tr>\n",
              "      <th>995</th>\n",
              "      <td>915</td>\n",
              "      <td>2.25</td>\n",
              "    </tr>\n",
              "    <tr>\n",
              "      <th>996</th>\n",
              "      <td>371</td>\n",
              "      <td>2.00</td>\n",
              "    </tr>\n",
              "    <tr>\n",
              "      <th>997</th>\n",
              "      <td>316</td>\n",
              "      <td>2.00</td>\n",
              "    </tr>\n",
              "    <tr>\n",
              "      <th>998</th>\n",
              "      <td>202</td>\n",
              "      <td>2.00</td>\n",
              "    </tr>\n",
              "    <tr>\n",
              "      <th>999</th>\n",
              "      <td>303</td>\n",
              "      <td>1.50</td>\n",
              "    </tr>\n",
              "  </tbody>\n",
              "</table>\n",
              "<p>1000 rows × 2 columns</p>\n",
              "</div>"
            ],
            "text/plain": [
              "     book_id   avg\n",
              "0        518  5.00\n",
              "1        732  5.00\n",
              "2        347  5.00\n",
              "3        610  5.00\n",
              "4        330  5.00\n",
              "..       ...   ...\n",
              "995      915  2.25\n",
              "996      371  2.00\n",
              "997      316  2.00\n",
              "998      202  2.00\n",
              "999      303  1.50\n",
              "\n",
              "[1000 rows x 2 columns]"
            ]
          },
          "metadata": {}
        }
      ]
    },
    {
      "cell_type": "code",
      "source": "# соединим все вместе\nquery = (\n'''\nwith \n\nrw as (\n            select book_id, count(review_id) as count\n            from reviews\n            group by book_id \n            \n            ),\n            \nrt as (\n            select book_id, avg(rating) as avg\n            from ratings\n            group by book_id\n            \n            )\n            \nselect b.book_id, b.title, rw.count, rt.avg\nfrom books as b\nLEFT JOIN rw ON b.book_id=rw.book_id\nLEFT JOIN rt ON b.book_id=rt.book_id\norder by b.book_id\n\n\n''')\n\npd.io.sql.read_sql(query, con = engine)",
      "metadata": {},
      "execution_count": 14,
      "outputs": [
        {
          "execution_count": 14,
          "output_type": "execute_result",
          "data": {
            "text/html": [
              "<div>\n",
              "<style scoped>\n",
              "    .dataframe tbody tr th:only-of-type {\n",
              "        vertical-align: middle;\n",
              "    }\n",
              "\n",
              "    .dataframe tbody tr th {\n",
              "        vertical-align: top;\n",
              "    }\n",
              "\n",
              "    .dataframe thead th {\n",
              "        text-align: right;\n",
              "    }\n",
              "</style>\n",
              "<table border=\"1\" class=\"dataframe\">\n",
              "  <thead>\n",
              "    <tr style=\"text-align: right;\">\n",
              "      <th></th>\n",
              "      <th>book_id</th>\n",
              "      <th>title</th>\n",
              "      <th>count</th>\n",
              "      <th>avg</th>\n",
              "    </tr>\n",
              "  </thead>\n",
              "  <tbody>\n",
              "    <tr>\n",
              "      <th>0</th>\n",
              "      <td>1</td>\n",
              "      <td>'Salem's Lot</td>\n",
              "      <td>2.0</td>\n",
              "      <td>3.666667</td>\n",
              "    </tr>\n",
              "    <tr>\n",
              "      <th>1</th>\n",
              "      <td>2</td>\n",
              "      <td>1 000 Places to See Before You Die</td>\n",
              "      <td>1.0</td>\n",
              "      <td>2.500000</td>\n",
              "    </tr>\n",
              "    <tr>\n",
              "      <th>2</th>\n",
              "      <td>3</td>\n",
              "      <td>13 Little Blue Envelopes (Little Blue Envelope...</td>\n",
              "      <td>3.0</td>\n",
              "      <td>4.666667</td>\n",
              "    </tr>\n",
              "    <tr>\n",
              "      <th>3</th>\n",
              "      <td>4</td>\n",
              "      <td>1491: New Revelations of the Americas Before C...</td>\n",
              "      <td>2.0</td>\n",
              "      <td>4.500000</td>\n",
              "    </tr>\n",
              "    <tr>\n",
              "      <th>4</th>\n",
              "      <td>5</td>\n",
              "      <td>1776</td>\n",
              "      <td>4.0</td>\n",
              "      <td>4.000000</td>\n",
              "    </tr>\n",
              "    <tr>\n",
              "      <th>...</th>\n",
              "      <td>...</td>\n",
              "      <td>...</td>\n",
              "      <td>...</td>\n",
              "      <td>...</td>\n",
              "    </tr>\n",
              "    <tr>\n",
              "      <th>995</th>\n",
              "      <td>996</td>\n",
              "      <td>Wyrd Sisters (Discworld  #6; Witches #2)</td>\n",
              "      <td>3.0</td>\n",
              "      <td>3.666667</td>\n",
              "    </tr>\n",
              "    <tr>\n",
              "      <th>996</th>\n",
              "      <td>997</td>\n",
              "      <td>Xenocide (Ender's Saga  #3)</td>\n",
              "      <td>3.0</td>\n",
              "      <td>3.400000</td>\n",
              "    </tr>\n",
              "    <tr>\n",
              "      <th>997</th>\n",
              "      <td>998</td>\n",
              "      <td>Year of Wonders</td>\n",
              "      <td>4.0</td>\n",
              "      <td>3.200000</td>\n",
              "    </tr>\n",
              "    <tr>\n",
              "      <th>998</th>\n",
              "      <td>999</td>\n",
              "      <td>You Suck (A Love Story  #2)</td>\n",
              "      <td>2.0</td>\n",
              "      <td>4.500000</td>\n",
              "    </tr>\n",
              "    <tr>\n",
              "      <th>999</th>\n",
              "      <td>1000</td>\n",
              "      <td>Zen and the Art of Motorcycle Maintenance: An ...</td>\n",
              "      <td>4.0</td>\n",
              "      <td>3.833333</td>\n",
              "    </tr>\n",
              "  </tbody>\n",
              "</table>\n",
              "<p>1000 rows × 4 columns</p>\n",
              "</div>"
            ],
            "text/plain": [
              "     book_id                                              title  count  \\\n",
              "0          1                                       'Salem's Lot    2.0   \n",
              "1          2                 1 000 Places to See Before You Die    1.0   \n",
              "2          3  13 Little Blue Envelopes (Little Blue Envelope...    3.0   \n",
              "3          4  1491: New Revelations of the Americas Before C...    2.0   \n",
              "4          5                                               1776    4.0   \n",
              "..       ...                                                ...    ...   \n",
              "995      996           Wyrd Sisters (Discworld  #6; Witches #2)    3.0   \n",
              "996      997                        Xenocide (Ender's Saga  #3)    3.0   \n",
              "997      998                                    Year of Wonders    4.0   \n",
              "998      999                        You Suck (A Love Story  #2)    2.0   \n",
              "999     1000  Zen and the Art of Motorcycle Maintenance: An ...    4.0   \n",
              "\n",
              "          avg  \n",
              "0    3.666667  \n",
              "1    2.500000  \n",
              "2    4.666667  \n",
              "3    4.500000  \n",
              "4    4.000000  \n",
              "..        ...  \n",
              "995  3.666667  \n",
              "996  3.400000  \n",
              "997  3.200000  \n",
              "998  4.500000  \n",
              "999  3.833333  \n",
              "\n",
              "[1000 rows x 4 columns]"
            ]
          },
          "metadata": {}
        }
      ]
    },
    {
      "cell_type": "markdown",
      "source": "### Издательство, которое выпустило наибольшее число книг толще 50 страниц",
      "metadata": {}
    },
    {
      "cell_type": "code",
      "source": "query = (\n'''\n    select p.publisher_id, p.publisher, count(b.book_id)\n    from books as b\n    left join publishers as p on b.publisher_id = p.publisher_id\n    where b.num_pages > 50\n    group by p.publisher_id \n    order by count(b.book_id) desc\n    limit 1\n''')\n\npd.io.sql.read_sql(query, con = engine)",
      "metadata": {},
      "execution_count": 16,
      "outputs": [
        {
          "execution_count": 16,
          "output_type": "execute_result",
          "data": {
            "text/html": [
              "<div>\n",
              "<style scoped>\n",
              "    .dataframe tbody tr th:only-of-type {\n",
              "        vertical-align: middle;\n",
              "    }\n",
              "\n",
              "    .dataframe tbody tr th {\n",
              "        vertical-align: top;\n",
              "    }\n",
              "\n",
              "    .dataframe thead th {\n",
              "        text-align: right;\n",
              "    }\n",
              "</style>\n",
              "<table border=\"1\" class=\"dataframe\">\n",
              "  <thead>\n",
              "    <tr style=\"text-align: right;\">\n",
              "      <th></th>\n",
              "      <th>publisher_id</th>\n",
              "      <th>publisher</th>\n",
              "      <th>count</th>\n",
              "    </tr>\n",
              "  </thead>\n",
              "  <tbody>\n",
              "    <tr>\n",
              "      <th>0</th>\n",
              "      <td>212</td>\n",
              "      <td>Penguin Books</td>\n",
              "      <td>42</td>\n",
              "    </tr>\n",
              "  </tbody>\n",
              "</table>\n",
              "</div>"
            ],
            "text/plain": [
              "   publisher_id      publisher  count\n",
              "0           212  Penguin Books     42"
            ]
          },
          "metadata": {}
        }
      ]
    },
    {
      "cell_type": "markdown",
      "source": "Издательство, которое выпустило наибольшее число книг толще 50 страниц - Penguin Books.",
      "metadata": {}
    },
    {
      "cell_type": "markdown",
      "source": "### Автор с самой высокой средней оценкой книг (только книги с 50 и более оценками)",
      "metadata": {}
    },
    {
      "cell_type": "code",
      "source": "# \nquery = (\n'''\nwith \n            \nrt as (\n            select book_id, count(rating_id),avg(rating) as avg\n            from ratings\n            group by book_id\n            having count(rating_id) >= 50\n            )\n            \nselect a.author_id, a.author, avg(rt.avg)\nfrom rt\nLEFT JOIN books as b ON rt.book_id=b.book_id\nLEFT JOIN authors as a ON b.author_id=a.author_id\ngroup by a.author_id\norder by avg(rt.avg) desc\nlimit 1\n\n''')\n\npd.io.sql.read_sql(query, con = engine)",
      "metadata": {},
      "execution_count": 17,
      "outputs": [
        {
          "execution_count": 17,
          "output_type": "execute_result",
          "data": {
            "text/html": [
              "<div>\n",
              "<style scoped>\n",
              "    .dataframe tbody tr th:only-of-type {\n",
              "        vertical-align: middle;\n",
              "    }\n",
              "\n",
              "    .dataframe tbody tr th {\n",
              "        vertical-align: top;\n",
              "    }\n",
              "\n",
              "    .dataframe thead th {\n",
              "        text-align: right;\n",
              "    }\n",
              "</style>\n",
              "<table border=\"1\" class=\"dataframe\">\n",
              "  <thead>\n",
              "    <tr style=\"text-align: right;\">\n",
              "      <th></th>\n",
              "      <th>author_id</th>\n",
              "      <th>author</th>\n",
              "      <th>avg</th>\n",
              "    </tr>\n",
              "  </thead>\n",
              "  <tbody>\n",
              "    <tr>\n",
              "      <th>0</th>\n",
              "      <td>236</td>\n",
              "      <td>J.K. Rowling/Mary GrandPré</td>\n",
              "      <td>4.283844</td>\n",
              "    </tr>\n",
              "  </tbody>\n",
              "</table>\n",
              "</div>"
            ],
            "text/plain": [
              "   author_id                      author       avg\n",
              "0        236  J.K. Rowling/Mary GrandPré  4.283844"
            ]
          },
          "metadata": {}
        }
      ]
    },
    {
      "cell_type": "markdown",
      "source": "### Среднее количество обзоров от пользователей, которые поставили больше 50 оценок",
      "metadata": {}
    },
    {
      "cell_type": "code",
      "source": "# \nquery = (\n'''\nwith \n\nrw as (\n            select username, count(review_id) as count\n            from reviews\n            group by username\n            )\n            \nselect floor(avg(rw.count))\nfrom rw\nwhere rw.username in (\n                        select username\n                        from ratings\n                        group by username\n                        having count(rating_id) >= 50\n                        )\n\n\n''')\n\npd.io.sql.read_sql(query, con = engine)",
      "metadata": {},
      "execution_count": 20,
      "outputs": [
        {
          "execution_count": 20,
          "output_type": "execute_result",
          "data": {
            "text/html": [
              "<div>\n",
              "<style scoped>\n",
              "    .dataframe tbody tr th:only-of-type {\n",
              "        vertical-align: middle;\n",
              "    }\n",
              "\n",
              "    .dataframe tbody tr th {\n",
              "        vertical-align: top;\n",
              "    }\n",
              "\n",
              "    .dataframe thead th {\n",
              "        text-align: right;\n",
              "    }\n",
              "</style>\n",
              "<table border=\"1\" class=\"dataframe\">\n",
              "  <thead>\n",
              "    <tr style=\"text-align: right;\">\n",
              "      <th></th>\n",
              "      <th>floor</th>\n",
              "    </tr>\n",
              "  </thead>\n",
              "  <tbody>\n",
              "    <tr>\n",
              "      <th>0</th>\n",
              "      <td>24.0</td>\n",
              "    </tr>\n",
              "  </tbody>\n",
              "</table>\n",
              "</div>"
            ],
            "text/plain": [
              "   floor\n",
              "0   24.0"
            ]
          },
          "metadata": {}
        }
      ]
    }
  ]
}