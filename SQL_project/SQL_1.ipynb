{
  "metadata": {
    "language_info": {
      "codemirror_mode": "sql",
      "file_extension": "",
      "mimetype": "",
      "name": "sql",
      "version": "3.32.3"
    },
    "kernelspec": {
      "name": "SQLite",
      "display_name": "SQLite",
      "language": "sql"
    }
  },
  "nbformat_minor": 4,
  "nbformat": 4,
  "cells": [
    {
      "cell_type": "markdown",
      "source": "1) Посчитайте, сколько компаний закрылось.",
      "metadata": {}
    },
    {
      "cell_type": "code",
      "source": "select count(*)\nfrom company\nwhere status = 'closed'",
      "metadata": {},
      "execution_count": null,
      "outputs": []
    },
    {
      "cell_type": "markdown",
      "source": "2) Отобразите количество привлечённых средств для новостных компаний США. Используйте данные из таблицы company. Отсортируйте таблицу по убыванию значений в поле funding_total .",
      "metadata": {}
    },
    {
      "cell_type": "code",
      "source": "select funding_total\nfrom company\nwhere category_code = 'news' and country_code = 'USA'\norder by funding_total desc",
      "metadata": {},
      "execution_count": null,
      "outputs": []
    },
    {
      "cell_type": "markdown",
      "source": "3) Найдите общую сумму сделок по покупке одних компаний другими в долларах. Отберите сделки, которые осуществлялись только за наличные с 2011 по 2013 год включительно.",
      "metadata": {}
    },
    {
      "cell_type": "code",
      "source": "select sum (price_amount)\nfrom acquisition\nwhere term_code = 'cash' and\nextract(year from cast(acquired_at as timestamp)) in (2011, 2012, 2013)",
      "metadata": {},
      "execution_count": null,
      "outputs": []
    },
    {
      "cell_type": "markdown",
      "source": "4) Отобразите имя, фамилию и названия аккаунтов людей в твиттере, у которых названия аккаунтов начинаются на 'Silver'.",
      "metadata": {}
    },
    {
      "cell_type": "code",
      "source": "select first_name,\n        last_name,\n        twitter_username\nfrom people\nwhere twitter_username like 'Silver%'",
      "metadata": {},
      "execution_count": null,
      "outputs": []
    },
    {
      "cell_type": "markdown",
      "source": "5) Выведите на экран всю информацию о людях, у которых названия аккаунтов в твиттере содержат подстроку 'money', а фамилия начинается на 'K'.",
      "metadata": {}
    },
    {
      "cell_type": "code",
      "source": "select *\nfrom people\nwhere twitter_username like '%money%' \nand last_name like 'K%'",
      "metadata": {},
      "execution_count": null,
      "outputs": []
    },
    {
      "cell_type": "markdown",
      "source": "6) Для каждой страны отобразите общую сумму привлечённых инвестиций, которые получили компании, зарегистрированные в этой стране. Страну, в которой зарегистрирована компания, можно определить по коду страны. Отсортируйте данные по убыванию суммы.",
      "metadata": {}
    },
    {
      "cell_type": "code",
      "source": "select country_code,\n        sum(funding_total) as sf\nfrom company\ngroup by country_code\norder by sf desc",
      "metadata": {},
      "execution_count": null,
      "outputs": []
    },
    {
      "cell_type": "markdown",
      "source": "7) Составьте таблицу, в которую войдёт дата проведения раунда, а также минимальное и максимальное значения суммы инвестиций, привлечённых в эту дату.\n\nОставьте в итоговой таблице только те записи, в которых минимальное значение суммы инвестиций не равно нулю и не равно максимальному значению.",
      "metadata": {}
    },
    {
      "cell_type": "code",
      "source": "select funded_at,\n        min(raised_amount),\n        max(raised_amount)\nfrom funding_round\ngroup by funded_at\nhaving min(raised_amount) <> 0 \nand min(raised_amount) <>  max(raised_amount)",
      "metadata": {},
      "execution_count": null,
      "outputs": []
    },
    {
      "cell_type": "markdown",
      "source": "8) Создайте поле с категориями:\n- Для фондов, которые инвестируют в 100 и более компаний, назначьте категорию high_activity.\n- Для фондов, которые инвестируют в 20 и более компаний до 100, назначьте категорию middle_activity.\n- Если количество инвестируемых компаний фонда не достигает 20, назначьте категорию low_activity.\n\nОтобразите все поля таблицы fund и новое поле с категориями.",
      "metadata": {}
    },
    {
      "cell_type": "code",
      "source": "select *,\n        case\n            when invested_companies >= 100 then 'high_activity'\n            when invested_companies >= 20 and invested_companies < 100 then 'middle_activity'\n            when invested_companies < 20 then 'low_activity'\n        end\nfrom fund",
      "metadata": {},
      "execution_count": null,
      "outputs": []
    },
    {
      "cell_type": "markdown",
      "source": "9) Для каждой из категорий, назначенных в предыдущем задании, посчитайте округлённое до ближайшего целого числа среднее количество инвестиционных раундов, в которых фонд принимал участие. Выведите на экран категории и среднее число инвестиционных раундов. Отсортируйте таблицу по возрастанию среднего.",
      "metadata": {}
    },
    {
      "cell_type": "code",
      "source": "select activ.activity,\n        round(avg(activ.investment_rounds)) as round\nfrom \n(SELECT *,\n       CASE\n           WHEN invested_companies>=100 THEN 'high_activity'\n           WHEN invested_companies>=20 THEN 'middle_activity'\n           ELSE 'low_activity'\n       END AS activity\nFROM fund) as activ\ngroup by activ.activity\norder by round",
      "metadata": {},
      "execution_count": null,
      "outputs": []
    },
    {
      "cell_type": "markdown",
      "source": "10) Проанализируйте, в каких странах находятся фонды, которые чаще всего инвестируют в стартапы. \n\nДля каждой страны посчитайте минимальное, максимальное и среднее число компаний, в которые инвестировали фонды этой страны, основанные с 2010 по 2012 год включительно. Исключите страны с фондами, у которых минимальное число компаний, получивших инвестиции, равно нулю. \n\nВыгрузите десять самых активных стран-инвесторов: отсортируйте таблицу по среднему количеству компаний от большего к меньшему. Затем добавьте сортировку по коду страны в лексикографическом порядке.",
      "metadata": {}
    },
    {
      "cell_type": "code",
      "source": "select country_code,\n        min(invested_companies),\n        max(invested_companies),\n        avg(invested_companies)\nfrom fund\nwhere extract(year from cast(founded_at as timestamp)) between 2010 and 2012\ngroup by country_code\nhaving min(invested_companies) <> 0\norder by avg(invested_companies) desc\nlimit 10",
      "metadata": {},
      "execution_count": null,
      "outputs": []
    },
    {
      "cell_type": "markdown",
      "source": "11) Отобразите имя и фамилию всех сотрудников стартапов. Добавьте поле с названием учебного заведения, которое окончил сотрудник, если эта информация известна.",
      "metadata": {}
    },
    {
      "cell_type": "code",
      "source": "select p.first_name,\n        p.last_name,\n        e.instituition\nfrom people as p\nleft join education as e on e.person_id = p.id",
      "metadata": {},
      "execution_count": null,
      "outputs": []
    },
    {
      "cell_type": "markdown",
      "source": "12) Для каждой компании найдите количество учебных заведений, которые окончили её сотрудники. Выведите название компании и число уникальных названий учебных заведений. Составьте топ-5 компаний по количеству университетов.",
      "metadata": {}
    },
    {
      "cell_type": "code",
      "source": "select c.name,\n        count(distinct e.instituition)\nfrom company as c\ninner join people as p on p.company_id = c.id\ninner join education as e on e.person_id = p.id\ngroup by c.name\norder by count(distinct e.instituition) desc\nlimit 5",
      "metadata": {},
      "execution_count": null,
      "outputs": []
    },
    {
      "cell_type": "markdown",
      "source": "13) Составьте список с уникальными названиями закрытых компаний, для которых первый раунд финансирования оказался последним.",
      "metadata": {}
    },
    {
      "cell_type": "code",
      "source": "select distinct c.name\nfrom company as c\nleft join funding_round as fd on c.id = fd.company_id\nwhere c.status = 'closed'\nand fd.is_first_round = 1\nand fd.is_last_round = 1",
      "metadata": {},
      "execution_count": null,
      "outputs": []
    },
    {
      "cell_type": "markdown",
      "source": "14) Составьте список уникальных номеров сотрудников, которые работают в компаниях, отобранных в предыдущем задании.",
      "metadata": {}
    },
    {
      "cell_type": "code",
      "source": "select distinct p.id\nfrom people as p\nwhere p.company_id in\n(select distinct c.id\nfrom company as c\nleft join funding_round as fd on c.id = fd.company_id\nwhere c.status = 'closed'\nand fd.is_first_round = 1\nand fd.is_last_round = 1)",
      "metadata": {},
      "execution_count": null,
      "outputs": []
    },
    {
      "cell_type": "markdown",
      "source": "15) Составьте таблицу, куда войдут уникальные пары с номерами сотрудников из предыдущей задачи и учебным заведением, которое окончил сотрудник.",
      "metadata": {}
    },
    {
      "cell_type": "code",
      "source": "select distinct p.id,\n        e.instituition\nfrom people as p\njoin education as e on e.person_id = p.id\nwhere p.company_id in\n(select distinct c.id\nfrom company as c\nleft join funding_round as fd on c.id = fd.company_id\nwhere c.status = 'closed'\nand fd.is_first_round = 1\nand fd.is_last_round = 1)",
      "metadata": {},
      "execution_count": null,
      "outputs": []
    },
    {
      "cell_type": "markdown",
      "source": "16) Посчитайте количество учебных заведений для каждого сотрудника из предыдущего задания. При подсчёте учитывайте, что некоторые сотрудники могли окончить одно и то же заведение дважды.",
      "metadata": {}
    },
    {
      "cell_type": "code",
      "source": "select p.id,\n        count(e.instituition)\nfrom people as p\njoin education as e on e.person_id = p.id\nwhere p.company_id in\n(select distinct c.id\nfrom company as c\nleft join funding_round as fd on c.id = fd.company_id\nwhere c.status = 'closed'\nand fd.is_first_round = 1\nand fd.is_last_round = 1)\ngroup by p.id",
      "metadata": {},
      "execution_count": null,
      "outputs": []
    },
    {
      "cell_type": "markdown",
      "source": "17) Дополните предыдущий запрос и выведите среднее число учебных заведений (всех, не только уникальных), которые окончили сотрудники разных компаний. Нужно вывести только одну запись, группировка здесь не понадобится.",
      "metadata": {}
    },
    {
      "cell_type": "code",
      "source": "select avg(t1.number)\nfrom (select p.id,\n        count(e.instituition) as number\nfrom people as p\njoin education as e on e.person_id = p.id\nwhere p.company_id in\n(select distinct c.id\nfrom company as c\nleft join funding_round as fd on c.id = fd.company_id\nwhere c.status = 'closed'\nand fd.is_first_round = 1\nand fd.is_last_round = 1)\ngroup by p.id) as t1",
      "metadata": {},
      "execution_count": null,
      "outputs": []
    },
    {
      "cell_type": "markdown",
      "source": "18) Напишите похожий запрос: выведите среднее число учебных заведений (всех, не только уникальных), которые окончили сотрудники Facebook",
      "metadata": {}
    },
    {
      "cell_type": "code",
      "source": "SELECT AVG(n.inst)\nFROM (SELECT p.id, \n       COUNT(e.instituition) AS inst\nFROM people AS p \nJOIN education AS e ON p.id = e.person_id\nWHERE company_id in (SELECT id\n                     FROM company \n                     WHERE name='Facebook')                   \nGROUP BY p.id) As n;",
      "metadata": {},
      "execution_count": null,
      "outputs": []
    },
    {
      "cell_type": "markdown",
      "source": "19) Составьте таблицу из полей:\n- name_of_fund — название фонда;\n- name_of_company — название компании;\n- amount — сумма инвестиций, которую привлекла компания в раунде.\n\nВ таблицу войдут данные о компаниях, в истории которых было больше шести важных этапов, а раунды финансирования проходили с 2012 по 2013 год включительно.",
      "metadata": {}
    },
    {
      "cell_type": "code",
      "source": "select f.name as name_of_fund,\n        c.name as name_of_company,\n        fr.raised_amount as amount\nFROM company AS c\nJOIN investment AS i ON c.id = i.company_id\nJOIN fund AS f ON i.fund_id = f.id\nJOIN funding_round AS fr ON fr.id = i.funding_round_id\nWHERE c.milestones > 6\nAND EXTRACT(YEAR FROM fr.funded_at::date) between '2012' and '2013'",
      "metadata": {},
      "execution_count": null,
      "outputs": []
    },
    {
      "cell_type": "markdown",
      "source": "20) Выгрузите таблицу, в которой будут такие поля:\n- название компании-покупателя;\n- сумма сделки;\n- название компании, которую купили;\n- сумма инвестиций, вложенных в купленную компанию;\n- доля, которая отображает, во сколько раз сумма покупки превысила сумму вложенных в компанию инвестиций, округлённая до ближайшего целого числа.\n\nНе учитывайте те сделки, в которых сумма покупки равна нулю. Если сумма инвестиций в компанию равна нулю, исключите такую компанию из таблицы. \nОтсортируйте таблицу по сумме сделки от большей к меньшей, а затем по названию купленной компании в лексикографическом порядке. Ограничьте таблицу первыми десятью записями.",
      "metadata": {}
    },
    {
      "cell_type": "code",
      "source": "select\nc.name,\na.price_amount,\nc_1.name,\nc_1.funding_total,\nround(a.price_amount/c_1.funding_total)\nfrom acquisition a\nLEFT JOIN company AS c ON a.acquiring_company_id = c.id\nLEFT JOIN company AS c_1 ON a.acquired_company_id = c_1.id\nwhere a.price_amount>0 and c_1.funding_total>0\norder by a.price_amount desc\nlimit 10",
      "metadata": {},
      "execution_count": null,
      "outputs": []
    },
    {
      "cell_type": "markdown",
      "source": "21) Выгрузите таблицу, в которую войдут названия компаний из категории social, получившие финансирование с 2010 по 2013 год включительно. Проверьте, что сумма инвестиций не равна нулю. Выведите также номер месяца, в котором проходил раунд финансирования.",
      "metadata": {}
    },
    {
      "cell_type": "code",
      "source": "SELECT c.name,\n       EXTRACT(MONTH FROM CAST(fr.funded_at as date))\nFROM company AS c \nJOIN funding_round AS fr ON c.id=fr.company_id\nWHERE c.category_code = 'social'\nAnd EXTRACT(YEAR FROM CAST (fr.funded_at as date)) BETWEEN 2010 AND 2013",
      "metadata": {},
      "execution_count": null,
      "outputs": []
    },
    {
      "cell_type": "markdown",
      "source": "22) Отберите данные по месяцам с 2010 по 2013 год, когда проходили инвестиционные раунды. Сгруппируйте данные по номеру месяца и получите таблицу, в которой будут поля:\n- номер месяца, в котором проходили раунды;\n- количество уникальных названий фондов из США, которые инвестировали в этом месяце;\n- количество компаний, купленных за этот месяц;\n- общая сумма сделок по покупкам в этом месяце.",
      "metadata": {}
    },
    {
      "cell_type": "code",
      "source": "WITH funds AS (SELECT EXTRACT(MONTH FROM fr.funded_at) AS MONTH,\n                       COUNT(DISTINCT f.NAME) AS funds\n                FROM funding_round AS fr\n                JOIN investment AS i ON fr.id = i.funding_round_id\n                JOIN (SELECT id,\n                             NAME\n                     FROM fund\n                     WHERE country_code = 'USA') AS f ON i.fund_id = f.id\n                WHERE EXTRACT(YEAR FROM fr.funded_at) BETWEEN 2010 AND 2013\n                GROUP BY MONTH),\n     coms AS (SELECT EXTRACT(MONTH FROM acquired_at) AS MONTH,\n                         COUNT(acquired_at) AS acquired_companies,\n                         SUM(price_amount) AS total_amount\n                FROM acquisition\n                WHERE EXTRACT(YEAR FROM acquired_at) BETWEEN 2010 AND 2013\n                GROUP BY MONTH)\nSELECT funds.MONTH,\n       funds.funds,\n       coms.acquired_companies,\n       coms.total_amount\nFROM funds\nJOIN coms ON funds.MONTH = coms.MONTH",
      "metadata": {},
      "execution_count": null,
      "outputs": []
    },
    {
      "cell_type": "markdown",
      "source": "23) Составьте сводную таблицу и выведите среднюю сумму инвестиций для стран, в которых есть стартапы, зарегистрированные в 2011, 2012 и 2013 годах. Данные за каждый год должны быть в отдельном поле. Отсортируйте таблицу по среднему значению инвестиций за 2011 год от большего к меньшему.",
      "metadata": {}
    },
    {
      "cell_type": "code",
      "source": "SELECT i_2011.country, \n       year_2011, \n       year_2012, \n       year_2013\nFROM\n     (SELECT AVG(funding_total) AS year_2011,     \n             country_code AS country\n      FROM company\n      WHERE EXTRACT(YEAR FROM founded_at)= 2011\n      GROUP BY country) AS i_2011\nJOIN(SELECT AVG(funding_total) AS year_2012,     \n                country_code AS country\n      FROM company\n      WHERE EXTRACT(YEAR FROM founded_at)= 2012\n      GROUP BY country) AS i_2012  ON i_2011.country=i_2012.country\nJOIN(SELECT AVG(funding_total) AS year_2013,     \n                country_code AS country\n      FROM company\n      WHERE EXTRACT(YEAR FROM founded_at)= 2013\n      GROUP BY country) AS i_2013 ON i_2012.country=i_2013.country\nORDER BY year_2011 desc;",
      "metadata": {},
      "execution_count": null,
      "outputs": []
    }
  ]
}