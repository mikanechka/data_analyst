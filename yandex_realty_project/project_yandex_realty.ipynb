{
 "cells": [
  {
   "cell_type": "markdown",
   "metadata": {
    "toc": true
   },
   "source": [
    "<h1>Содержание<span class=\"tocSkip\"></span></h1>\n",
    "<div class=\"toc\"><ul class=\"toc-item\"><li><span><a href=\"#Изучение-данных-из-файла\" data-toc-modified-id=\"Изучение-данных-из-файла-1\"><span class=\"toc-item-num\">1&nbsp;&nbsp;</span>Изучение данных из файла</a></span><ul class=\"toc-item\"><li><span><a href=\"#Вывод\" data-toc-modified-id=\"Вывод-1.1\"><span class=\"toc-item-num\">1.1&nbsp;&nbsp;</span>Вывод</a></span></li></ul></li><li><span><a href=\"#Предобработка-данных\" data-toc-modified-id=\"Предобработка-данных-2\"><span class=\"toc-item-num\">2&nbsp;&nbsp;</span>Предобработка данных</a></span><ul class=\"toc-item\"><li><span><a href=\"#Обработка-названий-столбцов\" data-toc-modified-id=\"Обработка-названий-столбцов-2.1\"><span class=\"toc-item-num\">2.1&nbsp;&nbsp;</span>Обработка названий столбцов</a></span></li><li><span><a href=\"#Обработка-пропусков\" data-toc-modified-id=\"Обработка-пропусков-2.2\"><span class=\"toc-item-num\">2.2&nbsp;&nbsp;</span>Обработка пропусков</a></span></li><li><span><a href=\"#Замена-типа-данных\" data-toc-modified-id=\"Замена-типа-данных-2.3\"><span class=\"toc-item-num\">2.3&nbsp;&nbsp;</span>Замена типа данных</a></span></li><li><span><a href=\"#Вывод\" data-toc-modified-id=\"Вывод-2.4\"><span class=\"toc-item-num\">2.4&nbsp;&nbsp;</span>Вывод</a></span></li></ul></li><li><span><a href=\"#Расчёты-и-добавление-результатов-в-таблицу\" data-toc-modified-id=\"Расчёты-и-добавление-результатов-в-таблицу-3\"><span class=\"toc-item-num\">3&nbsp;&nbsp;</span>Расчёты и добавление результатов в таблицу</a></span><ul class=\"toc-item\"><li><span><a href=\"#Расчет-цены-квадратного-метра\" data-toc-modified-id=\"Расчет-цены-квадратного-метра-3.1\"><span class=\"toc-item-num\">3.1&nbsp;&nbsp;</span>Расчет цены квадратного метра</a></span></li><li><span><a href=\"#Расчет-дня-недели,-месяца-и-года-публикации-объявления\" data-toc-modified-id=\"Расчет-дня-недели,-месяца-и-года-публикации-объявления-3.2\"><span class=\"toc-item-num\">3.2&nbsp;&nbsp;</span>Расчет дня недели, месяца и года публикации объявления</a></span></li><li><span><a href=\"#Расчет-этажа-объекта-недвижимости\" data-toc-modified-id=\"Расчет-этажа-объекта-недвижимости-3.3\"><span class=\"toc-item-num\">3.3&nbsp;&nbsp;</span>Расчет этажа объекта недвижимости</a></span></li><li><span><a href=\"#Расчет-отношения-жилой-площади/площади-кухни-к-общей-площади\" data-toc-modified-id=\"Расчет-отношения-жилой-площади/площади-кухни-к-общей-площади-3.4\"><span class=\"toc-item-num\">3.4&nbsp;&nbsp;</span>Расчет отношения жилой площади/площади кухни к общей площади</a></span></li><li><span><a href=\"#Вывод\" data-toc-modified-id=\"Вывод-3.5\"><span class=\"toc-item-num\">3.5&nbsp;&nbsp;</span>Вывод</a></span></li></ul></li><li><span><a href=\"#Исследовательский-анализ-данных\" data-toc-modified-id=\"Исследовательский-анализ-данных-4\"><span class=\"toc-item-num\">4&nbsp;&nbsp;</span>Исследовательский анализ данных</a></span><ul class=\"toc-item\"><li><span><a href=\"#Площадь,-цена,-число-комнат,-высота-потолков\" data-toc-modified-id=\"Площадь,-цена,-число-комнат,-высота-потолков-4.1\"><span class=\"toc-item-num\">4.1&nbsp;&nbsp;</span>Площадь, цена, число комнат, высота потолков</a></span></li><li><span><a href=\"#Время-продажи-квартиры\" data-toc-modified-id=\"Время-продажи-квартиры-4.2\"><span class=\"toc-item-num\">4.2&nbsp;&nbsp;</span>Время продажи квартиры</a></span></li><li><span><a href=\"#Редкие-и-выбивающиеся-значения\" data-toc-modified-id=\"Редкие-и-выбивающиеся-значения-4.3\"><span class=\"toc-item-num\">4.3&nbsp;&nbsp;</span>Редкие и выбивающиеся значения</a></span></li><li><span><a href=\"#Зависимость-стоимости-квартиры-от-критериев\" data-toc-modified-id=\"Зависимость-стоимости-квартиры-от-критериев-4.4\"><span class=\"toc-item-num\">4.4&nbsp;&nbsp;</span>Зависимость стоимости квартиры от критериев</a></span></li><li><span><a href=\"#Топ-10-населенных-пунктов-с-наибольшим-числом-объявлений\" data-toc-modified-id=\"Топ-10-населенных-пунктов-с-наибольшим-числом-объявлений-4.5\"><span class=\"toc-item-num\">4.5&nbsp;&nbsp;</span>Топ-10 населенных пунктов с наибольшим числом объявлений</a></span></li><li><span><a href=\"#Квартиры-в-центре-Санкт-Петербурга\" data-toc-modified-id=\"Квартиры-в-центре-Санкт-Петербурга-4.6\"><span class=\"toc-item-num\">4.6&nbsp;&nbsp;</span>Квартиры в центре Санкт-Петербурга</a></span></li><li><span><a href=\"#Зависимость-стоимости-квартиры-в-центре-Санкт-Петербурга-от-критериев\" data-toc-modified-id=\"Зависимость-стоимости-квартиры-в-центре-Санкт-Петербурга-от-критериев-4.7\"><span class=\"toc-item-num\">4.7&nbsp;&nbsp;</span>Зависимость стоимости квартиры в центре Санкт-Петербурга от критериев</a></span></li></ul></li><li><span><a href=\"#Общий-вывод\" data-toc-modified-id=\"Общий-вывод-5\"><span class=\"toc-item-num\">5&nbsp;&nbsp;</span>Общий вывод</a></span><ul class=\"toc-item\"><li><span><a href=\"#Рекомендации\" data-toc-modified-id=\"Рекомендации-5.1\"><span class=\"toc-item-num\">5.1&nbsp;&nbsp;</span>Рекомендации</a></span></li></ul></li></ul></div>"
   ]
  },
  {
   "cell_type": "markdown",
   "metadata": {},
   "source": [
    "# Исследование объявлений о продаже квартир\n",
    "\n",
    "В нашем распоряжении данные сервиса Яндекс.Недвижимость — архив объявлений о продаже квартир в Санкт-Петербурге и соседних населённых пунктах за несколько лет. \n",
    "\n",
    "**Цель исследования** - определить рыночную стоимость объектов недвижимости. \n",
    "\n"
   ]
  },
  {
   "cell_type": "markdown",
   "metadata": {},
   "source": [
    "## Изучение данных из файла"
   ]
  },
  {
   "cell_type": "markdown",
   "metadata": {},
   "source": [
    "Любой анализ данных начинается с изучения исходных данных. Для того чтобы открыть файл в формате csv, импортируем нужную библиотеку. Для работы с табличными данными лучше всего подойдет Pandas."
   ]
  },
  {
   "cell_type": "code",
   "execution_count": 1,
   "metadata": {},
   "outputs": [],
   "source": [
    "import pandas as pd\n",
    "import matplotlib.pyplot as plt\n",
    "import warnings\n",
    "warnings.filterwarnings('ignore')"
   ]
  },
  {
   "cell_type": "code",
   "execution_count": 2,
   "metadata": {},
   "outputs": [
    {
     "data": {
      "text/html": [
       "<div>\n",
       "<style scoped>\n",
       "    .dataframe tbody tr th:only-of-type {\n",
       "        vertical-align: middle;\n",
       "    }\n",
       "\n",
       "    .dataframe tbody tr th {\n",
       "        vertical-align: top;\n",
       "    }\n",
       "\n",
       "    .dataframe thead th {\n",
       "        text-align: right;\n",
       "    }\n",
       "</style>\n",
       "<table border=\"1\" class=\"dataframe\">\n",
       "  <thead>\n",
       "    <tr style=\"text-align: right;\">\n",
       "      <th></th>\n",
       "      <th>total_images\\tlast_price\\ttotal_area\\tfirst_day_exposition\\trooms\\tceiling_height\\tfloors_total\\tliving_area\\tfloor\\tis_apartment\\tstudio\\topen_plan\\tkitchen_area\\tbalcony\\tlocality_name\\tairports_nearest\\tcityCenters_nearest\\tparks_around3000\\tparks_nearest\\tponds_around3000\\tponds_nearest\\tdays_exposition</th>\n",
       "    </tr>\n",
       "  </thead>\n",
       "  <tbody>\n",
       "    <tr>\n",
       "      <td>0</td>\n",
       "      <td>20\\t13000000.0\\t108.0\\t2019-03-07T00:00:00\\t3\\...</td>\n",
       "    </tr>\n",
       "    <tr>\n",
       "      <td>1</td>\n",
       "      <td>7\\t3350000.0\\t40.4\\t2018-12-04T00:00:00\\t1\\t\\t...</td>\n",
       "    </tr>\n",
       "    <tr>\n",
       "      <td>2</td>\n",
       "      <td>10\\t5196000.0\\t56.0\\t2015-08-20T00:00:00\\t2\\t\\...</td>\n",
       "    </tr>\n",
       "    <tr>\n",
       "      <td>3</td>\n",
       "      <td>0\\t64900000.0\\t159.0\\t2015-07-24T00:00:00\\t3\\t...</td>\n",
       "    </tr>\n",
       "    <tr>\n",
       "      <td>4</td>\n",
       "      <td>2\\t10000000.0\\t100.0\\t2018-06-19T00:00:00\\t2\\t...</td>\n",
       "    </tr>\n",
       "  </tbody>\n",
       "</table>\n",
       "</div>"
      ],
      "text/plain": [
       "  total_images\\tlast_price\\ttotal_area\\tfirst_day_exposition\\trooms\\tceiling_height\\tfloors_total\\tliving_area\\tfloor\\tis_apartment\\tstudio\\topen_plan\\tkitchen_area\\tbalcony\\tlocality_name\\tairports_nearest\\tcityCenters_nearest\\tparks_around3000\\tparks_nearest\\tponds_around3000\\tponds_nearest\\tdays_exposition\n",
       "0  20\\t13000000.0\\t108.0\\t2019-03-07T00:00:00\\t3\\...                                                                                                                                                                                                                                                                  \n",
       "1  7\\t3350000.0\\t40.4\\t2018-12-04T00:00:00\\t1\\t\\t...                                                                                                                                                                                                                                                                  \n",
       "2  10\\t5196000.0\\t56.0\\t2015-08-20T00:00:00\\t2\\t\\...                                                                                                                                                                                                                                                                  \n",
       "3  0\\t64900000.0\\t159.0\\t2015-07-24T00:00:00\\t3\\t...                                                                                                                                                                                                                                                                  \n",
       "4  2\\t10000000.0\\t100.0\\t2018-06-19T00:00:00\\t2\\t...                                                                                                                                                                                                                                                                  "
      ]
     },
     "execution_count": 2,
     "metadata": {},
     "output_type": "execute_result"
    }
   ],
   "source": [
    "df = pd.read_csv('')\n",
    "df.head()"
   ]
  },
  {
   "cell_type": "markdown",
   "metadata": {},
   "source": [
    "Данные склеились в одну строку. Для корректного анализа необходимо это исправить: пропишем нужные атрибуты для метода read_csv."
   ]
  },
  {
   "cell_type": "code",
   "execution_count": 3,
   "metadata": {},
   "outputs": [
    {
     "data": {
      "text/html": [
       "<div>\n",
       "<style scoped>\n",
       "    .dataframe tbody tr th:only-of-type {\n",
       "        vertical-align: middle;\n",
       "    }\n",
       "\n",
       "    .dataframe tbody tr th {\n",
       "        vertical-align: top;\n",
       "    }\n",
       "\n",
       "    .dataframe thead th {\n",
       "        text-align: right;\n",
       "    }\n",
       "</style>\n",
       "<table border=\"1\" class=\"dataframe\">\n",
       "  <thead>\n",
       "    <tr style=\"text-align: right;\">\n",
       "      <th></th>\n",
       "      <th>total_images</th>\n",
       "      <th>last_price</th>\n",
       "      <th>total_area</th>\n",
       "      <th>first_day_exposition</th>\n",
       "      <th>rooms</th>\n",
       "      <th>ceiling_height</th>\n",
       "      <th>floors_total</th>\n",
       "      <th>living_area</th>\n",
       "      <th>floor</th>\n",
       "      <th>is_apartment</th>\n",
       "      <th>...</th>\n",
       "      <th>kitchen_area</th>\n",
       "      <th>balcony</th>\n",
       "      <th>locality_name</th>\n",
       "      <th>airports_nearest</th>\n",
       "      <th>cityCenters_nearest</th>\n",
       "      <th>parks_around3000</th>\n",
       "      <th>parks_nearest</th>\n",
       "      <th>ponds_around3000</th>\n",
       "      <th>ponds_nearest</th>\n",
       "      <th>days_exposition</th>\n",
       "    </tr>\n",
       "  </thead>\n",
       "  <tbody>\n",
       "    <tr>\n",
       "      <td>0</td>\n",
       "      <td>20</td>\n",
       "      <td>13000000.0</td>\n",
       "      <td>108.0</td>\n",
       "      <td>2019-03-07T00:00:00</td>\n",
       "      <td>3</td>\n",
       "      <td>2.70</td>\n",
       "      <td>16.0</td>\n",
       "      <td>51.0</td>\n",
       "      <td>8</td>\n",
       "      <td>NaN</td>\n",
       "      <td>...</td>\n",
       "      <td>25.0</td>\n",
       "      <td>NaN</td>\n",
       "      <td>Санкт-Петербург</td>\n",
       "      <td>18863.0</td>\n",
       "      <td>16028.0</td>\n",
       "      <td>1.0</td>\n",
       "      <td>482.0</td>\n",
       "      <td>2.0</td>\n",
       "      <td>755.0</td>\n",
       "      <td>NaN</td>\n",
       "    </tr>\n",
       "    <tr>\n",
       "      <td>1</td>\n",
       "      <td>7</td>\n",
       "      <td>3350000.0</td>\n",
       "      <td>40.4</td>\n",
       "      <td>2018-12-04T00:00:00</td>\n",
       "      <td>1</td>\n",
       "      <td>NaN</td>\n",
       "      <td>11.0</td>\n",
       "      <td>18.6</td>\n",
       "      <td>1</td>\n",
       "      <td>NaN</td>\n",
       "      <td>...</td>\n",
       "      <td>11.0</td>\n",
       "      <td>2.0</td>\n",
       "      <td>посёлок Шушары</td>\n",
       "      <td>12817.0</td>\n",
       "      <td>18603.0</td>\n",
       "      <td>0.0</td>\n",
       "      <td>NaN</td>\n",
       "      <td>0.0</td>\n",
       "      <td>NaN</td>\n",
       "      <td>81.0</td>\n",
       "    </tr>\n",
       "    <tr>\n",
       "      <td>2</td>\n",
       "      <td>10</td>\n",
       "      <td>5196000.0</td>\n",
       "      <td>56.0</td>\n",
       "      <td>2015-08-20T00:00:00</td>\n",
       "      <td>2</td>\n",
       "      <td>NaN</td>\n",
       "      <td>5.0</td>\n",
       "      <td>34.3</td>\n",
       "      <td>4</td>\n",
       "      <td>NaN</td>\n",
       "      <td>...</td>\n",
       "      <td>8.3</td>\n",
       "      <td>0.0</td>\n",
       "      <td>Санкт-Петербург</td>\n",
       "      <td>21741.0</td>\n",
       "      <td>13933.0</td>\n",
       "      <td>1.0</td>\n",
       "      <td>90.0</td>\n",
       "      <td>2.0</td>\n",
       "      <td>574.0</td>\n",
       "      <td>558.0</td>\n",
       "    </tr>\n",
       "    <tr>\n",
       "      <td>3</td>\n",
       "      <td>0</td>\n",
       "      <td>64900000.0</td>\n",
       "      <td>159.0</td>\n",
       "      <td>2015-07-24T00:00:00</td>\n",
       "      <td>3</td>\n",
       "      <td>NaN</td>\n",
       "      <td>14.0</td>\n",
       "      <td>NaN</td>\n",
       "      <td>9</td>\n",
       "      <td>NaN</td>\n",
       "      <td>...</td>\n",
       "      <td>NaN</td>\n",
       "      <td>0.0</td>\n",
       "      <td>Санкт-Петербург</td>\n",
       "      <td>28098.0</td>\n",
       "      <td>6800.0</td>\n",
       "      <td>2.0</td>\n",
       "      <td>84.0</td>\n",
       "      <td>3.0</td>\n",
       "      <td>234.0</td>\n",
       "      <td>424.0</td>\n",
       "    </tr>\n",
       "    <tr>\n",
       "      <td>4</td>\n",
       "      <td>2</td>\n",
       "      <td>10000000.0</td>\n",
       "      <td>100.0</td>\n",
       "      <td>2018-06-19T00:00:00</td>\n",
       "      <td>2</td>\n",
       "      <td>3.03</td>\n",
       "      <td>14.0</td>\n",
       "      <td>32.0</td>\n",
       "      <td>13</td>\n",
       "      <td>NaN</td>\n",
       "      <td>...</td>\n",
       "      <td>41.0</td>\n",
       "      <td>NaN</td>\n",
       "      <td>Санкт-Петербург</td>\n",
       "      <td>31856.0</td>\n",
       "      <td>8098.0</td>\n",
       "      <td>2.0</td>\n",
       "      <td>112.0</td>\n",
       "      <td>1.0</td>\n",
       "      <td>48.0</td>\n",
       "      <td>121.0</td>\n",
       "    </tr>\n",
       "  </tbody>\n",
       "</table>\n",
       "<p>5 rows × 22 columns</p>\n",
       "</div>"
      ],
      "text/plain": [
       "   total_images  last_price  total_area first_day_exposition  rooms  \\\n",
       "0            20  13000000.0       108.0  2019-03-07T00:00:00      3   \n",
       "1             7   3350000.0        40.4  2018-12-04T00:00:00      1   \n",
       "2            10   5196000.0        56.0  2015-08-20T00:00:00      2   \n",
       "3             0  64900000.0       159.0  2015-07-24T00:00:00      3   \n",
       "4             2  10000000.0       100.0  2018-06-19T00:00:00      2   \n",
       "\n",
       "   ceiling_height  floors_total  living_area  floor is_apartment  ...  \\\n",
       "0            2.70          16.0         51.0      8          NaN  ...   \n",
       "1             NaN          11.0         18.6      1          NaN  ...   \n",
       "2             NaN           5.0         34.3      4          NaN  ...   \n",
       "3             NaN          14.0          NaN      9          NaN  ...   \n",
       "4            3.03          14.0         32.0     13          NaN  ...   \n",
       "\n",
       "   kitchen_area  balcony    locality_name  airports_nearest  \\\n",
       "0          25.0      NaN  Санкт-Петербург           18863.0   \n",
       "1          11.0      2.0   посёлок Шушары           12817.0   \n",
       "2           8.3      0.0  Санкт-Петербург           21741.0   \n",
       "3           NaN      0.0  Санкт-Петербург           28098.0   \n",
       "4          41.0      NaN  Санкт-Петербург           31856.0   \n",
       "\n",
       "  cityCenters_nearest  parks_around3000  parks_nearest  ponds_around3000  \\\n",
       "0             16028.0               1.0          482.0               2.0   \n",
       "1             18603.0               0.0            NaN               0.0   \n",
       "2             13933.0               1.0           90.0               2.0   \n",
       "3              6800.0               2.0           84.0               3.0   \n",
       "4              8098.0               2.0          112.0               1.0   \n",
       "\n",
       "   ponds_nearest  days_exposition  \n",
       "0          755.0              NaN  \n",
       "1            NaN             81.0  \n",
       "2          574.0            558.0  \n",
       "3          234.0            424.0  \n",
       "4           48.0            121.0  \n",
       "\n",
       "[5 rows x 22 columns]"
      ]
     },
     "execution_count": 3,
     "metadata": {},
     "output_type": "execute_result"
    }
   ],
   "source": [
    "df = pd.read_csv('', sep = '\\t', decimal = '.')\n",
    "df.head()"
   ]
  },
  {
   "cell_type": "code",
   "execution_count": 4,
   "metadata": {},
   "outputs": [
    {
     "name": "stdout",
     "output_type": "stream",
     "text": [
      "<class 'pandas.core.frame.DataFrame'>\n",
      "RangeIndex: 23699 entries, 0 to 23698\n",
      "Data columns (total 22 columns):\n",
      "total_images            23699 non-null int64\n",
      "last_price              23699 non-null float64\n",
      "total_area              23699 non-null float64\n",
      "first_day_exposition    23699 non-null object\n",
      "rooms                   23699 non-null int64\n",
      "ceiling_height          14504 non-null float64\n",
      "floors_total            23613 non-null float64\n",
      "living_area             21796 non-null float64\n",
      "floor                   23699 non-null int64\n",
      "is_apartment            2775 non-null object\n",
      "studio                  23699 non-null bool\n",
      "open_plan               23699 non-null bool\n",
      "kitchen_area            21421 non-null float64\n",
      "balcony                 12180 non-null float64\n",
      "locality_name           23650 non-null object\n",
      "airports_nearest        18157 non-null float64\n",
      "cityCenters_nearest     18180 non-null float64\n",
      "parks_around3000        18181 non-null float64\n",
      "parks_nearest           8079 non-null float64\n",
      "ponds_around3000        18181 non-null float64\n",
      "ponds_nearest           9110 non-null float64\n",
      "days_exposition         20518 non-null float64\n",
      "dtypes: bool(2), float64(14), int64(3), object(3)\n",
      "memory usage: 3.7+ MB\n"
     ]
    }
   ],
   "source": [
    "df.info() #изучим общую информацию о датасете"
   ]
  },
  {
   "cell_type": "code",
   "execution_count": 5,
   "metadata": {},
   "outputs": [
    {
     "data": {
      "text/html": [
       "<div>\n",
       "<style scoped>\n",
       "    .dataframe tbody tr th:only-of-type {\n",
       "        vertical-align: middle;\n",
       "    }\n",
       "\n",
       "    .dataframe tbody tr th {\n",
       "        vertical-align: top;\n",
       "    }\n",
       "\n",
       "    .dataframe thead th {\n",
       "        text-align: right;\n",
       "    }\n",
       "</style>\n",
       "<table border=\"1\" class=\"dataframe\">\n",
       "  <thead>\n",
       "    <tr style=\"text-align: right;\">\n",
       "      <th></th>\n",
       "      <th>total_images</th>\n",
       "      <th>last_price</th>\n",
       "      <th>total_area</th>\n",
       "      <th>rooms</th>\n",
       "      <th>ceiling_height</th>\n",
       "      <th>floors_total</th>\n",
       "      <th>living_area</th>\n",
       "      <th>floor</th>\n",
       "      <th>kitchen_area</th>\n",
       "      <th>balcony</th>\n",
       "      <th>airports_nearest</th>\n",
       "      <th>cityCenters_nearest</th>\n",
       "      <th>parks_around3000</th>\n",
       "      <th>parks_nearest</th>\n",
       "      <th>ponds_around3000</th>\n",
       "      <th>ponds_nearest</th>\n",
       "      <th>days_exposition</th>\n",
       "    </tr>\n",
       "  </thead>\n",
       "  <tbody>\n",
       "    <tr>\n",
       "      <td>count</td>\n",
       "      <td>23699.000000</td>\n",
       "      <td>2.369900e+04</td>\n",
       "      <td>23699.000000</td>\n",
       "      <td>23699.000000</td>\n",
       "      <td>14504.000000</td>\n",
       "      <td>23613.000000</td>\n",
       "      <td>21796.000000</td>\n",
       "      <td>23699.000000</td>\n",
       "      <td>21421.000000</td>\n",
       "      <td>12180.000000</td>\n",
       "      <td>18157.000000</td>\n",
       "      <td>18180.000000</td>\n",
       "      <td>18181.000000</td>\n",
       "      <td>8079.000000</td>\n",
       "      <td>18181.000000</td>\n",
       "      <td>9110.000000</td>\n",
       "      <td>20518.000000</td>\n",
       "    </tr>\n",
       "    <tr>\n",
       "      <td>mean</td>\n",
       "      <td>9.858475</td>\n",
       "      <td>6.541549e+06</td>\n",
       "      <td>60.348651</td>\n",
       "      <td>2.070636</td>\n",
       "      <td>2.771499</td>\n",
       "      <td>10.673824</td>\n",
       "      <td>34.457852</td>\n",
       "      <td>5.892358</td>\n",
       "      <td>10.569807</td>\n",
       "      <td>1.150082</td>\n",
       "      <td>28793.672193</td>\n",
       "      <td>14191.277833</td>\n",
       "      <td>0.611408</td>\n",
       "      <td>490.804555</td>\n",
       "      <td>0.770255</td>\n",
       "      <td>517.980900</td>\n",
       "      <td>180.888634</td>\n",
       "    </tr>\n",
       "    <tr>\n",
       "      <td>std</td>\n",
       "      <td>5.682529</td>\n",
       "      <td>1.088701e+07</td>\n",
       "      <td>35.654083</td>\n",
       "      <td>1.078405</td>\n",
       "      <td>1.261056</td>\n",
       "      <td>6.597173</td>\n",
       "      <td>22.030445</td>\n",
       "      <td>4.885249</td>\n",
       "      <td>5.905438</td>\n",
       "      <td>1.071300</td>\n",
       "      <td>12630.880622</td>\n",
       "      <td>8608.386210</td>\n",
       "      <td>0.802074</td>\n",
       "      <td>342.317995</td>\n",
       "      <td>0.938346</td>\n",
       "      <td>277.720643</td>\n",
       "      <td>219.727988</td>\n",
       "    </tr>\n",
       "    <tr>\n",
       "      <td>min</td>\n",
       "      <td>0.000000</td>\n",
       "      <td>1.219000e+04</td>\n",
       "      <td>12.000000</td>\n",
       "      <td>0.000000</td>\n",
       "      <td>1.000000</td>\n",
       "      <td>1.000000</td>\n",
       "      <td>2.000000</td>\n",
       "      <td>1.000000</td>\n",
       "      <td>1.300000</td>\n",
       "      <td>0.000000</td>\n",
       "      <td>0.000000</td>\n",
       "      <td>181.000000</td>\n",
       "      <td>0.000000</td>\n",
       "      <td>1.000000</td>\n",
       "      <td>0.000000</td>\n",
       "      <td>13.000000</td>\n",
       "      <td>1.000000</td>\n",
       "    </tr>\n",
       "    <tr>\n",
       "      <td>25%</td>\n",
       "      <td>6.000000</td>\n",
       "      <td>3.400000e+06</td>\n",
       "      <td>40.000000</td>\n",
       "      <td>1.000000</td>\n",
       "      <td>2.520000</td>\n",
       "      <td>5.000000</td>\n",
       "      <td>18.600000</td>\n",
       "      <td>2.000000</td>\n",
       "      <td>7.000000</td>\n",
       "      <td>0.000000</td>\n",
       "      <td>18585.000000</td>\n",
       "      <td>9238.000000</td>\n",
       "      <td>0.000000</td>\n",
       "      <td>288.000000</td>\n",
       "      <td>0.000000</td>\n",
       "      <td>294.000000</td>\n",
       "      <td>45.000000</td>\n",
       "    </tr>\n",
       "    <tr>\n",
       "      <td>50%</td>\n",
       "      <td>9.000000</td>\n",
       "      <td>4.650000e+06</td>\n",
       "      <td>52.000000</td>\n",
       "      <td>2.000000</td>\n",
       "      <td>2.650000</td>\n",
       "      <td>9.000000</td>\n",
       "      <td>30.000000</td>\n",
       "      <td>4.000000</td>\n",
       "      <td>9.100000</td>\n",
       "      <td>1.000000</td>\n",
       "      <td>26726.000000</td>\n",
       "      <td>13098.500000</td>\n",
       "      <td>0.000000</td>\n",
       "      <td>455.000000</td>\n",
       "      <td>1.000000</td>\n",
       "      <td>502.000000</td>\n",
       "      <td>95.000000</td>\n",
       "    </tr>\n",
       "    <tr>\n",
       "      <td>75%</td>\n",
       "      <td>14.000000</td>\n",
       "      <td>6.800000e+06</td>\n",
       "      <td>69.900000</td>\n",
       "      <td>3.000000</td>\n",
       "      <td>2.800000</td>\n",
       "      <td>16.000000</td>\n",
       "      <td>42.300000</td>\n",
       "      <td>8.000000</td>\n",
       "      <td>12.000000</td>\n",
       "      <td>2.000000</td>\n",
       "      <td>37273.000000</td>\n",
       "      <td>16293.000000</td>\n",
       "      <td>1.000000</td>\n",
       "      <td>612.000000</td>\n",
       "      <td>1.000000</td>\n",
       "      <td>729.000000</td>\n",
       "      <td>232.000000</td>\n",
       "    </tr>\n",
       "    <tr>\n",
       "      <td>max</td>\n",
       "      <td>50.000000</td>\n",
       "      <td>7.630000e+08</td>\n",
       "      <td>900.000000</td>\n",
       "      <td>19.000000</td>\n",
       "      <td>100.000000</td>\n",
       "      <td>60.000000</td>\n",
       "      <td>409.700000</td>\n",
       "      <td>33.000000</td>\n",
       "      <td>112.000000</td>\n",
       "      <td>5.000000</td>\n",
       "      <td>84869.000000</td>\n",
       "      <td>65968.000000</td>\n",
       "      <td>3.000000</td>\n",
       "      <td>3190.000000</td>\n",
       "      <td>3.000000</td>\n",
       "      <td>1344.000000</td>\n",
       "      <td>1580.000000</td>\n",
       "    </tr>\n",
       "  </tbody>\n",
       "</table>\n",
       "</div>"
      ],
      "text/plain": [
       "       total_images    last_price    total_area         rooms  ceiling_height  \\\n",
       "count  23699.000000  2.369900e+04  23699.000000  23699.000000    14504.000000   \n",
       "mean       9.858475  6.541549e+06     60.348651      2.070636        2.771499   \n",
       "std        5.682529  1.088701e+07     35.654083      1.078405        1.261056   \n",
       "min        0.000000  1.219000e+04     12.000000      0.000000        1.000000   \n",
       "25%        6.000000  3.400000e+06     40.000000      1.000000        2.520000   \n",
       "50%        9.000000  4.650000e+06     52.000000      2.000000        2.650000   \n",
       "75%       14.000000  6.800000e+06     69.900000      3.000000        2.800000   \n",
       "max       50.000000  7.630000e+08    900.000000     19.000000      100.000000   \n",
       "\n",
       "       floors_total   living_area         floor  kitchen_area       balcony  \\\n",
       "count  23613.000000  21796.000000  23699.000000  21421.000000  12180.000000   \n",
       "mean      10.673824     34.457852      5.892358     10.569807      1.150082   \n",
       "std        6.597173     22.030445      4.885249      5.905438      1.071300   \n",
       "min        1.000000      2.000000      1.000000      1.300000      0.000000   \n",
       "25%        5.000000     18.600000      2.000000      7.000000      0.000000   \n",
       "50%        9.000000     30.000000      4.000000      9.100000      1.000000   \n",
       "75%       16.000000     42.300000      8.000000     12.000000      2.000000   \n",
       "max       60.000000    409.700000     33.000000    112.000000      5.000000   \n",
       "\n",
       "       airports_nearest  cityCenters_nearest  parks_around3000  parks_nearest  \\\n",
       "count      18157.000000         18180.000000      18181.000000    8079.000000   \n",
       "mean       28793.672193         14191.277833          0.611408     490.804555   \n",
       "std        12630.880622          8608.386210          0.802074     342.317995   \n",
       "min            0.000000           181.000000          0.000000       1.000000   \n",
       "25%        18585.000000          9238.000000          0.000000     288.000000   \n",
       "50%        26726.000000         13098.500000          0.000000     455.000000   \n",
       "75%        37273.000000         16293.000000          1.000000     612.000000   \n",
       "max        84869.000000         65968.000000          3.000000    3190.000000   \n",
       "\n",
       "       ponds_around3000  ponds_nearest  days_exposition  \n",
       "count      18181.000000    9110.000000     20518.000000  \n",
       "mean           0.770255     517.980900       180.888634  \n",
       "std            0.938346     277.720643       219.727988  \n",
       "min            0.000000      13.000000         1.000000  \n",
       "25%            0.000000     294.000000        45.000000  \n",
       "50%            1.000000     502.000000        95.000000  \n",
       "75%            1.000000     729.000000       232.000000  \n",
       "max            3.000000    1344.000000      1580.000000  "
      ]
     },
     "execution_count": 5,
     "metadata": {},
     "output_type": "execute_result"
    }
   ],
   "source": [
    "df.describe() #проверим характерные значения"
   ]
  },
  {
   "cell_type": "code",
   "execution_count": 6,
   "metadata": {},
   "outputs": [
    {
     "data": {
      "text/plain": [
       "Index(['total_images', 'last_price', 'total_area', 'first_day_exposition',\n",
       "       'rooms', 'ceiling_height', 'floors_total', 'living_area', 'floor',\n",
       "       'is_apartment', 'studio', 'open_plan', 'kitchen_area', 'balcony',\n",
       "       'locality_name', 'airports_nearest', 'cityCenters_nearest',\n",
       "       'parks_around3000', 'parks_nearest', 'ponds_around3000',\n",
       "       'ponds_nearest', 'days_exposition'],\n",
       "      dtype='object')"
      ]
     },
     "execution_count": 6,
     "metadata": {},
     "output_type": "execute_result"
    }
   ],
   "source": [
    "df.columns #проверка на наличие лишних пробелов/некорректного заведения значений в названии столбцов"
   ]
  },
  {
   "cell_type": "markdown",
   "metadata": {},
   "source": [
    "### Вывод"
   ]
  },
  {
   "cell_type": "markdown",
   "metadata": {},
   "source": [
    "Открыв файл с данными, мы получили таблицу с информацией о 23699 объявлениях о продаже квартир в Санкт-Петербурге и соседних населённых пунктах за несколько лет. \n",
    "\n",
    "Рассмотрев первые строки таблицы, а также общую информацию о ней, можно заметить ряд проблем:\n",
    "1) В названиях столбцов строчные буквы сочетаются с прописными, некорректный формат записи данных (cityCenters_nearest, ponds_around3000, parks_around3000)  \n",
    "\n",
    "2) Ряд столбцов имеет некорректный тип данных (например, first_day_exposition и is_apartment)\n",
    "\n",
    "3) В данных присутствуют пропуски значений\n"
   ]
  },
  {
   "cell_type": "markdown",
   "metadata": {},
   "source": [
    "## Предобработка данных"
   ]
  },
  {
   "cell_type": "markdown",
   "metadata": {},
   "source": [
    "Подготовим данные для анализа: очистим от пропусков, дубликатов, недочетов оформления."
   ]
  },
  {
   "cell_type": "markdown",
   "metadata": {},
   "source": [
    "### Обработка названий столбцов"
   ]
  },
  {
   "cell_type": "markdown",
   "metadata": {},
   "source": [
    "Избавимся от разных регистров в оформлении, упростим запись некотрых столбцов для простоты восприятия. "
   ]
  },
  {
   "cell_type": "code",
   "execution_count": 7,
   "metadata": {},
   "outputs": [
    {
     "data": {
      "text/plain": [
       "Index(['total_images', 'last_price', 'total_area', 'first_day_exposition',\n",
       "       'rooms', 'ceiling_height', 'floors_total', 'living_area', 'floor',\n",
       "       'is_apartment', 'is_studio', 'is_open_plan', 'kitchen_area', 'balcony',\n",
       "       'locality_name', 'airports_nearest', 'city_centers_nearest',\n",
       "       'parks_around_3km', 'parks_nearest', 'ponds_around_3km',\n",
       "       'ponds_nearest', 'days_exposition'],\n",
       "      dtype='object')"
      ]
     },
     "execution_count": 7,
     "metadata": {},
     "output_type": "execute_result"
    }
   ],
   "source": [
    "df.set_axis(['total_images', 'last_price', 'total_area', 'first_day_exposition', 'rooms', 'ceiling_height', \n",
    "             'floors_total', 'living_area', 'floor', 'is_apartment', 'is_studio', 'is_open_plan', 'kitchen_area', \n",
    "             'balcony', 'locality_name', 'airports_nearest', 'city_centers_nearest', 'parks_around_3km', \n",
    "             'parks_nearest', 'ponds_around_3km','ponds_nearest', 'days_exposition'], axis = 'columns', inplace = True)\n",
    "df.columns #проверка результатов"
   ]
  },
  {
   "cell_type": "markdown",
   "metadata": {},
   "source": [
    "### Обработка пропусков"
   ]
  },
  {
   "cell_type": "markdown",
   "metadata": {},
   "source": [
    "Для начала проверим, какой объем занимают пропущенные значения"
   ]
  },
  {
   "cell_type": "code",
   "execution_count": 8,
   "metadata": {
    "scrolled": false
   },
   "outputs": [
    {
     "data": {
      "text/plain": [
       "total_images                0\n",
       "is_open_plan                0\n",
       "floor                       0\n",
       "rooms                       0\n",
       "is_studio                   0\n",
       "total_area                  0\n",
       "last_price                  0\n",
       "first_day_exposition        0\n",
       "locality_name              49\n",
       "floors_total               86\n",
       "living_area              1903\n",
       "kitchen_area             2278\n",
       "days_exposition          3181\n",
       "ponds_around_3km         5518\n",
       "parks_around_3km         5518\n",
       "city_centers_nearest     5519\n",
       "airports_nearest         5542\n",
       "ceiling_height           9195\n",
       "balcony                 11519\n",
       "ponds_nearest           14589\n",
       "parks_nearest           15620\n",
       "is_apartment            20924\n",
       "dtype: int64"
      ]
     },
     "execution_count": 8,
     "metadata": {},
     "output_type": "execute_result"
    }
   ],
   "source": [
    "df.isna().sum().sort_values()"
   ]
  },
  {
   "cell_type": "markdown",
   "metadata": {},
   "source": [
    "По логике, некоторые пропущенные значения правильнее было бы заменить на 0, другие показатели следовало бы заменить на средние/медианные значения, а часть пропущенных данных, чья доля ничтожно мала, можно удалить, покольку на результаты анализа это не повлияет.\n",
    "\n",
    "Покольку в рамках анализа мы расматриваем объявления по СПб и соседним городам, объявления без указанных названий населенных пунктов можно удалить (на их долю приходится всего лишь 0,2%).\n",
    "\n",
    "Аналогично поступим и с показателем кол-ва этажей в доме. Для дальнейшего анализа данный показатель будет необходим, поэтому для корректного расчета в будущем необходимо избавиться от пропусков. Среднее/медианное значение лишь исказит общую картину. Логичнее всего будет удалить объявления с пропусками в столбце floors_total (на их долю приходится 0,4% всех объявлений)."
   ]
  },
  {
   "cell_type": "code",
   "execution_count": 9,
   "metadata": {
    "scrolled": false
   },
   "outputs": [],
   "source": [
    "df = df.dropna(subset=['locality_name', 'floors_total'])"
   ]
  },
  {
   "cell_type": "markdown",
   "metadata": {},
   "source": [
    "Для показателя кол-ва балконов процент незаполненных данных велик (48,4%). Скорее всего здесь предполагается что у объекта недвижимости нет балконов, следовательно, пропущенные значения можно заменить на 0."
   ]
  },
  {
   "cell_type": "code",
   "execution_count": 10,
   "metadata": {},
   "outputs": [
    {
     "data": {
      "text/plain": [
       "0.0    15155\n",
       "1.0     4187\n",
       "2.0     3656\n",
       "5.0      304\n",
       "4.0      182\n",
       "3.0       81\n",
       "Name: balcony, dtype: int64"
      ]
     },
     "execution_count": 10,
     "metadata": {},
     "output_type": "execute_result"
    }
   ],
   "source": [
    "df['balcony'] = df['balcony'].fillna(0) #избавляемся от пропусков\n",
    "df['balcony'].value_counts()"
   ]
  },
  {
   "cell_type": "markdown",
   "metadata": {},
   "source": [
    "Для признака, является объект недвижимости апартаментами или нет, присущи 2 значения, т.к. это булев признак. Апатаменты - довольно редкий вид недвижимоти, поэтому можно предположить, что пропуски в данном столбце говорят об отсутствии данного признака, т.е. объект недвижимости по объявлению не относится к категории апартаментов."
   ]
  },
  {
   "cell_type": "code",
   "execution_count": 11,
   "metadata": {},
   "outputs": [
    {
     "data": {
      "text/plain": [
       "False    23515\n",
       "True        50\n",
       "Name: is_apartment, dtype: int64"
      ]
     },
     "execution_count": 11,
     "metadata": {},
     "output_type": "execute_result"
    }
   ],
   "source": [
    "df['is_apartment'] = df['is_apartment'].fillna(False) #избавляемся от пропусков\n",
    "df['is_apartment'].value_counts()"
   ]
  },
  {
   "cell_type": "markdown",
   "metadata": {},
   "source": [
    "Поскольку для целей анализа ряд показателей не имеет значения (расстояние до ближайшего водоема и парка, кол-во парков и водоемов в радиуе 3 км, расстояние до аэропорта), целесообразнее будет не менять пропущенные значение по данным критериям.\n",
    "\n",
    "Пройдемся по столбцам, необходимых для дальнейшего анализа."
   ]
  },
  {
   "cell_type": "code",
   "execution_count": 12,
   "metadata": {},
   "outputs": [
    {
     "data": {
      "text/plain": [
       "364"
      ]
     },
     "execution_count": 12,
     "metadata": {},
     "output_type": "execute_result"
    }
   ],
   "source": [
    "len(df['locality_name'].unique()) #проверим кол-во уникальных значений"
   ]
  },
  {
   "cell_type": "code",
   "execution_count": 13,
   "metadata": {
    "scrolled": true
   },
   "outputs": [
    {
     "data": {
      "text/plain": [
       "array(['санкт-петербург', 'посёлок шушары', 'городской посёлок янино-1',\n",
       "       'посёлок парголово', 'посёлок мурино', 'ломоносов', 'сертолово',\n",
       "       'петергоф', 'пушкин', 'деревня кудрово', 'коммунар', 'колпино',\n",
       "       'поселок городского типа красный бор', 'гатчина', 'поселок мурино',\n",
       "       'деревня фёдоровское', 'выборг', 'кронштадт', 'кировск',\n",
       "       'деревня новое девяткино', 'посёлок металлострой',\n",
       "       'посёлок городского типа лебяжье',\n",
       "       'посёлок городского типа сиверский', 'поселок молодцово',\n",
       "       'поселок городского типа кузьмоловский',\n",
       "       'садовое товарищество новая ропша', 'павловск',\n",
       "       'деревня пикколово', 'всеволожск', 'волхов', 'кингисепп',\n",
       "       'приозерск', 'сестрорецк', 'деревня куттузи', 'посёлок аннино',\n",
       "       'поселок городского типа ефимовский', 'посёлок плодовое',\n",
       "       'деревня заклинье', 'поселок торковичи', 'поселок первомайское',\n",
       "       'красное село', 'посёлок понтонный', 'сясьстрой', 'деревня старая',\n",
       "       'деревня лесколово', 'посёлок новый свет', 'сланцы',\n",
       "       'село путилово', 'ивангород', 'мурино', 'шлиссельбург',\n",
       "       'никольское', 'зеленогорск', 'сосновый бор', 'поселок новый свет',\n",
       "       'деревня оржицы', 'деревня кальтино', 'кудрово',\n",
       "       'поселок романовка', 'посёлок бугры', 'поселок бугры',\n",
       "       'поселок городского типа рощино', 'кириши', 'луга', 'волосово',\n",
       "       'отрадное', 'село павлово', 'поселок оредеж', 'село копорье',\n",
       "       'посёлок городского типа красный бор', 'посёлок молодёжное',\n",
       "       'тихвин', 'посёлок победа', 'деревня нурма',\n",
       "       'поселок городского типа синявино', 'тосно',\n",
       "       'посёлок городского типа кузьмоловский', 'посёлок стрельна',\n",
       "       'бокситогорск', 'посёлок александровская', 'деревня лопухинка',\n",
       "       'пикалёво', 'поселок терволово',\n",
       "       'поселок городского типа советский', 'подпорожье',\n",
       "       'посёлок петровское', 'посёлок городского типа токсово',\n",
       "       'поселок сельцо', 'посёлок городского типа вырица',\n",
       "       'деревня кипень', 'деревня келози', 'деревня вартемяги',\n",
       "       'посёлок тельмана', 'поселок севастьяново',\n",
       "       'городской поселок большая ижора', 'городской посёлок павлово',\n",
       "       'деревня агалатово', 'посёлок новогорелово',\n",
       "       'городской посёлок лесогорский', 'деревня лаголово',\n",
       "       'поселок цвелодубово', 'поселок городского типа рахья',\n",
       "       'поселок городского типа вырица', 'деревня белогорка',\n",
       "       'поселок заводской', 'городской посёлок новоселье',\n",
       "       'деревня большие колпаны', 'деревня горбунки', 'деревня батово',\n",
       "       'деревня заневка', 'деревня иссад', 'приморск',\n",
       "       'городской посёлок фёдоровское', 'деревня мистолово',\n",
       "       'новая ладога', 'поселок зимитицы', 'поселок барышево',\n",
       "       'деревня разметелево', 'поселок городского типа имени свердлова',\n",
       "       'деревня пеники', 'поселок рябово', 'деревня пудомяги',\n",
       "       'поселок станции корнево', 'деревня низино', 'деревня бегуницы',\n",
       "       'посёлок поляны', 'городской посёлок мга', 'поселок елизаветино',\n",
       "       'посёлок городского типа кузнечное', 'деревня колтуши',\n",
       "       'поселок запорожское', 'посёлок городского типа рощино',\n",
       "       'деревня гостилицы', 'деревня малое карлино',\n",
       "       'посёлок мичуринское', 'посёлок городского типа имени морозова',\n",
       "       'посёлок песочный', 'посёлок сосново', 'деревня аро',\n",
       "       'поселок ильичёво', 'посёлок городского типа тайцы',\n",
       "       'деревня малое верево', 'деревня извара', 'поселок станции вещево',\n",
       "       'село паша', 'деревня калитино',\n",
       "       'посёлок городского типа ульяновка', 'деревня чудской бор',\n",
       "       'поселок городского типа дубровка', 'деревня мины',\n",
       "       'поселок войсковицы', 'посёлок городского типа имени свердлова',\n",
       "       'деревня коркино', 'посёлок ропша',\n",
       "       'поселок городского типа приладожский', 'посёлок щеглово',\n",
       "       'посёлок гаврилово', 'лодейное поле', 'деревня рабитицы',\n",
       "       'поселок городского типа никольский', 'деревня кузьмолово',\n",
       "       'деревня малые колпаны', 'поселок тельмана',\n",
       "       'посёлок петро-славянка', 'городской посёлок назия',\n",
       "       'посёлок репино', 'посёлок ильичёво', 'поселок углово',\n",
       "       'поселок старая малукса', 'садовое товарищество рахья',\n",
       "       'поселок аннино', 'поселок победа', 'деревня меньково',\n",
       "       'деревня старые бегуницы', 'посёлок сапёрный', 'поселок семрино',\n",
       "       'поселок гаврилово', 'поселок глажево', 'поселок кобринское',\n",
       "       'деревня гарболово', 'деревня юкки',\n",
       "       'поселок станции приветнинское', 'деревня мануйлово',\n",
       "       'деревня пчева', 'поселок поляны', 'поселок цвылёво',\n",
       "       'поселок мельниково', 'посёлок пудость', 'посёлок усть-луга',\n",
       "       'светогорск', 'любань', 'поселок селезнёво',\n",
       "       'поселок городского типа рябово', 'каменногорск', 'деревня кривко',\n",
       "       'поселок глебычево', 'деревня парицы', 'поселок жилпосёлок',\n",
       "       'посёлок городского типа мга', 'городской поселок янино-1',\n",
       "       'посёлок войскорово', 'село никольское', 'посёлок терволово',\n",
       "       'поселок стеклянный', 'посёлок городского типа важины',\n",
       "       'посёлок мыза-ивановка', 'село русско-высоцкое',\n",
       "       'поселок городского типа лебяжье',\n",
       "       'поселок городского типа форносово', 'село старая ладога',\n",
       "       'поселок житково', 'городской посёлок виллози', 'деревня лампово',\n",
       "       'деревня шпаньково', 'деревня лаврики', 'посёлок сумино',\n",
       "       'посёлок возрождение', 'деревня старосиверская',\n",
       "       'посёлок кикерино', 'поселок возрождение',\n",
       "       'деревня старое хинколово', 'посёлок пригородный',\n",
       "       'посёлок торфяное', 'городской посёлок будогощь',\n",
       "       'поселок суходолье', 'поселок красная долина', 'деревня хапо-ое',\n",
       "       'поселок городского типа дружная горка', 'поселок лисий нос',\n",
       "       'деревня яльгелево', 'посёлок стеклянный', 'село рождествено',\n",
       "       'деревня старополье', 'посёлок левашово', 'деревня сяськелево',\n",
       "       'деревня камышовка',\n",
       "       'садоводческое некоммерческое товарищество лесная поляна',\n",
       "       'деревня хязельки', 'поселок жилгородок',\n",
       "       'посёлок городского типа павлово', 'деревня ялгино',\n",
       "       'поселок новый учхоз', 'городской посёлок рощино',\n",
       "       'поселок гончарово', 'поселок почап', 'посёлок сапёрное',\n",
       "       'посёлок платформа 69-й километр', 'поселок каложицы',\n",
       "       'деревня фалилеево', 'деревня пельгора',\n",
       "       'поселок городского типа лесогорский', 'деревня торошковичи',\n",
       "       'посёлок белоостров', 'посёлок алексеевка', 'поселок серебрянский',\n",
       "       'поселок лукаши', 'поселок петровское', 'деревня щеглово',\n",
       "       'поселок мичуринское', 'деревня тарасово', 'поселок кингисеппский',\n",
       "       'посёлок при железнодорожной станции вещево', 'поселок ушаки',\n",
       "       'деревня котлы', 'деревня сижно', 'деревня торосово',\n",
       "       'посёлок форт красная горка', 'деревня новолисино',\n",
       "       'посёлок станции громово', 'деревня глинка', 'посёлок мельниково',\n",
       "       'поселок городского типа назия', 'деревня старая пустошь',\n",
       "       'поселок коммунары', 'поселок починок',\n",
       "       'посёлок городского типа вознесенье', 'деревня разбегаево',\n",
       "       'посёлок городского типа рябово', 'поселок гладкое',\n",
       "       'посёлок при железнодорожной станции приветнинское',\n",
       "       'поселок тёсово-4', 'посёлок жилгородок', 'деревня бор',\n",
       "       'посёлок коробицыно', 'деревня большая вруда', 'деревня курковицы',\n",
       "       'посёлок лисий нос', 'городской посёлок советский',\n",
       "       'посёлок кобралово', 'деревня суоранда', 'поселок кобралово',\n",
       "       'поселок городского типа кондратьево',\n",
       "       'коттеджный поселок счастье', 'поселок любань', 'деревня реброво',\n",
       "       'деревня зимитицы', 'деревня тойворово', 'поселок семиозерье',\n",
       "       'поселок лесное', 'поселок совхозный', 'поселок усть-луга',\n",
       "       'посёлок ленинское', 'посёлок суйда',\n",
       "       'посёлок городского типа форносово', 'деревня нижние осельки',\n",
       "       'посёлок станции свирь', 'поселок перово', 'высоцк',\n",
       "       'поселок гарболово', 'село шум', 'поселок котельский',\n",
       "       'поселок станции лужайка', 'деревня большая пустомержа',\n",
       "       'поселок красносельское', 'деревня вахнова кара', 'деревня пижма',\n",
       "       'коттеджный поселок кивеннапа север', 'поселок коробицыно',\n",
       "       'поселок ромашки', 'посёлок перово', 'деревня каськово',\n",
       "       'деревня куровицы', 'посёлок плоское', 'поселок сумино',\n",
       "       'поселок городского типа большая ижора', 'поселок кирпичное',\n",
       "       'деревня ям-тесово', 'деревня раздолье', 'деревня терпилицы',\n",
       "       'поселок городского типа токсово', 'посёлок шугозеро',\n",
       "       'деревня ваганово', 'поселок пушное', 'садовое товарищество садко',\n",
       "       'посёлок усть-ижора', 'деревня выскатка',\n",
       "       'городской посёлок свирьстрой', 'поселок громово',\n",
       "       'деревня кисельня', 'посёлок старая малукса',\n",
       "       'деревня трубников бор', 'поселок калитино',\n",
       "       'посёлок высокоключевой', 'садовое товарищество приладожский',\n",
       "       'посёлок пансионат зелёный бор', 'деревня ненимяки',\n",
       "       'поселок пансионат зелёный бор', 'деревня снегирёвка',\n",
       "       'деревня рапполово', 'деревня пустынка', 'поселок рабитицы',\n",
       "       'деревня большой сабск', 'деревня русско', 'деревня лупполово',\n",
       "       'деревня большое рейзино', 'деревня малая романовка',\n",
       "       'поселок дружноселье', 'поселок пчевжа', 'поселок володарское',\n",
       "       'деревня нижняя', 'коттеджный посёлок лесное', 'деревня тихковицы',\n",
       "       'деревня борисова грива', 'посёлок дзержинского'], dtype=object)"
      ]
     },
     "execution_count": 13,
     "metadata": {},
     "output_type": "execute_result"
    }
   ],
   "source": [
    "df['locality_name'] = df['locality_name'].str.lower() #приводим все к одному регистру\n",
    "df['locality_name'].unique() #сразу замечаем проблему с е-ё, есть дубликаты"
   ]
  },
  {
   "cell_type": "code",
   "execution_count": 14,
   "metadata": {},
   "outputs": [
    {
     "data": {
      "text/plain": [
       "330"
      ]
     },
     "execution_count": 14,
     "metadata": {},
     "output_type": "execute_result"
    }
   ],
   "source": [
    "df['locality_name'] = df['locality_name'].str.replace('ё', 'е', regex=True)\n",
    "len(df['locality_name'].unique()) #избавились от 34 дублей"
   ]
  },
  {
   "cell_type": "markdown",
   "metadata": {},
   "source": [
    "Проверим значения столбиков, приписывающих признак студии или открытой планировки."
   ]
  },
  {
   "cell_type": "code",
   "execution_count": 15,
   "metadata": {},
   "outputs": [
    {
     "data": {
      "text/plain": [
       "False    23498\n",
       "True        67\n",
       "Name: is_open_plan, dtype: int64"
      ]
     },
     "execution_count": 15,
     "metadata": {},
     "output_type": "execute_result"
    }
   ],
   "source": [
    "df['is_open_plan'].value_counts() #данные корректны, пропусков/дубликатов нет"
   ]
  },
  {
   "cell_type": "code",
   "execution_count": 16,
   "metadata": {},
   "outputs": [
    {
     "data": {
      "text/plain": [
       "False    23419\n",
       "True       146\n",
       "Name: is_studio, dtype: int64"
      ]
     },
     "execution_count": 16,
     "metadata": {},
     "output_type": "execute_result"
    }
   ],
   "source": [
    "df['is_studio'].value_counts() #данные корректны, пропусков/дубликатов нет"
   ]
  },
  {
   "cell_type": "code",
   "execution_count": 17,
   "metadata": {},
   "outputs": [
    {
     "data": {
      "text/plain": [
       "array([ 8,  1,  4,  9, 13,  5,  6, 22, 26,  7,  3,  2, 11, 15, 18, 10, 19,\n",
       "       16, 20, 27, 25, 17, 14, 12, 21, 28, 24, 23, 30, 29, 32, 33, 31])"
      ]
     },
     "execution_count": 17,
     "metadata": {},
     "output_type": "execute_result"
    }
   ],
   "source": [
    "df['floor'].unique() #данные корректны, пропусков/дубликатов нет"
   ]
  },
  {
   "cell_type": "code",
   "execution_count": 18,
   "metadata": {},
   "outputs": [
    {
     "data": {
      "text/plain": [
       "array([ 3,  1,  2,  4,  5,  6,  0,  7, 11,  8, 14, 10, 15,  9, 19, 16, 12])"
      ]
     },
     "execution_count": 18,
     "metadata": {},
     "output_type": "execute_result"
    }
   ],
   "source": [
    "df['rooms'].unique() #данные корректны, пропусков/дубликатов нет"
   ]
  },
  {
   "cell_type": "markdown",
   "metadata": {},
   "source": [
    "Кол-во комнат, равное 0, не совсем корректно для анализа. Даже в студии или квартире с открытой планировкой можно сказать что есть 1 комната. Проверим, на какие объявления приходятся квартиры с кол-вом комнат 0."
   ]
  },
  {
   "cell_type": "code",
   "execution_count": 19,
   "metadata": {},
   "outputs": [
    {
     "data": {
      "text/plain": [
       "194"
      ]
     },
     "execution_count": 19,
     "metadata": {},
     "output_type": "execute_result"
    }
   ],
   "source": [
    "len(df[df['rooms'] == 0])"
   ]
  },
  {
   "cell_type": "code",
   "execution_count": 20,
   "metadata": {
    "scrolled": true
   },
   "outputs": [
    {
     "data": {
      "text/html": [
       "<div>\n",
       "<style scoped>\n",
       "    .dataframe tbody tr th:only-of-type {\n",
       "        vertical-align: middle;\n",
       "    }\n",
       "\n",
       "    .dataframe tbody tr th {\n",
       "        vertical-align: top;\n",
       "    }\n",
       "\n",
       "    .dataframe thead th {\n",
       "        text-align: right;\n",
       "    }\n",
       "</style>\n",
       "<table border=\"1\" class=\"dataframe\">\n",
       "  <thead>\n",
       "    <tr style=\"text-align: right;\">\n",
       "      <th></th>\n",
       "      <th>total_images</th>\n",
       "      <th>last_price</th>\n",
       "      <th>total_area</th>\n",
       "      <th>first_day_exposition</th>\n",
       "      <th>rooms</th>\n",
       "      <th>ceiling_height</th>\n",
       "      <th>floors_total</th>\n",
       "      <th>living_area</th>\n",
       "      <th>floor</th>\n",
       "      <th>is_apartment</th>\n",
       "      <th>...</th>\n",
       "      <th>kitchen_area</th>\n",
       "      <th>balcony</th>\n",
       "      <th>locality_name</th>\n",
       "      <th>airports_nearest</th>\n",
       "      <th>city_centers_nearest</th>\n",
       "      <th>parks_around_3km</th>\n",
       "      <th>parks_nearest</th>\n",
       "      <th>ponds_around_3km</th>\n",
       "      <th>ponds_nearest</th>\n",
       "      <th>days_exposition</th>\n",
       "    </tr>\n",
       "  </thead>\n",
       "  <tbody>\n",
       "    <tr>\n",
       "      <td>349</td>\n",
       "      <td>4</td>\n",
       "      <td>2320000.0</td>\n",
       "      <td>25.00</td>\n",
       "      <td>2017-09-27T00:00:00</td>\n",
       "      <td>0</td>\n",
       "      <td>NaN</td>\n",
       "      <td>14.0</td>\n",
       "      <td>17.0</td>\n",
       "      <td>1</td>\n",
       "      <td>False</td>\n",
       "      <td>...</td>\n",
       "      <td>NaN</td>\n",
       "      <td>0.0</td>\n",
       "      <td>деревня кудрово</td>\n",
       "      <td>NaN</td>\n",
       "      <td>NaN</td>\n",
       "      <td>NaN</td>\n",
       "      <td>NaN</td>\n",
       "      <td>NaN</td>\n",
       "      <td>NaN</td>\n",
       "      <td>45.0</td>\n",
       "    </tr>\n",
       "    <tr>\n",
       "      <td>508</td>\n",
       "      <td>0</td>\n",
       "      <td>3375000.0</td>\n",
       "      <td>34.40</td>\n",
       "      <td>2017-03-28T00:00:00</td>\n",
       "      <td>0</td>\n",
       "      <td>NaN</td>\n",
       "      <td>26.0</td>\n",
       "      <td>24.3</td>\n",
       "      <td>19</td>\n",
       "      <td>False</td>\n",
       "      <td>...</td>\n",
       "      <td>NaN</td>\n",
       "      <td>1.0</td>\n",
       "      <td>поселок парголово</td>\n",
       "      <td>53115.0</td>\n",
       "      <td>19292.0</td>\n",
       "      <td>0.0</td>\n",
       "      <td>NaN</td>\n",
       "      <td>1.0</td>\n",
       "      <td>593.0</td>\n",
       "      <td>430.0</td>\n",
       "    </tr>\n",
       "    <tr>\n",
       "      <td>780</td>\n",
       "      <td>9</td>\n",
       "      <td>2600000.0</td>\n",
       "      <td>26.10</td>\n",
       "      <td>2018-02-20T00:00:00</td>\n",
       "      <td>0</td>\n",
       "      <td>NaN</td>\n",
       "      <td>18.0</td>\n",
       "      <td>NaN</td>\n",
       "      <td>8</td>\n",
       "      <td>False</td>\n",
       "      <td>...</td>\n",
       "      <td>NaN</td>\n",
       "      <td>1.0</td>\n",
       "      <td>поселок мурино</td>\n",
       "      <td>NaN</td>\n",
       "      <td>NaN</td>\n",
       "      <td>NaN</td>\n",
       "      <td>NaN</td>\n",
       "      <td>NaN</td>\n",
       "      <td>NaN</td>\n",
       "      <td>45.0</td>\n",
       "    </tr>\n",
       "    <tr>\n",
       "      <td>839</td>\n",
       "      <td>14</td>\n",
       "      <td>1900000.0</td>\n",
       "      <td>35.00</td>\n",
       "      <td>2017-04-14T00:00:00</td>\n",
       "      <td>0</td>\n",
       "      <td>2.70</td>\n",
       "      <td>5.0</td>\n",
       "      <td>15.0</td>\n",
       "      <td>3</td>\n",
       "      <td>False</td>\n",
       "      <td>...</td>\n",
       "      <td>NaN</td>\n",
       "      <td>1.0</td>\n",
       "      <td>поселок новый свет</td>\n",
       "      <td>NaN</td>\n",
       "      <td>NaN</td>\n",
       "      <td>NaN</td>\n",
       "      <td>NaN</td>\n",
       "      <td>NaN</td>\n",
       "      <td>NaN</td>\n",
       "      <td>7.0</td>\n",
       "    </tr>\n",
       "    <tr>\n",
       "      <td>946</td>\n",
       "      <td>5</td>\n",
       "      <td>2200000.0</td>\n",
       "      <td>23.00</td>\n",
       "      <td>2016-09-27T00:00:00</td>\n",
       "      <td>0</td>\n",
       "      <td>NaN</td>\n",
       "      <td>27.0</td>\n",
       "      <td>18.0</td>\n",
       "      <td>7</td>\n",
       "      <td>False</td>\n",
       "      <td>...</td>\n",
       "      <td>NaN</td>\n",
       "      <td>2.0</td>\n",
       "      <td>поселок мурино</td>\n",
       "      <td>NaN</td>\n",
       "      <td>NaN</td>\n",
       "      <td>NaN</td>\n",
       "      <td>NaN</td>\n",
       "      <td>NaN</td>\n",
       "      <td>NaN</td>\n",
       "      <td>483.0</td>\n",
       "    </tr>\n",
       "    <tr>\n",
       "      <td>1574</td>\n",
       "      <td>0</td>\n",
       "      <td>2200000.0</td>\n",
       "      <td>22.00</td>\n",
       "      <td>2017-11-03T00:00:00</td>\n",
       "      <td>0</td>\n",
       "      <td>NaN</td>\n",
       "      <td>18.0</td>\n",
       "      <td>15.0</td>\n",
       "      <td>16</td>\n",
       "      <td>False</td>\n",
       "      <td>...</td>\n",
       "      <td>NaN</td>\n",
       "      <td>1.0</td>\n",
       "      <td>деревня кудрово</td>\n",
       "      <td>NaN</td>\n",
       "      <td>NaN</td>\n",
       "      <td>NaN</td>\n",
       "      <td>NaN</td>\n",
       "      <td>NaN</td>\n",
       "      <td>NaN</td>\n",
       "      <td>81.0</td>\n",
       "    </tr>\n",
       "    <tr>\n",
       "      <td>1625</td>\n",
       "      <td>7</td>\n",
       "      <td>1980000.0</td>\n",
       "      <td>23.98</td>\n",
       "      <td>2018-02-01T00:00:00</td>\n",
       "      <td>0</td>\n",
       "      <td>NaN</td>\n",
       "      <td>4.0</td>\n",
       "      <td>10.5</td>\n",
       "      <td>3</td>\n",
       "      <td>False</td>\n",
       "      <td>...</td>\n",
       "      <td>NaN</td>\n",
       "      <td>1.0</td>\n",
       "      <td>поселок станции корнево</td>\n",
       "      <td>NaN</td>\n",
       "      <td>NaN</td>\n",
       "      <td>NaN</td>\n",
       "      <td>NaN</td>\n",
       "      <td>NaN</td>\n",
       "      <td>NaN</td>\n",
       "      <td>120.0</td>\n",
       "    </tr>\n",
       "    <tr>\n",
       "      <td>2532</td>\n",
       "      <td>5</td>\n",
       "      <td>3500000.0</td>\n",
       "      <td>27.10</td>\n",
       "      <td>2018-02-01T00:00:00</td>\n",
       "      <td>0</td>\n",
       "      <td>NaN</td>\n",
       "      <td>18.0</td>\n",
       "      <td>18.7</td>\n",
       "      <td>9</td>\n",
       "      <td>False</td>\n",
       "      <td>...</td>\n",
       "      <td>NaN</td>\n",
       "      <td>2.0</td>\n",
       "      <td>санкт-петербург</td>\n",
       "      <td>32036.0</td>\n",
       "      <td>8175.0</td>\n",
       "      <td>0.0</td>\n",
       "      <td>NaN</td>\n",
       "      <td>1.0</td>\n",
       "      <td>644.0</td>\n",
       "      <td>70.0</td>\n",
       "    </tr>\n",
       "    <tr>\n",
       "      <td>3019</td>\n",
       "      <td>18</td>\n",
       "      <td>2100000.0</td>\n",
       "      <td>24.00</td>\n",
       "      <td>2017-11-10T00:00:00</td>\n",
       "      <td>0</td>\n",
       "      <td>NaN</td>\n",
       "      <td>10.0</td>\n",
       "      <td>18.0</td>\n",
       "      <td>6</td>\n",
       "      <td>False</td>\n",
       "      <td>...</td>\n",
       "      <td>NaN</td>\n",
       "      <td>2.0</td>\n",
       "      <td>сертолово</td>\n",
       "      <td>NaN</td>\n",
       "      <td>NaN</td>\n",
       "      <td>NaN</td>\n",
       "      <td>NaN</td>\n",
       "      <td>NaN</td>\n",
       "      <td>NaN</td>\n",
       "      <td>5.0</td>\n",
       "    </tr>\n",
       "    <tr>\n",
       "      <td>4115</td>\n",
       "      <td>7</td>\n",
       "      <td>2600000.0</td>\n",
       "      <td>24.00</td>\n",
       "      <td>2018-02-01T00:00:00</td>\n",
       "      <td>0</td>\n",
       "      <td>NaN</td>\n",
       "      <td>25.0</td>\n",
       "      <td>18.0</td>\n",
       "      <td>4</td>\n",
       "      <td>False</td>\n",
       "      <td>...</td>\n",
       "      <td>NaN</td>\n",
       "      <td>2.0</td>\n",
       "      <td>санкт-петербург</td>\n",
       "      <td>10031.0</td>\n",
       "      <td>13330.0</td>\n",
       "      <td>1.0</td>\n",
       "      <td>915.0</td>\n",
       "      <td>0.0</td>\n",
       "      <td>NaN</td>\n",
       "      <td>42.0</td>\n",
       "    </tr>\n",
       "    <tr>\n",
       "      <td>4437</td>\n",
       "      <td>10</td>\n",
       "      <td>3200000.0</td>\n",
       "      <td>25.00</td>\n",
       "      <td>2017-10-16T00:00:00</td>\n",
       "      <td>0</td>\n",
       "      <td>NaN</td>\n",
       "      <td>9.0</td>\n",
       "      <td>18.6</td>\n",
       "      <td>9</td>\n",
       "      <td>False</td>\n",
       "      <td>...</td>\n",
       "      <td>NaN</td>\n",
       "      <td>2.0</td>\n",
       "      <td>санкт-петербург</td>\n",
       "      <td>11943.0</td>\n",
       "      <td>11710.0</td>\n",
       "      <td>1.0</td>\n",
       "      <td>518.0</td>\n",
       "      <td>1.0</td>\n",
       "      <td>232.0</td>\n",
       "      <td>97.0</td>\n",
       "    </tr>\n",
       "    <tr>\n",
       "      <td>4683</td>\n",
       "      <td>2</td>\n",
       "      <td>3650000.0</td>\n",
       "      <td>35.00</td>\n",
       "      <td>2018-02-01T00:00:00</td>\n",
       "      <td>0</td>\n",
       "      <td>NaN</td>\n",
       "      <td>25.0</td>\n",
       "      <td>23.4</td>\n",
       "      <td>25</td>\n",
       "      <td>False</td>\n",
       "      <td>...</td>\n",
       "      <td>NaN</td>\n",
       "      <td>0.0</td>\n",
       "      <td>санкт-петербург</td>\n",
       "      <td>43431.0</td>\n",
       "      <td>12188.0</td>\n",
       "      <td>0.0</td>\n",
       "      <td>NaN</td>\n",
       "      <td>0.0</td>\n",
       "      <td>NaN</td>\n",
       "      <td>100.0</td>\n",
       "    </tr>\n",
       "    <tr>\n",
       "      <td>4876</td>\n",
       "      <td>7</td>\n",
       "      <td>3000000.0</td>\n",
       "      <td>25.00</td>\n",
       "      <td>2017-09-27T00:00:00</td>\n",
       "      <td>0</td>\n",
       "      <td>27.00</td>\n",
       "      <td>25.0</td>\n",
       "      <td>17.0</td>\n",
       "      <td>17</td>\n",
       "      <td>False</td>\n",
       "      <td>...</td>\n",
       "      <td>NaN</td>\n",
       "      <td>2.0</td>\n",
       "      <td>поселок мурино</td>\n",
       "      <td>NaN</td>\n",
       "      <td>NaN</td>\n",
       "      <td>NaN</td>\n",
       "      <td>NaN</td>\n",
       "      <td>NaN</td>\n",
       "      <td>NaN</td>\n",
       "      <td>28.0</td>\n",
       "    </tr>\n",
       "    <tr>\n",
       "      <td>5749</td>\n",
       "      <td>20</td>\n",
       "      <td>3590000.0</td>\n",
       "      <td>25.00</td>\n",
       "      <td>2017-08-30T00:00:00</td>\n",
       "      <td>0</td>\n",
       "      <td>2.80</td>\n",
       "      <td>35.0</td>\n",
       "      <td>NaN</td>\n",
       "      <td>26</td>\n",
       "      <td>False</td>\n",
       "      <td>...</td>\n",
       "      <td>NaN</td>\n",
       "      <td>2.0</td>\n",
       "      <td>санкт-петербург</td>\n",
       "      <td>18732.0</td>\n",
       "      <td>20444.0</td>\n",
       "      <td>0.0</td>\n",
       "      <td>NaN</td>\n",
       "      <td>3.0</td>\n",
       "      <td>80.0</td>\n",
       "      <td>198.0</td>\n",
       "    </tr>\n",
       "    <tr>\n",
       "      <td>6472</td>\n",
       "      <td>13</td>\n",
       "      <td>3620000.0</td>\n",
       "      <td>28.00</td>\n",
       "      <td>2017-11-10T00:00:00</td>\n",
       "      <td>0</td>\n",
       "      <td>2.70</td>\n",
       "      <td>20.0</td>\n",
       "      <td>18.0</td>\n",
       "      <td>17</td>\n",
       "      <td>False</td>\n",
       "      <td>...</td>\n",
       "      <td>NaN</td>\n",
       "      <td>2.0</td>\n",
       "      <td>санкт-петербург</td>\n",
       "      <td>35068.0</td>\n",
       "      <td>16167.0</td>\n",
       "      <td>0.0</td>\n",
       "      <td>NaN</td>\n",
       "      <td>0.0</td>\n",
       "      <td>NaN</td>\n",
       "      <td>37.0</td>\n",
       "    </tr>\n",
       "    <tr>\n",
       "      <td>6612</td>\n",
       "      <td>18</td>\n",
       "      <td>3590000.0</td>\n",
       "      <td>26.80</td>\n",
       "      <td>2017-11-10T00:00:00</td>\n",
       "      <td>0</td>\n",
       "      <td>NaN</td>\n",
       "      <td>24.0</td>\n",
       "      <td>19.0</td>\n",
       "      <td>20</td>\n",
       "      <td>False</td>\n",
       "      <td>...</td>\n",
       "      <td>NaN</td>\n",
       "      <td>0.0</td>\n",
       "      <td>санкт-петербург</td>\n",
       "      <td>11022.0</td>\n",
       "      <td>12679.0</td>\n",
       "      <td>0.0</td>\n",
       "      <td>NaN</td>\n",
       "      <td>0.0</td>\n",
       "      <td>NaN</td>\n",
       "      <td>15.0</td>\n",
       "    </tr>\n",
       "    <tr>\n",
       "      <td>6805</td>\n",
       "      <td>7</td>\n",
       "      <td>1850000.0</td>\n",
       "      <td>31.00</td>\n",
       "      <td>2017-11-10T00:00:00</td>\n",
       "      <td>0</td>\n",
       "      <td>NaN</td>\n",
       "      <td>18.0</td>\n",
       "      <td>18.0</td>\n",
       "      <td>10</td>\n",
       "      <td>False</td>\n",
       "      <td>...</td>\n",
       "      <td>NaN</td>\n",
       "      <td>1.0</td>\n",
       "      <td>никольское</td>\n",
       "      <td>NaN</td>\n",
       "      <td>NaN</td>\n",
       "      <td>NaN</td>\n",
       "      <td>NaN</td>\n",
       "      <td>NaN</td>\n",
       "      <td>NaN</td>\n",
       "      <td>7.0</td>\n",
       "    </tr>\n",
       "    <tr>\n",
       "      <td>7008</td>\n",
       "      <td>4</td>\n",
       "      <td>5200000.0</td>\n",
       "      <td>32.30</td>\n",
       "      <td>2017-09-14T00:00:00</td>\n",
       "      <td>0</td>\n",
       "      <td>NaN</td>\n",
       "      <td>11.0</td>\n",
       "      <td>25.5</td>\n",
       "      <td>4</td>\n",
       "      <td>False</td>\n",
       "      <td>...</td>\n",
       "      <td>NaN</td>\n",
       "      <td>0.0</td>\n",
       "      <td>санкт-петербург</td>\n",
       "      <td>30824.0</td>\n",
       "      <td>6469.0</td>\n",
       "      <td>1.0</td>\n",
       "      <td>756.0</td>\n",
       "      <td>1.0</td>\n",
       "      <td>936.0</td>\n",
       "      <td>86.0</td>\n",
       "    </tr>\n",
       "    <tr>\n",
       "      <td>7237</td>\n",
       "      <td>8</td>\n",
       "      <td>2999000.0</td>\n",
       "      <td>42.63</td>\n",
       "      <td>2017-11-27T00:00:00</td>\n",
       "      <td>0</td>\n",
       "      <td>NaN</td>\n",
       "      <td>16.0</td>\n",
       "      <td>25.7</td>\n",
       "      <td>2</td>\n",
       "      <td>False</td>\n",
       "      <td>...</td>\n",
       "      <td>NaN</td>\n",
       "      <td>2.0</td>\n",
       "      <td>деревня кудрово</td>\n",
       "      <td>NaN</td>\n",
       "      <td>NaN</td>\n",
       "      <td>NaN</td>\n",
       "      <td>NaN</td>\n",
       "      <td>NaN</td>\n",
       "      <td>NaN</td>\n",
       "      <td>45.0</td>\n",
       "    </tr>\n",
       "    <tr>\n",
       "      <td>7286</td>\n",
       "      <td>6</td>\n",
       "      <td>2580000.0</td>\n",
       "      <td>30.00</td>\n",
       "      <td>2018-02-07T00:00:00</td>\n",
       "      <td>0</td>\n",
       "      <td>NaN</td>\n",
       "      <td>18.0</td>\n",
       "      <td>19.0</td>\n",
       "      <td>2</td>\n",
       "      <td>False</td>\n",
       "      <td>...</td>\n",
       "      <td>NaN</td>\n",
       "      <td>0.0</td>\n",
       "      <td>поселок парголово</td>\n",
       "      <td>52610.0</td>\n",
       "      <td>18787.0</td>\n",
       "      <td>0.0</td>\n",
       "      <td>NaN</td>\n",
       "      <td>0.0</td>\n",
       "      <td>NaN</td>\n",
       "      <td>41.0</td>\n",
       "    </tr>\n",
       "    <tr>\n",
       "      <td>7818</td>\n",
       "      <td>11</td>\n",
       "      <td>3300000.0</td>\n",
       "      <td>27.30</td>\n",
       "      <td>2018-04-06T00:00:00</td>\n",
       "      <td>0</td>\n",
       "      <td>NaN</td>\n",
       "      <td>20.0</td>\n",
       "      <td>NaN</td>\n",
       "      <td>9</td>\n",
       "      <td>False</td>\n",
       "      <td>...</td>\n",
       "      <td>NaN</td>\n",
       "      <td>2.0</td>\n",
       "      <td>санкт-петербург</td>\n",
       "      <td>15990.0</td>\n",
       "      <td>13853.0</td>\n",
       "      <td>0.0</td>\n",
       "      <td>NaN</td>\n",
       "      <td>1.0</td>\n",
       "      <td>584.0</td>\n",
       "      <td>31.0</td>\n",
       "    </tr>\n",
       "    <tr>\n",
       "      <td>9412</td>\n",
       "      <td>5</td>\n",
       "      <td>2100000.0</td>\n",
       "      <td>16.00</td>\n",
       "      <td>2017-12-10T00:00:00</td>\n",
       "      <td>0</td>\n",
       "      <td>NaN</td>\n",
       "      <td>6.0</td>\n",
       "      <td>13.0</td>\n",
       "      <td>1</td>\n",
       "      <td>False</td>\n",
       "      <td>...</td>\n",
       "      <td>NaN</td>\n",
       "      <td>0.0</td>\n",
       "      <td>санкт-петербург</td>\n",
       "      <td>20735.0</td>\n",
       "      <td>2111.0</td>\n",
       "      <td>2.0</td>\n",
       "      <td>228.0</td>\n",
       "      <td>3.0</td>\n",
       "      <td>72.0</td>\n",
       "      <td>3.0</td>\n",
       "    </tr>\n",
       "    <tr>\n",
       "      <td>9586</td>\n",
       "      <td>7</td>\n",
       "      <td>1670000.0</td>\n",
       "      <td>28.30</td>\n",
       "      <td>2017-09-27T00:00:00</td>\n",
       "      <td>0</td>\n",
       "      <td>NaN</td>\n",
       "      <td>9.0</td>\n",
       "      <td>18.2</td>\n",
       "      <td>3</td>\n",
       "      <td>False</td>\n",
       "      <td>...</td>\n",
       "      <td>NaN</td>\n",
       "      <td>0.0</td>\n",
       "      <td>никольское</td>\n",
       "      <td>NaN</td>\n",
       "      <td>NaN</td>\n",
       "      <td>NaN</td>\n",
       "      <td>NaN</td>\n",
       "      <td>NaN</td>\n",
       "      <td>NaN</td>\n",
       "      <td>45.0</td>\n",
       "    </tr>\n",
       "    <tr>\n",
       "      <td>9861</td>\n",
       "      <td>10</td>\n",
       "      <td>2350000.0</td>\n",
       "      <td>25.00</td>\n",
       "      <td>2017-12-03T00:00:00</td>\n",
       "      <td>0</td>\n",
       "      <td>NaN</td>\n",
       "      <td>22.0</td>\n",
       "      <td>25.0</td>\n",
       "      <td>17</td>\n",
       "      <td>False</td>\n",
       "      <td>...</td>\n",
       "      <td>NaN</td>\n",
       "      <td>2.0</td>\n",
       "      <td>поселок мурино</td>\n",
       "      <td>NaN</td>\n",
       "      <td>NaN</td>\n",
       "      <td>NaN</td>\n",
       "      <td>NaN</td>\n",
       "      <td>NaN</td>\n",
       "      <td>NaN</td>\n",
       "      <td>13.0</td>\n",
       "    </tr>\n",
       "    <tr>\n",
       "      <td>10284</td>\n",
       "      <td>9</td>\n",
       "      <td>2700000.0</td>\n",
       "      <td>24.00</td>\n",
       "      <td>2017-01-23T00:00:00</td>\n",
       "      <td>0</td>\n",
       "      <td>NaN</td>\n",
       "      <td>12.0</td>\n",
       "      <td>15.5</td>\n",
       "      <td>11</td>\n",
       "      <td>False</td>\n",
       "      <td>...</td>\n",
       "      <td>NaN</td>\n",
       "      <td>1.0</td>\n",
       "      <td>деревня кудрово</td>\n",
       "      <td>NaN</td>\n",
       "      <td>NaN</td>\n",
       "      <td>NaN</td>\n",
       "      <td>NaN</td>\n",
       "      <td>NaN</td>\n",
       "      <td>NaN</td>\n",
       "      <td>357.0</td>\n",
       "    </tr>\n",
       "    <tr>\n",
       "      <td>10606</td>\n",
       "      <td>14</td>\n",
       "      <td>2950000.0</td>\n",
       "      <td>25.27</td>\n",
       "      <td>2017-11-17T00:00:00</td>\n",
       "      <td>0</td>\n",
       "      <td>NaN</td>\n",
       "      <td>25.0</td>\n",
       "      <td>25.0</td>\n",
       "      <td>11</td>\n",
       "      <td>False</td>\n",
       "      <td>...</td>\n",
       "      <td>NaN</td>\n",
       "      <td>1.0</td>\n",
       "      <td>санкт-петербург</td>\n",
       "      <td>11405.0</td>\n",
       "      <td>13222.0</td>\n",
       "      <td>0.0</td>\n",
       "      <td>NaN</td>\n",
       "      <td>1.0</td>\n",
       "      <td>623.0</td>\n",
       "      <td>51.0</td>\n",
       "    </tr>\n",
       "    <tr>\n",
       "      <td>11035</td>\n",
       "      <td>1</td>\n",
       "      <td>2500000.0</td>\n",
       "      <td>26.00</td>\n",
       "      <td>2017-11-10T00:00:00</td>\n",
       "      <td>0</td>\n",
       "      <td>NaN</td>\n",
       "      <td>8.0</td>\n",
       "      <td>14.0</td>\n",
       "      <td>6</td>\n",
       "      <td>False</td>\n",
       "      <td>...</td>\n",
       "      <td>NaN</td>\n",
       "      <td>0.0</td>\n",
       "      <td>городской поселок янино-1</td>\n",
       "      <td>NaN</td>\n",
       "      <td>NaN</td>\n",
       "      <td>NaN</td>\n",
       "      <td>NaN</td>\n",
       "      <td>NaN</td>\n",
       "      <td>NaN</td>\n",
       "      <td>22.0</td>\n",
       "    </tr>\n",
       "    <tr>\n",
       "      <td>11051</td>\n",
       "      <td>2</td>\n",
       "      <td>2200000.0</td>\n",
       "      <td>26.00</td>\n",
       "      <td>2017-10-24T00:00:00</td>\n",
       "      <td>0</td>\n",
       "      <td>NaN</td>\n",
       "      <td>21.0</td>\n",
       "      <td>12.0</td>\n",
       "      <td>21</td>\n",
       "      <td>False</td>\n",
       "      <td>...</td>\n",
       "      <td>NaN</td>\n",
       "      <td>2.0</td>\n",
       "      <td>деревня кудрово</td>\n",
       "      <td>NaN</td>\n",
       "      <td>NaN</td>\n",
       "      <td>NaN</td>\n",
       "      <td>NaN</td>\n",
       "      <td>NaN</td>\n",
       "      <td>NaN</td>\n",
       "      <td>35.0</td>\n",
       "    </tr>\n",
       "    <tr>\n",
       "      <td>11157</td>\n",
       "      <td>0</td>\n",
       "      <td>2900000.0</td>\n",
       "      <td>27.30</td>\n",
       "      <td>2017-11-22T00:00:00</td>\n",
       "      <td>0</td>\n",
       "      <td>2.80</td>\n",
       "      <td>8.0</td>\n",
       "      <td>20.0</td>\n",
       "      <td>5</td>\n",
       "      <td>False</td>\n",
       "      <td>...</td>\n",
       "      <td>NaN</td>\n",
       "      <td>0.0</td>\n",
       "      <td>санкт-петербург</td>\n",
       "      <td>38832.0</td>\n",
       "      <td>13729.0</td>\n",
       "      <td>0.0</td>\n",
       "      <td>NaN</td>\n",
       "      <td>0.0</td>\n",
       "      <td>NaN</td>\n",
       "      <td>9.0</td>\n",
       "    </tr>\n",
       "    <tr>\n",
       "      <td>11331</td>\n",
       "      <td>6</td>\n",
       "      <td>1315000.0</td>\n",
       "      <td>27.32</td>\n",
       "      <td>2017-09-29T00:00:00</td>\n",
       "      <td>0</td>\n",
       "      <td>2.70</td>\n",
       "      <td>15.0</td>\n",
       "      <td>18.7</td>\n",
       "      <td>15</td>\n",
       "      <td>False</td>\n",
       "      <td>...</td>\n",
       "      <td>NaN</td>\n",
       "      <td>0.0</td>\n",
       "      <td>никольское</td>\n",
       "      <td>NaN</td>\n",
       "      <td>NaN</td>\n",
       "      <td>NaN</td>\n",
       "      <td>NaN</td>\n",
       "      <td>NaN</td>\n",
       "      <td>NaN</td>\n",
       "      <td>116.0</td>\n",
       "    </tr>\n",
       "    <tr>\n",
       "      <td>11692</td>\n",
       "      <td>0</td>\n",
       "      <td>2550000.0</td>\n",
       "      <td>23.06</td>\n",
       "      <td>2017-10-24T00:00:00</td>\n",
       "      <td>0</td>\n",
       "      <td>2.80</td>\n",
       "      <td>14.0</td>\n",
       "      <td>18.0</td>\n",
       "      <td>9</td>\n",
       "      <td>False</td>\n",
       "      <td>...</td>\n",
       "      <td>NaN</td>\n",
       "      <td>2.0</td>\n",
       "      <td>деревня кудрово</td>\n",
       "      <td>NaN</td>\n",
       "      <td>NaN</td>\n",
       "      <td>NaN</td>\n",
       "      <td>NaN</td>\n",
       "      <td>NaN</td>\n",
       "      <td>NaN</td>\n",
       "      <td>20.0</td>\n",
       "    </tr>\n",
       "    <tr>\n",
       "      <td>11705</td>\n",
       "      <td>5</td>\n",
       "      <td>3380000.0</td>\n",
       "      <td>26.00</td>\n",
       "      <td>2018-02-20T00:00:00</td>\n",
       "      <td>0</td>\n",
       "      <td>2.80</td>\n",
       "      <td>17.0</td>\n",
       "      <td>17.0</td>\n",
       "      <td>8</td>\n",
       "      <td>False</td>\n",
       "      <td>...</td>\n",
       "      <td>NaN</td>\n",
       "      <td>1.0</td>\n",
       "      <td>санкт-петербург</td>\n",
       "      <td>15706.0</td>\n",
       "      <td>7734.0</td>\n",
       "      <td>2.0</td>\n",
       "      <td>592.0</td>\n",
       "      <td>1.0</td>\n",
       "      <td>802.0</td>\n",
       "      <td>45.0</td>\n",
       "    </tr>\n",
       "    <tr>\n",
       "      <td>12412</td>\n",
       "      <td>0</td>\n",
       "      <td>3300000.0</td>\n",
       "      <td>27.00</td>\n",
       "      <td>2017-08-15T00:00:00</td>\n",
       "      <td>0</td>\n",
       "      <td>NaN</td>\n",
       "      <td>25.0</td>\n",
       "      <td>25.0</td>\n",
       "      <td>22</td>\n",
       "      <td>False</td>\n",
       "      <td>...</td>\n",
       "      <td>NaN</td>\n",
       "      <td>0.0</td>\n",
       "      <td>санкт-петербург</td>\n",
       "      <td>12199.0</td>\n",
       "      <td>12111.0</td>\n",
       "      <td>0.0</td>\n",
       "      <td>NaN</td>\n",
       "      <td>1.0</td>\n",
       "      <td>337.0</td>\n",
       "      <td>161.0</td>\n",
       "    </tr>\n",
       "    <tr>\n",
       "      <td>12691</td>\n",
       "      <td>1</td>\n",
       "      <td>3700000.0</td>\n",
       "      <td>24.20</td>\n",
       "      <td>2017-11-10T00:00:00</td>\n",
       "      <td>0</td>\n",
       "      <td>NaN</td>\n",
       "      <td>19.0</td>\n",
       "      <td>24.2</td>\n",
       "      <td>13</td>\n",
       "      <td>False</td>\n",
       "      <td>...</td>\n",
       "      <td>NaN</td>\n",
       "      <td>1.0</td>\n",
       "      <td>санкт-петербург</td>\n",
       "      <td>17837.0</td>\n",
       "      <td>16840.0</td>\n",
       "      <td>0.0</td>\n",
       "      <td>NaN</td>\n",
       "      <td>2.0</td>\n",
       "      <td>210.0</td>\n",
       "      <td>74.0</td>\n",
       "    </tr>\n",
       "    <tr>\n",
       "      <td>13953</td>\n",
       "      <td>21</td>\n",
       "      <td>3255000.0</td>\n",
       "      <td>28.20</td>\n",
       "      <td>2017-09-26T00:00:00</td>\n",
       "      <td>0</td>\n",
       "      <td>NaN</td>\n",
       "      <td>24.0</td>\n",
       "      <td>20.0</td>\n",
       "      <td>2</td>\n",
       "      <td>False</td>\n",
       "      <td>...</td>\n",
       "      <td>NaN</td>\n",
       "      <td>0.0</td>\n",
       "      <td>санкт-петербург</td>\n",
       "      <td>41466.0</td>\n",
       "      <td>11538.0</td>\n",
       "      <td>0.0</td>\n",
       "      <td>NaN</td>\n",
       "      <td>0.0</td>\n",
       "      <td>NaN</td>\n",
       "      <td>119.0</td>\n",
       "    </tr>\n",
       "    <tr>\n",
       "      <td>15105</td>\n",
       "      <td>8</td>\n",
       "      <td>2500000.0</td>\n",
       "      <td>26.10</td>\n",
       "      <td>2017-12-01T00:00:00</td>\n",
       "      <td>0</td>\n",
       "      <td>NaN</td>\n",
       "      <td>25.0</td>\n",
       "      <td>18.0</td>\n",
       "      <td>4</td>\n",
       "      <td>False</td>\n",
       "      <td>...</td>\n",
       "      <td>NaN</td>\n",
       "      <td>2.0</td>\n",
       "      <td>поселок мурино</td>\n",
       "      <td>NaN</td>\n",
       "      <td>NaN</td>\n",
       "      <td>NaN</td>\n",
       "      <td>NaN</td>\n",
       "      <td>NaN</td>\n",
       "      <td>NaN</td>\n",
       "      <td>45.0</td>\n",
       "    </tr>\n",
       "    <tr>\n",
       "      <td>15273</td>\n",
       "      <td>9</td>\n",
       "      <td>2700000.0</td>\n",
       "      <td>25.20</td>\n",
       "      <td>2017-11-10T00:00:00</td>\n",
       "      <td>0</td>\n",
       "      <td>NaN</td>\n",
       "      <td>9.0</td>\n",
       "      <td>15.2</td>\n",
       "      <td>2</td>\n",
       "      <td>False</td>\n",
       "      <td>...</td>\n",
       "      <td>NaN</td>\n",
       "      <td>2.0</td>\n",
       "      <td>деревня кудрово</td>\n",
       "      <td>NaN</td>\n",
       "      <td>NaN</td>\n",
       "      <td>NaN</td>\n",
       "      <td>NaN</td>\n",
       "      <td>NaN</td>\n",
       "      <td>NaN</td>\n",
       "      <td>23.0</td>\n",
       "    </tr>\n",
       "    <tr>\n",
       "      <td>15434</td>\n",
       "      <td>0</td>\n",
       "      <td>2200000.0</td>\n",
       "      <td>27.00</td>\n",
       "      <td>2017-01-01T00:00:00</td>\n",
       "      <td>0</td>\n",
       "      <td>NaN</td>\n",
       "      <td>25.0</td>\n",
       "      <td>15.0</td>\n",
       "      <td>5</td>\n",
       "      <td>False</td>\n",
       "      <td>...</td>\n",
       "      <td>NaN</td>\n",
       "      <td>2.0</td>\n",
       "      <td>поселок парголово</td>\n",
       "      <td>53791.0</td>\n",
       "      <td>18006.0</td>\n",
       "      <td>1.0</td>\n",
       "      <td>733.0</td>\n",
       "      <td>3.0</td>\n",
       "      <td>865.0</td>\n",
       "      <td>336.0</td>\n",
       "    </tr>\n",
       "    <tr>\n",
       "      <td>16429</td>\n",
       "      <td>2</td>\n",
       "      <td>2460000.0</td>\n",
       "      <td>28.01</td>\n",
       "      <td>2017-08-17T00:00:00</td>\n",
       "      <td>0</td>\n",
       "      <td>NaN</td>\n",
       "      <td>17.0</td>\n",
       "      <td>18.1</td>\n",
       "      <td>5</td>\n",
       "      <td>False</td>\n",
       "      <td>...</td>\n",
       "      <td>NaN</td>\n",
       "      <td>1.0</td>\n",
       "      <td>деревня кудрово</td>\n",
       "      <td>NaN</td>\n",
       "      <td>NaN</td>\n",
       "      <td>NaN</td>\n",
       "      <td>NaN</td>\n",
       "      <td>NaN</td>\n",
       "      <td>NaN</td>\n",
       "      <td>15.0</td>\n",
       "    </tr>\n",
       "    <tr>\n",
       "      <td>17695</td>\n",
       "      <td>7</td>\n",
       "      <td>2550000.0</td>\n",
       "      <td>24.00</td>\n",
       "      <td>2017-12-16T00:00:00</td>\n",
       "      <td>0</td>\n",
       "      <td>NaN</td>\n",
       "      <td>23.0</td>\n",
       "      <td>17.0</td>\n",
       "      <td>8</td>\n",
       "      <td>False</td>\n",
       "      <td>...</td>\n",
       "      <td>NaN</td>\n",
       "      <td>1.0</td>\n",
       "      <td>деревня кудрово</td>\n",
       "      <td>NaN</td>\n",
       "      <td>NaN</td>\n",
       "      <td>NaN</td>\n",
       "      <td>NaN</td>\n",
       "      <td>NaN</td>\n",
       "      <td>NaN</td>\n",
       "      <td>38.0</td>\n",
       "    </tr>\n",
       "    <tr>\n",
       "      <td>17729</td>\n",
       "      <td>7</td>\n",
       "      <td>2948000.0</td>\n",
       "      <td>28.05</td>\n",
       "      <td>2017-12-09T00:00:00</td>\n",
       "      <td>0</td>\n",
       "      <td>NaN</td>\n",
       "      <td>14.0</td>\n",
       "      <td>21.8</td>\n",
       "      <td>9</td>\n",
       "      <td>False</td>\n",
       "      <td>...</td>\n",
       "      <td>NaN</td>\n",
       "      <td>2.0</td>\n",
       "      <td>санкт-петербург</td>\n",
       "      <td>22098.0</td>\n",
       "      <td>23810.0</td>\n",
       "      <td>0.0</td>\n",
       "      <td>NaN</td>\n",
       "      <td>2.0</td>\n",
       "      <td>100.0</td>\n",
       "      <td>45.0</td>\n",
       "    </tr>\n",
       "    <tr>\n",
       "      <td>17805</td>\n",
       "      <td>17</td>\n",
       "      <td>2600000.0</td>\n",
       "      <td>31.10</td>\n",
       "      <td>2017-10-25T00:00:00</td>\n",
       "      <td>0</td>\n",
       "      <td>NaN</td>\n",
       "      <td>16.0</td>\n",
       "      <td>21.4</td>\n",
       "      <td>14</td>\n",
       "      <td>False</td>\n",
       "      <td>...</td>\n",
       "      <td>NaN</td>\n",
       "      <td>2.0</td>\n",
       "      <td>санкт-петербург</td>\n",
       "      <td>19212.0</td>\n",
       "      <td>22637.0</td>\n",
       "      <td>0.0</td>\n",
       "      <td>NaN</td>\n",
       "      <td>1.0</td>\n",
       "      <td>457.0</td>\n",
       "      <td>44.0</td>\n",
       "    </tr>\n",
       "    <tr>\n",
       "      <td>17824</td>\n",
       "      <td>10</td>\n",
       "      <td>2300000.0</td>\n",
       "      <td>22.50</td>\n",
       "      <td>2017-09-27T00:00:00</td>\n",
       "      <td>0</td>\n",
       "      <td>NaN</td>\n",
       "      <td>22.0</td>\n",
       "      <td>20.0</td>\n",
       "      <td>7</td>\n",
       "      <td>False</td>\n",
       "      <td>...</td>\n",
       "      <td>NaN</td>\n",
       "      <td>2.0</td>\n",
       "      <td>поселок мурино</td>\n",
       "      <td>NaN</td>\n",
       "      <td>NaN</td>\n",
       "      <td>NaN</td>\n",
       "      <td>NaN</td>\n",
       "      <td>NaN</td>\n",
       "      <td>NaN</td>\n",
       "      <td>11.0</td>\n",
       "    </tr>\n",
       "    <tr>\n",
       "      <td>18042</td>\n",
       "      <td>15</td>\n",
       "      <td>2950000.0</td>\n",
       "      <td>25.90</td>\n",
       "      <td>2017-12-09T00:00:00</td>\n",
       "      <td>0</td>\n",
       "      <td>NaN</td>\n",
       "      <td>14.0</td>\n",
       "      <td>16.9</td>\n",
       "      <td>9</td>\n",
       "      <td>False</td>\n",
       "      <td>...</td>\n",
       "      <td>NaN</td>\n",
       "      <td>2.0</td>\n",
       "      <td>санкт-петербург</td>\n",
       "      <td>23239.0</td>\n",
       "      <td>12102.0</td>\n",
       "      <td>1.0</td>\n",
       "      <td>1021.0</td>\n",
       "      <td>1.0</td>\n",
       "      <td>893.0</td>\n",
       "      <td>45.0</td>\n",
       "    </tr>\n",
       "    <tr>\n",
       "      <td>18549</td>\n",
       "      <td>16</td>\n",
       "      <td>3699000.0</td>\n",
       "      <td>29.00</td>\n",
       "      <td>2017-11-11T00:00:00</td>\n",
       "      <td>0</td>\n",
       "      <td>NaN</td>\n",
       "      <td>16.0</td>\n",
       "      <td>19.0</td>\n",
       "      <td>11</td>\n",
       "      <td>False</td>\n",
       "      <td>...</td>\n",
       "      <td>NaN</td>\n",
       "      <td>2.0</td>\n",
       "      <td>санкт-петербург</td>\n",
       "      <td>10949.0</td>\n",
       "      <td>12890.0</td>\n",
       "      <td>0.0</td>\n",
       "      <td>NaN</td>\n",
       "      <td>0.0</td>\n",
       "      <td>NaN</td>\n",
       "      <td>70.0</td>\n",
       "    </tr>\n",
       "    <tr>\n",
       "      <td>18782</td>\n",
       "      <td>0</td>\n",
       "      <td>2500000.0</td>\n",
       "      <td>25.00</td>\n",
       "      <td>2017-10-08T00:00:00</td>\n",
       "      <td>0</td>\n",
       "      <td>NaN</td>\n",
       "      <td>22.0</td>\n",
       "      <td>17.0</td>\n",
       "      <td>19</td>\n",
       "      <td>False</td>\n",
       "      <td>...</td>\n",
       "      <td>NaN</td>\n",
       "      <td>1.0</td>\n",
       "      <td>деревня кудрово</td>\n",
       "      <td>NaN</td>\n",
       "      <td>NaN</td>\n",
       "      <td>NaN</td>\n",
       "      <td>NaN</td>\n",
       "      <td>NaN</td>\n",
       "      <td>NaN</td>\n",
       "      <td>8.0</td>\n",
       "    </tr>\n",
       "    <tr>\n",
       "      <td>19392</td>\n",
       "      <td>5</td>\n",
       "      <td>71000000.0</td>\n",
       "      <td>371.00</td>\n",
       "      <td>2018-07-26T00:00:00</td>\n",
       "      <td>0</td>\n",
       "      <td>3.57</td>\n",
       "      <td>7.0</td>\n",
       "      <td>NaN</td>\n",
       "      <td>6</td>\n",
       "      <td>False</td>\n",
       "      <td>...</td>\n",
       "      <td>NaN</td>\n",
       "      <td>0.0</td>\n",
       "      <td>санкт-петербург</td>\n",
       "      <td>25257.0</td>\n",
       "      <td>6060.0</td>\n",
       "      <td>1.0</td>\n",
       "      <td>761.0</td>\n",
       "      <td>1.0</td>\n",
       "      <td>584.0</td>\n",
       "      <td>90.0</td>\n",
       "    </tr>\n",
       "    <tr>\n",
       "      <td>19477</td>\n",
       "      <td>11</td>\n",
       "      <td>2300000.0</td>\n",
       "      <td>20.00</td>\n",
       "      <td>2017-11-10T00:00:00</td>\n",
       "      <td>0</td>\n",
       "      <td>NaN</td>\n",
       "      <td>10.0</td>\n",
       "      <td>16.0</td>\n",
       "      <td>1</td>\n",
       "      <td>False</td>\n",
       "      <td>...</td>\n",
       "      <td>NaN</td>\n",
       "      <td>0.0</td>\n",
       "      <td>санкт-петербург</td>\n",
       "      <td>29791.0</td>\n",
       "      <td>12652.0</td>\n",
       "      <td>0.0</td>\n",
       "      <td>NaN</td>\n",
       "      <td>1.0</td>\n",
       "      <td>815.0</td>\n",
       "      <td>35.0</td>\n",
       "    </tr>\n",
       "    <tr>\n",
       "      <td>19735</td>\n",
       "      <td>1</td>\n",
       "      <td>2800000.0</td>\n",
       "      <td>30.50</td>\n",
       "      <td>2017-10-10T00:00:00</td>\n",
       "      <td>0</td>\n",
       "      <td>2.75</td>\n",
       "      <td>25.0</td>\n",
       "      <td>20.0</td>\n",
       "      <td>2</td>\n",
       "      <td>False</td>\n",
       "      <td>...</td>\n",
       "      <td>NaN</td>\n",
       "      <td>2.0</td>\n",
       "      <td>деревня кудрово</td>\n",
       "      <td>NaN</td>\n",
       "      <td>NaN</td>\n",
       "      <td>NaN</td>\n",
       "      <td>NaN</td>\n",
       "      <td>NaN</td>\n",
       "      <td>NaN</td>\n",
       "      <td>13.0</td>\n",
       "    </tr>\n",
       "    <tr>\n",
       "      <td>19917</td>\n",
       "      <td>5</td>\n",
       "      <td>2340000.0</td>\n",
       "      <td>25.41</td>\n",
       "      <td>2017-09-29T00:00:00</td>\n",
       "      <td>0</td>\n",
       "      <td>NaN</td>\n",
       "      <td>25.0</td>\n",
       "      <td>18.5</td>\n",
       "      <td>13</td>\n",
       "      <td>False</td>\n",
       "      <td>...</td>\n",
       "      <td>NaN</td>\n",
       "      <td>0.0</td>\n",
       "      <td>деревня кудрово</td>\n",
       "      <td>NaN</td>\n",
       "      <td>NaN</td>\n",
       "      <td>NaN</td>\n",
       "      <td>NaN</td>\n",
       "      <td>NaN</td>\n",
       "      <td>NaN</td>\n",
       "      <td>3.0</td>\n",
       "    </tr>\n",
       "    <tr>\n",
       "      <td>20002</td>\n",
       "      <td>8</td>\n",
       "      <td>2700000.0</td>\n",
       "      <td>28.00</td>\n",
       "      <td>2017-11-10T00:00:00</td>\n",
       "      <td>0</td>\n",
       "      <td>NaN</td>\n",
       "      <td>21.0</td>\n",
       "      <td>20.0</td>\n",
       "      <td>6</td>\n",
       "      <td>False</td>\n",
       "      <td>...</td>\n",
       "      <td>NaN</td>\n",
       "      <td>2.0</td>\n",
       "      <td>санкт-петербург</td>\n",
       "      <td>21460.0</td>\n",
       "      <td>16788.0</td>\n",
       "      <td>0.0</td>\n",
       "      <td>NaN</td>\n",
       "      <td>1.0</td>\n",
       "      <td>170.0</td>\n",
       "      <td>17.0</td>\n",
       "    </tr>\n",
       "    <tr>\n",
       "      <td>20045</td>\n",
       "      <td>3</td>\n",
       "      <td>3100000.0</td>\n",
       "      <td>25.00</td>\n",
       "      <td>2017-09-27T00:00:00</td>\n",
       "      <td>0</td>\n",
       "      <td>NaN</td>\n",
       "      <td>24.0</td>\n",
       "      <td>18.0</td>\n",
       "      <td>24</td>\n",
       "      <td>False</td>\n",
       "      <td>...</td>\n",
       "      <td>NaN</td>\n",
       "      <td>2.0</td>\n",
       "      <td>санкт-петербург</td>\n",
       "      <td>33416.0</td>\n",
       "      <td>14557.0</td>\n",
       "      <td>0.0</td>\n",
       "      <td>NaN</td>\n",
       "      <td>0.0</td>\n",
       "      <td>NaN</td>\n",
       "      <td>7.0</td>\n",
       "    </tr>\n",
       "    <tr>\n",
       "      <td>20054</td>\n",
       "      <td>5</td>\n",
       "      <td>2730000.0</td>\n",
       "      <td>21.00</td>\n",
       "      <td>2017-11-22T00:00:00</td>\n",
       "      <td>0</td>\n",
       "      <td>NaN</td>\n",
       "      <td>9.0</td>\n",
       "      <td>14.0</td>\n",
       "      <td>6</td>\n",
       "      <td>False</td>\n",
       "      <td>...</td>\n",
       "      <td>NaN</td>\n",
       "      <td>0.0</td>\n",
       "      <td>санкт-петербург</td>\n",
       "      <td>17048.0</td>\n",
       "      <td>5936.0</td>\n",
       "      <td>2.0</td>\n",
       "      <td>462.0</td>\n",
       "      <td>0.0</td>\n",
       "      <td>NaN</td>\n",
       "      <td>45.0</td>\n",
       "    </tr>\n",
       "    <tr>\n",
       "      <td>20793</td>\n",
       "      <td>13</td>\n",
       "      <td>3600000.0</td>\n",
       "      <td>27.50</td>\n",
       "      <td>2017-11-10T00:00:00</td>\n",
       "      <td>0</td>\n",
       "      <td>NaN</td>\n",
       "      <td>24.0</td>\n",
       "      <td>19.0</td>\n",
       "      <td>23</td>\n",
       "      <td>False</td>\n",
       "      <td>...</td>\n",
       "      <td>NaN</td>\n",
       "      <td>2.0</td>\n",
       "      <td>санкт-петербург</td>\n",
       "      <td>11555.0</td>\n",
       "      <td>12099.0</td>\n",
       "      <td>0.0</td>\n",
       "      <td>NaN</td>\n",
       "      <td>1.0</td>\n",
       "      <td>527.0</td>\n",
       "      <td>74.0</td>\n",
       "    </tr>\n",
       "    <tr>\n",
       "      <td>21299</td>\n",
       "      <td>13</td>\n",
       "      <td>2450000.0</td>\n",
       "      <td>28.50</td>\n",
       "      <td>2017-11-22T00:00:00</td>\n",
       "      <td>0</td>\n",
       "      <td>NaN</td>\n",
       "      <td>12.0</td>\n",
       "      <td>18.0</td>\n",
       "      <td>7</td>\n",
       "      <td>False</td>\n",
       "      <td>...</td>\n",
       "      <td>NaN</td>\n",
       "      <td>2.0</td>\n",
       "      <td>санкт-петербург</td>\n",
       "      <td>20381.0</td>\n",
       "      <td>19383.0</td>\n",
       "      <td>0.0</td>\n",
       "      <td>NaN</td>\n",
       "      <td>1.0</td>\n",
       "      <td>579.0</td>\n",
       "      <td>73.0</td>\n",
       "    </tr>\n",
       "    <tr>\n",
       "      <td>21628</td>\n",
       "      <td>9</td>\n",
       "      <td>3900000.0</td>\n",
       "      <td>34.00</td>\n",
       "      <td>2017-03-18T00:00:00</td>\n",
       "      <td>0</td>\n",
       "      <td>NaN</td>\n",
       "      <td>20.0</td>\n",
       "      <td>24.0</td>\n",
       "      <td>10</td>\n",
       "      <td>False</td>\n",
       "      <td>...</td>\n",
       "      <td>NaN</td>\n",
       "      <td>2.0</td>\n",
       "      <td>санкт-петербург</td>\n",
       "      <td>15506.0</td>\n",
       "      <td>13615.0</td>\n",
       "      <td>0.0</td>\n",
       "      <td>NaN</td>\n",
       "      <td>1.0</td>\n",
       "      <td>767.0</td>\n",
       "      <td>320.0</td>\n",
       "    </tr>\n",
       "    <tr>\n",
       "      <td>22573</td>\n",
       "      <td>8</td>\n",
       "      <td>2250000.0</td>\n",
       "      <td>24.00</td>\n",
       "      <td>2017-09-28T00:00:00</td>\n",
       "      <td>0</td>\n",
       "      <td>NaN</td>\n",
       "      <td>12.0</td>\n",
       "      <td>15.0</td>\n",
       "      <td>3</td>\n",
       "      <td>False</td>\n",
       "      <td>...</td>\n",
       "      <td>NaN</td>\n",
       "      <td>2.0</td>\n",
       "      <td>городской поселок новоселье</td>\n",
       "      <td>NaN</td>\n",
       "      <td>NaN</td>\n",
       "      <td>NaN</td>\n",
       "      <td>NaN</td>\n",
       "      <td>NaN</td>\n",
       "      <td>NaN</td>\n",
       "      <td>45.0</td>\n",
       "    </tr>\n",
       "    <tr>\n",
       "      <td>23442</td>\n",
       "      <td>0</td>\n",
       "      <td>2500000.0</td>\n",
       "      <td>27.70</td>\n",
       "      <td>2017-09-28T00:00:00</td>\n",
       "      <td>0</td>\n",
       "      <td>NaN</td>\n",
       "      <td>24.0</td>\n",
       "      <td>18.0</td>\n",
       "      <td>4</td>\n",
       "      <td>False</td>\n",
       "      <td>...</td>\n",
       "      <td>NaN</td>\n",
       "      <td>2.0</td>\n",
       "      <td>поселок мурино</td>\n",
       "      <td>NaN</td>\n",
       "      <td>NaN</td>\n",
       "      <td>NaN</td>\n",
       "      <td>NaN</td>\n",
       "      <td>NaN</td>\n",
       "      <td>NaN</td>\n",
       "      <td>4.0</td>\n",
       "    </tr>\n",
       "    <tr>\n",
       "      <td>23592</td>\n",
       "      <td>10</td>\n",
       "      <td>1450000.0</td>\n",
       "      <td>29.00</td>\n",
       "      <td>2017-11-11T00:00:00</td>\n",
       "      <td>0</td>\n",
       "      <td>NaN</td>\n",
       "      <td>9.0</td>\n",
       "      <td>18.0</td>\n",
       "      <td>8</td>\n",
       "      <td>False</td>\n",
       "      <td>...</td>\n",
       "      <td>NaN</td>\n",
       "      <td>2.0</td>\n",
       "      <td>никольское</td>\n",
       "      <td>NaN</td>\n",
       "      <td>NaN</td>\n",
       "      <td>NaN</td>\n",
       "      <td>NaN</td>\n",
       "      <td>NaN</td>\n",
       "      <td>NaN</td>\n",
       "      <td>82.0</td>\n",
       "    </tr>\n",
       "  </tbody>\n",
       "</table>\n",
       "<p>59 rows × 22 columns</p>\n",
       "</div>"
      ],
      "text/plain": [
       "       total_images  last_price  total_area first_day_exposition  rooms  \\\n",
       "349               4   2320000.0       25.00  2017-09-27T00:00:00      0   \n",
       "508               0   3375000.0       34.40  2017-03-28T00:00:00      0   \n",
       "780               9   2600000.0       26.10  2018-02-20T00:00:00      0   \n",
       "839              14   1900000.0       35.00  2017-04-14T00:00:00      0   \n",
       "946               5   2200000.0       23.00  2016-09-27T00:00:00      0   \n",
       "1574              0   2200000.0       22.00  2017-11-03T00:00:00      0   \n",
       "1625              7   1980000.0       23.98  2018-02-01T00:00:00      0   \n",
       "2532              5   3500000.0       27.10  2018-02-01T00:00:00      0   \n",
       "3019             18   2100000.0       24.00  2017-11-10T00:00:00      0   \n",
       "4115              7   2600000.0       24.00  2018-02-01T00:00:00      0   \n",
       "4437             10   3200000.0       25.00  2017-10-16T00:00:00      0   \n",
       "4683              2   3650000.0       35.00  2018-02-01T00:00:00      0   \n",
       "4876              7   3000000.0       25.00  2017-09-27T00:00:00      0   \n",
       "5749             20   3590000.0       25.00  2017-08-30T00:00:00      0   \n",
       "6472             13   3620000.0       28.00  2017-11-10T00:00:00      0   \n",
       "6612             18   3590000.0       26.80  2017-11-10T00:00:00      0   \n",
       "6805              7   1850000.0       31.00  2017-11-10T00:00:00      0   \n",
       "7008              4   5200000.0       32.30  2017-09-14T00:00:00      0   \n",
       "7237              8   2999000.0       42.63  2017-11-27T00:00:00      0   \n",
       "7286              6   2580000.0       30.00  2018-02-07T00:00:00      0   \n",
       "7818             11   3300000.0       27.30  2018-04-06T00:00:00      0   \n",
       "9412              5   2100000.0       16.00  2017-12-10T00:00:00      0   \n",
       "9586              7   1670000.0       28.30  2017-09-27T00:00:00      0   \n",
       "9861             10   2350000.0       25.00  2017-12-03T00:00:00      0   \n",
       "10284             9   2700000.0       24.00  2017-01-23T00:00:00      0   \n",
       "10606            14   2950000.0       25.27  2017-11-17T00:00:00      0   \n",
       "11035             1   2500000.0       26.00  2017-11-10T00:00:00      0   \n",
       "11051             2   2200000.0       26.00  2017-10-24T00:00:00      0   \n",
       "11157             0   2900000.0       27.30  2017-11-22T00:00:00      0   \n",
       "11331             6   1315000.0       27.32  2017-09-29T00:00:00      0   \n",
       "11692             0   2550000.0       23.06  2017-10-24T00:00:00      0   \n",
       "11705             5   3380000.0       26.00  2018-02-20T00:00:00      0   \n",
       "12412             0   3300000.0       27.00  2017-08-15T00:00:00      0   \n",
       "12691             1   3700000.0       24.20  2017-11-10T00:00:00      0   \n",
       "13953            21   3255000.0       28.20  2017-09-26T00:00:00      0   \n",
       "15105             8   2500000.0       26.10  2017-12-01T00:00:00      0   \n",
       "15273             9   2700000.0       25.20  2017-11-10T00:00:00      0   \n",
       "15434             0   2200000.0       27.00  2017-01-01T00:00:00      0   \n",
       "16429             2   2460000.0       28.01  2017-08-17T00:00:00      0   \n",
       "17695             7   2550000.0       24.00  2017-12-16T00:00:00      0   \n",
       "17729             7   2948000.0       28.05  2017-12-09T00:00:00      0   \n",
       "17805            17   2600000.0       31.10  2017-10-25T00:00:00      0   \n",
       "17824            10   2300000.0       22.50  2017-09-27T00:00:00      0   \n",
       "18042            15   2950000.0       25.90  2017-12-09T00:00:00      0   \n",
       "18549            16   3699000.0       29.00  2017-11-11T00:00:00      0   \n",
       "18782             0   2500000.0       25.00  2017-10-08T00:00:00      0   \n",
       "19392             5  71000000.0      371.00  2018-07-26T00:00:00      0   \n",
       "19477            11   2300000.0       20.00  2017-11-10T00:00:00      0   \n",
       "19735             1   2800000.0       30.50  2017-10-10T00:00:00      0   \n",
       "19917             5   2340000.0       25.41  2017-09-29T00:00:00      0   \n",
       "20002             8   2700000.0       28.00  2017-11-10T00:00:00      0   \n",
       "20045             3   3100000.0       25.00  2017-09-27T00:00:00      0   \n",
       "20054             5   2730000.0       21.00  2017-11-22T00:00:00      0   \n",
       "20793            13   3600000.0       27.50  2017-11-10T00:00:00      0   \n",
       "21299            13   2450000.0       28.50  2017-11-22T00:00:00      0   \n",
       "21628             9   3900000.0       34.00  2017-03-18T00:00:00      0   \n",
       "22573             8   2250000.0       24.00  2017-09-28T00:00:00      0   \n",
       "23442             0   2500000.0       27.70  2017-09-28T00:00:00      0   \n",
       "23592            10   1450000.0       29.00  2017-11-11T00:00:00      0   \n",
       "\n",
       "       ceiling_height  floors_total  living_area  floor  is_apartment  ...  \\\n",
       "349               NaN          14.0         17.0      1         False  ...   \n",
       "508               NaN          26.0         24.3     19         False  ...   \n",
       "780               NaN          18.0          NaN      8         False  ...   \n",
       "839              2.70           5.0         15.0      3         False  ...   \n",
       "946               NaN          27.0         18.0      7         False  ...   \n",
       "1574              NaN          18.0         15.0     16         False  ...   \n",
       "1625              NaN           4.0         10.5      3         False  ...   \n",
       "2532              NaN          18.0         18.7      9         False  ...   \n",
       "3019              NaN          10.0         18.0      6         False  ...   \n",
       "4115              NaN          25.0         18.0      4         False  ...   \n",
       "4437              NaN           9.0         18.6      9         False  ...   \n",
       "4683              NaN          25.0         23.4     25         False  ...   \n",
       "4876            27.00          25.0         17.0     17         False  ...   \n",
       "5749             2.80          35.0          NaN     26         False  ...   \n",
       "6472             2.70          20.0         18.0     17         False  ...   \n",
       "6612              NaN          24.0         19.0     20         False  ...   \n",
       "6805              NaN          18.0         18.0     10         False  ...   \n",
       "7008              NaN          11.0         25.5      4         False  ...   \n",
       "7237              NaN          16.0         25.7      2         False  ...   \n",
       "7286              NaN          18.0         19.0      2         False  ...   \n",
       "7818              NaN          20.0          NaN      9         False  ...   \n",
       "9412              NaN           6.0         13.0      1         False  ...   \n",
       "9586              NaN           9.0         18.2      3         False  ...   \n",
       "9861              NaN          22.0         25.0     17         False  ...   \n",
       "10284             NaN          12.0         15.5     11         False  ...   \n",
       "10606             NaN          25.0         25.0     11         False  ...   \n",
       "11035             NaN           8.0         14.0      6         False  ...   \n",
       "11051             NaN          21.0         12.0     21         False  ...   \n",
       "11157            2.80           8.0         20.0      5         False  ...   \n",
       "11331            2.70          15.0         18.7     15         False  ...   \n",
       "11692            2.80          14.0         18.0      9         False  ...   \n",
       "11705            2.80          17.0         17.0      8         False  ...   \n",
       "12412             NaN          25.0         25.0     22         False  ...   \n",
       "12691             NaN          19.0         24.2     13         False  ...   \n",
       "13953             NaN          24.0         20.0      2         False  ...   \n",
       "15105             NaN          25.0         18.0      4         False  ...   \n",
       "15273             NaN           9.0         15.2      2         False  ...   \n",
       "15434             NaN          25.0         15.0      5         False  ...   \n",
       "16429             NaN          17.0         18.1      5         False  ...   \n",
       "17695             NaN          23.0         17.0      8         False  ...   \n",
       "17729             NaN          14.0         21.8      9         False  ...   \n",
       "17805             NaN          16.0         21.4     14         False  ...   \n",
       "17824             NaN          22.0         20.0      7         False  ...   \n",
       "18042             NaN          14.0         16.9      9         False  ...   \n",
       "18549             NaN          16.0         19.0     11         False  ...   \n",
       "18782             NaN          22.0         17.0     19         False  ...   \n",
       "19392            3.57           7.0          NaN      6         False  ...   \n",
       "19477             NaN          10.0         16.0      1         False  ...   \n",
       "19735            2.75          25.0         20.0      2         False  ...   \n",
       "19917             NaN          25.0         18.5     13         False  ...   \n",
       "20002             NaN          21.0         20.0      6         False  ...   \n",
       "20045             NaN          24.0         18.0     24         False  ...   \n",
       "20054             NaN           9.0         14.0      6         False  ...   \n",
       "20793             NaN          24.0         19.0     23         False  ...   \n",
       "21299             NaN          12.0         18.0      7         False  ...   \n",
       "21628             NaN          20.0         24.0     10         False  ...   \n",
       "22573             NaN          12.0         15.0      3         False  ...   \n",
       "23442             NaN          24.0         18.0      4         False  ...   \n",
       "23592             NaN           9.0         18.0      8         False  ...   \n",
       "\n",
       "       kitchen_area  balcony                locality_name  airports_nearest  \\\n",
       "349             NaN      0.0              деревня кудрово               NaN   \n",
       "508             NaN      1.0            поселок парголово           53115.0   \n",
       "780             NaN      1.0               поселок мурино               NaN   \n",
       "839             NaN      1.0           поселок новый свет               NaN   \n",
       "946             NaN      2.0               поселок мурино               NaN   \n",
       "1574            NaN      1.0              деревня кудрово               NaN   \n",
       "1625            NaN      1.0      поселок станции корнево               NaN   \n",
       "2532            NaN      2.0              санкт-петербург           32036.0   \n",
       "3019            NaN      2.0                    сертолово               NaN   \n",
       "4115            NaN      2.0              санкт-петербург           10031.0   \n",
       "4437            NaN      2.0              санкт-петербург           11943.0   \n",
       "4683            NaN      0.0              санкт-петербург           43431.0   \n",
       "4876            NaN      2.0               поселок мурино               NaN   \n",
       "5749            NaN      2.0              санкт-петербург           18732.0   \n",
       "6472            NaN      2.0              санкт-петербург           35068.0   \n",
       "6612            NaN      0.0              санкт-петербург           11022.0   \n",
       "6805            NaN      1.0                   никольское               NaN   \n",
       "7008            NaN      0.0              санкт-петербург           30824.0   \n",
       "7237            NaN      2.0              деревня кудрово               NaN   \n",
       "7286            NaN      0.0            поселок парголово           52610.0   \n",
       "7818            NaN      2.0              санкт-петербург           15990.0   \n",
       "9412            NaN      0.0              санкт-петербург           20735.0   \n",
       "9586            NaN      0.0                   никольское               NaN   \n",
       "9861            NaN      2.0               поселок мурино               NaN   \n",
       "10284           NaN      1.0              деревня кудрово               NaN   \n",
       "10606           NaN      1.0              санкт-петербург           11405.0   \n",
       "11035           NaN      0.0    городской поселок янино-1               NaN   \n",
       "11051           NaN      2.0              деревня кудрово               NaN   \n",
       "11157           NaN      0.0              санкт-петербург           38832.0   \n",
       "11331           NaN      0.0                   никольское               NaN   \n",
       "11692           NaN      2.0              деревня кудрово               NaN   \n",
       "11705           NaN      1.0              санкт-петербург           15706.0   \n",
       "12412           NaN      0.0              санкт-петербург           12199.0   \n",
       "12691           NaN      1.0              санкт-петербург           17837.0   \n",
       "13953           NaN      0.0              санкт-петербург           41466.0   \n",
       "15105           NaN      2.0               поселок мурино               NaN   \n",
       "15273           NaN      2.0              деревня кудрово               NaN   \n",
       "15434           NaN      2.0            поселок парголово           53791.0   \n",
       "16429           NaN      1.0              деревня кудрово               NaN   \n",
       "17695           NaN      1.0              деревня кудрово               NaN   \n",
       "17729           NaN      2.0              санкт-петербург           22098.0   \n",
       "17805           NaN      2.0              санкт-петербург           19212.0   \n",
       "17824           NaN      2.0               поселок мурино               NaN   \n",
       "18042           NaN      2.0              санкт-петербург           23239.0   \n",
       "18549           NaN      2.0              санкт-петербург           10949.0   \n",
       "18782           NaN      1.0              деревня кудрово               NaN   \n",
       "19392           NaN      0.0              санкт-петербург           25257.0   \n",
       "19477           NaN      0.0              санкт-петербург           29791.0   \n",
       "19735           NaN      2.0              деревня кудрово               NaN   \n",
       "19917           NaN      0.0              деревня кудрово               NaN   \n",
       "20002           NaN      2.0              санкт-петербург           21460.0   \n",
       "20045           NaN      2.0              санкт-петербург           33416.0   \n",
       "20054           NaN      0.0              санкт-петербург           17048.0   \n",
       "20793           NaN      2.0              санкт-петербург           11555.0   \n",
       "21299           NaN      2.0              санкт-петербург           20381.0   \n",
       "21628           NaN      2.0              санкт-петербург           15506.0   \n",
       "22573           NaN      2.0  городской поселок новоселье               NaN   \n",
       "23442           NaN      2.0               поселок мурино               NaN   \n",
       "23592           NaN      2.0                   никольское               NaN   \n",
       "\n",
       "      city_centers_nearest  parks_around_3km  parks_nearest  ponds_around_3km  \\\n",
       "349                    NaN               NaN            NaN               NaN   \n",
       "508                19292.0               0.0            NaN               1.0   \n",
       "780                    NaN               NaN            NaN               NaN   \n",
       "839                    NaN               NaN            NaN               NaN   \n",
       "946                    NaN               NaN            NaN               NaN   \n",
       "1574                   NaN               NaN            NaN               NaN   \n",
       "1625                   NaN               NaN            NaN               NaN   \n",
       "2532                8175.0               0.0            NaN               1.0   \n",
       "3019                   NaN               NaN            NaN               NaN   \n",
       "4115               13330.0               1.0          915.0               0.0   \n",
       "4437               11710.0               1.0          518.0               1.0   \n",
       "4683               12188.0               0.0            NaN               0.0   \n",
       "4876                   NaN               NaN            NaN               NaN   \n",
       "5749               20444.0               0.0            NaN               3.0   \n",
       "6472               16167.0               0.0            NaN               0.0   \n",
       "6612               12679.0               0.0            NaN               0.0   \n",
       "6805                   NaN               NaN            NaN               NaN   \n",
       "7008                6469.0               1.0          756.0               1.0   \n",
       "7237                   NaN               NaN            NaN               NaN   \n",
       "7286               18787.0               0.0            NaN               0.0   \n",
       "7818               13853.0               0.0            NaN               1.0   \n",
       "9412                2111.0               2.0          228.0               3.0   \n",
       "9586                   NaN               NaN            NaN               NaN   \n",
       "9861                   NaN               NaN            NaN               NaN   \n",
       "10284                  NaN               NaN            NaN               NaN   \n",
       "10606              13222.0               0.0            NaN               1.0   \n",
       "11035                  NaN               NaN            NaN               NaN   \n",
       "11051                  NaN               NaN            NaN               NaN   \n",
       "11157              13729.0               0.0            NaN               0.0   \n",
       "11331                  NaN               NaN            NaN               NaN   \n",
       "11692                  NaN               NaN            NaN               NaN   \n",
       "11705               7734.0               2.0          592.0               1.0   \n",
       "12412              12111.0               0.0            NaN               1.0   \n",
       "12691              16840.0               0.0            NaN               2.0   \n",
       "13953              11538.0               0.0            NaN               0.0   \n",
       "15105                  NaN               NaN            NaN               NaN   \n",
       "15273                  NaN               NaN            NaN               NaN   \n",
       "15434              18006.0               1.0          733.0               3.0   \n",
       "16429                  NaN               NaN            NaN               NaN   \n",
       "17695                  NaN               NaN            NaN               NaN   \n",
       "17729              23810.0               0.0            NaN               2.0   \n",
       "17805              22637.0               0.0            NaN               1.0   \n",
       "17824                  NaN               NaN            NaN               NaN   \n",
       "18042              12102.0               1.0         1021.0               1.0   \n",
       "18549              12890.0               0.0            NaN               0.0   \n",
       "18782                  NaN               NaN            NaN               NaN   \n",
       "19392               6060.0               1.0          761.0               1.0   \n",
       "19477              12652.0               0.0            NaN               1.0   \n",
       "19735                  NaN               NaN            NaN               NaN   \n",
       "19917                  NaN               NaN            NaN               NaN   \n",
       "20002              16788.0               0.0            NaN               1.0   \n",
       "20045              14557.0               0.0            NaN               0.0   \n",
       "20054               5936.0               2.0          462.0               0.0   \n",
       "20793              12099.0               0.0            NaN               1.0   \n",
       "21299              19383.0               0.0            NaN               1.0   \n",
       "21628              13615.0               0.0            NaN               1.0   \n",
       "22573                  NaN               NaN            NaN               NaN   \n",
       "23442                  NaN               NaN            NaN               NaN   \n",
       "23592                  NaN               NaN            NaN               NaN   \n",
       "\n",
       "       ponds_nearest  days_exposition  \n",
       "349              NaN             45.0  \n",
       "508            593.0            430.0  \n",
       "780              NaN             45.0  \n",
       "839              NaN              7.0  \n",
       "946              NaN            483.0  \n",
       "1574             NaN             81.0  \n",
       "1625             NaN            120.0  \n",
       "2532           644.0             70.0  \n",
       "3019             NaN              5.0  \n",
       "4115             NaN             42.0  \n",
       "4437           232.0             97.0  \n",
       "4683             NaN            100.0  \n",
       "4876             NaN             28.0  \n",
       "5749            80.0            198.0  \n",
       "6472             NaN             37.0  \n",
       "6612             NaN             15.0  \n",
       "6805             NaN              7.0  \n",
       "7008           936.0             86.0  \n",
       "7237             NaN             45.0  \n",
       "7286             NaN             41.0  \n",
       "7818           584.0             31.0  \n",
       "9412            72.0              3.0  \n",
       "9586             NaN             45.0  \n",
       "9861             NaN             13.0  \n",
       "10284            NaN            357.0  \n",
       "10606          623.0             51.0  \n",
       "11035            NaN             22.0  \n",
       "11051            NaN             35.0  \n",
       "11157            NaN              9.0  \n",
       "11331            NaN            116.0  \n",
       "11692            NaN             20.0  \n",
       "11705          802.0             45.0  \n",
       "12412          337.0            161.0  \n",
       "12691          210.0             74.0  \n",
       "13953            NaN            119.0  \n",
       "15105            NaN             45.0  \n",
       "15273            NaN             23.0  \n",
       "15434          865.0            336.0  \n",
       "16429            NaN             15.0  \n",
       "17695            NaN             38.0  \n",
       "17729          100.0             45.0  \n",
       "17805          457.0             44.0  \n",
       "17824            NaN             11.0  \n",
       "18042          893.0             45.0  \n",
       "18549            NaN             70.0  \n",
       "18782            NaN              8.0  \n",
       "19392          584.0             90.0  \n",
       "19477          815.0             35.0  \n",
       "19735            NaN             13.0  \n",
       "19917            NaN              3.0  \n",
       "20002          170.0             17.0  \n",
       "20045            NaN              7.0  \n",
       "20054            NaN             45.0  \n",
       "20793          527.0             74.0  \n",
       "21299          579.0             73.0  \n",
       "21628          767.0            320.0  \n",
       "22573            NaN             45.0  \n",
       "23442            NaN              4.0  \n",
       "23592            NaN             82.0  \n",
       "\n",
       "[59 rows x 22 columns]"
      ]
     },
     "execution_count": 20,
     "metadata": {},
     "output_type": "execute_result"
    }
   ],
   "source": [
    "df[(df['rooms'] == 0) & (df['is_open_plan'] == True)]"
   ]
  },
  {
   "cell_type": "code",
   "execution_count": 21,
   "metadata": {},
   "outputs": [
    {
     "data": {
      "text/html": [
       "<div>\n",
       "<style scoped>\n",
       "    .dataframe tbody tr th:only-of-type {\n",
       "        vertical-align: middle;\n",
       "    }\n",
       "\n",
       "    .dataframe tbody tr th {\n",
       "        vertical-align: top;\n",
       "    }\n",
       "\n",
       "    .dataframe thead th {\n",
       "        text-align: right;\n",
       "    }\n",
       "</style>\n",
       "<table border=\"1\" class=\"dataframe\">\n",
       "  <thead>\n",
       "    <tr style=\"text-align: right;\">\n",
       "      <th></th>\n",
       "      <th>total_images</th>\n",
       "      <th>last_price</th>\n",
       "      <th>total_area</th>\n",
       "      <th>first_day_exposition</th>\n",
       "      <th>rooms</th>\n",
       "      <th>ceiling_height</th>\n",
       "      <th>floors_total</th>\n",
       "      <th>living_area</th>\n",
       "      <th>floor</th>\n",
       "      <th>is_apartment</th>\n",
       "      <th>...</th>\n",
       "      <th>kitchen_area</th>\n",
       "      <th>balcony</th>\n",
       "      <th>locality_name</th>\n",
       "      <th>airports_nearest</th>\n",
       "      <th>city_centers_nearest</th>\n",
       "      <th>parks_around_3km</th>\n",
       "      <th>parks_nearest</th>\n",
       "      <th>ponds_around_3km</th>\n",
       "      <th>ponds_nearest</th>\n",
       "      <th>days_exposition</th>\n",
       "    </tr>\n",
       "  </thead>\n",
       "  <tbody>\n",
       "    <tr>\n",
       "      <td>144</td>\n",
       "      <td>1</td>\n",
       "      <td>2450000.0</td>\n",
       "      <td>27.00</td>\n",
       "      <td>2017-03-30T00:00:00</td>\n",
       "      <td>0</td>\n",
       "      <td>NaN</td>\n",
       "      <td>24.0</td>\n",
       "      <td>15.50</td>\n",
       "      <td>2</td>\n",
       "      <td>False</td>\n",
       "      <td>...</td>\n",
       "      <td>NaN</td>\n",
       "      <td>2.0</td>\n",
       "      <td>поселок мурино</td>\n",
       "      <td>NaN</td>\n",
       "      <td>NaN</td>\n",
       "      <td>NaN</td>\n",
       "      <td>NaN</td>\n",
       "      <td>NaN</td>\n",
       "      <td>NaN</td>\n",
       "      <td>181.0</td>\n",
       "    </tr>\n",
       "    <tr>\n",
       "      <td>440</td>\n",
       "      <td>8</td>\n",
       "      <td>2480000.0</td>\n",
       "      <td>27.11</td>\n",
       "      <td>2018-03-12T00:00:00</td>\n",
       "      <td>0</td>\n",
       "      <td>NaN</td>\n",
       "      <td>17.0</td>\n",
       "      <td>24.75</td>\n",
       "      <td>4</td>\n",
       "      <td>False</td>\n",
       "      <td>...</td>\n",
       "      <td>NaN</td>\n",
       "      <td>2.0</td>\n",
       "      <td>санкт-петербург</td>\n",
       "      <td>38171.0</td>\n",
       "      <td>15015.0</td>\n",
       "      <td>0.0</td>\n",
       "      <td>NaN</td>\n",
       "      <td>2.0</td>\n",
       "      <td>982.0</td>\n",
       "      <td>64.0</td>\n",
       "    </tr>\n",
       "    <tr>\n",
       "      <td>608</td>\n",
       "      <td>2</td>\n",
       "      <td>1850000.0</td>\n",
       "      <td>25.00</td>\n",
       "      <td>2019-02-20T00:00:00</td>\n",
       "      <td>0</td>\n",
       "      <td>NaN</td>\n",
       "      <td>10.0</td>\n",
       "      <td>NaN</td>\n",
       "      <td>7</td>\n",
       "      <td>False</td>\n",
       "      <td>...</td>\n",
       "      <td>NaN</td>\n",
       "      <td>0.0</td>\n",
       "      <td>поселок шушары</td>\n",
       "      <td>NaN</td>\n",
       "      <td>NaN</td>\n",
       "      <td>NaN</td>\n",
       "      <td>NaN</td>\n",
       "      <td>NaN</td>\n",
       "      <td>NaN</td>\n",
       "      <td>29.0</td>\n",
       "    </tr>\n",
       "    <tr>\n",
       "      <td>697</td>\n",
       "      <td>12</td>\n",
       "      <td>2500000.0</td>\n",
       "      <td>24.10</td>\n",
       "      <td>2017-12-01T00:00:00</td>\n",
       "      <td>0</td>\n",
       "      <td>2.75</td>\n",
       "      <td>25.0</td>\n",
       "      <td>17.50</td>\n",
       "      <td>21</td>\n",
       "      <td>False</td>\n",
       "      <td>...</td>\n",
       "      <td>NaN</td>\n",
       "      <td>0.0</td>\n",
       "      <td>деревня кудрово</td>\n",
       "      <td>NaN</td>\n",
       "      <td>NaN</td>\n",
       "      <td>NaN</td>\n",
       "      <td>NaN</td>\n",
       "      <td>NaN</td>\n",
       "      <td>NaN</td>\n",
       "      <td>201.0</td>\n",
       "    </tr>\n",
       "    <tr>\n",
       "      <td>716</td>\n",
       "      <td>5</td>\n",
       "      <td>1500000.0</td>\n",
       "      <td>17.00</td>\n",
       "      <td>2017-06-07T00:00:00</td>\n",
       "      <td>0</td>\n",
       "      <td>2.70</td>\n",
       "      <td>9.0</td>\n",
       "      <td>12.00</td>\n",
       "      <td>1</td>\n",
       "      <td>False</td>\n",
       "      <td>...</td>\n",
       "      <td>NaN</td>\n",
       "      <td>0.0</td>\n",
       "      <td>поселок шушары</td>\n",
       "      <td>18654.0</td>\n",
       "      <td>29846.0</td>\n",
       "      <td>0.0</td>\n",
       "      <td>NaN</td>\n",
       "      <td>0.0</td>\n",
       "      <td>NaN</td>\n",
       "      <td>40.0</td>\n",
       "    </tr>\n",
       "    <tr>\n",
       "      <td>...</td>\n",
       "      <td>...</td>\n",
       "      <td>...</td>\n",
       "      <td>...</td>\n",
       "      <td>...</td>\n",
       "      <td>...</td>\n",
       "      <td>...</td>\n",
       "      <td>...</td>\n",
       "      <td>...</td>\n",
       "      <td>...</td>\n",
       "      <td>...</td>\n",
       "      <td>...</td>\n",
       "      <td>...</td>\n",
       "      <td>...</td>\n",
       "      <td>...</td>\n",
       "      <td>...</td>\n",
       "      <td>...</td>\n",
       "      <td>...</td>\n",
       "      <td>...</td>\n",
       "      <td>...</td>\n",
       "      <td>...</td>\n",
       "      <td>...</td>\n",
       "    </tr>\n",
       "    <tr>\n",
       "      <td>22867</td>\n",
       "      <td>8</td>\n",
       "      <td>3090000.0</td>\n",
       "      <td>30.00</td>\n",
       "      <td>2017-12-17T00:00:00</td>\n",
       "      <td>0</td>\n",
       "      <td>NaN</td>\n",
       "      <td>25.0</td>\n",
       "      <td>18.20</td>\n",
       "      <td>5</td>\n",
       "      <td>False</td>\n",
       "      <td>...</td>\n",
       "      <td>NaN</td>\n",
       "      <td>0.0</td>\n",
       "      <td>санкт-петербург</td>\n",
       "      <td>35250.0</td>\n",
       "      <td>16414.0</td>\n",
       "      <td>0.0</td>\n",
       "      <td>NaN</td>\n",
       "      <td>1.0</td>\n",
       "      <td>400.0</td>\n",
       "      <td>211.0</td>\n",
       "    </tr>\n",
       "    <tr>\n",
       "      <td>22877</td>\n",
       "      <td>2</td>\n",
       "      <td>4280000.0</td>\n",
       "      <td>28.00</td>\n",
       "      <td>2017-10-26T00:00:00</td>\n",
       "      <td>0</td>\n",
       "      <td>2.70</td>\n",
       "      <td>19.0</td>\n",
       "      <td>18.00</td>\n",
       "      <td>10</td>\n",
       "      <td>False</td>\n",
       "      <td>...</td>\n",
       "      <td>NaN</td>\n",
       "      <td>0.0</td>\n",
       "      <td>санкт-петербург</td>\n",
       "      <td>18982.0</td>\n",
       "      <td>7206.0</td>\n",
       "      <td>0.0</td>\n",
       "      <td>NaN</td>\n",
       "      <td>1.0</td>\n",
       "      <td>415.0</td>\n",
       "      <td>151.0</td>\n",
       "    </tr>\n",
       "    <tr>\n",
       "      <td>23210</td>\n",
       "      <td>7</td>\n",
       "      <td>3200000.0</td>\n",
       "      <td>26.00</td>\n",
       "      <td>2017-09-01T00:00:00</td>\n",
       "      <td>0</td>\n",
       "      <td>NaN</td>\n",
       "      <td>25.0</td>\n",
       "      <td>18.00</td>\n",
       "      <td>16</td>\n",
       "      <td>False</td>\n",
       "      <td>...</td>\n",
       "      <td>NaN</td>\n",
       "      <td>0.0</td>\n",
       "      <td>санкт-петербург</td>\n",
       "      <td>11405.0</td>\n",
       "      <td>13222.0</td>\n",
       "      <td>0.0</td>\n",
       "      <td>NaN</td>\n",
       "      <td>1.0</td>\n",
       "      <td>623.0</td>\n",
       "      <td>14.0</td>\n",
       "    </tr>\n",
       "    <tr>\n",
       "      <td>23554</td>\n",
       "      <td>15</td>\n",
       "      <td>3350000.0</td>\n",
       "      <td>26.00</td>\n",
       "      <td>2018-09-07T00:00:00</td>\n",
       "      <td>0</td>\n",
       "      <td>NaN</td>\n",
       "      <td>19.0</td>\n",
       "      <td>NaN</td>\n",
       "      <td>8</td>\n",
       "      <td>False</td>\n",
       "      <td>...</td>\n",
       "      <td>NaN</td>\n",
       "      <td>0.0</td>\n",
       "      <td>санкт-петербург</td>\n",
       "      <td>18090.0</td>\n",
       "      <td>17092.0</td>\n",
       "      <td>0.0</td>\n",
       "      <td>NaN</td>\n",
       "      <td>2.0</td>\n",
       "      <td>112.0</td>\n",
       "      <td>31.0</td>\n",
       "    </tr>\n",
       "    <tr>\n",
       "      <td>23637</td>\n",
       "      <td>8</td>\n",
       "      <td>2350000.0</td>\n",
       "      <td>26.00</td>\n",
       "      <td>2018-06-26T00:00:00</td>\n",
       "      <td>0</td>\n",
       "      <td>NaN</td>\n",
       "      <td>25.0</td>\n",
       "      <td>17.00</td>\n",
       "      <td>4</td>\n",
       "      <td>False</td>\n",
       "      <td>...</td>\n",
       "      <td>NaN</td>\n",
       "      <td>2.0</td>\n",
       "      <td>поселок бугры</td>\n",
       "      <td>NaN</td>\n",
       "      <td>NaN</td>\n",
       "      <td>NaN</td>\n",
       "      <td>NaN</td>\n",
       "      <td>NaN</td>\n",
       "      <td>NaN</td>\n",
       "      <td>207.0</td>\n",
       "    </tr>\n",
       "  </tbody>\n",
       "</table>\n",
       "<p>135 rows × 22 columns</p>\n",
       "</div>"
      ],
      "text/plain": [
       "       total_images  last_price  total_area first_day_exposition  rooms  \\\n",
       "144               1   2450000.0       27.00  2017-03-30T00:00:00      0   \n",
       "440               8   2480000.0       27.11  2018-03-12T00:00:00      0   \n",
       "608               2   1850000.0       25.00  2019-02-20T00:00:00      0   \n",
       "697              12   2500000.0       24.10  2017-12-01T00:00:00      0   \n",
       "716               5   1500000.0       17.00  2017-06-07T00:00:00      0   \n",
       "...             ...         ...         ...                  ...    ...   \n",
       "22867             8   3090000.0       30.00  2017-12-17T00:00:00      0   \n",
       "22877             2   4280000.0       28.00  2017-10-26T00:00:00      0   \n",
       "23210             7   3200000.0       26.00  2017-09-01T00:00:00      0   \n",
       "23554            15   3350000.0       26.00  2018-09-07T00:00:00      0   \n",
       "23637             8   2350000.0       26.00  2018-06-26T00:00:00      0   \n",
       "\n",
       "       ceiling_height  floors_total  living_area  floor  is_apartment  ...  \\\n",
       "144               NaN          24.0        15.50      2         False  ...   \n",
       "440               NaN          17.0        24.75      4         False  ...   \n",
       "608               NaN          10.0          NaN      7         False  ...   \n",
       "697              2.75          25.0        17.50     21         False  ...   \n",
       "716              2.70           9.0        12.00      1         False  ...   \n",
       "...               ...           ...          ...    ...           ...  ...   \n",
       "22867             NaN          25.0        18.20      5         False  ...   \n",
       "22877            2.70          19.0        18.00     10         False  ...   \n",
       "23210             NaN          25.0        18.00     16         False  ...   \n",
       "23554             NaN          19.0          NaN      8         False  ...   \n",
       "23637             NaN          25.0        17.00      4         False  ...   \n",
       "\n",
       "       kitchen_area  balcony    locality_name  airports_nearest  \\\n",
       "144             NaN      2.0   поселок мурино               NaN   \n",
       "440             NaN      2.0  санкт-петербург           38171.0   \n",
       "608             NaN      0.0   поселок шушары               NaN   \n",
       "697             NaN      0.0  деревня кудрово               NaN   \n",
       "716             NaN      0.0   поселок шушары           18654.0   \n",
       "...             ...      ...              ...               ...   \n",
       "22867           NaN      0.0  санкт-петербург           35250.0   \n",
       "22877           NaN      0.0  санкт-петербург           18982.0   \n",
       "23210           NaN      0.0  санкт-петербург           11405.0   \n",
       "23554           NaN      0.0  санкт-петербург           18090.0   \n",
       "23637           NaN      2.0    поселок бугры               NaN   \n",
       "\n",
       "      city_centers_nearest  parks_around_3km  parks_nearest  ponds_around_3km  \\\n",
       "144                    NaN               NaN            NaN               NaN   \n",
       "440                15015.0               0.0            NaN               2.0   \n",
       "608                    NaN               NaN            NaN               NaN   \n",
       "697                    NaN               NaN            NaN               NaN   \n",
       "716                29846.0               0.0            NaN               0.0   \n",
       "...                    ...               ...            ...               ...   \n",
       "22867              16414.0               0.0            NaN               1.0   \n",
       "22877               7206.0               0.0            NaN               1.0   \n",
       "23210              13222.0               0.0            NaN               1.0   \n",
       "23554              17092.0               0.0            NaN               2.0   \n",
       "23637                  NaN               NaN            NaN               NaN   \n",
       "\n",
       "       ponds_nearest  days_exposition  \n",
       "144              NaN            181.0  \n",
       "440            982.0             64.0  \n",
       "608              NaN             29.0  \n",
       "697              NaN            201.0  \n",
       "716              NaN             40.0  \n",
       "...              ...              ...  \n",
       "22867          400.0            211.0  \n",
       "22877          415.0            151.0  \n",
       "23210          623.0             14.0  \n",
       "23554          112.0             31.0  \n",
       "23637            NaN            207.0  \n",
       "\n",
       "[135 rows x 22 columns]"
      ]
     },
     "execution_count": 21,
     "metadata": {},
     "output_type": "execute_result"
    }
   ],
   "source": [
    "df[(df['rooms'] == 0) & (df['is_studio'] == True)]"
   ]
  },
  {
   "cell_type": "markdown",
   "metadata": {},
   "source": [
    "Все 194 объявления с нулевым кол-вом комнат приходятся на студии и открытую планировку. Произведем замену."
   ]
  },
  {
   "cell_type": "code",
   "execution_count": 22,
   "metadata": {
    "scrolled": true
   },
   "outputs": [
    {
     "data": {
      "text/plain": [
       "0"
      ]
     },
     "execution_count": 22,
     "metadata": {},
     "output_type": "execute_result"
    }
   ],
   "source": [
    "df['rooms'] = df['rooms'].replace(0, 1)\n",
    "len(df[df['rooms'] == 0]) #проверка результатов"
   ]
  },
  {
   "cell_type": "markdown",
   "metadata": {},
   "source": [
    "Для показателя общего срока размещения объявления пропуски можно заполнить  медианным значением в зависимости от кол-ва комнат, ведь спрос на квартиры зависит от кол-ва комнат. Следовательно, для 1-комнатной и 5-комнатной квартиры спрос будет отличаться, общее время размещения объявления будет разниться."
   ]
  },
  {
   "cell_type": "code",
   "execution_count": 23,
   "metadata": {},
   "outputs": [
    {
     "name": "stdout",
     "output_type": "stream",
     "text": [
      "Количество пропусков до обработки 3171\n",
      "Количество пропусков после обработки 0\n"
     ]
    }
   ],
   "source": [
    "print('Количество пропусков до обработки', df['days_exposition'].isna().sum()) \n",
    "for room in df['rooms'].unique():\n",
    "    median_days_exposition = df.loc[df['rooms'] == room, 'days_exposition'].median()\n",
    "    df.loc[(df['days_exposition'].isna()) & (df['rooms'] == room), 'days_exposition'] = median_days_exposition\n",
    "print('Количество пропусков после обработки', df['days_exposition'].isna().sum()) "
   ]
  },
  {
   "cell_type": "markdown",
   "metadata": {},
   "source": [
    "Для таких важных в рамках анализа показателей как высота потолков, жилая площадь, площадь кухни заполним пропуcки медианными значениями в разрезе по кол-ву комнат объекта недвижимости."
   ]
  },
  {
   "cell_type": "code",
   "execution_count": 24,
   "metadata": {},
   "outputs": [
    {
     "name": "stdout",
     "output_type": "stream",
     "text": [
      "Количество пропусков до обработки 1865\n",
      "Количество пропусков после обработки 0\n"
     ]
    }
   ],
   "source": [
    "print('Количество пропусков до обработки', df['living_area'].isna().sum()) \n",
    "for room in df['rooms'].unique():\n",
    "    median_living_area = df.loc[df['rooms'] == room, 'living_area'].median()\n",
    "    df.loc[(df['living_area'].isna()) & (df['rooms'] == room), 'living_area'] = median_living_area\n",
    "print('Количество пропусков после обработки', df['living_area'].isna().sum()) "
   ]
  },
  {
   "cell_type": "code",
   "execution_count": 25,
   "metadata": {},
   "outputs": [
    {
     "name": "stdout",
     "output_type": "stream",
     "text": [
      "Количество пропусков до обработки 9084\n",
      "Количество пропусков после обработки 1\n"
     ]
    }
   ],
   "source": [
    "print('Количество пропусков до обработки', df['ceiling_height'].isna().sum()) \n",
    "for room in df['rooms'].unique():\n",
    "    median_ceiling_height = df.loc[df['rooms'] == room, 'ceiling_height'].median()\n",
    "    df.loc[(df['ceiling_height'].isna()) & (df['rooms'] == room), 'ceiling_height'] = median_ceiling_height\n",
    "print('Количество пропусков после обработки', df['ceiling_height'].isna().sum()) "
   ]
  },
  {
   "cell_type": "markdown",
   "metadata": {},
   "source": [
    "После замены пропусков осталось 1 объявление с незаполненной высотой потолков. Проверим данный вариант вручную."
   ]
  },
  {
   "cell_type": "code",
   "execution_count": 26,
   "metadata": {},
   "outputs": [
    {
     "data": {
      "text/html": [
       "<div>\n",
       "<style scoped>\n",
       "    .dataframe tbody tr th:only-of-type {\n",
       "        vertical-align: middle;\n",
       "    }\n",
       "\n",
       "    .dataframe tbody tr th {\n",
       "        vertical-align: top;\n",
       "    }\n",
       "\n",
       "    .dataframe thead th {\n",
       "        text-align: right;\n",
       "    }\n",
       "</style>\n",
       "<table border=\"1\" class=\"dataframe\">\n",
       "  <thead>\n",
       "    <tr style=\"text-align: right;\">\n",
       "      <th></th>\n",
       "      <th>total_images</th>\n",
       "      <th>last_price</th>\n",
       "      <th>total_area</th>\n",
       "      <th>first_day_exposition</th>\n",
       "      <th>rooms</th>\n",
       "      <th>ceiling_height</th>\n",
       "      <th>floors_total</th>\n",
       "      <th>living_area</th>\n",
       "      <th>floor</th>\n",
       "      <th>is_apartment</th>\n",
       "      <th>...</th>\n",
       "      <th>kitchen_area</th>\n",
       "      <th>balcony</th>\n",
       "      <th>locality_name</th>\n",
       "      <th>airports_nearest</th>\n",
       "      <th>city_centers_nearest</th>\n",
       "      <th>parks_around_3km</th>\n",
       "      <th>parks_nearest</th>\n",
       "      <th>ponds_around_3km</th>\n",
       "      <th>ponds_nearest</th>\n",
       "      <th>days_exposition</th>\n",
       "    </tr>\n",
       "  </thead>\n",
       "  <tbody>\n",
       "    <tr>\n",
       "      <td>14498</td>\n",
       "      <td>6</td>\n",
       "      <td>32250000.0</td>\n",
       "      <td>374.6</td>\n",
       "      <td>2018-06-09T00:00:00</td>\n",
       "      <td>19</td>\n",
       "      <td>NaN</td>\n",
       "      <td>5.0</td>\n",
       "      <td>264.5</td>\n",
       "      <td>2</td>\n",
       "      <td>False</td>\n",
       "      <td>...</td>\n",
       "      <td>27.6</td>\n",
       "      <td>0.0</td>\n",
       "      <td>санкт-петербург</td>\n",
       "      <td>19497.0</td>\n",
       "      <td>3574.0</td>\n",
       "      <td>0.0</td>\n",
       "      <td>NaN</td>\n",
       "      <td>2.0</td>\n",
       "      <td>548.0</td>\n",
       "      <td>114.0</td>\n",
       "    </tr>\n",
       "  </tbody>\n",
       "</table>\n",
       "<p>1 rows × 22 columns</p>\n",
       "</div>"
      ],
      "text/plain": [
       "       total_images  last_price  total_area first_day_exposition  rooms  \\\n",
       "14498             6  32250000.0       374.6  2018-06-09T00:00:00     19   \n",
       "\n",
       "       ceiling_height  floors_total  living_area  floor  is_apartment  ...  \\\n",
       "14498             NaN           5.0        264.5      2         False  ...   \n",
       "\n",
       "       kitchen_area  balcony    locality_name  airports_nearest  \\\n",
       "14498          27.6      0.0  санкт-петербург           19497.0   \n",
       "\n",
       "      city_centers_nearest  parks_around_3km  parks_nearest  ponds_around_3km  \\\n",
       "14498               3574.0               0.0            NaN               2.0   \n",
       "\n",
       "       ponds_nearest  days_exposition  \n",
       "14498          548.0            114.0  \n",
       "\n",
       "[1 rows x 22 columns]"
      ]
     },
     "execution_count": 26,
     "metadata": {},
     "output_type": "execute_result"
    }
   ],
   "source": [
    "df[df['ceiling_height'].isna()]"
   ]
  },
  {
   "cell_type": "markdown",
   "metadata": {},
   "source": [
    "Исходя из кол-ва комнат, автоматически заполнить высоту полков медианным значением не получилось для данного объявления. Скорее всего это коммунальная квартира в старом фонде (соотношение кол-во комнат - общая площадь - местоположение - близость к центру). Заполним вручную высоту полков на среднее значение, характерное для похожих объявлений - 4 м."
   ]
  },
  {
   "cell_type": "code",
   "execution_count": 27,
   "metadata": {},
   "outputs": [
    {
     "name": "stdout",
     "output_type": "stream",
     "text": [
      "Количество пропусков после обработки 0\n"
     ]
    }
   ],
   "source": [
    "df['ceiling_height'] = df['ceiling_height'].fillna(4)\n",
    "print('Количество пропусков после обработки', df['ceiling_height'].isna().sum())"
   ]
  },
  {
   "cell_type": "code",
   "execution_count": 28,
   "metadata": {},
   "outputs": [
    {
     "name": "stdout",
     "output_type": "stream",
     "text": [
      "Количество пропусков до обработки 2222\n",
      "Количество пропусков после обработки 0\n"
     ]
    }
   ],
   "source": [
    "print('Количество пропусков до обработки', df['kitchen_area'].isna().sum()) \n",
    "for room in df['rooms'].unique():\n",
    "    median_kitchen_area = df.loc[df['rooms'] == room, 'kitchen_area'].median()\n",
    "    df.loc[(df['kitchen_area'].isna()) & (df['rooms'] == room), 'kitchen_area'] = median_kitchen_area\n",
    "print('Количество пропусков после обработки', df['kitchen_area'].isna().sum()) "
   ]
  },
  {
   "cell_type": "markdown",
   "metadata": {},
   "source": [
    "Для показателя расстояния до центра логичнее всего взять медианное значение в разрезе населенных пунктов."
   ]
  },
  {
   "cell_type": "code",
   "execution_count": 29,
   "metadata": {},
   "outputs": [
    {
     "name": "stdout",
     "output_type": "stream",
     "text": [
      "Количество пропусков до обработки 5501\n",
      "Количество пропусков после обработки 5432\n"
     ]
    }
   ],
   "source": [
    "print('Количество пропусков до обработки', df['city_centers_nearest'].isna().sum()) \n",
    "for town in df['locality_name'].unique():\n",
    "    median_city_centers_nearest = df.loc[df['locality_name'] == town, 'city_centers_nearest'].median()\n",
    "    df.loc[(df['city_centers_nearest'].isna()) & (df['locality_name'] == town), 'city_centers_nearest'] = median_city_centers_nearest\n",
    "print('Количество пропусков после обработки', df['city_centers_nearest'].isna().sum()) "
   ]
  },
  {
   "cell_type": "markdown",
   "metadata": {},
   "source": [
    "Удалось избавиться лишь от малой части пропущенных значений. Возьмем медианное значение по всему датасету для оставшихся объявлений."
   ]
  },
  {
   "cell_type": "code",
   "execution_count": 30,
   "metadata": {},
   "outputs": [
    {
     "name": "stdout",
     "output_type": "stream",
     "text": [
      "Количество пропусков до обработки 5432\n",
      "Количество пропусков после обработки 0\n"
     ]
    }
   ],
   "source": [
    "print('Количество пропусков до обработки', df['city_centers_nearest'].isna().sum())\n",
    "df['city_centers_nearest'] = df['city_centers_nearest'].fillna(df['city_centers_nearest'].median())\n",
    "print('Количество пропусков после обработки', df['city_centers_nearest'].isna().sum()) "
   ]
  },
  {
   "cell_type": "code",
   "execution_count": 31,
   "metadata": {},
   "outputs": [
    {
     "data": {
      "text/plain": [
       "total_images                0\n",
       "city_centers_nearest        0\n",
       "locality_name               0\n",
       "balcony                     0\n",
       "kitchen_area                0\n",
       "is_open_plan                0\n",
       "is_apartment                0\n",
       "floor                       0\n",
       "is_studio                   0\n",
       "floors_total                0\n",
       "ceiling_height              0\n",
       "rooms                       0\n",
       "first_day_exposition        0\n",
       "total_area                  0\n",
       "last_price                  0\n",
       "living_area                 0\n",
       "days_exposition             0\n",
       "parks_around_3km         5500\n",
       "ponds_around_3km         5500\n",
       "airports_nearest         5524\n",
       "ponds_nearest           14529\n",
       "parks_nearest           15535\n",
       "dtype: int64"
      ]
     },
     "execution_count": 31,
     "metadata": {},
     "output_type": "execute_result"
    }
   ],
   "source": [
    "df.isna().sum().sort_values() #проверим результаты устранения пропусков"
   ]
  },
  {
   "cell_type": "markdown",
   "metadata": {},
   "source": [
    "### Замена типа данных"
   ]
  },
  {
   "cell_type": "markdown",
   "metadata": {},
   "source": [
    "Для ряда показателей было бы логичнее изменить тип данных. Произведем нужные замены."
   ]
  },
  {
   "cell_type": "code",
   "execution_count": 32,
   "metadata": {},
   "outputs": [],
   "source": [
    "df['first_day_exposition'] = pd.to_datetime(df['first_day_exposition'], format=\"%Y-%m-%dT%H:%M:%S\")"
   ]
  },
  {
   "cell_type": "code",
   "execution_count": 33,
   "metadata": {},
   "outputs": [
    {
     "name": "stdout",
     "output_type": "stream",
     "text": [
      "<class 'pandas.core.frame.DataFrame'>\n",
      "Int64Index: 23565 entries, 0 to 23698\n",
      "Data columns (total 22 columns):\n",
      "total_images            23565 non-null int64\n",
      "last_price              23565 non-null float64\n",
      "total_area              23565 non-null float64\n",
      "first_day_exposition    23565 non-null datetime64[ns]\n",
      "rooms                   23565 non-null int64\n",
      "ceiling_height          23565 non-null float64\n",
      "floors_total            23565 non-null int64\n",
      "living_area             23565 non-null float64\n",
      "floor                   23565 non-null int64\n",
      "is_apartment            23565 non-null bool\n",
      "is_studio               23565 non-null bool\n",
      "is_open_plan            23565 non-null bool\n",
      "kitchen_area            23565 non-null float64\n",
      "balcony                 23565 non-null int64\n",
      "locality_name           23565 non-null object\n",
      "airports_nearest        18041 non-null float64\n",
      "city_centers_nearest    23565 non-null float64\n",
      "parks_around_3km        18065 non-null float64\n",
      "parks_nearest           8030 non-null float64\n",
      "ponds_around_3km        18065 non-null float64\n",
      "ponds_nearest           9036 non-null float64\n",
      "days_exposition         23565 non-null int64\n",
      "dtypes: bool(3), datetime64[ns](1), float64(11), int64(6), object(1)\n",
      "memory usage: 3.7+ MB\n"
     ]
    }
   ],
   "source": [
    "df = df.astype({'floors_total':'int64', 'balcony':'int64', 'days_exposition':'int64'})\n",
    "df.info() #проверка результатов замены типов данных"
   ]
  },
  {
   "cell_type": "markdown",
   "metadata": {},
   "source": [
    "### Вывод"
   ]
  },
  {
   "cell_type": "markdown",
   "metadata": {},
   "source": [
    "В результате предобработки данных названия столбцов были приведены к единому образцу, пропуски в необходимых для дальнейшего анализа столбцах устранены, дубликаты удалены, данные приведены к правильному типу данных."
   ]
  },
  {
   "cell_type": "markdown",
   "metadata": {},
   "source": [
    "## Расчёты и добавление результатов в таблицу"
   ]
  },
  {
   "cell_type": "markdown",
   "metadata": {},
   "source": [
    "Дополним наш датасет необходимымой для дальнейшего анализа информацией."
   ]
  },
  {
   "cell_type": "markdown",
   "metadata": {},
   "source": [
    "### Расчет цены квадратного метра"
   ]
  },
  {
   "cell_type": "code",
   "execution_count": 34,
   "metadata": {},
   "outputs": [
    {
     "data": {
      "text/html": [
       "<div>\n",
       "<style scoped>\n",
       "    .dataframe tbody tr th:only-of-type {\n",
       "        vertical-align: middle;\n",
       "    }\n",
       "\n",
       "    .dataframe tbody tr th {\n",
       "        vertical-align: top;\n",
       "    }\n",
       "\n",
       "    .dataframe thead th {\n",
       "        text-align: right;\n",
       "    }\n",
       "</style>\n",
       "<table border=\"1\" class=\"dataframe\">\n",
       "  <thead>\n",
       "    <tr style=\"text-align: right;\">\n",
       "      <th></th>\n",
       "      <th>total_images</th>\n",
       "      <th>last_price</th>\n",
       "      <th>total_area</th>\n",
       "      <th>first_day_exposition</th>\n",
       "      <th>rooms</th>\n",
       "      <th>ceiling_height</th>\n",
       "      <th>floors_total</th>\n",
       "      <th>living_area</th>\n",
       "      <th>floor</th>\n",
       "      <th>is_apartment</th>\n",
       "      <th>...</th>\n",
       "      <th>balcony</th>\n",
       "      <th>locality_name</th>\n",
       "      <th>airports_nearest</th>\n",
       "      <th>city_centers_nearest</th>\n",
       "      <th>parks_around_3km</th>\n",
       "      <th>parks_nearest</th>\n",
       "      <th>ponds_around_3km</th>\n",
       "      <th>ponds_nearest</th>\n",
       "      <th>days_exposition</th>\n",
       "      <th>price_per_meter</th>\n",
       "    </tr>\n",
       "  </thead>\n",
       "  <tbody>\n",
       "    <tr>\n",
       "      <td>0</td>\n",
       "      <td>20</td>\n",
       "      <td>13000000.0</td>\n",
       "      <td>108.0</td>\n",
       "      <td>2019-03-07</td>\n",
       "      <td>3</td>\n",
       "      <td>2.70</td>\n",
       "      <td>16</td>\n",
       "      <td>51.0</td>\n",
       "      <td>8</td>\n",
       "      <td>False</td>\n",
       "      <td>...</td>\n",
       "      <td>0</td>\n",
       "      <td>санкт-петербург</td>\n",
       "      <td>18863.0</td>\n",
       "      <td>16028.0</td>\n",
       "      <td>1.0</td>\n",
       "      <td>482.0</td>\n",
       "      <td>2.0</td>\n",
       "      <td>755.0</td>\n",
       "      <td>114</td>\n",
       "      <td>120370.37</td>\n",
       "    </tr>\n",
       "    <tr>\n",
       "      <td>1</td>\n",
       "      <td>7</td>\n",
       "      <td>3350000.0</td>\n",
       "      <td>40.4</td>\n",
       "      <td>2018-12-04</td>\n",
       "      <td>1</td>\n",
       "      <td>2.65</td>\n",
       "      <td>11</td>\n",
       "      <td>18.6</td>\n",
       "      <td>1</td>\n",
       "      <td>False</td>\n",
       "      <td>...</td>\n",
       "      <td>2</td>\n",
       "      <td>поселок шушары</td>\n",
       "      <td>12817.0</td>\n",
       "      <td>18603.0</td>\n",
       "      <td>0.0</td>\n",
       "      <td>NaN</td>\n",
       "      <td>0.0</td>\n",
       "      <td>NaN</td>\n",
       "      <td>81</td>\n",
       "      <td>82920.79</td>\n",
       "    </tr>\n",
       "    <tr>\n",
       "      <td>2</td>\n",
       "      <td>10</td>\n",
       "      <td>5196000.0</td>\n",
       "      <td>56.0</td>\n",
       "      <td>2015-08-20</td>\n",
       "      <td>2</td>\n",
       "      <td>2.60</td>\n",
       "      <td>5</td>\n",
       "      <td>34.3</td>\n",
       "      <td>4</td>\n",
       "      <td>False</td>\n",
       "      <td>...</td>\n",
       "      <td>0</td>\n",
       "      <td>санкт-петербург</td>\n",
       "      <td>21741.0</td>\n",
       "      <td>13933.0</td>\n",
       "      <td>1.0</td>\n",
       "      <td>90.0</td>\n",
       "      <td>2.0</td>\n",
       "      <td>574.0</td>\n",
       "      <td>558</td>\n",
       "      <td>92785.71</td>\n",
       "    </tr>\n",
       "    <tr>\n",
       "      <td>3</td>\n",
       "      <td>0</td>\n",
       "      <td>64900000.0</td>\n",
       "      <td>159.0</td>\n",
       "      <td>2015-07-24</td>\n",
       "      <td>3</td>\n",
       "      <td>2.65</td>\n",
       "      <td>14</td>\n",
       "      <td>45.0</td>\n",
       "      <td>9</td>\n",
       "      <td>False</td>\n",
       "      <td>...</td>\n",
       "      <td>0</td>\n",
       "      <td>санкт-петербург</td>\n",
       "      <td>28098.0</td>\n",
       "      <td>6800.0</td>\n",
       "      <td>2.0</td>\n",
       "      <td>84.0</td>\n",
       "      <td>3.0</td>\n",
       "      <td>234.0</td>\n",
       "      <td>424</td>\n",
       "      <td>408176.10</td>\n",
       "    </tr>\n",
       "    <tr>\n",
       "      <td>4</td>\n",
       "      <td>2</td>\n",
       "      <td>10000000.0</td>\n",
       "      <td>100.0</td>\n",
       "      <td>2018-06-19</td>\n",
       "      <td>2</td>\n",
       "      <td>3.03</td>\n",
       "      <td>14</td>\n",
       "      <td>32.0</td>\n",
       "      <td>13</td>\n",
       "      <td>False</td>\n",
       "      <td>...</td>\n",
       "      <td>0</td>\n",
       "      <td>санкт-петербург</td>\n",
       "      <td>31856.0</td>\n",
       "      <td>8098.0</td>\n",
       "      <td>2.0</td>\n",
       "      <td>112.0</td>\n",
       "      <td>1.0</td>\n",
       "      <td>48.0</td>\n",
       "      <td>121</td>\n",
       "      <td>100000.00</td>\n",
       "    </tr>\n",
       "  </tbody>\n",
       "</table>\n",
       "<p>5 rows × 23 columns</p>\n",
       "</div>"
      ],
      "text/plain": [
       "   total_images  last_price  total_area first_day_exposition  rooms  \\\n",
       "0            20  13000000.0       108.0           2019-03-07      3   \n",
       "1             7   3350000.0        40.4           2018-12-04      1   \n",
       "2            10   5196000.0        56.0           2015-08-20      2   \n",
       "3             0  64900000.0       159.0           2015-07-24      3   \n",
       "4             2  10000000.0       100.0           2018-06-19      2   \n",
       "\n",
       "   ceiling_height  floors_total  living_area  floor  is_apartment  ...  \\\n",
       "0            2.70            16         51.0      8         False  ...   \n",
       "1            2.65            11         18.6      1         False  ...   \n",
       "2            2.60             5         34.3      4         False  ...   \n",
       "3            2.65            14         45.0      9         False  ...   \n",
       "4            3.03            14         32.0     13         False  ...   \n",
       "\n",
       "   balcony    locality_name  airports_nearest  city_centers_nearest  \\\n",
       "0        0  санкт-петербург           18863.0               16028.0   \n",
       "1        2   поселок шушары           12817.0               18603.0   \n",
       "2        0  санкт-петербург           21741.0               13933.0   \n",
       "3        0  санкт-петербург           28098.0                6800.0   \n",
       "4        0  санкт-петербург           31856.0                8098.0   \n",
       "\n",
       "  parks_around_3km  parks_nearest  ponds_around_3km  ponds_nearest  \\\n",
       "0              1.0          482.0               2.0          755.0   \n",
       "1              0.0            NaN               0.0            NaN   \n",
       "2              1.0           90.0               2.0          574.0   \n",
       "3              2.0           84.0               3.0          234.0   \n",
       "4              2.0          112.0               1.0           48.0   \n",
       "\n",
       "   days_exposition  price_per_meter  \n",
       "0              114        120370.37  \n",
       "1               81         82920.79  \n",
       "2              558         92785.71  \n",
       "3              424        408176.10  \n",
       "4              121        100000.00  \n",
       "\n",
       "[5 rows x 23 columns]"
      ]
     },
     "execution_count": 34,
     "metadata": {},
     "output_type": "execute_result"
    }
   ],
   "source": [
    "df['price_per_meter'] = df['last_price'] / df['total_area'] #добавляем рассчет цены квадратного метра\n",
    "df['price_per_meter'] = df['price_per_meter'].round(decimals=2) #округлим до 2 знаков после запятой\n",
    "df.head()"
   ]
  },
  {
   "cell_type": "markdown",
   "metadata": {},
   "source": [
    "### Расчет дня недели, месяца и года публикации объявления"
   ]
  },
  {
   "cell_type": "code",
   "execution_count": 35,
   "metadata": {},
   "outputs": [
    {
     "data": {
      "text/html": [
       "<div>\n",
       "<style scoped>\n",
       "    .dataframe tbody tr th:only-of-type {\n",
       "        vertical-align: middle;\n",
       "    }\n",
       "\n",
       "    .dataframe tbody tr th {\n",
       "        vertical-align: top;\n",
       "    }\n",
       "\n",
       "    .dataframe thead th {\n",
       "        text-align: right;\n",
       "    }\n",
       "</style>\n",
       "<table border=\"1\" class=\"dataframe\">\n",
       "  <thead>\n",
       "    <tr style=\"text-align: right;\">\n",
       "      <th></th>\n",
       "      <th>total_images</th>\n",
       "      <th>last_price</th>\n",
       "      <th>total_area</th>\n",
       "      <th>first_day_exposition</th>\n",
       "      <th>rooms</th>\n",
       "      <th>ceiling_height</th>\n",
       "      <th>floors_total</th>\n",
       "      <th>living_area</th>\n",
       "      <th>floor</th>\n",
       "      <th>is_apartment</th>\n",
       "      <th>...</th>\n",
       "      <th>city_centers_nearest</th>\n",
       "      <th>parks_around_3km</th>\n",
       "      <th>parks_nearest</th>\n",
       "      <th>ponds_around_3km</th>\n",
       "      <th>ponds_nearest</th>\n",
       "      <th>days_exposition</th>\n",
       "      <th>price_per_meter</th>\n",
       "      <th>day_of_week_exposition</th>\n",
       "      <th>month_exposition</th>\n",
       "      <th>year_exposition</th>\n",
       "    </tr>\n",
       "  </thead>\n",
       "  <tbody>\n",
       "    <tr>\n",
       "      <td>0</td>\n",
       "      <td>20</td>\n",
       "      <td>13000000.0</td>\n",
       "      <td>108.0</td>\n",
       "      <td>2019-03-07</td>\n",
       "      <td>3</td>\n",
       "      <td>2.70</td>\n",
       "      <td>16</td>\n",
       "      <td>51.0</td>\n",
       "      <td>8</td>\n",
       "      <td>False</td>\n",
       "      <td>...</td>\n",
       "      <td>16028.0</td>\n",
       "      <td>1.0</td>\n",
       "      <td>482.0</td>\n",
       "      <td>2.0</td>\n",
       "      <td>755.0</td>\n",
       "      <td>114</td>\n",
       "      <td>120370.37</td>\n",
       "      <td>Thursday</td>\n",
       "      <td>March</td>\n",
       "      <td>2019</td>\n",
       "    </tr>\n",
       "    <tr>\n",
       "      <td>1</td>\n",
       "      <td>7</td>\n",
       "      <td>3350000.0</td>\n",
       "      <td>40.4</td>\n",
       "      <td>2018-12-04</td>\n",
       "      <td>1</td>\n",
       "      <td>2.65</td>\n",
       "      <td>11</td>\n",
       "      <td>18.6</td>\n",
       "      <td>1</td>\n",
       "      <td>False</td>\n",
       "      <td>...</td>\n",
       "      <td>18603.0</td>\n",
       "      <td>0.0</td>\n",
       "      <td>NaN</td>\n",
       "      <td>0.0</td>\n",
       "      <td>NaN</td>\n",
       "      <td>81</td>\n",
       "      <td>82920.79</td>\n",
       "      <td>Tuesday</td>\n",
       "      <td>December</td>\n",
       "      <td>2018</td>\n",
       "    </tr>\n",
       "    <tr>\n",
       "      <td>2</td>\n",
       "      <td>10</td>\n",
       "      <td>5196000.0</td>\n",
       "      <td>56.0</td>\n",
       "      <td>2015-08-20</td>\n",
       "      <td>2</td>\n",
       "      <td>2.60</td>\n",
       "      <td>5</td>\n",
       "      <td>34.3</td>\n",
       "      <td>4</td>\n",
       "      <td>False</td>\n",
       "      <td>...</td>\n",
       "      <td>13933.0</td>\n",
       "      <td>1.0</td>\n",
       "      <td>90.0</td>\n",
       "      <td>2.0</td>\n",
       "      <td>574.0</td>\n",
       "      <td>558</td>\n",
       "      <td>92785.71</td>\n",
       "      <td>Thursday</td>\n",
       "      <td>August</td>\n",
       "      <td>2015</td>\n",
       "    </tr>\n",
       "    <tr>\n",
       "      <td>3</td>\n",
       "      <td>0</td>\n",
       "      <td>64900000.0</td>\n",
       "      <td>159.0</td>\n",
       "      <td>2015-07-24</td>\n",
       "      <td>3</td>\n",
       "      <td>2.65</td>\n",
       "      <td>14</td>\n",
       "      <td>45.0</td>\n",
       "      <td>9</td>\n",
       "      <td>False</td>\n",
       "      <td>...</td>\n",
       "      <td>6800.0</td>\n",
       "      <td>2.0</td>\n",
       "      <td>84.0</td>\n",
       "      <td>3.0</td>\n",
       "      <td>234.0</td>\n",
       "      <td>424</td>\n",
       "      <td>408176.10</td>\n",
       "      <td>Friday</td>\n",
       "      <td>July</td>\n",
       "      <td>2015</td>\n",
       "    </tr>\n",
       "    <tr>\n",
       "      <td>4</td>\n",
       "      <td>2</td>\n",
       "      <td>10000000.0</td>\n",
       "      <td>100.0</td>\n",
       "      <td>2018-06-19</td>\n",
       "      <td>2</td>\n",
       "      <td>3.03</td>\n",
       "      <td>14</td>\n",
       "      <td>32.0</td>\n",
       "      <td>13</td>\n",
       "      <td>False</td>\n",
       "      <td>...</td>\n",
       "      <td>8098.0</td>\n",
       "      <td>2.0</td>\n",
       "      <td>112.0</td>\n",
       "      <td>1.0</td>\n",
       "      <td>48.0</td>\n",
       "      <td>121</td>\n",
       "      <td>100000.00</td>\n",
       "      <td>Tuesday</td>\n",
       "      <td>June</td>\n",
       "      <td>2018</td>\n",
       "    </tr>\n",
       "  </tbody>\n",
       "</table>\n",
       "<p>5 rows × 26 columns</p>\n",
       "</div>"
      ],
      "text/plain": [
       "   total_images  last_price  total_area first_day_exposition  rooms  \\\n",
       "0            20  13000000.0       108.0           2019-03-07      3   \n",
       "1             7   3350000.0        40.4           2018-12-04      1   \n",
       "2            10   5196000.0        56.0           2015-08-20      2   \n",
       "3             0  64900000.0       159.0           2015-07-24      3   \n",
       "4             2  10000000.0       100.0           2018-06-19      2   \n",
       "\n",
       "   ceiling_height  floors_total  living_area  floor  is_apartment  ...  \\\n",
       "0            2.70            16         51.0      8         False  ...   \n",
       "1            2.65            11         18.6      1         False  ...   \n",
       "2            2.60             5         34.3      4         False  ...   \n",
       "3            2.65            14         45.0      9         False  ...   \n",
       "4            3.03            14         32.0     13         False  ...   \n",
       "\n",
       "   city_centers_nearest  parks_around_3km  parks_nearest  ponds_around_3km  \\\n",
       "0               16028.0               1.0          482.0               2.0   \n",
       "1               18603.0               0.0            NaN               0.0   \n",
       "2               13933.0               1.0           90.0               2.0   \n",
       "3                6800.0               2.0           84.0               3.0   \n",
       "4                8098.0               2.0          112.0               1.0   \n",
       "\n",
       "  ponds_nearest  days_exposition  price_per_meter  day_of_week_exposition  \\\n",
       "0         755.0              114        120370.37                Thursday   \n",
       "1           NaN               81         82920.79                 Tuesday   \n",
       "2         574.0              558         92785.71                Thursday   \n",
       "3         234.0              424        408176.10                  Friday   \n",
       "4          48.0              121        100000.00                 Tuesday   \n",
       "\n",
       "   month_exposition  year_exposition  \n",
       "0             March             2019  \n",
       "1          December             2018  \n",
       "2            August             2015  \n",
       "3              July             2015  \n",
       "4              June             2018  \n",
       "\n",
       "[5 rows x 26 columns]"
      ]
     },
     "execution_count": 35,
     "metadata": {},
     "output_type": "execute_result"
    }
   ],
   "source": [
    "df['day_of_week_exposition'] = df['first_day_exposition'].dt.day_name() #добавляем день недели, месяц и год публикации\n",
    "df['month_exposition'] = df['first_day_exposition'].dt.month_name()\n",
    "df['year_exposition'] = df['first_day_exposition'].dt.year\n",
    "df.head()"
   ]
  },
  {
   "cell_type": "markdown",
   "metadata": {},
   "source": [
    "### Расчет этажа объекта недвижимости"
   ]
  },
  {
   "cell_type": "code",
   "execution_count": 36,
   "metadata": {},
   "outputs": [],
   "source": [
    "def floor_status(row): #для определения этажа создадим функцию\n",
    "    if row['floor'] == 1:\n",
    "        return 'первый'\n",
    "    elif row['floor'] == row['floors_total']:\n",
    "        return 'последний'\n",
    "    else:\n",
    "        return 'другой'"
   ]
  },
  {
   "cell_type": "code",
   "execution_count": 37,
   "metadata": {},
   "outputs": [
    {
     "data": {
      "text/html": [
       "<div>\n",
       "<style scoped>\n",
       "    .dataframe tbody tr th:only-of-type {\n",
       "        vertical-align: middle;\n",
       "    }\n",
       "\n",
       "    .dataframe tbody tr th {\n",
       "        vertical-align: top;\n",
       "    }\n",
       "\n",
       "    .dataframe thead th {\n",
       "        text-align: right;\n",
       "    }\n",
       "</style>\n",
       "<table border=\"1\" class=\"dataframe\">\n",
       "  <thead>\n",
       "    <tr style=\"text-align: right;\">\n",
       "      <th></th>\n",
       "      <th>total_images</th>\n",
       "      <th>last_price</th>\n",
       "      <th>total_area</th>\n",
       "      <th>first_day_exposition</th>\n",
       "      <th>rooms</th>\n",
       "      <th>ceiling_height</th>\n",
       "      <th>floors_total</th>\n",
       "      <th>living_area</th>\n",
       "      <th>floor</th>\n",
       "      <th>is_apartment</th>\n",
       "      <th>...</th>\n",
       "      <th>parks_around_3km</th>\n",
       "      <th>parks_nearest</th>\n",
       "      <th>ponds_around_3km</th>\n",
       "      <th>ponds_nearest</th>\n",
       "      <th>days_exposition</th>\n",
       "      <th>price_per_meter</th>\n",
       "      <th>day_of_week_exposition</th>\n",
       "      <th>month_exposition</th>\n",
       "      <th>year_exposition</th>\n",
       "      <th>floor_status</th>\n",
       "    </tr>\n",
       "  </thead>\n",
       "  <tbody>\n",
       "    <tr>\n",
       "      <td>0</td>\n",
       "      <td>20</td>\n",
       "      <td>13000000.0</td>\n",
       "      <td>108.0</td>\n",
       "      <td>2019-03-07</td>\n",
       "      <td>3</td>\n",
       "      <td>2.70</td>\n",
       "      <td>16</td>\n",
       "      <td>51.0</td>\n",
       "      <td>8</td>\n",
       "      <td>False</td>\n",
       "      <td>...</td>\n",
       "      <td>1.0</td>\n",
       "      <td>482.0</td>\n",
       "      <td>2.0</td>\n",
       "      <td>755.0</td>\n",
       "      <td>114</td>\n",
       "      <td>120370.37</td>\n",
       "      <td>Thursday</td>\n",
       "      <td>March</td>\n",
       "      <td>2019</td>\n",
       "      <td>другой</td>\n",
       "    </tr>\n",
       "    <tr>\n",
       "      <td>1</td>\n",
       "      <td>7</td>\n",
       "      <td>3350000.0</td>\n",
       "      <td>40.4</td>\n",
       "      <td>2018-12-04</td>\n",
       "      <td>1</td>\n",
       "      <td>2.65</td>\n",
       "      <td>11</td>\n",
       "      <td>18.6</td>\n",
       "      <td>1</td>\n",
       "      <td>False</td>\n",
       "      <td>...</td>\n",
       "      <td>0.0</td>\n",
       "      <td>NaN</td>\n",
       "      <td>0.0</td>\n",
       "      <td>NaN</td>\n",
       "      <td>81</td>\n",
       "      <td>82920.79</td>\n",
       "      <td>Tuesday</td>\n",
       "      <td>December</td>\n",
       "      <td>2018</td>\n",
       "      <td>первый</td>\n",
       "    </tr>\n",
       "    <tr>\n",
       "      <td>2</td>\n",
       "      <td>10</td>\n",
       "      <td>5196000.0</td>\n",
       "      <td>56.0</td>\n",
       "      <td>2015-08-20</td>\n",
       "      <td>2</td>\n",
       "      <td>2.60</td>\n",
       "      <td>5</td>\n",
       "      <td>34.3</td>\n",
       "      <td>4</td>\n",
       "      <td>False</td>\n",
       "      <td>...</td>\n",
       "      <td>1.0</td>\n",
       "      <td>90.0</td>\n",
       "      <td>2.0</td>\n",
       "      <td>574.0</td>\n",
       "      <td>558</td>\n",
       "      <td>92785.71</td>\n",
       "      <td>Thursday</td>\n",
       "      <td>August</td>\n",
       "      <td>2015</td>\n",
       "      <td>другой</td>\n",
       "    </tr>\n",
       "    <tr>\n",
       "      <td>3</td>\n",
       "      <td>0</td>\n",
       "      <td>64900000.0</td>\n",
       "      <td>159.0</td>\n",
       "      <td>2015-07-24</td>\n",
       "      <td>3</td>\n",
       "      <td>2.65</td>\n",
       "      <td>14</td>\n",
       "      <td>45.0</td>\n",
       "      <td>9</td>\n",
       "      <td>False</td>\n",
       "      <td>...</td>\n",
       "      <td>2.0</td>\n",
       "      <td>84.0</td>\n",
       "      <td>3.0</td>\n",
       "      <td>234.0</td>\n",
       "      <td>424</td>\n",
       "      <td>408176.10</td>\n",
       "      <td>Friday</td>\n",
       "      <td>July</td>\n",
       "      <td>2015</td>\n",
       "      <td>другой</td>\n",
       "    </tr>\n",
       "    <tr>\n",
       "      <td>4</td>\n",
       "      <td>2</td>\n",
       "      <td>10000000.0</td>\n",
       "      <td>100.0</td>\n",
       "      <td>2018-06-19</td>\n",
       "      <td>2</td>\n",
       "      <td>3.03</td>\n",
       "      <td>14</td>\n",
       "      <td>32.0</td>\n",
       "      <td>13</td>\n",
       "      <td>False</td>\n",
       "      <td>...</td>\n",
       "      <td>2.0</td>\n",
       "      <td>112.0</td>\n",
       "      <td>1.0</td>\n",
       "      <td>48.0</td>\n",
       "      <td>121</td>\n",
       "      <td>100000.00</td>\n",
       "      <td>Tuesday</td>\n",
       "      <td>June</td>\n",
       "      <td>2018</td>\n",
       "      <td>другой</td>\n",
       "    </tr>\n",
       "  </tbody>\n",
       "</table>\n",
       "<p>5 rows × 27 columns</p>\n",
       "</div>"
      ],
      "text/plain": [
       "   total_images  last_price  total_area first_day_exposition  rooms  \\\n",
       "0            20  13000000.0       108.0           2019-03-07      3   \n",
       "1             7   3350000.0        40.4           2018-12-04      1   \n",
       "2            10   5196000.0        56.0           2015-08-20      2   \n",
       "3             0  64900000.0       159.0           2015-07-24      3   \n",
       "4             2  10000000.0       100.0           2018-06-19      2   \n",
       "\n",
       "   ceiling_height  floors_total  living_area  floor  is_apartment  ...  \\\n",
       "0            2.70            16         51.0      8         False  ...   \n",
       "1            2.65            11         18.6      1         False  ...   \n",
       "2            2.60             5         34.3      4         False  ...   \n",
       "3            2.65            14         45.0      9         False  ...   \n",
       "4            3.03            14         32.0     13         False  ...   \n",
       "\n",
       "   parks_around_3km  parks_nearest  ponds_around_3km  ponds_nearest  \\\n",
       "0               1.0          482.0               2.0          755.0   \n",
       "1               0.0            NaN               0.0            NaN   \n",
       "2               1.0           90.0               2.0          574.0   \n",
       "3               2.0           84.0               3.0          234.0   \n",
       "4               2.0          112.0               1.0           48.0   \n",
       "\n",
       "  days_exposition  price_per_meter  day_of_week_exposition  month_exposition  \\\n",
       "0             114        120370.37                Thursday             March   \n",
       "1              81         82920.79                 Tuesday          December   \n",
       "2             558         92785.71                Thursday            August   \n",
       "3             424        408176.10                  Friday              July   \n",
       "4             121        100000.00                 Tuesday              June   \n",
       "\n",
       "   year_exposition  floor_status  \n",
       "0             2019        другой  \n",
       "1             2018        первый  \n",
       "2             2015        другой  \n",
       "3             2015        другой  \n",
       "4             2018        другой  \n",
       "\n",
       "[5 rows x 27 columns]"
      ]
     },
     "execution_count": 37,
     "metadata": {},
     "output_type": "execute_result"
    }
   ],
   "source": [
    "df['floor_status'] = df.apply(floor_status, axis=1) #добавляем категорию этажа с применением функции\n",
    "df.head()"
   ]
  },
  {
   "cell_type": "markdown",
   "metadata": {},
   "source": [
    "### Расчет отношения жилой площади/площади кухни к общей площади"
   ]
  },
  {
   "cell_type": "code",
   "execution_count": 38,
   "metadata": {},
   "outputs": [
    {
     "data": {
      "text/html": [
       "<div>\n",
       "<style scoped>\n",
       "    .dataframe tbody tr th:only-of-type {\n",
       "        vertical-align: middle;\n",
       "    }\n",
       "\n",
       "    .dataframe tbody tr th {\n",
       "        vertical-align: top;\n",
       "    }\n",
       "\n",
       "    .dataframe thead th {\n",
       "        text-align: right;\n",
       "    }\n",
       "</style>\n",
       "<table border=\"1\" class=\"dataframe\">\n",
       "  <thead>\n",
       "    <tr style=\"text-align: right;\">\n",
       "      <th></th>\n",
       "      <th>total_images</th>\n",
       "      <th>last_price</th>\n",
       "      <th>total_area</th>\n",
       "      <th>first_day_exposition</th>\n",
       "      <th>rooms</th>\n",
       "      <th>ceiling_height</th>\n",
       "      <th>floors_total</th>\n",
       "      <th>living_area</th>\n",
       "      <th>floor</th>\n",
       "      <th>is_apartment</th>\n",
       "      <th>...</th>\n",
       "      <th>ponds_around_3km</th>\n",
       "      <th>ponds_nearest</th>\n",
       "      <th>days_exposition</th>\n",
       "      <th>price_per_meter</th>\n",
       "      <th>day_of_week_exposition</th>\n",
       "      <th>month_exposition</th>\n",
       "      <th>year_exposition</th>\n",
       "      <th>floor_status</th>\n",
       "      <th>living_area_ratio</th>\n",
       "      <th>kitchen_area_ratio</th>\n",
       "    </tr>\n",
       "  </thead>\n",
       "  <tbody>\n",
       "    <tr>\n",
       "      <td>0</td>\n",
       "      <td>20</td>\n",
       "      <td>13000000.0</td>\n",
       "      <td>108.0</td>\n",
       "      <td>2019-03-07</td>\n",
       "      <td>3</td>\n",
       "      <td>2.70</td>\n",
       "      <td>16</td>\n",
       "      <td>51.0</td>\n",
       "      <td>8</td>\n",
       "      <td>False</td>\n",
       "      <td>...</td>\n",
       "      <td>2.0</td>\n",
       "      <td>755.0</td>\n",
       "      <td>114</td>\n",
       "      <td>120370.37</td>\n",
       "      <td>Thursday</td>\n",
       "      <td>March</td>\n",
       "      <td>2019</td>\n",
       "      <td>другой</td>\n",
       "      <td>0.472222</td>\n",
       "      <td>0.231481</td>\n",
       "    </tr>\n",
       "    <tr>\n",
       "      <td>1</td>\n",
       "      <td>7</td>\n",
       "      <td>3350000.0</td>\n",
       "      <td>40.4</td>\n",
       "      <td>2018-12-04</td>\n",
       "      <td>1</td>\n",
       "      <td>2.65</td>\n",
       "      <td>11</td>\n",
       "      <td>18.6</td>\n",
       "      <td>1</td>\n",
       "      <td>False</td>\n",
       "      <td>...</td>\n",
       "      <td>0.0</td>\n",
       "      <td>NaN</td>\n",
       "      <td>81</td>\n",
       "      <td>82920.79</td>\n",
       "      <td>Tuesday</td>\n",
       "      <td>December</td>\n",
       "      <td>2018</td>\n",
       "      <td>первый</td>\n",
       "      <td>0.460396</td>\n",
       "      <td>0.272277</td>\n",
       "    </tr>\n",
       "    <tr>\n",
       "      <td>2</td>\n",
       "      <td>10</td>\n",
       "      <td>5196000.0</td>\n",
       "      <td>56.0</td>\n",
       "      <td>2015-08-20</td>\n",
       "      <td>2</td>\n",
       "      <td>2.60</td>\n",
       "      <td>5</td>\n",
       "      <td>34.3</td>\n",
       "      <td>4</td>\n",
       "      <td>False</td>\n",
       "      <td>...</td>\n",
       "      <td>2.0</td>\n",
       "      <td>574.0</td>\n",
       "      <td>558</td>\n",
       "      <td>92785.71</td>\n",
       "      <td>Thursday</td>\n",
       "      <td>August</td>\n",
       "      <td>2015</td>\n",
       "      <td>другой</td>\n",
       "      <td>0.612500</td>\n",
       "      <td>0.148214</td>\n",
       "    </tr>\n",
       "    <tr>\n",
       "      <td>3</td>\n",
       "      <td>0</td>\n",
       "      <td>64900000.0</td>\n",
       "      <td>159.0</td>\n",
       "      <td>2015-07-24</td>\n",
       "      <td>3</td>\n",
       "      <td>2.65</td>\n",
       "      <td>14</td>\n",
       "      <td>45.0</td>\n",
       "      <td>9</td>\n",
       "      <td>False</td>\n",
       "      <td>...</td>\n",
       "      <td>3.0</td>\n",
       "      <td>234.0</td>\n",
       "      <td>424</td>\n",
       "      <td>408176.10</td>\n",
       "      <td>Friday</td>\n",
       "      <td>July</td>\n",
       "      <td>2015</td>\n",
       "      <td>другой</td>\n",
       "      <td>0.283019</td>\n",
       "      <td>0.059748</td>\n",
       "    </tr>\n",
       "    <tr>\n",
       "      <td>4</td>\n",
       "      <td>2</td>\n",
       "      <td>10000000.0</td>\n",
       "      <td>100.0</td>\n",
       "      <td>2018-06-19</td>\n",
       "      <td>2</td>\n",
       "      <td>3.03</td>\n",
       "      <td>14</td>\n",
       "      <td>32.0</td>\n",
       "      <td>13</td>\n",
       "      <td>False</td>\n",
       "      <td>...</td>\n",
       "      <td>1.0</td>\n",
       "      <td>48.0</td>\n",
       "      <td>121</td>\n",
       "      <td>100000.00</td>\n",
       "      <td>Tuesday</td>\n",
       "      <td>June</td>\n",
       "      <td>2018</td>\n",
       "      <td>другой</td>\n",
       "      <td>0.320000</td>\n",
       "      <td>0.410000</td>\n",
       "    </tr>\n",
       "  </tbody>\n",
       "</table>\n",
       "<p>5 rows × 29 columns</p>\n",
       "</div>"
      ],
      "text/plain": [
       "   total_images  last_price  total_area first_day_exposition  rooms  \\\n",
       "0            20  13000000.0       108.0           2019-03-07      3   \n",
       "1             7   3350000.0        40.4           2018-12-04      1   \n",
       "2            10   5196000.0        56.0           2015-08-20      2   \n",
       "3             0  64900000.0       159.0           2015-07-24      3   \n",
       "4             2  10000000.0       100.0           2018-06-19      2   \n",
       "\n",
       "   ceiling_height  floors_total  living_area  floor  is_apartment  ...  \\\n",
       "0            2.70            16         51.0      8         False  ...   \n",
       "1            2.65            11         18.6      1         False  ...   \n",
       "2            2.60             5         34.3      4         False  ...   \n",
       "3            2.65            14         45.0      9         False  ...   \n",
       "4            3.03            14         32.0     13         False  ...   \n",
       "\n",
       "   ponds_around_3km  ponds_nearest  days_exposition  price_per_meter  \\\n",
       "0               2.0          755.0              114        120370.37   \n",
       "1               0.0            NaN               81         82920.79   \n",
       "2               2.0          574.0              558         92785.71   \n",
       "3               3.0          234.0              424        408176.10   \n",
       "4               1.0           48.0              121        100000.00   \n",
       "\n",
       "  day_of_week_exposition  month_exposition  year_exposition  floor_status  \\\n",
       "0               Thursday             March             2019        другой   \n",
       "1                Tuesday          December             2018        первый   \n",
       "2               Thursday            August             2015        другой   \n",
       "3                 Friday              July             2015        другой   \n",
       "4                Tuesday              June             2018        другой   \n",
       "\n",
       "   living_area_ratio  kitchen_area_ratio  \n",
       "0           0.472222            0.231481  \n",
       "1           0.460396            0.272277  \n",
       "2           0.612500            0.148214  \n",
       "3           0.283019            0.059748  \n",
       "4           0.320000            0.410000  \n",
       "\n",
       "[5 rows x 29 columns]"
      ]
     },
     "execution_count": 38,
     "metadata": {},
     "output_type": "execute_result"
    }
   ],
   "source": [
    "df['living_area_ratio'] = df['living_area'] / df['total_area'] #добавим соотношение жилой площади к общей\n",
    "df['kitchen_area_ratio'] = df['kitchen_area'] / df['total_area'] #добавим отношение площади кухни к общей\n",
    "df.head()"
   ]
  },
  {
   "cell_type": "markdown",
   "metadata": {},
   "source": [
    "### Вывод"
   ]
  },
  {
   "cell_type": "markdown",
   "metadata": {},
   "source": [
    "Необходимые расчеты были произведены и данные добавлены в датасет."
   ]
  },
  {
   "cell_type": "markdown",
   "metadata": {},
   "source": [
    "## Исследовательский анализ данных"
   ]
  },
  {
   "cell_type": "markdown",
   "metadata": {},
   "source": [
    "Проведем исследовательский анализ данных и определим наличие/отсутствие зависимости между показателями."
   ]
  },
  {
   "cell_type": "markdown",
   "metadata": {},
   "source": [
    "### Площадь, цена, число комнат, высота потолков"
   ]
  },
  {
   "cell_type": "code",
   "execution_count": 39,
   "metadata": {},
   "outputs": [
    {
     "data": {
      "text/plain": [
       "Text(0.5, 1.0, 'objects distribution by total area')"
      ]
     },
     "execution_count": 39,
     "metadata": {},
     "output_type": "execute_result"
    },
    {
     "data": {
      "image/png": "[encoded data removed]",
      "text/plain": [
       "<Figure size 1080x360 with 1 Axes>"
      ]
     },
     "metadata": {
      "needs_background": "light"
     },
     "output_type": "display_data"
    }
   ],
   "source": [
    "df.plot(kind = 'hist', y = 'total_area',bins = 200, range = (0, 300), figsize = (15, 5), grid = True) #построим гистограмму\n",
    "plt.xlabel('total_area') #при помощи метода добавим понятные описания для осей, а также название гистограммы\n",
    "plt.ylabel('number of objects')\n",
    "plt.title('objects distribution by total area')"
   ]
  },
  {
   "cell_type": "markdown",
   "metadata": {},
   "source": [
    "Преобладающее кол-во объявлений содержит информацию о недвижимости общей площадью от 30 до 75 кв. метров."
   ]
  },
  {
   "cell_type": "code",
   "execution_count": 40,
   "metadata": {},
   "outputs": [
    {
     "data": {
      "text/plain": [
       "Text(0.5, 1.0, 'objects distribution by price per meter')"
      ]
     },
     "execution_count": 40,
     "metadata": {},
     "output_type": "execute_result"
    },
    {
     "data": {
      "image/png": "[encoded data removed]",
      "text/plain": [
       "<Figure size 1080x360 with 1 Axes>"
      ]
     },
     "metadata": {
      "needs_background": "light"
     },
     "output_type": "display_data"
    }
   ],
   "source": [
    "df.plot(kind = 'hist', y = 'price_per_meter',bins = 200, range = (0, 500000), figsize = (15, 5), grid = True)\n",
    "plt.xlabel('price per meter')\n",
    "plt.ylabel('number of objects')\n",
    "plt.title('objects distribution by price per meter')"
   ]
  },
  {
   "cell_type": "markdown",
   "metadata": {},
   "source": [
    "Цена за 1 кв. метр в среднем варьируется в пределах 80 - 120 тыс. руб."
   ]
  },
  {
   "cell_type": "code",
   "execution_count": 41,
   "metadata": {},
   "outputs": [
    {
     "data": {
      "text/plain": [
       "Text(0.5, 1.0, 'objects distribution by number of rooms')"
      ]
     },
     "execution_count": 41,
     "metadata": {},
     "output_type": "execute_result"
    },
    {
     "data": {
      "image/png": "[encoded data removed]",
      "text/plain": [
       "<Figure size 1080x360 with 1 Axes>"
      ]
     },
     "metadata": {
      "needs_background": "light"
     },
     "output_type": "display_data"
    }
   ],
   "source": [
    "df.plot(kind = 'hist', y = 'rooms',bins = 50, figsize = (15, 5), xticks = df['rooms'].unique(), grid = True)\n",
    "plt.xlabel('number of rooms')\n",
    "plt.ylabel('number of objects')\n",
    "plt.title('objects distribution by number of rooms')"
   ]
  },
  {
   "cell_type": "markdown",
   "metadata": {},
   "source": [
    "Наиболее распространены однокомнатные квартиры (в т.ч. студии, свободная планировка), а также 2-3 комнатные квартиры."
   ]
  },
  {
   "cell_type": "code",
   "execution_count": 42,
   "metadata": {},
   "outputs": [
    {
     "data": {
      "text/plain": [
       "Text(0.5, 1.0, 'objects distribution by ceiling height')"
      ]
     },
     "execution_count": 42,
     "metadata": {},
     "output_type": "execute_result"
    },
    {
     "data": {
      "image/png": "[encoded data removed]",
      "text/plain": [
       "<Figure size 1080x360 with 1 Axes>"
      ]
     },
     "metadata": {
      "needs_background": "light"
     },
     "output_type": "display_data"
    }
   ],
   "source": [
    "df.plot(kind = 'hist', y = 'ceiling_height',bins = 50, range = (2, 4.5) ,figsize = (15, 5), grid = True)\n",
    "plt.xlabel('ceiling height')\n",
    "plt.ylabel('number of objects')\n",
    "plt.title('objects distribution by ceiling height')"
   ]
  },
  {
   "cell_type": "markdown",
   "metadata": {},
   "source": [
    "Высота потолков обычно составляет 2,5 - 2,8 метров."
   ]
  },
  {
   "cell_type": "markdown",
   "metadata": {},
   "source": [
    "### Время продажи квартиры"
   ]
  },
  {
   "cell_type": "code",
   "execution_count": 43,
   "metadata": {},
   "outputs": [
    {
     "data": {
      "text/plain": [
       "Text(0.5, 1.0, 'objects distribution by days exposition')"
      ]
     },
     "execution_count": 43,
     "metadata": {},
     "output_type": "execute_result"
    },
    {
     "data": {
      "image/png": "[encoded data removed]",
      "text/plain": [
       "<Figure size 1080x360 with 1 Axes>"
      ]
     },
     "metadata": {
      "needs_background": "light"
     },
     "output_type": "display_data"
    }
   ],
   "source": [
    "df.plot(kind = 'hist', y = 'days_exposition',bins = 100 ,figsize = (15, 5), grid = True)\n",
    "plt.xlabel('days exposition')\n",
    "plt.ylabel('number of objects')\n",
    "plt.title('objects distribution by days exposition')"
   ]
  },
  {
   "cell_type": "code",
   "execution_count": 44,
   "metadata": {
    "scrolled": true
   },
   "outputs": [
    {
     "data": {
      "text/plain": [
       "<matplotlib.axes._subplots.AxesSubplot at 0x7f25b2a70190>"
      ]
     },
     "execution_count": 44,
     "metadata": {},
     "output_type": "execute_result"
    },
    {
     "data": {
      "image/png": "[encoded data removed]",
      "text/plain": [
       "<Figure size 1080x360 with 1 Axes>"
      ]
     },
     "metadata": {
      "needs_background": "light"
     },
     "output_type": "display_data"
    }
   ],
   "source": [
    "df.boxplot(column = 'days_exposition', figsize = (15, 5)) #построим диаграмму размаха"
   ]
  },
  {
   "cell_type": "code",
   "execution_count": 45,
   "metadata": {},
   "outputs": [
    {
     "data": {
      "text/plain": [
       "count    23565.000000\n",
       "mean       170.472141\n",
       "std        206.405231\n",
       "min          1.000000\n",
       "25%         45.000000\n",
       "50%         92.000000\n",
       "75%        199.000000\n",
       "max       1580.000000\n",
       "Name: days_exposition, dtype: float64"
      ]
     },
     "execution_count": 45,
     "metadata": {},
     "output_type": "execute_result"
    }
   ],
   "source": [
    "df['days_exposition'].describe() #найдем 1 и 3 квартили, медиану"
   ]
  },
  {
   "cell_type": "code",
   "execution_count": 46,
   "metadata": {},
   "outputs": [
    {
     "name": "stdout",
     "output_type": "stream",
     "text": [
      "Нижняя граница: -186.0\n",
      "Верхняя граница: 430.0\n"
     ]
    }
   ],
   "source": [
    "print('Нижняя граница:', 45 - (199-45)*1.5) #определим границы нормальных значений\n",
    "print('Верхняя граница:', 199 + (199-45)*1.5)"
   ]
  },
  {
   "cell_type": "code",
   "execution_count": 47,
   "metadata": {},
   "outputs": [
    {
     "data": {
      "text/plain": [
       "170.47214088690856"
      ]
     },
     "execution_count": 47,
     "metadata": {},
     "output_type": "execute_result"
    }
   ],
   "source": [
    "df['days_exposition'].mean() #найдем среднее значение"
   ]
  },
  {
   "cell_type": "markdown",
   "metadata": {},
   "source": [
    "Продажа обычно занимает около полугода. В среднем каждое объявление закрывается через 171 день. Но есть исключения. Можно считать, что продажи прошли подозрительно быстро, когда время размещения объявления близко к 0 (Например, 1 день). Необычно долгий срок размещения объявления также может настораживать покупателей. Сюда можно отнести объявления по сроку свыше года."
   ]
  },
  {
   "cell_type": "markdown",
   "metadata": {},
   "source": [
    "### Редкие и выбивающиеся значения"
   ]
  },
  {
   "cell_type": "markdown",
   "metadata": {},
   "source": [
    "Для более точного ответа на целевые вопросы необходимо избавиться от редких, выбивающихся из выборки значений. Очистим данные по анализируемым столбцам."
   ]
  },
  {
   "cell_type": "code",
   "execution_count": 48,
   "metadata": {},
   "outputs": [],
   "source": [
    "def rare_values(df, col): # создадим функцию для определения межквартильного размаха, границ размаха для исключения выбросов\n",
    "    q1 = df[col].quantile(0.25)\n",
    "    q3 = df[col].quantile(0.75)\n",
    "    iqr = q3 - q1\n",
    "    bot_border = q1 - iqr*1.5\n",
    "    top_border = q3 + iqr*1.5\n",
    "    rare_values_bot = df.query(f'{col} < @bot_border')[col].count()\n",
    "    rare_values_top = df.query(f'{col} > @top_border')[col].count()\n",
    "    perc = ((rare_values_bot + rare_values_top) / df[col].count() * 100).round(1)\n",
    "    return (f'Первый квартиль = {q1}, Третий квартиль = {q3}\\n'\n",
    "            f'Нижняя граница = {bot_border}, Верхняя граница = {top_border}\\n'\n",
    "            f'Редкие значения до нижней границы = {rare_values_bot}\\n'\n",
    "            f'Редкие значения выше верхней границы = {rare_values_top}\\n'\n",
    "            f'Процент редких значений = {perc}'\n",
    "           )"
   ]
  },
  {
   "cell_type": "code",
   "execution_count": 49,
   "metadata": {},
   "outputs": [
    {
     "name": "stdout",
     "output_type": "stream",
     "text": [
      "Первый квартиль = 40.0, Третий квартиль = 69.7\n",
      "Нижняя граница = -4.550000000000004, Верхняя граница = 114.25\n",
      "Редкие значения до нижней границы = 0\n",
      "Редкие значения выше верхней границы = 1239\n",
      "Процент редких значений = 5.3\n"
     ]
    }
   ],
   "source": [
    "print(rare_values(df, 'total_area')) #определяем значения, которые стоит убрать"
   ]
  },
  {
   "cell_type": "code",
   "execution_count": 50,
   "metadata": {},
   "outputs": [
    {
     "name": "stdout",
     "output_type": "stream",
     "text": [
      "Первый квартиль = 76566.13, Третий квартиль = 114213.2\n",
      "Нижняя граница = 20095.525000000016, Верхняя граница = 170683.805\n",
      "Редкие значения до нижней границы = 172\n",
      "Редкие значения выше верхней границы = 917\n",
      "Процент редких значений = 4.6\n"
     ]
    }
   ],
   "source": [
    "print(rare_values(df, 'price_per_meter'))"
   ]
  },
  {
   "cell_type": "code",
   "execution_count": 51,
   "metadata": {},
   "outputs": [
    {
     "name": "stdout",
     "output_type": "stream",
     "text": [
      "Первый квартиль = 1.0, Третий квартиль = 3.0\n",
      "Нижняя граница = -2.0, Верхняя граница = 6.0\n",
      "Редкие значения до нижней границы = 0\n",
      "Редкие значения выше верхней границы = 90\n",
      "Процент редких значений = 0.4\n"
     ]
    }
   ],
   "source": [
    "print(rare_values(df, 'rooms'))"
   ]
  },
  {
   "cell_type": "code",
   "execution_count": 52,
   "metadata": {},
   "outputs": [
    {
     "name": "stdout",
     "output_type": "stream",
     "text": [
      "Первый квартиль = 2.6, Третий квартиль = 2.7\n",
      "Нижняя граница = 2.45, Верхняя граница = 2.8500000000000005\n",
      "Редкие значения до нижней границы = 44\n",
      "Редкие значения выше верхней границы = 3055\n",
      "Процент редких значений = 13.2\n"
     ]
    }
   ],
   "source": [
    "print(rare_values(df, 'ceiling_height'))"
   ]
  },
  {
   "cell_type": "code",
   "execution_count": 53,
   "metadata": {
    "scrolled": true
   },
   "outputs": [
    {
     "name": "stdout",
     "output_type": "stream",
     "text": [
      "Первый квартиль = 45.0, Третий квартиль = 199.0\n",
      "Нижняя граница = -186.0, Верхняя граница = 430.0\n",
      "Редкие значения до нижней границы = 0\n",
      "Редкие значения выше верхней границы = 2312\n",
      "Процент редких значений = 9.8\n"
     ]
    }
   ],
   "source": [
    "print(rare_values(df, 'days_exposition'))"
   ]
  },
  {
   "cell_type": "code",
   "execution_count": 54,
   "metadata": {},
   "outputs": [
    {
     "data": {
      "text/html": [
       "<div>\n",
       "<style scoped>\n",
       "    .dataframe tbody tr th:only-of-type {\n",
       "        vertical-align: middle;\n",
       "    }\n",
       "\n",
       "    .dataframe tbody tr th {\n",
       "        vertical-align: top;\n",
       "    }\n",
       "\n",
       "    .dataframe thead th {\n",
       "        text-align: right;\n",
       "    }\n",
       "</style>\n",
       "<table border=\"1\" class=\"dataframe\">\n",
       "  <thead>\n",
       "    <tr style=\"text-align: right;\">\n",
       "      <th></th>\n",
       "      <th>total_images</th>\n",
       "      <th>last_price</th>\n",
       "      <th>total_area</th>\n",
       "      <th>rooms</th>\n",
       "      <th>ceiling_height</th>\n",
       "      <th>floors_total</th>\n",
       "      <th>living_area</th>\n",
       "      <th>floor</th>\n",
       "      <th>kitchen_area</th>\n",
       "      <th>balcony</th>\n",
       "      <th>...</th>\n",
       "      <th>city_centers_nearest</th>\n",
       "      <th>parks_around_3km</th>\n",
       "      <th>parks_nearest</th>\n",
       "      <th>ponds_around_3km</th>\n",
       "      <th>ponds_nearest</th>\n",
       "      <th>days_exposition</th>\n",
       "      <th>price_per_meter</th>\n",
       "      <th>year_exposition</th>\n",
       "      <th>living_area_ratio</th>\n",
       "      <th>kitchen_area_ratio</th>\n",
       "    </tr>\n",
       "  </thead>\n",
       "  <tbody>\n",
       "    <tr>\n",
       "      <td>count</td>\n",
       "      <td>17788.000000</td>\n",
       "      <td>1.778800e+04</td>\n",
       "      <td>17788.000000</td>\n",
       "      <td>17788.000000</td>\n",
       "      <td>17788.000000</td>\n",
       "      <td>17788.000000</td>\n",
       "      <td>17788.000000</td>\n",
       "      <td>17788.000000</td>\n",
       "      <td>17788.000000</td>\n",
       "      <td>17788.000000</td>\n",
       "      <td>...</td>\n",
       "      <td>17788.000000</td>\n",
       "      <td>13187.000000</td>\n",
       "      <td>5090.000000</td>\n",
       "      <td>13187.000000</td>\n",
       "      <td>6078.000000</td>\n",
       "      <td>17788.000000</td>\n",
       "      <td>17788.000000</td>\n",
       "      <td>17788.000000</td>\n",
       "      <td>17788.000000</td>\n",
       "      <td>17788.000000</td>\n",
       "    </tr>\n",
       "    <tr>\n",
       "      <td>mean</td>\n",
       "      <td>9.807005</td>\n",
       "      <td>4.770029e+06</td>\n",
       "      <td>51.967184</td>\n",
       "      <td>1.894367</td>\n",
       "      <td>2.622953</td>\n",
       "      <td>11.335563</td>\n",
       "      <td>29.570565</td>\n",
       "      <td>6.168765</td>\n",
       "      <td>9.458832</td>\n",
       "      <td>0.626546</td>\n",
       "      <td>...</td>\n",
       "      <td>14973.487070</td>\n",
       "      <td>0.498066</td>\n",
       "      <td>500.037328</td>\n",
       "      <td>0.653371</td>\n",
       "      <td>543.283975</td>\n",
       "      <td>110.596020</td>\n",
       "      <td>91817.203589</td>\n",
       "      <td>2017.536485</td>\n",
       "      <td>0.562678</td>\n",
       "      <td>0.193688</td>\n",
       "    </tr>\n",
       "    <tr>\n",
       "      <td>std</td>\n",
       "      <td>5.572475</td>\n",
       "      <td>2.331694e+06</td>\n",
       "      <td>17.773654</td>\n",
       "      <td>0.859518</td>\n",
       "      <td>0.083938</td>\n",
       "      <td>6.679770</td>\n",
       "      <td>12.352663</td>\n",
       "      <td>5.014878</td>\n",
       "      <td>3.571988</td>\n",
       "      <td>0.959521</td>\n",
       "      <td>...</td>\n",
       "      <td>7102.182919</td>\n",
       "      <td>0.716679</td>\n",
       "      <td>328.093238</td>\n",
       "      <td>0.843627</td>\n",
       "      <td>276.167734</td>\n",
       "      <td>96.361469</td>\n",
       "      <td>27810.211080</td>\n",
       "      <td>0.894230</td>\n",
       "      <td>0.107494</td>\n",
       "      <td>0.072175</td>\n",
       "    </tr>\n",
       "    <tr>\n",
       "      <td>min</td>\n",
       "      <td>0.000000</td>\n",
       "      <td>6.300000e+05</td>\n",
       "      <td>13.000000</td>\n",
       "      <td>1.000000</td>\n",
       "      <td>2.450000</td>\n",
       "      <td>1.000000</td>\n",
       "      <td>2.000000</td>\n",
       "      <td>1.000000</td>\n",
       "      <td>1.300000</td>\n",
       "      <td>0.000000</td>\n",
       "      <td>...</td>\n",
       "      <td>399.000000</td>\n",
       "      <td>0.000000</td>\n",
       "      <td>1.000000</td>\n",
       "      <td>0.000000</td>\n",
       "      <td>13.000000</td>\n",
       "      <td>1.000000</td>\n",
       "      <td>20192.310000</td>\n",
       "      <td>2014.000000</td>\n",
       "      <td>0.069588</td>\n",
       "      <td>0.043524</td>\n",
       "    </tr>\n",
       "    <tr>\n",
       "      <td>25%</td>\n",
       "      <td>6.000000</td>\n",
       "      <td>3.290000e+06</td>\n",
       "      <td>38.145000</td>\n",
       "      <td>1.000000</td>\n",
       "      <td>2.570000</td>\n",
       "      <td>5.000000</td>\n",
       "      <td>18.000000</td>\n",
       "      <td>2.000000</td>\n",
       "      <td>7.000000</td>\n",
       "      <td>0.000000</td>\n",
       "      <td>...</td>\n",
       "      <td>12264.000000</td>\n",
       "      <td>0.000000</td>\n",
       "      <td>304.000000</td>\n",
       "      <td>0.000000</td>\n",
       "      <td>330.000000</td>\n",
       "      <td>44.000000</td>\n",
       "      <td>74780.140000</td>\n",
       "      <td>2017.000000</td>\n",
       "      <td>0.490499</td>\n",
       "      <td>0.139130</td>\n",
       "    </tr>\n",
       "    <tr>\n",
       "      <td>50%</td>\n",
       "      <td>9.000000</td>\n",
       "      <td>4.300000e+06</td>\n",
       "      <td>47.800000</td>\n",
       "      <td>2.000000</td>\n",
       "      <td>2.650000</td>\n",
       "      <td>9.000000</td>\n",
       "      <td>29.000000</td>\n",
       "      <td>5.000000</td>\n",
       "      <td>9.000000</td>\n",
       "      <td>0.000000</td>\n",
       "      <td>...</td>\n",
       "      <td>13073.000000</td>\n",
       "      <td>0.000000</td>\n",
       "      <td>469.000000</td>\n",
       "      <td>0.000000</td>\n",
       "      <td>529.000000</td>\n",
       "      <td>83.000000</td>\n",
       "      <td>92560.355000</td>\n",
       "      <td>2018.000000</td>\n",
       "      <td>0.563934</td>\n",
       "      <td>0.179487</td>\n",
       "    </tr>\n",
       "    <tr>\n",
       "      <td>75%</td>\n",
       "      <td>14.000000</td>\n",
       "      <td>5.700000e+06</td>\n",
       "      <td>62.000000</td>\n",
       "      <td>3.000000</td>\n",
       "      <td>2.650000</td>\n",
       "      <td>16.000000</td>\n",
       "      <td>38.000000</td>\n",
       "      <td>8.000000</td>\n",
       "      <td>10.800000</td>\n",
       "      <td>1.000000</td>\n",
       "      <td>...</td>\n",
       "      <td>15776.750000</td>\n",
       "      <td>1.000000</td>\n",
       "      <td>624.000000</td>\n",
       "      <td>1.000000</td>\n",
       "      <td>755.000000</td>\n",
       "      <td>146.000000</td>\n",
       "      <td>109065.392500</td>\n",
       "      <td>2018.000000</td>\n",
       "      <td>0.634783</td>\n",
       "      <td>0.238827</td>\n",
       "    </tr>\n",
       "    <tr>\n",
       "      <td>max</td>\n",
       "      <td>50.000000</td>\n",
       "      <td>1.870000e+07</td>\n",
       "      <td>114.200000</td>\n",
       "      <td>6.000000</td>\n",
       "      <td>2.850000</td>\n",
       "      <td>52.000000</td>\n",
       "      <td>93.600000</td>\n",
       "      <td>33.000000</td>\n",
       "      <td>50.000000</td>\n",
       "      <td>5.000000</td>\n",
       "      <td>...</td>\n",
       "      <td>65952.000000</td>\n",
       "      <td>3.000000</td>\n",
       "      <td>3190.000000</td>\n",
       "      <td>3.000000</td>\n",
       "      <td>1344.000000</td>\n",
       "      <td>430.000000</td>\n",
       "      <td>170648.460000</td>\n",
       "      <td>2019.000000</td>\n",
       "      <td>1.515476</td>\n",
       "      <td>0.787879</td>\n",
       "    </tr>\n",
       "  </tbody>\n",
       "</table>\n",
       "<p>8 rows × 21 columns</p>\n",
       "</div>"
      ],
      "text/plain": [
       "       total_images    last_price    total_area         rooms  ceiling_height  \\\n",
       "count  17788.000000  1.778800e+04  17788.000000  17788.000000    17788.000000   \n",
       "mean       9.807005  4.770029e+06     51.967184      1.894367        2.622953   \n",
       "std        5.572475  2.331694e+06     17.773654      0.859518        0.083938   \n",
       "min        0.000000  6.300000e+05     13.000000      1.000000        2.450000   \n",
       "25%        6.000000  3.290000e+06     38.145000      1.000000        2.570000   \n",
       "50%        9.000000  4.300000e+06     47.800000      2.000000        2.650000   \n",
       "75%       14.000000  5.700000e+06     62.000000      3.000000        2.650000   \n",
       "max       50.000000  1.870000e+07    114.200000      6.000000        2.850000   \n",
       "\n",
       "       floors_total   living_area         floor  kitchen_area       balcony  \\\n",
       "count  17788.000000  17788.000000  17788.000000  17788.000000  17788.000000   \n",
       "mean      11.335563     29.570565      6.168765      9.458832      0.626546   \n",
       "std        6.679770     12.352663      5.014878      3.571988      0.959521   \n",
       "min        1.000000      2.000000      1.000000      1.300000      0.000000   \n",
       "25%        5.000000     18.000000      2.000000      7.000000      0.000000   \n",
       "50%        9.000000     29.000000      5.000000      9.000000      0.000000   \n",
       "75%       16.000000     38.000000      8.000000     10.800000      1.000000   \n",
       "max       52.000000     93.600000     33.000000     50.000000      5.000000   \n",
       "\n",
       "       ...  city_centers_nearest  parks_around_3km  parks_nearest  \\\n",
       "count  ...          17788.000000      13187.000000    5090.000000   \n",
       "mean   ...          14973.487070          0.498066     500.037328   \n",
       "std    ...           7102.182919          0.716679     328.093238   \n",
       "min    ...            399.000000          0.000000       1.000000   \n",
       "25%    ...          12264.000000          0.000000     304.000000   \n",
       "50%    ...          13073.000000          0.000000     469.000000   \n",
       "75%    ...          15776.750000          1.000000     624.000000   \n",
       "max    ...          65952.000000          3.000000    3190.000000   \n",
       "\n",
       "       ponds_around_3km  ponds_nearest  days_exposition  price_per_meter  \\\n",
       "count      13187.000000    6078.000000     17788.000000     17788.000000   \n",
       "mean           0.653371     543.283975       110.596020     91817.203589   \n",
       "std            0.843627     276.167734        96.361469     27810.211080   \n",
       "min            0.000000      13.000000         1.000000     20192.310000   \n",
       "25%            0.000000     330.000000        44.000000     74780.140000   \n",
       "50%            0.000000     529.000000        83.000000     92560.355000   \n",
       "75%            1.000000     755.000000       146.000000    109065.392500   \n",
       "max            3.000000    1344.000000       430.000000    170648.460000   \n",
       "\n",
       "       year_exposition  living_area_ratio  kitchen_area_ratio  \n",
       "count     17788.000000       17788.000000        17788.000000  \n",
       "mean       2017.536485           0.562678            0.193688  \n",
       "std           0.894230           0.107494            0.072175  \n",
       "min        2014.000000           0.069588            0.043524  \n",
       "25%        2017.000000           0.490499            0.139130  \n",
       "50%        2018.000000           0.563934            0.179487  \n",
       "75%        2018.000000           0.634783            0.238827  \n",
       "max        2019.000000           1.515476            0.787879  \n",
       "\n",
       "[8 rows x 21 columns]"
      ]
     },
     "execution_count": 54,
     "metadata": {},
     "output_type": "execute_result"
    }
   ],
   "source": [
    "df_new = df[(df['total_area'] <= 114.25) & #создаем новый датасет уже без учета редких значений\n",
    "            (df['price_per_meter'] >= 20095.525000000016) & \n",
    "            (df['price_per_meter'] <= 170683.805) & \n",
    "            (df['rooms'] <= 6) & \n",
    "            (df['ceiling_height'] >= 2.45) & \n",
    "            (df['ceiling_height'] <= 2.8500000000000005) & \n",
    "            (df['days_exposition'] <= 430.0)]\n",
    "    df_new.describe()"
   ]
  },
  {
   "cell_type": "markdown",
   "metadata": {},
   "source": [
    "### Зависимость стоимости квартиры от критериев"
   ]
  },
  {
   "cell_type": "markdown",
   "metadata": {},
   "source": [
    "Какие факторы больше всего влияют на стоимость квартиры? Определим, зависит ли цена от площади, числа комнат, удалённости от центра, на каком этаже расположена квартира, от даты размещения: дня недели, месяца и года."
   ]
  },
  {
   "cell_type": "code",
   "execution_count": 55,
   "metadata": {
    "scrolled": true
   },
   "outputs": [
    {
     "data": {
      "text/html": [
       "<style  type=\"text/css\" >\n",
       "    #T_37c27876_70bd_11ec_9845_02420a39cad4row0_col0 {\n",
       "            background-color:  #023858;\n",
       "            color:  #f1f1f1;\n",
       "        }    #T_37c27876_70bd_11ec_9845_02420a39cad4row0_col1 {\n",
       "            background-color:  #f5eff6;\n",
       "            color:  #000000;\n",
       "        }    #T_37c27876_70bd_11ec_9845_02420a39cad4row0_col2 {\n",
       "            background-color:  #fff7fb;\n",
       "            color:  #000000;\n",
       "        }    #T_37c27876_70bd_11ec_9845_02420a39cad4row0_col3 {\n",
       "            background-color:  #fff7fb;\n",
       "            color:  #000000;\n",
       "        }    #T_37c27876_70bd_11ec_9845_02420a39cad4row0_col4 {\n",
       "            background-color:  #a7bddb;\n",
       "            color:  #000000;\n",
       "        }    #T_37c27876_70bd_11ec_9845_02420a39cad4row1_col0 {\n",
       "            background-color:  #e5e1ef;\n",
       "            color:  #000000;\n",
       "        }    #T_37c27876_70bd_11ec_9845_02420a39cad4row1_col1 {\n",
       "            background-color:  #023858;\n",
       "            color:  #f1f1f1;\n",
       "        }    #T_37c27876_70bd_11ec_9845_02420a39cad4row1_col2 {\n",
       "            background-color:  #f2ecf5;\n",
       "            color:  #000000;\n",
       "        }    #T_37c27876_70bd_11ec_9845_02420a39cad4row1_col3 {\n",
       "            background-color:  #04629a;\n",
       "            color:  #f1f1f1;\n",
       "        }    #T_37c27876_70bd_11ec_9845_02420a39cad4row1_col4 {\n",
       "            background-color:  #e7e3f0;\n",
       "            color:  #000000;\n",
       "        }    #T_37c27876_70bd_11ec_9845_02420a39cad4row2_col0 {\n",
       "            background-color:  #fef6fa;\n",
       "            color:  #000000;\n",
       "        }    #T_37c27876_70bd_11ec_9845_02420a39cad4row2_col1 {\n",
       "            background-color:  #fff7fb;\n",
       "            color:  #000000;\n",
       "        }    #T_37c27876_70bd_11ec_9845_02420a39cad4row2_col2 {\n",
       "            background-color:  #023858;\n",
       "            color:  #f1f1f1;\n",
       "        }    #T_37c27876_70bd_11ec_9845_02420a39cad4row2_col3 {\n",
       "            background-color:  #ebe6f2;\n",
       "            color:  #000000;\n",
       "        }    #T_37c27876_70bd_11ec_9845_02420a39cad4row2_col4 {\n",
       "            background-color:  #f1ebf4;\n",
       "            color:  #000000;\n",
       "        }    #T_37c27876_70bd_11ec_9845_02420a39cad4row3_col0 {\n",
       "            background-color:  #fff7fb;\n",
       "            color:  #000000;\n",
       "        }    #T_37c27876_70bd_11ec_9845_02420a39cad4row3_col1 {\n",
       "            background-color:  #0566a0;\n",
       "            color:  #f1f1f1;\n",
       "        }    #T_37c27876_70bd_11ec_9845_02420a39cad4row3_col2 {\n",
       "            background-color:  #ede8f3;\n",
       "            color:  #000000;\n",
       "        }    #T_37c27876_70bd_11ec_9845_02420a39cad4row3_col3 {\n",
       "            background-color:  #023858;\n",
       "            color:  #f1f1f1;\n",
       "        }    #T_37c27876_70bd_11ec_9845_02420a39cad4row3_col4 {\n",
       "            background-color:  #fff7fb;\n",
       "            color:  #000000;\n",
       "        }    #T_37c27876_70bd_11ec_9845_02420a39cad4row4_col0 {\n",
       "            background-color:  #9cb9d9;\n",
       "            color:  #000000;\n",
       "        }    #T_37c27876_70bd_11ec_9845_02420a39cad4row4_col1 {\n",
       "            background-color:  #f2ecf5;\n",
       "            color:  #000000;\n",
       "        }    #T_37c27876_70bd_11ec_9845_02420a39cad4row4_col2 {\n",
       "            background-color:  #ede8f3;\n",
       "            color:  #000000;\n",
       "        }    #T_37c27876_70bd_11ec_9845_02420a39cad4row4_col3 {\n",
       "            background-color:  #faf2f8;\n",
       "            color:  #000000;\n",
       "        }    #T_37c27876_70bd_11ec_9845_02420a39cad4row4_col4 {\n",
       "            background-color:  #023858;\n",
       "            color:  #f1f1f1;\n",
       "        }</style><table id=\"T_37c27876_70bd_11ec_9845_02420a39cad4\" ><thead>    <tr>        <th class=\"blank level0\" ></th>        <th class=\"col_heading level0 col0\" >price_per_meter</th>        <th class=\"col_heading level0 col1\" >total_area</th>        <th class=\"col_heading level0 col2\" >city_centers_nearest</th>        <th class=\"col_heading level0 col3\" >rooms</th>        <th class=\"col_heading level0 col4\" >floor</th>    </tr></thead><tbody>\n",
       "                <tr>\n",
       "                        <th id=\"T_37c27876_70bd_11ec_9845_02420a39cad4level0_row0\" class=\"row_heading level0 row0\" >price_per_meter</th>\n",
       "                        <td id=\"T_37c27876_70bd_11ec_9845_02420a39cad4row0_col0\" class=\"data row0 col0\" >1</td>\n",
       "                        <td id=\"T_37c27876_70bd_11ec_9845_02420a39cad4row0_col1\" class=\"data row0 col1\" >-0.00293964</td>\n",
       "                        <td id=\"T_37c27876_70bd_11ec_9845_02420a39cad4row0_col2\" class=\"data row0 col2\" >-0.17637</td>\n",
       "                        <td id=\"T_37c27876_70bd_11ec_9845_02420a39cad4row0_col3\" class=\"data row0 col3\" >-0.190012</td>\n",
       "                        <td id=\"T_37c27876_70bd_11ec_9845_02420a39cad4row0_col4\" class=\"data row0 col4\" >0.284419</td>\n",
       "            </tr>\n",
       "            <tr>\n",
       "                        <th id=\"T_37c27876_70bd_11ec_9845_02420a39cad4level0_row1\" class=\"row_heading level0 row1\" >total_area</th>\n",
       "                        <td id=\"T_37c27876_70bd_11ec_9845_02420a39cad4row1_col0\" class=\"data row1 col0\" >-0.00293964</td>\n",
       "                        <td id=\"T_37c27876_70bd_11ec_9845_02420a39cad4row1_col1\" class=\"data row1 col1\" >1</td>\n",
       "                        <td id=\"T_37c27876_70bd_11ec_9845_02420a39cad4row1_col2\" class=\"data row1 col2\" >-0.0731319</td>\n",
       "                        <td id=\"T_37c27876_70bd_11ec_9845_02420a39cad4row1_col3\" class=\"data row1 col3\" >0.793868</td>\n",
       "                        <td id=\"T_37c27876_70bd_11ec_9845_02420a39cad4row1_col4\" class=\"data row1 col4\" >0.0230668</td>\n",
       "            </tr>\n",
       "            <tr>\n",
       "                        <th id=\"T_37c27876_70bd_11ec_9845_02420a39cad4level0_row2\" class=\"row_heading level0 row2\" >city_centers_nearest</th>\n",
       "                        <td id=\"T_37c27876_70bd_11ec_9845_02420a39cad4row2_col0\" class=\"data row2 col0\" >-0.17637</td>\n",
       "                        <td id=\"T_37c27876_70bd_11ec_9845_02420a39cad4row2_col1\" class=\"data row2 col1\" >-0.0731319</td>\n",
       "                        <td id=\"T_37c27876_70bd_11ec_9845_02420a39cad4row2_col2\" class=\"data row2 col2\" >1</td>\n",
       "                        <td id=\"T_37c27876_70bd_11ec_9845_02420a39cad4row2_col3\" class=\"data row2 col3\" >-0.0362153</td>\n",
       "                        <td id=\"T_37c27876_70bd_11ec_9845_02420a39cad4row2_col4\" class=\"data row2 col4\" >-0.0339903</td>\n",
       "            </tr>\n",
       "            <tr>\n",
       "                        <th id=\"T_37c27876_70bd_11ec_9845_02420a39cad4level0_row3\" class=\"row_heading level0 row3\" >rooms</th>\n",
       "                        <td id=\"T_37c27876_70bd_11ec_9845_02420a39cad4row3_col0\" class=\"data row3 col0\" >-0.190012</td>\n",
       "                        <td id=\"T_37c27876_70bd_11ec_9845_02420a39cad4row3_col1\" class=\"data row3 col1\" >0.793868</td>\n",
       "                        <td id=\"T_37c27876_70bd_11ec_9845_02420a39cad4row3_col2\" class=\"data row3 col2\" >-0.0362153</td>\n",
       "                        <td id=\"T_37c27876_70bd_11ec_9845_02420a39cad4row3_col3\" class=\"data row3 col3\" >1</td>\n",
       "                        <td id=\"T_37c27876_70bd_11ec_9845_02420a39cad4row3_col4\" class=\"data row3 col4\" >-0.144451</td>\n",
       "            </tr>\n",
       "            <tr>\n",
       "                        <th id=\"T_37c27876_70bd_11ec_9845_02420a39cad4level0_row4\" class=\"row_heading level0 row4\" >floor</th>\n",
       "                        <td id=\"T_37c27876_70bd_11ec_9845_02420a39cad4row4_col0\" class=\"data row4 col0\" >0.284419</td>\n",
       "                        <td id=\"T_37c27876_70bd_11ec_9845_02420a39cad4row4_col1\" class=\"data row4 col1\" >0.0230668</td>\n",
       "                        <td id=\"T_37c27876_70bd_11ec_9845_02420a39cad4row4_col2\" class=\"data row4 col2\" >-0.0339903</td>\n",
       "                        <td id=\"T_37c27876_70bd_11ec_9845_02420a39cad4row4_col3\" class=\"data row4 col3\" >-0.144451</td>\n",
       "                        <td id=\"T_37c27876_70bd_11ec_9845_02420a39cad4row4_col4\" class=\"data row4 col4\" >1</td>\n",
       "            </tr>\n",
       "    </tbody></table>"
      ],
      "text/plain": [
       "<pandas.io.formats.style.Styler at 0x7f25b29c0cd0>"
      ]
     },
     "execution_count": 55,
     "metadata": {},
     "output_type": "execute_result"
    }
   ],
   "source": [
    "corr = df_new[['price_per_meter',\\\n",
    "           'total_area',\\\n",
    "           'city_centers_nearest',\\\n",
    "           'rooms',\\\n",
    "           'floor']].corr()#зависимость цены от площади, кол-ва комнат, этажа, удаленности от центра\n",
    "corr.style.background_gradient()"
   ]
  },
  {
   "cell_type": "markdown",
   "metadata": {},
   "source": [
    "В наибольшей степени цена квартиры зависит от этажа, на котором она располагается. Присутствует прямая зависимость: с увеличением этажа растет и цена за 1 кв. метр. Также хочется отметить, что по ряду показателей присутствует обратная зависимость. Например, близость к центру: чем меньше расстояние до центра, тем выше цена за 1 кв. метр. Аналогично и с кол-вом комнат в квартире: чем больше комнат, тем ниже цена 1 кв. метра (5комнатные и более квартиры менее востребованы, спрос ниже, соответственно,в расчете на 1 кв. метр цена ниже). Взаимосвязь между общей площадью и ценой за 1 кв. метр близка к 0 отчасти из=за особенностей расчета в рамках анализа."
   ]
  },
  {
   "cell_type": "code",
   "execution_count": 56,
   "metadata": {},
   "outputs": [
    {
     "data": {
      "image/png": "[encoded data removed]",
      "text/plain": [
       "<Figure size 1080x360 with 1 Axes>"
      ]
     },
     "metadata": {
      "needs_background": "light"
     },
     "output_type": "display_data"
    },
    {
     "data": {
      "image/png": "[encoded data removed]",
      "text/plain": [
       "<Figure size 1080x360 with 1 Axes>"
      ]
     },
     "metadata": {
      "needs_background": "light"
     },
     "output_type": "display_data"
    },
    {
     "data": {
      "image/png": "[encoded data removed]",
      "text/plain": [
       "<Figure size 1080x360 with 1 Axes>"
      ]
     },
     "metadata": {
      "needs_background": "light"
     },
     "output_type": "display_data"
    },
    {
     "data": {
      "image/png": "[encoded data removed]",
      "text/plain": [
       "<Figure size 1080x360 with 1 Axes>"
      ]
     },
     "metadata": {
      "needs_background": "light"
     },
     "output_type": "display_data"
    }
   ],
   "source": [
    "relevant_columns = ['floor_status', 'day_of_week_exposition', 'month_exposition', 'year_exposition']\n",
    "for relevant_column in relevant_columns:\n",
    "    df_new.boxplot('price_per_meter', by=relevant_column,figsize=(15,5))"
   ]
  },
  {
   "cell_type": "markdown",
   "metadata": {},
   "source": [
    "Стоимость 1 кв. метра для квартиры на 1 этаже оценивается ниже всего.\n",
    "\n",
    "Проанализируем объявления с точки зрения даты размещения."
   ]
  },
  {
   "cell_type": "markdown",
   "metadata": {},
   "source": [
    "При рассмотрении даты публикации объявления не было выявлено зависимости от дня недели, месяца или года публикации. Ситуация соответствует рыночной."
   ]
  },
  {
   "cell_type": "markdown",
   "metadata": {},
   "source": [
    "### Топ-10 населенных пунктов с наибольшим числом объявлений"
   ]
  },
  {
   "cell_type": "markdown",
   "metadata": {},
   "source": [
    "Выберем 10 населённых пунктов с наибольшим числом объявлений. Посчитаем среднюю цену квадратного метра в этих населённых пунктах. Выделим населённые пункты с самой высокой и низкой стоимостью жилья."
   ]
  },
  {
   "cell_type": "code",
   "execution_count": 61,
   "metadata": {},
   "outputs": [
    {
     "name": "stdout",
     "output_type": "stream",
     "text": [
      "['санкт-петербург' 'поселок мурино' 'поселок шушары' 'всеволожск'\n",
      " 'поселок парголово' 'колпино' 'пушкин' 'деревня кудрово' 'гатчина'\n",
      " 'выборг']\n",
      "                   price_per_meter\n",
      "locality_name                     \n",
      "санкт-петербург      105020.046884\n",
      "пушкин               100957.819893\n",
      "деревня кудрово       92715.236000\n",
      "поселок парголово     89962.650528\n",
      "поселок мурино        85884.590379\n",
      "поселок шушары        78636.622757\n",
      "колпино               75455.081520\n",
      "гатчина               69136.016299\n",
      "всеволожск            67238.995533\n",
      "выборг                58156.976364\n",
      "Населенный пункт с самой высокой стоимостью жилья: ['санкт-петербург']\n",
      "Населенный пункт с самой низкой стоимостью жилья: ['выборг']\n"
     ]
    }
   ],
   "source": [
    "top_10 = df_new['locality_name'].value_counts().sort_values(ascending = False).head(10).index.values\n",
    "print(top_10) #находим топ-10 городов по числу объявлений\n",
    "df_new_top_10 = df_new[df_new['locality_name'].isin(top_10)].groupby('locality_name').agg({'price_per_meter':'mean'})\\\n",
    "                                                                .sort_values(by = 'price_per_meter', ascending = False)\n",
    "#находим среднюю цену квадратного метра в этих населённых пунктах\n",
    "print(df_new_top_10)\n",
    "print('Населенный пункт с самой высокой стоимостью жилья:', df_new_top_10.head(1).index.values)\n",
    "print('Населенный пункт с самой низкой стоимостью жилья:', df_new_top_10.tail(1).index.values)"
   ]
  },
  {
   "cell_type": "markdown",
   "metadata": {},
   "source": [
    "### Квартиры в центре Санкт-Петербурга"
   ]
  },
  {
   "cell_type": "markdown",
   "metadata": {},
   "source": [
    "Населенный пункт с самой высокой стоимостью жилья: Санкт-Петербург. Выясним, какая область входит в центр. "
   ]
  },
  {
   "cell_type": "code",
   "execution_count": 62,
   "metadata": {},
   "outputs": [
    {
     "data": {
      "text/html": [
       "<div>\n",
       "<style scoped>\n",
       "    .dataframe tbody tr th:only-of-type {\n",
       "        vertical-align: middle;\n",
       "    }\n",
       "\n",
       "    .dataframe tbody tr th {\n",
       "        vertical-align: top;\n",
       "    }\n",
       "\n",
       "    .dataframe thead th {\n",
       "        text-align: right;\n",
       "    }\n",
       "</style>\n",
       "<table border=\"1\" class=\"dataframe\">\n",
       "  <thead>\n",
       "    <tr style=\"text-align: right;\">\n",
       "      <th></th>\n",
       "      <th>total_images</th>\n",
       "      <th>last_price</th>\n",
       "      <th>total_area</th>\n",
       "      <th>first_day_exposition</th>\n",
       "      <th>rooms</th>\n",
       "      <th>ceiling_height</th>\n",
       "      <th>floors_total</th>\n",
       "      <th>living_area</th>\n",
       "      <th>floor</th>\n",
       "      <th>is_apartment</th>\n",
       "      <th>...</th>\n",
       "      <th>ponds_nearest</th>\n",
       "      <th>days_exposition</th>\n",
       "      <th>price_per_meter</th>\n",
       "      <th>day_of_week_exposition</th>\n",
       "      <th>month_exposition</th>\n",
       "      <th>year_exposition</th>\n",
       "      <th>floor_status</th>\n",
       "      <th>living_area_ratio</th>\n",
       "      <th>kitchen_area_ratio</th>\n",
       "      <th>city_centers_nearest_km</th>\n",
       "    </tr>\n",
       "  </thead>\n",
       "  <tbody>\n",
       "    <tr>\n",
       "      <td>0</td>\n",
       "      <td>20</td>\n",
       "      <td>13000000.0</td>\n",
       "      <td>108.0</td>\n",
       "      <td>2019-03-07</td>\n",
       "      <td>3</td>\n",
       "      <td>2.70</td>\n",
       "      <td>16</td>\n",
       "      <td>51.0</td>\n",
       "      <td>8</td>\n",
       "      <td>False</td>\n",
       "      <td>...</td>\n",
       "      <td>755.0</td>\n",
       "      <td>114</td>\n",
       "      <td>120370.37</td>\n",
       "      <td>Thursday</td>\n",
       "      <td>March</td>\n",
       "      <td>2019</td>\n",
       "      <td>другой</td>\n",
       "      <td>0.472222</td>\n",
       "      <td>0.231481</td>\n",
       "      <td>16</td>\n",
       "    </tr>\n",
       "    <tr>\n",
       "      <td>7</td>\n",
       "      <td>5</td>\n",
       "      <td>7915000.0</td>\n",
       "      <td>71.6</td>\n",
       "      <td>2019-04-18</td>\n",
       "      <td>2</td>\n",
       "      <td>2.60</td>\n",
       "      <td>24</td>\n",
       "      <td>30.5</td>\n",
       "      <td>22</td>\n",
       "      <td>False</td>\n",
       "      <td>...</td>\n",
       "      <td>NaN</td>\n",
       "      <td>91</td>\n",
       "      <td>110544.69</td>\n",
       "      <td>Thursday</td>\n",
       "      <td>April</td>\n",
       "      <td>2019</td>\n",
       "      <td>другой</td>\n",
       "      <td>0.425978</td>\n",
       "      <td>0.263966</td>\n",
       "      <td>12</td>\n",
       "    </tr>\n",
       "    <tr>\n",
       "      <td>9</td>\n",
       "      <td>18</td>\n",
       "      <td>5400000.0</td>\n",
       "      <td>61.0</td>\n",
       "      <td>2017-02-26</td>\n",
       "      <td>3</td>\n",
       "      <td>2.50</td>\n",
       "      <td>9</td>\n",
       "      <td>43.6</td>\n",
       "      <td>7</td>\n",
       "      <td>False</td>\n",
       "      <td>...</td>\n",
       "      <td>NaN</td>\n",
       "      <td>289</td>\n",
       "      <td>88524.59</td>\n",
       "      <td>Sunday</td>\n",
       "      <td>February</td>\n",
       "      <td>2017</td>\n",
       "      <td>другой</td>\n",
       "      <td>0.714754</td>\n",
       "      <td>0.106557</td>\n",
       "      <td>15</td>\n",
       "    </tr>\n",
       "    <tr>\n",
       "      <td>10</td>\n",
       "      <td>5</td>\n",
       "      <td>5050000.0</td>\n",
       "      <td>39.6</td>\n",
       "      <td>2017-11-16</td>\n",
       "      <td>1</td>\n",
       "      <td>2.67</td>\n",
       "      <td>12</td>\n",
       "      <td>20.3</td>\n",
       "      <td>3</td>\n",
       "      <td>False</td>\n",
       "      <td>...</td>\n",
       "      <td>553.0</td>\n",
       "      <td>137</td>\n",
       "      <td>127525.25</td>\n",
       "      <td>Thursday</td>\n",
       "      <td>November</td>\n",
       "      <td>2017</td>\n",
       "      <td>другой</td>\n",
       "      <td>0.512626</td>\n",
       "      <td>0.214646</td>\n",
       "      <td>14</td>\n",
       "    </tr>\n",
       "    <tr>\n",
       "      <td>15</td>\n",
       "      <td>16</td>\n",
       "      <td>4650000.0</td>\n",
       "      <td>39.0</td>\n",
       "      <td>2017-11-18</td>\n",
       "      <td>1</td>\n",
       "      <td>2.65</td>\n",
       "      <td>14</td>\n",
       "      <td>20.5</td>\n",
       "      <td>5</td>\n",
       "      <td>False</td>\n",
       "      <td>...</td>\n",
       "      <td>296.0</td>\n",
       "      <td>19</td>\n",
       "      <td>119230.77</td>\n",
       "      <td>Saturday</td>\n",
       "      <td>November</td>\n",
       "      <td>2017</td>\n",
       "      <td>другой</td>\n",
       "      <td>0.525641</td>\n",
       "      <td>0.194872</td>\n",
       "      <td>14</td>\n",
       "    </tr>\n",
       "  </tbody>\n",
       "</table>\n",
       "<p>5 rows × 30 columns</p>\n",
       "</div>"
      ],
      "text/plain": [
       "    total_images  last_price  total_area first_day_exposition  rooms  \\\n",
       "0             20  13000000.0       108.0           2019-03-07      3   \n",
       "7              5   7915000.0        71.6           2019-04-18      2   \n",
       "9             18   5400000.0        61.0           2017-02-26      3   \n",
       "10             5   5050000.0        39.6           2017-11-16      1   \n",
       "15            16   4650000.0        39.0           2017-11-18      1   \n",
       "\n",
       "    ceiling_height  floors_total  living_area  floor  is_apartment  ...  \\\n",
       "0             2.70            16         51.0      8         False  ...   \n",
       "7             2.60            24         30.5     22         False  ...   \n",
       "9             2.50             9         43.6      7         False  ...   \n",
       "10            2.67            12         20.3      3         False  ...   \n",
       "15            2.65            14         20.5      5         False  ...   \n",
       "\n",
       "    ponds_nearest  days_exposition  price_per_meter  day_of_week_exposition  \\\n",
       "0           755.0              114        120370.37                Thursday   \n",
       "7             NaN               91        110544.69                Thursday   \n",
       "9             NaN              289         88524.59                  Sunday   \n",
       "10          553.0              137        127525.25                Thursday   \n",
       "15          296.0               19        119230.77                Saturday   \n",
       "\n",
       "   month_exposition  year_exposition  floor_status  living_area_ratio  \\\n",
       "0             March             2019        другой           0.472222   \n",
       "7             April             2019        другой           0.425978   \n",
       "9          February             2017        другой           0.714754   \n",
       "10         November             2017        другой           0.512626   \n",
       "15         November             2017        другой           0.525641   \n",
       "\n",
       "    kitchen_area_ratio  city_centers_nearest_km  \n",
       "0             0.231481                       16  \n",
       "7             0.263966                       12  \n",
       "9             0.106557                       15  \n",
       "10            0.214646                       14  \n",
       "15            0.194872                       14  \n",
       "\n",
       "[5 rows x 30 columns]"
      ]
     },
     "execution_count": 62,
     "metadata": {},
     "output_type": "execute_result"
    }
   ],
   "source": [
    "df_new_spb = df_new.query('locality_name == \"санкт-петербург\"') #формируем срез по СПб и высчитываем расстояние до центра в км\n",
    "df_new_spb['city_centers_nearest_km'] = (df_new_spb['city_centers_nearest'] / 1000).round(0).astype('int')\n",
    "df_new_spb.head()"
   ]
  },
  {
   "cell_type": "code",
   "execution_count": 63,
   "metadata": {},
   "outputs": [
    {
     "data": {
      "text/html": [
       "<div>\n",
       "<style scoped>\n",
       "    .dataframe tbody tr th:only-of-type {\n",
       "        vertical-align: middle;\n",
       "    }\n",
       "\n",
       "    .dataframe tbody tr th {\n",
       "        vertical-align: top;\n",
       "    }\n",
       "\n",
       "    .dataframe thead th {\n",
       "        text-align: right;\n",
       "    }\n",
       "</style>\n",
       "<table border=\"1\" class=\"dataframe\">\n",
       "  <thead>\n",
       "    <tr style=\"text-align: right;\">\n",
       "      <th></th>\n",
       "      <th>price_per_meter</th>\n",
       "    </tr>\n",
       "    <tr>\n",
       "      <th>city_centers_nearest_km</th>\n",
       "      <th></th>\n",
       "    </tr>\n",
       "  </thead>\n",
       "  <tbody>\n",
       "    <tr>\n",
       "      <td>0</td>\n",
       "      <td>114373.750000</td>\n",
       "    </tr>\n",
       "    <tr>\n",
       "      <td>1</td>\n",
       "      <td>117306.615610</td>\n",
       "    </tr>\n",
       "    <tr>\n",
       "      <td>2</td>\n",
       "      <td>114871.274507</td>\n",
       "    </tr>\n",
       "    <tr>\n",
       "      <td>3</td>\n",
       "      <td>112264.303495</td>\n",
       "    </tr>\n",
       "    <tr>\n",
       "      <td>4</td>\n",
       "      <td>117402.578571</td>\n",
       "    </tr>\n",
       "    <tr>\n",
       "      <td>5</td>\n",
       "      <td>120612.269888</td>\n",
       "    </tr>\n",
       "    <tr>\n",
       "      <td>6</td>\n",
       "      <td>122996.354905</td>\n",
       "    </tr>\n",
       "    <tr>\n",
       "      <td>7</td>\n",
       "      <td>119953.451683</td>\n",
       "    </tr>\n",
       "    <tr>\n",
       "      <td>8</td>\n",
       "      <td>115314.407666</td>\n",
       "    </tr>\n",
       "    <tr>\n",
       "      <td>9</td>\n",
       "      <td>107369.356015</td>\n",
       "    </tr>\n",
       "    <tr>\n",
       "      <td>10</td>\n",
       "      <td>106987.859069</td>\n",
       "    </tr>\n",
       "    <tr>\n",
       "      <td>11</td>\n",
       "      <td>104406.889989</td>\n",
       "    </tr>\n",
       "    <tr>\n",
       "      <td>12</td>\n",
       "      <td>106269.868023</td>\n",
       "    </tr>\n",
       "    <tr>\n",
       "      <td>13</td>\n",
       "      <td>107010.041889</td>\n",
       "    </tr>\n",
       "    <tr>\n",
       "      <td>14</td>\n",
       "      <td>103919.606163</td>\n",
       "    </tr>\n",
       "    <tr>\n",
       "      <td>15</td>\n",
       "      <td>103129.446964</td>\n",
       "    </tr>\n",
       "    <tr>\n",
       "      <td>16</td>\n",
       "      <td>99793.641797</td>\n",
       "    </tr>\n",
       "    <tr>\n",
       "      <td>17</td>\n",
       "      <td>96596.499489</td>\n",
       "    </tr>\n",
       "    <tr>\n",
       "      <td>18</td>\n",
       "      <td>96554.870133</td>\n",
       "    </tr>\n",
       "    <tr>\n",
       "      <td>19</td>\n",
       "      <td>98364.918849</td>\n",
       "    </tr>\n",
       "    <tr>\n",
       "      <td>20</td>\n",
       "      <td>103484.408636</td>\n",
       "    </tr>\n",
       "    <tr>\n",
       "      <td>21</td>\n",
       "      <td>89623.350732</td>\n",
       "    </tr>\n",
       "    <tr>\n",
       "      <td>22</td>\n",
       "      <td>90454.984335</td>\n",
       "    </tr>\n",
       "    <tr>\n",
       "      <td>23</td>\n",
       "      <td>89760.116575</td>\n",
       "    </tr>\n",
       "    <tr>\n",
       "      <td>24</td>\n",
       "      <td>84566.647200</td>\n",
       "    </tr>\n",
       "    <tr>\n",
       "      <td>25</td>\n",
       "      <td>91945.203200</td>\n",
       "    </tr>\n",
       "    <tr>\n",
       "      <td>26</td>\n",
       "      <td>88486.215000</td>\n",
       "    </tr>\n",
       "    <tr>\n",
       "      <td>27</td>\n",
       "      <td>70312.500000</td>\n",
       "    </tr>\n",
       "    <tr>\n",
       "      <td>28</td>\n",
       "      <td>83277.488333</td>\n",
       "    </tr>\n",
       "    <tr>\n",
       "      <td>29</td>\n",
       "      <td>67601.275000</td>\n",
       "    </tr>\n",
       "  </tbody>\n",
       "</table>\n",
       "</div>"
      ],
      "text/plain": [
       "                         price_per_meter\n",
       "city_centers_nearest_km                 \n",
       "0                          114373.750000\n",
       "1                          117306.615610\n",
       "2                          114871.274507\n",
       "3                          112264.303495\n",
       "4                          117402.578571\n",
       "5                          120612.269888\n",
       "6                          122996.354905\n",
       "7                          119953.451683\n",
       "8                          115314.407666\n",
       "9                          107369.356015\n",
       "10                         106987.859069\n",
       "11                         104406.889989\n",
       "12                         106269.868023\n",
       "13                         107010.041889\n",
       "14                         103919.606163\n",
       "15                         103129.446964\n",
       "16                          99793.641797\n",
       "17                          96596.499489\n",
       "18                          96554.870133\n",
       "19                          98364.918849\n",
       "20                         103484.408636\n",
       "21                          89623.350732\n",
       "22                          90454.984335\n",
       "23                          89760.116575\n",
       "24                          84566.647200\n",
       "25                          91945.203200\n",
       "26                          88486.215000\n",
       "27                          70312.500000\n",
       "28                          83277.488333\n",
       "29                          67601.275000"
      ]
     },
     "execution_count": 63,
     "metadata": {},
     "output_type": "execute_result"
    }
   ],
   "source": [
    "df_new_spb.groupby('city_centers_nearest_km').agg({'price_per_meter':'mean'}) \n",
    "#находим среднюю стоимость в зависимости от расстояния"
   ]
  },
  {
   "cell_type": "code",
   "execution_count": 64,
   "metadata": {},
   "outputs": [
    {
     "data": {
      "text/plain": [
       "<matplotlib.axes._subplots.AxesSubplot at 0x7f2610815890>"
      ]
     },
     "execution_count": 64,
     "metadata": {},
     "output_type": "execute_result"
    },
    {
     "data": {
      "image/png": "[encoded data removed]",
      "text/plain": [
       "<Figure size 1080x360 with 2 Axes>"
      ]
     },
     "metadata": {
      "needs_background": "light"
     },
     "output_type": "display_data"
    }
   ],
   "source": [
    "df_new_spb.plot(x='city_centers_nearest_km', y='price_per_meter', kind='hexbin', gridsize=30, figsize=(15,5), sharex=False, grid=True)"
   ]
  },
  {
   "cell_type": "markdown",
   "metadata": {},
   "source": [
    "Преобладающая масса объявлений касается квартир удаленных от центра на 10-17 км стоимостью около 100 тыс. руб. Но где заканчивается центр города? Расположены ли они в центре?"
   ]
  },
  {
   "cell_type": "code",
   "execution_count": 65,
   "metadata": {},
   "outputs": [
    {
     "data": {
      "text/plain": [
       "<matplotlib.axes._subplots.AxesSubplot at 0x7f2610862410>"
      ]
     },
     "execution_count": 65,
     "metadata": {},
     "output_type": "execute_result"
    },
    {
     "data": {
      "image/png": "[encoded data removed]",
      "text/plain": [
       "<Figure size 1080x360 with 1 Axes>"
      ]
     },
     "metadata": {
      "needs_background": "light"
     },
     "output_type": "display_data"
    }
   ],
   "source": [
    "df_new_spb.boxplot('price_per_meter', by='city_centers_nearest_km',figsize=(15,5)) \n",
    "#наглядно посмотрим связь между ценой и удаленностью от центра"
   ]
  },
  {
   "cell_type": "markdown",
   "metadata": {},
   "source": [
    "Стоимость квартиры в центре сильно превышает стоимость аналога на окраине города. После отметки в 7-8 км наблюдается плавное снижение стоимости 1 кв. метра. Можно сделать вывод, что центр города находится в радиусе 8 км."
   ]
  },
  {
   "cell_type": "markdown",
   "metadata": {},
   "source": [
    "### Зависимость стоимости квартиры в центре Санкт-Петербурга от критериев"
   ]
  },
  {
   "cell_type": "markdown",
   "metadata": {},
   "source": [
    "На предыдущем этапе мы определили сегмент квартир в центре. Проанализируем эту территорию и изучим следующие параметры: площадь, цена, число комнат, высота потолков."
   ]
  },
  {
   "cell_type": "code",
   "execution_count": 66,
   "metadata": {
    "scrolled": true
   },
   "outputs": [
    {
     "data": {
      "text/html": [
       "<div>\n",
       "<style scoped>\n",
       "    .dataframe tbody tr th:only-of-type {\n",
       "        vertical-align: middle;\n",
       "    }\n",
       "\n",
       "    .dataframe tbody tr th {\n",
       "        vertical-align: top;\n",
       "    }\n",
       "\n",
       "    .dataframe thead th {\n",
       "        text-align: right;\n",
       "    }\n",
       "</style>\n",
       "<table border=\"1\" class=\"dataframe\">\n",
       "  <thead>\n",
       "    <tr style=\"text-align: right;\">\n",
       "      <th></th>\n",
       "      <th>total_images</th>\n",
       "      <th>last_price</th>\n",
       "      <th>total_area</th>\n",
       "      <th>first_day_exposition</th>\n",
       "      <th>rooms</th>\n",
       "      <th>ceiling_height</th>\n",
       "      <th>floors_total</th>\n",
       "      <th>living_area</th>\n",
       "      <th>floor</th>\n",
       "      <th>is_apartment</th>\n",
       "      <th>...</th>\n",
       "      <th>ponds_nearest</th>\n",
       "      <th>days_exposition</th>\n",
       "      <th>price_per_meter</th>\n",
       "      <th>day_of_week_exposition</th>\n",
       "      <th>month_exposition</th>\n",
       "      <th>year_exposition</th>\n",
       "      <th>floor_status</th>\n",
       "      <th>living_area_ratio</th>\n",
       "      <th>kitchen_area_ratio</th>\n",
       "      <th>city_centers_nearest_km</th>\n",
       "    </tr>\n",
       "  </thead>\n",
       "  <tbody>\n",
       "    <tr>\n",
       "      <td>24</td>\n",
       "      <td>8</td>\n",
       "      <td>6500000.0</td>\n",
       "      <td>97.2</td>\n",
       "      <td>2015-10-31</td>\n",
       "      <td>2</td>\n",
       "      <td>2.60</td>\n",
       "      <td>3</td>\n",
       "      <td>46.5</td>\n",
       "      <td>1</td>\n",
       "      <td>False</td>\n",
       "      <td>...</td>\n",
       "      <td>124.0</td>\n",
       "      <td>265</td>\n",
       "      <td>66872.43</td>\n",
       "      <td>Saturday</td>\n",
       "      <td>October</td>\n",
       "      <td>2015</td>\n",
       "      <td>первый</td>\n",
       "      <td>0.478395</td>\n",
       "      <td>0.201646</td>\n",
       "      <td>2</td>\n",
       "    </tr>\n",
       "    <tr>\n",
       "      <td>70</td>\n",
       "      <td>9</td>\n",
       "      <td>3400000.0</td>\n",
       "      <td>30.0</td>\n",
       "      <td>2018-09-05</td>\n",
       "      <td>1</td>\n",
       "      <td>2.65</td>\n",
       "      <td>5</td>\n",
       "      <td>16.0</td>\n",
       "      <td>1</td>\n",
       "      <td>False</td>\n",
       "      <td>...</td>\n",
       "      <td>NaN</td>\n",
       "      <td>14</td>\n",
       "      <td>113333.33</td>\n",
       "      <td>Wednesday</td>\n",
       "      <td>September</td>\n",
       "      <td>2018</td>\n",
       "      <td>первый</td>\n",
       "      <td>0.533333</td>\n",
       "      <td>0.233333</td>\n",
       "      <td>8</td>\n",
       "    </tr>\n",
       "    <tr>\n",
       "      <td>94</td>\n",
       "      <td>3</td>\n",
       "      <td>3500000.0</td>\n",
       "      <td>29.5</td>\n",
       "      <td>2019-04-26</td>\n",
       "      <td>1</td>\n",
       "      <td>2.50</td>\n",
       "      <td>5</td>\n",
       "      <td>15.6</td>\n",
       "      <td>2</td>\n",
       "      <td>False</td>\n",
       "      <td>...</td>\n",
       "      <td>NaN</td>\n",
       "      <td>4</td>\n",
       "      <td>118644.07</td>\n",
       "      <td>Friday</td>\n",
       "      <td>April</td>\n",
       "      <td>2019</td>\n",
       "      <td>другой</td>\n",
       "      <td>0.528814</td>\n",
       "      <td>0.186441</td>\n",
       "      <td>7</td>\n",
       "    </tr>\n",
       "    <tr>\n",
       "      <td>99</td>\n",
       "      <td>32</td>\n",
       "      <td>9600000.0</td>\n",
       "      <td>90.0</td>\n",
       "      <td>2017-09-26</td>\n",
       "      <td>4</td>\n",
       "      <td>2.80</td>\n",
       "      <td>5</td>\n",
       "      <td>67.0</td>\n",
       "      <td>2</td>\n",
       "      <td>False</td>\n",
       "      <td>...</td>\n",
       "      <td>NaN</td>\n",
       "      <td>104</td>\n",
       "      <td>106666.67</td>\n",
       "      <td>Tuesday</td>\n",
       "      <td>September</td>\n",
       "      <td>2017</td>\n",
       "      <td>другой</td>\n",
       "      <td>0.744444</td>\n",
       "      <td>0.088889</td>\n",
       "      <td>3</td>\n",
       "    </tr>\n",
       "    <tr>\n",
       "      <td>111</td>\n",
       "      <td>4</td>\n",
       "      <td>4590000.0</td>\n",
       "      <td>40.0</td>\n",
       "      <td>2017-05-29</td>\n",
       "      <td>1</td>\n",
       "      <td>2.65</td>\n",
       "      <td>6</td>\n",
       "      <td>18.0</td>\n",
       "      <td>1</td>\n",
       "      <td>False</td>\n",
       "      <td>...</td>\n",
       "      <td>NaN</td>\n",
       "      <td>31</td>\n",
       "      <td>114750.00</td>\n",
       "      <td>Monday</td>\n",
       "      <td>May</td>\n",
       "      <td>2017</td>\n",
       "      <td>первый</td>\n",
       "      <td>0.450000</td>\n",
       "      <td>0.250000</td>\n",
       "      <td>6</td>\n",
       "    </tr>\n",
       "  </tbody>\n",
       "</table>\n",
       "<p>5 rows × 30 columns</p>\n",
       "</div>"
      ],
      "text/plain": [
       "     total_images  last_price  total_area first_day_exposition  rooms  \\\n",
       "24              8   6500000.0        97.2           2015-10-31      2   \n",
       "70              9   3400000.0        30.0           2018-09-05      1   \n",
       "94              3   3500000.0        29.5           2019-04-26      1   \n",
       "99             32   9600000.0        90.0           2017-09-26      4   \n",
       "111             4   4590000.0        40.0           2017-05-29      1   \n",
       "\n",
       "     ceiling_height  floors_total  living_area  floor  is_apartment  ...  \\\n",
       "24             2.60             3         46.5      1         False  ...   \n",
       "70             2.65             5         16.0      1         False  ...   \n",
       "94             2.50             5         15.6      2         False  ...   \n",
       "99             2.80             5         67.0      2         False  ...   \n",
       "111            2.65             6         18.0      1         False  ...   \n",
       "\n",
       "     ponds_nearest  days_exposition  price_per_meter  day_of_week_exposition  \\\n",
       "24           124.0              265         66872.43                Saturday   \n",
       "70             NaN               14        113333.33               Wednesday   \n",
       "94             NaN                4        118644.07                  Friday   \n",
       "99             NaN              104        106666.67                 Tuesday   \n",
       "111            NaN               31        114750.00                  Monday   \n",
       "\n",
       "    month_exposition  year_exposition  floor_status  living_area_ratio  \\\n",
       "24           October             2015        первый           0.478395   \n",
       "70         September             2018        первый           0.533333   \n",
       "94             April             2019        другой           0.528814   \n",
       "99         September             2017        другой           0.744444   \n",
       "111              May             2017        первый           0.450000   \n",
       "\n",
       "     kitchen_area_ratio  city_centers_nearest_km  \n",
       "24             0.201646                        2  \n",
       "70             0.233333                        8  \n",
       "94             0.186441                        7  \n",
       "99             0.088889                        3  \n",
       "111            0.250000                        6  \n",
       "\n",
       "[5 rows x 30 columns]"
      ]
     },
     "execution_count": 66,
     "metadata": {},
     "output_type": "execute_result"
    }
   ],
   "source": [
    "df_new_spb = df_new_spb.query('city_centers_nearest_km <= 8') #формируем срез объявлений по квартирам в центре\n",
    "df_new_spb.head()"
   ]
  },
  {
   "cell_type": "code",
   "execution_count": 67,
   "metadata": {
    "scrolled": false
   },
   "outputs": [
    {
     "data": {
      "text/plain": [
       "Text(0.5, 1.0, 'objects distribution by total area')"
      ]
     },
     "execution_count": 67,
     "metadata": {},
     "output_type": "execute_result"
    },
    {
     "data": {
      "image/png": "[encoded data removed]",
      "text/plain": [
       "<Figure size 1080x360 with 1 Axes>"
      ]
     },
     "metadata": {
      "needs_background": "light"
     },
     "output_type": "display_data"
    }
   ],
   "source": [
    "df_new_spb.plot(kind = 'hist', y = 'total_area',bins = 200, range = (0, 200),figsize = (15, 5),grid = True)\n",
    "plt.xlabel('total_area') \n",
    "plt.ylabel('number of objects')\n",
    "plt.title('objects distribution by total area')\n",
    "#при помощи гистограммы изучим параметры"
   ]
  },
  {
   "cell_type": "markdown",
   "metadata": {},
   "source": [
    "Преобладающее кол-во квартир из объявлений предполагают общую площадь 30-70 кв. метров."
   ]
  },
  {
   "cell_type": "code",
   "execution_count": 68,
   "metadata": {},
   "outputs": [
    {
     "data": {
      "text/plain": [
       "Text(0.5, 1.0, 'objects distribution by price per meter')"
      ]
     },
     "execution_count": 68,
     "metadata": {},
     "output_type": "execute_result"
    },
    {
     "data": {
      "image/png": "[encoded data removed]",
      "text/plain": [
       "<Figure size 1080x360 with 1 Axes>"
      ]
     },
     "metadata": {
      "needs_background": "light"
     },
     "output_type": "display_data"
    }
   ],
   "source": [
    "df_new_spb.plot(kind = 'hist', y = 'price_per_meter',bins = 200, range = (0, 200000), figsize = (15, 5), grid = True)\n",
    "plt.xlabel('price per meter')\n",
    "plt.ylabel('number of objects')\n",
    "plt.title('objects distribution by price per meter')"
   ]
  },
  {
   "cell_type": "markdown",
   "metadata": {},
   "source": [
    "Средняя цена за 1 кв. метр для квартир в центе СПб составляет 100 - 150 тыс. руб."
   ]
  },
  {
   "cell_type": "code",
   "execution_count": 69,
   "metadata": {},
   "outputs": [
    {
     "data": {
      "text/plain": [
       "Text(0.5, 1.0, 'objects distribution by number of rooms')"
      ]
     },
     "execution_count": 69,
     "metadata": {},
     "output_type": "execute_result"
    },
    {
     "data": {
      "image/png": "[encoded data removed]",
      "text/plain": [
       "<Figure size 1080x360 with 1 Axes>"
      ]
     },
     "metadata": {
      "needs_background": "light"
     },
     "output_type": "display_data"
    }
   ],
   "source": [
    "df_new_spb.plot(kind = 'hist', y = 'rooms',bins = 50, figsize = (15, 5), grid = True)\n",
    "plt.xlabel('number of rooms')\n",
    "plt.ylabel('number of objects')\n",
    "plt.title('objects distribution by number of rooms')"
   ]
  },
  {
   "cell_type": "markdown",
   "metadata": {},
   "source": [
    "По кол-ву комнат в объявлениях в основном встречаются 1-3комнатные квартиры."
   ]
  },
  {
   "cell_type": "code",
   "execution_count": 70,
   "metadata": {},
   "outputs": [
    {
     "data": {
      "text/plain": [
       "Text(0.5, 1.0, 'objects distribution by ceiling height')"
      ]
     },
     "execution_count": 70,
     "metadata": {},
     "output_type": "execute_result"
    },
    {
     "data": {
      "image/png": "[encoded data removed]",
      "text/plain": [
       "<Figure size 1080x360 with 1 Axes>"
      ]
     },
     "metadata": {
      "needs_background": "light"
     },
     "output_type": "display_data"
    }
   ],
   "source": [
    "df_new_spb.plot(kind = 'hist', y = 'ceiling_height',bins = 30, range = (2, 3) ,figsize = (15, 5), grid = True)\n",
    "plt.xlabel('ceiling height')\n",
    "plt.ylabel('number of objects')\n",
    "plt.title('objects distribution by ceiling height')"
   ]
  },
  {
   "cell_type": "markdown",
   "metadata": {},
   "source": [
    "Высота потолков по объектам в центре города составляет в среднем 2.6 метра."
   ]
  },
  {
   "cell_type": "code",
   "execution_count": 71,
   "metadata": {},
   "outputs": [
    {
     "data": {
      "text/plain": [
       "Text(0.5, 1.0, 'objects distribution by days exposition')"
      ]
     },
     "execution_count": 71,
     "metadata": {},
     "output_type": "execute_result"
    },
    {
     "data": {
      "image/png": "[encoded data removed]",
      "text/plain": [
       "<Figure size 1080x360 with 1 Axes>"
      ]
     },
     "metadata": {
      "needs_background": "light"
     },
     "output_type": "display_data"
    }
   ],
   "source": [
    "df_new_spb.plot(kind = 'hist', y = 'days_exposition',bins = 100 ,figsize = (15, 5), grid = True)\n",
    "plt.xlabel('days exposition')\n",
    "plt.ylabel('number of objects')\n",
    "plt.title('objects distribution by days exposition')"
   ]
  },
  {
   "cell_type": "markdown",
   "metadata": {},
   "source": [
    "По продолжительности размещения объявлений можно сказать, что сделки совершаются в среднем за 3 месяца."
   ]
  },
  {
   "cell_type": "code",
   "execution_count": 72,
   "metadata": {},
   "outputs": [
    {
     "data": {
      "text/html": [
       "<style  type=\"text/css\" >\n",
       "    #T_3cf859d2_70bd_11ec_9845_02420a39cad4row0_col0 {\n",
       "            background-color:  #023858;\n",
       "            color:  #f1f1f1;\n",
       "        }    #T_3cf859d2_70bd_11ec_9845_02420a39cad4row0_col1 {\n",
       "            background-color:  #f7f0f7;\n",
       "            color:  #000000;\n",
       "        }    #T_3cf859d2_70bd_11ec_9845_02420a39cad4row0_col2 {\n",
       "            background-color:  #dfddec;\n",
       "            color:  #000000;\n",
       "        }    #T_3cf859d2_70bd_11ec_9845_02420a39cad4row0_col3 {\n",
       "            background-color:  #fff7fb;\n",
       "            color:  #000000;\n",
       "        }    #T_3cf859d2_70bd_11ec_9845_02420a39cad4row0_col4 {\n",
       "            background-color:  #b5c4df;\n",
       "            color:  #000000;\n",
       "        }    #T_3cf859d2_70bd_11ec_9845_02420a39cad4row1_col0 {\n",
       "            background-color:  #e7e3f0;\n",
       "            color:  #000000;\n",
       "        }    #T_3cf859d2_70bd_11ec_9845_02420a39cad4row1_col1 {\n",
       "            background-color:  #023858;\n",
       "            color:  #f1f1f1;\n",
       "        }    #T_3cf859d2_70bd_11ec_9845_02420a39cad4row1_col2 {\n",
       "            background-color:  #fff7fb;\n",
       "            color:  #000000;\n",
       "        }    #T_3cf859d2_70bd_11ec_9845_02420a39cad4row1_col3 {\n",
       "            background-color:  #046299;\n",
       "            color:  #f1f1f1;\n",
       "        }    #T_3cf859d2_70bd_11ec_9845_02420a39cad4row1_col4 {\n",
       "            background-color:  #ece7f2;\n",
       "            color:  #000000;\n",
       "        }    #T_3cf859d2_70bd_11ec_9845_02420a39cad4row2_col0 {\n",
       "            background-color:  #c9cee4;\n",
       "            color:  #000000;\n",
       "        }    #T_3cf859d2_70bd_11ec_9845_02420a39cad4row2_col1 {\n",
       "            background-color:  #fff7fb;\n",
       "            color:  #000000;\n",
       "        }    #T_3cf859d2_70bd_11ec_9845_02420a39cad4row2_col2 {\n",
       "            background-color:  #023858;\n",
       "            color:  #f1f1f1;\n",
       "        }    #T_3cf859d2_70bd_11ec_9845_02420a39cad4row2_col3 {\n",
       "            background-color:  #efe9f3;\n",
       "            color:  #000000;\n",
       "        }    #T_3cf859d2_70bd_11ec_9845_02420a39cad4row2_col4 {\n",
       "            background-color:  #b1c2de;\n",
       "            color:  #000000;\n",
       "        }    #T_3cf859d2_70bd_11ec_9845_02420a39cad4row3_col0 {\n",
       "            background-color:  #fff7fb;\n",
       "            color:  #000000;\n",
       "        }    #T_3cf859d2_70bd_11ec_9845_02420a39cad4row3_col1 {\n",
       "            background-color:  #05659f;\n",
       "            color:  #f1f1f1;\n",
       "        }    #T_3cf859d2_70bd_11ec_9845_02420a39cad4row3_col2 {\n",
       "            background-color:  #fef6fb;\n",
       "            color:  #000000;\n",
       "        }    #T_3cf859d2_70bd_11ec_9845_02420a39cad4row3_col3 {\n",
       "            background-color:  #023858;\n",
       "            color:  #f1f1f1;\n",
       "        }    #T_3cf859d2_70bd_11ec_9845_02420a39cad4row3_col4 {\n",
       "            background-color:  #fff7fb;\n",
       "            color:  #000000;\n",
       "        }    #T_3cf859d2_70bd_11ec_9845_02420a39cad4row4_col0 {\n",
       "            background-color:  #84b0d3;\n",
       "            color:  #000000;\n",
       "        }    #T_3cf859d2_70bd_11ec_9845_02420a39cad4row4_col1 {\n",
       "            background-color:  #d9d8ea;\n",
       "            color:  #000000;\n",
       "        }    #T_3cf859d2_70bd_11ec_9845_02420a39cad4row4_col2 {\n",
       "            background-color:  #99b8d8;\n",
       "            color:  #000000;\n",
       "        }    #T_3cf859d2_70bd_11ec_9845_02420a39cad4row4_col3 {\n",
       "            background-color:  #dddbec;\n",
       "            color:  #000000;\n",
       "        }    #T_3cf859d2_70bd_11ec_9845_02420a39cad4row4_col4 {\n",
       "            background-color:  #023858;\n",
       "            color:  #f1f1f1;\n",
       "        }</style><table id=\"T_3cf859d2_70bd_11ec_9845_02420a39cad4\" ><thead>    <tr>        <th class=\"blank level0\" ></th>        <th class=\"col_heading level0 col0\" >price_per_meter</th>        <th class=\"col_heading level0 col1\" >total_area</th>        <th class=\"col_heading level0 col2\" >city_centers_nearest</th>        <th class=\"col_heading level0 col3\" >rooms</th>        <th class=\"col_heading level0 col4\" >floor</th>    </tr></thead><tbody>\n",
       "                <tr>\n",
       "                        <th id=\"T_3cf859d2_70bd_11ec_9845_02420a39cad4level0_row0\" class=\"row_heading level0 row0\" >price_per_meter</th>\n",
       "                        <td id=\"T_3cf859d2_70bd_11ec_9845_02420a39cad4row0_col0\" class=\"data row0 col0\" >1</td>\n",
       "                        <td id=\"T_3cf859d2_70bd_11ec_9845_02420a39cad4row0_col1\" class=\"data row0 col1\" >-0.138277</td>\n",
       "                        <td id=\"T_3cf859d2_70bd_11ec_9845_02420a39cad4row0_col2\" class=\"data row0 col2\" >0.0222296</td>\n",
       "                        <td id=\"T_3cf859d2_70bd_11ec_9845_02420a39cad4row0_col3\" class=\"data row0 col3\" >-0.338874</td>\n",
       "                        <td id=\"T_3cf859d2_70bd_11ec_9845_02420a39cad4row0_col4\" class=\"data row0 col4\" >0.275349</td>\n",
       "            </tr>\n",
       "            <tr>\n",
       "                        <th id=\"T_3cf859d2_70bd_11ec_9845_02420a39cad4level0_row1\" class=\"row_heading level0 row1\" >total_area</th>\n",
       "                        <td id=\"T_3cf859d2_70bd_11ec_9845_02420a39cad4row1_col0\" class=\"data row1 col0\" >-0.138277</td>\n",
       "                        <td id=\"T_3cf859d2_70bd_11ec_9845_02420a39cad4row1_col1\" class=\"data row1 col1\" >1</td>\n",
       "                        <td id=\"T_3cf859d2_70bd_11ec_9845_02420a39cad4row1_col2\" class=\"data row1 col2\" >-0.200027</td>\n",
       "                        <td id=\"T_3cf859d2_70bd_11ec_9845_02420a39cad4row1_col3\" class=\"data row1 col3\" >0.774261</td>\n",
       "                        <td id=\"T_3cf859d2_70bd_11ec_9845_02420a39cad4row1_col4\" class=\"data row1 col4\" >0.0567555</td>\n",
       "            </tr>\n",
       "            <tr>\n",
       "                        <th id=\"T_3cf859d2_70bd_11ec_9845_02420a39cad4level0_row2\" class=\"row_heading level0 row2\" >city_centers_nearest</th>\n",
       "                        <td id=\"T_3cf859d2_70bd_11ec_9845_02420a39cad4row2_col0\" class=\"data row2 col0\" >0.0222296</td>\n",
       "                        <td id=\"T_3cf859d2_70bd_11ec_9845_02420a39cad4row2_col1\" class=\"data row2 col1\" >-0.200027</td>\n",
       "                        <td id=\"T_3cf859d2_70bd_11ec_9845_02420a39cad4row2_col2\" class=\"data row2 col2\" >1</td>\n",
       "                        <td id=\"T_3cf859d2_70bd_11ec_9845_02420a39cad4row2_col3\" class=\"data row2 col3\" >-0.194337</td>\n",
       "                        <td id=\"T_3cf859d2_70bd_11ec_9845_02420a39cad4row2_col4\" class=\"data row2 col4\" >0.288258</td>\n",
       "            </tr>\n",
       "            <tr>\n",
       "                        <th id=\"T_3cf859d2_70bd_11ec_9845_02420a39cad4level0_row3\" class=\"row_heading level0 row3\" >rooms</th>\n",
       "                        <td id=\"T_3cf859d2_70bd_11ec_9845_02420a39cad4row3_col0\" class=\"data row3 col0\" >-0.338874</td>\n",
       "                        <td id=\"T_3cf859d2_70bd_11ec_9845_02420a39cad4row3_col1\" class=\"data row3 col1\" >0.774261</td>\n",
       "                        <td id=\"T_3cf859d2_70bd_11ec_9845_02420a39cad4row3_col2\" class=\"data row3 col2\" >-0.194337</td>\n",
       "                        <td id=\"T_3cf859d2_70bd_11ec_9845_02420a39cad4row3_col3\" class=\"data row3 col3\" >1</td>\n",
       "                        <td id=\"T_3cf859d2_70bd_11ec_9845_02420a39cad4row3_col4\" class=\"data row3 col4\" >-0.0789006</td>\n",
       "            </tr>\n",
       "            <tr>\n",
       "                        <th id=\"T_3cf859d2_70bd_11ec_9845_02420a39cad4level0_row4\" class=\"row_heading level0 row4\" >floor</th>\n",
       "                        <td id=\"T_3cf859d2_70bd_11ec_9845_02420a39cad4row4_col0\" class=\"data row4 col0\" >0.275349</td>\n",
       "                        <td id=\"T_3cf859d2_70bd_11ec_9845_02420a39cad4row4_col1\" class=\"data row4 col1\" >0.0567555</td>\n",
       "                        <td id=\"T_3cf859d2_70bd_11ec_9845_02420a39cad4row4_col2\" class=\"data row4 col2\" >0.288258</td>\n",
       "                        <td id=\"T_3cf859d2_70bd_11ec_9845_02420a39cad4row4_col3\" class=\"data row4 col3\" >-0.0789006</td>\n",
       "                        <td id=\"T_3cf859d2_70bd_11ec_9845_02420a39cad4row4_col4\" class=\"data row4 col4\" >1</td>\n",
       "            </tr>\n",
       "    </tbody></table>"
      ],
      "text/plain": [
       "<pandas.io.formats.style.Styler at 0x7f25fdcae150>"
      ]
     },
     "execution_count": 72,
     "metadata": {},
     "output_type": "execute_result"
    }
   ],
   "source": [
    "corr = df_new_spb[['price_per_meter',\\\n",
    "           'total_area',\\\n",
    "           'city_centers_nearest',\\\n",
    "           'rooms',\\\n",
    "           'floor']].corr()  #зависимость цены от площади, кол-ва комнат, удаленности от центра\n",
    "corr.style.background_gradient()"
   ]
  },
  {
   "cell_type": "markdown",
   "metadata": {},
   "source": [
    "Если рассматривать взаимосвязь между стоимостью недвижимости и общей площадью, кол-вом комнат, этажом и расстоянием до центра, то для квартир в центральной части города приближенность к центру играет роль. Также на стоимость оказывает влияние этаж, на котором расположена недвижимость. Кол-во комнат и общая площадь имеют обратную зависимость."
   ]
  },
  {
   "cell_type": "code",
   "execution_count": 73,
   "metadata": {},
   "outputs": [
    {
     "data": {
      "image/png": "[encoded data removed]",
      "text/plain": [
       "<Figure size 1080x360 with 1 Axes>"
      ]
     },
     "metadata": {
      "needs_background": "light"
     },
     "output_type": "display_data"
    },
    {
     "data": {
      "image/png": "[encoded data removed]",
      "text/plain": [
       "<Figure size 1080x360 with 1 Axes>"
      ]
     },
     "metadata": {
      "needs_background": "light"
     },
     "output_type": "display_data"
    },
    {
     "data": {
      "image/png": "[encoded data removed]",
      "text/plain": [
       "<Figure size 1080x360 with 1 Axes>"
      ]
     },
     "metadata": {
      "needs_background": "light"
     },
     "output_type": "display_data"
    },
    {
     "data": {
      "image/png": "[encoded data removed]",
      "text/plain": [
       "<Figure size 1080x360 with 1 Axes>"
      ]
     },
     "metadata": {
      "needs_background": "light"
     },
     "output_type": "display_data"
    }
   ],
   "source": [
    "for relevant_column in relevant_columns:\n",
    "    df_new_spb.boxplot('price_per_meter', by=relevant_column,figsize=(15,5))"
   ]
  },
  {
   "cell_type": "markdown",
   "metadata": {},
   "source": [
    "Квартиры на 1 этаже по прежнему ценятся в меньшей степени, однако их средняя стоимость кв. метра уже свыше 100 тыс. руб."
   ]
  },
  {
   "cell_type": "markdown",
   "metadata": {},
   "source": [
    "Анализ дня недели, месяца и года публикации объявления описывает стандартную ситуацию на рынке. "
   ]
  },
  {
   "cell_type": "markdown",
   "metadata": {},
   "source": [
    "## Общий вывод"
   ]
  },
  {
   "cell_type": "markdown",
   "metadata": {},
   "source": [
    "Таким образом, был произведен анализ архива объявлений о продаже квартир в Санкт-Петербурге и соседних населённых пунктах за несколько лет.\n",
    "\n",
    "Преобладающее кол-во объявлений содержит информацию о недвижимости общей площадью от 30 до 75 кв. метров.\n",
    "Цена за 1 кв. метр в среднем варьируется в пределах 80 - 120 тыс. руб.\n",
    "Наиболее распространены однокомнатные квартиры (в т.ч. студии, свободная планировка), а также 2-3 комнатные квартиры.\n",
    "Высота потолков обычно составляет 2,5 - 2,8 метров.\n",
    "Продажа обычно занимает около полугода. В среднем каждое объявление закрывается через 171 день. Но есть исключения. Можно считать, что продажи прошли подозрительно быстро, когда время размещения объявления близко к 0 (Например, 1 день). Необычно долгий срок размещения объявления также может настораживать покупателей. Сюда можно отнести объявления по сроку свыше года.\n",
    "В наибольшей степени цена квартиры зависит от этажа, на котором она располагается. Стоимость 1 кв. метра для квартиры на 1 этаже оценивается ниже всего.\n",
    "\n",
    "В рамках исследования была определена **рыночная стоимость жилья** для всего датасете, а также в разрезе населенных пунктов. Наиболее дорогое жилье находится непосредственно в Санкт-Петербурге. В близлежащих населенных пунктах можно приобрести недвижимость на 20-30% дешевле. Самый дешевый вариант - недвижимость в Выборге. Однако при его выборе необходимо учитывать удаленность от СПб (более 100 км), а также оценивать развитость инфраструктуры (брать во внимание огромную удаленность от аэропорта, например). \n",
    "\n",
    "Для **Санкт-Петербурга**, как для площадки с самой большой массой объявлений, сильных отличий по анализируемым критериям нет. Преобладающая масса объявлений касается квартир удаленных от центра на 10-17 км стоимостью около 100 тыс. руб. за 1 кв. метр. Для центральной части города, расположенной в радиусе 8 км, наблюдаются некоторые особенности: \n",
    "1) По общей площади 75 - 100 кв. метров гораздо больше объявлений встречается именно в центральной части города;\n",
    "\n",
    "2) Стоимость 1 кв. метра в центре как правило составляет 100 - 170 тыс. руб. (против 80 - 110 тыс. руб.);\n",
    "\n",
    "3) Близость к центру оказывает в большей степени влияние на процесс формирования стоимости недвижимости.\n"
   ]
  },
  {
   "cell_type": "markdown",
   "metadata": {},
   "source": [
    "### Рекомендации"
   ]
  },
  {
   "cell_type": "markdown",
   "metadata": {},
   "source": [
    "1) Усовершенствовать процесс переноса данных в датасет, чтобы минимизировать пропуски в значениях (установить ряд обязательных полей, без которых объявление не будет выставлено). Так, в момент публикации можно избежать отсутствия значений по балконам или же высоте потолков.\n",
    "\n",
    "2) Для показателей, описывающих растояние до значимых объектов и их кол-во (расстояние до ближайшего водоема и парка, кол-во парков и водоемов в радиуе, расстояние до аэропорта и центра), можно настроить автозаполнение исходя из данных, полученых автоматически на основе картографических данных."
   ]
  }
 ],
 "metadata": {
  "ExecuteTimeLog": [
   {
    "duration": 613,
    "start_time": "2022-01-04T08:47:32.200Z"
   },
   {
    "duration": 13,
    "start_time": "2022-01-04T08:56:19.578Z"
   },
   {
    "duration": 7,
    "start_time": "2022-01-04T08:58:08.633Z"
   },
   {
    "duration": 6,
    "start_time": "2022-01-04T08:58:16.693Z"
   },
   {
    "duration": 80,
    "start_time": "2022-01-04T09:02:08.407Z"
   },
   {
    "duration": 59,
    "start_time": "2022-01-04T09:15:33.853Z"
   },
   {
    "duration": 8,
    "start_time": "2022-01-04T09:16:57.340Z"
   },
   {
    "duration": 617,
    "start_time": "2022-01-04T09:17:19.224Z"
   },
   {
    "duration": 67,
    "start_time": "2022-01-04T09:17:19.842Z"
   },
   {
    "duration": 10,
    "start_time": "2022-01-04T09:17:19.910Z"
   },
   {
    "duration": 20,
    "start_time": "2022-01-04T09:20:56.212Z"
   },
   {
    "duration": 4,
    "start_time": "2022-01-04T09:23:59.134Z"
   },
   {
    "duration": 62,
    "start_time": "2022-01-04T09:36:47.875Z"
   },
   {
    "duration": 598,
    "start_time": "2022-01-04T09:43:19.554Z"
   },
   {
    "duration": 67,
    "start_time": "2022-01-04T09:43:20.154Z"
   },
   {
    "duration": 23,
    "start_time": "2022-01-04T09:43:20.224Z"
   },
   {
    "duration": 62,
    "start_time": "2022-01-04T09:43:20.249Z"
   },
   {
    "duration": 4,
    "start_time": "2022-01-04T09:43:20.313Z"
   },
   {
    "duration": 8,
    "start_time": "2022-01-04T10:05:28.611Z"
   },
   {
    "duration": 9,
    "start_time": "2022-01-04T12:18:25.728Z"
   },
   {
    "duration": 15,
    "start_time": "2022-01-04T12:33:22.499Z"
   },
   {
    "duration": 273,
    "start_time": "2022-01-04T13:18:04.323Z"
   },
   {
    "duration": 561,
    "start_time": "2022-01-04T13:19:58.196Z"
   },
   {
    "duration": 67,
    "start_time": "2022-01-04T13:19:58.759Z"
   },
   {
    "duration": 14,
    "start_time": "2022-01-04T13:19:58.828Z"
   },
   {
    "duration": 62,
    "start_time": "2022-01-04T13:19:58.844Z"
   },
   {
    "duration": 4,
    "start_time": "2022-01-04T13:19:58.907Z"
   },
   {
    "duration": 10,
    "start_time": "2022-01-04T13:19:58.912Z"
   },
   {
    "duration": 269,
    "start_time": "2022-01-04T13:19:58.923Z"
   },
   {
    "duration": 197,
    "start_time": "2022-01-04T13:21:58.744Z"
   },
   {
    "duration": 632,
    "start_time": "2022-01-04T13:22:38.241Z"
   },
   {
    "duration": 79,
    "start_time": "2022-01-04T13:22:38.874Z"
   },
   {
    "duration": 11,
    "start_time": "2022-01-04T13:22:38.956Z"
   },
   {
    "duration": 81,
    "start_time": "2022-01-04T13:22:38.969Z"
   },
   {
    "duration": 4,
    "start_time": "2022-01-04T13:22:39.052Z"
   },
   {
    "duration": 10,
    "start_time": "2022-01-04T13:22:39.058Z"
   },
   {
    "duration": 290,
    "start_time": "2022-01-04T13:22:39.070Z"
   },
   {
    "duration": 63,
    "start_time": "2022-01-04T13:23:37.206Z"
   },
   {
    "duration": 210,
    "start_time": "2022-01-04T13:23:42.709Z"
   },
   {
    "duration": 194,
    "start_time": "2022-01-04T13:23:52.016Z"
   },
   {
    "duration": 189,
    "start_time": "2022-01-04T13:31:24.576Z"
   },
   {
    "duration": 222,
    "start_time": "2022-01-04T13:41:11.606Z"
   },
   {
    "duration": 662,
    "start_time": "2022-01-04T13:41:25.424Z"
   },
   {
    "duration": 74,
    "start_time": "2022-01-04T13:41:26.088Z"
   },
   {
    "duration": 11,
    "start_time": "2022-01-04T13:41:26.165Z"
   },
   {
    "duration": 83,
    "start_time": "2022-01-04T13:41:26.178Z"
   },
   {
    "duration": 4,
    "start_time": "2022-01-04T13:41:26.263Z"
   },
   {
    "duration": 7,
    "start_time": "2022-01-04T13:41:26.269Z"
   },
   {
    "duration": 258,
    "start_time": "2022-01-04T13:41:26.278Z"
   },
   {
    "duration": 158,
    "start_time": "2022-01-04T13:41:26.380Z"
   },
   {
    "duration": 621,
    "start_time": "2022-01-04T13:42:33.979Z"
   },
   {
    "duration": 75,
    "start_time": "2022-01-04T13:42:34.602Z"
   },
   {
    "duration": 11,
    "start_time": "2022-01-04T13:42:34.679Z"
   },
   {
    "duration": 82,
    "start_time": "2022-01-04T13:42:34.692Z"
   },
   {
    "duration": 4,
    "start_time": "2022-01-04T13:42:34.776Z"
   },
   {
    "duration": 8,
    "start_time": "2022-01-04T13:42:34.782Z"
   },
   {
    "duration": 268,
    "start_time": "2022-01-04T13:42:59.807Z"
   },
   {
    "duration": 656,
    "start_time": "2022-01-04T13:46:02.470Z"
   },
   {
    "duration": 77,
    "start_time": "2022-01-04T13:46:03.128Z"
   },
   {
    "duration": 12,
    "start_time": "2022-01-04T13:46:03.207Z"
   },
   {
    "duration": 79,
    "start_time": "2022-01-04T13:46:03.221Z"
   },
   {
    "duration": 4,
    "start_time": "2022-01-04T13:46:03.302Z"
   },
   {
    "duration": 342,
    "start_time": "2022-01-04T13:46:03.307Z"
   },
   {
    "duration": 633,
    "start_time": "2022-01-04T13:47:06.989Z"
   },
   {
    "duration": 77,
    "start_time": "2022-01-04T13:47:07.624Z"
   },
   {
    "duration": 11,
    "start_time": "2022-01-04T13:47:07.703Z"
   },
   {
    "duration": 73,
    "start_time": "2022-01-04T13:47:07.716Z"
   },
   {
    "duration": 4,
    "start_time": "2022-01-04T13:47:07.790Z"
   },
   {
    "duration": 608,
    "start_time": "2022-01-04T13:50:01.181Z"
   },
   {
    "duration": 75,
    "start_time": "2022-01-04T13:50:01.791Z"
   },
   {
    "duration": 10,
    "start_time": "2022-01-04T13:50:01.868Z"
   },
   {
    "duration": 78,
    "start_time": "2022-01-04T13:50:01.879Z"
   },
   {
    "duration": 4,
    "start_time": "2022-01-04T13:50:01.959Z"
   },
   {
    "duration": 68,
    "start_time": "2022-01-04T13:50:01.965Z"
   },
   {
    "duration": 237,
    "start_time": "2022-01-04T13:51:05.542Z"
   },
   {
    "duration": 4,
    "start_time": "2022-01-04T13:51:12.637Z"
   },
   {
    "duration": 4,
    "start_time": "2022-01-04T13:55:39.044Z"
   },
   {
    "duration": 7,
    "start_time": "2022-01-04T13:56:00.236Z"
   },
   {
    "duration": 5,
    "start_time": "2022-01-04T13:56:31.092Z"
   },
   {
    "duration": 11,
    "start_time": "2022-01-04T14:00:33.354Z"
   },
   {
    "duration": 17,
    "start_time": "2022-01-04T14:02:28.619Z"
   },
   {
    "duration": 5,
    "start_time": "2022-01-04T14:03:12.538Z"
   },
   {
    "duration": 9,
    "start_time": "2022-01-04T14:03:18.412Z"
   },
   {
    "duration": 16,
    "start_time": "2022-01-04T14:03:31.068Z"
   },
   {
    "duration": 668,
    "start_time": "2022-01-04T14:04:51.539Z"
   },
   {
    "duration": 74,
    "start_time": "2022-01-04T14:04:52.209Z"
   },
   {
    "duration": 9,
    "start_time": "2022-01-04T14:04:52.285Z"
   },
   {
    "duration": 70,
    "start_time": "2022-01-04T14:04:52.295Z"
   },
   {
    "duration": 3,
    "start_time": "2022-01-04T14:04:52.367Z"
   },
   {
    "duration": 11,
    "start_time": "2022-01-04T14:04:52.371Z"
   },
   {
    "duration": 14,
    "start_time": "2022-01-04T14:04:52.383Z"
   },
   {
    "duration": 14,
    "start_time": "2022-01-04T14:04:52.399Z"
   },
   {
    "duration": 12,
    "start_time": "2022-01-04T14:16:43.622Z"
   },
   {
    "duration": 5,
    "start_time": "2022-01-04T14:17:12.326Z"
   },
   {
    "duration": 7,
    "start_time": "2022-01-04T14:21:06.042Z"
   },
   {
    "duration": 5,
    "start_time": "2022-01-04T15:08:56.670Z"
   },
   {
    "duration": 7,
    "start_time": "2022-01-04T15:09:21.555Z"
   },
   {
    "duration": 5,
    "start_time": "2022-01-04T15:11:27.570Z"
   },
   {
    "duration": 69,
    "start_time": "2022-01-04T15:12:04.829Z"
   },
   {
    "duration": 15,
    "start_time": "2022-01-04T15:12:11.282Z"
   },
   {
    "duration": 257,
    "start_time": "2022-01-04T15:13:19.506Z"
   },
   {
    "duration": 6,
    "start_time": "2022-01-04T15:14:24.022Z"
   },
   {
    "duration": 7,
    "start_time": "2022-01-04T15:15:35.202Z"
   },
   {
    "duration": 6,
    "start_time": "2022-01-04T15:16:52.031Z"
   },
   {
    "duration": 15,
    "start_time": "2022-01-04T15:18:01.584Z"
   },
   {
    "duration": 5,
    "start_time": "2022-01-04T15:18:28.848Z"
   },
   {
    "duration": 6,
    "start_time": "2022-01-04T15:18:39.156Z"
   },
   {
    "duration": 4,
    "start_time": "2022-01-04T15:18:42.916Z"
   },
   {
    "duration": 586,
    "start_time": "2022-01-04T15:18:53.976Z"
   },
   {
    "duration": 66,
    "start_time": "2022-01-04T15:18:54.563Z"
   },
   {
    "duration": 16,
    "start_time": "2022-01-04T15:18:54.632Z"
   },
   {
    "duration": 63,
    "start_time": "2022-01-04T15:18:54.649Z"
   },
   {
    "duration": 3,
    "start_time": "2022-01-04T15:18:54.714Z"
   },
   {
    "duration": 25,
    "start_time": "2022-01-04T15:18:54.719Z"
   },
   {
    "duration": 9,
    "start_time": "2022-01-04T15:18:54.747Z"
   },
   {
    "duration": 15,
    "start_time": "2022-01-04T15:18:54.758Z"
   },
   {
    "duration": 6,
    "start_time": "2022-01-04T15:18:54.775Z"
   },
   {
    "duration": 6,
    "start_time": "2022-01-04T15:18:54.782Z"
   },
   {
    "duration": 8,
    "start_time": "2022-01-04T15:19:32.814Z"
   },
   {
    "duration": 7,
    "start_time": "2022-01-04T15:19:48.069Z"
   },
   {
    "duration": 16,
    "start_time": "2022-01-04T15:20:46.923Z"
   },
   {
    "duration": 9,
    "start_time": "2022-01-04T15:21:54.090Z"
   },
   {
    "duration": 7,
    "start_time": "2022-01-04T15:23:25.312Z"
   },
   {
    "duration": 617,
    "start_time": "2022-01-04T16:11:46.017Z"
   },
   {
    "duration": 74,
    "start_time": "2022-01-04T16:11:46.636Z"
   },
   {
    "duration": 75,
    "start_time": "2022-01-04T16:11:46.712Z"
   },
   {
    "duration": 10,
    "start_time": "2022-01-04T16:11:46.789Z"
   },
   {
    "duration": 78,
    "start_time": "2022-01-04T16:11:46.801Z"
   },
   {
    "duration": 4,
    "start_time": "2022-01-04T16:11:46.881Z"
   },
   {
    "duration": 8,
    "start_time": "2022-01-04T16:11:46.886Z"
   },
   {
    "duration": 10,
    "start_time": "2022-01-04T16:11:46.897Z"
   },
   {
    "duration": 32,
    "start_time": "2022-01-04T16:11:46.909Z"
   },
   {
    "duration": 9,
    "start_time": "2022-01-04T16:11:46.943Z"
   },
   {
    "duration": 11,
    "start_time": "2022-01-04T16:11:46.954Z"
   },
   {
    "duration": 6,
    "start_time": "2022-01-04T16:48:27.875Z"
   },
   {
    "duration": 20,
    "start_time": "2022-01-04T16:48:41.782Z"
   },
   {
    "duration": 20,
    "start_time": "2022-01-04T17:14:00.972Z"
   },
   {
    "duration": 342,
    "start_time": "2022-01-04T17:14:47.556Z"
   },
   {
    "duration": 80,
    "start_time": "2022-01-04T17:15:02.694Z"
   },
   {
    "duration": 19,
    "start_time": "2022-01-04T17:15:44.317Z"
   },
   {
    "duration": 20,
    "start_time": "2022-01-04T17:16:31.169Z"
   },
   {
    "duration": 20,
    "start_time": "2022-01-04T17:16:42.441Z"
   },
   {
    "duration": 18,
    "start_time": "2022-01-04T17:17:43.070Z"
   },
   {
    "duration": 31,
    "start_time": "2022-01-04T17:21:03.366Z"
   },
   {
    "duration": 21,
    "start_time": "2022-01-04T17:22:01.377Z"
   },
   {
    "duration": 17,
    "start_time": "2022-01-04T17:22:22.793Z"
   },
   {
    "duration": 548,
    "start_time": "2022-01-04T17:23:51.396Z"
   },
   {
    "duration": 68,
    "start_time": "2022-01-04T17:23:51.946Z"
   },
   {
    "duration": 76,
    "start_time": "2022-01-04T17:23:52.016Z"
   },
   {
    "duration": 11,
    "start_time": "2022-01-04T17:23:52.094Z"
   },
   {
    "duration": 82,
    "start_time": "2022-01-04T17:23:52.106Z"
   },
   {
    "duration": 4,
    "start_time": "2022-01-04T17:23:52.190Z"
   },
   {
    "duration": 6,
    "start_time": "2022-01-04T17:23:52.195Z"
   },
   {
    "duration": 12,
    "start_time": "2022-01-04T17:23:52.203Z"
   },
   {
    "duration": 30,
    "start_time": "2022-01-04T17:23:52.217Z"
   },
   {
    "duration": 7,
    "start_time": "2022-01-04T17:23:52.248Z"
   },
   {
    "duration": 8,
    "start_time": "2022-01-04T17:23:52.256Z"
   },
   {
    "duration": 20,
    "start_time": "2022-01-04T17:23:52.265Z"
   },
   {
    "duration": 14,
    "start_time": "2022-01-04T17:23:52.287Z"
   },
   {
    "duration": 530,
    "start_time": "2022-01-05T09:09:30.774Z"
   },
   {
    "duration": 64,
    "start_time": "2022-01-05T09:09:31.306Z"
   },
   {
    "duration": 73,
    "start_time": "2022-01-05T09:09:31.374Z"
   },
   {
    "duration": 9,
    "start_time": "2022-01-05T09:09:31.448Z"
   },
   {
    "duration": 71,
    "start_time": "2022-01-05T09:09:31.458Z"
   },
   {
    "duration": 3,
    "start_time": "2022-01-05T09:09:31.531Z"
   },
   {
    "duration": 5,
    "start_time": "2022-01-05T09:09:31.536Z"
   },
   {
    "duration": 9,
    "start_time": "2022-01-05T09:09:31.542Z"
   },
   {
    "duration": 7,
    "start_time": "2022-01-05T09:09:31.553Z"
   },
   {
    "duration": 6,
    "start_time": "2022-01-05T09:09:31.561Z"
   },
   {
    "duration": 6,
    "start_time": "2022-01-05T09:09:31.569Z"
   },
   {
    "duration": 5,
    "start_time": "2022-01-05T09:09:31.577Z"
   },
   {
    "duration": 54,
    "start_time": "2022-01-05T09:09:31.583Z"
   },
   {
    "duration": 16,
    "start_time": "2022-01-05T09:09:31.639Z"
   },
   {
    "duration": 6,
    "start_time": "2022-01-05T09:15:21.687Z"
   },
   {
    "duration": 6,
    "start_time": "2022-01-05T09:15:57.445Z"
   },
   {
    "duration": 6,
    "start_time": "2022-01-05T09:19:18.218Z"
   },
   {
    "duration": 5,
    "start_time": "2022-01-05T09:20:28.647Z"
   },
   {
    "duration": 4,
    "start_time": "2022-01-05T09:27:49.418Z"
   },
   {
    "duration": 4,
    "start_time": "2022-01-05T09:28:02.099Z"
   },
   {
    "duration": 5,
    "start_time": "2022-01-05T09:28:36.623Z"
   },
   {
    "duration": 9,
    "start_time": "2022-01-05T09:29:04.255Z"
   },
   {
    "duration": 7,
    "start_time": "2022-01-05T09:30:10.997Z"
   },
   {
    "duration": 6,
    "start_time": "2022-01-05T09:31:28.397Z"
   },
   {
    "duration": 5,
    "start_time": "2022-01-05T09:31:44.845Z"
   },
   {
    "duration": 46,
    "start_time": "2022-01-05T10:31:01.265Z"
   },
   {
    "duration": 46,
    "start_time": "2022-01-05T10:43:40.043Z"
   },
   {
    "duration": 46,
    "start_time": "2022-01-05T10:44:50.723Z"
   },
   {
    "duration": 49,
    "start_time": "2022-01-05T10:47:32.915Z"
   },
   {
    "duration": 15,
    "start_time": "2022-01-05T10:48:44.399Z"
   },
   {
    "duration": 13,
    "start_time": "2022-01-05T10:48:54.215Z"
   },
   {
    "duration": 5,
    "start_time": "2022-01-05T10:49:23.411Z"
   },
   {
    "duration": 351,
    "start_time": "2022-01-05T10:49:48.427Z"
   },
   {
    "duration": 16,
    "start_time": "2022-01-05T10:49:58.196Z"
   },
   {
    "duration": 27,
    "start_time": "2022-01-05T10:52:52.370Z"
   },
   {
    "duration": 7,
    "start_time": "2022-01-05T10:53:25.898Z"
   },
   {
    "duration": 8,
    "start_time": "2022-01-05T10:53:44.873Z"
   },
   {
    "duration": 7,
    "start_time": "2022-01-05T10:54:02.126Z"
   },
   {
    "duration": 7,
    "start_time": "2022-01-05T10:54:35.718Z"
   },
   {
    "duration": 14,
    "start_time": "2022-01-05T10:55:07.334Z"
   },
   {
    "duration": 5,
    "start_time": "2022-01-05T10:56:12.956Z"
   },
   {
    "duration": 5,
    "start_time": "2022-01-05T11:35:49.230Z"
   },
   {
    "duration": 44,
    "start_time": "2022-01-05T11:44:12.605Z"
   },
   {
    "duration": 536,
    "start_time": "2022-01-05T11:44:31.559Z"
   },
   {
    "duration": 63,
    "start_time": "2022-01-05T11:44:32.097Z"
   },
   {
    "duration": 68,
    "start_time": "2022-01-05T11:44:32.162Z"
   },
   {
    "duration": 10,
    "start_time": "2022-01-05T11:44:32.233Z"
   },
   {
    "duration": 59,
    "start_time": "2022-01-05T11:44:32.245Z"
   },
   {
    "duration": 22,
    "start_time": "2022-01-05T11:44:32.306Z"
   },
   {
    "duration": 8,
    "start_time": "2022-01-05T11:44:32.329Z"
   },
   {
    "duration": 11,
    "start_time": "2022-01-05T11:44:32.339Z"
   },
   {
    "duration": 8,
    "start_time": "2022-01-05T11:44:32.352Z"
   },
   {
    "duration": 6,
    "start_time": "2022-01-05T11:44:32.361Z"
   },
   {
    "duration": 7,
    "start_time": "2022-01-05T11:44:32.369Z"
   },
   {
    "duration": 5,
    "start_time": "2022-01-05T11:44:32.377Z"
   },
   {
    "duration": 50,
    "start_time": "2022-01-05T11:44:32.384Z"
   },
   {
    "duration": 13,
    "start_time": "2022-01-05T11:44:32.436Z"
   },
   {
    "duration": 6,
    "start_time": "2022-01-05T11:44:32.451Z"
   },
   {
    "duration": 5,
    "start_time": "2022-01-05T11:44:32.458Z"
   },
   {
    "duration": 6,
    "start_time": "2022-01-05T11:44:32.465Z"
   },
   {
    "duration": 5,
    "start_time": "2022-01-05T11:44:32.472Z"
   },
   {
    "duration": 77,
    "start_time": "2022-01-05T11:44:32.479Z"
   },
   {
    "duration": 45,
    "start_time": "2022-01-05T11:44:32.558Z"
   },
   {
    "duration": 4,
    "start_time": "2022-01-05T11:44:32.604Z"
   },
   {
    "duration": 18,
    "start_time": "2022-01-05T11:44:32.610Z"
   },
   {
    "duration": 50,
    "start_time": "2022-01-05T11:44:32.630Z"
   },
   {
    "duration": 26,
    "start_time": "2022-01-05T11:45:59.665Z"
   },
   {
    "duration": 6,
    "start_time": "2022-01-05T11:48:55.476Z"
   },
   {
    "duration": 7,
    "start_time": "2022-01-05T11:49:09.509Z"
   },
   {
    "duration": 7,
    "start_time": "2022-01-05T11:50:29.414Z"
   },
   {
    "duration": 8,
    "start_time": "2022-01-05T12:02:30.378Z"
   },
   {
    "duration": 7,
    "start_time": "2022-01-05T12:03:12.324Z"
   },
   {
    "duration": 36,
    "start_time": "2022-01-05T12:03:26.553Z"
   },
   {
    "duration": 27,
    "start_time": "2022-01-05T12:03:57.767Z"
   },
   {
    "duration": 18,
    "start_time": "2022-01-05T12:04:20.298Z"
   },
   {
    "duration": 19,
    "start_time": "2022-01-05T12:04:38.194Z"
   },
   {
    "duration": 33,
    "start_time": "2022-01-05T12:08:44.045Z"
   },
   {
    "duration": 7,
    "start_time": "2022-01-05T12:15:43.718Z"
   },
   {
    "duration": 6,
    "start_time": "2022-01-05T12:16:01.496Z"
   },
   {
    "duration": 6,
    "start_time": "2022-01-05T12:16:25.980Z"
   },
   {
    "duration": 5,
    "start_time": "2022-01-05T12:16:37.500Z"
   },
   {
    "duration": 324,
    "start_time": "2022-01-05T12:18:02.568Z"
   },
   {
    "duration": 41,
    "start_time": "2022-01-05T12:18:42.496Z"
   },
   {
    "duration": 28,
    "start_time": "2022-01-05T12:19:08.129Z"
   },
   {
    "duration": 4,
    "start_time": "2022-01-05T12:23:48.071Z"
   },
   {
    "duration": 5,
    "start_time": "2022-01-05T12:24:03.835Z"
   },
   {
    "duration": 575,
    "start_time": "2022-01-05T12:24:11.106Z"
   },
   {
    "duration": 62,
    "start_time": "2022-01-05T12:24:11.683Z"
   },
   {
    "duration": 65,
    "start_time": "2022-01-05T12:24:11.747Z"
   },
   {
    "duration": 17,
    "start_time": "2022-01-05T12:24:11.814Z"
   },
   {
    "duration": 58,
    "start_time": "2022-01-05T12:24:11.833Z"
   },
   {
    "duration": 4,
    "start_time": "2022-01-05T12:24:11.892Z"
   },
   {
    "duration": 5,
    "start_time": "2022-01-05T12:24:11.898Z"
   },
   {
    "duration": 23,
    "start_time": "2022-01-05T12:24:11.905Z"
   },
   {
    "duration": 7,
    "start_time": "2022-01-05T12:24:11.930Z"
   },
   {
    "duration": 6,
    "start_time": "2022-01-05T12:24:11.938Z"
   },
   {
    "duration": 7,
    "start_time": "2022-01-05T12:24:11.946Z"
   },
   {
    "duration": 8,
    "start_time": "2022-01-05T12:24:11.954Z"
   },
   {
    "duration": 22,
    "start_time": "2022-01-05T12:24:11.963Z"
   },
   {
    "duration": 46,
    "start_time": "2022-01-05T12:24:11.987Z"
   },
   {
    "duration": 4,
    "start_time": "2022-01-05T12:24:12.035Z"
   },
   {
    "duration": 6,
    "start_time": "2022-01-05T12:24:12.041Z"
   },
   {
    "duration": 4,
    "start_time": "2022-01-05T12:24:12.048Z"
   },
   {
    "duration": 5,
    "start_time": "2022-01-05T12:24:12.053Z"
   },
   {
    "duration": 6,
    "start_time": "2022-01-05T12:24:12.059Z"
   },
   {
    "duration": 76,
    "start_time": "2022-01-05T12:24:12.066Z"
   },
   {
    "duration": 45,
    "start_time": "2022-01-05T12:24:12.144Z"
   },
   {
    "duration": 4,
    "start_time": "2022-01-05T12:24:12.191Z"
   },
   {
    "duration": 8,
    "start_time": "2022-01-05T12:24:12.197Z"
   },
   {
    "duration": 61,
    "start_time": "2022-01-05T12:24:12.206Z"
   },
   {
    "duration": 40,
    "start_time": "2022-01-05T12:24:12.268Z"
   },
   {
    "duration": 43,
    "start_time": "2022-01-05T12:24:12.310Z"
   },
   {
    "duration": 518,
    "start_time": "2022-01-05T12:25:53.867Z"
   },
   {
    "duration": 68,
    "start_time": "2022-01-05T12:25:54.387Z"
   },
   {
    "duration": 76,
    "start_time": "2022-01-05T12:25:54.457Z"
   },
   {
    "duration": 10,
    "start_time": "2022-01-05T12:25:54.535Z"
   },
   {
    "duration": 60,
    "start_time": "2022-01-05T12:25:54.547Z"
   },
   {
    "duration": 20,
    "start_time": "2022-01-05T12:25:54.608Z"
   },
   {
    "duration": 5,
    "start_time": "2022-01-05T12:25:54.629Z"
   },
   {
    "duration": 8,
    "start_time": "2022-01-05T12:25:54.637Z"
   },
   {
    "duration": 7,
    "start_time": "2022-01-05T12:25:54.647Z"
   },
   {
    "duration": 5,
    "start_time": "2022-01-05T12:25:54.656Z"
   },
   {
    "duration": 8,
    "start_time": "2022-01-05T12:25:54.663Z"
   },
   {
    "duration": 4,
    "start_time": "2022-01-05T12:25:54.672Z"
   },
   {
    "duration": 56,
    "start_time": "2022-01-05T12:25:54.678Z"
   },
   {
    "duration": 14,
    "start_time": "2022-01-05T12:25:54.735Z"
   },
   {
    "duration": 5,
    "start_time": "2022-01-05T12:25:54.750Z"
   },
   {
    "duration": 5,
    "start_time": "2022-01-05T12:25:54.756Z"
   },
   {
    "duration": 4,
    "start_time": "2022-01-05T12:25:54.763Z"
   },
   {
    "duration": 5,
    "start_time": "2022-01-05T12:25:54.768Z"
   },
   {
    "duration": 6,
    "start_time": "2022-01-05T12:25:54.774Z"
   },
   {
    "duration": 76,
    "start_time": "2022-01-05T12:25:54.781Z"
   },
   {
    "duration": 28,
    "start_time": "2022-01-05T12:25:54.858Z"
   },
   {
    "duration": 59,
    "start_time": "2022-01-05T12:25:54.887Z"
   },
   {
    "duration": 44,
    "start_time": "2022-01-05T12:25:54.948Z"
   },
   {
    "duration": 4,
    "start_time": "2022-01-05T12:25:54.993Z"
   },
   {
    "duration": 10,
    "start_time": "2022-01-05T12:25:54.998Z"
   },
   {
    "duration": 59,
    "start_time": "2022-01-05T12:25:55.010Z"
   },
   {
    "duration": 331,
    "start_time": "2022-01-05T12:27:15.390Z"
   },
   {
    "duration": 4,
    "start_time": "2022-01-05T12:27:36.106Z"
   },
   {
    "duration": 4,
    "start_time": "2022-01-05T12:27:47.722Z"
   },
   {
    "duration": 6,
    "start_time": "2022-01-05T12:31:29.738Z"
   },
   {
    "duration": 569,
    "start_time": "2022-01-05T12:31:37.318Z"
   },
   {
    "duration": 63,
    "start_time": "2022-01-05T12:31:37.888Z"
   },
   {
    "duration": 75,
    "start_time": "2022-01-05T12:31:37.953Z"
   },
   {
    "duration": 9,
    "start_time": "2022-01-05T12:31:38.030Z"
   },
   {
    "duration": 59,
    "start_time": "2022-01-05T12:31:38.041Z"
   },
   {
    "duration": 4,
    "start_time": "2022-01-05T12:31:38.101Z"
   },
   {
    "duration": 23,
    "start_time": "2022-01-05T12:31:38.106Z"
   },
   {
    "duration": 9,
    "start_time": "2022-01-05T12:31:38.131Z"
   },
   {
    "duration": 8,
    "start_time": "2022-01-05T12:31:38.141Z"
   },
   {
    "duration": 5,
    "start_time": "2022-01-05T12:31:38.150Z"
   },
   {
    "duration": 7,
    "start_time": "2022-01-05T12:31:38.156Z"
   },
   {
    "duration": 5,
    "start_time": "2022-01-05T12:31:38.164Z"
   },
   {
    "duration": 17,
    "start_time": "2022-01-05T12:31:38.170Z"
   },
   {
    "duration": 46,
    "start_time": "2022-01-05T12:31:38.188Z"
   },
   {
    "duration": 8,
    "start_time": "2022-01-05T12:31:38.236Z"
   },
   {
    "duration": 4,
    "start_time": "2022-01-05T12:31:38.246Z"
   },
   {
    "duration": 5,
    "start_time": "2022-01-05T12:31:38.251Z"
   },
   {
    "duration": 3,
    "start_time": "2022-01-05T12:31:38.257Z"
   },
   {
    "duration": 5,
    "start_time": "2022-01-05T12:31:38.262Z"
   },
   {
    "duration": 59,
    "start_time": "2022-01-05T12:31:38.269Z"
   },
   {
    "duration": 27,
    "start_time": "2022-01-05T12:31:38.329Z"
   },
   {
    "duration": 5,
    "start_time": "2022-01-05T12:31:38.357Z"
   },
   {
    "duration": 63,
    "start_time": "2022-01-05T12:31:38.364Z"
   },
   {
    "duration": 43,
    "start_time": "2022-01-05T12:31:38.428Z"
   },
   {
    "duration": 4,
    "start_time": "2022-01-05T12:31:38.472Z"
   },
   {
    "duration": 22,
    "start_time": "2022-01-05T12:31:38.478Z"
   },
   {
    "duration": 50,
    "start_time": "2022-01-05T12:31:38.502Z"
   },
   {
    "duration": 8,
    "start_time": "2022-01-05T12:34:13.617Z"
   },
   {
    "duration": 7,
    "start_time": "2022-01-05T13:24:07.108Z"
   },
   {
    "duration": 371,
    "start_time": "2022-01-05T13:24:08.483Z"
   },
   {
    "duration": 42,
    "start_time": "2022-01-05T13:25:29.830Z"
   },
   {
    "duration": 8,
    "start_time": "2022-01-05T13:25:37.512Z"
   },
   {
    "duration": 42,
    "start_time": "2022-01-05T13:26:33.741Z"
   },
   {
    "duration": 8,
    "start_time": "2022-01-05T13:26:38.011Z"
   },
   {
    "duration": 15,
    "start_time": "2022-01-05T13:27:22.032Z"
   },
   {
    "duration": 12,
    "start_time": "2022-01-05T13:28:53.595Z"
   },
   {
    "duration": 510,
    "start_time": "2022-01-05T13:34:53.275Z"
   },
   {
    "duration": 63,
    "start_time": "2022-01-05T13:34:53.787Z"
   },
   {
    "duration": 76,
    "start_time": "2022-01-05T13:34:53.852Z"
   },
   {
    "duration": 9,
    "start_time": "2022-01-05T13:34:53.929Z"
   },
   {
    "duration": 60,
    "start_time": "2022-01-05T13:34:53.939Z"
   },
   {
    "duration": 3,
    "start_time": "2022-01-05T13:34:54.001Z"
   },
   {
    "duration": 9,
    "start_time": "2022-01-05T13:34:54.005Z"
   },
   {
    "duration": 7,
    "start_time": "2022-01-05T13:34:54.028Z"
   },
   {
    "duration": 7,
    "start_time": "2022-01-05T13:34:54.037Z"
   },
   {
    "duration": 8,
    "start_time": "2022-01-05T13:34:54.046Z"
   },
   {
    "duration": 13,
    "start_time": "2022-01-05T13:34:54.056Z"
   },
   {
    "duration": 8,
    "start_time": "2022-01-05T13:34:54.070Z"
   },
   {
    "duration": 17,
    "start_time": "2022-01-05T13:34:54.079Z"
   },
   {
    "duration": 40,
    "start_time": "2022-01-05T13:34:54.098Z"
   },
   {
    "duration": 5,
    "start_time": "2022-01-05T13:34:54.139Z"
   },
   {
    "duration": 6,
    "start_time": "2022-01-05T13:34:54.145Z"
   },
   {
    "duration": 4,
    "start_time": "2022-01-05T13:34:54.152Z"
   },
   {
    "duration": 6,
    "start_time": "2022-01-05T13:34:54.157Z"
   },
   {
    "duration": 6,
    "start_time": "2022-01-05T13:34:54.164Z"
   },
   {
    "duration": 69,
    "start_time": "2022-01-05T13:34:54.172Z"
   },
   {
    "duration": 30,
    "start_time": "2022-01-05T13:34:54.242Z"
   },
   {
    "duration": 4,
    "start_time": "2022-01-05T13:34:54.274Z"
   },
   {
    "duration": 63,
    "start_time": "2022-01-05T13:34:54.281Z"
   },
   {
    "duration": 42,
    "start_time": "2022-01-05T13:34:54.345Z"
   },
   {
    "duration": 4,
    "start_time": "2022-01-05T13:34:54.389Z"
   },
   {
    "duration": 5,
    "start_time": "2022-01-05T13:34:54.395Z"
   },
   {
    "duration": 66,
    "start_time": "2022-01-05T13:34:54.402Z"
   },
   {
    "duration": 8,
    "start_time": "2022-01-05T13:34:54.470Z"
   },
   {
    "duration": 7,
    "start_time": "2022-01-05T13:34:54.479Z"
   },
   {
    "duration": 15,
    "start_time": "2022-01-05T13:34:54.488Z"
   },
   {
    "duration": 5,
    "start_time": "2022-01-05T13:39:12.182Z"
   },
   {
    "duration": 7,
    "start_time": "2022-01-05T13:39:57.298Z"
   },
   {
    "duration": 12,
    "start_time": "2022-01-05T13:42:30.676Z"
   },
   {
    "duration": 23,
    "start_time": "2022-01-05T14:14:26.331Z"
   },
   {
    "duration": 19,
    "start_time": "2022-01-05T14:15:12.007Z"
   },
   {
    "duration": 36,
    "start_time": "2022-01-05T14:19:31.712Z"
   },
   {
    "duration": 3,
    "start_time": "2022-01-05T14:26:55.996Z"
   },
   {
    "duration": 512,
    "start_time": "2022-01-05T14:27:50.159Z"
   },
   {
    "duration": 22,
    "start_time": "2022-01-05T14:32:49.721Z"
   },
   {
    "duration": 874,
    "start_time": "2022-01-06T10:42:56.283Z"
   },
   {
    "duration": 83,
    "start_time": "2022-01-06T10:42:57.160Z"
   },
   {
    "duration": 117,
    "start_time": "2022-01-06T10:42:57.246Z"
   },
   {
    "duration": 15,
    "start_time": "2022-01-06T10:42:57.368Z"
   },
   {
    "duration": 125,
    "start_time": "2022-01-06T10:42:57.385Z"
   },
   {
    "duration": 6,
    "start_time": "2022-01-06T10:42:57.512Z"
   },
   {
    "duration": 19,
    "start_time": "2022-01-06T10:42:57.520Z"
   },
   {
    "duration": 31,
    "start_time": "2022-01-06T10:42:57.543Z"
   },
   {
    "duration": 14,
    "start_time": "2022-01-06T10:42:57.577Z"
   },
   {
    "duration": 12,
    "start_time": "2022-01-06T10:42:57.594Z"
   },
   {
    "duration": 15,
    "start_time": "2022-01-06T10:42:57.609Z"
   },
   {
    "duration": 10,
    "start_time": "2022-01-06T10:42:57.667Z"
   },
   {
    "duration": 30,
    "start_time": "2022-01-06T10:42:57.680Z"
   },
   {
    "duration": 56,
    "start_time": "2022-01-06T10:42:57.712Z"
   },
   {
    "duration": 8,
    "start_time": "2022-01-06T10:42:57.770Z"
   },
   {
    "duration": 18,
    "start_time": "2022-01-06T10:42:57.780Z"
   },
   {
    "duration": 6,
    "start_time": "2022-01-06T10:42:57.801Z"
   },
   {
    "duration": 11,
    "start_time": "2022-01-06T10:42:57.809Z"
   },
   {
    "duration": 10,
    "start_time": "2022-01-06T10:42:57.823Z"
   },
   {
    "duration": 106,
    "start_time": "2022-01-06T10:42:57.836Z"
   },
   {
    "duration": 83,
    "start_time": "2022-01-06T10:42:57.944Z"
   },
   {
    "duration": 8,
    "start_time": "2022-01-06T10:42:58.029Z"
   },
   {
    "duration": 78,
    "start_time": "2022-01-06T10:42:58.067Z"
   },
   {
    "duration": 94,
    "start_time": "2022-01-06T10:42:58.147Z"
   },
   {
    "duration": 25,
    "start_time": "2022-01-06T10:42:58.244Z"
   },
   {
    "duration": 8,
    "start_time": "2022-01-06T10:42:58.272Z"
   },
   {
    "duration": 117,
    "start_time": "2022-01-06T10:42:58.283Z"
   },
   {
    "duration": 16,
    "start_time": "2022-01-06T10:42:58.403Z"
   },
   {
    "duration": 44,
    "start_time": "2022-01-06T10:42:58.422Z"
   },
   {
    "duration": 21,
    "start_time": "2022-01-06T10:42:58.469Z"
   },
   {
    "duration": 42,
    "start_time": "2022-01-06T10:42:58.492Z"
   },
   {
    "duration": 88,
    "start_time": "2022-01-06T10:42:58.536Z"
   },
   {
    "duration": 4,
    "start_time": "2022-01-06T10:42:58.626Z"
   },
   {
    "duration": 1135,
    "start_time": "2022-01-06T10:42:58.633Z"
   },
   {
    "duration": 39,
    "start_time": "2022-01-06T10:42:59.770Z"
   },
   {
    "duration": 496,
    "start_time": "2022-01-06T10:42:59.811Z"
   },
   {
    "duration": 397,
    "start_time": "2022-01-06T10:45:13.795Z"
   },
   {
    "duration": 441,
    "start_time": "2022-01-06T10:45:23.126Z"
   },
   {
    "duration": 510,
    "start_time": "2022-01-06T10:45:35.267Z"
   },
   {
    "duration": 369,
    "start_time": "2022-01-06T10:45:48.708Z"
   },
   {
    "duration": 653,
    "start_time": "2022-01-06T10:45:54.602Z"
   },
   {
    "duration": 527,
    "start_time": "2022-01-06T10:46:23.983Z"
   },
   {
    "duration": 497,
    "start_time": "2022-01-06T10:51:02.802Z"
   },
   {
    "duration": 208,
    "start_time": "2022-01-06T10:52:04.363Z"
   },
   {
    "duration": 653,
    "start_time": "2022-01-06T10:55:08.321Z"
   },
   {
    "duration": 810,
    "start_time": "2022-01-06T10:56:03.869Z"
   },
   {
    "duration": 764,
    "start_time": "2022-01-06T10:56:13.663Z"
   },
   {
    "duration": 731,
    "start_time": "2022-01-06T10:56:23.726Z"
   },
   {
    "duration": 863,
    "start_time": "2022-01-06T10:56:31.960Z"
   },
   {
    "duration": 1215,
    "start_time": "2022-01-06T10:56:43.457Z"
   },
   {
    "duration": 1504,
    "start_time": "2022-01-06T10:58:25.134Z"
   },
   {
    "duration": 1075,
    "start_time": "2022-01-06T10:58:37.311Z"
   },
   {
    "duration": 1077,
    "start_time": "2022-01-06T10:58:56.823Z"
   },
   {
    "duration": 707,
    "start_time": "2022-01-06T10:59:23.335Z"
   },
   {
    "duration": 656,
    "start_time": "2022-01-06T11:18:29.311Z"
   },
   {
    "duration": 1293,
    "start_time": "2022-01-06T11:21:14.474Z"
   },
   {
    "duration": 1077,
    "start_time": "2022-01-06T11:23:16.730Z"
   },
   {
    "duration": 444,
    "start_time": "2022-01-06T11:23:45.764Z"
   },
   {
    "duration": 530,
    "start_time": "2022-01-06T11:23:58.904Z"
   },
   {
    "duration": 436,
    "start_time": "2022-01-06T11:24:17.516Z"
   },
   {
    "duration": 2916,
    "start_time": "2022-01-06T11:25:44.909Z"
   },
   {
    "duration": 443,
    "start_time": "2022-01-06T11:26:31.461Z"
   },
   {
    "duration": 669,
    "start_time": "2022-01-06T11:26:36.976Z"
   },
   {
    "duration": 614,
    "start_time": "2022-01-06T11:28:58.235Z"
   },
   {
    "duration": 578,
    "start_time": "2022-01-06T11:29:08.162Z"
   },
   {
    "duration": 1086,
    "start_time": "2022-01-06T11:30:32.104Z"
   },
   {
    "duration": 1402,
    "start_time": "2022-01-06T11:31:14.465Z"
   },
   {
    "duration": 1079,
    "start_time": "2022-01-06T11:31:26.568Z"
   },
   {
    "duration": 609,
    "start_time": "2022-01-06T11:32:15.549Z"
   },
   {
    "duration": 865,
    "start_time": "2022-01-06T11:32:31.325Z"
   },
   {
    "duration": 725,
    "start_time": "2022-01-06T11:41:35.326Z"
   },
   {
    "duration": 766,
    "start_time": "2022-01-06T11:41:58.829Z"
   },
   {
    "duration": 78,
    "start_time": "2022-01-06T11:48:26.845Z"
   },
   {
    "duration": 898,
    "start_time": "2022-01-06T11:51:13.801Z"
   },
   {
    "duration": 92,
    "start_time": "2022-01-06T11:51:14.702Z"
   },
   {
    "duration": 125,
    "start_time": "2022-01-06T11:51:14.798Z"
   },
   {
    "duration": 19,
    "start_time": "2022-01-06T11:51:14.927Z"
   },
   {
    "duration": 143,
    "start_time": "2022-01-06T11:51:14.949Z"
   },
   {
    "duration": 7,
    "start_time": "2022-01-06T11:51:15.096Z"
   },
   {
    "duration": 10,
    "start_time": "2022-01-06T11:51:15.106Z"
   },
   {
    "duration": 56,
    "start_time": "2022-01-06T11:51:15.123Z"
   },
   {
    "duration": 14,
    "start_time": "2022-01-06T11:51:15.182Z"
   },
   {
    "duration": 11,
    "start_time": "2022-01-06T11:51:15.198Z"
   },
   {
    "duration": 13,
    "start_time": "2022-01-06T11:51:15.212Z"
   },
   {
    "duration": 48,
    "start_time": "2022-01-06T11:51:15.227Z"
   },
   {
    "duration": 30,
    "start_time": "2022-01-06T11:51:15.277Z"
   },
   {
    "duration": 28,
    "start_time": "2022-01-06T11:51:15.309Z"
   },
   {
    "duration": 9,
    "start_time": "2022-01-06T11:51:15.368Z"
   },
   {
    "duration": 12,
    "start_time": "2022-01-06T11:51:15.380Z"
   },
   {
    "duration": 7,
    "start_time": "2022-01-06T11:51:15.394Z"
   },
   {
    "duration": 12,
    "start_time": "2022-01-06T11:51:15.403Z"
   },
   {
    "duration": 52,
    "start_time": "2022-01-06T11:51:15.417Z"
   },
   {
    "duration": 76,
    "start_time": "2022-01-06T11:51:15.472Z"
   },
   {
    "duration": 58,
    "start_time": "2022-01-06T11:51:15.567Z"
   },
   {
    "duration": 40,
    "start_time": "2022-01-06T11:51:15.627Z"
   },
   {
    "duration": 95,
    "start_time": "2022-01-06T11:51:15.673Z"
   },
   {
    "duration": 79,
    "start_time": "2022-01-06T11:51:15.772Z"
   },
   {
    "duration": 83,
    "start_time": "2022-01-06T11:51:15.868Z"
   },
   {
    "duration": 10,
    "start_time": "2022-01-06T11:51:15.968Z"
   },
   {
    "duration": 7,
    "start_time": "2022-01-06T11:51:15.981Z"
   },
   {
    "duration": 114,
    "start_time": "2022-01-06T11:51:15.991Z"
   },
   {
    "duration": 13,
    "start_time": "2022-01-06T11:51:16.108Z"
   },
   {
    "duration": 43,
    "start_time": "2022-01-06T11:51:16.124Z"
   },
   {
    "duration": 23,
    "start_time": "2022-01-06T11:51:16.170Z"
   },
   {
    "duration": 82,
    "start_time": "2022-01-06T11:51:16.196Z"
   },
   {
    "duration": 114,
    "start_time": "2022-01-06T11:51:16.281Z"
   },
   {
    "duration": 6,
    "start_time": "2022-01-06T11:51:16.398Z"
   },
   {
    "duration": 1967,
    "start_time": "2022-01-06T11:51:16.407Z"
   },
   {
    "duration": 65,
    "start_time": "2022-01-06T11:51:18.377Z"
   },
   {
    "duration": 1205,
    "start_time": "2022-01-06T11:51:18.445Z"
   },
   {
    "duration": 1332,
    "start_time": "2022-01-06T11:51:19.653Z"
   },
   {
    "duration": 695,
    "start_time": "2022-01-06T11:51:20.988Z"
   },
   {
    "duration": 657,
    "start_time": "2022-01-06T11:51:21.685Z"
   },
   {
    "duration": 933,
    "start_time": "2022-01-06T11:51:22.344Z"
   },
   {
    "duration": 38,
    "start_time": "2022-01-06T11:54:25.410Z"
   },
   {
    "duration": 9,
    "start_time": "2022-01-06T12:06:55.259Z"
   },
   {
    "duration": 2315,
    "start_time": "2022-01-06T12:18:26.962Z"
   },
   {
    "duration": 367,
    "start_time": "2022-01-06T12:26:11.460Z"
   },
   {
    "duration": 908,
    "start_time": "2022-01-06T12:26:26.237Z"
   },
   {
    "duration": 83,
    "start_time": "2022-01-06T12:26:27.147Z"
   },
   {
    "duration": 119,
    "start_time": "2022-01-06T12:26:27.233Z"
   },
   {
    "duration": 21,
    "start_time": "2022-01-06T12:26:27.354Z"
   },
   {
    "duration": 122,
    "start_time": "2022-01-06T12:26:27.378Z"
   },
   {
    "duration": 5,
    "start_time": "2022-01-06T12:26:27.502Z"
   },
   {
    "duration": 16,
    "start_time": "2022-01-06T12:26:27.510Z"
   },
   {
    "duration": 37,
    "start_time": "2022-01-06T12:26:27.530Z"
   },
   {
    "duration": 13,
    "start_time": "2022-01-06T12:26:27.570Z"
   },
   {
    "duration": 11,
    "start_time": "2022-01-06T12:26:27.585Z"
   },
   {
    "duration": 12,
    "start_time": "2022-01-06T12:26:27.599Z"
   },
   {
    "duration": 8,
    "start_time": "2022-01-06T12:26:27.614Z"
   },
   {
    "duration": 68,
    "start_time": "2022-01-06T12:26:27.625Z"
   },
   {
    "duration": 22,
    "start_time": "2022-01-06T12:26:27.696Z"
   },
   {
    "duration": 27,
    "start_time": "2022-01-06T12:26:27.721Z"
   },
   {
    "duration": 9,
    "start_time": "2022-01-06T12:26:27.766Z"
   },
   {
    "duration": 8,
    "start_time": "2022-01-06T12:26:27.777Z"
   },
   {
    "duration": 6,
    "start_time": "2022-01-06T12:26:27.788Z"
   },
   {
    "duration": 9,
    "start_time": "2022-01-06T12:26:27.797Z"
   },
   {
    "duration": 121,
    "start_time": "2022-01-06T12:26:27.808Z"
   },
   {
    "duration": 77,
    "start_time": "2022-01-06T12:26:27.932Z"
   },
   {
    "duration": 11,
    "start_time": "2022-01-06T12:26:28.012Z"
   },
   {
    "duration": 110,
    "start_time": "2022-01-06T12:26:28.030Z"
   },
   {
    "duration": 89,
    "start_time": "2022-01-06T12:26:28.144Z"
   },
   {
    "duration": 100,
    "start_time": "2022-01-06T12:26:28.236Z"
   },
   {
    "duration": 28,
    "start_time": "2022-01-06T12:26:28.339Z"
   },
   {
    "duration": 9,
    "start_time": "2022-01-06T12:26:28.370Z"
   },
   {
    "duration": 110,
    "start_time": "2022-01-06T12:26:28.381Z"
   },
   {
    "duration": 2313,
    "start_time": "2022-01-06T12:26:28.493Z"
   },
   {
    "duration": 247,
    "start_time": "2022-01-06T12:26:30.809Z"
   },
   {
    "duration": 18,
    "start_time": "2022-01-06T12:26:31.058Z"
   },
   {
    "duration": 26,
    "start_time": "2022-01-06T12:26:31.078Z"
   },
   {
    "duration": 21,
    "start_time": "2022-01-06T12:26:31.106Z"
   },
   {
    "duration": 62,
    "start_time": "2022-01-06T12:26:31.130Z"
   },
   {
    "duration": 81,
    "start_time": "2022-01-06T12:26:31.194Z"
   },
   {
    "duration": 5,
    "start_time": "2022-01-06T12:26:31.277Z"
   },
   {
    "duration": 1034,
    "start_time": "2022-01-06T12:26:31.284Z"
   },
   {
    "duration": 53,
    "start_time": "2022-01-06T12:26:32.321Z"
   },
   {
    "duration": 1190,
    "start_time": "2022-01-06T12:26:32.377Z"
   },
   {
    "duration": 1140,
    "start_time": "2022-01-06T12:26:33.569Z"
   },
   {
    "duration": 757,
    "start_time": "2022-01-06T12:26:34.712Z"
   },
   {
    "duration": 626,
    "start_time": "2022-01-06T12:26:35.471Z"
   },
   {
    "duration": 838,
    "start_time": "2022-01-06T12:26:36.100Z"
   },
   {
    "duration": 396,
    "start_time": "2022-01-06T12:31:40.252Z"
   },
   {
    "duration": 365,
    "start_time": "2022-01-06T12:33:53.733Z"
   },
   {
    "duration": 10,
    "start_time": "2022-01-06T12:38:16.543Z"
   },
   {
    "duration": 9,
    "start_time": "2022-01-06T12:38:37.340Z"
   },
   {
    "duration": 937,
    "start_time": "2022-01-06T12:38:47.763Z"
   },
   {
    "duration": 90,
    "start_time": "2022-01-06T12:38:48.702Z"
   },
   {
    "duration": 118,
    "start_time": "2022-01-06T12:38:48.795Z"
   },
   {
    "duration": 17,
    "start_time": "2022-01-06T12:38:48.920Z"
   },
   {
    "duration": 121,
    "start_time": "2022-01-06T12:38:48.939Z"
   },
   {
    "duration": 7,
    "start_time": "2022-01-06T12:38:49.063Z"
   },
   {
    "duration": 8,
    "start_time": "2022-01-06T12:38:49.072Z"
   },
   {
    "duration": 14,
    "start_time": "2022-01-06T12:38:49.084Z"
   },
   {
    "duration": 12,
    "start_time": "2022-01-06T12:38:49.101Z"
   },
   {
    "duration": 54,
    "start_time": "2022-01-06T12:38:49.116Z"
   },
   {
    "duration": 12,
    "start_time": "2022-01-06T12:38:49.172Z"
   },
   {
    "duration": 8,
    "start_time": "2022-01-06T12:38:49.187Z"
   },
   {
    "duration": 28,
    "start_time": "2022-01-06T12:38:49.198Z"
   },
   {
    "duration": 57,
    "start_time": "2022-01-06T12:38:49.228Z"
   },
   {
    "duration": 9,
    "start_time": "2022-01-06T12:38:49.288Z"
   },
   {
    "duration": 9,
    "start_time": "2022-01-06T12:38:49.299Z"
   },
   {
    "duration": 6,
    "start_time": "2022-01-06T12:38:49.310Z"
   },
   {
    "duration": 50,
    "start_time": "2022-01-06T12:38:49.318Z"
   },
   {
    "duration": 8,
    "start_time": "2022-01-06T12:38:49.371Z"
   },
   {
    "duration": 94,
    "start_time": "2022-01-06T12:38:49.381Z"
   },
   {
    "duration": 57,
    "start_time": "2022-01-06T12:38:49.477Z"
   },
   {
    "duration": 33,
    "start_time": "2022-01-06T12:38:49.536Z"
   },
   {
    "duration": 93,
    "start_time": "2022-01-06T12:38:49.573Z"
   },
   {
    "duration": 75,
    "start_time": "2022-01-06T12:38:49.670Z"
   },
   {
    "duration": 97,
    "start_time": "2022-01-06T12:38:49.748Z"
   },
   {
    "duration": 10,
    "start_time": "2022-01-06T12:38:49.868Z"
   },
   {
    "duration": 9,
    "start_time": "2022-01-06T12:38:49.881Z"
   },
   {
    "duration": 115,
    "start_time": "2022-01-06T12:38:49.893Z"
   },
   {
    "duration": 2377,
    "start_time": "2022-01-06T12:38:50.011Z"
   },
   {
    "duration": 9,
    "start_time": "2022-01-06T12:38:52.390Z"
   },
   {
    "duration": 13,
    "start_time": "2022-01-06T12:38:52.402Z"
   },
   {
    "duration": 14,
    "start_time": "2022-01-06T12:38:52.417Z"
   },
   {
    "duration": 22,
    "start_time": "2022-01-06T12:38:52.468Z"
   },
   {
    "duration": 44,
    "start_time": "2022-01-06T12:38:52.492Z"
   },
   {
    "duration": 88,
    "start_time": "2022-01-06T12:38:52.538Z"
   },
   {
    "duration": 4,
    "start_time": "2022-01-06T12:38:52.629Z"
   },
   {
    "duration": 1012,
    "start_time": "2022-01-06T12:38:52.636Z"
   },
   {
    "duration": 52,
    "start_time": "2022-01-06T12:38:53.651Z"
   },
   {
    "duration": 1165,
    "start_time": "2022-01-06T12:38:53.705Z"
   },
   {
    "duration": 1123,
    "start_time": "2022-01-06T12:38:54.872Z"
   },
   {
    "duration": 621,
    "start_time": "2022-01-06T12:38:55.997Z"
   },
   {
    "duration": 609,
    "start_time": "2022-01-06T12:38:56.620Z"
   },
   {
    "duration": 837,
    "start_time": "2022-01-06T12:38:57.232Z"
   },
   {
    "duration": 417,
    "start_time": "2022-01-06T14:16:19.957Z"
   },
   {
    "duration": 2304,
    "start_time": "2022-01-06T14:19:41.704Z"
   },
   {
    "duration": 1379,
    "start_time": "2022-01-06T14:22:57.709Z"
   },
   {
    "duration": 303,
    "start_time": "2022-01-06T14:26:53.105Z"
   },
   {
    "duration": 291,
    "start_time": "2022-01-06T14:27:03.070Z"
   },
   {
    "duration": 1408,
    "start_time": "2022-01-06T14:31:05.591Z"
   },
   {
    "duration": 1521,
    "start_time": "2022-01-06T14:31:48.778Z"
   },
   {
    "duration": 1447,
    "start_time": "2022-01-06T14:32:58.806Z"
   },
   {
    "duration": 1417,
    "start_time": "2022-01-06T14:33:14.654Z"
   },
   {
    "duration": 1480,
    "start_time": "2022-01-06T14:34:54.392Z"
   },
   {
    "duration": 1746,
    "start_time": "2022-01-06T14:38:13.221Z"
   },
   {
    "duration": 699,
    "start_time": "2022-01-06T14:39:21.555Z"
   },
   {
    "duration": 1796,
    "start_time": "2022-01-06T14:40:38.076Z"
   },
   {
    "duration": 1858,
    "start_time": "2022-01-06T14:40:54.288Z"
   },
   {
    "duration": 715,
    "start_time": "2022-01-06T14:42:03.301Z"
   },
   {
    "duration": 1011,
    "start_time": "2022-01-06T14:42:36.021Z"
   },
   {
    "duration": 2441,
    "start_time": "2022-01-06T14:42:57.009Z"
   },
   {
    "duration": 324,
    "start_time": "2022-01-06T14:47:37.751Z"
   },
   {
    "duration": 605,
    "start_time": "2022-01-06T14:48:55.610Z"
   },
   {
    "duration": 14,
    "start_time": "2022-01-06T14:50:27.020Z"
   },
   {
    "duration": 12,
    "start_time": "2022-01-06T14:53:06.236Z"
   },
   {
    "duration": 6,
    "start_time": "2022-01-06T14:58:33.252Z"
   },
   {
    "duration": 6,
    "start_time": "2022-01-06T15:59:38.668Z"
   },
   {
    "duration": 348,
    "start_time": "2022-01-06T16:09:22.032Z"
   },
   {
    "duration": 321,
    "start_time": "2022-01-06T16:10:07.368Z"
   },
   {
    "duration": 925,
    "start_time": "2022-01-06T16:10:17.778Z"
   },
   {
    "duration": 85,
    "start_time": "2022-01-06T16:10:18.705Z"
   },
   {
    "duration": 118,
    "start_time": "2022-01-06T16:10:18.794Z"
   },
   {
    "duration": 17,
    "start_time": "2022-01-06T16:10:18.915Z"
   },
   {
    "duration": 133,
    "start_time": "2022-01-06T16:10:18.934Z"
   },
   {
    "duration": 5,
    "start_time": "2022-01-06T16:10:19.069Z"
   },
   {
    "duration": 7,
    "start_time": "2022-01-06T16:10:19.077Z"
   },
   {
    "duration": 17,
    "start_time": "2022-01-06T16:10:19.087Z"
   },
   {
    "duration": 15,
    "start_time": "2022-01-06T16:10:19.108Z"
   },
   {
    "duration": 47,
    "start_time": "2022-01-06T16:10:19.128Z"
   },
   {
    "duration": 15,
    "start_time": "2022-01-06T16:10:19.179Z"
   },
   {
    "duration": 9,
    "start_time": "2022-01-06T16:10:19.197Z"
   },
   {
    "duration": 69,
    "start_time": "2022-01-06T16:10:19.209Z"
   },
   {
    "duration": 22,
    "start_time": "2022-01-06T16:10:19.280Z"
   },
   {
    "duration": 8,
    "start_time": "2022-01-06T16:10:19.305Z"
   },
   {
    "duration": 9,
    "start_time": "2022-01-06T16:10:19.315Z"
   },
   {
    "duration": 44,
    "start_time": "2022-01-06T16:10:19.328Z"
   },
   {
    "duration": 6,
    "start_time": "2022-01-06T16:10:19.376Z"
   },
   {
    "duration": 9,
    "start_time": "2022-01-06T16:10:19.384Z"
   },
   {
    "duration": 111,
    "start_time": "2022-01-06T16:10:19.395Z"
   },
   {
    "duration": 75,
    "start_time": "2022-01-06T16:10:19.509Z"
   },
   {
    "duration": 10,
    "start_time": "2022-01-06T16:10:19.586Z"
   },
   {
    "duration": 103,
    "start_time": "2022-01-06T16:10:19.599Z"
   },
   {
    "duration": 88,
    "start_time": "2022-01-06T16:10:19.705Z"
   },
   {
    "duration": 89,
    "start_time": "2022-01-06T16:10:19.796Z"
   },
   {
    "duration": 8,
    "start_time": "2022-01-06T16:10:19.887Z"
   },
   {
    "duration": 7,
    "start_time": "2022-01-06T16:10:19.900Z"
   },
   {
    "duration": 123,
    "start_time": "2022-01-06T16:10:19.910Z"
   },
   {
    "duration": 2376,
    "start_time": "2022-01-06T16:10:20.035Z"
   },
   {
    "duration": 10,
    "start_time": "2022-01-06T16:10:22.413Z"
   },
   {
    "duration": 42,
    "start_time": "2022-01-06T16:10:22.427Z"
   },
   {
    "duration": 14,
    "start_time": "2022-01-06T16:10:22.472Z"
   },
   {
    "duration": 26,
    "start_time": "2022-01-06T16:10:22.489Z"
   },
   {
    "duration": 78,
    "start_time": "2022-01-06T16:10:22.517Z"
   },
   {
    "duration": 84,
    "start_time": "2022-01-06T16:10:22.598Z"
   },
   {
    "duration": 5,
    "start_time": "2022-01-06T16:10:22.685Z"
   },
   {
    "duration": 1051,
    "start_time": "2022-01-06T16:10:22.693Z"
   },
   {
    "duration": 55,
    "start_time": "2022-01-06T16:10:23.747Z"
   },
   {
    "duration": 1685,
    "start_time": "2022-01-06T16:10:23.805Z"
   },
   {
    "duration": 1773,
    "start_time": "2022-01-06T16:10:25.494Z"
   },
   {
    "duration": 1046,
    "start_time": "2022-01-06T16:10:27.270Z"
   },
   {
    "duration": 937,
    "start_time": "2022-01-06T16:10:28.319Z"
   },
   {
    "duration": 1289,
    "start_time": "2022-01-06T16:10:29.259Z"
   },
   {
    "duration": 599,
    "start_time": "2022-01-06T16:10:30.551Z"
   },
   {
    "duration": 19,
    "start_time": "2022-01-06T16:10:31.153Z"
   },
   {
    "duration": 10,
    "start_time": "2022-01-06T16:10:31.175Z"
   },
   {
    "duration": 12,
    "start_time": "2022-01-06T16:10:31.188Z"
   },
   {
    "duration": 28,
    "start_time": "2022-01-06T16:10:31.203Z"
   },
   {
    "duration": 9,
    "start_time": "2022-01-06T16:11:29.593Z"
   },
   {
    "duration": 21,
    "start_time": "2022-01-06T16:11:31.875Z"
   },
   {
    "duration": 17,
    "start_time": "2022-01-06T16:15:57.317Z"
   },
   {
    "duration": 16,
    "start_time": "2022-01-06T16:17:52.182Z"
   },
   {
    "duration": 17,
    "start_time": "2022-01-06T16:18:46.948Z"
   },
   {
    "duration": 16,
    "start_time": "2022-01-06T16:19:33.874Z"
   },
   {
    "duration": 417,
    "start_time": "2022-01-06T16:42:03.239Z"
   },
   {
    "duration": 301,
    "start_time": "2022-01-06T16:45:49.847Z"
   },
   {
    "duration": 303,
    "start_time": "2022-01-06T16:46:09.427Z"
   },
   {
    "duration": 323,
    "start_time": "2022-01-06T16:46:36.250Z"
   },
   {
    "duration": 45,
    "start_time": "2022-01-06T16:46:58.237Z"
   },
   {
    "duration": 140,
    "start_time": "2022-01-06T16:47:41.066Z"
   },
   {
    "duration": 883,
    "start_time": "2022-01-06T16:51:27.675Z"
   },
   {
    "duration": 90,
    "start_time": "2022-01-06T16:51:28.561Z"
   },
   {
    "duration": 127,
    "start_time": "2022-01-06T16:51:28.654Z"
   },
   {
    "duration": 17,
    "start_time": "2022-01-06T16:51:28.784Z"
   },
   {
    "duration": 134,
    "start_time": "2022-01-06T16:51:28.803Z"
   },
   {
    "duration": 7,
    "start_time": "2022-01-06T16:51:28.939Z"
   },
   {
    "duration": 9,
    "start_time": "2022-01-06T16:51:28.966Z"
   },
   {
    "duration": 13,
    "start_time": "2022-01-06T16:51:28.979Z"
   },
   {
    "duration": 13,
    "start_time": "2022-01-06T16:51:28.995Z"
   },
   {
    "duration": 9,
    "start_time": "2022-01-06T16:51:29.012Z"
   },
   {
    "duration": 13,
    "start_time": "2022-01-06T16:51:29.066Z"
   },
   {
    "duration": 7,
    "start_time": "2022-01-06T16:51:29.081Z"
   },
   {
    "duration": 30,
    "start_time": "2022-01-06T16:51:29.090Z"
   },
   {
    "duration": 64,
    "start_time": "2022-01-06T16:51:29.122Z"
   },
   {
    "duration": 9,
    "start_time": "2022-01-06T16:51:29.189Z"
   },
   {
    "duration": 8,
    "start_time": "2022-01-06T16:51:29.201Z"
   },
   {
    "duration": 6,
    "start_time": "2022-01-06T16:51:29.211Z"
   },
   {
    "duration": 7,
    "start_time": "2022-01-06T16:51:29.267Z"
   },
   {
    "duration": 11,
    "start_time": "2022-01-06T16:51:29.277Z"
   },
   {
    "duration": 110,
    "start_time": "2022-01-06T16:51:29.291Z"
   },
   {
    "duration": 75,
    "start_time": "2022-01-06T16:51:29.403Z"
   },
   {
    "duration": 12,
    "start_time": "2022-01-06T16:51:29.481Z"
   },
   {
    "duration": 108,
    "start_time": "2022-01-06T16:51:29.499Z"
   },
   {
    "duration": 96,
    "start_time": "2022-01-06T16:51:29.611Z"
   },
   {
    "duration": 93,
    "start_time": "2022-01-06T16:51:29.710Z"
   },
   {
    "duration": 7,
    "start_time": "2022-01-06T16:51:29.805Z"
   },
   {
    "duration": 7,
    "start_time": "2022-01-06T16:51:29.815Z"
   },
   {
    "duration": 113,
    "start_time": "2022-01-06T16:51:29.824Z"
   },
   {
    "duration": 2368,
    "start_time": "2022-01-06T16:51:29.940Z"
   },
   {
    "duration": 10,
    "start_time": "2022-01-06T16:51:32.311Z"
   },
   {
    "duration": 17,
    "start_time": "2022-01-06T16:51:32.323Z"
   },
   {
    "duration": 30,
    "start_time": "2022-01-06T16:51:32.342Z"
   },
   {
    "duration": 31,
    "start_time": "2022-01-06T16:51:32.375Z"
   },
   {
    "duration": 82,
    "start_time": "2022-01-06T16:51:32.408Z"
   },
   {
    "duration": 111,
    "start_time": "2022-01-06T16:51:32.494Z"
   },
   {
    "duration": 5,
    "start_time": "2022-01-06T16:51:32.608Z"
   },
   {
    "duration": 1045,
    "start_time": "2022-01-06T16:51:32.615Z"
   },
   {
    "duration": 42,
    "start_time": "2022-01-06T16:51:33.663Z"
   },
   {
    "duration": 1275,
    "start_time": "2022-01-06T16:51:33.707Z"
   },
   {
    "duration": 1228,
    "start_time": "2022-01-06T16:51:34.984Z"
   },
   {
    "duration": 622,
    "start_time": "2022-01-06T16:51:36.214Z"
   },
   {
    "duration": 621,
    "start_time": "2022-01-06T16:51:36.839Z"
   },
   {
    "duration": 868,
    "start_time": "2022-01-06T16:51:37.462Z"
   },
   {
    "duration": 598,
    "start_time": "2022-01-06T16:51:38.332Z"
   },
   {
    "duration": 13,
    "start_time": "2022-01-06T16:51:38.932Z"
   },
   {
    "duration": 22,
    "start_time": "2022-01-06T16:51:38.948Z"
   },
   {
    "duration": 7,
    "start_time": "2022-01-06T16:51:38.973Z"
   },
   {
    "duration": 27,
    "start_time": "2022-01-06T16:51:38.983Z"
   },
   {
    "duration": 10,
    "start_time": "2022-01-06T16:51:39.012Z"
   },
   {
    "duration": 50,
    "start_time": "2022-01-06T16:51:39.025Z"
   },
   {
    "duration": 19,
    "start_time": "2022-01-06T16:51:39.078Z"
   },
   {
    "duration": 19,
    "start_time": "2022-01-06T16:51:39.100Z"
   },
   {
    "duration": 58,
    "start_time": "2022-01-06T16:51:39.122Z"
   },
   {
    "duration": 412,
    "start_time": "2022-01-06T16:55:56.987Z"
   },
   {
    "duration": 96,
    "start_time": "2022-01-06T16:56:48.883Z"
   },
   {
    "duration": 105,
    "start_time": "2022-01-06T16:57:28.669Z"
   },
   {
    "duration": 3,
    "start_time": "2022-01-06T16:58:02.261Z"
   },
   {
    "duration": 4,
    "start_time": "2022-01-06T16:58:11.925Z"
   },
   {
    "duration": 52,
    "start_time": "2022-01-06T17:08:09.855Z"
   },
   {
    "duration": 142,
    "start_time": "2022-01-06T17:12:28.826Z"
   },
   {
    "duration": 32,
    "start_time": "2022-01-06T17:12:46.177Z"
   },
   {
    "duration": 149,
    "start_time": "2022-01-06T17:13:17.694Z"
   },
   {
    "duration": 699,
    "start_time": "2022-01-06T17:40:40.761Z"
   },
   {
    "duration": 10,
    "start_time": "2022-01-06T17:40:58.646Z"
   },
   {
    "duration": 8,
    "start_time": "2022-01-06T17:41:02.653Z"
   },
   {
    "duration": 33,
    "start_time": "2022-01-06T17:41:46.237Z"
   },
   {
    "duration": 119,
    "start_time": "2022-01-06T17:53:53.579Z"
   },
   {
    "duration": 96,
    "start_time": "2022-01-06T17:54:11.632Z"
   },
   {
    "duration": 28,
    "start_time": "2022-01-06T17:54:31.897Z"
   },
   {
    "duration": 95,
    "start_time": "2022-01-06T17:54:42.744Z"
   },
   {
    "duration": 29,
    "start_time": "2022-01-06T17:54:55.396Z"
   },
   {
    "duration": 26,
    "start_time": "2022-01-06T17:55:17.533Z"
   },
   {
    "duration": 537,
    "start_time": "2022-01-06T18:04:31.082Z"
   },
   {
    "duration": 917,
    "start_time": "2022-01-06T18:06:27.951Z"
   },
   {
    "duration": 85,
    "start_time": "2022-01-06T18:06:28.871Z"
   },
   {
    "duration": 123,
    "start_time": "2022-01-06T18:06:28.968Z"
   },
   {
    "duration": 21,
    "start_time": "2022-01-06T18:06:29.093Z"
   },
   {
    "duration": 122,
    "start_time": "2022-01-06T18:06:29.117Z"
   },
   {
    "duration": 5,
    "start_time": "2022-01-06T18:06:29.242Z"
   },
   {
    "duration": 21,
    "start_time": "2022-01-06T18:06:29.251Z"
   },
   {
    "duration": 20,
    "start_time": "2022-01-06T18:06:29.275Z"
   },
   {
    "duration": 13,
    "start_time": "2022-01-06T18:06:29.297Z"
   },
   {
    "duration": 11,
    "start_time": "2022-01-06T18:06:29.313Z"
   },
   {
    "duration": 49,
    "start_time": "2022-01-06T18:06:29.327Z"
   },
   {
    "duration": 9,
    "start_time": "2022-01-06T18:06:29.379Z"
   },
   {
    "duration": 28,
    "start_time": "2022-01-06T18:06:29.391Z"
   },
   {
    "duration": 62,
    "start_time": "2022-01-06T18:06:29.421Z"
   },
   {
    "duration": 21,
    "start_time": "2022-01-06T18:06:29.485Z"
   },
   {
    "duration": 11,
    "start_time": "2022-01-06T18:06:29.509Z"
   },
   {
    "duration": 8,
    "start_time": "2022-01-06T18:06:29.523Z"
   },
   {
    "duration": 35,
    "start_time": "2022-01-06T18:06:29.534Z"
   },
   {
    "duration": 16,
    "start_time": "2022-01-06T18:06:29.572Z"
   },
   {
    "duration": 103,
    "start_time": "2022-01-06T18:06:29.591Z"
   },
   {
    "duration": 79,
    "start_time": "2022-01-06T18:06:29.696Z"
   },
   {
    "duration": 9,
    "start_time": "2022-01-06T18:06:29.781Z"
   },
   {
    "duration": 110,
    "start_time": "2022-01-06T18:06:29.793Z"
   },
   {
    "duration": 88,
    "start_time": "2022-01-06T18:06:29.905Z"
   },
   {
    "duration": 95,
    "start_time": "2022-01-06T18:06:29.996Z"
   },
   {
    "duration": 6,
    "start_time": "2022-01-06T18:06:30.094Z"
   },
   {
    "duration": 11,
    "start_time": "2022-01-06T18:06:30.103Z"
   },
   {
    "duration": 106,
    "start_time": "2022-01-06T18:06:30.117Z"
   },
   {
    "duration": 2320,
    "start_time": "2022-01-06T18:06:30.226Z"
   },
   {
    "duration": 19,
    "start_time": "2022-01-06T18:06:32.549Z"
   },
   {
    "duration": 13,
    "start_time": "2022-01-06T18:06:32.570Z"
   },
   {
    "duration": 13,
    "start_time": "2022-01-06T18:06:32.586Z"
   },
   {
    "duration": 24,
    "start_time": "2022-01-06T18:06:32.602Z"
   },
   {
    "duration": 75,
    "start_time": "2022-01-06T18:06:32.629Z"
   },
   {
    "duration": 93,
    "start_time": "2022-01-06T18:06:32.707Z"
   },
   {
    "duration": 4,
    "start_time": "2022-01-06T18:06:32.803Z"
   },
   {
    "duration": 1006,
    "start_time": "2022-01-06T18:06:32.809Z"
   },
   {
    "duration": 58,
    "start_time": "2022-01-06T18:06:33.818Z"
   },
   {
    "duration": 1144,
    "start_time": "2022-01-06T18:06:33.879Z"
   },
   {
    "duration": 1108,
    "start_time": "2022-01-06T18:06:35.026Z"
   },
   {
    "duration": 613,
    "start_time": "2022-01-06T18:06:36.136Z"
   },
   {
    "duration": 620,
    "start_time": "2022-01-06T18:06:36.752Z"
   },
   {
    "duration": 850,
    "start_time": "2022-01-06T18:06:37.374Z"
   },
   {
    "duration": 630,
    "start_time": "2022-01-06T18:06:38.227Z"
   },
   {
    "duration": 11,
    "start_time": "2022-01-06T18:06:38.868Z"
   },
   {
    "duration": 6,
    "start_time": "2022-01-06T18:06:38.881Z"
   },
   {
    "duration": 6,
    "start_time": "2022-01-06T18:06:38.890Z"
   },
   {
    "duration": 22,
    "start_time": "2022-01-06T18:06:38.899Z"
   },
   {
    "duration": 57,
    "start_time": "2022-01-06T18:06:38.924Z"
   },
   {
    "duration": 16,
    "start_time": "2022-01-06T18:06:38.983Z"
   },
   {
    "duration": 18,
    "start_time": "2022-01-06T18:06:39.002Z"
   },
   {
    "duration": 51,
    "start_time": "2022-01-06T18:06:39.023Z"
   },
   {
    "duration": 164,
    "start_time": "2022-01-06T18:06:39.076Z"
   },
   {
    "duration": 654,
    "start_time": "2022-01-06T18:06:39.243Z"
   },
   {
    "duration": 554,
    "start_time": "2022-01-06T18:06:39.900Z"
   },
   {
    "duration": 765,
    "start_time": "2022-01-06T18:09:43.050Z"
   },
   {
    "duration": 319,
    "start_time": "2022-01-06T18:10:12.776Z"
   },
   {
    "duration": 761,
    "start_time": "2022-01-06T18:10:41.026Z"
   },
   {
    "duration": 419,
    "start_time": "2022-01-06T18:14:58.687Z"
   },
   {
    "duration": 15,
    "start_time": "2022-01-06T18:34:00.180Z"
   },
   {
    "duration": 15,
    "start_time": "2022-01-06T18:34:22.202Z"
   },
   {
    "duration": 17,
    "start_time": "2022-01-06T18:34:40.211Z"
   },
   {
    "duration": 14,
    "start_time": "2022-01-06T18:34:56.955Z"
   },
   {
    "duration": 11,
    "start_time": "2022-01-06T18:36:15.381Z"
   },
   {
    "duration": 22,
    "start_time": "2022-01-06T18:45:05.409Z"
   },
   {
    "duration": 14,
    "start_time": "2022-01-06T18:48:10.179Z"
   },
   {
    "duration": 12,
    "start_time": "2022-01-06T18:48:23.059Z"
   },
   {
    "duration": 428,
    "start_time": "2022-01-06T18:48:43.491Z"
   },
   {
    "duration": 471,
    "start_time": "2022-01-06T18:49:25.800Z"
   },
   {
    "duration": 106,
    "start_time": "2022-01-06T18:49:32.858Z"
   },
   {
    "duration": 13,
    "start_time": "2022-01-06T18:49:39.176Z"
   },
   {
    "duration": 12,
    "start_time": "2022-01-06T18:49:50.835Z"
   },
   {
    "duration": 11,
    "start_time": "2022-01-06T18:59:51.739Z"
   },
   {
    "duration": 10,
    "start_time": "2022-01-06T18:59:58.350Z"
   },
   {
    "duration": 12,
    "start_time": "2022-01-06T19:00:44.959Z"
   },
   {
    "duration": 12,
    "start_time": "2022-01-06T19:01:20.974Z"
   },
   {
    "duration": 53,
    "start_time": "2022-01-06T19:05:30.953Z"
   },
   {
    "duration": 84,
    "start_time": "2022-01-06T19:11:22.220Z"
   },
   {
    "duration": 29,
    "start_time": "2022-01-06T19:13:48.754Z"
   },
   {
    "duration": 362,
    "start_time": "2022-01-06T19:15:21.870Z"
   },
   {
    "duration": 28,
    "start_time": "2022-01-06T19:15:46.872Z"
   },
   {
    "duration": 330,
    "start_time": "2022-01-06T19:18:40.199Z"
   },
   {
    "duration": 29,
    "start_time": "2022-01-06T19:19:27.464Z"
   },
   {
    "duration": 30,
    "start_time": "2022-01-06T19:19:57.138Z"
   },
   {
    "duration": 29,
    "start_time": "2022-01-06T19:20:22.373Z"
   },
   {
    "duration": 28,
    "start_time": "2022-01-06T19:20:44.734Z"
   },
   {
    "duration": 31,
    "start_time": "2022-01-06T19:21:39.315Z"
   },
   {
    "duration": 26,
    "start_time": "2022-01-06T19:23:33.388Z"
   },
   {
    "duration": 26,
    "start_time": "2022-01-06T19:25:57.292Z"
   },
   {
    "duration": 32,
    "start_time": "2022-01-06T19:26:50.013Z"
   },
   {
    "duration": 166,
    "start_time": "2022-01-07T11:28:20.958Z"
   },
   {
    "duration": 720,
    "start_time": "2022-01-07T11:28:35.586Z"
   },
   {
    "duration": 65,
    "start_time": "2022-01-07T11:28:36.308Z"
   },
   {
    "duration": 79,
    "start_time": "2022-01-07T11:28:36.375Z"
   },
   {
    "duration": 10,
    "start_time": "2022-01-07T11:28:36.456Z"
   },
   {
    "duration": 81,
    "start_time": "2022-01-07T11:28:36.468Z"
   },
   {
    "duration": 4,
    "start_time": "2022-01-07T11:28:36.551Z"
   },
   {
    "duration": 7,
    "start_time": "2022-01-07T11:28:36.556Z"
   },
   {
    "duration": 29,
    "start_time": "2022-01-07T11:28:36.565Z"
   },
   {
    "duration": 9,
    "start_time": "2022-01-07T11:28:36.596Z"
   },
   {
    "duration": 7,
    "start_time": "2022-01-07T11:28:36.607Z"
   },
   {
    "duration": 8,
    "start_time": "2022-01-07T11:28:36.616Z"
   },
   {
    "duration": 6,
    "start_time": "2022-01-07T11:28:36.626Z"
   },
   {
    "duration": 59,
    "start_time": "2022-01-07T11:28:36.634Z"
   },
   {
    "duration": 16,
    "start_time": "2022-01-07T11:28:36.695Z"
   },
   {
    "duration": 8,
    "start_time": "2022-01-07T11:28:36.713Z"
   },
   {
    "duration": 5,
    "start_time": "2022-01-07T11:28:36.722Z"
   },
   {
    "duration": 4,
    "start_time": "2022-01-07T11:28:36.729Z"
   },
   {
    "duration": 5,
    "start_time": "2022-01-07T11:28:36.734Z"
   },
   {
    "duration": 7,
    "start_time": "2022-01-07T11:28:36.740Z"
   },
   {
    "duration": 76,
    "start_time": "2022-01-07T11:28:36.749Z"
   },
   {
    "duration": 32,
    "start_time": "2022-01-07T11:28:36.827Z"
   },
   {
    "duration": 6,
    "start_time": "2022-01-07T11:28:36.860Z"
   },
   {
    "duration": 47,
    "start_time": "2022-01-07T11:28:36.890Z"
   },
   {
    "duration": 60,
    "start_time": "2022-01-07T11:28:36.939Z"
   },
   {
    "duration": 45,
    "start_time": "2022-01-07T11:28:37.001Z"
   },
   {
    "duration": 4,
    "start_time": "2022-01-07T11:28:37.048Z"
   },
   {
    "duration": 4,
    "start_time": "2022-01-07T11:28:37.054Z"
   },
   {
    "duration": 72,
    "start_time": "2022-01-07T11:28:37.060Z"
   },
   {
    "duration": 1529,
    "start_time": "2022-01-07T11:28:37.133Z"
   },
   {
    "duration": 7,
    "start_time": "2022-01-07T11:28:38.664Z"
   },
   {
    "duration": 22,
    "start_time": "2022-01-07T11:28:38.673Z"
   },
   {
    "duration": 9,
    "start_time": "2022-01-07T11:28:38.696Z"
   },
   {
    "duration": 19,
    "start_time": "2022-01-07T11:28:38.706Z"
   },
   {
    "duration": 26,
    "start_time": "2022-01-07T11:28:38.727Z"
   },
   {
    "duration": 66,
    "start_time": "2022-01-07T11:28:38.755Z"
   },
   {
    "duration": 3,
    "start_time": "2022-01-07T11:28:38.823Z"
   },
   {
    "duration": 695,
    "start_time": "2022-01-07T11:28:38.827Z"
   },
   {
    "duration": 27,
    "start_time": "2022-01-07T11:28:39.524Z"
   },
   {
    "duration": 762,
    "start_time": "2022-01-07T11:28:39.552Z"
   },
   {
    "duration": 693,
    "start_time": "2022-01-07T11:28:40.316Z"
   },
   {
    "duration": 388,
    "start_time": "2022-01-07T11:28:41.011Z"
   },
   {
    "duration": 387,
    "start_time": "2022-01-07T11:28:41.401Z"
   },
   {
    "duration": 527,
    "start_time": "2022-01-07T11:28:41.791Z"
   },
   {
    "duration": 213,
    "start_time": "2022-01-07T11:28:42.319Z"
   },
   {
    "duration": 9,
    "start_time": "2022-01-07T11:28:42.535Z"
   },
   {
    "duration": 4,
    "start_time": "2022-01-07T11:28:42.546Z"
   },
   {
    "duration": 6,
    "start_time": "2022-01-07T11:28:42.552Z"
   },
   {
    "duration": 40,
    "start_time": "2022-01-07T11:28:42.559Z"
   },
   {
    "duration": 12,
    "start_time": "2022-01-07T11:28:42.601Z"
   },
   {
    "duration": 10,
    "start_time": "2022-01-07T11:28:42.615Z"
   },
   {
    "duration": 10,
    "start_time": "2022-01-07T11:28:42.627Z"
   },
   {
    "duration": 11,
    "start_time": "2022-01-07T11:28:42.639Z"
   },
   {
    "duration": 126,
    "start_time": "2022-01-07T11:28:42.652Z"
   },
   {
    "duration": 252,
    "start_time": "2022-01-07T11:28:42.781Z"
   },
   {
    "duration": 286,
    "start_time": "2022-01-07T11:28:43.036Z"
   },
   {
    "duration": 353,
    "start_time": "2022-01-07T11:28:43.325Z"
   },
   {
    "duration": 447,
    "start_time": "2022-01-07T11:28:43.680Z"
   },
   {
    "duration": 328,
    "start_time": "2022-01-07T11:28:44.130Z"
   },
   {
    "duration": 38,
    "start_time": "2022-01-07T11:28:44.460Z"
   },
   {
    "duration": 31,
    "start_time": "2022-01-07T11:28:44.500Z"
   },
   {
    "duration": 34,
    "start_time": "2022-01-07T11:34:29.040Z"
   },
   {
    "duration": 33,
    "start_time": "2022-01-07T11:42:20.317Z"
   },
   {
    "duration": 11,
    "start_time": "2022-01-07T11:45:30.540Z"
   },
   {
    "duration": 3392,
    "start_time": "2022-01-07T12:09:55.024Z"
   },
   {
    "duration": 409,
    "start_time": "2022-01-07T12:10:17.882Z"
   },
   {
    "duration": 254,
    "start_time": "2022-01-07T12:17:14.790Z"
   },
   {
    "duration": 712,
    "start_time": "2022-01-07T12:18:42.431Z"
   },
   {
    "duration": 28,
    "start_time": "2022-01-07T12:48:17.943Z"
   },
   {
    "duration": 743,
    "start_time": "2022-01-07T12:50:01.511Z"
   },
   {
    "duration": 653,
    "start_time": "2022-01-07T12:50:21.053Z"
   },
   {
    "duration": 777,
    "start_time": "2022-01-07T12:52:06.976Z"
   },
   {
    "duration": 675,
    "start_time": "2022-01-07T12:52:18.650Z"
   },
   {
    "duration": 361,
    "start_time": "2022-01-07T12:53:35.111Z"
   },
   {
    "duration": 347,
    "start_time": "2022-01-07T12:54:40.739Z"
   },
   {
    "duration": 355,
    "start_time": "2022-01-07T12:55:50.218Z"
   },
   {
    "duration": 360,
    "start_time": "2022-01-07T12:56:05.143Z"
   },
   {
    "duration": 576,
    "start_time": "2022-01-07T12:57:11.872Z"
   },
   {
    "duration": 18,
    "start_time": "2022-01-07T12:59:22.725Z"
   },
   {
    "duration": 49,
    "start_time": "2022-01-07T13:02:54.985Z"
   },
   {
    "duration": 60,
    "start_time": "2022-01-07T13:03:10.764Z"
   },
   {
    "duration": 42,
    "start_time": "2022-01-07T13:03:24.224Z"
   },
   {
    "duration": 19,
    "start_time": "2022-01-07T13:04:19.006Z"
   },
   {
    "duration": 19,
    "start_time": "2022-01-07T13:04:24.189Z"
   },
   {
    "duration": 247,
    "start_time": "2022-01-07T13:06:44.038Z"
   },
   {
    "duration": 328,
    "start_time": "2022-01-07T13:08:35.354Z"
   },
   {
    "duration": 410,
    "start_time": "2022-01-07T13:08:39.834Z"
   },
   {
    "duration": 274,
    "start_time": "2022-01-07T13:08:44.150Z"
   },
   {
    "duration": 18,
    "start_time": "2022-01-07T13:28:30.719Z"
   },
   {
    "duration": 6,
    "start_time": "2022-01-07T13:29:05.567Z"
   },
   {
    "duration": 641,
    "start_time": "2022-01-07T13:29:31.582Z"
   },
   {
    "duration": 68,
    "start_time": "2022-01-07T13:29:32.225Z"
   },
   {
    "duration": 77,
    "start_time": "2022-01-07T13:29:32.297Z"
   },
   {
    "duration": 24,
    "start_time": "2022-01-07T13:29:32.376Z"
   },
   {
    "duration": 71,
    "start_time": "2022-01-07T13:29:32.402Z"
   },
   {
    "duration": 18,
    "start_time": "2022-01-07T13:29:32.475Z"
   },
   {
    "duration": 5,
    "start_time": "2022-01-07T13:29:32.496Z"
   },
   {
    "duration": 11,
    "start_time": "2022-01-07T13:29:32.503Z"
   },
   {
    "duration": 9,
    "start_time": "2022-01-07T13:29:32.516Z"
   },
   {
    "duration": 7,
    "start_time": "2022-01-07T13:29:32.526Z"
   },
   {
    "duration": 7,
    "start_time": "2022-01-07T13:29:32.535Z"
   },
   {
    "duration": 5,
    "start_time": "2022-01-07T13:29:32.544Z"
   },
   {
    "duration": 20,
    "start_time": "2022-01-07T13:29:32.591Z"
   },
   {
    "duration": 17,
    "start_time": "2022-01-07T13:29:32.613Z"
   },
   {
    "duration": 6,
    "start_time": "2022-01-07T13:29:32.632Z"
   },
   {
    "duration": 6,
    "start_time": "2022-01-07T13:29:32.639Z"
   },
   {
    "duration": 6,
    "start_time": "2022-01-07T13:29:32.646Z"
   },
   {
    "duration": 40,
    "start_time": "2022-01-07T13:29:32.653Z"
   },
   {
    "duration": 6,
    "start_time": "2022-01-07T13:29:32.695Z"
   },
   {
    "duration": 47,
    "start_time": "2022-01-07T13:29:32.703Z"
   },
   {
    "duration": 57,
    "start_time": "2022-01-07T13:29:32.751Z"
   },
   {
    "duration": 5,
    "start_time": "2022-01-07T13:29:32.812Z"
   },
   {
    "duration": 46,
    "start_time": "2022-01-07T13:29:32.820Z"
   },
   {
    "duration": 64,
    "start_time": "2022-01-07T13:29:32.868Z"
   },
   {
    "duration": 60,
    "start_time": "2022-01-07T13:29:32.934Z"
   },
   {
    "duration": 5,
    "start_time": "2022-01-07T13:29:32.996Z"
   },
   {
    "duration": 6,
    "start_time": "2022-01-07T13:29:33.003Z"
   },
   {
    "duration": 4,
    "start_time": "2022-01-07T13:29:33.011Z"
   },
   {
    "duration": 46,
    "start_time": "2022-01-07T13:29:33.016Z"
   },
   {
    "duration": 1414,
    "start_time": "2022-01-07T13:29:33.091Z"
   },
   {
    "duration": 6,
    "start_time": "2022-01-07T13:29:34.507Z"
   },
   {
    "duration": 9,
    "start_time": "2022-01-07T13:29:34.514Z"
   },
   {
    "duration": 7,
    "start_time": "2022-01-07T13:29:34.525Z"
   },
   {
    "duration": 17,
    "start_time": "2022-01-07T13:29:34.534Z"
   },
   {
    "duration": 52,
    "start_time": "2022-01-07T13:29:34.552Z"
   },
   {
    "duration": 42,
    "start_time": "2022-01-07T13:29:34.606Z"
   },
   {
    "duration": 2,
    "start_time": "2022-01-07T13:29:34.650Z"
   },
   {
    "duration": 609,
    "start_time": "2022-01-07T13:29:34.654Z"
   },
   {
    "duration": 34,
    "start_time": "2022-01-07T13:29:35.264Z"
   },
   {
    "duration": 704,
    "start_time": "2022-01-07T13:29:35.299Z"
   },
   {
    "duration": 666,
    "start_time": "2022-01-07T13:29:36.005Z"
   },
   {
    "duration": 374,
    "start_time": "2022-01-07T13:29:36.673Z"
   },
   {
    "duration": 368,
    "start_time": "2022-01-07T13:29:37.049Z"
   },
   {
    "duration": 525,
    "start_time": "2022-01-07T13:29:37.418Z"
   },
   {
    "duration": 212,
    "start_time": "2022-01-07T13:29:37.944Z"
   },
   {
    "duration": 9,
    "start_time": "2022-01-07T13:29:38.158Z"
   },
   {
    "duration": 5,
    "start_time": "2022-01-07T13:29:38.168Z"
   },
   {
    "duration": 21,
    "start_time": "2022-01-07T13:29:38.174Z"
   },
   {
    "duration": 13,
    "start_time": "2022-01-07T13:29:38.197Z"
   },
   {
    "duration": 9,
    "start_time": "2022-01-07T13:29:38.212Z"
   },
   {
    "duration": 8,
    "start_time": "2022-01-07T13:29:38.223Z"
   },
   {
    "duration": 10,
    "start_time": "2022-01-07T13:29:38.233Z"
   },
   {
    "duration": 10,
    "start_time": "2022-01-07T13:29:38.244Z"
   },
   {
    "duration": 122,
    "start_time": "2022-01-07T13:29:38.256Z"
   },
   {
    "duration": 286,
    "start_time": "2022-01-07T13:29:38.380Z"
   },
   {
    "duration": 257,
    "start_time": "2022-01-07T13:29:38.668Z"
   },
   {
    "duration": 334,
    "start_time": "2022-01-07T13:29:38.927Z"
   },
   {
    "duration": 416,
    "start_time": "2022-01-07T13:29:39.263Z"
   },
   {
    "duration": 307,
    "start_time": "2022-01-07T13:29:39.681Z"
   },
   {
    "duration": 22,
    "start_time": "2022-01-07T13:29:39.989Z"
   },
   {
    "duration": 31,
    "start_time": "2022-01-07T13:29:40.013Z"
   },
   {
    "duration": 10,
    "start_time": "2022-01-07T13:29:40.046Z"
   },
   {
    "duration": 418,
    "start_time": "2022-01-07T13:29:40.058Z"
   },
   {
    "duration": 801,
    "start_time": "2022-01-07T13:29:40.477Z"
   },
   {
    "duration": 35,
    "start_time": "2022-01-07T13:29:41.279Z"
   },
   {
    "duration": 657,
    "start_time": "2022-01-07T13:29:41.316Z"
   },
   {
    "duration": 660,
    "start_time": "2022-01-07T13:29:41.979Z"
   },
   {
    "duration": 352,
    "start_time": "2022-01-07T13:29:42.642Z"
   },
   {
    "duration": 376,
    "start_time": "2022-01-07T13:29:42.995Z"
   },
   {
    "duration": 562,
    "start_time": "2022-01-07T13:29:43.373Z"
   },
   {
    "duration": 18,
    "start_time": "2022-01-07T13:29:43.937Z"
   },
   {
    "duration": 255,
    "start_time": "2022-01-07T13:29:43.956Z"
   },
   {
    "duration": 324,
    "start_time": "2022-01-07T13:29:44.213Z"
   },
   {
    "duration": 415,
    "start_time": "2022-01-07T13:29:44.539Z"
   },
   {
    "duration": 303,
    "start_time": "2022-01-07T13:29:44.955Z"
   },
   {
    "duration": 8,
    "start_time": "2022-01-07T13:31:21.384Z"
   },
   {
    "duration": 7,
    "start_time": "2022-01-07T13:31:36.916Z"
   },
   {
    "duration": 6,
    "start_time": "2022-01-07T13:32:05.168Z"
   },
   {
    "duration": 17,
    "start_time": "2022-01-07T13:32:35.408Z"
   },
   {
    "duration": 17,
    "start_time": "2022-01-07T13:32:46.723Z"
   },
   {
    "duration": 17,
    "start_time": "2022-01-07T13:33:08.485Z"
   },
   {
    "duration": 16,
    "start_time": "2022-01-07T13:34:10.954Z"
   },
   {
    "duration": 6,
    "start_time": "2022-01-07T13:34:45.601Z"
   },
   {
    "duration": 20,
    "start_time": "2022-01-07T13:35:41.567Z"
   },
   {
    "duration": 5,
    "start_time": "2022-01-07T13:36:54.652Z"
   },
   {
    "duration": 6,
    "start_time": "2022-01-07T13:37:26.645Z"
   },
   {
    "duration": 9,
    "start_time": "2022-01-07T13:38:09.927Z"
   },
   {
    "duration": 46,
    "start_time": "2022-01-07T13:40:02.368Z"
   },
   {
    "duration": 55,
    "start_time": "2022-01-07T13:40:09.809Z"
   },
   {
    "duration": 211,
    "start_time": "2022-01-07T13:40:23.456Z"
   },
   {
    "duration": 17,
    "start_time": "2022-01-07T13:45:48.943Z"
   },
   {
    "duration": 6,
    "start_time": "2022-01-07T13:47:44.118Z"
   },
   {
    "duration": 6,
    "start_time": "2022-01-07T13:47:55.895Z"
   },
   {
    "duration": 6,
    "start_time": "2022-01-07T13:48:05.616Z"
   },
   {
    "duration": 140,
    "start_time": "2022-01-07T13:48:40.114Z"
   },
   {
    "duration": 6,
    "start_time": "2022-01-07T13:48:52.047Z"
   },
   {
    "duration": 9,
    "start_time": "2022-01-07T13:49:15.477Z"
   },
   {
    "duration": 674,
    "start_time": "2022-01-07T13:50:12.783Z"
   },
   {
    "duration": 69,
    "start_time": "2022-01-07T13:50:13.461Z"
   },
   {
    "duration": 85,
    "start_time": "2022-01-07T13:50:13.532Z"
   },
   {
    "duration": 10,
    "start_time": "2022-01-07T13:50:13.619Z"
   },
   {
    "duration": 85,
    "start_time": "2022-01-07T13:50:13.631Z"
   },
   {
    "duration": 4,
    "start_time": "2022-01-07T13:50:13.718Z"
   },
   {
    "duration": 9,
    "start_time": "2022-01-07T13:50:13.723Z"
   },
   {
    "duration": 9,
    "start_time": "2022-01-07T13:50:13.734Z"
   },
   {
    "duration": 9,
    "start_time": "2022-01-07T13:50:13.745Z"
   },
   {
    "duration": 6,
    "start_time": "2022-01-07T13:50:13.756Z"
   },
   {
    "duration": 9,
    "start_time": "2022-01-07T13:50:13.791Z"
   },
   {
    "duration": 5,
    "start_time": "2022-01-07T13:50:13.801Z"
   },
   {
    "duration": 19,
    "start_time": "2022-01-07T13:50:13.808Z"
   },
   {
    "duration": 14,
    "start_time": "2022-01-07T13:50:13.828Z"
   },
   {
    "duration": 5,
    "start_time": "2022-01-07T13:50:13.844Z"
   },
   {
    "duration": 42,
    "start_time": "2022-01-07T13:50:13.850Z"
   },
   {
    "duration": 4,
    "start_time": "2022-01-07T13:50:13.894Z"
   },
   {
    "duration": 7,
    "start_time": "2022-01-07T13:50:13.899Z"
   },
   {
    "duration": 6,
    "start_time": "2022-01-07T13:50:13.907Z"
   },
   {
    "duration": 47,
    "start_time": "2022-01-07T13:50:13.915Z"
   },
   {
    "duration": 59,
    "start_time": "2022-01-07T13:50:13.963Z"
   },
   {
    "duration": 6,
    "start_time": "2022-01-07T13:50:14.023Z"
   },
   {
    "duration": 45,
    "start_time": "2022-01-07T13:50:14.030Z"
   },
   {
    "duration": 59,
    "start_time": "2022-01-07T13:50:14.076Z"
   },
   {
    "duration": 66,
    "start_time": "2022-01-07T13:50:14.136Z"
   },
   {
    "duration": 18,
    "start_time": "2022-01-07T13:50:14.207Z"
   },
   {
    "duration": 5,
    "start_time": "2022-01-07T13:50:14.227Z"
   },
   {
    "duration": 9,
    "start_time": "2022-01-07T13:50:14.234Z"
   },
   {
    "duration": 67,
    "start_time": "2022-01-07T13:50:14.244Z"
   },
   {
    "duration": 1443,
    "start_time": "2022-01-07T13:50:14.312Z"
   },
   {
    "duration": 6,
    "start_time": "2022-01-07T13:50:15.756Z"
   },
   {
    "duration": 19,
    "start_time": "2022-01-07T13:50:15.764Z"
   },
   {
    "duration": 9,
    "start_time": "2022-01-07T13:50:15.791Z"
   },
   {
    "duration": 29,
    "start_time": "2022-01-07T13:50:15.801Z"
   },
   {
    "duration": 39,
    "start_time": "2022-01-07T13:50:15.831Z"
   },
   {
    "duration": 52,
    "start_time": "2022-01-07T13:50:15.872Z"
   },
   {
    "duration": 3,
    "start_time": "2022-01-07T13:50:15.926Z"
   },
   {
    "duration": 576,
    "start_time": "2022-01-07T13:50:15.931Z"
   },
   {
    "duration": 24,
    "start_time": "2022-01-07T13:50:16.509Z"
   },
   {
    "duration": 828,
    "start_time": "2022-01-07T13:50:16.534Z"
   },
   {
    "duration": 691,
    "start_time": "2022-01-07T13:50:17.364Z"
   },
   {
    "duration": 382,
    "start_time": "2022-01-07T13:50:18.057Z"
   },
   {
    "duration": 398,
    "start_time": "2022-01-07T13:50:18.440Z"
   },
   {
    "duration": 551,
    "start_time": "2022-01-07T13:50:18.840Z"
   },
   {
    "duration": 212,
    "start_time": "2022-01-07T13:50:19.393Z"
   },
   {
    "duration": 8,
    "start_time": "2022-01-07T13:50:19.607Z"
   },
   {
    "duration": 14,
    "start_time": "2022-01-07T13:50:19.617Z"
   },
   {
    "duration": 17,
    "start_time": "2022-01-07T13:50:19.633Z"
   },
   {
    "duration": 33,
    "start_time": "2022-01-07T13:50:19.651Z"
   },
   {
    "duration": 20,
    "start_time": "2022-01-07T13:50:19.686Z"
   },
   {
    "duration": 25,
    "start_time": "2022-01-07T13:50:19.708Z"
   },
   {
    "duration": 37,
    "start_time": "2022-01-07T13:50:19.735Z"
   },
   {
    "duration": 16,
    "start_time": "2022-01-07T13:50:19.774Z"
   },
   {
    "duration": 96,
    "start_time": "2022-01-07T13:50:19.792Z"
   },
   {
    "duration": 263,
    "start_time": "2022-01-07T13:50:19.889Z"
   },
   {
    "duration": 295,
    "start_time": "2022-01-07T13:50:20.154Z"
   },
   {
    "duration": 355,
    "start_time": "2022-01-07T13:50:20.450Z"
   },
   {
    "duration": 438,
    "start_time": "2022-01-07T13:50:20.807Z"
   },
   {
    "duration": 326,
    "start_time": "2022-01-07T13:50:21.247Z"
   },
   {
    "duration": 30,
    "start_time": "2022-01-07T13:50:21.575Z"
   },
   {
    "duration": 29,
    "start_time": "2022-01-07T13:50:21.607Z"
   },
   {
    "duration": 15,
    "start_time": "2022-01-07T13:50:21.638Z"
   },
   {
    "duration": 399,
    "start_time": "2022-01-07T13:50:21.654Z"
   },
   {
    "duration": 814,
    "start_time": "2022-01-07T13:50:22.054Z"
   },
   {
    "duration": 36,
    "start_time": "2022-01-07T13:50:22.870Z"
   },
   {
    "duration": 661,
    "start_time": "2022-01-07T13:50:22.908Z"
   },
   {
    "duration": 657,
    "start_time": "2022-01-07T13:50:23.571Z"
   },
   {
    "duration": 354,
    "start_time": "2022-01-07T13:50:24.230Z"
   },
   {
    "duration": 355,
    "start_time": "2022-01-07T13:50:24.586Z"
   },
   {
    "duration": 578,
    "start_time": "2022-01-07T13:50:24.943Z"
   },
   {
    "duration": 20,
    "start_time": "2022-01-07T13:50:25.523Z"
   },
   {
    "duration": 266,
    "start_time": "2022-01-07T13:50:25.544Z"
   },
   {
    "duration": 332,
    "start_time": "2022-01-07T13:50:25.811Z"
   },
   {
    "duration": 418,
    "start_time": "2022-01-07T13:50:26.144Z"
   },
   {
    "duration": 284,
    "start_time": "2022-01-07T13:50:26.564Z"
   },
   {
    "duration": 585,
    "start_time": "2022-01-07T13:51:56.650Z"
   },
   {
    "duration": 66,
    "start_time": "2022-01-07T13:51:57.236Z"
   },
   {
    "duration": 76,
    "start_time": "2022-01-07T13:51:57.304Z"
   },
   {
    "duration": 19,
    "start_time": "2022-01-07T13:51:57.382Z"
   },
   {
    "duration": 73,
    "start_time": "2022-01-07T13:51:57.403Z"
   },
   {
    "duration": 4,
    "start_time": "2022-01-07T13:51:57.492Z"
   },
   {
    "duration": 6,
    "start_time": "2022-01-07T13:51:57.498Z"
   },
   {
    "duration": 10,
    "start_time": "2022-01-07T13:51:57.506Z"
   },
   {
    "duration": 9,
    "start_time": "2022-01-07T13:51:57.518Z"
   },
   {
    "duration": 6,
    "start_time": "2022-01-07T13:51:57.529Z"
   },
   {
    "duration": 8,
    "start_time": "2022-01-07T13:51:57.537Z"
   },
   {
    "duration": 45,
    "start_time": "2022-01-07T13:51:57.547Z"
   },
   {
    "duration": 19,
    "start_time": "2022-01-07T13:51:57.594Z"
   },
   {
    "duration": 15,
    "start_time": "2022-01-07T13:51:57.614Z"
   },
   {
    "duration": 6,
    "start_time": "2022-01-07T13:51:57.630Z"
   },
   {
    "duration": 5,
    "start_time": "2022-01-07T13:51:57.638Z"
   },
   {
    "duration": 4,
    "start_time": "2022-01-07T13:51:57.645Z"
   },
   {
    "duration": 41,
    "start_time": "2022-01-07T13:51:57.651Z"
   },
   {
    "duration": 5,
    "start_time": "2022-01-07T13:51:57.694Z"
   },
   {
    "duration": 47,
    "start_time": "2022-01-07T13:51:57.701Z"
   },
   {
    "duration": 58,
    "start_time": "2022-01-07T13:51:57.750Z"
   },
   {
    "duration": 6,
    "start_time": "2022-01-07T13:51:57.809Z"
   },
   {
    "duration": 46,
    "start_time": "2022-01-07T13:51:57.819Z"
   },
   {
    "duration": 67,
    "start_time": "2022-01-07T13:51:57.868Z"
   },
   {
    "duration": 55,
    "start_time": "2022-01-07T13:51:57.936Z"
   },
   {
    "duration": 18,
    "start_time": "2022-01-07T13:51:57.993Z"
   },
   {
    "duration": 4,
    "start_time": "2022-01-07T13:51:58.013Z"
   },
   {
    "duration": 47,
    "start_time": "2022-01-07T13:51:58.018Z"
   },
   {
    "duration": 1443,
    "start_time": "2022-01-07T13:51:58.091Z"
   },
   {
    "duration": 6,
    "start_time": "2022-01-07T13:51:59.536Z"
   },
   {
    "duration": 13,
    "start_time": "2022-01-07T13:51:59.544Z"
   },
   {
    "duration": 9,
    "start_time": "2022-01-07T13:51:59.558Z"
   },
   {
    "duration": 33,
    "start_time": "2022-01-07T13:51:59.568Z"
   },
   {
    "duration": 25,
    "start_time": "2022-01-07T13:51:59.602Z"
   },
   {
    "duration": 41,
    "start_time": "2022-01-07T13:51:59.629Z"
   },
   {
    "duration": 3,
    "start_time": "2022-01-07T13:51:59.692Z"
   },
   {
    "duration": 612,
    "start_time": "2022-01-07T13:51:59.696Z"
   },
   {
    "duration": 25,
    "start_time": "2022-01-07T13:52:00.309Z"
   },
   {
    "duration": 749,
    "start_time": "2022-01-07T13:52:00.335Z"
   },
   {
    "duration": 716,
    "start_time": "2022-01-07T13:52:01.086Z"
   },
   {
    "duration": 393,
    "start_time": "2022-01-07T13:52:01.804Z"
   },
   {
    "duration": 382,
    "start_time": "2022-01-07T13:52:02.198Z"
   },
   {
    "duration": 529,
    "start_time": "2022-01-07T13:52:02.581Z"
   },
   {
    "duration": 206,
    "start_time": "2022-01-07T13:52:03.112Z"
   },
   {
    "duration": 8,
    "start_time": "2022-01-07T13:52:03.320Z"
   },
   {
    "duration": 4,
    "start_time": "2022-01-07T13:52:03.329Z"
   },
   {
    "duration": 5,
    "start_time": "2022-01-07T13:52:03.335Z"
   },
   {
    "duration": 14,
    "start_time": "2022-01-07T13:52:03.342Z"
   },
   {
    "duration": 34,
    "start_time": "2022-01-07T13:52:03.358Z"
   },
   {
    "duration": 9,
    "start_time": "2022-01-07T13:52:03.394Z"
   },
   {
    "duration": 10,
    "start_time": "2022-01-07T13:52:03.405Z"
   },
   {
    "duration": 10,
    "start_time": "2022-01-07T13:52:03.417Z"
   },
   {
    "duration": 118,
    "start_time": "2022-01-07T13:52:03.429Z"
   },
   {
    "duration": 265,
    "start_time": "2022-01-07T13:52:03.549Z"
   },
   {
    "duration": 265,
    "start_time": "2022-01-07T13:52:03.816Z"
   },
   {
    "duration": 330,
    "start_time": "2022-01-07T13:52:04.083Z"
   },
   {
    "duration": 430,
    "start_time": "2022-01-07T13:52:04.414Z"
   },
   {
    "duration": 318,
    "start_time": "2022-01-07T13:52:04.846Z"
   },
   {
    "duration": 30,
    "start_time": "2022-01-07T13:52:05.165Z"
   },
   {
    "duration": 29,
    "start_time": "2022-01-07T13:52:05.197Z"
   },
   {
    "duration": 10,
    "start_time": "2022-01-07T13:52:05.228Z"
   },
   {
    "duration": 413,
    "start_time": "2022-01-07T13:52:05.240Z"
   },
   {
    "duration": 824,
    "start_time": "2022-01-07T13:52:05.655Z"
   },
   {
    "duration": 32,
    "start_time": "2022-01-07T13:52:06.481Z"
   },
   {
    "duration": 671,
    "start_time": "2022-01-07T13:52:06.515Z"
   },
   {
    "duration": 671,
    "start_time": "2022-01-07T13:52:07.191Z"
   },
   {
    "duration": 355,
    "start_time": "2022-01-07T13:52:07.863Z"
   },
   {
    "duration": 372,
    "start_time": "2022-01-07T13:52:08.222Z"
   },
   {
    "duration": 597,
    "start_time": "2022-01-07T13:52:08.596Z"
   },
   {
    "duration": 19,
    "start_time": "2022-01-07T13:52:09.195Z"
   },
   {
    "duration": 256,
    "start_time": "2022-01-07T13:52:09.216Z"
   },
   {
    "duration": 332,
    "start_time": "2022-01-07T13:52:09.474Z"
   },
   {
    "duration": 430,
    "start_time": "2022-01-07T13:52:09.807Z"
   },
   {
    "duration": 290,
    "start_time": "2022-01-07T13:52:10.239Z"
   },
   {
    "duration": 668,
    "start_time": "2022-01-07T14:02:16.617Z"
   },
   {
    "duration": 818,
    "start_time": "2022-01-07T14:04:33.224Z"
   },
   {
    "duration": 352,
    "start_time": "2022-01-07T14:12:58.499Z"
   },
   {
    "duration": 8,
    "start_time": "2022-01-07T14:23:26.631Z"
   },
   {
    "duration": 602,
    "start_time": "2022-01-07T14:23:50.351Z"
   },
   {
    "duration": 68,
    "start_time": "2022-01-07T14:23:50.955Z"
   },
   {
    "duration": 91,
    "start_time": "2022-01-07T14:23:51.027Z"
   },
   {
    "duration": 11,
    "start_time": "2022-01-07T14:23:51.120Z"
   },
   {
    "duration": 89,
    "start_time": "2022-01-07T14:23:51.132Z"
   },
   {
    "duration": 4,
    "start_time": "2022-01-07T14:23:51.223Z"
   },
   {
    "duration": 12,
    "start_time": "2022-01-07T14:23:51.228Z"
   },
   {
    "duration": 15,
    "start_time": "2022-01-07T14:23:51.243Z"
   },
   {
    "duration": 31,
    "start_time": "2022-01-07T14:23:51.260Z"
   },
   {
    "duration": 7,
    "start_time": "2022-01-07T14:23:51.293Z"
   },
   {
    "duration": 21,
    "start_time": "2022-01-07T14:23:51.301Z"
   },
   {
    "duration": 18,
    "start_time": "2022-01-07T14:23:51.323Z"
   },
   {
    "duration": 34,
    "start_time": "2022-01-07T14:23:51.343Z"
   },
   {
    "duration": 30,
    "start_time": "2022-01-07T14:23:51.379Z"
   },
   {
    "duration": 14,
    "start_time": "2022-01-07T14:23:51.411Z"
   },
   {
    "duration": 28,
    "start_time": "2022-01-07T14:23:51.427Z"
   },
   {
    "duration": 15,
    "start_time": "2022-01-07T14:23:51.456Z"
   },
   {
    "duration": 10,
    "start_time": "2022-01-07T14:23:51.473Z"
   },
   {
    "duration": 14,
    "start_time": "2022-01-07T14:23:51.484Z"
   },
   {
    "duration": 63,
    "start_time": "2022-01-07T14:23:51.499Z"
   },
   {
    "duration": 32,
    "start_time": "2022-01-07T14:23:51.564Z"
   },
   {
    "duration": 6,
    "start_time": "2022-01-07T14:23:51.598Z"
   },
   {
    "duration": 64,
    "start_time": "2022-01-07T14:23:51.605Z"
   },
   {
    "duration": 59,
    "start_time": "2022-01-07T14:23:51.670Z"
   },
   {
    "duration": 61,
    "start_time": "2022-01-07T14:23:51.731Z"
   },
   {
    "duration": 21,
    "start_time": "2022-01-07T14:23:51.796Z"
   },
   {
    "duration": 7,
    "start_time": "2022-01-07T14:23:51.819Z"
   },
   {
    "duration": 77,
    "start_time": "2022-01-07T14:23:51.827Z"
   },
   {
    "duration": 1469,
    "start_time": "2022-01-07T14:23:51.906Z"
   },
   {
    "duration": 14,
    "start_time": "2022-01-07T14:23:53.377Z"
   },
   {
    "duration": 24,
    "start_time": "2022-01-07T14:23:53.393Z"
   },
   {
    "duration": 26,
    "start_time": "2022-01-07T14:23:53.419Z"
   },
   {
    "duration": 28,
    "start_time": "2022-01-07T14:23:53.446Z"
   },
   {
    "duration": 28,
    "start_time": "2022-01-07T14:23:53.476Z"
   },
   {
    "duration": 53,
    "start_time": "2022-01-07T14:23:53.506Z"
   },
   {
    "duration": 3,
    "start_time": "2022-01-07T14:23:53.561Z"
   },
   {
    "duration": 593,
    "start_time": "2022-01-07T14:23:53.566Z"
   },
   {
    "duration": 36,
    "start_time": "2022-01-07T14:23:54.161Z"
   },
   {
    "duration": 725,
    "start_time": "2022-01-07T14:23:54.199Z"
   },
   {
    "duration": 670,
    "start_time": "2022-01-07T14:23:54.926Z"
   },
   {
    "duration": 388,
    "start_time": "2022-01-07T14:23:55.598Z"
   },
   {
    "duration": 380,
    "start_time": "2022-01-07T14:23:55.991Z"
   },
   {
    "duration": 478,
    "start_time": "2022-01-07T14:23:56.373Z"
   },
   {
    "duration": 279,
    "start_time": "2022-01-07T14:23:56.853Z"
   },
   {
    "duration": 8,
    "start_time": "2022-01-07T14:23:57.133Z"
   },
   {
    "duration": 22,
    "start_time": "2022-01-07T14:23:57.143Z"
   },
   {
    "duration": 15,
    "start_time": "2022-01-07T14:23:57.166Z"
   },
   {
    "duration": 23,
    "start_time": "2022-01-07T14:23:57.183Z"
   },
   {
    "duration": 18,
    "start_time": "2022-01-07T14:23:57.208Z"
   },
   {
    "duration": 20,
    "start_time": "2022-01-07T14:23:57.227Z"
   },
   {
    "duration": 19,
    "start_time": "2022-01-07T14:23:57.249Z"
   },
   {
    "duration": 11,
    "start_time": "2022-01-07T14:23:57.269Z"
   },
   {
    "duration": 18,
    "start_time": "2022-01-07T14:23:57.282Z"
   },
   {
    "duration": 107,
    "start_time": "2022-01-07T14:23:57.302Z"
   },
   {
    "duration": 257,
    "start_time": "2022-01-07T14:23:57.411Z"
   },
   {
    "duration": 273,
    "start_time": "2022-01-07T14:23:57.670Z"
   },
   {
    "duration": 351,
    "start_time": "2022-01-07T14:23:57.945Z"
   },
   {
    "duration": 437,
    "start_time": "2022-01-07T14:23:58.298Z"
   },
   {
    "duration": 330,
    "start_time": "2022-01-07T14:23:58.737Z"
   },
   {
    "duration": 32,
    "start_time": "2022-01-07T14:23:59.069Z"
   },
   {
    "duration": 30,
    "start_time": "2022-01-07T14:23:59.103Z"
   },
   {
    "duration": 9,
    "start_time": "2022-01-07T14:23:59.135Z"
   },
   {
    "duration": 441,
    "start_time": "2022-01-07T14:23:59.146Z"
   },
   {
    "duration": 872,
    "start_time": "2022-01-07T14:23:59.588Z"
   },
   {
    "duration": 38,
    "start_time": "2022-01-07T14:24:00.461Z"
   },
   {
    "duration": 687,
    "start_time": "2022-01-07T14:24:00.501Z"
   },
   {
    "duration": 687,
    "start_time": "2022-01-07T14:24:01.191Z"
   },
   {
    "duration": 373,
    "start_time": "2022-01-07T14:24:01.880Z"
   },
   {
    "duration": 385,
    "start_time": "2022-01-07T14:24:02.255Z"
   },
   {
    "duration": 593,
    "start_time": "2022-01-07T14:24:02.642Z"
   },
   {
    "duration": 19,
    "start_time": "2022-01-07T14:24:03.236Z"
   },
   {
    "duration": 268,
    "start_time": "2022-01-07T14:24:03.257Z"
   },
   {
    "duration": 334,
    "start_time": "2022-01-07T14:24:03.527Z"
   },
   {
    "duration": 421,
    "start_time": "2022-01-07T14:24:03.863Z"
   },
   {
    "duration": 299,
    "start_time": "2022-01-07T14:24:04.286Z"
   },
   {
    "duration": 13,
    "start_time": "2022-01-07T14:25:48.136Z"
   },
   {
    "duration": 4,
    "start_time": "2022-01-07T14:36:23.346Z"
   },
   {
    "duration": 22,
    "start_time": "2022-01-07T14:45:34.002Z"
   },
   {
    "duration": 50,
    "start_time": "2022-01-07T15:18:07.375Z"
   },
   {
    "duration": 238,
    "start_time": "2022-01-07T18:12:37.447Z"
   },
   {
    "duration": 623,
    "start_time": "2022-01-07T18:12:50.509Z"
   },
   {
    "duration": 69,
    "start_time": "2022-01-07T18:12:51.134Z"
   },
   {
    "duration": 83,
    "start_time": "2022-01-07T18:12:51.205Z"
   },
   {
    "duration": 10,
    "start_time": "2022-01-07T18:12:51.290Z"
   },
   {
    "duration": 86,
    "start_time": "2022-01-07T18:12:51.302Z"
   },
   {
    "duration": 3,
    "start_time": "2022-01-07T18:12:51.390Z"
   },
   {
    "duration": 7,
    "start_time": "2022-01-07T18:12:51.395Z"
   },
   {
    "duration": 9,
    "start_time": "2022-01-07T18:12:51.405Z"
   },
   {
    "duration": 9,
    "start_time": "2022-01-07T18:12:51.416Z"
   },
   {
    "duration": 7,
    "start_time": "2022-01-07T18:12:51.427Z"
   },
   {
    "duration": 12,
    "start_time": "2022-01-07T18:12:51.463Z"
   },
   {
    "duration": 16,
    "start_time": "2022-01-07T18:12:51.477Z"
   },
   {
    "duration": 23,
    "start_time": "2022-01-07T18:12:51.495Z"
   },
   {
    "duration": 20,
    "start_time": "2022-01-07T18:12:51.520Z"
   },
   {
    "duration": 26,
    "start_time": "2022-01-07T18:12:51.542Z"
   },
   {
    "duration": 9,
    "start_time": "2022-01-07T18:12:51.571Z"
   },
   {
    "duration": 5,
    "start_time": "2022-01-07T18:12:51.582Z"
   },
   {
    "duration": 7,
    "start_time": "2022-01-07T18:12:51.589Z"
   },
   {
    "duration": 13,
    "start_time": "2022-01-07T18:12:51.598Z"
   },
   {
    "duration": 82,
    "start_time": "2022-01-07T18:12:51.612Z"
   },
   {
    "duration": 32,
    "start_time": "2022-01-07T18:12:51.695Z"
   },
   {
    "duration": 1579,
    "start_time": "2022-01-07T18:12:51.729Z"
   },
   {
    "duration": 502,
    "start_time": "2022-01-07T18:12:53.312Z"
   },
   {
    "duration": 389,
    "start_time": "2022-01-07T18:12:53.817Z"
   },
   {
    "duration": 1148,
    "start_time": "2022-01-07T18:12:54.208Z"
   },
   {
    "duration": 1631,
    "start_time": "2022-01-07T18:12:55.357Z"
   },
   {
    "duration": 259,
    "start_time": "2022-01-07T18:12:56.990Z"
   },
   {
    "duration": 540,
    "start_time": "2022-01-07T18:12:57.250Z"
   },
   {
    "duration": 2074,
    "start_time": "2022-01-07T18:12:57.792Z"
   },
   {
    "duration": 8,
    "start_time": "2022-01-07T18:12:59.868Z"
   },
   {
    "duration": 24,
    "start_time": "2022-01-07T18:12:59.878Z"
   },
   {
    "duration": 10,
    "start_time": "2022-01-07T18:12:59.904Z"
   },
   {
    "duration": 16,
    "start_time": "2022-01-07T18:12:59.915Z"
   },
   {
    "duration": 50,
    "start_time": "2022-01-07T18:12:59.933Z"
   },
   {
    "duration": 45,
    "start_time": "2022-01-07T18:12:59.985Z"
   },
   {
    "duration": 3,
    "start_time": "2022-01-07T18:13:00.031Z"
   },
   {
    "duration": 670,
    "start_time": "2022-01-07T18:13:00.036Z"
   },
   {
    "duration": 25,
    "start_time": "2022-01-07T18:13:00.708Z"
   },
   {
    "duration": 788,
    "start_time": "2022-01-07T18:13:00.734Z"
   },
   {
    "duration": 720,
    "start_time": "2022-01-07T18:13:01.524Z"
   },
   {
    "duration": 404,
    "start_time": "2022-01-07T18:13:02.246Z"
   },
   {
    "duration": 377,
    "start_time": "2022-01-07T18:13:02.652Z"
   },
   {
    "duration": 495,
    "start_time": "2022-01-07T18:13:03.031Z"
   },
   {
    "duration": 316,
    "start_time": "2022-01-07T18:13:03.527Z"
   },
   {
    "duration": 19,
    "start_time": "2022-01-07T18:13:03.845Z"
   },
   {
    "duration": 5,
    "start_time": "2022-01-07T18:13:03.866Z"
   },
   {
    "duration": 16,
    "start_time": "2022-01-07T18:13:03.872Z"
   },
   {
    "duration": 10,
    "start_time": "2022-01-07T18:13:03.891Z"
   },
   {
    "duration": 23,
    "start_time": "2022-01-07T18:13:03.902Z"
   },
   {
    "duration": 10,
    "start_time": "2022-01-07T18:13:03.928Z"
   },
   {
    "duration": 31,
    "start_time": "2022-01-07T18:13:03.940Z"
   },
   {
    "duration": 27,
    "start_time": "2022-01-07T18:13:03.973Z"
   },
   {
    "duration": 14,
    "start_time": "2022-01-07T18:13:04.002Z"
   },
   {
    "duration": 117,
    "start_time": "2022-01-07T18:13:04.018Z"
   },
   {
    "duration": 789,
    "start_time": "2022-01-07T18:13:04.138Z"
   },
   {
    "duration": 288,
    "start_time": "2022-01-07T18:13:04.930Z"
   },
   {
    "duration": 358,
    "start_time": "2022-01-07T18:13:05.220Z"
   },
   {
    "duration": 428,
    "start_time": "2022-01-07T18:13:05.580Z"
   },
   {
    "duration": 311,
    "start_time": "2022-01-07T18:13:06.010Z"
   },
   {
    "duration": 26,
    "start_time": "2022-01-07T18:13:06.323Z"
   },
   {
    "duration": 42,
    "start_time": "2022-01-07T18:13:06.361Z"
   },
   {
    "duration": 13,
    "start_time": "2022-01-07T18:13:06.405Z"
   },
   {
    "duration": 432,
    "start_time": "2022-01-07T18:13:06.420Z"
   },
   {
    "duration": 962,
    "start_time": "2022-01-07T18:13:06.854Z"
   },
   {
    "duration": 26,
    "start_time": "2022-01-07T18:13:07.818Z"
   },
   {
    "duration": 858,
    "start_time": "2022-01-07T18:13:07.846Z"
   },
   {
    "duration": 693,
    "start_time": "2022-01-07T18:13:08.706Z"
   },
   {
    "duration": 360,
    "start_time": "2022-01-07T18:13:09.404Z"
   },
   {
    "duration": 364,
    "start_time": "2022-01-07T18:13:09.766Z"
   },
   {
    "duration": 608,
    "start_time": "2022-01-07T18:13:10.132Z"
   },
   {
    "duration": 38,
    "start_time": "2022-01-07T18:13:10.742Z"
   },
   {
    "duration": 262,
    "start_time": "2022-01-07T18:13:10.782Z"
   },
   {
    "duration": 351,
    "start_time": "2022-01-07T18:13:11.046Z"
   },
   {
    "duration": 417,
    "start_time": "2022-01-07T18:13:11.399Z"
   },
   {
    "duration": 300,
    "start_time": "2022-01-07T18:13:11.818Z"
   },
   {
    "duration": 383,
    "start_time": "2022-01-07T18:14:34.426Z"
   },
   {
    "duration": 257,
    "start_time": "2022-01-07T18:14:47.216Z"
   },
   {
    "duration": 285,
    "start_time": "2022-01-07T18:18:58.943Z"
   },
   {
    "duration": 333,
    "start_time": "2022-01-07T18:19:07.231Z"
   },
   {
    "duration": 850,
    "start_time": "2022-01-08T18:22:25.253Z"
   },
   {
    "duration": 79,
    "start_time": "2022-01-08T18:22:26.106Z"
   },
   {
    "duration": 113,
    "start_time": "2022-01-08T18:22:26.188Z"
   },
   {
    "duration": 22,
    "start_time": "2022-01-08T18:22:26.304Z"
   },
   {
    "duration": 120,
    "start_time": "2022-01-08T18:22:26.328Z"
   },
   {
    "duration": 5,
    "start_time": "2022-01-08T18:22:26.451Z"
   },
   {
    "duration": 8,
    "start_time": "2022-01-08T18:22:26.459Z"
   },
   {
    "duration": 15,
    "start_time": "2022-01-08T18:22:26.470Z"
   },
   {
    "duration": 44,
    "start_time": "2022-01-08T18:22:26.488Z"
   },
   {
    "duration": 10,
    "start_time": "2022-01-08T18:22:26.535Z"
   },
   {
    "duration": 13,
    "start_time": "2022-01-08T18:22:26.548Z"
   },
   {
    "duration": 10,
    "start_time": "2022-01-08T18:22:26.564Z"
   },
   {
    "duration": 77,
    "start_time": "2022-01-08T18:22:26.576Z"
   },
   {
    "duration": 20,
    "start_time": "2022-01-08T18:22:26.656Z"
   },
   {
    "duration": 12,
    "start_time": "2022-01-08T18:22:26.679Z"
   },
   {
    "duration": 32,
    "start_time": "2022-01-08T18:22:26.693Z"
   },
   {
    "duration": 7,
    "start_time": "2022-01-08T18:22:26.728Z"
   },
   {
    "duration": 9,
    "start_time": "2022-01-08T18:22:26.737Z"
   },
   {
    "duration": 9,
    "start_time": "2022-01-08T18:22:26.748Z"
   },
   {
    "duration": 116,
    "start_time": "2022-01-08T18:22:26.759Z"
   },
   {
    "duration": 73,
    "start_time": "2022-01-08T18:22:26.878Z"
   },
   {
    "duration": 9,
    "start_time": "2022-01-08T18:22:26.953Z"
   },
   {
    "duration": 95,
    "start_time": "2022-01-08T18:22:26.968Z"
   },
   {
    "duration": 89,
    "start_time": "2022-01-08T18:22:27.067Z"
   },
   {
    "duration": 96,
    "start_time": "2022-01-08T18:22:27.159Z"
   },
   {
    "duration": 31,
    "start_time": "2022-01-08T18:22:27.258Z"
   },
   {
    "duration": 6,
    "start_time": "2022-01-08T18:22:27.292Z"
   },
   {
    "duration": 74,
    "start_time": "2022-01-08T18:22:27.324Z"
   },
   {
    "duration": 2235,
    "start_time": "2022-01-08T18:22:27.400Z"
   },
   {
    "duration": 8,
    "start_time": "2022-01-08T18:22:29.637Z"
   },
   {
    "duration": 15,
    "start_time": "2022-01-08T18:22:29.648Z"
   },
   {
    "duration": 11,
    "start_time": "2022-01-08T18:22:29.667Z"
   },
   {
    "duration": 55,
    "start_time": "2022-01-08T18:22:29.681Z"
   },
   {
    "duration": 44,
    "start_time": "2022-01-08T18:22:29.739Z"
   },
   {
    "duration": 98,
    "start_time": "2022-01-08T18:22:29.785Z"
   },
   {
    "duration": 4,
    "start_time": "2022-01-08T18:22:29.885Z"
   },
   {
    "duration": 1207,
    "start_time": "2022-01-08T18:22:29.892Z"
   },
   {
    "duration": 76,
    "start_time": "2022-01-08T18:22:31.102Z"
   },
   {
    "duration": 1163,
    "start_time": "2022-01-08T18:22:31.181Z"
   },
   {
    "duration": 1047,
    "start_time": "2022-01-08T18:22:32.346Z"
   },
   {
    "duration": 598,
    "start_time": "2022-01-08T18:22:33.397Z"
   },
   {
    "duration": 576,
    "start_time": "2022-01-08T18:22:33.998Z"
   },
   {
    "duration": 739,
    "start_time": "2022-01-08T18:22:34.578Z"
   },
   {
    "duration": 392,
    "start_time": "2022-01-08T18:22:35.324Z"
   },
   {
    "duration": 13,
    "start_time": "2022-01-08T18:22:35.718Z"
   },
   {
    "duration": 6,
    "start_time": "2022-01-08T18:22:35.733Z"
   },
   {
    "duration": 9,
    "start_time": "2022-01-08T18:22:35.743Z"
   },
   {
    "duration": 10,
    "start_time": "2022-01-08T18:22:35.755Z"
   },
   {
    "duration": 75,
    "start_time": "2022-01-08T18:22:35.768Z"
   },
   {
    "duration": 17,
    "start_time": "2022-01-08T18:22:35.847Z"
   },
   {
    "duration": 13,
    "start_time": "2022-01-08T18:22:35.866Z"
   },
   {
    "duration": 47,
    "start_time": "2022-01-08T18:22:35.882Z"
   },
   {
    "duration": 14,
    "start_time": "2022-01-08T18:22:35.931Z"
   },
   {
    "duration": 167,
    "start_time": "2022-01-08T18:22:35.947Z"
   },
   {
    "duration": 225502,
    "start_time": "2022-01-08T18:22:36.123Z"
   },
   {
    "duration": 417,
    "start_time": "2022-01-08T18:26:21.628Z"
   },
   {
    "duration": 542,
    "start_time": "2022-01-08T18:26:22.048Z"
   },
   {
    "duration": 973,
    "start_time": "2022-01-08T18:26:22.593Z"
   },
   {
    "duration": 602,
    "start_time": "2022-01-08T18:26:23.568Z"
   },
   {
    "duration": 52,
    "start_time": "2022-01-08T18:26:24.172Z"
   },
   {
    "duration": 47,
    "start_time": "2022-01-08T18:26:24.226Z"
   },
   {
    "duration": 14,
    "start_time": "2022-01-08T18:26:24.276Z"
   },
   {
    "duration": 623,
    "start_time": "2022-01-08T18:26:24.322Z"
   },
   {
    "duration": 1766,
    "start_time": "2022-01-08T18:26:24.947Z"
   },
   {
    "duration": 49,
    "start_time": "2022-01-08T18:26:26.715Z"
   },
   {
    "duration": 1079,
    "start_time": "2022-01-08T18:26:26.766Z"
   },
   {
    "duration": 1137,
    "start_time": "2022-01-08T18:26:27.848Z"
   },
   {
    "duration": 555,
    "start_time": "2022-01-08T18:26:28.994Z"
   },
   {
    "duration": 560,
    "start_time": "2022-01-08T18:26:29.552Z"
   },
   {
    "duration": 1011,
    "start_time": "2022-01-08T18:26:30.115Z"
   },
   {
    "duration": 34,
    "start_time": "2022-01-08T18:26:31.128Z"
   },
   {
    "duration": 438,
    "start_time": "2022-01-08T18:26:31.165Z"
   },
   {
    "duration": 520,
    "start_time": "2022-01-08T18:26:31.606Z"
   },
   {
    "duration": 650,
    "start_time": "2022-01-08T18:26:32.129Z"
   },
   {
    "duration": 461,
    "start_time": "2022-01-08T18:26:32.781Z"
   },
   {
    "duration": 1031,
    "start_time": "2022-01-08T19:06:04.935Z"
   },
   {
    "duration": 124,
    "start_time": "2022-01-08T19:06:05.969Z"
   },
   {
    "duration": 143,
    "start_time": "2022-01-08T19:06:06.097Z"
   },
   {
    "duration": 33,
    "start_time": "2022-01-08T19:06:06.243Z"
   },
   {
    "duration": 131,
    "start_time": "2022-01-08T19:06:06.279Z"
   },
   {
    "duration": 5,
    "start_time": "2022-01-08T19:06:06.413Z"
   },
   {
    "duration": 8,
    "start_time": "2022-01-08T19:06:06.421Z"
   },
   {
    "duration": 47,
    "start_time": "2022-01-08T19:06:06.434Z"
   },
   {
    "duration": 15,
    "start_time": "2022-01-08T19:06:06.485Z"
   },
   {
    "duration": 21,
    "start_time": "2022-01-08T19:06:06.503Z"
   },
   {
    "duration": 52,
    "start_time": "2022-01-08T19:06:06.527Z"
   },
   {
    "duration": 9,
    "start_time": "2022-01-08T19:06:06.582Z"
   },
   {
    "duration": 74,
    "start_time": "2022-01-08T19:06:06.595Z"
   },
   {
    "duration": 39,
    "start_time": "2022-01-08T19:06:06.672Z"
   },
   {
    "duration": 12,
    "start_time": "2022-01-08T19:06:06.714Z"
   },
   {
    "duration": 45,
    "start_time": "2022-01-08T19:06:06.729Z"
   },
   {
    "duration": 10,
    "start_time": "2022-01-08T19:06:06.778Z"
   },
   {
    "duration": 8,
    "start_time": "2022-01-08T19:06:06.791Z"
   },
   {
    "duration": 8,
    "start_time": "2022-01-08T19:06:06.801Z"
   },
   {
    "duration": 133,
    "start_time": "2022-01-08T19:06:06.812Z"
   },
   {
    "duration": 78,
    "start_time": "2022-01-08T19:06:06.948Z"
   },
   {
    "duration": 38,
    "start_time": "2022-01-08T19:06:07.029Z"
   },
   {
    "duration": 109,
    "start_time": "2022-01-08T19:06:07.076Z"
   },
   {
    "duration": 98,
    "start_time": "2022-01-08T19:06:07.191Z"
   },
   {
    "duration": 107,
    "start_time": "2022-01-08T19:06:07.292Z"
   },
   {
    "duration": 37,
    "start_time": "2022-01-08T19:06:07.402Z"
   },
   {
    "duration": 30,
    "start_time": "2022-01-08T19:06:07.441Z"
   },
   {
    "duration": 106,
    "start_time": "2022-01-08T19:06:07.478Z"
   },
   {
    "duration": 3125,
    "start_time": "2022-01-08T19:06:07.587Z"
   },
   {
    "duration": 10,
    "start_time": "2022-01-08T19:06:10.715Z"
   },
   {
    "duration": 54,
    "start_time": "2022-01-08T19:06:10.727Z"
   },
   {
    "duration": 34,
    "start_time": "2022-01-08T19:06:10.784Z"
   },
   {
    "duration": 31,
    "start_time": "2022-01-08T19:06:10.822Z"
   },
   {
    "duration": 63,
    "start_time": "2022-01-08T19:06:10.856Z"
   },
   {
    "duration": 98,
    "start_time": "2022-01-08T19:06:10.921Z"
   },
   {
    "duration": 4,
    "start_time": "2022-01-08T19:06:11.021Z"
   },
   {
    "duration": 1270,
    "start_time": "2022-01-08T19:06:11.028Z"
   },
   {
    "duration": 69,
    "start_time": "2022-01-08T19:06:12.301Z"
   },
   {
    "duration": 1510,
    "start_time": "2022-01-08T19:06:12.373Z"
   },
   {
    "duration": 1254,
    "start_time": "2022-01-08T19:06:13.887Z"
   },
   {
    "duration": 704,
    "start_time": "2022-01-08T19:06:15.144Z"
   },
   {
    "duration": 891,
    "start_time": "2022-01-08T19:06:15.851Z"
   },
   {
    "duration": 956,
    "start_time": "2022-01-08T19:06:16.745Z"
   },
   {
    "duration": 487,
    "start_time": "2022-01-08T19:06:17.704Z"
   },
   {
    "duration": 14,
    "start_time": "2022-01-08T19:06:18.193Z"
   },
   {
    "duration": 14,
    "start_time": "2022-01-08T19:06:18.210Z"
   },
   {
    "duration": 34,
    "start_time": "2022-01-08T19:06:18.228Z"
   },
   {
    "duration": 10,
    "start_time": "2022-01-08T19:06:18.266Z"
   },
   {
    "duration": 42,
    "start_time": "2022-01-08T19:06:18.279Z"
   },
   {
    "duration": 18,
    "start_time": "2022-01-08T19:06:18.324Z"
   },
   {
    "duration": 22,
    "start_time": "2022-01-08T19:06:18.375Z"
   },
   {
    "duration": 16,
    "start_time": "2022-01-08T19:06:18.401Z"
   },
   {
    "duration": 44,
    "start_time": "2022-01-08T19:06:18.420Z"
   },
   {
    "duration": 214,
    "start_time": "2022-01-08T19:06:18.468Z"
   },
   {
    "duration": 799,
    "start_time": "2022-01-08T19:06:18.684Z"
   },
   {
    "duration": 463,
    "start_time": "2022-01-08T19:06:19.487Z"
   },
   {
    "duration": 632,
    "start_time": "2022-01-08T19:06:19.952Z"
   },
   {
    "duration": 730,
    "start_time": "2022-01-08T19:06:20.587Z"
   },
   {
    "duration": 633,
    "start_time": "2022-01-08T19:06:21.320Z"
   },
   {
    "duration": 43,
    "start_time": "2022-01-08T19:06:21.963Z"
   },
   {
    "duration": 83,
    "start_time": "2022-01-08T19:06:22.009Z"
   },
   {
    "duration": 14,
    "start_time": "2022-01-08T19:06:22.095Z"
   },
   {
    "duration": 737,
    "start_time": "2022-01-08T19:06:22.112Z"
   },
   {
    "duration": 1541,
    "start_time": "2022-01-08T19:06:22.852Z"
   },
   {
    "duration": 45,
    "start_time": "2022-01-08T19:06:24.395Z"
   },
   {
    "duration": 1319,
    "start_time": "2022-01-08T19:06:24.463Z"
   },
   {
    "duration": 1271,
    "start_time": "2022-01-08T19:06:25.784Z"
   },
   {
    "duration": 714,
    "start_time": "2022-01-08T19:06:27.064Z"
   },
   {
    "duration": 551,
    "start_time": "2022-01-08T19:06:27.782Z"
   },
   {
    "duration": 986,
    "start_time": "2022-01-08T19:06:28.336Z"
   },
   {
    "duration": 53,
    "start_time": "2022-01-08T19:06:29.325Z"
   },
   {
    "duration": 502,
    "start_time": "2022-01-08T19:06:29.381Z"
   },
   {
    "duration": 701,
    "start_time": "2022-01-08T19:06:29.886Z"
   },
   {
    "duration": 838,
    "start_time": "2022-01-08T19:06:30.591Z"
   },
   {
    "duration": 499,
    "start_time": "2022-01-08T19:06:31.431Z"
   },
   {
    "duration": 950,
    "start_time": "2022-01-08T19:07:39.076Z"
   },
   {
    "duration": 94,
    "start_time": "2022-01-08T19:07:40.028Z"
   },
   {
    "duration": 124,
    "start_time": "2022-01-08T19:07:40.125Z"
   },
   {
    "duration": 29,
    "start_time": "2022-01-08T19:07:40.252Z"
   },
   {
    "duration": 128,
    "start_time": "2022-01-08T19:07:40.284Z"
   },
   {
    "duration": 6,
    "start_time": "2022-01-08T19:07:40.415Z"
   },
   {
    "duration": 10,
    "start_time": "2022-01-08T19:07:40.425Z"
   },
   {
    "duration": 16,
    "start_time": "2022-01-08T19:07:40.466Z"
   },
   {
    "duration": 12,
    "start_time": "2022-01-08T19:07:40.486Z"
   },
   {
    "duration": 8,
    "start_time": "2022-01-08T19:07:40.501Z"
   },
   {
    "duration": 53,
    "start_time": "2022-01-08T19:07:40.512Z"
   },
   {
    "duration": 10,
    "start_time": "2022-01-08T19:07:40.568Z"
   },
   {
    "duration": 27,
    "start_time": "2022-01-08T19:07:40.580Z"
   },
   {
    "duration": 60,
    "start_time": "2022-01-08T19:07:40.610Z"
   },
   {
    "duration": 13,
    "start_time": "2022-01-08T19:07:40.673Z"
   },
   {
    "duration": 10,
    "start_time": "2022-01-08T19:07:40.689Z"
   },
   {
    "duration": 7,
    "start_time": "2022-01-08T19:07:40.701Z"
   },
   {
    "duration": 6,
    "start_time": "2022-01-08T19:07:40.710Z"
   },
   {
    "duration": 56,
    "start_time": "2022-01-08T19:07:40.718Z"
   },
   {
    "duration": 100,
    "start_time": "2022-01-08T19:07:40.777Z"
   },
   {
    "duration": 55,
    "start_time": "2022-01-08T19:07:40.880Z"
   },
   {
    "duration": 35,
    "start_time": "2022-01-08T19:07:40.938Z"
   },
   {
    "duration": 103,
    "start_time": "2022-01-08T19:07:40.980Z"
   },
   {
    "duration": 85,
    "start_time": "2022-01-08T19:07:41.087Z"
   },
   {
    "duration": 96,
    "start_time": "2022-01-08T19:07:41.176Z"
   },
   {
    "duration": 34,
    "start_time": "2022-01-08T19:07:41.274Z"
   },
   {
    "duration": 7,
    "start_time": "2022-01-08T19:07:41.310Z"
   },
   {
    "duration": 109,
    "start_time": "2022-01-08T19:07:41.320Z"
   },
   {
    "duration": 2393,
    "start_time": "2022-01-08T19:07:41.431Z"
   },
   {
    "duration": 9,
    "start_time": "2022-01-08T19:07:43.827Z"
   },
   {
    "duration": 39,
    "start_time": "2022-01-08T19:07:43.839Z"
   },
   {
    "duration": 14,
    "start_time": "2022-01-08T19:07:43.881Z"
   },
   {
    "duration": 29,
    "start_time": "2022-01-08T19:07:43.898Z"
   },
   {
    "duration": 48,
    "start_time": "2022-01-08T19:07:43.962Z"
   },
   {
    "duration": 92,
    "start_time": "2022-01-08T19:07:44.013Z"
   },
   {
    "duration": 5,
    "start_time": "2022-01-08T19:07:44.109Z"
   },
   {
    "duration": 1072,
    "start_time": "2022-01-08T19:07:44.116Z"
   },
   {
    "duration": 40,
    "start_time": "2022-01-08T19:07:45.190Z"
   },
   {
    "duration": 1236,
    "start_time": "2022-01-08T19:07:45.232Z"
   },
   {
    "duration": 1157,
    "start_time": "2022-01-08T19:07:46.472Z"
   },
   {
    "duration": 652,
    "start_time": "2022-01-08T19:07:47.632Z"
   },
   {
    "duration": 603,
    "start_time": "2022-01-08T19:07:48.287Z"
   },
   {
    "duration": 912,
    "start_time": "2022-01-08T19:07:48.893Z"
   },
   {
    "duration": 437,
    "start_time": "2022-01-08T19:07:49.808Z"
   },
   {
    "duration": 24,
    "start_time": "2022-01-08T19:07:50.248Z"
   },
   {
    "duration": 7,
    "start_time": "2022-01-08T19:07:50.275Z"
   },
   {
    "duration": 8,
    "start_time": "2022-01-08T19:07:50.285Z"
   },
   {
    "duration": 7,
    "start_time": "2022-01-08T19:07:50.295Z"
   },
   {
    "duration": 70,
    "start_time": "2022-01-08T19:07:50.304Z"
   },
   {
    "duration": 17,
    "start_time": "2022-01-08T19:07:50.377Z"
   },
   {
    "duration": 16,
    "start_time": "2022-01-08T19:07:50.397Z"
   },
   {
    "duration": 54,
    "start_time": "2022-01-08T19:07:50.416Z"
   },
   {
    "duration": 16,
    "start_time": "2022-01-08T19:07:50.484Z"
   },
   {
    "duration": 160,
    "start_time": "2022-01-08T19:07:50.503Z"
   },
   {
    "duration": 757,
    "start_time": "2022-01-08T19:07:50.665Z"
   },
   {
    "duration": 450,
    "start_time": "2022-01-08T19:07:51.426Z"
   },
   {
    "duration": 558,
    "start_time": "2022-01-08T19:07:51.880Z"
   },
   {
    "duration": 709,
    "start_time": "2022-01-08T19:07:52.441Z"
   },
   {
    "duration": 515,
    "start_time": "2022-01-08T19:07:53.152Z"
   },
   {
    "duration": 34,
    "start_time": "2022-01-08T19:07:53.671Z"
   },
   {
    "duration": 70,
    "start_time": "2022-01-08T19:07:53.707Z"
   },
   {
    "duration": 14,
    "start_time": "2022-01-08T19:07:53.780Z"
   },
   {
    "duration": 786,
    "start_time": "2022-01-08T19:07:53.798Z"
   },
   {
    "duration": 1460,
    "start_time": "2022-01-08T19:07:54.587Z"
   },
   {
    "duration": 55,
    "start_time": "2022-01-08T19:07:56.050Z"
   },
   {
    "duration": 1213,
    "start_time": "2022-01-08T19:07:56.107Z"
   },
   {
    "duration": 1193,
    "start_time": "2022-01-08T19:07:57.323Z"
   },
   {
    "duration": 621,
    "start_time": "2022-01-08T19:07:58.524Z"
   },
   {
    "duration": 638,
    "start_time": "2022-01-08T19:07:59.150Z"
   },
   {
    "duration": 959,
    "start_time": "2022-01-08T19:07:59.792Z"
   },
   {
    "duration": 56,
    "start_time": "2022-01-08T19:08:00.755Z"
   },
   {
    "duration": 459,
    "start_time": "2022-01-08T19:08:00.814Z"
   },
   {
    "duration": 644,
    "start_time": "2022-01-08T19:08:01.277Z"
   },
   {
    "duration": 795,
    "start_time": "2022-01-08T19:08:01.924Z"
   },
   {
    "duration": 558,
    "start_time": "2022-01-08T19:08:02.721Z"
   },
   {
    "duration": 1017,
    "start_time": "2022-01-08T19:08:37.292Z"
   },
   {
    "duration": 93,
    "start_time": "2022-01-08T19:08:38.311Z"
   },
   {
    "duration": 132,
    "start_time": "2022-01-08T19:08:38.407Z"
   },
   {
    "duration": 28,
    "start_time": "2022-01-08T19:08:38.542Z"
   },
   {
    "duration": 128,
    "start_time": "2022-01-08T19:08:38.573Z"
   },
   {
    "duration": 6,
    "start_time": "2022-01-08T19:08:38.704Z"
   },
   {
    "duration": 8,
    "start_time": "2022-01-08T19:08:38.713Z"
   },
   {
    "duration": 54,
    "start_time": "2022-01-08T19:08:38.725Z"
   },
   {
    "duration": 17,
    "start_time": "2022-01-08T19:08:38.783Z"
   },
   {
    "duration": 12,
    "start_time": "2022-01-08T19:08:38.803Z"
   },
   {
    "duration": 48,
    "start_time": "2022-01-08T19:08:38.817Z"
   },
   {
    "duration": 10,
    "start_time": "2022-01-08T19:08:38.869Z"
   },
   {
    "duration": 30,
    "start_time": "2022-01-08T19:08:38.883Z"
   },
   {
    "duration": 61,
    "start_time": "2022-01-08T19:08:38.916Z"
   },
   {
    "duration": 11,
    "start_time": "2022-01-08T19:08:38.980Z"
   },
   {
    "duration": 12,
    "start_time": "2022-01-08T19:08:38.995Z"
   },
   {
    "duration": 8,
    "start_time": "2022-01-08T19:08:39.011Z"
   },
   {
    "duration": 49,
    "start_time": "2022-01-08T19:08:39.021Z"
   },
   {
    "duration": 10,
    "start_time": "2022-01-08T19:08:39.081Z"
   },
   {
    "duration": 139,
    "start_time": "2022-01-08T19:08:39.094Z"
   },
   {
    "duration": 74,
    "start_time": "2022-01-08T19:08:39.236Z"
   },
   {
    "duration": 17,
    "start_time": "2022-01-08T19:08:39.312Z"
   },
   {
    "duration": 127,
    "start_time": "2022-01-08T19:08:39.339Z"
   },
   {
    "duration": 103,
    "start_time": "2022-01-08T19:08:39.472Z"
   },
   {
    "duration": 129,
    "start_time": "2022-01-08T19:08:39.578Z"
   },
   {
    "duration": 53,
    "start_time": "2022-01-08T19:08:39.710Z"
   },
   {
    "duration": 10,
    "start_time": "2022-01-08T19:08:39.767Z"
   },
   {
    "duration": 108,
    "start_time": "2022-01-08T19:08:39.780Z"
   },
   {
    "duration": 3312,
    "start_time": "2022-01-08T19:08:39.892Z"
   },
   {
    "duration": 9,
    "start_time": "2022-01-08T19:08:43.207Z"
   },
   {
    "duration": 12,
    "start_time": "2022-01-08T19:08:43.219Z"
   },
   {
    "duration": 20,
    "start_time": "2022-01-08T19:08:43.263Z"
   },
   {
    "duration": 29,
    "start_time": "2022-01-08T19:08:43.286Z"
   },
   {
    "duration": 79,
    "start_time": "2022-01-08T19:08:43.318Z"
   },
   {
    "duration": 83,
    "start_time": "2022-01-08T19:08:43.399Z"
   },
   {
    "duration": 5,
    "start_time": "2022-01-08T19:08:43.484Z"
   },
   {
    "duration": 1435,
    "start_time": "2022-01-08T19:08:43.492Z"
   },
   {
    "duration": 67,
    "start_time": "2022-01-08T19:08:44.930Z"
   },
   {
    "duration": 1557,
    "start_time": "2022-01-08T19:08:44.999Z"
   },
   {
    "duration": 1215,
    "start_time": "2022-01-08T19:08:46.563Z"
   },
   {
    "duration": 708,
    "start_time": "2022-01-08T19:08:47.781Z"
   },
   {
    "duration": 704,
    "start_time": "2022-01-08T19:08:48.492Z"
   },
   {
    "duration": 969,
    "start_time": "2022-01-08T19:08:49.199Z"
   },
   {
    "duration": 535,
    "start_time": "2022-01-08T19:08:50.172Z"
   },
   {
    "duration": 11,
    "start_time": "2022-01-08T19:08:50.709Z"
   },
   {
    "duration": 5,
    "start_time": "2022-01-08T19:08:50.722Z"
   },
   {
    "duration": 42,
    "start_time": "2022-01-08T19:08:50.730Z"
   },
   {
    "duration": 8,
    "start_time": "2022-01-08T19:08:50.775Z"
   },
   {
    "duration": 27,
    "start_time": "2022-01-08T19:08:50.786Z"
   },
   {
    "duration": 48,
    "start_time": "2022-01-08T19:08:50.815Z"
   },
   {
    "duration": 18,
    "start_time": "2022-01-08T19:08:50.865Z"
   },
   {
    "duration": 15,
    "start_time": "2022-01-08T19:08:50.887Z"
   },
   {
    "duration": 17,
    "start_time": "2022-01-08T19:08:50.905Z"
   },
   {
    "duration": 155,
    "start_time": "2022-01-08T19:08:50.968Z"
   },
   {
    "duration": 784,
    "start_time": "2022-01-08T19:08:51.125Z"
   },
   {
    "duration": 561,
    "start_time": "2022-01-08T19:08:51.912Z"
   },
   {
    "duration": 614,
    "start_time": "2022-01-08T19:08:52.478Z"
   },
   {
    "duration": 951,
    "start_time": "2022-01-08T19:08:53.095Z"
   },
   {
    "duration": 596,
    "start_time": "2022-01-08T19:08:54.049Z"
   },
   {
    "duration": 54,
    "start_time": "2022-01-08T19:08:54.647Z"
   },
   {
    "duration": 63,
    "start_time": "2022-01-08T19:08:54.703Z"
   },
   {
    "duration": 18,
    "start_time": "2022-01-08T19:08:54.769Z"
   },
   {
    "duration": 736,
    "start_time": "2022-01-08T19:08:54.790Z"
   },
   {
    "duration": 1445,
    "start_time": "2022-01-08T19:08:55.528Z"
   },
   {
    "duration": 52,
    "start_time": "2022-01-08T19:08:56.976Z"
   },
   {
    "duration": 1328,
    "start_time": "2022-01-08T19:08:57.030Z"
   },
   {
    "duration": 1345,
    "start_time": "2022-01-08T19:08:58.362Z"
   },
   {
    "duration": 718,
    "start_time": "2022-01-08T19:08:59.714Z"
   },
   {
    "duration": 625,
    "start_time": "2022-01-08T19:09:00.436Z"
   },
   {
    "duration": 1070,
    "start_time": "2022-01-08T19:09:01.064Z"
   },
   {
    "duration": 48,
    "start_time": "2022-01-08T19:09:02.137Z"
   },
   {
    "duration": 488,
    "start_time": "2022-01-08T19:09:02.189Z"
   },
   {
    "duration": 605,
    "start_time": "2022-01-08T19:09:02.681Z"
   },
   {
    "duration": 778,
    "start_time": "2022-01-08T19:09:03.289Z"
   },
   {
    "duration": 577,
    "start_time": "2022-01-08T19:09:04.070Z"
   },
   {
    "duration": 2186,
    "start_time": "2022-01-08T19:42:42.618Z"
   },
   {
    "duration": 1024,
    "start_time": "2022-01-08T19:46:28.882Z"
   },
   {
    "duration": 91,
    "start_time": "2022-01-08T19:46:29.908Z"
   },
   {
    "duration": 134,
    "start_time": "2022-01-08T19:46:30.001Z"
   },
   {
    "duration": 28,
    "start_time": "2022-01-08T19:46:30.138Z"
   },
   {
    "duration": 139,
    "start_time": "2022-01-08T19:46:30.170Z"
   },
   {
    "duration": 6,
    "start_time": "2022-01-08T19:46:30.312Z"
   },
   {
    "duration": 10,
    "start_time": "2022-01-08T19:46:30.321Z"
   },
   {
    "duration": 47,
    "start_time": "2022-01-08T19:46:30.334Z"
   },
   {
    "duration": 15,
    "start_time": "2022-01-08T19:46:30.387Z"
   },
   {
    "duration": 14,
    "start_time": "2022-01-08T19:46:30.406Z"
   },
   {
    "duration": 39,
    "start_time": "2022-01-08T19:46:30.423Z"
   },
   {
    "duration": 15,
    "start_time": "2022-01-08T19:46:30.465Z"
   },
   {
    "duration": 37,
    "start_time": "2022-01-08T19:46:30.484Z"
   },
   {
    "duration": 55,
    "start_time": "2022-01-08T19:46:30.526Z"
   },
   {
    "duration": 13,
    "start_time": "2022-01-08T19:46:30.584Z"
   },
   {
    "duration": 23,
    "start_time": "2022-01-08T19:46:30.599Z"
   },
   {
    "duration": 9,
    "start_time": "2022-01-08T19:46:30.625Z"
   },
   {
    "duration": 36,
    "start_time": "2022-01-08T19:46:30.637Z"
   },
   {
    "duration": 15,
    "start_time": "2022-01-08T19:46:30.676Z"
   },
   {
    "duration": 103,
    "start_time": "2022-01-08T19:46:30.694Z"
   },
   {
    "duration": 79,
    "start_time": "2022-01-08T19:46:30.800Z"
   },
   {
    "duration": 10,
    "start_time": "2022-01-08T19:46:30.882Z"
   },
   {
    "duration": 113,
    "start_time": "2022-01-08T19:46:30.894Z"
   },
   {
    "duration": 109,
    "start_time": "2022-01-08T19:46:31.010Z"
   },
   {
    "duration": 112,
    "start_time": "2022-01-08T19:46:31.121Z"
   },
   {
    "duration": 46,
    "start_time": "2022-01-08T19:46:31.236Z"
   },
   {
    "duration": 7,
    "start_time": "2022-01-08T19:46:31.289Z"
   },
   {
    "duration": 121,
    "start_time": "2022-01-08T19:46:31.300Z"
   },
   {
    "duration": 2520,
    "start_time": "2022-01-08T19:46:31.423Z"
   },
   {
    "duration": 24,
    "start_time": "2022-01-08T19:46:33.945Z"
   },
   {
    "duration": 17,
    "start_time": "2022-01-08T19:46:33.972Z"
   },
   {
    "duration": 12,
    "start_time": "2022-01-08T19:46:33.991Z"
   },
   {
    "duration": 67,
    "start_time": "2022-01-08T19:46:34.005Z"
   },
   {
    "duration": 47,
    "start_time": "2022-01-08T19:46:34.078Z"
   },
   {
    "duration": 88,
    "start_time": "2022-01-08T19:46:34.128Z"
   },
   {
    "duration": 4,
    "start_time": "2022-01-08T19:46:34.219Z"
   },
   {
    "duration": 1236,
    "start_time": "2022-01-08T19:46:34.226Z"
   },
   {
    "duration": 39,
    "start_time": "2022-01-08T19:46:35.465Z"
   },
   {
    "duration": 1271,
    "start_time": "2022-01-08T19:46:35.507Z"
   },
   {
    "duration": 1195,
    "start_time": "2022-01-08T19:46:36.783Z"
   },
   {
    "duration": 638,
    "start_time": "2022-01-08T19:46:37.980Z"
   },
   {
    "duration": 625,
    "start_time": "2022-01-08T19:46:38.620Z"
   },
   {
    "duration": 815,
    "start_time": "2022-01-08T19:46:39.248Z"
   },
   {
    "duration": 472,
    "start_time": "2022-01-08T19:46:40.066Z"
   },
   {
    "duration": 26,
    "start_time": "2022-01-08T19:46:40.540Z"
   },
   {
    "duration": 8,
    "start_time": "2022-01-08T19:46:40.569Z"
   },
   {
    "duration": 8,
    "start_time": "2022-01-08T19:46:40.579Z"
   },
   {
    "duration": 10,
    "start_time": "2022-01-08T19:46:40.590Z"
   },
   {
    "duration": 24,
    "start_time": "2022-01-08T19:46:40.602Z"
   },
   {
    "duration": 16,
    "start_time": "2022-01-08T19:46:40.628Z"
   },
   {
    "duration": 32,
    "start_time": "2022-01-08T19:46:40.646Z"
   },
   {
    "duration": 19,
    "start_time": "2022-01-08T19:46:40.681Z"
   },
   {
    "duration": 19,
    "start_time": "2022-01-08T19:46:40.703Z"
   },
   {
    "duration": 169,
    "start_time": "2022-01-08T19:46:40.725Z"
   },
   {
    "duration": 1510,
    "start_time": "2022-01-08T19:46:40.896Z"
   },
   {
    "duration": 2374,
    "start_time": "2022-01-08T19:46:42.465Z"
   },
   {
    "duration": 3,
    "start_time": "2022-01-08T19:46:44.843Z"
   },
   {
    "duration": 15,
    "start_time": "2022-01-08T19:46:44.849Z"
   },
   {
    "duration": 26,
    "start_time": "2022-01-08T19:46:44.866Z"
   },
   {
    "duration": 13,
    "start_time": "2022-01-08T19:46:44.895Z"
   },
   {
    "duration": 50,
    "start_time": "2022-01-08T19:46:44.911Z"
   },
   {
    "duration": 57,
    "start_time": "2022-01-08T19:46:44.965Z"
   },
   {
    "duration": 16,
    "start_time": "2022-01-08T19:46:45.025Z"
   },
   {
    "duration": 688,
    "start_time": "2022-01-08T19:46:45.065Z"
   },
   {
    "duration": 1361,
    "start_time": "2022-01-08T19:46:45.764Z"
   },
   {
    "duration": 56,
    "start_time": "2022-01-08T19:46:47.127Z"
   },
   {
    "duration": 1500,
    "start_time": "2022-01-08T19:46:47.186Z"
   },
   {
    "duration": 1284,
    "start_time": "2022-01-08T19:46:48.688Z"
   },
   {
    "duration": 623,
    "start_time": "2022-01-08T19:46:49.975Z"
   },
   {
    "duration": 521,
    "start_time": "2022-01-08T19:46:50.600Z"
   },
   {
    "duration": 991,
    "start_time": "2022-01-08T19:46:51.124Z"
   },
   {
    "duration": 48,
    "start_time": "2022-01-08T19:46:52.117Z"
   },
   {
    "duration": 552,
    "start_time": "2022-01-08T19:46:52.169Z"
   },
   {
    "duration": 580,
    "start_time": "2022-01-08T19:46:52.723Z"
   },
   {
    "duration": 727,
    "start_time": "2022-01-08T19:46:53.305Z"
   },
   {
    "duration": 518,
    "start_time": "2022-01-08T19:46:54.034Z"
   },
   {
    "duration": 2020,
    "start_time": "2022-01-08T19:51:51.471Z"
   },
   {
    "duration": 908,
    "start_time": "2022-01-08T19:57:21.212Z"
   },
   {
    "duration": 86,
    "start_time": "2022-01-08T19:57:22.123Z"
   },
   {
    "duration": 123,
    "start_time": "2022-01-08T19:57:22.215Z"
   },
   {
    "duration": 30,
    "start_time": "2022-01-08T19:57:22.341Z"
   },
   {
    "duration": 124,
    "start_time": "2022-01-08T19:57:22.374Z"
   },
   {
    "duration": 7,
    "start_time": "2022-01-08T19:57:22.501Z"
   },
   {
    "duration": 9,
    "start_time": "2022-01-08T19:57:22.514Z"
   },
   {
    "duration": 48,
    "start_time": "2022-01-08T19:57:22.528Z"
   },
   {
    "duration": 23,
    "start_time": "2022-01-08T19:57:22.579Z"
   },
   {
    "duration": 9,
    "start_time": "2022-01-08T19:57:22.604Z"
   },
   {
    "duration": 14,
    "start_time": "2022-01-08T19:57:22.616Z"
   },
   {
    "duration": 11,
    "start_time": "2022-01-08T19:57:22.664Z"
   },
   {
    "duration": 31,
    "start_time": "2022-01-08T19:57:22.678Z"
   },
   {
    "duration": 61,
    "start_time": "2022-01-08T19:57:22.712Z"
   },
   {
    "duration": 8,
    "start_time": "2022-01-08T19:57:22.776Z"
   },
   {
    "duration": 12,
    "start_time": "2022-01-08T19:57:22.786Z"
   },
   {
    "duration": 5,
    "start_time": "2022-01-08T19:57:22.801Z"
   },
   {
    "duration": 7,
    "start_time": "2022-01-08T19:57:22.808Z"
   },
   {
    "duration": 49,
    "start_time": "2022-01-08T19:57:22.818Z"
   },
   {
    "duration": 94,
    "start_time": "2022-01-08T19:57:22.869Z"
   },
   {
    "duration": 54,
    "start_time": "2022-01-08T19:57:22.965Z"
   },
   {
    "duration": 39,
    "start_time": "2022-01-08T19:57:23.025Z"
   },
   {
    "duration": 78,
    "start_time": "2022-01-08T19:57:23.068Z"
   },
   {
    "duration": 88,
    "start_time": "2022-01-08T19:57:23.148Z"
   },
   {
    "duration": 97,
    "start_time": "2022-01-08T19:57:23.239Z"
   },
   {
    "duration": 49,
    "start_time": "2022-01-08T19:57:23.338Z"
   },
   {
    "duration": 7,
    "start_time": "2022-01-08T19:57:23.390Z"
   },
   {
    "duration": 103,
    "start_time": "2022-01-08T19:57:23.399Z"
   },
   {
    "duration": 2256,
    "start_time": "2022-01-08T19:57:23.504Z"
   },
   {
    "duration": 8,
    "start_time": "2022-01-08T19:57:25.764Z"
   },
   {
    "duration": 16,
    "start_time": "2022-01-08T19:57:25.775Z"
   },
   {
    "duration": 13,
    "start_time": "2022-01-08T19:57:25.793Z"
   },
   {
    "duration": 74,
    "start_time": "2022-01-08T19:57:25.809Z"
   },
   {
    "duration": 45,
    "start_time": "2022-01-08T19:57:25.886Z"
   },
   {
    "duration": 84,
    "start_time": "2022-01-08T19:57:25.934Z"
   },
   {
    "duration": 5,
    "start_time": "2022-01-08T19:57:26.020Z"
   },
   {
    "duration": 1042,
    "start_time": "2022-01-08T19:57:26.027Z"
   },
   {
    "duration": 39,
    "start_time": "2022-01-08T19:57:27.071Z"
   },
   {
    "duration": 1141,
    "start_time": "2022-01-08T19:57:27.112Z"
   },
   {
    "duration": 1096,
    "start_time": "2022-01-08T19:57:28.256Z"
   },
   {
    "duration": 602,
    "start_time": "2022-01-08T19:57:29.363Z"
   },
   {
    "duration": 583,
    "start_time": "2022-01-08T19:57:29.968Z"
   },
   {
    "duration": 775,
    "start_time": "2022-01-08T19:57:30.554Z"
   },
   {
    "duration": 424,
    "start_time": "2022-01-08T19:57:31.332Z"
   },
   {
    "duration": 12,
    "start_time": "2022-01-08T19:57:31.759Z"
   },
   {
    "duration": 7,
    "start_time": "2022-01-08T19:57:31.774Z"
   },
   {
    "duration": 20,
    "start_time": "2022-01-08T19:57:31.783Z"
   },
   {
    "duration": 23,
    "start_time": "2022-01-08T19:57:31.806Z"
   },
   {
    "duration": 40,
    "start_time": "2022-01-08T19:57:31.832Z"
   },
   {
    "duration": 15,
    "start_time": "2022-01-08T19:57:31.875Z"
   },
   {
    "duration": 27,
    "start_time": "2022-01-08T19:57:31.893Z"
   },
   {
    "duration": 23,
    "start_time": "2022-01-08T19:57:31.922Z"
   },
   {
    "duration": 29,
    "start_time": "2022-01-08T19:57:31.948Z"
   },
   {
    "duration": 160,
    "start_time": "2022-01-08T19:57:31.980Z"
   },
   {
    "duration": 692,
    "start_time": "2022-01-08T19:57:32.143Z"
   },
   {
    "duration": 2049,
    "start_time": "2022-01-08T19:57:32.838Z"
   },
   {
    "duration": 3,
    "start_time": "2022-01-08T19:57:34.890Z"
   },
   {
    "duration": 6,
    "start_time": "2022-01-08T19:57:34.895Z"
   },
   {
    "duration": 4,
    "start_time": "2022-01-08T19:57:34.904Z"
   },
   {
    "duration": 4,
    "start_time": "2022-01-08T19:57:34.910Z"
   },
   {
    "duration": 66,
    "start_time": "2022-01-08T19:57:34.917Z"
   },
   {
    "duration": 45,
    "start_time": "2022-01-08T19:57:34.986Z"
   },
   {
    "duration": 39,
    "start_time": "2022-01-08T19:57:35.033Z"
   },
   {
    "duration": 622,
    "start_time": "2022-01-08T19:57:35.074Z"
   },
   {
    "duration": 1281,
    "start_time": "2022-01-08T19:57:35.699Z"
   },
   {
    "duration": 42,
    "start_time": "2022-01-08T19:57:36.984Z"
   },
   {
    "duration": 1451,
    "start_time": "2022-01-08T19:57:37.034Z"
   },
   {
    "duration": 1122,
    "start_time": "2022-01-08T19:57:38.489Z"
   },
   {
    "duration": 560,
    "start_time": "2022-01-08T19:57:39.613Z"
   },
   {
    "duration": 494,
    "start_time": "2022-01-08T19:57:40.176Z"
   },
   {
    "duration": 854,
    "start_time": "2022-01-08T19:57:40.672Z"
   },
   {
    "duration": 45,
    "start_time": "2022-01-08T19:57:41.529Z"
   },
   {
    "duration": 1996,
    "start_time": "2022-01-08T19:57:41.576Z"
   },
   {
    "duration": 3,
    "start_time": "2022-01-08T19:57:43.575Z"
   },
   {
    "duration": 11,
    "start_time": "2022-01-08T19:57:43.580Z"
   },
   {
    "duration": 5,
    "start_time": "2022-01-08T19:57:43.593Z"
   },
   {
    "duration": 6,
    "start_time": "2022-01-08T19:57:43.601Z"
   }
  ],
  "kernelspec": {
   "display_name": "Python 3 (ipykernel)",
   "language": "python",
   "name": "python3"
  },
  "language_info": {
   "codemirror_mode": {
    "name": "ipython",
    "version": 3
   },
   "file_extension": ".py",
   "mimetype": "text/x-python",
   "name": "python",
   "nbconvert_exporter": "python",
   "pygments_lexer": "ipython3",
   "version": "3.10.9"
  },
  "toc": {
   "base_numbering": 1,
   "nav_menu": {},
   "number_sections": true,
   "sideBar": true,
   "skip_h1_title": true,
   "title_cell": "Содержание",
   "title_sidebar": "Contents",
   "toc_cell": true,
   "toc_position": {
    "height": "calc(100% - 180px)",
    "left": "10px",
    "top": "150px",
    "width": "279.837px"
   },
   "toc_section_display": true,
   "toc_window_display": true
  }
 },
 "nbformat": 4,
 "nbformat_minor": 2
}
