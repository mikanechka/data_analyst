{
 "cells": [
  {
   "cell_type": "markdown",
   "metadata": {},
   "source": [
    "# Проверка гипотез по увеличению выручки в интернет-магазине (A/B-тест)\n",
    "\n",
    "\n",
    "**Цель исследования** - по запросу крупного интернет-магазина необходимо провести проверку гипотез для увеличения выручки.\n",
    "\n",
    "В нашем распоряжении имеются данные о сформулированных гипотезах, совершенных заказах и распределении по группам, полученные от отдела маркетинга.\n",
    "\n",
    "Приоритизируем гипотезы, запустим A/B-тест и проанализируем результаты."
   ]
  },
  {
   "cell_type": "markdown",
   "metadata": {},
   "source": [
    "**Описание данных**\n",
    "\n",
    "**Данные для первой части**\n",
    "\n",
    "Файл hypothesis.csv\n",
    "\n",
    "- Hypothesis — краткое описание гипотезы;\n",
    "- Reach — охват пользователей по 10-балльной шкале;\n",
    "- Impact — влияние на пользователей по 10-балльной шкале;\n",
    "- Confidence — уверенность в гипотезе по 10-балльной шкале;\n",
    "- Efforts — затраты ресурсов на проверку гипотезы по 10-балльной шкале. Чем больше значение Efforts, тем дороже проверка гипотезы.\n",
    "\n",
    "**Данные для второй части**\n",
    "\n",
    "Файл orders.csv\n",
    "\n",
    "- transactionId — идентификатор заказа;\n",
    "- visitorId — идентификатор пользователя, совершившего заказ;\n",
    "- date — дата, когда был совершён заказ;\n",
    "- revenue — выручка заказа;\n",
    "- group — группа A/B-теста, в которую попал заказ.\n",
    "\n",
    "Файл visitors.csv\n",
    "\n",
    "- date — дата;\n",
    "- group — группа A/B-теста;\n",
    "- visitors — количество пользователей в указанную дату в указанной группе A/B-теста"
   ]
  },
  {
   "cell_type": "markdown",
   "metadata": {},
   "source": [
    "## Подготовительная часть"
   ]
  },
  {
   "cell_type": "code",
   "execution_count": 1,
   "metadata": {},
   "outputs": [],
   "source": [
    "# импортируем необходимые для работы библиотеки\n",
    "import pandas as pd\n",
    "import datetime as dt\n",
    "import numpy as np\n",
    "import matplotlib.pyplot as plt\n",
    "import scipy.stats as stats"
   ]
  },
  {
   "cell_type": "code",
   "execution_count": 2,
   "metadata": {},
   "outputs": [],
   "source": [
    "# создадим переменные и загрузим данные\n",
    "hypothesis = pd.read_csv('')\n",
    "orders = pd.read_csv('')\n",
    "visitors = pd.read_csv('')"
   ]
  },
  {
   "cell_type": "code",
   "execution_count": 3,
   "metadata": {
    "scrolled": true
   },
   "outputs": [
    {
     "data": {
      "text/plain": [
       "Index(['Hypothesis', 'Reach', 'Impact', 'Confidence', 'Efforts'], dtype='object')"
      ]
     },
     "metadata": {},
     "output_type": "display_data"
    },
    {
     "data": {
      "text/html": [
       "<div>\n",
       "<style scoped>\n",
       "    .dataframe tbody tr th:only-of-type {\n",
       "        vertical-align: middle;\n",
       "    }\n",
       "\n",
       "    .dataframe tbody tr th {\n",
       "        vertical-align: top;\n",
       "    }\n",
       "\n",
       "    .dataframe thead th {\n",
       "        text-align: right;\n",
       "    }\n",
       "</style>\n",
       "<table border=\"1\" class=\"dataframe\">\n",
       "  <thead>\n",
       "    <tr style=\"text-align: right;\">\n",
       "      <th></th>\n",
       "      <th>Hypothesis</th>\n",
       "      <th>Reach</th>\n",
       "      <th>Impact</th>\n",
       "      <th>Confidence</th>\n",
       "      <th>Efforts</th>\n",
       "    </tr>\n",
       "  </thead>\n",
       "  <tbody>\n",
       "    <tr>\n",
       "      <th>0</th>\n",
       "      <td>Добавить два новых канала привлечения трафика, что позволит привлекать на 30% больше пользователей</td>\n",
       "      <td>3</td>\n",
       "      <td>10</td>\n",
       "      <td>8</td>\n",
       "      <td>6</td>\n",
       "    </tr>\n",
       "    <tr>\n",
       "      <th>1</th>\n",
       "      <td>Запустить собственную службу доставки, что сократит срок доставки заказов</td>\n",
       "      <td>2</td>\n",
       "      <td>5</td>\n",
       "      <td>4</td>\n",
       "      <td>10</td>\n",
       "    </tr>\n",
       "    <tr>\n",
       "      <th>2</th>\n",
       "      <td>Добавить блоки рекомендаций товаров на сайт интернет магазина, чтобы повысить конверсию и средний чек заказа</td>\n",
       "      <td>8</td>\n",
       "      <td>3</td>\n",
       "      <td>7</td>\n",
       "      <td>3</td>\n",
       "    </tr>\n",
       "    <tr>\n",
       "      <th>3</th>\n",
       "      <td>Изменить структура категорий, что увеличит конверсию, т.к. пользователи быстрее найдут нужный товар</td>\n",
       "      <td>8</td>\n",
       "      <td>3</td>\n",
       "      <td>3</td>\n",
       "      <td>8</td>\n",
       "    </tr>\n",
       "    <tr>\n",
       "      <th>4</th>\n",
       "      <td>Изменить цвет фона главной страницы, чтобы увеличить вовлеченность пользователей</td>\n",
       "      <td>3</td>\n",
       "      <td>1</td>\n",
       "      <td>1</td>\n",
       "      <td>1</td>\n",
       "    </tr>\n",
       "  </tbody>\n",
       "</table>\n",
       "</div>"
      ],
      "text/plain": [
       "                                                                                                     Hypothesis  \\\n",
       "0            Добавить два новых канала привлечения трафика, что позволит привлекать на 30% больше пользователей   \n",
       "1                                     Запустить собственную службу доставки, что сократит срок доставки заказов   \n",
       "2  Добавить блоки рекомендаций товаров на сайт интернет магазина, чтобы повысить конверсию и средний чек заказа   \n",
       "3           Изменить структура категорий, что увеличит конверсию, т.к. пользователи быстрее найдут нужный товар   \n",
       "4                              Изменить цвет фона главной страницы, чтобы увеличить вовлеченность пользователей   \n",
       "\n",
       "   Reach  Impact  Confidence  Efforts  \n",
       "0      3      10           8        6  \n",
       "1      2       5           4       10  \n",
       "2      8       3           7        3  \n",
       "3      8       3           3        8  \n",
       "4      3       1           1        1  "
      ]
     },
     "metadata": {},
     "output_type": "display_data"
    },
    {
     "data": {
      "text/html": [
       "<div>\n",
       "<style scoped>\n",
       "    .dataframe tbody tr th:only-of-type {\n",
       "        vertical-align: middle;\n",
       "    }\n",
       "\n",
       "    .dataframe tbody tr th {\n",
       "        vertical-align: top;\n",
       "    }\n",
       "\n",
       "    .dataframe thead th {\n",
       "        text-align: right;\n",
       "    }\n",
       "</style>\n",
       "<table border=\"1\" class=\"dataframe\">\n",
       "  <thead>\n",
       "    <tr style=\"text-align: right;\">\n",
       "      <th></th>\n",
       "      <th>Reach</th>\n",
       "      <th>Impact</th>\n",
       "      <th>Confidence</th>\n",
       "      <th>Efforts</th>\n",
       "    </tr>\n",
       "  </thead>\n",
       "  <tbody>\n",
       "    <tr>\n",
       "      <th>count</th>\n",
       "      <td>9.000000</td>\n",
       "      <td>9.000000</td>\n",
       "      <td>9.000000</td>\n",
       "      <td>9.000000</td>\n",
       "    </tr>\n",
       "    <tr>\n",
       "      <th>mean</th>\n",
       "      <td>4.777778</td>\n",
       "      <td>4.777778</td>\n",
       "      <td>5.555556</td>\n",
       "      <td>4.888889</td>\n",
       "    </tr>\n",
       "    <tr>\n",
       "      <th>std</th>\n",
       "      <td>3.153481</td>\n",
       "      <td>3.192874</td>\n",
       "      <td>3.045944</td>\n",
       "      <td>2.803767</td>\n",
       "    </tr>\n",
       "    <tr>\n",
       "      <th>min</th>\n",
       "      <td>1.000000</td>\n",
       "      <td>1.000000</td>\n",
       "      <td>1.000000</td>\n",
       "      <td>1.000000</td>\n",
       "    </tr>\n",
       "    <tr>\n",
       "      <th>25%</th>\n",
       "      <td>3.000000</td>\n",
       "      <td>3.000000</td>\n",
       "      <td>3.000000</td>\n",
       "      <td>3.000000</td>\n",
       "    </tr>\n",
       "    <tr>\n",
       "      <th>50%</th>\n",
       "      <td>3.000000</td>\n",
       "      <td>3.000000</td>\n",
       "      <td>7.000000</td>\n",
       "      <td>5.000000</td>\n",
       "    </tr>\n",
       "    <tr>\n",
       "      <th>75%</th>\n",
       "      <td>8.000000</td>\n",
       "      <td>7.000000</td>\n",
       "      <td>8.000000</td>\n",
       "      <td>6.000000</td>\n",
       "    </tr>\n",
       "    <tr>\n",
       "      <th>max</th>\n",
       "      <td>10.000000</td>\n",
       "      <td>10.000000</td>\n",
       "      <td>9.000000</td>\n",
       "      <td>10.000000</td>\n",
       "    </tr>\n",
       "  </tbody>\n",
       "</table>\n",
       "</div>"
      ],
      "text/plain": [
       "           Reach     Impact  Confidence    Efforts\n",
       "count   9.000000   9.000000    9.000000   9.000000\n",
       "mean    4.777778   4.777778    5.555556   4.888889\n",
       "std     3.153481   3.192874    3.045944   2.803767\n",
       "min     1.000000   1.000000    1.000000   1.000000\n",
       "25%     3.000000   3.000000    3.000000   3.000000\n",
       "50%     3.000000   3.000000    7.000000   5.000000\n",
       "75%     8.000000   7.000000    8.000000   6.000000\n",
       "max    10.000000  10.000000    9.000000  10.000000"
      ]
     },
     "metadata": {},
     "output_type": "display_data"
    },
    {
     "name": "stdout",
     "output_type": "stream",
     "text": [
      "**************************************************\n",
      "<class 'pandas.core.frame.DataFrame'>\n",
      "RangeIndex: 9 entries, 0 to 8\n",
      "Data columns (total 5 columns):\n",
      " #   Column      Non-Null Count  Dtype \n",
      "---  ------      --------------  ----- \n",
      " 0   Hypothesis  9 non-null      object\n",
      " 1   Reach       9 non-null      int64 \n",
      " 2   Impact      9 non-null      int64 \n",
      " 3   Confidence  9 non-null      int64 \n",
      " 4   Efforts     9 non-null      int64 \n",
      "dtypes: int64(4), object(1)\n",
      "memory usage: 488.0+ bytes\n"
     ]
    }
   ],
   "source": [
    "# создадим функцию для вывода общей информации: это позволит избавиться от повторов и сократить код \n",
    "def background(data):\n",
    "    display(data.columns, data.head(), data.describe())\n",
    "    print('*' * 50)\n",
    "    data.info()\n",
    "\n",
    "pd.options.display.max_colwidth = 130 # увеличиваем максимальную ширину столбцов, чтобы все поместилось\n",
    "\n",
    "background(hypothesis)"
   ]
  },
  {
   "cell_type": "code",
   "execution_count": 4,
   "metadata": {
    "scrolled": true
   },
   "outputs": [
    {
     "data": {
      "text/plain": [
       "Index(['transactionId', 'visitorId', 'date', 'revenue', 'group'], dtype='object')"
      ]
     },
     "metadata": {},
     "output_type": "display_data"
    },
    {
     "data": {
      "text/html": [
       "<div>\n",
       "<style scoped>\n",
       "    .dataframe tbody tr th:only-of-type {\n",
       "        vertical-align: middle;\n",
       "    }\n",
       "\n",
       "    .dataframe tbody tr th {\n",
       "        vertical-align: top;\n",
       "    }\n",
       "\n",
       "    .dataframe thead th {\n",
       "        text-align: right;\n",
       "    }\n",
       "</style>\n",
       "<table border=\"1\" class=\"dataframe\">\n",
       "  <thead>\n",
       "    <tr style=\"text-align: right;\">\n",
       "      <th></th>\n",
       "      <th>transactionId</th>\n",
       "      <th>visitorId</th>\n",
       "      <th>date</th>\n",
       "      <th>revenue</th>\n",
       "      <th>group</th>\n",
       "    </tr>\n",
       "  </thead>\n",
       "  <tbody>\n",
       "    <tr>\n",
       "      <th>0</th>\n",
       "      <td>3667963787</td>\n",
       "      <td>3312258926</td>\n",
       "      <td>2019-08-15</td>\n",
       "      <td>1650</td>\n",
       "      <td>B</td>\n",
       "    </tr>\n",
       "    <tr>\n",
       "      <th>1</th>\n",
       "      <td>2804400009</td>\n",
       "      <td>3642806036</td>\n",
       "      <td>2019-08-15</td>\n",
       "      <td>730</td>\n",
       "      <td>B</td>\n",
       "    </tr>\n",
       "    <tr>\n",
       "      <th>2</th>\n",
       "      <td>2961555356</td>\n",
       "      <td>4069496402</td>\n",
       "      <td>2019-08-15</td>\n",
       "      <td>400</td>\n",
       "      <td>A</td>\n",
       "    </tr>\n",
       "    <tr>\n",
       "      <th>3</th>\n",
       "      <td>3797467345</td>\n",
       "      <td>1196621759</td>\n",
       "      <td>2019-08-15</td>\n",
       "      <td>9759</td>\n",
       "      <td>B</td>\n",
       "    </tr>\n",
       "    <tr>\n",
       "      <th>4</th>\n",
       "      <td>2282983706</td>\n",
       "      <td>2322279887</td>\n",
       "      <td>2019-08-15</td>\n",
       "      <td>2308</td>\n",
       "      <td>B</td>\n",
       "    </tr>\n",
       "  </tbody>\n",
       "</table>\n",
       "</div>"
      ],
      "text/plain": [
       "   transactionId   visitorId        date  revenue group\n",
       "0     3667963787  3312258926  2019-08-15     1650     B\n",
       "1     2804400009  3642806036  2019-08-15      730     B\n",
       "2     2961555356  4069496402  2019-08-15      400     A\n",
       "3     3797467345  1196621759  2019-08-15     9759     B\n",
       "4     2282983706  2322279887  2019-08-15     2308     B"
      ]
     },
     "metadata": {},
     "output_type": "display_data"
    },
    {
     "data": {
      "text/html": [
       "<div>\n",
       "<style scoped>\n",
       "    .dataframe tbody tr th:only-of-type {\n",
       "        vertical-align: middle;\n",
       "    }\n",
       "\n",
       "    .dataframe tbody tr th {\n",
       "        vertical-align: top;\n",
       "    }\n",
       "\n",
       "    .dataframe thead th {\n",
       "        text-align: right;\n",
       "    }\n",
       "</style>\n",
       "<table border=\"1\" class=\"dataframe\">\n",
       "  <thead>\n",
       "    <tr style=\"text-align: right;\">\n",
       "      <th></th>\n",
       "      <th>transactionId</th>\n",
       "      <th>visitorId</th>\n",
       "      <th>revenue</th>\n",
       "    </tr>\n",
       "  </thead>\n",
       "  <tbody>\n",
       "    <tr>\n",
       "      <th>count</th>\n",
       "      <td>1.197000e+03</td>\n",
       "      <td>1.197000e+03</td>\n",
       "      <td>1.197000e+03</td>\n",
       "    </tr>\n",
       "    <tr>\n",
       "      <th>mean</th>\n",
       "      <td>2.155621e+09</td>\n",
       "      <td>2.165960e+09</td>\n",
       "      <td>8.348006e+03</td>\n",
       "    </tr>\n",
       "    <tr>\n",
       "      <th>std</th>\n",
       "      <td>1.229085e+09</td>\n",
       "      <td>1.236014e+09</td>\n",
       "      <td>3.919113e+04</td>\n",
       "    </tr>\n",
       "    <tr>\n",
       "      <th>min</th>\n",
       "      <td>1.062393e+06</td>\n",
       "      <td>5.114589e+06</td>\n",
       "      <td>5.000000e+01</td>\n",
       "    </tr>\n",
       "    <tr>\n",
       "      <th>25%</th>\n",
       "      <td>1.166776e+09</td>\n",
       "      <td>1.111826e+09</td>\n",
       "      <td>1.220000e+03</td>\n",
       "    </tr>\n",
       "    <tr>\n",
       "      <th>50%</th>\n",
       "      <td>2.145194e+09</td>\n",
       "      <td>2.217985e+09</td>\n",
       "      <td>2.978000e+03</td>\n",
       "    </tr>\n",
       "    <tr>\n",
       "      <th>75%</th>\n",
       "      <td>3.237740e+09</td>\n",
       "      <td>3.177606e+09</td>\n",
       "      <td>8.290000e+03</td>\n",
       "    </tr>\n",
       "    <tr>\n",
       "      <th>max</th>\n",
       "      <td>4.293856e+09</td>\n",
       "      <td>4.283872e+09</td>\n",
       "      <td>1.294500e+06</td>\n",
       "    </tr>\n",
       "  </tbody>\n",
       "</table>\n",
       "</div>"
      ],
      "text/plain": [
       "       transactionId     visitorId       revenue\n",
       "count   1.197000e+03  1.197000e+03  1.197000e+03\n",
       "mean    2.155621e+09  2.165960e+09  8.348006e+03\n",
       "std     1.229085e+09  1.236014e+09  3.919113e+04\n",
       "min     1.062393e+06  5.114589e+06  5.000000e+01\n",
       "25%     1.166776e+09  1.111826e+09  1.220000e+03\n",
       "50%     2.145194e+09  2.217985e+09  2.978000e+03\n",
       "75%     3.237740e+09  3.177606e+09  8.290000e+03\n",
       "max     4.293856e+09  4.283872e+09  1.294500e+06"
      ]
     },
     "metadata": {},
     "output_type": "display_data"
    },
    {
     "name": "stdout",
     "output_type": "stream",
     "text": [
      "**************************************************\n",
      "<class 'pandas.core.frame.DataFrame'>\n",
      "RangeIndex: 1197 entries, 0 to 1196\n",
      "Data columns (total 5 columns):\n",
      " #   Column         Non-Null Count  Dtype \n",
      "---  ------         --------------  ----- \n",
      " 0   transactionId  1197 non-null   int64 \n",
      " 1   visitorId      1197 non-null   int64 \n",
      " 2   date           1197 non-null   object\n",
      " 3   revenue        1197 non-null   int64 \n",
      " 4   group          1197 non-null   object\n",
      "dtypes: int64(3), object(2)\n",
      "memory usage: 46.9+ KB\n"
     ]
    }
   ],
   "source": [
    "background(orders)"
   ]
  },
  {
   "cell_type": "code",
   "execution_count": 5,
   "metadata": {
    "scrolled": true
   },
   "outputs": [
    {
     "data": {
      "text/plain": [
       "Index(['date', 'group', 'visitors'], dtype='object')"
      ]
     },
     "metadata": {},
     "output_type": "display_data"
    },
    {
     "data": {
      "text/html": [
       "<div>\n",
       "<style scoped>\n",
       "    .dataframe tbody tr th:only-of-type {\n",
       "        vertical-align: middle;\n",
       "    }\n",
       "\n",
       "    .dataframe tbody tr th {\n",
       "        vertical-align: top;\n",
       "    }\n",
       "\n",
       "    .dataframe thead th {\n",
       "        text-align: right;\n",
       "    }\n",
       "</style>\n",
       "<table border=\"1\" class=\"dataframe\">\n",
       "  <thead>\n",
       "    <tr style=\"text-align: right;\">\n",
       "      <th></th>\n",
       "      <th>date</th>\n",
       "      <th>group</th>\n",
       "      <th>visitors</th>\n",
       "    </tr>\n",
       "  </thead>\n",
       "  <tbody>\n",
       "    <tr>\n",
       "      <th>0</th>\n",
       "      <td>2019-08-01</td>\n",
       "      <td>A</td>\n",
       "      <td>719</td>\n",
       "    </tr>\n",
       "    <tr>\n",
       "      <th>1</th>\n",
       "      <td>2019-08-02</td>\n",
       "      <td>A</td>\n",
       "      <td>619</td>\n",
       "    </tr>\n",
       "    <tr>\n",
       "      <th>2</th>\n",
       "      <td>2019-08-03</td>\n",
       "      <td>A</td>\n",
       "      <td>507</td>\n",
       "    </tr>\n",
       "    <tr>\n",
       "      <th>3</th>\n",
       "      <td>2019-08-04</td>\n",
       "      <td>A</td>\n",
       "      <td>717</td>\n",
       "    </tr>\n",
       "    <tr>\n",
       "      <th>4</th>\n",
       "      <td>2019-08-05</td>\n",
       "      <td>A</td>\n",
       "      <td>756</td>\n",
       "    </tr>\n",
       "  </tbody>\n",
       "</table>\n",
       "</div>"
      ],
      "text/plain": [
       "         date group  visitors\n",
       "0  2019-08-01     A       719\n",
       "1  2019-08-02     A       619\n",
       "2  2019-08-03     A       507\n",
       "3  2019-08-04     A       717\n",
       "4  2019-08-05     A       756"
      ]
     },
     "metadata": {},
     "output_type": "display_data"
    },
    {
     "data": {
      "text/html": [
       "<div>\n",
       "<style scoped>\n",
       "    .dataframe tbody tr th:only-of-type {\n",
       "        vertical-align: middle;\n",
       "    }\n",
       "\n",
       "    .dataframe tbody tr th {\n",
       "        vertical-align: top;\n",
       "    }\n",
       "\n",
       "    .dataframe thead th {\n",
       "        text-align: right;\n",
       "    }\n",
       "</style>\n",
       "<table border=\"1\" class=\"dataframe\">\n",
       "  <thead>\n",
       "    <tr style=\"text-align: right;\">\n",
       "      <th></th>\n",
       "      <th>visitors</th>\n",
       "    </tr>\n",
       "  </thead>\n",
       "  <tbody>\n",
       "    <tr>\n",
       "      <th>count</th>\n",
       "      <td>62.000000</td>\n",
       "    </tr>\n",
       "    <tr>\n",
       "      <th>mean</th>\n",
       "      <td>607.290323</td>\n",
       "    </tr>\n",
       "    <tr>\n",
       "      <th>std</th>\n",
       "      <td>114.400560</td>\n",
       "    </tr>\n",
       "    <tr>\n",
       "      <th>min</th>\n",
       "      <td>361.000000</td>\n",
       "    </tr>\n",
       "    <tr>\n",
       "      <th>25%</th>\n",
       "      <td>534.000000</td>\n",
       "    </tr>\n",
       "    <tr>\n",
       "      <th>50%</th>\n",
       "      <td>624.500000</td>\n",
       "    </tr>\n",
       "    <tr>\n",
       "      <th>75%</th>\n",
       "      <td>710.500000</td>\n",
       "    </tr>\n",
       "    <tr>\n",
       "      <th>max</th>\n",
       "      <td>770.000000</td>\n",
       "    </tr>\n",
       "  </tbody>\n",
       "</table>\n",
       "</div>"
      ],
      "text/plain": [
       "         visitors\n",
       "count   62.000000\n",
       "mean   607.290323\n",
       "std    114.400560\n",
       "min    361.000000\n",
       "25%    534.000000\n",
       "50%    624.500000\n",
       "75%    710.500000\n",
       "max    770.000000"
      ]
     },
     "metadata": {},
     "output_type": "display_data"
    },
    {
     "name": "stdout",
     "output_type": "stream",
     "text": [
      "**************************************************\n",
      "<class 'pandas.core.frame.DataFrame'>\n",
      "RangeIndex: 62 entries, 0 to 61\n",
      "Data columns (total 3 columns):\n",
      " #   Column    Non-Null Count  Dtype \n",
      "---  ------    --------------  ----- \n",
      " 0   date      62 non-null     object\n",
      " 1   group     62 non-null     object\n",
      " 2   visitors  62 non-null     int64 \n",
      "dtypes: int64(1), object(2)\n",
      "memory usage: 1.6+ KB\n"
     ]
    }
   ],
   "source": [
    "background(visitors)"
   ]
  },
  {
   "cell_type": "code",
   "execution_count": 6,
   "metadata": {},
   "outputs": [],
   "source": [
    "# проведем небольшую предобработку данных\n",
    "for data in [hypothesis, orders, visitors]: #приводим названия столбцов к одному регистру\n",
    "    data.columns = data.columns.str.lower()\n",
    "\n",
    "orders['date'] = orders['date'].map(lambda x: dt.datetime.strptime(x, '%Y-%m-%d')) # приводим даты к формату дата/время\n",
    "visitors['date'] = visitors['date'].map(lambda x: dt.datetime.strptime(x, '%Y-%m-%d'))"
   ]
  },
  {
   "cell_type": "code",
   "execution_count": 7,
   "metadata": {},
   "outputs": [
    {
     "name": "stdout",
     "output_type": "stream",
     "text": [
      "<class 'pandas.core.frame.DataFrame'>\n",
      "Int64Index: 58 entries, 8300375 to 4266935830\n",
      "Data columns (total 2 columns):\n",
      " #   Column      Non-Null Count  Dtype \n",
      "---  ------      --------------  ----- \n",
      " 0   groups      58 non-null     int64 \n",
      " 1   group_name  58 non-null     object\n",
      "dtypes: int64(1), object(1)\n",
      "memory usage: 1.4+ KB\n"
     ]
    }
   ],
   "source": [
    "# проверим, нет ли задвоившихся пользователей, т.е. пользователей, попавших сразу в обе группы теста\n",
    "# группируем данные по пользователям и считаем кол-во групп\n",
    "duplicaed_users = orders.groupby('visitorid').agg({'group':['nunique', 'unique']})\n",
    "duplicaed_users.columns = ['groups', 'group_name']\n",
    "duplicaed_users = duplicaed_users.query('groups > 1') # выводим тех, у кого кол-во групп превышает 1\n",
    "duplicaed_users.info()"
   ]
  },
  {
   "cell_type": "markdown",
   "metadata": {},
   "source": [
    "При проверке на уникальность пользователей в группах обнаружили, что 58 пользователей попали в обе группы теста. В реальной жизни при получении подобных результатов А/В теста, встал бы вопрос о достоверности полученных данных (одно из условий А/В теста гласит, что пользователь, попавший в 1 группу, остается в ней до конца проведения теста). Однако в рамках проекта оставим данных пользователей и не будем удать из датасета, чтобы не исказить статистические данные."
   ]
  },
  {
   "cell_type": "markdown",
   "metadata": {},
   "source": [
    "## Приоритизация гипотез"
   ]
  },
  {
   "cell_type": "markdown",
   "metadata": {},
   "source": [
    "Чтобы максимизировать ожидаемое улучшение ключевых метрик бизнеса (увеличение выручки), приоритизируем сформулированные гипотезы. Для приоритизации используем 2 фреймворка и сравним полученные результаты. "
   ]
  },
  {
   "cell_type": "markdown",
   "metadata": {},
   "source": [
    "### Фреймворк ICE"
   ]
  },
  {
   "cell_type": "code",
   "execution_count": 8,
   "metadata": {},
   "outputs": [
    {
     "data": {
      "text/html": [
       "<div>\n",
       "<style scoped>\n",
       "    .dataframe tbody tr th:only-of-type {\n",
       "        vertical-align: middle;\n",
       "    }\n",
       "\n",
       "    .dataframe tbody tr th {\n",
       "        vertical-align: top;\n",
       "    }\n",
       "\n",
       "    .dataframe thead th {\n",
       "        text-align: right;\n",
       "    }\n",
       "</style>\n",
       "<table border=\"1\" class=\"dataframe\">\n",
       "  <thead>\n",
       "    <tr style=\"text-align: right;\">\n",
       "      <th></th>\n",
       "      <th>hypothesis</th>\n",
       "      <th>ICE</th>\n",
       "    </tr>\n",
       "  </thead>\n",
       "  <tbody>\n",
       "    <tr>\n",
       "      <th>8</th>\n",
       "      <td>Запустить акцию, дающую скидку на товар в день рождения</td>\n",
       "      <td>16.200000</td>\n",
       "    </tr>\n",
       "    <tr>\n",
       "      <th>0</th>\n",
       "      <td>Добавить два новых канала привлечения трафика, что позволит привлекать на 30% больше пользователей</td>\n",
       "      <td>13.333333</td>\n",
       "    </tr>\n",
       "    <tr>\n",
       "      <th>7</th>\n",
       "      <td>Добавить форму подписки на все основные страницы, чтобы собрать базу клиентов для email-рассылок</td>\n",
       "      <td>11.200000</td>\n",
       "    </tr>\n",
       "    <tr>\n",
       "      <th>6</th>\n",
       "      <td>Показать на главной странице баннеры с актуальными акциями и распродажами, чтобы увеличить конверсию</td>\n",
       "      <td>8.000000</td>\n",
       "    </tr>\n",
       "    <tr>\n",
       "      <th>2</th>\n",
       "      <td>Добавить блоки рекомендаций товаров на сайт интернет магазина, чтобы повысить конверсию и средний чек заказа</td>\n",
       "      <td>7.000000</td>\n",
       "    </tr>\n",
       "    <tr>\n",
       "      <th>1</th>\n",
       "      <td>Запустить собственную службу доставки, что сократит срок доставки заказов</td>\n",
       "      <td>2.000000</td>\n",
       "    </tr>\n",
       "    <tr>\n",
       "      <th>5</th>\n",
       "      <td>Добавить страницу отзывов клиентов о магазине, что позволит увеличить количество заказов</td>\n",
       "      <td>1.333333</td>\n",
       "    </tr>\n",
       "    <tr>\n",
       "      <th>3</th>\n",
       "      <td>Изменить структура категорий, что увеличит конверсию, т.к. пользователи быстрее найдут нужный товар</td>\n",
       "      <td>1.125000</td>\n",
       "    </tr>\n",
       "    <tr>\n",
       "      <th>4</th>\n",
       "      <td>Изменить цвет фона главной страницы, чтобы увеличить вовлеченность пользователей</td>\n",
       "      <td>1.000000</td>\n",
       "    </tr>\n",
       "  </tbody>\n",
       "</table>\n",
       "</div>"
      ],
      "text/plain": [
       "                                                                                                     hypothesis  \\\n",
       "8                                                       Запустить акцию, дающую скидку на товар в день рождения   \n",
       "0            Добавить два новых канала привлечения трафика, что позволит привлекать на 30% больше пользователей   \n",
       "7              Добавить форму подписки на все основные страницы, чтобы собрать базу клиентов для email-рассылок   \n",
       "6          Показать на главной странице баннеры с актуальными акциями и распродажами, чтобы увеличить конверсию   \n",
       "2  Добавить блоки рекомендаций товаров на сайт интернет магазина, чтобы повысить конверсию и средний чек заказа   \n",
       "1                                     Запустить собственную службу доставки, что сократит срок доставки заказов   \n",
       "5                      Добавить страницу отзывов клиентов о магазине, что позволит увеличить количество заказов   \n",
       "3           Изменить структура категорий, что увеличит конверсию, т.к. пользователи быстрее найдут нужный товар   \n",
       "4                              Изменить цвет фона главной страницы, чтобы увеличить вовлеченность пользователей   \n",
       "\n",
       "         ICE  \n",
       "8  16.200000  \n",
       "0  13.333333  \n",
       "7  11.200000  \n",
       "6   8.000000  \n",
       "2   7.000000  \n",
       "1   2.000000  \n",
       "5   1.333333  \n",
       "3   1.125000  \n",
       "4   1.000000  "
      ]
     },
     "execution_count": 8,
     "metadata": {},
     "output_type": "execute_result"
    }
   ],
   "source": [
    "hypothesis['ICE'] = (hypothesis['impact'] * hypothesis['confidence']) / hypothesis['efforts']\n",
    "hypothesis[['hypothesis', 'ICE']].sort_values(by='ICE', ascending=False)"
   ]
  },
  {
   "cell_type": "markdown",
   "metadata": {},
   "source": [
    "Наиболее перспективные гипотезы: 8, 0, 7, 6, 2."
   ]
  },
  {
   "cell_type": "markdown",
   "metadata": {},
   "source": [
    "### Фреймворк RICE"
   ]
  },
  {
   "cell_type": "code",
   "execution_count": 9,
   "metadata": {},
   "outputs": [
    {
     "data": {
      "text/html": [
       "<div>\n",
       "<style scoped>\n",
       "    .dataframe tbody tr th:only-of-type {\n",
       "        vertical-align: middle;\n",
       "    }\n",
       "\n",
       "    .dataframe tbody tr th {\n",
       "        vertical-align: top;\n",
       "    }\n",
       "\n",
       "    .dataframe thead th {\n",
       "        text-align: right;\n",
       "    }\n",
       "</style>\n",
       "<table border=\"1\" class=\"dataframe\">\n",
       "  <thead>\n",
       "    <tr style=\"text-align: right;\">\n",
       "      <th></th>\n",
       "      <th>hypothesis</th>\n",
       "      <th>RICE</th>\n",
       "    </tr>\n",
       "  </thead>\n",
       "  <tbody>\n",
       "    <tr>\n",
       "      <th>7</th>\n",
       "      <td>Добавить форму подписки на все основные страницы, чтобы собрать базу клиентов для email-рассылок</td>\n",
       "      <td>112.0</td>\n",
       "    </tr>\n",
       "    <tr>\n",
       "      <th>2</th>\n",
       "      <td>Добавить блоки рекомендаций товаров на сайт интернет магазина, чтобы повысить конверсию и средний чек заказа</td>\n",
       "      <td>56.0</td>\n",
       "    </tr>\n",
       "    <tr>\n",
       "      <th>0</th>\n",
       "      <td>Добавить два новых канала привлечения трафика, что позволит привлекать на 30% больше пользователей</td>\n",
       "      <td>40.0</td>\n",
       "    </tr>\n",
       "    <tr>\n",
       "      <th>6</th>\n",
       "      <td>Показать на главной странице баннеры с актуальными акциями и распродажами, чтобы увеличить конверсию</td>\n",
       "      <td>40.0</td>\n",
       "    </tr>\n",
       "    <tr>\n",
       "      <th>8</th>\n",
       "      <td>Запустить акцию, дающую скидку на товар в день рождения</td>\n",
       "      <td>16.2</td>\n",
       "    </tr>\n",
       "    <tr>\n",
       "      <th>3</th>\n",
       "      <td>Изменить структура категорий, что увеличит конверсию, т.к. пользователи быстрее найдут нужный товар</td>\n",
       "      <td>9.0</td>\n",
       "    </tr>\n",
       "    <tr>\n",
       "      <th>1</th>\n",
       "      <td>Запустить собственную службу доставки, что сократит срок доставки заказов</td>\n",
       "      <td>4.0</td>\n",
       "    </tr>\n",
       "    <tr>\n",
       "      <th>5</th>\n",
       "      <td>Добавить страницу отзывов клиентов о магазине, что позволит увеличить количество заказов</td>\n",
       "      <td>4.0</td>\n",
       "    </tr>\n",
       "    <tr>\n",
       "      <th>4</th>\n",
       "      <td>Изменить цвет фона главной страницы, чтобы увеличить вовлеченность пользователей</td>\n",
       "      <td>3.0</td>\n",
       "    </tr>\n",
       "  </tbody>\n",
       "</table>\n",
       "</div>"
      ],
      "text/plain": [
       "                                                                                                     hypothesis  \\\n",
       "7              Добавить форму подписки на все основные страницы, чтобы собрать базу клиентов для email-рассылок   \n",
       "2  Добавить блоки рекомендаций товаров на сайт интернет магазина, чтобы повысить конверсию и средний чек заказа   \n",
       "0            Добавить два новых канала привлечения трафика, что позволит привлекать на 30% больше пользователей   \n",
       "6          Показать на главной странице баннеры с актуальными акциями и распродажами, чтобы увеличить конверсию   \n",
       "8                                                       Запустить акцию, дающую скидку на товар в день рождения   \n",
       "3           Изменить структура категорий, что увеличит конверсию, т.к. пользователи быстрее найдут нужный товар   \n",
       "1                                     Запустить собственную службу доставки, что сократит срок доставки заказов   \n",
       "5                      Добавить страницу отзывов клиентов о магазине, что позволит увеличить количество заказов   \n",
       "4                              Изменить цвет фона главной страницы, чтобы увеличить вовлеченность пользователей   \n",
       "\n",
       "    RICE  \n",
       "7  112.0  \n",
       "2   56.0  \n",
       "0   40.0  \n",
       "6   40.0  \n",
       "8   16.2  \n",
       "3    9.0  \n",
       "1    4.0  \n",
       "5    4.0  \n",
       "4    3.0  "
      ]
     },
     "execution_count": 9,
     "metadata": {},
     "output_type": "execute_result"
    }
   ],
   "source": [
    "hypothesis['RICE'] = (hypothesis['reach'] * hypothesis['impact'] * hypothesis['confidence']) / hypothesis['efforts']\n",
    "hypothesis[['hypothesis', 'RICE']].sort_values(by='RICE', ascending=False)"
   ]
  },
  {
   "cell_type": "markdown",
   "metadata": {},
   "source": [
    "Наиболее перспективные гипотезы: 7, 2, 0, 6, 8."
   ]
  },
  {
   "cell_type": "code",
   "execution_count": 10,
   "metadata": {},
   "outputs": [
    {
     "data": {
      "text/html": [
       "<div>\n",
       "<style scoped>\n",
       "    .dataframe tbody tr th:only-of-type {\n",
       "        vertical-align: middle;\n",
       "    }\n",
       "\n",
       "    .dataframe tbody tr th {\n",
       "        vertical-align: top;\n",
       "    }\n",
       "\n",
       "    .dataframe thead th {\n",
       "        text-align: right;\n",
       "    }\n",
       "</style>\n",
       "<table border=\"1\" class=\"dataframe\">\n",
       "  <thead>\n",
       "    <tr style=\"text-align: right;\">\n",
       "      <th></th>\n",
       "      <th>hypothesis</th>\n",
       "      <th>reach</th>\n",
       "      <th>impact</th>\n",
       "      <th>confidence</th>\n",
       "      <th>efforts</th>\n",
       "      <th>ICE</th>\n",
       "      <th>RICE</th>\n",
       "    </tr>\n",
       "  </thead>\n",
       "  <tbody>\n",
       "    <tr>\n",
       "      <th>0</th>\n",
       "      <td>Добавить два новых канала привлечения трафика, что позволит привлекать на 30% больше пользователей</td>\n",
       "      <td>3</td>\n",
       "      <td>10</td>\n",
       "      <td>8</td>\n",
       "      <td>6</td>\n",
       "      <td>13.333333</td>\n",
       "      <td>40.0</td>\n",
       "    </tr>\n",
       "    <tr>\n",
       "      <th>1</th>\n",
       "      <td>Запустить собственную службу доставки, что сократит срок доставки заказов</td>\n",
       "      <td>2</td>\n",
       "      <td>5</td>\n",
       "      <td>4</td>\n",
       "      <td>10</td>\n",
       "      <td>2.000000</td>\n",
       "      <td>4.0</td>\n",
       "    </tr>\n",
       "    <tr>\n",
       "      <th>2</th>\n",
       "      <td>Добавить блоки рекомендаций товаров на сайт интернет магазина, чтобы повысить конверсию и средний чек заказа</td>\n",
       "      <td>8</td>\n",
       "      <td>3</td>\n",
       "      <td>7</td>\n",
       "      <td>3</td>\n",
       "      <td>7.000000</td>\n",
       "      <td>56.0</td>\n",
       "    </tr>\n",
       "    <tr>\n",
       "      <th>3</th>\n",
       "      <td>Изменить структура категорий, что увеличит конверсию, т.к. пользователи быстрее найдут нужный товар</td>\n",
       "      <td>8</td>\n",
       "      <td>3</td>\n",
       "      <td>3</td>\n",
       "      <td>8</td>\n",
       "      <td>1.125000</td>\n",
       "      <td>9.0</td>\n",
       "    </tr>\n",
       "    <tr>\n",
       "      <th>4</th>\n",
       "      <td>Изменить цвет фона главной страницы, чтобы увеличить вовлеченность пользователей</td>\n",
       "      <td>3</td>\n",
       "      <td>1</td>\n",
       "      <td>1</td>\n",
       "      <td>1</td>\n",
       "      <td>1.000000</td>\n",
       "      <td>3.0</td>\n",
       "    </tr>\n",
       "    <tr>\n",
       "      <th>5</th>\n",
       "      <td>Добавить страницу отзывов клиентов о магазине, что позволит увеличить количество заказов</td>\n",
       "      <td>3</td>\n",
       "      <td>2</td>\n",
       "      <td>2</td>\n",
       "      <td>3</td>\n",
       "      <td>1.333333</td>\n",
       "      <td>4.0</td>\n",
       "    </tr>\n",
       "    <tr>\n",
       "      <th>6</th>\n",
       "      <td>Показать на главной странице баннеры с актуальными акциями и распродажами, чтобы увеличить конверсию</td>\n",
       "      <td>5</td>\n",
       "      <td>3</td>\n",
       "      <td>8</td>\n",
       "      <td>3</td>\n",
       "      <td>8.000000</td>\n",
       "      <td>40.0</td>\n",
       "    </tr>\n",
       "    <tr>\n",
       "      <th>7</th>\n",
       "      <td>Добавить форму подписки на все основные страницы, чтобы собрать базу клиентов для email-рассылок</td>\n",
       "      <td>10</td>\n",
       "      <td>7</td>\n",
       "      <td>8</td>\n",
       "      <td>5</td>\n",
       "      <td>11.200000</td>\n",
       "      <td>112.0</td>\n",
       "    </tr>\n",
       "    <tr>\n",
       "      <th>8</th>\n",
       "      <td>Запустить акцию, дающую скидку на товар в день рождения</td>\n",
       "      <td>1</td>\n",
       "      <td>9</td>\n",
       "      <td>9</td>\n",
       "      <td>5</td>\n",
       "      <td>16.200000</td>\n",
       "      <td>16.2</td>\n",
       "    </tr>\n",
       "  </tbody>\n",
       "</table>\n",
       "</div>"
      ],
      "text/plain": [
       "                                                                                                     hypothesis  \\\n",
       "0            Добавить два новых канала привлечения трафика, что позволит привлекать на 30% больше пользователей   \n",
       "1                                     Запустить собственную службу доставки, что сократит срок доставки заказов   \n",
       "2  Добавить блоки рекомендаций товаров на сайт интернет магазина, чтобы повысить конверсию и средний чек заказа   \n",
       "3           Изменить структура категорий, что увеличит конверсию, т.к. пользователи быстрее найдут нужный товар   \n",
       "4                              Изменить цвет фона главной страницы, чтобы увеличить вовлеченность пользователей   \n",
       "5                      Добавить страницу отзывов клиентов о магазине, что позволит увеличить количество заказов   \n",
       "6          Показать на главной странице баннеры с актуальными акциями и распродажами, чтобы увеличить конверсию   \n",
       "7              Добавить форму подписки на все основные страницы, чтобы собрать базу клиентов для email-рассылок   \n",
       "8                                                       Запустить акцию, дающую скидку на товар в день рождения   \n",
       "\n",
       "   reach  impact  confidence  efforts        ICE   RICE  \n",
       "0      3      10           8        6  13.333333   40.0  \n",
       "1      2       5           4       10   2.000000    4.0  \n",
       "2      8       3           7        3   7.000000   56.0  \n",
       "3      8       3           3        8   1.125000    9.0  \n",
       "4      3       1           1        1   1.000000    3.0  \n",
       "5      3       2           2        3   1.333333    4.0  \n",
       "6      5       3           8        3   8.000000   40.0  \n",
       "7     10       7           8        5  11.200000  112.0  \n",
       "8      1       9           9        5  16.200000   16.2  "
      ]
     },
     "execution_count": 10,
     "metadata": {},
     "output_type": "execute_result"
    }
   ],
   "source": [
    "hypothesis # сравним параметры по гипотезам"
   ]
  },
  {
   "cell_type": "markdown",
   "metadata": {},
   "source": [
    "В зависимости от выбора ICE или RICE, к числу наиболее приоритетных гипотез относятся все те же гипотезы. Однако при применении RICE вместо ICE на 1-ое место выходит гипотеза 7, а наш лидер по ICE становится последним в 5-ке. Это связано, прежде всего, с параметром reach: у 7 гипотезы параметр выше всех, а у 8 гипотезы он ниже всех."
   ]
  },
  {
   "cell_type": "markdown",
   "metadata": {},
   "source": [
    "## Анализ A/B-теста"
   ]
  },
  {
   "cell_type": "markdown",
   "metadata": {},
   "source": [
    "\n",
    "Мы провели A/B-тест и получили результаты, которые описаны в файлах orders.csv и visitors.csv.\n",
    "Проанализируем A/B-тест."
   ]
  },
  {
   "cell_type": "markdown",
   "metadata": {},
   "source": [
    "###  График кумулятивной выручки по группам"
   ]
  },
  {
   "cell_type": "markdown",
   "metadata": {},
   "source": [
    "Чтобы построить графики, нужно собрать кумулятивные данные."
   ]
  },
  {
   "cell_type": "code",
   "execution_count": 11,
   "metadata": {},
   "outputs": [
    {
     "data": {
      "text/html": [
       "<div>\n",
       "<style scoped>\n",
       "    .dataframe tbody tr th:only-of-type {\n",
       "        vertical-align: middle;\n",
       "    }\n",
       "\n",
       "    .dataframe tbody tr th {\n",
       "        vertical-align: top;\n",
       "    }\n",
       "\n",
       "    .dataframe thead th {\n",
       "        text-align: right;\n",
       "    }\n",
       "</style>\n",
       "<table border=\"1\" class=\"dataframe\">\n",
       "  <thead>\n",
       "    <tr style=\"text-align: right;\">\n",
       "      <th></th>\n",
       "      <th>date</th>\n",
       "      <th>group</th>\n",
       "      <th>orders</th>\n",
       "      <th>buyers</th>\n",
       "      <th>revenue</th>\n",
       "      <th>visitors</th>\n",
       "    </tr>\n",
       "  </thead>\n",
       "  <tbody>\n",
       "    <tr>\n",
       "      <th>0</th>\n",
       "      <td>2019-08-01</td>\n",
       "      <td>A</td>\n",
       "      <td>24</td>\n",
       "      <td>20</td>\n",
       "      <td>148579</td>\n",
       "      <td>719</td>\n",
       "    </tr>\n",
       "    <tr>\n",
       "      <th>1</th>\n",
       "      <td>2019-08-01</td>\n",
       "      <td>B</td>\n",
       "      <td>21</td>\n",
       "      <td>20</td>\n",
       "      <td>101217</td>\n",
       "      <td>713</td>\n",
       "    </tr>\n",
       "    <tr>\n",
       "      <th>2</th>\n",
       "      <td>2019-08-02</td>\n",
       "      <td>A</td>\n",
       "      <td>44</td>\n",
       "      <td>38</td>\n",
       "      <td>242401</td>\n",
       "      <td>1338</td>\n",
       "    </tr>\n",
       "    <tr>\n",
       "      <th>3</th>\n",
       "      <td>2019-08-02</td>\n",
       "      <td>B</td>\n",
       "      <td>45</td>\n",
       "      <td>43</td>\n",
       "      <td>266748</td>\n",
       "      <td>1294</td>\n",
       "    </tr>\n",
       "    <tr>\n",
       "      <th>4</th>\n",
       "      <td>2019-08-03</td>\n",
       "      <td>A</td>\n",
       "      <td>68</td>\n",
       "      <td>62</td>\n",
       "      <td>354874</td>\n",
       "      <td>1845</td>\n",
       "    </tr>\n",
       "  </tbody>\n",
       "</table>\n",
       "</div>"
      ],
      "text/plain": [
       "        date group  orders  buyers  revenue  visitors\n",
       "0 2019-08-01     A      24      20   148579       719\n",
       "1 2019-08-01     B      21      20   101217       713\n",
       "2 2019-08-02     A      44      38   242401      1338\n",
       "3 2019-08-02     B      45      43   266748      1294\n",
       "4 2019-08-03     A      68      62   354874      1845"
      ]
     },
     "execution_count": 11,
     "metadata": {},
     "output_type": "execute_result"
    }
   ],
   "source": [
    "# создаем массив уникальных пар значений дат и групп теста\n",
    "datesGroups = orders[['date','group']].drop_duplicates()\n",
    "\n",
    "# получаем агрегированные кумулятивные по дням данные о заказах \n",
    "ordersAggregated = datesGroups.apply(lambda x: orders[np.logical_and(orders['date'] <= x['date'], orders['group'] == x['group'])]\\\n",
    "                                     .agg({'date' : 'max', \n",
    "                                           'group' : 'max', \n",
    "                                           'transactionid' : 'nunique', \n",
    "                                           'visitorid' : 'nunique', \n",
    "                                           'revenue' : 'sum'}), axis=1)\\\n",
    "                                    .sort_values(by=['date','group'])\n",
    "\n",
    "# получаем агрегированные кумулятивные по дням данные о посетителях интернет-магазина \n",
    "visitorsAggregated = datesGroups\\\n",
    "            .apply(lambda x: visitors[np.logical_and(visitors['date'] <= x['date'], visitors['group'] == x['group'])]\\\n",
    "                   .agg({'date' : 'max', \n",
    "                         'group' : 'max', \n",
    "                         'visitors' : 'sum'}), axis=1)\\\n",
    "            .sort_values(by=['date','group'])\n",
    "\n",
    "# объединяем кумулятивные данные в одной таблице и присваиваем ее столбцам понятные названия\n",
    "cumulativeData = ordersAggregated.merge(visitorsAggregated, left_on=['date', 'group'], right_on=['date', 'group'])\n",
    "cumulativeData.columns = ['date', 'group', 'orders', 'buyers', 'revenue', 'visitors']\n",
    "cumulativeData.head()\n"
   ]
  },
  {
   "cell_type": "code",
   "execution_count": 12,
   "metadata": {},
   "outputs": [
    {
     "data": {
      "image/png": "[encoded data removed]",
      "text/plain": [
       "<Figure size 1080x360 with 1 Axes>"
      ]
     },
     "metadata": {
      "needs_background": "light"
     },
     "output_type": "display_data"
    }
   ],
   "source": [
    "# датафрейм с кумулятивным количеством заказов и кумулятивной выручкой по дням в группе А\n",
    "cumulativeRevenueA = cumulativeData[cumulativeData['group']=='A'][['date','revenue', 'orders']]\n",
    "\n",
    "# датафрейм с кумулятивным количеством заказов и кумулятивной выручкой по дням в группе B\n",
    "cumulativeRevenueB = cumulativeData[cumulativeData['group']=='B'][['date','revenue', 'orders']]\n",
    "\n",
    "plt.figure(figsize=(15, 5))\n",
    "plt.ticklabel_format(axis = 'y', style = 'plain')\n",
    "\n",
    "# Строим график выручки группы А\n",
    "plt.plot(cumulativeRevenueA['date'], cumulativeRevenueA['revenue'], label='A')\n",
    "\n",
    "# Строим график выручки группы B\n",
    "plt.plot(cumulativeRevenueB['date'], cumulativeRevenueB['revenue'], label='B')\n",
    "plt.title('График кумулятивной выручки по группам')\n",
    "plt.xlabel('Дата проведения')\n",
    "plt.legend();"
   ]
  },
  {
   "cell_type": "markdown",
   "metadata": {},
   "source": [
    "Выручка почти равномерно увеличивается в течение всего теста.\n",
    "\n",
    "Однако график выручки группы В в нескольких точках резко растет. Это может сигнализировать о всплесках числа заказов, либо о появлении очень дорогих заказов в выборке - выбросах. "
   ]
  },
  {
   "cell_type": "markdown",
   "metadata": {},
   "source": [
    "###  График кумулятивного среднего чека по группам"
   ]
  },
  {
   "cell_type": "code",
   "execution_count": 13,
   "metadata": {},
   "outputs": [
    {
     "data": {
      "image/png": "[encoded data removed]",
      "text/plain": [
       "<Figure size 1080x360 with 1 Axes>"
      ]
     },
     "metadata": {
      "needs_background": "light"
     },
     "output_type": "display_data"
    }
   ],
   "source": [
    "plt.figure(figsize=(15, 5))\n",
    "\n",
    "# Строим график среднего чека группы А\n",
    "plt.plot(cumulativeRevenueA['date'], cumulativeRevenueA['revenue']/cumulativeRevenueA['orders'], label='A')\n",
    "\n",
    "# Строим график среднего чека группы В\n",
    "plt.plot(cumulativeRevenueB['date'], cumulativeRevenueB['revenue']/cumulativeRevenueB['orders'], label='B')\n",
    "plt.title('График кумулятивного среднего чека по группам')\n",
    "plt.xlabel('Дата проведения')\n",
    "plt.legend();"
   ]
  },
  {
   "cell_type": "markdown",
   "metadata": {},
   "source": [
    "Средний чек тоже стремится стать равномерным ближе к концу теста: установился для группы A и продолжает падать для группы B. Возможно, в группу B во второй половине теста попали крупные заказы (резкий всплеск на графике). Тогда ей нужно больше данных, чтобы прийти к реальному среднему чеку и установиться на его уровне."
   ]
  },
  {
   "cell_type": "markdown",
   "metadata": {},
   "source": [
    "###  График относительного изменения кумулятивного среднего чека группы B к группе A"
   ]
  },
  {
   "cell_type": "code",
   "execution_count": 14,
   "metadata": {},
   "outputs": [
    {
     "data": {
      "image/png": "[encoded data removed]",
      "text/plain": [
       "<Figure size 1080x360 with 1 Axes>"
      ]
     },
     "metadata": {
      "needs_background": "light"
     },
     "output_type": "display_data"
    }
   ],
   "source": [
    "# собираем данные в одном датафрейме\n",
    "mergedCumulativeRevenue = cumulativeRevenueA\\\n",
    "                                .merge(cumulativeRevenueB, left_on='date', right_on='date', how='left', suffixes=['A', 'B'])\n",
    "plt.figure(figsize=(15, 5))\n",
    "\n",
    "# cтроим отношение средних чеков\n",
    "plt.plot(mergedCumulativeRevenue['date'], \n",
    "         (mergedCumulativeRevenue['revenueB']/mergedCumulativeRevenue['ordersB'])/(mergedCumulativeRevenue['revenueA']/mergedCumulativeRevenue['ordersA'])-1)\n",
    "\n",
    "# добавляем ось X\n",
    "plt.axhline(y=0, color='black', linestyle='--')\n",
    "plt.title('График относительного изменения кумулятивного среднего чека группы B к группе A')\n",
    "plt.xlabel('Дата проведения');"
   ]
  },
  {
   "cell_type": "markdown",
   "metadata": {},
   "source": [
    "На графике относительного изменения кумулятивного среднего чека группы B к группе A заметны резкие скачки. Это еще один сигнал о наличии крупных заказов (выбросов) в группах."
   ]
  },
  {
   "cell_type": "markdown",
   "metadata": {},
   "source": [
    "###  График кумулятивной конверсии по группам"
   ]
  },
  {
   "cell_type": "code",
   "execution_count": 15,
   "metadata": {},
   "outputs": [
    {
     "data": {
      "image/png": "[encoded data removed]",
      "text/plain": [
       "<Figure size 1080x360 with 1 Axes>"
      ]
     },
     "metadata": {
      "needs_background": "light"
     },
     "output_type": "display_data"
    }
   ],
   "source": [
    "# считаем кумулятивную конверсию\n",
    "cumulativeData['conversion'] = cumulativeData['orders']/cumulativeData['visitors']\n",
    "\n",
    "# отделяем данные по группе A\n",
    "cumulativeDataA = cumulativeData[cumulativeData['group']=='A']\n",
    "\n",
    "# отделяем данные по группе B\n",
    "cumulativeDataB = cumulativeData[cumulativeData['group']=='B']\n",
    "\n",
    "# строим графики\n",
    "plt.figure(figsize=(15, 5))\n",
    "plt.plot(cumulativeDataA['date'], cumulativeDataA['conversion'], label='A')\n",
    "plt.plot(cumulativeDataB['date'], cumulativeDataB['conversion'], label='B')\n",
    "plt.title('График кумулятивной конверсии по группам')\n",
    "plt.xlabel('Дата проведения')\n",
    "plt.legend();"
   ]
  },
  {
   "cell_type": "markdown",
   "metadata": {},
   "source": [
    "Конверсии обеих групп не смогли прийти к схожему уровню или установиться на определенной отметке. Почти с самого начала теста группа В вырвалась вперед, а группа А просела. Проверим конверсию  по графику относительного различия кумулятивных конверсий."
   ]
  },
  {
   "cell_type": "markdown",
   "metadata": {},
   "source": [
    "###  График относительного изменения кумулятивной конверсии группы B к группе A"
   ]
  },
  {
   "cell_type": "code",
   "execution_count": 16,
   "metadata": {},
   "outputs": [
    {
     "data": {
      "image/png": "[encoded data removed]",
      "text/plain": [
       "<Figure size 1080x360 with 1 Axes>"
      ]
     },
     "metadata": {
      "needs_background": "light"
     },
     "output_type": "display_data"
    }
   ],
   "source": [
    "mergedCumulativeConversions = cumulativeDataA[['date','conversion']]\\\n",
    "            .merge(cumulativeDataB[['date','conversion']], left_on='date', right_on='date', how='left', suffixes=['A', 'B'])\n",
    "\n",
    "plt.figure(figsize=(15, 5))\n",
    "\n",
    "plt.plot(mergedCumulativeConversions['date'], mergedCumulativeConversions['conversionB']/mergedCumulativeConversions['conversionA']-1)\n",
    "\n",
    "plt.axhline(y=0, color='black', linestyle='--')\n",
    "plt.axhline(y=0.1, color='grey', linestyle='--')\n",
    "plt.title('График относительного изменения кумулятивной конверсии группы B к группе A')\n",
    "plt.xlabel('Дата проведения');"
   ]
  },
  {
   "cell_type": "markdown",
   "metadata": {},
   "source": [
    "В целом отношение конверсии ближе к концу теста стабилизировалось на уровне 0.1. **Иными словами, конверсия группы В лучше показателей группы А на 10%.** Однако делать выводы еще рано.  "
   ]
  },
  {
   "cell_type": "markdown",
   "metadata": {},
   "source": [
    "###  Точечный график количества заказов по пользователям"
   ]
  },
  {
   "cell_type": "code",
   "execution_count": 17,
   "metadata": {},
   "outputs": [
    {
     "data": {
      "image/png": "[encoded data removed]",
      "text/plain": [
       "<Figure size 1080x360 with 1 Axes>"
      ]
     },
     "metadata": {
      "needs_background": "light"
     },
     "output_type": "display_data"
    }
   ],
   "source": [
    "ordersByUsers = (orders.groupby('visitorid', as_index=False).agg({'transactionid': 'nunique'}))\n",
    "\n",
    "ordersByUsers.columns = ['visitor_id', 'transaction']\n",
    "\n",
    "x_values = pd.Series(range(0,len(ordersByUsers)))\n",
    "\n",
    "plt.figure(figsize=(15, 5))\n",
    "plt.scatter(x_values, ordersByUsers['transaction'])\n",
    "plt.title('График количества заказов по пользователям')\n",
    "plt.xlabel('Кол-во пользователей'); "
   ]
  },
  {
   "cell_type": "markdown",
   "metadata": {},
   "source": [
    "Как следует из графика, значительная доля пользователей оформили от 2 до 4 заказов. Но стоит ли считать это за выбросы? Проверим и посчитаем выборочные перцентили."
   ]
  },
  {
   "cell_type": "markdown",
   "metadata": {},
   "source": [
    "###  95-й и 99-й перцентили количества заказов на пользователя"
   ]
  },
  {
   "cell_type": "code",
   "execution_count": 18,
   "metadata": {},
   "outputs": [
    {
     "data": {
      "text/plain": [
       "array([2., 4.])"
      ]
     },
     "execution_count": 18,
     "metadata": {},
     "output_type": "execute_result"
    }
   ],
   "source": [
    "np.percentile(ordersByUsers['transaction'], [95, 99])"
   ]
  },
  {
   "cell_type": "markdown",
   "metadata": {},
   "source": [
    "Не более 5% пользователей оформили 2 заказа, и не более 1% - 4 заказа. Следовательно, возьмем за границу 2 заказа на пользователя, а все что выше - отсеим."
   ]
  },
  {
   "cell_type": "markdown",
   "metadata": {},
   "source": [
    "###  Точечный график стоимостей заказов"
   ]
  },
  {
   "cell_type": "code",
   "execution_count": 19,
   "metadata": {},
   "outputs": [
    {
     "data": {
      "image/png": "[encoded data removed]",
      "text/plain": [
       "<Figure size 1080x360 with 1 Axes>"
      ]
     },
     "metadata": {
      "needs_background": "light"
     },
     "output_type": "display_data"
    }
   ],
   "source": [
    "plt.figure(figsize=(15, 5))\n",
    "x_values = pd.Series(range(0,len(orders['revenue'])))\n",
    "plt.scatter(x_values, orders['revenue'])\n",
    "plt.title('График стоимостей заказов')\n",
    "plt.xlabel('Кол-во заказов'); "
   ]
  },
  {
   "cell_type": "code",
   "execution_count": 20,
   "metadata": {},
   "outputs": [
    {
     "data": {
      "image/png": "[encoded data removed]",
      "text/plain": [
       "<Figure size 1080x360 with 1 Axes>"
      ]
     },
     "metadata": {
      "needs_background": "light"
     },
     "output_type": "display_data"
    }
   ],
   "source": [
    "# увеличим масштаб графика для большей наглядности\n",
    "plt.figure(figsize=(15, 5))\n",
    "x_values = pd.Series(range(0,len(orders['revenue'])))\n",
    "plt.scatter(x_values, orders['revenue'])\n",
    "plt.ylim([0, 150000])\n",
    "plt.title('График стоимостей заказов в пределах 150 000')\n",
    "plt.xlabel('Кол-во заказов');"
   ]
  },
  {
   "cell_type": "markdown",
   "metadata": {},
   "source": [
    "В зависимости от стоимости заказа, на графике также видны выбросы - единичные заказы на крупные суммы. Определим, какие из них следует отсечь."
   ]
  },
  {
   "cell_type": "markdown",
   "metadata": {},
   "source": [
    "###  95-й и 99-й перцентили стоимости заказов"
   ]
  },
  {
   "cell_type": "code",
   "execution_count": 21,
   "metadata": {},
   "outputs": [
    {
     "data": {
      "text/plain": [
       "array([28000. , 58233.2])"
      ]
     },
     "execution_count": 21,
     "metadata": {},
     "output_type": "execute_result"
    }
   ],
   "source": [
    "np.percentile(orders['revenue'], [95, 99])"
   ]
  },
  {
   "cell_type": "markdown",
   "metadata": {},
   "source": [
    "Не более 5% пользователей совершили заказ на сумму свыше 28 000, и не более 1% - свыше 58 233-20. Следовательно, можно отбросить слишком дорогие заказы, чья стоимость превышает 28 000."
   ]
  },
  {
   "cell_type": "markdown",
   "metadata": {},
   "source": [
    "### Статистическая значимость различий в конверсии между группами по «сырым» данным"
   ]
  },
  {
   "cell_type": "markdown",
   "metadata": {},
   "source": [
    "Посчитаем статистическую значимость различий в конверсии между группами по «сырым» данным — без удаления аномальных пользователей. Сформулируем гипотезы:\n",
    "\n",
    "Н0: различий в конверсии между группами нет\n",
    "\n",
    "Н1: различия в конверсии между группами есть"
   ]
  },
  {
   "cell_type": "code",
   "execution_count": 22,
   "metadata": {},
   "outputs": [
    {
     "data": {
      "text/html": [
       "<div>\n",
       "<style scoped>\n",
       "    .dataframe tbody tr th:only-of-type {\n",
       "        vertical-align: middle;\n",
       "    }\n",
       "\n",
       "    .dataframe tbody tr th {\n",
       "        vertical-align: top;\n",
       "    }\n",
       "\n",
       "    .dataframe thead th {\n",
       "        text-align: right;\n",
       "    }\n",
       "</style>\n",
       "<table border=\"1\" class=\"dataframe\">\n",
       "  <thead>\n",
       "    <tr style=\"text-align: right;\">\n",
       "      <th></th>\n",
       "      <th>date</th>\n",
       "      <th>ordersPerDateA</th>\n",
       "      <th>revenuePerDateA</th>\n",
       "      <th>ordersPerDateB</th>\n",
       "      <th>revenuePerDateB</th>\n",
       "      <th>ordersCummulativeA</th>\n",
       "      <th>revenueCummulativeA</th>\n",
       "      <th>ordersCummulativeB</th>\n",
       "      <th>revenueCummulativeB</th>\n",
       "      <th>visitorsPerDateA</th>\n",
       "      <th>visitorsPerDateB</th>\n",
       "      <th>visitorsCummulativeA</th>\n",
       "      <th>visitorsCummulativeB</th>\n",
       "    </tr>\n",
       "  </thead>\n",
       "  <tbody>\n",
       "    <tr>\n",
       "      <th>0</th>\n",
       "      <td>2019-08-01</td>\n",
       "      <td>24</td>\n",
       "      <td>148579</td>\n",
       "      <td>20</td>\n",
       "      <td>101217</td>\n",
       "      <td>24</td>\n",
       "      <td>148579</td>\n",
       "      <td>20</td>\n",
       "      <td>101217</td>\n",
       "      <td>719</td>\n",
       "      <td>713</td>\n",
       "      <td>719</td>\n",
       "      <td>713</td>\n",
       "    </tr>\n",
       "    <tr>\n",
       "      <th>1</th>\n",
       "      <td>2019-08-02</td>\n",
       "      <td>20</td>\n",
       "      <td>93822</td>\n",
       "      <td>23</td>\n",
       "      <td>165531</td>\n",
       "      <td>44</td>\n",
       "      <td>242401</td>\n",
       "      <td>43</td>\n",
       "      <td>266748</td>\n",
       "      <td>619</td>\n",
       "      <td>581</td>\n",
       "      <td>1338</td>\n",
       "      <td>1294</td>\n",
       "    </tr>\n",
       "    <tr>\n",
       "      <th>2</th>\n",
       "      <td>2019-08-03</td>\n",
       "      <td>24</td>\n",
       "      <td>112473</td>\n",
       "      <td>16</td>\n",
       "      <td>114248</td>\n",
       "      <td>68</td>\n",
       "      <td>354874</td>\n",
       "      <td>59</td>\n",
       "      <td>380996</td>\n",
       "      <td>507</td>\n",
       "      <td>509</td>\n",
       "      <td>1845</td>\n",
       "      <td>1803</td>\n",
       "    </tr>\n",
       "    <tr>\n",
       "      <th>3</th>\n",
       "      <td>2019-08-04</td>\n",
       "      <td>16</td>\n",
       "      <td>70825</td>\n",
       "      <td>16</td>\n",
       "      <td>108571</td>\n",
       "      <td>84</td>\n",
       "      <td>425699</td>\n",
       "      <td>75</td>\n",
       "      <td>489567</td>\n",
       "      <td>717</td>\n",
       "      <td>770</td>\n",
       "      <td>2562</td>\n",
       "      <td>2573</td>\n",
       "    </tr>\n",
       "    <tr>\n",
       "      <th>4</th>\n",
       "      <td>2019-08-05</td>\n",
       "      <td>25</td>\n",
       "      <td>124218</td>\n",
       "      <td>23</td>\n",
       "      <td>92428</td>\n",
       "      <td>109</td>\n",
       "      <td>549917</td>\n",
       "      <td>98</td>\n",
       "      <td>581995</td>\n",
       "      <td>756</td>\n",
       "      <td>707</td>\n",
       "      <td>3318</td>\n",
       "      <td>3280</td>\n",
       "    </tr>\n",
       "  </tbody>\n",
       "</table>\n",
       "</div>"
      ],
      "text/plain": [
       "        date  ordersPerDateA  revenuePerDateA  ordersPerDateB  \\\n",
       "0 2019-08-01              24           148579              20   \n",
       "1 2019-08-02              20            93822              23   \n",
       "2 2019-08-03              24           112473              16   \n",
       "3 2019-08-04              16            70825              16   \n",
       "4 2019-08-05              25           124218              23   \n",
       "\n",
       "   revenuePerDateB  ordersCummulativeA  revenueCummulativeA  \\\n",
       "0           101217                  24               148579   \n",
       "1           165531                  44               242401   \n",
       "2           114248                  68               354874   \n",
       "3           108571                  84               425699   \n",
       "4            92428                 109               549917   \n",
       "\n",
       "   ordersCummulativeB  revenueCummulativeB  visitorsPerDateA  \\\n",
       "0                  20               101217               719   \n",
       "1                  43               266748               619   \n",
       "2                  59               380996               507   \n",
       "3                  75               489567               717   \n",
       "4                  98               581995               756   \n",
       "\n",
       "   visitorsPerDateB  visitorsCummulativeA  visitorsCummulativeB  \n",
       "0               713                   719                   713  \n",
       "1               581                  1338                  1294  \n",
       "2               509                  1845                  1803  \n",
       "3               770                  2562                  2573  \n",
       "4               707                  3318                  3280  "
      ]
     },
     "execution_count": 22,
     "metadata": {},
     "output_type": "execute_result"
    }
   ],
   "source": [
    "# разграничим исходные данные по группе теста и посчитаем кумулятивные данные в разрезе групп\n",
    "visitorsADaily = visitors[visitors['group'] == 'A'][['date', 'visitors']]\n",
    "visitorsADaily.columns = ['date', 'visitorsPerDateA']\n",
    "\n",
    "visitorsACummulative = visitorsADaily.apply(lambda x: visitorsADaily[visitorsADaily['date'] <= x['date']].agg(\n",
    "        {'date': 'max', 'visitorsPerDateA': 'sum'}), axis=1)\n",
    "\n",
    "visitorsACummulative.columns = ['date', 'visitorsCummulativeA']\n",
    "\n",
    "visitorsBDaily = visitors[visitors['group'] == 'B'][['date', 'visitors']]\n",
    "visitorsBDaily.columns = ['date', 'visitorsPerDateB']\n",
    "\n",
    "visitorsBCummulative = visitorsBDaily.apply(lambda x: visitorsBDaily[visitorsBDaily['date'] <= x['date']].agg(\n",
    "        {'date': 'max', 'visitorsPerDateB': 'sum'}), axis=1)\n",
    "\n",
    "visitorsBCummulative.columns = ['date', 'visitorsCummulativeB']\n",
    "\n",
    "ordersADaily = (\n",
    "    orders[orders['group'] == 'A'][['date', 'transactionid', 'visitorid', 'revenue']]\n",
    "    .groupby('date', as_index=False)\n",
    "    .agg({'transactionid': pd.Series.nunique, 'revenue': 'sum'})\n",
    ")\n",
    "ordersADaily.columns = ['date', 'ordersPerDateA', 'revenuePerDateA']\n",
    "\n",
    "ordersACummulative = ordersADaily.apply(\n",
    "    lambda x: ordersADaily[ordersADaily['date'] <= x['date']].agg(\n",
    "        {'date': 'max', 'ordersPerDateA': 'sum', 'revenuePerDateA': 'sum'}\n",
    "    ),\n",
    "    axis=1,\n",
    ").sort_values(by=['date'])\n",
    "\n",
    "ordersACummulative.columns = [\n",
    "    'date',\n",
    "    'ordersCummulativeA',\n",
    "    'revenueCummulativeA',\n",
    "]\n",
    "\n",
    "ordersBDaily = (\n",
    "    orders[orders['group'] == 'B'][['date', 'transactionid', 'visitorid', 'revenue']]\n",
    "    .groupby('date', as_index=False)\n",
    "    .agg({'visitorid': pd.Series.nunique, 'revenue': 'sum'})\n",
    ")\n",
    "ordersBDaily.columns = ['date', 'ordersPerDateB', 'revenuePerDateB']\n",
    "\n",
    "ordersBCummulative = ordersBDaily.apply(\n",
    "    lambda x: ordersBDaily[ordersBDaily['date'] <= x['date']].agg(\n",
    "        {'date': 'max', 'ordersPerDateB': 'sum', 'revenuePerDateB': 'sum'}\n",
    "    ),\n",
    "    axis=1,\n",
    ").sort_values(by=['date'])\n",
    "\n",
    "ordersBCummulative.columns = [\n",
    "    'date',\n",
    "    'ordersCummulativeB',\n",
    "    'revenueCummulativeB',\n",
    "]\n",
    "# формируем новый датасет\n",
    "data = (\n",
    "    ordersADaily.merge(\n",
    "        ordersBDaily, left_on='date', right_on='date', how='left'\n",
    "    )\n",
    "    .merge(ordersACummulative, left_on='date', right_on='date', how='left')\n",
    "    .merge(ordersBCummulative, left_on='date', right_on='date', how='left')\n",
    "    .merge(visitorsADaily, left_on='date', right_on='date', how='left')\n",
    "    .merge(visitorsBDaily, left_on='date', right_on='date', how='left')\n",
    "    .merge(visitorsACummulative, left_on='date', right_on='date', how='left')\n",
    "    .merge(visitorsBCummulative, left_on='date', right_on='date', how='left')\n",
    ")\n",
    "\n",
    "data.head()"
   ]
  },
  {
   "cell_type": "code",
   "execution_count": 23,
   "metadata": {},
   "outputs": [],
   "source": [
    "# найдем число совершённых заказов для каждой группы\n",
    "ordersByUsersA = (\n",
    "    orders[orders['group'] == 'A']\n",
    "    .groupby('visitorid', as_index=False)\n",
    "    .agg({'transactionid': pd.Series.nunique})\n",
    ")\n",
    "ordersByUsersA.columns = ['visitorid', 'orders'] # переименуем для удобства столбцы\n",
    "\n",
    "ordersByUsersB = (\n",
    "    orders[orders['group'] == 'B']\n",
    "    .groupby('visitorid', as_index=False)\n",
    "    .agg({'transactionid': pd.Series.nunique})\n",
    ")\n",
    "ordersByUsersB.columns = ['visitorid', 'orders'] "
   ]
  },
  {
   "cell_type": "code",
   "execution_count": 24,
   "metadata": {},
   "outputs": [
    {
     "name": "stdout",
     "output_type": "stream",
     "text": [
      "0.017\n",
      "0.138\n",
      "Отвергаем нулевую гипотезу\n"
     ]
    }
   ],
   "source": [
    "# подготавливаем выборки к проверке критерием Манна-Уитни: \n",
    "# прописываем каждому пользователю из группы кол-во совершенных заказов\n",
    "sampleA = pd.concat([ordersByUsersA['orders'],\n",
    "         pd.Series(0, index=np.arange(data['visitorsPerDateA'].sum() - len(ordersByUsersA['orders'])), name='orders')\n",
    "        ],\n",
    "        axis=0)\n",
    "\n",
    "sampleB = pd.concat([ordersByUsersB['orders'],\n",
    "        pd.Series(0, index=np.arange(data['visitorsPerDateB'].sum() - len(ordersByUsersB['orders'])), name='orders')\n",
    "        ],\n",
    "        axis=0)\n",
    "\n",
    "alpha = .05 # Установим критический уровень статистической значимости в размере 5%\n",
    "\n",
    "print(\"{0:.3f}\".format(stats.mannwhitneyu(sampleA, sampleB)[1]))\n",
    "\n",
    "print(\"{0:.3f}\".format(sampleB.mean() / sampleA.mean() - 1))\n",
    "\n",
    "if ((stats.mannwhitneyu(sampleA, sampleB)[1]) < alpha):\n",
    "    print(\"Отвергаем нулевую гипотезу\")\n",
    "else:\n",
    "    print(\"Не получилось отвергнуть нулевую гипотезу\")"
   ]
  },
  {
   "cell_type": "markdown",
   "metadata": {},
   "source": [
    "По «сырым» данным можно предположить, что различия в конверсии между группами A и B есть (p-value = 0.017 меньше чем 0.05), причем группа В выигрывает на 13%. "
   ]
  },
  {
   "cell_type": "markdown",
   "metadata": {},
   "source": [
    "### Статистическая значимость различий в среднем чеке заказа между группами по «сырым» данным"
   ]
  },
  {
   "cell_type": "markdown",
   "metadata": {},
   "source": [
    "Теперь проверим статистическую значимость различий в среднем чеке между сегментами. \n",
    "\n",
    "Н0: различий в среднем чеке между группами нет. \n",
    "\n",
    "Н1: различия в среднем чеке между группами есть."
   ]
  },
  {
   "cell_type": "code",
   "execution_count": 25,
   "metadata": {},
   "outputs": [
    {
     "name": "stdout",
     "output_type": "stream",
     "text": [
      "0.729\n",
      "0.259\n",
      "Не получилось отвергнуть нулевую гипотезу\n"
     ]
    }
   ],
   "source": [
    "print('{0:.3f}'.format(stats.mannwhitneyu(orders[orders['group']=='A']['revenue'], orders[orders['group']=='B']['revenue'])[1]))\n",
    "print('{0:.3f}'.format(orders[orders['group']=='B']['revenue'].mean()/orders[orders['group']=='A']['revenue'].mean()-1))\n",
    "if ((stats.mannwhitneyu(orders[orders['group']=='A']['revenue'], orders[orders['group']=='B']['revenue'])[1]) < alpha):\n",
    "    print(\"Отвергаем нулевую гипотезу\")\n",
    "else:\n",
    "    print(\"Не получилось отвергнуть нулевую гипотезу\")"
   ]
  },
  {
   "cell_type": "markdown",
   "metadata": {},
   "source": [
    "P-value значительно больше 0.05. Значит, причин отвергать нулевую гипотезу и считать, что в среднем чеке есть различия, нет. **Однако, мы видим, что  средний чек группы B значительно выше среднего чека группы A (на 26%). Причина кроется в выбросах: мы посчитали метрики по \"сырым\" данным, т.е. на результаты теста оказали влияние аномально большие заказы.**"
   ]
  },
  {
   "cell_type": "markdown",
   "metadata": {},
   "source": [
    "### Статистическая значимость различий в конверсии между группами по «очищенным» данным"
   ]
  },
  {
   "cell_type": "markdown",
   "metadata": {},
   "source": [
    "Чтобы посчитать значимость различий в конверсии между группами по «очищенным» данным, необходимо избавиться от выбросов. Ранее мы определили границы по кол-ву заказов и по их сумме. Применим ограничения."
   ]
  },
  {
   "cell_type": "code",
   "execution_count": 26,
   "metadata": {},
   "outputs": [],
   "source": [
    "# найдем тех, кто попадает в категорию выбросов по кол-ву заказов\n",
    "usersWithManyOrders = pd.concat(\n",
    "    [\n",
    "        ordersByUsersA[ordersByUsersA['orders'] > 2]['visitorid'],\n",
    "        ordersByUsersB[ordersByUsersB['orders'] > 2]['visitorid'],\n",
    "    ],\n",
    "    axis=0,\n",
    ")\n",
    "# найдем тех, кто попадает в категорию выбросов по сумме чека\n",
    "usersWithExpensiveOrders = orders[orders['revenue'] > 28000]['visitorid']\n",
    "# группируем выбивающихся пользователей вместе\n",
    "abnormalUsers = (\n",
    "    pd.concat([usersWithManyOrders, usersWithExpensiveOrders], axis=0)\n",
    "    .drop_duplicates()\n",
    "    .sort_values()\n",
    ")\n"
   ]
  },
  {
   "cell_type": "code",
   "execution_count": 27,
   "metadata": {},
   "outputs": [
    {
     "name": "stdout",
     "output_type": "stream",
     "text": [
      "0.013\n",
      "0.173\n",
      "Отвергаем нулевую гипотезу\n"
     ]
    }
   ],
   "source": [
    "sampleAFiltered = pd.concat(\n",
    "    [\n",
    "        ordersByUsersA[\n",
    "            np.logical_not(ordersByUsersA['visitorid'].isin(abnormalUsers))# исключаем выбросы\n",
    "        ]['orders'],\n",
    "        pd.Series(\n",
    "            0,\n",
    "            index=np.arange(\n",
    "                data['visitorsPerDateA'].sum() - len(ordersByUsersA['orders'])\n",
    "            ),\n",
    "            name='orders',\n",
    "        ),\n",
    "    ],\n",
    "    axis=0,\n",
    ")\n",
    "\n",
    "sampleBFiltered = pd.concat(\n",
    "    [\n",
    "        ordersByUsersB[\n",
    "            np.logical_not(ordersByUsersB['visitorid'].isin(abnormalUsers))# исключаем выбросы\n",
    "        ]['orders'],\n",
    "        pd.Series(\n",
    "            0,\n",
    "            index=np.arange(\n",
    "                data['visitorsPerDateB'].sum() - len(ordersByUsersB['orders'])\n",
    "            ),\n",
    "            name='orders',\n",
    "        ),\n",
    "    ],\n",
    "    axis=0,\n",
    ")\n",
    "\n",
    "\n",
    "print('{0:.3f}'.format(stats.mannwhitneyu(sampleAFiltered, sampleBFiltered)[1]))\n",
    "print('{0:.3f}'.format(sampleBFiltered.mean()/sampleAFiltered.mean()-1)) \n",
    "if ((stats.mannwhitneyu(sampleAFiltered, sampleBFiltered)[1]) < alpha):\n",
    "    print(\"Отвергаем нулевую гипотезу\")\n",
    "else:\n",
    "    print(\"Не получилось отвергнуть нулевую гипотезу\")"
   ]
  },
  {
   "cell_type": "markdown",
   "metadata": {},
   "source": [
    "Результаты по конверсии практически не изменились. Произошло ли что-нибудь с результатами по среднему чеку?"
   ]
  },
  {
   "cell_type": "markdown",
   "metadata": {},
   "source": [
    "### Статистическая значимость различий в среднем чеке заказа между группами по «очищенным» данным"
   ]
  },
  {
   "cell_type": "code",
   "execution_count": 28,
   "metadata": {},
   "outputs": [
    {
     "name": "stdout",
     "output_type": "stream",
     "text": [
      "0.738\n",
      "-0.020\n",
      "Не получилось отвергнуть нулевую гипотезу\n"
     ]
    }
   ],
   "source": [
    "print(\n",
    "    '{0:.3f}'.format(\n",
    "        stats.mannwhitneyu(\n",
    "            orders[\n",
    "                np.logical_and(\n",
    "                    orders['group'] == 'A',\n",
    "                    np.logical_not(orders['visitorid'].isin(abnormalUsers)),\n",
    "                )\n",
    "            ]['revenue'],\n",
    "            orders[\n",
    "                np.logical_and(\n",
    "                    orders['group'] == 'B',\n",
    "                    np.logical_not(orders['visitorid'].isin(abnormalUsers)),\n",
    "                )\n",
    "            ]['revenue'],\n",
    "        )[1]\n",
    "    )\n",
    ")\n",
    "\n",
    "print(\n",
    "    \"{0:.3f}\".format(\n",
    "        orders[\n",
    "            np.logical_and(\n",
    "                orders['group'] == 'B',\n",
    "                np.logical_not(orders['visitorid'].isin(abnormalUsers)),\n",
    "            )\n",
    "        ]['revenue'].mean()\n",
    "        / orders[\n",
    "            np.logical_and(\n",
    "                orders['group'] == 'A',\n",
    "                np.logical_not(orders['visitorid'].isin(abnormalUsers)),\n",
    "            )\n",
    "        ]['revenue'].mean()\n",
    "        - 1\n",
    "    )\n",
    ")\n",
    "if ((stats.mannwhitneyu(\n",
    "            orders[\n",
    "                np.logical_and(\n",
    "                    orders['group'] == 'A',\n",
    "                    np.logical_not(orders['visitorid'].isin(abnormalUsers)),\n",
    "                )\n",
    "            ]['revenue'],\n",
    "            orders[\n",
    "                np.logical_and(\n",
    "                    orders['group'] == 'B',\n",
    "                    np.logical_not(orders['visitorid'].isin(abnormalUsers)),\n",
    "                )\n",
    "            ]['revenue'],\n",
    "        )[1]) < alpha):\n",
    "    print(\"Отвергаем нулевую гипотезу\")\n",
    "else:\n",
    "    print(\"Не получилось отвергнуть нулевую гипотезу\")"
   ]
  },
  {
   "cell_type": "markdown",
   "metadata": {},
   "source": [
    "P-value увеличился, но и разница между сегментами сократилась."
   ]
  },
  {
   "cell_type": "markdown",
   "metadata": {},
   "source": [
    "### Принятие решения по результатам теста "
   ]
  },
  {
   "cell_type": "markdown",
   "metadata": {},
   "source": [
    "Какие выводы по тесту можем сделать?\n",
    "\n",
    "Имеющиеся факты:\n",
    "\n",
    "- Есть статистически значимое различие по конверсии между группами как по «сырым», так и по данным после фильтрации аномалий;\n",
    "- Нет статистически значимого различия по среднему чеку между группами ни по «сырым», ни по данным после фильтрации аномалий;\n",
    "- График различия конверсии между группами сообщает, что результаты группы B лучше группы A, наблюдается положительный тренд;\n",
    "- График различия среднего чека говорит о том, что результаты группы B на данный момент показывают отрицательный тренд, но в целом нельзя сказать, что результаты группы В хуже."
   ]
  },
  {
   "cell_type": "markdown",
   "metadata": {},
   "source": [
    "Исходя из обнаруженных фактов, тест следует остановить и признать победу группы В."
   ]
  }
 ],
 "metadata": {
  "ExecuteTimeLog": [
   {
    "duration": 571,
    "start_time": "2022-04-18T09:24:29.160Z"
   },
   {
    "duration": 29,
    "start_time": "2022-04-18T09:24:30.739Z"
   },
   {
    "duration": 52,
    "start_time": "2022-04-18T09:26:13.336Z"
   },
   {
    "duration": 52,
    "start_time": "2022-04-18T09:26:36.412Z"
   },
   {
    "duration": 37,
    "start_time": "2022-04-18T09:26:55.350Z"
   },
   {
    "duration": 49,
    "start_time": "2022-04-18T09:33:58.122Z"
   },
   {
    "duration": 45,
    "start_time": "2022-04-18T09:34:51.739Z"
   },
   {
    "duration": 34,
    "start_time": "2022-04-18T09:35:15.500Z"
   },
   {
    "duration": 48,
    "start_time": "2022-04-18T09:37:59.366Z"
   },
   {
    "duration": 7,
    "start_time": "2022-04-18T09:42:09.076Z"
   },
   {
    "duration": 19,
    "start_time": "2022-04-18T09:42:22.678Z"
   },
   {
    "duration": 27,
    "start_time": "2022-04-18T09:42:35.102Z"
   },
   {
    "duration": 16,
    "start_time": "2022-04-18T09:43:15.117Z"
   },
   {
    "duration": 93,
    "start_time": "2022-04-18T09:44:16.650Z"
   },
   {
    "duration": 16,
    "start_time": "2022-04-18T09:44:41.094Z"
   },
   {
    "duration": 20,
    "start_time": "2022-04-18T09:44:50.669Z"
   },
   {
    "duration": 13,
    "start_time": "2022-04-18T09:45:01.246Z"
   },
   {
    "duration": 19,
    "start_time": "2022-04-18T09:45:17.886Z"
   },
   {
    "duration": 477,
    "start_time": "2022-04-18T09:45:44.275Z"
   },
   {
    "duration": 39,
    "start_time": "2022-04-18T09:45:44.755Z"
   },
   {
    "duration": 59,
    "start_time": "2022-04-18T09:45:44.796Z"
   },
   {
    "duration": 47,
    "start_time": "2022-04-18T09:45:44.857Z"
   },
   {
    "duration": 63,
    "start_time": "2022-04-18T09:45:44.906Z"
   },
   {
    "duration": 5,
    "start_time": "2022-04-18T09:45:44.971Z"
   },
   {
    "duration": 17,
    "start_time": "2022-04-18T09:45:44.978Z"
   },
   {
    "duration": 15,
    "start_time": "2022-04-18T09:46:04.817Z"
   },
   {
    "duration": 17,
    "start_time": "2022-04-18T09:50:35.728Z"
   },
   {
    "duration": 14,
    "start_time": "2022-04-18T10:13:51.209Z"
   },
   {
    "duration": 534,
    "start_time": "2022-04-18T10:49:38.718Z"
   },
   {
    "duration": 39,
    "start_time": "2022-04-18T10:49:39.255Z"
   },
   {
    "duration": 66,
    "start_time": "2022-04-18T10:49:39.296Z"
   },
   {
    "duration": 46,
    "start_time": "2022-04-18T10:49:39.366Z"
   },
   {
    "duration": 77,
    "start_time": "2022-04-18T10:49:39.414Z"
   },
   {
    "duration": 719,
    "start_time": "2022-04-18T10:49:39.494Z"
   },
   {
    "duration": 0,
    "start_time": "2022-04-18T10:49:40.215Z"
   },
   {
    "duration": 0,
    "start_time": "2022-04-18T10:49:40.217Z"
   },
   {
    "duration": 0,
    "start_time": "2022-04-18T10:49:40.218Z"
   },
   {
    "duration": 39,
    "start_time": "2022-04-18T10:50:25.029Z"
   },
   {
    "duration": 657,
    "start_time": "2022-04-18T10:50:45.025Z"
   },
   {
    "duration": 707,
    "start_time": "2022-04-18T10:51:02.749Z"
   },
   {
    "duration": 45,
    "start_time": "2022-04-18T10:51:03.459Z"
   },
   {
    "duration": 84,
    "start_time": "2022-04-18T10:51:03.507Z"
   },
   {
    "duration": 74,
    "start_time": "2022-04-18T10:51:03.595Z"
   },
   {
    "duration": 35,
    "start_time": "2022-04-18T10:51:03.672Z"
   },
   {
    "duration": 63,
    "start_time": "2022-04-18T10:51:03.709Z"
   },
   {
    "duration": 24,
    "start_time": "2022-04-18T10:51:03.774Z"
   },
   {
    "duration": 16,
    "start_time": "2022-04-18T10:51:03.800Z"
   },
   {
    "duration": 41,
    "start_time": "2022-04-18T10:51:03.818Z"
   },
   {
    "duration": 613,
    "start_time": "2022-04-18T10:52:28.820Z"
   },
   {
    "duration": 533,
    "start_time": "2022-04-18T10:52:35.028Z"
   },
   {
    "duration": 39,
    "start_time": "2022-04-18T10:52:35.564Z"
   },
   {
    "duration": 59,
    "start_time": "2022-04-18T10:52:35.605Z"
   },
   {
    "duration": 48,
    "start_time": "2022-04-18T10:52:35.668Z"
   },
   {
    "duration": 68,
    "start_time": "2022-04-18T10:52:35.718Z"
   },
   {
    "duration": 80,
    "start_time": "2022-04-18T10:52:35.789Z"
   },
   {
    "duration": 33,
    "start_time": "2022-04-18T10:52:35.872Z"
   },
   {
    "duration": 16,
    "start_time": "2022-04-18T10:52:35.909Z"
   },
   {
    "duration": 37,
    "start_time": "2022-04-18T10:52:35.928Z"
   },
   {
    "duration": 643,
    "start_time": "2022-04-18T10:52:49.283Z"
   },
   {
    "duration": 476,
    "start_time": "2022-04-18T10:52:55.679Z"
   },
   {
    "duration": 39,
    "start_time": "2022-04-18T10:52:56.157Z"
   },
   {
    "duration": 58,
    "start_time": "2022-04-18T10:52:56.198Z"
   },
   {
    "duration": 44,
    "start_time": "2022-04-18T10:52:56.260Z"
   },
   {
    "duration": 72,
    "start_time": "2022-04-18T10:52:56.306Z"
   },
   {
    "duration": 22,
    "start_time": "2022-04-18T10:52:56.382Z"
   },
   {
    "duration": 52,
    "start_time": "2022-04-18T10:52:56.406Z"
   },
   {
    "duration": 16,
    "start_time": "2022-04-18T10:52:56.460Z"
   },
   {
    "duration": 35,
    "start_time": "2022-04-18T10:52:56.479Z"
   },
   {
    "duration": 465,
    "start_time": "2022-04-18T11:22:24.224Z"
   },
   {
    "duration": 1099,
    "start_time": "2022-04-18T11:23:51.456Z"
   },
   {
    "duration": 39,
    "start_time": "2022-04-18T11:23:52.558Z"
   },
   {
    "duration": 54,
    "start_time": "2022-04-18T11:23:52.599Z"
   },
   {
    "duration": 44,
    "start_time": "2022-04-18T11:23:52.656Z"
   },
   {
    "duration": 61,
    "start_time": "2022-04-18T11:23:52.702Z"
   },
   {
    "duration": 23,
    "start_time": "2022-04-18T11:23:52.765Z"
   },
   {
    "duration": 19,
    "start_time": "2022-04-18T11:23:52.790Z"
   },
   {
    "duration": 44,
    "start_time": "2022-04-18T11:23:52.812Z"
   },
   {
    "duration": 18,
    "start_time": "2022-04-18T11:23:52.859Z"
   },
   {
    "duration": 480,
    "start_time": "2022-04-18T11:23:52.880Z"
   },
   {
    "duration": 406,
    "start_time": "2022-04-18T11:26:37.357Z"
   },
   {
    "duration": 274,
    "start_time": "2022-04-18T11:27:41.001Z"
   },
   {
    "duration": 270,
    "start_time": "2022-04-18T11:27:56.522Z"
   },
   {
    "duration": 331,
    "start_time": "2022-04-18T11:28:04.071Z"
   },
   {
    "duration": 363,
    "start_time": "2022-04-18T11:29:06.840Z"
   },
   {
    "duration": 266,
    "start_time": "2022-04-18T11:29:33.708Z"
   },
   {
    "duration": 440,
    "start_time": "2022-04-18T11:32:44.882Z"
   },
   {
    "duration": 308,
    "start_time": "2022-04-18T11:33:06.682Z"
   },
   {
    "duration": 323,
    "start_time": "2022-04-18T11:36:14.223Z"
   },
   {
    "duration": 317,
    "start_time": "2022-04-18T11:36:30.371Z"
   },
   {
    "duration": 313,
    "start_time": "2022-04-18T11:45:49.973Z"
   },
   {
    "duration": 322,
    "start_time": "2022-04-18T11:45:58.349Z"
   },
   {
    "duration": 326,
    "start_time": "2022-04-18T11:46:24.233Z"
   },
   {
    "duration": 298,
    "start_time": "2022-04-18T11:53:53.910Z"
   },
   {
    "duration": 509,
    "start_time": "2022-04-18T11:55:28.543Z"
   },
   {
    "duration": 401,
    "start_time": "2022-04-18T11:55:50.655Z"
   },
   {
    "duration": 397,
    "start_time": "2022-04-18T11:56:07.456Z"
   },
   {
    "duration": 318,
    "start_time": "2022-04-18T12:00:13.424Z"
   },
   {
    "duration": 310,
    "start_time": "2022-04-18T12:00:30.941Z"
   },
   {
    "duration": 328,
    "start_time": "2022-04-18T12:01:07.571Z"
   },
   {
    "duration": 353,
    "start_time": "2022-04-18T12:01:21.458Z"
   },
   {
    "duration": 459,
    "start_time": "2022-04-18T12:18:41.689Z"
   },
   {
    "duration": 428,
    "start_time": "2022-04-18T12:19:10.677Z"
   },
   {
    "duration": 426,
    "start_time": "2022-04-18T12:21:19.582Z"
   },
   {
    "duration": 415,
    "start_time": "2022-04-18T12:21:32.938Z"
   },
   {
    "duration": 490,
    "start_time": "2022-04-18T13:07:58.852Z"
   },
   {
    "duration": 216,
    "start_time": "2022-04-18T13:29:36.751Z"
   },
   {
    "duration": 193,
    "start_time": "2022-04-18T13:29:47.431Z"
   },
   {
    "duration": 231,
    "start_time": "2022-04-18T13:30:15.796Z"
   },
   {
    "duration": 228,
    "start_time": "2022-04-18T13:30:43.581Z"
   },
   {
    "duration": 175,
    "start_time": "2022-04-18T13:41:19.221Z"
   },
   {
    "duration": 210,
    "start_time": "2022-04-18T13:41:52.025Z"
   },
   {
    "duration": 6,
    "start_time": "2022-04-18T13:54:27.343Z"
   },
   {
    "duration": 232,
    "start_time": "2022-04-18T13:58:48.628Z"
   },
   {
    "duration": 174,
    "start_time": "2022-04-18T14:00:23.400Z"
   },
   {
    "duration": 7,
    "start_time": "2022-04-18T14:02:22.532Z"
   },
   {
    "duration": 377,
    "start_time": "2022-04-18T14:41:34.884Z"
   },
   {
    "duration": 13,
    "start_time": "2022-04-18T14:56:31.623Z"
   },
   {
    "duration": 262,
    "start_time": "2022-04-18T14:56:44.926Z"
   },
   {
    "duration": 9,
    "start_time": "2022-04-18T14:56:47.278Z"
   },
   {
    "duration": 886,
    "start_time": "2022-04-18T14:57:01.531Z"
   },
   {
    "duration": 39,
    "start_time": "2022-04-18T14:57:02.420Z"
   },
   {
    "duration": 53,
    "start_time": "2022-04-18T14:57:02.461Z"
   },
   {
    "duration": 65,
    "start_time": "2022-04-18T14:57:02.517Z"
   },
   {
    "duration": 33,
    "start_time": "2022-04-18T14:57:02.584Z"
   },
   {
    "duration": 51,
    "start_time": "2022-04-18T14:57:02.619Z"
   },
   {
    "duration": 22,
    "start_time": "2022-04-18T14:57:02.673Z"
   },
   {
    "duration": 16,
    "start_time": "2022-04-18T14:57:02.697Z"
   },
   {
    "duration": 43,
    "start_time": "2022-04-18T14:57:02.715Z"
   },
   {
    "duration": 478,
    "start_time": "2022-04-18T14:57:02.762Z"
   },
   {
    "duration": 461,
    "start_time": "2022-04-18T14:57:03.242Z"
   },
   {
    "duration": 311,
    "start_time": "2022-04-18T14:57:03.705Z"
   },
   {
    "duration": 432,
    "start_time": "2022-04-18T14:57:04.018Z"
   },
   {
    "duration": 395,
    "start_time": "2022-04-18T14:57:04.453Z"
   },
   {
    "duration": 400,
    "start_time": "2022-04-18T14:57:04.852Z"
   },
   {
    "duration": 224,
    "start_time": "2022-04-18T14:57:05.254Z"
   },
   {
    "duration": 6,
    "start_time": "2022-04-18T14:57:05.480Z"
   },
   {
    "duration": 258,
    "start_time": "2022-04-18T14:57:05.488Z"
   },
   {
    "duration": 9,
    "start_time": "2022-04-18T14:57:05.752Z"
   },
   {
    "duration": 411,
    "start_time": "2022-04-18T14:57:05.764Z"
   },
   {
    "duration": 285,
    "start_time": "2022-04-18T14:57:06.178Z"
   },
   {
    "duration": 9,
    "start_time": "2022-04-18T14:57:06.465Z"
   },
   {
    "duration": 109,
    "start_time": "2022-04-18T14:58:35.440Z"
   },
   {
    "duration": 1421,
    "start_time": "2022-04-18T14:59:29.690Z"
   },
   {
    "duration": 39,
    "start_time": "2022-04-18T14:59:31.113Z"
   },
   {
    "duration": 56,
    "start_time": "2022-04-18T14:59:31.155Z"
   },
   {
    "duration": 72,
    "start_time": "2022-04-18T14:59:31.214Z"
   },
   {
    "duration": 64,
    "start_time": "2022-04-18T14:59:31.288Z"
   },
   {
    "duration": 23,
    "start_time": "2022-04-18T14:59:31.355Z"
   },
   {
    "duration": 55,
    "start_time": "2022-04-18T14:59:31.380Z"
   },
   {
    "duration": 16,
    "start_time": "2022-04-18T14:59:31.437Z"
   },
   {
    "duration": 19,
    "start_time": "2022-04-18T14:59:31.456Z"
   },
   {
    "duration": 517,
    "start_time": "2022-04-18T14:59:31.479Z"
   },
   {
    "duration": 565,
    "start_time": "2022-04-18T14:59:31.998Z"
   },
   {
    "duration": 328,
    "start_time": "2022-04-18T14:59:32.565Z"
   },
   {
    "duration": 437,
    "start_time": "2022-04-18T14:59:32.895Z"
   },
   {
    "duration": 336,
    "start_time": "2022-04-18T14:59:33.334Z"
   },
   {
    "duration": 406,
    "start_time": "2022-04-18T14:59:33.672Z"
   },
   {
    "duration": 227,
    "start_time": "2022-04-18T14:59:34.080Z"
   },
   {
    "duration": 7,
    "start_time": "2022-04-18T14:59:34.309Z"
   },
   {
    "duration": 245,
    "start_time": "2022-04-18T14:59:34.317Z"
   },
   {
    "duration": 6,
    "start_time": "2022-04-18T14:59:34.564Z"
   },
   {
    "duration": 399,
    "start_time": "2022-04-18T14:59:34.572Z"
   },
   {
    "duration": 259,
    "start_time": "2022-04-18T14:59:34.974Z"
   },
   {
    "duration": 41,
    "start_time": "2022-04-18T14:59:35.235Z"
   },
   {
    "duration": 14,
    "start_time": "2022-04-18T15:07:39.806Z"
   },
   {
    "duration": 15,
    "start_time": "2022-04-18T15:17:05.495Z"
   },
   {
    "duration": 14,
    "start_time": "2022-04-18T15:17:33.693Z"
   },
   {
    "duration": 38,
    "start_time": "2022-04-18T15:22:20.561Z"
   },
   {
    "duration": 1464,
    "start_time": "2022-04-18T15:23:03.556Z"
   },
   {
    "duration": 39,
    "start_time": "2022-04-18T15:23:05.023Z"
   },
   {
    "duration": 55,
    "start_time": "2022-04-18T15:23:05.064Z"
   },
   {
    "duration": 68,
    "start_time": "2022-04-18T15:23:05.122Z"
   },
   {
    "duration": 60,
    "start_time": "2022-04-18T15:23:05.193Z"
   },
   {
    "duration": 26,
    "start_time": "2022-04-18T15:23:05.255Z"
   },
   {
    "duration": 19,
    "start_time": "2022-04-18T15:23:05.283Z"
   },
   {
    "duration": 48,
    "start_time": "2022-04-18T15:23:05.304Z"
   },
   {
    "duration": 14,
    "start_time": "2022-04-18T15:23:05.354Z"
   },
   {
    "duration": 513,
    "start_time": "2022-04-18T15:23:05.372Z"
   },
   {
    "duration": 476,
    "start_time": "2022-04-18T15:23:05.887Z"
   },
   {
    "duration": 335,
    "start_time": "2022-04-18T15:23:06.366Z"
   },
   {
    "duration": 465,
    "start_time": "2022-04-18T15:23:06.704Z"
   },
   {
    "duration": 362,
    "start_time": "2022-04-18T15:23:07.172Z"
   },
   {
    "duration": 438,
    "start_time": "2022-04-18T15:23:07.536Z"
   },
   {
    "duration": 232,
    "start_time": "2022-04-18T15:23:07.976Z"
   },
   {
    "duration": 7,
    "start_time": "2022-04-18T15:23:08.210Z"
   },
   {
    "duration": 251,
    "start_time": "2022-04-18T15:23:08.219Z"
   },
   {
    "duration": 7,
    "start_time": "2022-04-18T15:23:08.472Z"
   },
   {
    "duration": 394,
    "start_time": "2022-04-18T15:23:08.481Z"
   },
   {
    "duration": 285,
    "start_time": "2022-04-18T15:23:08.877Z"
   },
   {
    "duration": 37,
    "start_time": "2022-04-18T15:23:09.164Z"
   },
   {
    "duration": 15,
    "start_time": "2022-04-18T15:23:09.203Z"
   },
   {
    "duration": 40,
    "start_time": "2022-04-18T15:23:09.221Z"
   },
   {
    "duration": 39,
    "start_time": "2022-04-18T15:23:09.263Z"
   },
   {
    "duration": 19,
    "start_time": "2022-04-18T15:24:57.072Z"
   },
   {
    "duration": 122,
    "start_time": "2022-04-18T15:28:22.707Z"
   },
   {
    "duration": 1394,
    "start_time": "2022-04-18T17:48:21.185Z"
   },
   {
    "duration": 38,
    "start_time": "2022-04-18T17:48:22.582Z"
   },
   {
    "duration": 56,
    "start_time": "2022-04-18T17:48:22.622Z"
   },
   {
    "duration": 71,
    "start_time": "2022-04-18T17:48:22.681Z"
   },
   {
    "duration": 33,
    "start_time": "2022-04-18T17:48:22.754Z"
   },
   {
    "duration": 22,
    "start_time": "2022-04-18T17:48:22.789Z"
   },
   {
    "duration": 46,
    "start_time": "2022-04-18T17:48:22.813Z"
   },
   {
    "duration": 15,
    "start_time": "2022-04-18T17:48:22.862Z"
   },
   {
    "duration": 16,
    "start_time": "2022-04-18T17:48:22.879Z"
   },
   {
    "duration": 501,
    "start_time": "2022-04-18T17:48:22.899Z"
   },
   {
    "duration": 566,
    "start_time": "2022-04-18T17:48:23.402Z"
   },
   {
    "duration": 324,
    "start_time": "2022-04-18T17:48:23.970Z"
   },
   {
    "duration": 666,
    "start_time": "2022-04-18T17:48:24.296Z"
   },
   {
    "duration": 992,
    "start_time": "2022-04-18T17:48:24.965Z"
   },
   {
    "duration": 921,
    "start_time": "2022-04-18T17:48:25.960Z"
   },
   {
    "duration": 612,
    "start_time": "2022-04-18T17:48:26.884Z"
   },
   {
    "duration": 9,
    "start_time": "2022-04-18T17:48:27.553Z"
   },
   {
    "duration": 694,
    "start_time": "2022-04-18T17:48:27.565Z"
   },
   {
    "duration": 6,
    "start_time": "2022-04-18T17:48:28.262Z"
   },
   {
    "duration": 562,
    "start_time": "2022-04-18T17:48:28.270Z"
   },
   {
    "duration": 309,
    "start_time": "2022-04-18T17:48:28.834Z"
   },
   {
    "duration": 39,
    "start_time": "2022-04-18T17:48:29.145Z"
   },
   {
    "duration": 14,
    "start_time": "2022-04-18T17:48:29.186Z"
   },
   {
    "duration": 12,
    "start_time": "2022-04-18T17:48:29.202Z"
   },
   {
    "duration": 73,
    "start_time": "2022-04-18T17:48:29.217Z"
   },
   {
    "duration": 19,
    "start_time": "2022-04-18T17:48:29.292Z"
   },
   {
    "duration": 1448,
    "start_time": "2022-04-19T17:00:02.025Z"
   },
   {
    "duration": 4,
    "start_time": "2022-04-19T17:00:03.476Z"
   },
   {
    "duration": 42,
    "start_time": "2022-04-19T17:00:03.481Z"
   },
   {
    "duration": 46,
    "start_time": "2022-04-19T17:00:03.525Z"
   },
   {
    "duration": 47,
    "start_time": "2022-04-19T17:00:03.574Z"
   },
   {
    "duration": 59,
    "start_time": "2022-04-19T17:00:03.623Z"
   },
   {
    "duration": 23,
    "start_time": "2022-04-19T17:00:03.684Z"
   },
   {
    "duration": 44,
    "start_time": "2022-04-19T17:00:03.709Z"
   },
   {
    "duration": 17,
    "start_time": "2022-04-19T17:00:03.755Z"
   },
   {
    "duration": 16,
    "start_time": "2022-04-19T17:00:03.776Z"
   },
   {
    "duration": 400,
    "start_time": "2022-04-19T17:00:03.794Z"
   },
   {
    "duration": 271,
    "start_time": "2022-04-19T17:00:04.196Z"
   },
   {
    "duration": 184,
    "start_time": "2022-04-19T17:00:04.469Z"
   },
   {
    "duration": 355,
    "start_time": "2022-04-19T17:00:04.655Z"
   },
   {
    "duration": 204,
    "start_time": "2022-04-19T17:00:05.011Z"
   },
   {
    "duration": 299,
    "start_time": "2022-04-19T17:00:05.216Z"
   },
   {
    "duration": 125,
    "start_time": "2022-04-19T17:00:05.517Z"
   },
   {
    "duration": 6,
    "start_time": "2022-04-19T17:00:05.644Z"
   },
   {
    "duration": 141,
    "start_time": "2022-04-19T17:00:05.651Z"
   },
   {
    "duration": 5,
    "start_time": "2022-04-19T17:00:05.793Z"
   },
   {
    "duration": 225,
    "start_time": "2022-04-19T17:00:05.801Z"
   },
   {
    "duration": 124,
    "start_time": "2022-04-19T17:00:06.028Z"
   },
   {
    "duration": 27,
    "start_time": "2022-04-19T17:00:06.153Z"
   },
   {
    "duration": 11,
    "start_time": "2022-04-19T17:00:06.182Z"
   },
   {
    "duration": 16,
    "start_time": "2022-04-19T17:00:06.195Z"
   },
   {
    "duration": 50,
    "start_time": "2022-04-19T17:00:06.213Z"
   },
   {
    "duration": 15,
    "start_time": "2022-04-19T17:00:06.265Z"
   },
   {
    "duration": 1080,
    "start_time": "2022-04-19T17:02:28.439Z"
   },
   {
    "duration": 39,
    "start_time": "2022-04-19T17:02:29.521Z"
   },
   {
    "duration": 36,
    "start_time": "2022-04-19T17:02:29.561Z"
   },
   {
    "duration": 28,
    "start_time": "2022-04-19T17:02:29.599Z"
   },
   {
    "duration": 38,
    "start_time": "2022-04-19T17:02:29.628Z"
   },
   {
    "duration": 14,
    "start_time": "2022-04-19T17:02:29.668Z"
   },
   {
    "duration": 15,
    "start_time": "2022-04-19T17:02:29.684Z"
   },
   {
    "duration": 10,
    "start_time": "2022-04-19T17:02:29.700Z"
   },
   {
    "duration": 43,
    "start_time": "2022-04-19T17:02:29.712Z"
   },
   {
    "duration": 271,
    "start_time": "2022-04-19T17:02:29.758Z"
   },
   {
    "duration": 254,
    "start_time": "2022-04-19T17:02:30.030Z"
   },
   {
    "duration": 172,
    "start_time": "2022-04-19T17:02:30.286Z"
   },
   {
    "duration": 264,
    "start_time": "2022-04-19T17:02:30.460Z"
   },
   {
    "duration": 305,
    "start_time": "2022-04-19T17:02:30.726Z"
   },
   {
    "duration": 373,
    "start_time": "2022-04-19T17:02:31.034Z"
   },
   {
    "duration": 120,
    "start_time": "2022-04-19T17:02:31.409Z"
   },
   {
    "duration": 5,
    "start_time": "2022-04-19T17:02:31.531Z"
   },
   {
    "duration": 224,
    "start_time": "2022-04-19T17:02:31.538Z"
   },
   {
    "duration": 4,
    "start_time": "2022-04-19T17:02:31.764Z"
   },
   {
    "duration": 219,
    "start_time": "2022-04-19T17:02:31.770Z"
   },
   {
    "duration": 133,
    "start_time": "2022-04-19T17:02:31.990Z"
   },
   {
    "duration": 29,
    "start_time": "2022-04-19T17:02:32.125Z"
   },
   {
    "duration": 10,
    "start_time": "2022-04-19T17:02:32.155Z"
   },
   {
    "duration": 7,
    "start_time": "2022-04-19T17:02:32.166Z"
   },
   {
    "duration": 27,
    "start_time": "2022-04-19T17:02:32.175Z"
   },
   {
    "duration": 47,
    "start_time": "2022-04-19T17:02:32.204Z"
   },
   {
    "duration": 10,
    "start_time": "2022-04-19T17:02:55.079Z"
   },
   {
    "duration": 39,
    "start_time": "2022-04-19T17:15:23.415Z"
   },
   {
    "duration": 53,
    "start_time": "2022-04-19T17:15:54.599Z"
   },
   {
    "duration": 53,
    "start_time": "2022-04-19T17:16:16.396Z"
   },
   {
    "duration": 33,
    "start_time": "2022-04-19T17:18:27.885Z"
   },
   {
    "duration": 1086,
    "start_time": "2022-04-19T17:19:16.535Z"
   },
   {
    "duration": 38,
    "start_time": "2022-04-19T17:19:17.623Z"
   },
   {
    "duration": 34,
    "start_time": "2022-04-19T17:19:17.662Z"
   },
   {
    "duration": 31,
    "start_time": "2022-04-19T17:19:17.698Z"
   },
   {
    "duration": 23,
    "start_time": "2022-04-19T17:19:17.749Z"
   },
   {
    "duration": 14,
    "start_time": "2022-04-19T17:19:17.774Z"
   },
   {
    "duration": 14,
    "start_time": "2022-04-19T17:19:17.790Z"
   },
   {
    "duration": 11,
    "start_time": "2022-04-19T17:19:17.806Z"
   },
   {
    "duration": 9,
    "start_time": "2022-04-19T17:19:17.848Z"
   },
   {
    "duration": 276,
    "start_time": "2022-04-19T17:19:17.859Z"
   },
   {
    "duration": 247,
    "start_time": "2022-04-19T17:19:18.137Z"
   },
   {
    "duration": 180,
    "start_time": "2022-04-19T17:19:18.386Z"
   },
   {
    "duration": 261,
    "start_time": "2022-04-19T17:19:18.567Z"
   },
   {
    "duration": 194,
    "start_time": "2022-04-19T17:19:18.829Z"
   },
   {
    "duration": 296,
    "start_time": "2022-04-19T17:19:19.025Z"
   },
   {
    "duration": 131,
    "start_time": "2022-04-19T17:19:19.323Z"
   },
   {
    "duration": 4,
    "start_time": "2022-04-19T17:19:19.456Z"
   },
   {
    "duration": 205,
    "start_time": "2022-04-19T17:19:19.462Z"
   },
   {
    "duration": 5,
    "start_time": "2022-04-19T17:19:19.668Z"
   },
   {
    "duration": 408,
    "start_time": "2022-04-19T17:19:19.675Z"
   },
   {
    "duration": 266,
    "start_time": "2022-04-19T17:19:20.085Z"
   },
   {
    "duration": 25,
    "start_time": "2022-04-19T17:19:20.353Z"
   },
   {
    "duration": 9,
    "start_time": "2022-04-19T17:19:20.380Z"
   },
   {
    "duration": 8,
    "start_time": "2022-04-19T17:19:20.447Z"
   },
   {
    "duration": 29,
    "start_time": "2022-04-19T17:19:20.456Z"
   },
   {
    "duration": 66,
    "start_time": "2022-04-19T17:19:20.486Z"
   },
   {
    "duration": 67,
    "start_time": "2022-04-19T17:24:58.940Z"
   },
   {
    "duration": 77,
    "start_time": "2022-04-19T17:25:06.129Z"
   },
   {
    "duration": 65,
    "start_time": "2022-04-19T17:29:16.215Z"
   },
   {
    "duration": 268,
    "start_time": "2022-04-19T17:51:43.047Z"
   },
   {
    "duration": 255,
    "start_time": "2022-04-19T17:52:05.767Z"
   },
   {
    "duration": 187,
    "start_time": "2022-04-19T17:52:40.303Z"
   },
   {
    "duration": 249,
    "start_time": "2022-04-19T17:53:38.504Z"
   },
   {
    "duration": 196,
    "start_time": "2022-04-19T17:54:11.985Z"
   },
   {
    "duration": 293,
    "start_time": "2022-04-19T17:55:18.823Z"
   },
   {
    "duration": 296,
    "start_time": "2022-04-19T17:55:26.928Z"
   },
   {
    "duration": 125,
    "start_time": "2022-04-19T17:59:05.365Z"
   },
   {
    "duration": 132,
    "start_time": "2022-04-19T18:00:27.980Z"
   },
   {
    "duration": 139,
    "start_time": "2022-04-19T18:13:41.255Z"
   },
   {
    "duration": 142,
    "start_time": "2022-04-19T18:14:12.859Z"
   },
   {
    "duration": 40,
    "start_time": "2022-04-19T18:22:48.252Z"
   },
   {
    "duration": 13,
    "start_time": "2022-04-19T18:24:42.076Z"
   },
   {
    "duration": 44,
    "start_time": "2022-04-19T18:28:05.251Z"
   },
   {
    "duration": 17,
    "start_time": "2022-04-19T18:29:20.944Z"
   },
   {
    "duration": 982,
    "start_time": "2022-04-19T18:37:55.204Z"
   },
   {
    "duration": 40,
    "start_time": "2022-04-19T18:37:56.187Z"
   },
   {
    "duration": 36,
    "start_time": "2022-04-19T18:37:56.228Z"
   },
   {
    "duration": 29,
    "start_time": "2022-04-19T18:37:56.266Z"
   },
   {
    "duration": 51,
    "start_time": "2022-04-19T18:37:56.297Z"
   },
   {
    "duration": 15,
    "start_time": "2022-04-19T18:37:56.349Z"
   },
   {
    "duration": 67,
    "start_time": "2022-04-19T18:37:56.365Z"
   },
   {
    "duration": 22,
    "start_time": "2022-04-19T18:37:56.433Z"
   },
   {
    "duration": 11,
    "start_time": "2022-04-19T18:37:56.457Z"
   },
   {
    "duration": 12,
    "start_time": "2022-04-19T18:37:56.471Z"
   },
   {
    "duration": 274,
    "start_time": "2022-04-19T18:37:56.484Z"
   },
   {
    "duration": 266,
    "start_time": "2022-04-19T18:37:56.759Z"
   },
   {
    "duration": 187,
    "start_time": "2022-04-19T18:37:57.027Z"
   },
   {
    "duration": 304,
    "start_time": "2022-04-19T18:37:57.215Z"
   },
   {
    "duration": 353,
    "start_time": "2022-04-19T18:37:57.520Z"
   },
   {
    "duration": 475,
    "start_time": "2022-04-19T18:37:57.875Z"
   },
   {
    "duration": 230,
    "start_time": "2022-04-19T18:37:58.352Z"
   },
   {
    "duration": 5,
    "start_time": "2022-04-19T18:37:58.583Z"
   },
   {
    "duration": 291,
    "start_time": "2022-04-19T18:37:58.589Z"
   },
   {
    "duration": 300,
    "start_time": "2022-04-19T18:37:58.881Z"
   },
   {
    "duration": 4,
    "start_time": "2022-04-19T18:37:59.183Z"
   },
   {
    "duration": 600,
    "start_time": "2022-04-19T18:37:59.189Z"
   },
   {
    "duration": 360,
    "start_time": "2022-04-19T18:37:59.791Z"
   },
   {
    "duration": 47,
    "start_time": "2022-04-19T18:38:00.153Z"
   },
   {
    "duration": 15,
    "start_time": "2022-04-19T18:38:00.202Z"
   },
   {
    "duration": 31,
    "start_time": "2022-04-19T18:38:00.218Z"
   },
   {
    "duration": 45,
    "start_time": "2022-04-19T18:38:00.251Z"
   },
   {
    "duration": 17,
    "start_time": "2022-04-19T18:38:00.299Z"
   }
  ],
  "kernelspec": {
   "display_name": "Python 3 (ipykernel)",
   "language": "python",
   "name": "python3"
  },
  "language_info": {
   "codemirror_mode": {
    "name": "ipython",
    "version": 3
   },
   "file_extension": ".py",
   "mimetype": "text/x-python",
   "name": "python",
   "nbconvert_exporter": "python",
   "pygments_lexer": "ipython3",
   "version": "3.10.9"
  },
  "toc": {
   "base_numbering": 1,
   "nav_menu": {},
   "number_sections": true,
   "sideBar": true,
   "skip_h1_title": true,
   "title_cell": "Table of Contents",
   "title_sidebar": "Contents",
   "toc_cell": false,
   "toc_position": {
    "height": "calc(100% - 180px)",
    "left": "10px",
    "top": "150px",
    "width": "286.237px"
   },
   "toc_section_display": true,
   "toc_window_display": true
  }
 },
 "nbformat": 4,
 "nbformat_minor": 2
}
