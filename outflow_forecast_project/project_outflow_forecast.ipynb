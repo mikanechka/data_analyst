{
 "cells": [
  {
   "cell_type": "markdown",
   "metadata": {},
   "source": [
    "# Описание проекта\n",
    "\n",
    "Сеть фитнес-центров «Культурист-датасаентист» разрабатывает стратегию взаимодействия с пользователями на основе аналитических данных.\n",
    "\n",
    "Чтобы бороться с оттоком, отдел по работе с клиентами «Культуриста-датасаентиста» перевёл в электронный вид множество анкет пользователей. \n",
    "\n",
    "**Цель исследования** - провести анализ и подготовить план действий по удержанию клиентов.\n",
    "\n",
    "Задачи исследования:\n",
    "\n",
    "- спрогнозировать вероятность оттока (на уровне следующего месяца) для каждого клиента;\n",
    "- сформировать типичные портреты пользователей: выделить несколько наиболее ярких групп и охарактеризовать их основные свойства;\n",
    "- проанализировать основные признаки, наиболее сильно влияющие на отток;\n",
    "- сформулировать основные выводы и разработать рекомендации по повышению качества работы с клиентами:\n",
    "\n",
    "    1) выделить целевые группы клиентов;\n",
    "    \n",
    "    2) предложить меры по снижению оттока;\n",
    "    \n",
    "    3) определить другие особенности взаимодействия с клиентами."
   ]
  },
  {
   "cell_type": "markdown",
   "metadata": {},
   "source": [
    "**Описание данных:**\n",
    "\n",
    "«Культурист-датасаентист» предоставил сведения в csv-файлах. Заказчик подготовил данные, которые содержат данные на месяц до оттока и факт оттока на определённый месяц. Набор данных включает следующие поля:\n",
    "\n",
    "\n",
    "Текущие поля в датасете:\n",
    "\n",
    "- 'Churn' — факт оттока в текущем месяце;\n",
    "\n",
    "Данные пользователя за предыдущий до проверки факта оттока месяц:\n",
    "- 'gender' — пол\n",
    "- 'Near_Location' — проживание или работа в районе, где находится фитнес-центр\n",
    "- 'Partner' — сотрудник компании-партнёра клуба (сотрудничество с компаниями, чьи сотрудники могут получать скидки на абонемент — в таком случае фитнес-центр хранит информацию о работодателе клиента)\n",
    "- Promo_friends — факт первоначальной записи в рамках акции «приведи друга» (использовал промо-код от знакомого при оплате первого абонемента)\n",
    "- 'Phone' — наличие контактного телефона\n",
    "- 'Age' — возраст\n",
    "- 'Lifetime' — время с момента первого обращения в фитнес-центр (в месяцах)\n",
    "    \n",
    "Информация на основе журнала посещений, покупок и информация о текущем статусе абонемента клиента:\n",
    "\n",
    "- 'Contract_period' — длительность текущего действующего абонемента (месяц, 3 месяца, 6 месяцев, год)\n",
    "- 'Month_to_end_contract' — срок до окончания текущего действующего абонемента (в месяцах)\n",
    "- 'Group_visits' — факт посещения групповых занятий\n",
    "- 'Avg_class_frequency_total' — средняя частота посещений в неделю за все время с начала действия абонемента\n",
    "- 'Avg_class_frequency_current_month' — средняя частота посещений в неделю за предыдущий месяц\n",
    "- 'Avg_additional_charges_total' — суммарная выручка от других услуг фитнес-центра: кафе, спорт-товары, косметический и массажный салон\n"
   ]
  },
  {
   "cell_type": "markdown",
   "metadata": {},
   "source": [
    "## Изучение общей информации"
   ]
  },
  {
   "cell_type": "code",
   "execution_count": 1,
   "metadata": {},
   "outputs": [],
   "source": [
    "# импортируем необходимые для работы библиотеки\n",
    "\n",
    "import pandas as pd\n",
    "import warnings\n",
    "warnings.filterwarnings('ignore')\n",
    "import seaborn as sns\n",
    "import matplotlib.pyplot as plt\n",
    "from sklearn.model_selection import train_test_split\n",
    "from sklearn.metrics import accuracy_score, precision_score, recall_score, f1_score\n",
    "from sklearn.metrics import roc_auc_score\n",
    "from sklearn.linear_model import LogisticRegression\n",
    "from sklearn.ensemble import RandomForestRegressor\n",
    "from sklearn.ensemble import RandomForestClassifier\n",
    "from sklearn.preprocessing import StandardScaler\n",
    "from scipy.cluster.hierarchy import dendrogram, linkage \n",
    "from sklearn.cluster import KMeans\n",
    "import itertools\n"
   ]
  },
  {
   "cell_type": "code",
   "execution_count": 2,
   "metadata": {},
   "outputs": [],
   "source": [
    "# создадим переменную и загрузим данные\n",
    "\n",
    "df = pd.read_csv('')"
   ]
  },
  {
   "cell_type": "code",
   "execution_count": 3,
   "metadata": {},
   "outputs": [
    {
     "data": {
      "text/plain": [
       "Index(['gender', 'Near_Location', 'Partner', 'Promo_friends', 'Phone',\n",
       "       'Contract_period', 'Group_visits', 'Age',\n",
       "       'Avg_additional_charges_total', 'Month_to_end_contract', 'Lifetime',\n",
       "       'Avg_class_frequency_total', 'Avg_class_frequency_current_month',\n",
       "       'Churn'],\n",
       "      dtype='object')"
      ]
     },
     "metadata": {},
     "output_type": "display_data"
    },
    {
     "data": {
      "text/html": [
       "<div>\n",
       "<style scoped>\n",
       "    .dataframe tbody tr th:only-of-type {\n",
       "        vertical-align: middle;\n",
       "    }\n",
       "\n",
       "    .dataframe tbody tr th {\n",
       "        vertical-align: top;\n",
       "    }\n",
       "\n",
       "    .dataframe thead th {\n",
       "        text-align: right;\n",
       "    }\n",
       "</style>\n",
       "<table border=\"1\" class=\"dataframe\">\n",
       "  <thead>\n",
       "    <tr style=\"text-align: right;\">\n",
       "      <th></th>\n",
       "      <th>gender</th>\n",
       "      <th>Near_Location</th>\n",
       "      <th>Partner</th>\n",
       "      <th>Promo_friends</th>\n",
       "      <th>Phone</th>\n",
       "      <th>Contract_period</th>\n",
       "      <th>Group_visits</th>\n",
       "      <th>Age</th>\n",
       "      <th>Avg_additional_charges_total</th>\n",
       "      <th>Month_to_end_contract</th>\n",
       "      <th>Lifetime</th>\n",
       "      <th>Avg_class_frequency_total</th>\n",
       "      <th>Avg_class_frequency_current_month</th>\n",
       "      <th>Churn</th>\n",
       "    </tr>\n",
       "  </thead>\n",
       "  <tbody>\n",
       "    <tr>\n",
       "      <th>0</th>\n",
       "      <td>1</td>\n",
       "      <td>1</td>\n",
       "      <td>1</td>\n",
       "      <td>1</td>\n",
       "      <td>0</td>\n",
       "      <td>6</td>\n",
       "      <td>1</td>\n",
       "      <td>29</td>\n",
       "      <td>14.227470</td>\n",
       "      <td>5.0</td>\n",
       "      <td>3</td>\n",
       "      <td>0.020398</td>\n",
       "      <td>0.000000</td>\n",
       "      <td>0</td>\n",
       "    </tr>\n",
       "    <tr>\n",
       "      <th>1</th>\n",
       "      <td>0</td>\n",
       "      <td>1</td>\n",
       "      <td>0</td>\n",
       "      <td>0</td>\n",
       "      <td>1</td>\n",
       "      <td>12</td>\n",
       "      <td>1</td>\n",
       "      <td>31</td>\n",
       "      <td>113.202938</td>\n",
       "      <td>12.0</td>\n",
       "      <td>7</td>\n",
       "      <td>1.922936</td>\n",
       "      <td>1.910244</td>\n",
       "      <td>0</td>\n",
       "    </tr>\n",
       "    <tr>\n",
       "      <th>2</th>\n",
       "      <td>0</td>\n",
       "      <td>1</td>\n",
       "      <td>1</td>\n",
       "      <td>0</td>\n",
       "      <td>1</td>\n",
       "      <td>1</td>\n",
       "      <td>0</td>\n",
       "      <td>28</td>\n",
       "      <td>129.448479</td>\n",
       "      <td>1.0</td>\n",
       "      <td>2</td>\n",
       "      <td>1.859098</td>\n",
       "      <td>1.736502</td>\n",
       "      <td>0</td>\n",
       "    </tr>\n",
       "    <tr>\n",
       "      <th>3</th>\n",
       "      <td>0</td>\n",
       "      <td>1</td>\n",
       "      <td>1</td>\n",
       "      <td>1</td>\n",
       "      <td>1</td>\n",
       "      <td>12</td>\n",
       "      <td>1</td>\n",
       "      <td>33</td>\n",
       "      <td>62.669863</td>\n",
       "      <td>12.0</td>\n",
       "      <td>2</td>\n",
       "      <td>3.205633</td>\n",
       "      <td>3.357215</td>\n",
       "      <td>0</td>\n",
       "    </tr>\n",
       "    <tr>\n",
       "      <th>4</th>\n",
       "      <td>1</td>\n",
       "      <td>1</td>\n",
       "      <td>1</td>\n",
       "      <td>1</td>\n",
       "      <td>1</td>\n",
       "      <td>1</td>\n",
       "      <td>0</td>\n",
       "      <td>26</td>\n",
       "      <td>198.362265</td>\n",
       "      <td>1.0</td>\n",
       "      <td>3</td>\n",
       "      <td>1.113884</td>\n",
       "      <td>1.120078</td>\n",
       "      <td>0</td>\n",
       "    </tr>\n",
       "  </tbody>\n",
       "</table>\n",
       "</div>"
      ],
      "text/plain": [
       "   gender  Near_Location  Partner  Promo_friends  Phone  Contract_period  \\\n",
       "0       1              1        1              1      0                6   \n",
       "1       0              1        0              0      1               12   \n",
       "2       0              1        1              0      1                1   \n",
       "3       0              1        1              1      1               12   \n",
       "4       1              1        1              1      1                1   \n",
       "\n",
       "   Group_visits  Age  Avg_additional_charges_total  Month_to_end_contract  \\\n",
       "0             1   29                     14.227470                    5.0   \n",
       "1             1   31                    113.202938                   12.0   \n",
       "2             0   28                    129.448479                    1.0   \n",
       "3             1   33                     62.669863                   12.0   \n",
       "4             0   26                    198.362265                    1.0   \n",
       "\n",
       "   Lifetime  Avg_class_frequency_total  Avg_class_frequency_current_month  \\\n",
       "0         3                   0.020398                           0.000000   \n",
       "1         7                   1.922936                           1.910244   \n",
       "2         2                   1.859098                           1.736502   \n",
       "3         2                   3.205633                           3.357215   \n",
       "4         3                   1.113884                           1.120078   \n",
       "\n",
       "   Churn  \n",
       "0      0  \n",
       "1      0  \n",
       "2      0  \n",
       "3      0  \n",
       "4      0  "
      ]
     },
     "metadata": {},
     "output_type": "display_data"
    },
    {
     "data": {
      "text/html": [
       "<div>\n",
       "<style scoped>\n",
       "    .dataframe tbody tr th:only-of-type {\n",
       "        vertical-align: middle;\n",
       "    }\n",
       "\n",
       "    .dataframe tbody tr th {\n",
       "        vertical-align: top;\n",
       "    }\n",
       "\n",
       "    .dataframe thead th {\n",
       "        text-align: right;\n",
       "    }\n",
       "</style>\n",
       "<table border=\"1\" class=\"dataframe\">\n",
       "  <thead>\n",
       "    <tr style=\"text-align: right;\">\n",
       "      <th></th>\n",
       "      <th>gender</th>\n",
       "      <th>Near_Location</th>\n",
       "      <th>Partner</th>\n",
       "      <th>Promo_friends</th>\n",
       "      <th>Phone</th>\n",
       "      <th>Contract_period</th>\n",
       "      <th>Group_visits</th>\n",
       "      <th>Age</th>\n",
       "      <th>Avg_additional_charges_total</th>\n",
       "      <th>Month_to_end_contract</th>\n",
       "      <th>Lifetime</th>\n",
       "      <th>Avg_class_frequency_total</th>\n",
       "      <th>Avg_class_frequency_current_month</th>\n",
       "      <th>Churn</th>\n",
       "    </tr>\n",
       "  </thead>\n",
       "  <tbody>\n",
       "    <tr>\n",
       "      <th>count</th>\n",
       "      <td>4000.000000</td>\n",
       "      <td>4000.000000</td>\n",
       "      <td>4000.000000</td>\n",
       "      <td>4000.000000</td>\n",
       "      <td>4000.000000</td>\n",
       "      <td>4000.000000</td>\n",
       "      <td>4000.000000</td>\n",
       "      <td>4000.000000</td>\n",
       "      <td>4000.000000</td>\n",
       "      <td>4000.000000</td>\n",
       "      <td>4000.000000</td>\n",
       "      <td>4000.000000</td>\n",
       "      <td>4000.000000</td>\n",
       "      <td>4000.000000</td>\n",
       "    </tr>\n",
       "    <tr>\n",
       "      <th>mean</th>\n",
       "      <td>0.510250</td>\n",
       "      <td>0.845250</td>\n",
       "      <td>0.486750</td>\n",
       "      <td>0.308500</td>\n",
       "      <td>0.903500</td>\n",
       "      <td>4.681250</td>\n",
       "      <td>0.412250</td>\n",
       "      <td>29.184250</td>\n",
       "      <td>146.943728</td>\n",
       "      <td>4.322750</td>\n",
       "      <td>3.724750</td>\n",
       "      <td>1.879020</td>\n",
       "      <td>1.767052</td>\n",
       "      <td>0.265250</td>\n",
       "    </tr>\n",
       "    <tr>\n",
       "      <th>std</th>\n",
       "      <td>0.499957</td>\n",
       "      <td>0.361711</td>\n",
       "      <td>0.499887</td>\n",
       "      <td>0.461932</td>\n",
       "      <td>0.295313</td>\n",
       "      <td>4.549706</td>\n",
       "      <td>0.492301</td>\n",
       "      <td>3.258367</td>\n",
       "      <td>96.355602</td>\n",
       "      <td>4.191297</td>\n",
       "      <td>3.749267</td>\n",
       "      <td>0.972245</td>\n",
       "      <td>1.052906</td>\n",
       "      <td>0.441521</td>\n",
       "    </tr>\n",
       "    <tr>\n",
       "      <th>min</th>\n",
       "      <td>0.000000</td>\n",
       "      <td>0.000000</td>\n",
       "      <td>0.000000</td>\n",
       "      <td>0.000000</td>\n",
       "      <td>0.000000</td>\n",
       "      <td>1.000000</td>\n",
       "      <td>0.000000</td>\n",
       "      <td>18.000000</td>\n",
       "      <td>0.148205</td>\n",
       "      <td>1.000000</td>\n",
       "      <td>0.000000</td>\n",
       "      <td>0.000000</td>\n",
       "      <td>0.000000</td>\n",
       "      <td>0.000000</td>\n",
       "    </tr>\n",
       "    <tr>\n",
       "      <th>25%</th>\n",
       "      <td>0.000000</td>\n",
       "      <td>1.000000</td>\n",
       "      <td>0.000000</td>\n",
       "      <td>0.000000</td>\n",
       "      <td>1.000000</td>\n",
       "      <td>1.000000</td>\n",
       "      <td>0.000000</td>\n",
       "      <td>27.000000</td>\n",
       "      <td>68.868830</td>\n",
       "      <td>1.000000</td>\n",
       "      <td>1.000000</td>\n",
       "      <td>1.180875</td>\n",
       "      <td>0.963003</td>\n",
       "      <td>0.000000</td>\n",
       "    </tr>\n",
       "    <tr>\n",
       "      <th>50%</th>\n",
       "      <td>1.000000</td>\n",
       "      <td>1.000000</td>\n",
       "      <td>0.000000</td>\n",
       "      <td>0.000000</td>\n",
       "      <td>1.000000</td>\n",
       "      <td>1.000000</td>\n",
       "      <td>0.000000</td>\n",
       "      <td>29.000000</td>\n",
       "      <td>136.220159</td>\n",
       "      <td>1.000000</td>\n",
       "      <td>3.000000</td>\n",
       "      <td>1.832768</td>\n",
       "      <td>1.719574</td>\n",
       "      <td>0.000000</td>\n",
       "    </tr>\n",
       "    <tr>\n",
       "      <th>75%</th>\n",
       "      <td>1.000000</td>\n",
       "      <td>1.000000</td>\n",
       "      <td>1.000000</td>\n",
       "      <td>1.000000</td>\n",
       "      <td>1.000000</td>\n",
       "      <td>6.000000</td>\n",
       "      <td>1.000000</td>\n",
       "      <td>31.000000</td>\n",
       "      <td>210.949625</td>\n",
       "      <td>6.000000</td>\n",
       "      <td>5.000000</td>\n",
       "      <td>2.536078</td>\n",
       "      <td>2.510336</td>\n",
       "      <td>1.000000</td>\n",
       "    </tr>\n",
       "    <tr>\n",
       "      <th>max</th>\n",
       "      <td>1.000000</td>\n",
       "      <td>1.000000</td>\n",
       "      <td>1.000000</td>\n",
       "      <td>1.000000</td>\n",
       "      <td>1.000000</td>\n",
       "      <td>12.000000</td>\n",
       "      <td>1.000000</td>\n",
       "      <td>41.000000</td>\n",
       "      <td>552.590740</td>\n",
       "      <td>12.000000</td>\n",
       "      <td>31.000000</td>\n",
       "      <td>6.023668</td>\n",
       "      <td>6.146783</td>\n",
       "      <td>1.000000</td>\n",
       "    </tr>\n",
       "  </tbody>\n",
       "</table>\n",
       "</div>"
      ],
      "text/plain": [
       "            gender  Near_Location      Partner  Promo_friends        Phone  \\\n",
       "count  4000.000000    4000.000000  4000.000000    4000.000000  4000.000000   \n",
       "mean      0.510250       0.845250     0.486750       0.308500     0.903500   \n",
       "std       0.499957       0.361711     0.499887       0.461932     0.295313   \n",
       "min       0.000000       0.000000     0.000000       0.000000     0.000000   \n",
       "25%       0.000000       1.000000     0.000000       0.000000     1.000000   \n",
       "50%       1.000000       1.000000     0.000000       0.000000     1.000000   \n",
       "75%       1.000000       1.000000     1.000000       1.000000     1.000000   \n",
       "max       1.000000       1.000000     1.000000       1.000000     1.000000   \n",
       "\n",
       "       Contract_period  Group_visits          Age  \\\n",
       "count      4000.000000   4000.000000  4000.000000   \n",
       "mean          4.681250      0.412250    29.184250   \n",
       "std           4.549706      0.492301     3.258367   \n",
       "min           1.000000      0.000000    18.000000   \n",
       "25%           1.000000      0.000000    27.000000   \n",
       "50%           1.000000      0.000000    29.000000   \n",
       "75%           6.000000      1.000000    31.000000   \n",
       "max          12.000000      1.000000    41.000000   \n",
       "\n",
       "       Avg_additional_charges_total  Month_to_end_contract     Lifetime  \\\n",
       "count                   4000.000000            4000.000000  4000.000000   \n",
       "mean                     146.943728               4.322750     3.724750   \n",
       "std                       96.355602               4.191297     3.749267   \n",
       "min                        0.148205               1.000000     0.000000   \n",
       "25%                       68.868830               1.000000     1.000000   \n",
       "50%                      136.220159               1.000000     3.000000   \n",
       "75%                      210.949625               6.000000     5.000000   \n",
       "max                      552.590740              12.000000    31.000000   \n",
       "\n",
       "       Avg_class_frequency_total  Avg_class_frequency_current_month  \\\n",
       "count                4000.000000                        4000.000000   \n",
       "mean                    1.879020                           1.767052   \n",
       "std                     0.972245                           1.052906   \n",
       "min                     0.000000                           0.000000   \n",
       "25%                     1.180875                           0.963003   \n",
       "50%                     1.832768                           1.719574   \n",
       "75%                     2.536078                           2.510336   \n",
       "max                     6.023668                           6.146783   \n",
       "\n",
       "             Churn  \n",
       "count  4000.000000  \n",
       "mean      0.265250  \n",
       "std       0.441521  \n",
       "min       0.000000  \n",
       "25%       0.000000  \n",
       "50%       0.000000  \n",
       "75%       1.000000  \n",
       "max       1.000000  "
      ]
     },
     "metadata": {},
     "output_type": "display_data"
    },
    {
     "name": "stdout",
     "output_type": "stream",
     "text": [
      "**************************************************\n",
      "<class 'pandas.core.frame.DataFrame'>\n",
      "RangeIndex: 4000 entries, 0 to 3999\n",
      "Data columns (total 14 columns):\n",
      " #   Column                             Non-Null Count  Dtype  \n",
      "---  ------                             --------------  -----  \n",
      " 0   gender                             4000 non-null   int64  \n",
      " 1   Near_Location                      4000 non-null   int64  \n",
      " 2   Partner                            4000 non-null   int64  \n",
      " 3   Promo_friends                      4000 non-null   int64  \n",
      " 4   Phone                              4000 non-null   int64  \n",
      " 5   Contract_period                    4000 non-null   int64  \n",
      " 6   Group_visits                       4000 non-null   int64  \n",
      " 7   Age                                4000 non-null   int64  \n",
      " 8   Avg_additional_charges_total       4000 non-null   float64\n",
      " 9   Month_to_end_contract              4000 non-null   float64\n",
      " 10  Lifetime                           4000 non-null   int64  \n",
      " 11  Avg_class_frequency_total          4000 non-null   float64\n",
      " 12  Avg_class_frequency_current_month  4000 non-null   float64\n",
      " 13  Churn                              4000 non-null   int64  \n",
      "dtypes: float64(4), int64(10)\n",
      "memory usage: 437.6 KB\n",
      "**************************************************\n",
      "[1 0]\n",
      "**************************************************\n",
      "[1 0]\n",
      "**************************************************\n",
      "[1 0]\n",
      "**************************************************\n",
      "[1 0]\n",
      "**************************************************\n",
      "[0 1]\n",
      "**************************************************\n",
      "[ 6 12  1]\n",
      "**************************************************\n",
      "[1 0]\n",
      "**************************************************\n",
      "[ 5. 12.  1.  6.  3. 10. 11.  9.  4.  7.  8.  2.]\n",
      "**************************************************\n",
      "[ 3  7  2  0  1 11  4  8 14  6  5 15 12 21 10 20  9 13 17 16 24 22 31 26\n",
      " 23 18 19 27 29]\n",
      "**************************************************\n",
      "[0 1]\n",
      "**************************************************\n"
     ]
    }
   ],
   "source": [
    "# выводим общую информацию о датасете\n",
    "\n",
    "display(df.columns, df.head(), df.describe())\n",
    "print('*' * 50)\n",
    "df.info()\n",
    "print('*' * 50)\n",
    "for column in ['gender', 'Near_Location', 'Partner', 'Promo_friends', 'Phone', 'Contract_period',\\\n",
    "               'Group_visits', 'Month_to_end_contract', 'Lifetime', 'Churn']:\n",
    "    print(df[column].unique())\n",
    "    print('*' * 50)"
   ]
  },
  {
   "cell_type": "code",
   "execution_count": 4,
   "metadata": {},
   "outputs": [
    {
     "data": {
      "text/plain": [
       "0"
      ]
     },
     "execution_count": 4,
     "metadata": {},
     "output_type": "execute_result"
    }
   ],
   "source": [
    "# проверка на наличие дубликатов\n",
    "\n",
    "df.duplicated().sum()"
   ]
  },
  {
   "cell_type": "markdown",
   "metadata": {},
   "source": [
    "В результате ознакомления с данными, можно сделать следующие выводы:\n",
    "\n",
    "- Названия столбцов оформлены со стилистическими ошибками (регистр);\n",
    "- Практически все столбцы приведены к правильному типу данных (для колонки Month_to_end_contract необходимо выбрать соответствубщий тип данных);\n",
    "- В данных отсутствуют пропущенные значения;\n",
    "- В данных отсутствуют нетипичные значения;\n",
    "- В данных отсутствуют дубликты.\n",
    "\n",
    "Произведем предобработку данных и подготовим датасет к анализу."
   ]
  },
  {
   "cell_type": "code",
   "execution_count": 5,
   "metadata": {},
   "outputs": [
    {
     "data": {
      "text/plain": [
       "Index(['gender', 'near_location', 'partner', 'promo_friends', 'phone',\n",
       "       'contract_period', 'group_visits', 'age',\n",
       "       'avg_additional_charges_total', 'month_to_end_contract', 'lifetime',\n",
       "       'avg_class_frequency_total', 'avg_class_frequency_current_month',\n",
       "       'churn'],\n",
       "      dtype='object')"
      ]
     },
     "execution_count": 5,
     "metadata": {},
     "output_type": "execute_result"
    }
   ],
   "source": [
    "# приведем названия столбцов к единому регистру\n",
    "\n",
    "df.columns = df.columns.str.lower()\n",
    "df.columns"
   ]
  },
  {
   "cell_type": "code",
   "execution_count": 6,
   "metadata": {},
   "outputs": [
    {
     "name": "stdout",
     "output_type": "stream",
     "text": [
      "<class 'pandas.core.frame.DataFrame'>\n",
      "RangeIndex: 4000 entries, 0 to 3999\n",
      "Data columns (total 14 columns):\n",
      " #   Column                             Non-Null Count  Dtype  \n",
      "---  ------                             --------------  -----  \n",
      " 0   gender                             4000 non-null   int64  \n",
      " 1   near_location                      4000 non-null   int64  \n",
      " 2   partner                            4000 non-null   int64  \n",
      " 3   promo_friends                      4000 non-null   int64  \n",
      " 4   phone                              4000 non-null   int64  \n",
      " 5   contract_period                    4000 non-null   int64  \n",
      " 6   group_visits                       4000 non-null   int64  \n",
      " 7   age                                4000 non-null   int64  \n",
      " 8   avg_additional_charges_total       4000 non-null   float64\n",
      " 9   month_to_end_contract              4000 non-null   int64  \n",
      " 10  lifetime                           4000 non-null   int64  \n",
      " 11  avg_class_frequency_total          4000 non-null   float64\n",
      " 12  avg_class_frequency_current_month  4000 non-null   float64\n",
      " 13  churn                              4000 non-null   int64  \n",
      "dtypes: float64(3), int64(11)\n",
      "memory usage: 437.6 KB\n"
     ]
    }
   ],
   "source": [
    "# установим соответствующий формат для столбца month_to_end_contract\n",
    "\n",
    "df['month_to_end_contract'] = df['month_to_end_contract'].astype('int64')\n",
    "df.info()"
   ]
  },
  {
   "cell_type": "markdown",
   "metadata": {},
   "source": [
    "Данные подготовлены. Проведем исследовательский анализ данных."
   ]
  },
  {
   "cell_type": "markdown",
   "metadata": {},
   "source": [
    "## Исследовательский анализ данных (EDA)\n",
    "\n",
    "Прежде чем отправить данные на вход модели и получить прогнозы, рассмотрим информацию о пользователях, а также выписки из журнала посещений, изучим распределения наших критериев и целевой переменной (отток клиентов фитнес-центра), построим матрицу корреляции между критериями посетителей."
   ]
  },
  {
   "cell_type": "markdown",
   "metadata": {},
   "source": [
    "### Анализ средних значений по всей выборке"
   ]
  },
  {
   "cell_type": "markdown",
   "metadata": {},
   "source": [
    "Для начала изучим средние значения и стандартные отклонения в целом по всей выборке. Это позволит нам сделать усредненный портрет посетителя фитнес-центра, что крайне важно для планирования оттока и борьбы с данным явлением.\n"
   ]
  },
  {
   "cell_type": "code",
   "execution_count": 7,
   "metadata": {},
   "outputs": [
    {
     "data": {
      "text/html": [
       "<div>\n",
       "<style scoped>\n",
       "    .dataframe tbody tr th:only-of-type {\n",
       "        vertical-align: middle;\n",
       "    }\n",
       "\n",
       "    .dataframe tbody tr th {\n",
       "        vertical-align: top;\n",
       "    }\n",
       "\n",
       "    .dataframe thead th {\n",
       "        text-align: right;\n",
       "    }\n",
       "</style>\n",
       "<table border=\"1\" class=\"dataframe\">\n",
       "  <thead>\n",
       "    <tr style=\"text-align: right;\">\n",
       "      <th></th>\n",
       "      <th>gender</th>\n",
       "      <th>near_location</th>\n",
       "      <th>partner</th>\n",
       "      <th>promo_friends</th>\n",
       "      <th>phone</th>\n",
       "      <th>contract_period</th>\n",
       "      <th>group_visits</th>\n",
       "      <th>age</th>\n",
       "      <th>avg_additional_charges_total</th>\n",
       "      <th>month_to_end_contract</th>\n",
       "      <th>lifetime</th>\n",
       "      <th>avg_class_frequency_total</th>\n",
       "      <th>avg_class_frequency_current_month</th>\n",
       "      <th>churn</th>\n",
       "    </tr>\n",
       "  </thead>\n",
       "  <tbody>\n",
       "    <tr>\n",
       "      <th>count</th>\n",
       "      <td>4000.000000</td>\n",
       "      <td>4000.000000</td>\n",
       "      <td>4000.000000</td>\n",
       "      <td>4000.000000</td>\n",
       "      <td>4000.000000</td>\n",
       "      <td>4000.000000</td>\n",
       "      <td>4000.000000</td>\n",
       "      <td>4000.000000</td>\n",
       "      <td>4000.000000</td>\n",
       "      <td>4000.000000</td>\n",
       "      <td>4000.000000</td>\n",
       "      <td>4000.000000</td>\n",
       "      <td>4000.000000</td>\n",
       "      <td>4000.000000</td>\n",
       "    </tr>\n",
       "    <tr>\n",
       "      <th>mean</th>\n",
       "      <td>0.510250</td>\n",
       "      <td>0.845250</td>\n",
       "      <td>0.486750</td>\n",
       "      <td>0.308500</td>\n",
       "      <td>0.903500</td>\n",
       "      <td>4.681250</td>\n",
       "      <td>0.412250</td>\n",
       "      <td>29.184250</td>\n",
       "      <td>146.943728</td>\n",
       "      <td>4.322750</td>\n",
       "      <td>3.724750</td>\n",
       "      <td>1.879020</td>\n",
       "      <td>1.767052</td>\n",
       "      <td>0.265250</td>\n",
       "    </tr>\n",
       "    <tr>\n",
       "      <th>std</th>\n",
       "      <td>0.499957</td>\n",
       "      <td>0.361711</td>\n",
       "      <td>0.499887</td>\n",
       "      <td>0.461932</td>\n",
       "      <td>0.295313</td>\n",
       "      <td>4.549706</td>\n",
       "      <td>0.492301</td>\n",
       "      <td>3.258367</td>\n",
       "      <td>96.355602</td>\n",
       "      <td>4.191297</td>\n",
       "      <td>3.749267</td>\n",
       "      <td>0.972245</td>\n",
       "      <td>1.052906</td>\n",
       "      <td>0.441521</td>\n",
       "    </tr>\n",
       "    <tr>\n",
       "      <th>min</th>\n",
       "      <td>0.000000</td>\n",
       "      <td>0.000000</td>\n",
       "      <td>0.000000</td>\n",
       "      <td>0.000000</td>\n",
       "      <td>0.000000</td>\n",
       "      <td>1.000000</td>\n",
       "      <td>0.000000</td>\n",
       "      <td>18.000000</td>\n",
       "      <td>0.148205</td>\n",
       "      <td>1.000000</td>\n",
       "      <td>0.000000</td>\n",
       "      <td>0.000000</td>\n",
       "      <td>0.000000</td>\n",
       "      <td>0.000000</td>\n",
       "    </tr>\n",
       "    <tr>\n",
       "      <th>25%</th>\n",
       "      <td>0.000000</td>\n",
       "      <td>1.000000</td>\n",
       "      <td>0.000000</td>\n",
       "      <td>0.000000</td>\n",
       "      <td>1.000000</td>\n",
       "      <td>1.000000</td>\n",
       "      <td>0.000000</td>\n",
       "      <td>27.000000</td>\n",
       "      <td>68.868830</td>\n",
       "      <td>1.000000</td>\n",
       "      <td>1.000000</td>\n",
       "      <td>1.180875</td>\n",
       "      <td>0.963003</td>\n",
       "      <td>0.000000</td>\n",
       "    </tr>\n",
       "    <tr>\n",
       "      <th>50%</th>\n",
       "      <td>1.000000</td>\n",
       "      <td>1.000000</td>\n",
       "      <td>0.000000</td>\n",
       "      <td>0.000000</td>\n",
       "      <td>1.000000</td>\n",
       "      <td>1.000000</td>\n",
       "      <td>0.000000</td>\n",
       "      <td>29.000000</td>\n",
       "      <td>136.220159</td>\n",
       "      <td>1.000000</td>\n",
       "      <td>3.000000</td>\n",
       "      <td>1.832768</td>\n",
       "      <td>1.719574</td>\n",
       "      <td>0.000000</td>\n",
       "    </tr>\n",
       "    <tr>\n",
       "      <th>75%</th>\n",
       "      <td>1.000000</td>\n",
       "      <td>1.000000</td>\n",
       "      <td>1.000000</td>\n",
       "      <td>1.000000</td>\n",
       "      <td>1.000000</td>\n",
       "      <td>6.000000</td>\n",
       "      <td>1.000000</td>\n",
       "      <td>31.000000</td>\n",
       "      <td>210.949625</td>\n",
       "      <td>6.000000</td>\n",
       "      <td>5.000000</td>\n",
       "      <td>2.536078</td>\n",
       "      <td>2.510336</td>\n",
       "      <td>1.000000</td>\n",
       "    </tr>\n",
       "    <tr>\n",
       "      <th>max</th>\n",
       "      <td>1.000000</td>\n",
       "      <td>1.000000</td>\n",
       "      <td>1.000000</td>\n",
       "      <td>1.000000</td>\n",
       "      <td>1.000000</td>\n",
       "      <td>12.000000</td>\n",
       "      <td>1.000000</td>\n",
       "      <td>41.000000</td>\n",
       "      <td>552.590740</td>\n",
       "      <td>12.000000</td>\n",
       "      <td>31.000000</td>\n",
       "      <td>6.023668</td>\n",
       "      <td>6.146783</td>\n",
       "      <td>1.000000</td>\n",
       "    </tr>\n",
       "  </tbody>\n",
       "</table>\n",
       "</div>"
      ],
      "text/plain": [
       "            gender  near_location      partner  promo_friends        phone  \\\n",
       "count  4000.000000    4000.000000  4000.000000    4000.000000  4000.000000   \n",
       "mean      0.510250       0.845250     0.486750       0.308500     0.903500   \n",
       "std       0.499957       0.361711     0.499887       0.461932     0.295313   \n",
       "min       0.000000       0.000000     0.000000       0.000000     0.000000   \n",
       "25%       0.000000       1.000000     0.000000       0.000000     1.000000   \n",
       "50%       1.000000       1.000000     0.000000       0.000000     1.000000   \n",
       "75%       1.000000       1.000000     1.000000       1.000000     1.000000   \n",
       "max       1.000000       1.000000     1.000000       1.000000     1.000000   \n",
       "\n",
       "       contract_period  group_visits          age  \\\n",
       "count      4000.000000   4000.000000  4000.000000   \n",
       "mean          4.681250      0.412250    29.184250   \n",
       "std           4.549706      0.492301     3.258367   \n",
       "min           1.000000      0.000000    18.000000   \n",
       "25%           1.000000      0.000000    27.000000   \n",
       "50%           1.000000      0.000000    29.000000   \n",
       "75%           6.000000      1.000000    31.000000   \n",
       "max          12.000000      1.000000    41.000000   \n",
       "\n",
       "       avg_additional_charges_total  month_to_end_contract     lifetime  \\\n",
       "count                   4000.000000            4000.000000  4000.000000   \n",
       "mean                     146.943728               4.322750     3.724750   \n",
       "std                       96.355602               4.191297     3.749267   \n",
       "min                        0.148205               1.000000     0.000000   \n",
       "25%                       68.868830               1.000000     1.000000   \n",
       "50%                      136.220159               1.000000     3.000000   \n",
       "75%                      210.949625               6.000000     5.000000   \n",
       "max                      552.590740              12.000000    31.000000   \n",
       "\n",
       "       avg_class_frequency_total  avg_class_frequency_current_month  \\\n",
       "count                4000.000000                        4000.000000   \n",
       "mean                    1.879020                           1.767052   \n",
       "std                     0.972245                           1.052906   \n",
       "min                     0.000000                           0.000000   \n",
       "25%                     1.180875                           0.963003   \n",
       "50%                     1.832768                           1.719574   \n",
       "75%                     2.536078                           2.510336   \n",
       "max                     6.023668                           6.146783   \n",
       "\n",
       "             churn  \n",
       "count  4000.000000  \n",
       "mean      0.265250  \n",
       "std       0.441521  \n",
       "min       0.000000  \n",
       "25%       0.000000  \n",
       "50%       0.000000  \n",
       "75%       1.000000  \n",
       "max       1.000000  "
      ]
     },
     "execution_count": 7,
     "metadata": {},
     "output_type": "execute_result"
    }
   ],
   "source": [
    "# изучим средние значения\n",
    "\n",
    "df.describe()"
   ]
  },
  {
   "cell_type": "markdown",
   "metadata": {},
   "source": [
    "Получаем усредненный портрет посетителя фитнес-центра:\n",
    "\n",
    "    Женщина;\n",
    "    29 лет;\n",
    "    Проживает/работает рядом с фитнес-центром;\n",
    "    Есть контактный номер телефона;\n",
    "    \n",
    "    Не является сотрудником организации-партнера;\n",
    "    Не участник акции \"Приведи друга\";\n",
    "    \n",
    "    С момента первого обращения прошло 3 месяца;\n",
    "    Текущий абонемент на месяц;\n",
    "    До окончания текущего действующего абонемента 1 месяц;\n",
    "    Не посещает групповые занятия;\n",
    "    \n",
    "    Средняя частота посещений в неделю за все время: 1-2 раза;\n",
    "    Средняя частота посещений в неделю за предыдущий месяц: 1-2 раза;\n",
    "    Суммарная выручка от других услуг фитнес-центра: 136 - 146 у.е.\n",
    "\n",
    "Определим, в чем различия между теми, кто ушел в отток и теми, кто остался."
   ]
  },
  {
   "cell_type": "markdown",
   "metadata": {},
   "source": [
    "### Анализ средних значений по целевому признаку"
   ]
  },
  {
   "cell_type": "markdown",
   "metadata": {},
   "source": [
    "Рассмотрим различия в портретах отвалившихся посетителей и оставшихся."
   ]
  },
  {
   "cell_type": "code",
   "execution_count": 8,
   "metadata": {
    "scrolled": true
   },
   "outputs": [
    {
     "data": {
      "text/html": [
       "<div>\n",
       "<style scoped>\n",
       "    .dataframe tbody tr th:only-of-type {\n",
       "        vertical-align: middle;\n",
       "    }\n",
       "\n",
       "    .dataframe tbody tr th {\n",
       "        vertical-align: top;\n",
       "    }\n",
       "\n",
       "    .dataframe thead th {\n",
       "        text-align: right;\n",
       "    }\n",
       "</style>\n",
       "<table border=\"1\" class=\"dataframe\">\n",
       "  <thead>\n",
       "    <tr style=\"text-align: right;\">\n",
       "      <th></th>\n",
       "      <th>gender</th>\n",
       "      <th>near_location</th>\n",
       "      <th>partner</th>\n",
       "      <th>promo_friends</th>\n",
       "      <th>phone</th>\n",
       "      <th>contract_period</th>\n",
       "      <th>group_visits</th>\n",
       "      <th>age</th>\n",
       "      <th>avg_additional_charges_total</th>\n",
       "      <th>month_to_end_contract</th>\n",
       "      <th>lifetime</th>\n",
       "      <th>avg_class_frequency_total</th>\n",
       "      <th>avg_class_frequency_current_month</th>\n",
       "    </tr>\n",
       "    <tr>\n",
       "      <th>churn</th>\n",
       "      <th></th>\n",
       "      <th></th>\n",
       "      <th></th>\n",
       "      <th></th>\n",
       "      <th></th>\n",
       "      <th></th>\n",
       "      <th></th>\n",
       "      <th></th>\n",
       "      <th></th>\n",
       "      <th></th>\n",
       "      <th></th>\n",
       "      <th></th>\n",
       "      <th></th>\n",
       "    </tr>\n",
       "  </thead>\n",
       "  <tbody>\n",
       "    <tr>\n",
       "      <th>0</th>\n",
       "      <td>0.510037</td>\n",
       "      <td>0.873086</td>\n",
       "      <td>0.534195</td>\n",
       "      <td>0.353522</td>\n",
       "      <td>0.903709</td>\n",
       "      <td>5.747193</td>\n",
       "      <td>0.464103</td>\n",
       "      <td>29.976523</td>\n",
       "      <td>158.445715</td>\n",
       "      <td>5.283089</td>\n",
       "      <td>4.711807</td>\n",
       "      <td>2.024876</td>\n",
       "      <td>2.027882</td>\n",
       "    </tr>\n",
       "    <tr>\n",
       "      <th>1</th>\n",
       "      <td>0.510839</td>\n",
       "      <td>0.768143</td>\n",
       "      <td>0.355325</td>\n",
       "      <td>0.183789</td>\n",
       "      <td>0.902922</td>\n",
       "      <td>1.728558</td>\n",
       "      <td>0.268615</td>\n",
       "      <td>26.989632</td>\n",
       "      <td>115.082899</td>\n",
       "      <td>1.662582</td>\n",
       "      <td>0.990575</td>\n",
       "      <td>1.474995</td>\n",
       "      <td>1.044546</td>\n",
       "    </tr>\n",
       "  </tbody>\n",
       "</table>\n",
       "</div>"
      ],
      "text/plain": [
       "         gender  near_location   partner  promo_friends     phone  \\\n",
       "churn                                                               \n",
       "0      0.510037       0.873086  0.534195       0.353522  0.903709   \n",
       "1      0.510839       0.768143  0.355325       0.183789  0.902922   \n",
       "\n",
       "       contract_period  group_visits        age  avg_additional_charges_total  \\\n",
       "churn                                                                           \n",
       "0             5.747193      0.464103  29.976523                    158.445715   \n",
       "1             1.728558      0.268615  26.989632                    115.082899   \n",
       "\n",
       "       month_to_end_contract  lifetime  avg_class_frequency_total  \\\n",
       "churn                                                               \n",
       "0                   5.283089  4.711807                   2.024876   \n",
       "1                   1.662582  0.990575                   1.474995   \n",
       "\n",
       "       avg_class_frequency_current_month  \n",
       "churn                                     \n",
       "0                               2.027882  \n",
       "1                               1.044546  "
      ]
     },
     "execution_count": 8,
     "metadata": {},
     "output_type": "execute_result"
    }
   ],
   "source": [
    "# выводим средние значения\n",
    "\n",
    "df.groupby('churn').mean()"
   ]
  },
  {
   "cell_type": "code",
   "execution_count": 9,
   "metadata": {},
   "outputs": [
    {
     "data": {
      "text/html": [
       "<div>\n",
       "<style scoped>\n",
       "    .dataframe tbody tr th:only-of-type {\n",
       "        vertical-align: middle;\n",
       "    }\n",
       "\n",
       "    .dataframe tbody tr th {\n",
       "        vertical-align: top;\n",
       "    }\n",
       "\n",
       "    .dataframe thead th {\n",
       "        text-align: right;\n",
       "    }\n",
       "</style>\n",
       "<table border=\"1\" class=\"dataframe\">\n",
       "  <thead>\n",
       "    <tr style=\"text-align: right;\">\n",
       "      <th></th>\n",
       "      <th>gender</th>\n",
       "      <th>near_location</th>\n",
       "      <th>partner</th>\n",
       "      <th>promo_friends</th>\n",
       "      <th>phone</th>\n",
       "      <th>contract_period</th>\n",
       "      <th>group_visits</th>\n",
       "      <th>age</th>\n",
       "      <th>avg_additional_charges_total</th>\n",
       "      <th>month_to_end_contract</th>\n",
       "      <th>lifetime</th>\n",
       "      <th>avg_class_frequency_total</th>\n",
       "      <th>avg_class_frequency_current_month</th>\n",
       "    </tr>\n",
       "    <tr>\n",
       "      <th>churn</th>\n",
       "      <th></th>\n",
       "      <th></th>\n",
       "      <th></th>\n",
       "      <th></th>\n",
       "      <th></th>\n",
       "      <th></th>\n",
       "      <th></th>\n",
       "      <th></th>\n",
       "      <th></th>\n",
       "      <th></th>\n",
       "      <th></th>\n",
       "      <th></th>\n",
       "      <th></th>\n",
       "    </tr>\n",
       "  </thead>\n",
       "  <tbody>\n",
       "    <tr>\n",
       "      <th>0</th>\n",
       "      <td>1</td>\n",
       "      <td>1</td>\n",
       "      <td>1</td>\n",
       "      <td>0</td>\n",
       "      <td>1</td>\n",
       "      <td>6</td>\n",
       "      <td>0</td>\n",
       "      <td>30</td>\n",
       "      <td>149.881171</td>\n",
       "      <td>6</td>\n",
       "      <td>4</td>\n",
       "      <td>2.043252</td>\n",
       "      <td>2.046697</td>\n",
       "    </tr>\n",
       "    <tr>\n",
       "      <th>1</th>\n",
       "      <td>1</td>\n",
       "      <td>1</td>\n",
       "      <td>0</td>\n",
       "      <td>0</td>\n",
       "      <td>1</td>\n",
       "      <td>1</td>\n",
       "      <td>0</td>\n",
       "      <td>27</td>\n",
       "      <td>103.814686</td>\n",
       "      <td>1</td>\n",
       "      <td>1</td>\n",
       "      <td>1.491187</td>\n",
       "      <td>0.979445</td>\n",
       "    </tr>\n",
       "  </tbody>\n",
       "</table>\n",
       "</div>"
      ],
      "text/plain": [
       "       gender  near_location  partner  promo_friends  phone  contract_period  \\\n",
       "churn                                                                          \n",
       "0           1              1        1              0      1                6   \n",
       "1           1              1        0              0      1                1   \n",
       "\n",
       "       group_visits  age  avg_additional_charges_total  month_to_end_contract  \\\n",
       "churn                                                                           \n",
       "0                 0   30                    149.881171                      6   \n",
       "1                 0   27                    103.814686                      1   \n",
       "\n",
       "       lifetime  avg_class_frequency_total  avg_class_frequency_current_month  \n",
       "churn                                                                          \n",
       "0             4                   2.043252                           2.046697  \n",
       "1             1                   1.491187                           0.979445  "
      ]
     },
     "execution_count": 9,
     "metadata": {},
     "output_type": "execute_result"
    }
   ],
   "source": [
    "# выводим медианные значения\n",
    "\n",
    "df.groupby('churn').median()"
   ]
  },
  {
   "cell_type": "markdown",
   "metadata": {},
   "source": [
    "Отобразим графически распределение посетителей по целевому признаку."
   ]
  },
  {
   "cell_type": "code",
   "execution_count": 10,
   "metadata": {
    "scrolled": true
   },
   "outputs": [
    {
     "data": {
      "image/png": "[encoded data removed]",
      "text/plain": [
       "<Figure size 432x288 with 1 Axes>"
      ]
     },
     "metadata": {
      "needs_background": "light"
     },
     "output_type": "display_data"
    },
    {
     "data": {
      "image/png": "[encoded data removed]",
      "text/plain": [
       "<Figure size 432x288 with 1 Axes>"
      ]
     },
     "metadata": {
      "needs_background": "light"
     },
     "output_type": "display_data"
    },
    {
     "data": {
      "image/png": "[encoded data removed]",
      "text/plain": [
       "<Figure size 432x288 with 1 Axes>"
      ]
     },
     "metadata": {
      "needs_background": "light"
     },
     "output_type": "display_data"
    },
    {
     "data": {
      "image/png": "[encoded data removed]",
      "text/plain": [
       "<Figure size 432x288 with 1 Axes>"
      ]
     },
     "metadata": {
      "needs_background": "light"
     },
     "output_type": "display_data"
    },
    {
     "data": {
      "image/png": "[encoded data removed]",
      "text/plain": [
       "<Figure size 432x288 with 1 Axes>"
      ]
     },
     "metadata": {
      "needs_background": "light"
     },
     "output_type": "display_data"
    },
    {
     "data": {
      "image/png": "[encoded data removed]",
      "text/plain": [
       "<Figure size 432x288 with 1 Axes>"
      ]
     },
     "metadata": {
      "needs_background": "light"
     },
     "output_type": "display_data"
    },
    {
     "data": {
      "image/png": "[encoded data removed]",
      "text/plain": [
       "<Figure size 432x288 with 1 Axes>"
      ]
     },
     "metadata": {
      "needs_background": "light"
     },
     "output_type": "display_data"
    },
    {
     "data": {
      "image/png": "[encoded data removed]",
      "text/plain": [
       "<Figure size 432x288 with 1 Axes>"
      ]
     },
     "metadata": {
      "needs_background": "light"
     },
     "output_type": "display_data"
    },
    {
     "data": {
      "image/png": "[encoded data removed]",
      "text/plain": [
       "<Figure size 432x288 with 1 Axes>"
      ]
     },
     "metadata": {
      "needs_background": "light"
     },
     "output_type": "display_data"
    },
    {
     "data": {
      "image/png": "[encoded data removed]",
      "text/plain": [
       "<Figure size 432x288 with 1 Axes>"
      ]
     },
     "metadata": {
      "needs_background": "light"
     },
     "output_type": "display_data"
    },
    {
     "data": {
      "image/png": "[encoded data removed]",
      "text/plain": [
       "<Figure size 432x288 with 1 Axes>"
      ]
     },
     "metadata": {
      "needs_background": "light"
     },
     "output_type": "display_data"
    },
    {
     "data": {
      "image/png": "[encoded data removed]",
      "text/plain": [
       "<Figure size 432x288 with 1 Axes>"
      ]
     },
     "metadata": {
      "needs_background": "light"
     },
     "output_type": "display_data"
    },
    {
     "data": {
      "image/png": "[encoded data removed]",
      "text/plain": [
       "<Figure size 432x288 with 1 Axes>"
      ]
     },
     "metadata": {
      "needs_background": "light"
     },
     "output_type": "display_data"
    }
   ],
   "source": [
    "# создадим функцию для построения графиков\n",
    "\n",
    "def feat_hist(x, group_col, key_cols):\n",
    "    x_new = x.copy()[key_cols]\n",
    "    for c in key_cols:\n",
    "        \n",
    "        if c == group_col:\n",
    "            continue\n",
    "        \n",
    "        if len(x_new[c].unique()) < 10:\n",
    "            report = x_new.reset_index().pivot_table(index = c, columns = group_col, values = 'index', aggfunc = 'count')\n",
    "            report.plot(kind = 'bar', stacked = True, alpha = 0.5) \n",
    "        \n",
    "        else:\n",
    "            for cl in x[group_col].unique():\n",
    "                sns.distplot(x_new[x_new[group_col] == cl][c], label = '{}={}'.format(group_col, str(cl)), bins = 10)\n",
    "        plt.title(c)\n",
    "        plt.legend()\n",
    "        plt.show()\n",
    "\n",
    "# строим графики\n",
    "\n",
    "feat_hist(df, 'churn', df.columns)"
   ]
  },
  {
   "cell_type": "markdown",
   "metadata": {},
   "source": [
    "Получаем различия в портретах пользователей по целевому признаку:\n",
    "\n",
    "|Критерий |Остались|Ушли|\n",
    "|:-----|:----:|----:|\n",
    "|Пол |Женщина |Женщина |\n",
    "|Возраст |Старше 30 |Моложе 30 |\n",
    "|Проживает/работает рядом |Да |Да |\n",
    "|Контактный номер телефона |Да |Да |\n",
    "|Сотрудник организации-партнера |Да |Нет |\n",
    "|Акция \"Приведи друга\" |Нет |Нет |\n",
    "|С момента первого обращения прошло |4 |1 |\n",
    "|Текущий абонемент |6 |1 |\n",
    "|До окончания текущего действующего абонемента |6 |1 |\n",
    "|Групповые занятия |Нет |Нет |\n",
    "|Средняя частота посещений в неделю за все время |2 |1 |\n",
    "|Средняя частота посещений в неделю за предыдущий месяц |2 |Реже 1 раза |\n",
    "|Суммарная выручка от других услуг фитнес-центра |149 - 158 |103 - 115 |"
   ]
  },
  {
   "cell_type": "markdown",
   "metadata": {},
   "source": [
    "### Матрица корреляций"
   ]
  },
  {
   "cell_type": "markdown",
   "metadata": {},
   "source": [
    "Для определения степени влияния наших критериев на отток посетитетелей, построим матрицу корреляций. Она позволит понять, какие признаки станут ключевыми для модели прогнозирования оттока, а какими можно и даже нужно пренебречь."
   ]
  },
  {
   "cell_type": "code",
   "execution_count": 11,
   "metadata": {
    "scrolled": true
   },
   "outputs": [
    {
     "data": {
      "image/png": "[encoded data removed]",
      "text/plain": [
       "<Figure size 1080x1080 with 2 Axes>"
      ]
     },
     "metadata": {
      "needs_background": "light"
     },
     "output_type": "display_data"
    }
   ],
   "source": [
    "plt.figure(figsize=(15,15))\n",
    "sns.heatmap(df.corr(), square = True, annot = True)\n",
    "plt.title('Корреляционная матрица критериев посетителей фитнес-центра')\n",
    "plt.show()"
   ]
  },
  {
   "cell_type": "markdown",
   "metadata": {},
   "source": [
    "Сильно коррелируют между собой несколько критериев: кол-во месяцев до окончания текущего действующего абонемента и срок текущего абонемент, а также  средняя частота посещений в неделю за все время/за предыдущий месяц. Это приводит нас к проблеме мультиколлинеарности. \n",
    "\n",
    "Чтобы избавиться от мультиколлинеарности и получить достоверные результаты регрессии, удалим из датафрейма один столбец из каждой пары :"
   ]
  },
  {
   "cell_type": "code",
   "execution_count": 12,
   "metadata": {
    "scrolled": false
   },
   "outputs": [],
   "source": [
    "# убираем один из пары коррелирующих признаков \n",
    "\n",
    "for col in ['avg_class_frequency_total', 'contract_period']:\n",
    "    df.drop(col, axis = 1, inplace = True) "
   ]
  },
  {
   "cell_type": "markdown",
   "metadata": {},
   "source": [
    "## Построение модели прогнозирования оттока пользователей\n"
   ]
  },
  {
   "cell_type": "markdown",
   "metadata": {},
   "source": [
    "Приступим к построению модели прогнозирования оттока посетителей фитнес-центра.\n",
    "\n",
    "**Целевой признак** - факт оттока пользователя в следующем месяце. \n",
    "\n",
    "Поскольку наш целевой признак принимает лишь 2 значения (0 и 1), можно его отнести к бинарной величине. Тогда для решения нашей задачи подойдет логическая регрессия. Построим модель."
   ]
  },
  {
   "cell_type": "markdown",
   "metadata": {},
   "source": [
    "### Логическая регрессия"
   ]
  },
  {
   "cell_type": "code",
   "execution_count": 13,
   "metadata": {},
   "outputs": [],
   "source": [
    "# разделяем данные на критерии и целевую переменную\n",
    "\n",
    "X = df.drop('churn', axis = 1)\n",
    "y = df['churn']\n",
    "\n",
    "# разделяем модель на обучающую и валидационную выборки\n",
    "\n",
    "X_train, X_test, y_train, y_test = train_test_split(X, y, test_size=0.2, random_state=0)"
   ]
  },
  {
   "cell_type": "code",
   "execution_count": 14,
   "metadata": {},
   "outputs": [],
   "source": [
    "# создадим функцию для моделирования и рассчета метрик\n",
    "\n",
    "def prediction_metrics(m, X_train, X_test, y_train, y_test):\n",
    "    \n",
    "    model = m\n",
    "    model.fit(X_train, y_train)\n",
    "    predictions = model.predict(X_test)\n",
    "    probabilities = model.predict_proba(X_test)[:,1]\n",
    "    \n",
    "    print(m)\n",
    "    print('\\tAccuracy: {:.2f}'.format(accuracy_score(y_test, predictions)))\n",
    "    print('\\tPrecision: {:.2f}'.format(precision_score(y_test, predictions)))\n",
    "    print('\\tRecall: {:.2f}'.format(recall_score(y_test, predictions)))\n",
    "    print('\\tF1: {:.2f}'.format(f1_score(y_test, predictions)))\n",
    "    print('\\tROC_AUC: {:.2f}'.format(roc_auc_score(y_test, probabilities)))"
   ]
  },
  {
   "cell_type": "code",
   "execution_count": 15,
   "metadata": {},
   "outputs": [
    {
     "name": "stdout",
     "output_type": "stream",
     "text": [
      "LogisticRegression(random_state=0, solver='liblinear')\n",
      "\tAccuracy: 0.90\n",
      "\tPrecision: 0.80\n",
      "\tRecall: 0.79\n",
      "\tF1: 0.79\n",
      "\tROC_AUC: 0.96\n"
     ]
    }
   ],
   "source": [
    "# обучим модель через логическую регрессию\n",
    "\n",
    "lr_model = LogisticRegression(random_state=0, solver='liblinear') \n",
    "prediction_metrics(lr_model, X_train, X_test, y_train, y_test)"
   ]
  },
  {
   "cell_type": "markdown",
   "metadata": {},
   "source": [
    "Правильно прогнозируем 90% значений, точность и полнота также находятся на хорошем уровне (баланс между ними близок к 1), а размер площади под кривой говорит о хорошем качестве полученного прогноза, иными словами, модель работает."
   ]
  },
  {
   "cell_type": "markdown",
   "metadata": {},
   "source": [
    "### Случайный лес"
   ]
  },
  {
   "cell_type": "markdown",
   "metadata": {},
   "source": [
    "Чтобы избежать ошибок, которые могут быть в линейной регрессии (неравномерность распределения по группам по целевому критерию), проверим зависимость критериев на отток через еще одну модель прогнозирования - случайный лес (распределение происходит случайным образом)."
   ]
  },
  {
   "cell_type": "code",
   "execution_count": 16,
   "metadata": {},
   "outputs": [
    {
     "name": "stdout",
     "output_type": "stream",
     "text": [
      "RandomForestClassifier(random_state=0)\n",
      "\tAccuracy: 0.91\n",
      "\tPrecision: 0.83\n",
      "\tRecall: 0.79\n",
      "\tF1: 0.81\n",
      "\tROC_AUC: 0.95\n"
     ]
    }
   ],
   "source": [
    "# обучим модель через случайный лес\n",
    "\n",
    "rf_model = RandomForestClassifier(n_estimators = 100, random_state=0)\n",
    "prediction_metrics(rf_model, X_train, X_test, y_train, y_test)"
   ]
  },
  {
   "cell_type": "markdown",
   "metadata": {},
   "source": [
    "Правильно прогнозируем 91% значений, точность и полнота также находятся на хорошем уровне (баланс между ними близок к 1), а размер площади под кривой говорит о хорошем качестве полученного прогноза, иными словами, модель работает."
   ]
  },
  {
   "cell_type": "markdown",
   "metadata": {},
   "source": [
    "Таким образом, мы получили 2 рабочии модели прогнозирования оттока посетителей фитнес-центра с высоким качеством полученного прогноза."
   ]
  },
  {
   "cell_type": "markdown",
   "metadata": {},
   "source": [
    "## Кластеризация пользователей\n"
   ]
  },
  {
   "cell_type": "markdown",
   "metadata": {},
   "source": [
    "Чтобы минимизировать отток посетителей из фитнес-центра, необходимо распределить клиентов на группы: для каждой группы клиентов предлагать персональные услуги/скидки/опции, поддерживая их интерес к посещениям.\n",
    "\n",
    "Произведем кластеризацию наших пользователей сети фитнес-центров."
   ]
  },
  {
   "cell_type": "markdown",
   "metadata": {},
   "source": [
    "### Агломеративная иерархическая кластеризация"
   ]
  },
  {
   "cell_type": "code",
   "execution_count": 17,
   "metadata": {},
   "outputs": [],
   "source": [
    "# составим датасет из критериев\n",
    "\n",
    "df_feature = df.drop('churn', axis = 1)"
   ]
  },
  {
   "cell_type": "code",
   "execution_count": 18,
   "metadata": {},
   "outputs": [],
   "source": [
    "# стандартизируем данные\n",
    "\n",
    "sc = StandardScaler()\n",
    "x_sc = sc.fit_transform(df_feature)"
   ]
  },
  {
   "cell_type": "code",
   "execution_count": 19,
   "metadata": {},
   "outputs": [
    {
     "data": {
      "image/png": "[encoded data removed]",
      "text/plain": [
       "<Figure size 1080x720 with 1 Axes>"
      ]
     },
     "metadata": {
      "needs_background": "light"
     },
     "output_type": "display_data"
    }
   ],
   "source": [
    "# построим матрицу расстояний\n",
    "\n",
    "linked = linkage(x_sc, method = 'ward') \n",
    "\n",
    "# построим дендрограмму\n",
    "\n",
    "plt.figure(figsize=(15, 10))  \n",
    "dendrogram(linked, orientation='top')\n",
    "plt.title('Дендрограмма для кластеризации посетителей фитнес-центра')\n",
    "plt.show()"
   ]
  },
  {
   "cell_type": "markdown",
   "metadata": {},
   "source": [
    "Предложенное оптимальное число кластеров 4 — четыре разных цвета на графике. То есть для корректной работы с посетителями центра необходимо их поделить на 4 группы, а для каждой группы прописать пинципы работы и общения.\n",
    "\n",
    "Поскольку расчет и построение дендрограммы довольно сложен и долог, запустим кластеризацию посетителей по алгоритму K-Means."
   ]
  },
  {
   "cell_type": "markdown",
   "metadata": {},
   "source": [
    "### K-Means"
   ]
  },
  {
   "cell_type": "code",
   "execution_count": 20,
   "metadata": {},
   "outputs": [
    {
     "data": {
      "text/html": [
       "<div>\n",
       "<style scoped>\n",
       "    .dataframe tbody tr th:only-of-type {\n",
       "        vertical-align: middle;\n",
       "    }\n",
       "\n",
       "    .dataframe tbody tr th {\n",
       "        vertical-align: top;\n",
       "    }\n",
       "\n",
       "    .dataframe thead th {\n",
       "        text-align: right;\n",
       "    }\n",
       "</style>\n",
       "<table border=\"1\" class=\"dataframe\">\n",
       "  <thead>\n",
       "    <tr style=\"text-align: right;\">\n",
       "      <th></th>\n",
       "      <th>gender</th>\n",
       "      <th>near_location</th>\n",
       "      <th>partner</th>\n",
       "      <th>promo_friends</th>\n",
       "      <th>phone</th>\n",
       "      <th>group_visits</th>\n",
       "      <th>age</th>\n",
       "      <th>avg_additional_charges_total</th>\n",
       "      <th>month_to_end_contract</th>\n",
       "      <th>lifetime</th>\n",
       "      <th>avg_class_frequency_current_month</th>\n",
       "    </tr>\n",
       "    <tr>\n",
       "      <th>cluster_km</th>\n",
       "      <th></th>\n",
       "      <th></th>\n",
       "      <th></th>\n",
       "      <th></th>\n",
       "      <th></th>\n",
       "      <th></th>\n",
       "      <th></th>\n",
       "      <th></th>\n",
       "      <th></th>\n",
       "      <th></th>\n",
       "      <th></th>\n",
       "    </tr>\n",
       "  </thead>\n",
       "  <tbody>\n",
       "    <tr>\n",
       "      <th>0</th>\n",
       "      <td>0</td>\n",
       "      <td>1</td>\n",
       "      <td>1</td>\n",
       "      <td>1</td>\n",
       "      <td>1</td>\n",
       "      <td>1</td>\n",
       "      <td>30</td>\n",
       "      <td>148.286008</td>\n",
       "      <td>6</td>\n",
       "      <td>3</td>\n",
       "      <td>1.901862</td>\n",
       "    </tr>\n",
       "    <tr>\n",
       "      <th>1</th>\n",
       "      <td>0</td>\n",
       "      <td>1</td>\n",
       "      <td>0</td>\n",
       "      <td>0</td>\n",
       "      <td>1</td>\n",
       "      <td>0</td>\n",
       "      <td>30</td>\n",
       "      <td>165.249586</td>\n",
       "      <td>1</td>\n",
       "      <td>4</td>\n",
       "      <td>2.240843</td>\n",
       "    </tr>\n",
       "    <tr>\n",
       "      <th>2</th>\n",
       "      <td>1</td>\n",
       "      <td>1</td>\n",
       "      <td>0</td>\n",
       "      <td>0</td>\n",
       "      <td>1</td>\n",
       "      <td>0</td>\n",
       "      <td>27</td>\n",
       "      <td>97.941120</td>\n",
       "      <td>1</td>\n",
       "      <td>1</td>\n",
       "      <td>0.882173</td>\n",
       "    </tr>\n",
       "    <tr>\n",
       "      <th>3</th>\n",
       "      <td>1</td>\n",
       "      <td>0</td>\n",
       "      <td>0</td>\n",
       "      <td>0</td>\n",
       "      <td>1</td>\n",
       "      <td>0</td>\n",
       "      <td>29</td>\n",
       "      <td>124.999854</td>\n",
       "      <td>1</td>\n",
       "      <td>2</td>\n",
       "      <td>1.507663</td>\n",
       "    </tr>\n",
       "    <tr>\n",
       "      <th>4</th>\n",
       "      <td>1</td>\n",
       "      <td>1</td>\n",
       "      <td>0</td>\n",
       "      <td>0</td>\n",
       "      <td>1</td>\n",
       "      <td>1</td>\n",
       "      <td>30</td>\n",
       "      <td>148.480550</td>\n",
       "      <td>2</td>\n",
       "      <td>3</td>\n",
       "      <td>2.065445</td>\n",
       "    </tr>\n",
       "  </tbody>\n",
       "</table>\n",
       "</div>"
      ],
      "text/plain": [
       "            gender  near_location  partner  promo_friends  phone  \\\n",
       "cluster_km                                                         \n",
       "0                0              1        1              1      1   \n",
       "1                0              1        0              0      1   \n",
       "2                1              1        0              0      1   \n",
       "3                1              0        0              0      1   \n",
       "4                1              1        0              0      1   \n",
       "\n",
       "            group_visits  age  avg_additional_charges_total  \\\n",
       "cluster_km                                                    \n",
       "0                      1   30                    148.286008   \n",
       "1                      0   30                    165.249586   \n",
       "2                      0   27                     97.941120   \n",
       "3                      0   29                    124.999854   \n",
       "4                      1   30                    148.480550   \n",
       "\n",
       "            month_to_end_contract  lifetime  avg_class_frequency_current_month  \n",
       "cluster_km                                                                      \n",
       "0                               6         3                           1.901862  \n",
       "1                               1         4                           2.240843  \n",
       "2                               1         1                           0.882173  \n",
       "3                               1         2                           1.507663  \n",
       "4                               2         3                           2.065445  "
      ]
     },
     "metadata": {},
     "output_type": "display_data"
    }
   ],
   "source": [
    "# задаём модель k_means с числом кластеров 5 и фиксируем значение random_state\n",
    "\n",
    "km = KMeans(n_clusters=5, random_state=0)\n",
    "\n",
    "# прогнозируем кластеры для наблюдений\n",
    "\n",
    "labels = km.fit_predict(x_sc)\n",
    "\n",
    "# сохраняем метки кластера в поле нашего датасета\n",
    "\n",
    "df_feature['cluster_km'] = labels\n",
    "\n",
    "# выводим статистику по средним значениям наших признаков по кластерам\n",
    "\n",
    "display(df_feature.groupby('cluster_km').median())"
   ]
  },
  {
   "cell_type": "markdown",
   "metadata": {},
   "source": [
    "Получаем 5 портретов пользователей:\n",
    "\n",
    "|Критерий |0|1|2|3|4|\n",
    "|:-----|:----:|----:|----:|----:|----:|\n",
    "|Пол |Мужчина |Мужчина |Женщина |Женщина |Женщина |\n",
    "|Возраст |30 |30 |27 |29 |30 |\n",
    "|Проживает/работает рядом |Да |Да |Да |Нет |Да |\n",
    "|Контактный номер телефона |Да |Да |Да |Да |Да |\n",
    "|Сотрудник организации-партнера |Да |Нет |Нет |Нет |Нет |\n",
    "|Акция \"Приведи друга\" |Да |Нет |Нет |Нет |Нет |\n",
    "|С момента первого обращения прошло |3 |4 |1 |2 |3 |\n",
    "|До окончания текущего действующего абонемента |6 |1 |1 |1 |2 |\n",
    "|Групповые занятия |Да |Нет |Нет |Нет |Да |\n",
    "|Средняя частота посещений в неделю за предыдущий месяц |1 |2 |0 |1 |2 |\n",
    "|Суммарная выручка от других услуг фитнес-центра |148 |165 |97 |124 |148 |"
   ]
  },
  {
   "cell_type": "code",
   "execution_count": 21,
   "metadata": {
    "scrolled": false
   },
   "outputs": [
    {
     "data": {
      "image/png": "[encoded data removed]",
      "text/plain": [
       "<Figure size 432x288 with 1 Axes>"
      ]
     },
     "metadata": {
      "needs_background": "light"
     },
     "output_type": "display_data"
    },
    {
     "data": {
      "image/png": "[encoded data removed]",
      "text/plain": [
       "<Figure size 432x288 with 1 Axes>"
      ]
     },
     "metadata": {
      "needs_background": "light"
     },
     "output_type": "display_data"
    },
    {
     "data": {
      "image/png": "[encoded data removed]",
      "text/plain": [
       "<Figure size 432x288 with 1 Axes>"
      ]
     },
     "metadata": {
      "needs_background": "light"
     },
     "output_type": "display_data"
    },
    {
     "data": {
      "image/png": "[encoded data removed]",
      "text/plain": [
       "<Figure size 432x288 with 1 Axes>"
      ]
     },
     "metadata": {
      "needs_background": "light"
     },
     "output_type": "display_data"
    },
    {
     "data": {
      "image/png": "[encoded data removed]",
      "text/plain": [
       "<Figure size 432x288 with 1 Axes>"
      ]
     },
     "metadata": {
      "needs_background": "light"
     },
     "output_type": "display_data"
    },
    {
     "data": {
      "image/png": "[encoded data removed]",
      "text/plain": [
       "<Figure size 432x288 with 1 Axes>"
      ]
     },
     "metadata": {
      "needs_background": "light"
     },
     "output_type": "display_data"
    },
    {
     "data": {
      "image/png": "[encoded data removed]",
      "text/plain": [
       "<Figure size 432x288 with 1 Axes>"
      ]
     },
     "metadata": {
      "needs_background": "light"
     },
     "output_type": "display_data"
    },
    {
     "data": {
      "image/png": "[encoded data removed]",
      "text/plain": [
       "<Figure size 432x288 with 1 Axes>"
      ]
     },
     "metadata": {
      "needs_background": "light"
     },
     "output_type": "display_data"
    },
    {
     "data": {
      "image/png": "[encoded data removed]",
      "text/plain": [
       "<Figure size 432x288 with 1 Axes>"
      ]
     },
     "metadata": {
      "needs_background": "light"
     },
     "output_type": "display_data"
    },
    {
     "data": {
      "image/png": "[encoded data removed]",
      "text/plain": [
       "<Figure size 432x288 with 1 Axes>"
      ]
     },
     "metadata": {
      "needs_background": "light"
     },
     "output_type": "display_data"
    },
    {
     "data": {
      "image/png": "[encoded data removed]",
      "text/plain": [
       "<Figure size 432x288 with 1 Axes>"
      ]
     },
     "metadata": {
      "needs_background": "light"
     },
     "output_type": "display_data"
    }
   ],
   "source": [
    "# отрисуем графики для попарных сочетаний признаков с разметкой по кластерам\n",
    "\n",
    "feat_hist(df_feature, 'cluster_km', df_feature.columns)"
   ]
  },
  {
   "cell_type": "markdown",
   "metadata": {},
   "source": [
    "Для каждого полученного кластера посчитаем долю оттока."
   ]
  },
  {
   "cell_type": "code",
   "execution_count": 22,
   "metadata": {},
   "outputs": [
    {
     "data": {
      "text/html": [
       "<div>\n",
       "<style scoped>\n",
       "    .dataframe tbody tr th:only-of-type {\n",
       "        vertical-align: middle;\n",
       "    }\n",
       "\n",
       "    .dataframe tbody tr th {\n",
       "        vertical-align: top;\n",
       "    }\n",
       "\n",
       "    .dataframe thead th {\n",
       "        text-align: right;\n",
       "    }\n",
       "</style>\n",
       "<table border=\"1\" class=\"dataframe\">\n",
       "  <thead>\n",
       "    <tr style=\"text-align: right;\">\n",
       "      <th></th>\n",
       "      <th>gender</th>\n",
       "      <th>near_location</th>\n",
       "      <th>partner</th>\n",
       "      <th>promo_friends</th>\n",
       "      <th>phone</th>\n",
       "      <th>group_visits</th>\n",
       "      <th>age</th>\n",
       "      <th>avg_additional_charges_total</th>\n",
       "      <th>month_to_end_contract</th>\n",
       "      <th>lifetime</th>\n",
       "      <th>avg_class_frequency_current_month</th>\n",
       "      <th>churn</th>\n",
       "      <th>cluster</th>\n",
       "    </tr>\n",
       "  </thead>\n",
       "  <tbody>\n",
       "    <tr>\n",
       "      <th>0</th>\n",
       "      <td>1</td>\n",
       "      <td>1</td>\n",
       "      <td>1</td>\n",
       "      <td>1</td>\n",
       "      <td>0</td>\n",
       "      <td>1</td>\n",
       "      <td>29</td>\n",
       "      <td>14.227470</td>\n",
       "      <td>5</td>\n",
       "      <td>3</td>\n",
       "      <td>0.000000</td>\n",
       "      <td>0</td>\n",
       "      <td>0</td>\n",
       "    </tr>\n",
       "    <tr>\n",
       "      <th>1</th>\n",
       "      <td>0</td>\n",
       "      <td>1</td>\n",
       "      <td>0</td>\n",
       "      <td>0</td>\n",
       "      <td>1</td>\n",
       "      <td>1</td>\n",
       "      <td>31</td>\n",
       "      <td>113.202938</td>\n",
       "      <td>12</td>\n",
       "      <td>7</td>\n",
       "      <td>1.910244</td>\n",
       "      <td>0</td>\n",
       "      <td>4</td>\n",
       "    </tr>\n",
       "    <tr>\n",
       "      <th>2</th>\n",
       "      <td>0</td>\n",
       "      <td>1</td>\n",
       "      <td>1</td>\n",
       "      <td>0</td>\n",
       "      <td>1</td>\n",
       "      <td>0</td>\n",
       "      <td>28</td>\n",
       "      <td>129.448479</td>\n",
       "      <td>1</td>\n",
       "      <td>2</td>\n",
       "      <td>1.736502</td>\n",
       "      <td>0</td>\n",
       "      <td>2</td>\n",
       "    </tr>\n",
       "    <tr>\n",
       "      <th>3</th>\n",
       "      <td>0</td>\n",
       "      <td>1</td>\n",
       "      <td>1</td>\n",
       "      <td>1</td>\n",
       "      <td>1</td>\n",
       "      <td>1</td>\n",
       "      <td>33</td>\n",
       "      <td>62.669863</td>\n",
       "      <td>12</td>\n",
       "      <td>2</td>\n",
       "      <td>3.357215</td>\n",
       "      <td>0</td>\n",
       "      <td>0</td>\n",
       "    </tr>\n",
       "    <tr>\n",
       "      <th>4</th>\n",
       "      <td>1</td>\n",
       "      <td>1</td>\n",
       "      <td>1</td>\n",
       "      <td>1</td>\n",
       "      <td>1</td>\n",
       "      <td>0</td>\n",
       "      <td>26</td>\n",
       "      <td>198.362265</td>\n",
       "      <td>1</td>\n",
       "      <td>3</td>\n",
       "      <td>1.120078</td>\n",
       "      <td>0</td>\n",
       "      <td>0</td>\n",
       "    </tr>\n",
       "  </tbody>\n",
       "</table>\n",
       "</div>"
      ],
      "text/plain": [
       "   gender  near_location  partner  promo_friends  phone  group_visits  age  \\\n",
       "0       1              1        1              1      0             1   29   \n",
       "1       0              1        0              0      1             1   31   \n",
       "2       0              1        1              0      1             0   28   \n",
       "3       0              1        1              1      1             1   33   \n",
       "4       1              1        1              1      1             0   26   \n",
       "\n",
       "   avg_additional_charges_total  month_to_end_contract  lifetime  \\\n",
       "0                     14.227470                      5         3   \n",
       "1                    113.202938                     12         7   \n",
       "2                    129.448479                      1         2   \n",
       "3                     62.669863                     12         2   \n",
       "4                    198.362265                      1         3   \n",
       "\n",
       "   avg_class_frequency_current_month  churn  cluster  \n",
       "0                           0.000000      0        0  \n",
       "1                           1.910244      0        4  \n",
       "2                           1.736502      0        2  \n",
       "3                           3.357215      0        0  \n",
       "4                           1.120078      0        0  "
      ]
     },
     "execution_count": 22,
     "metadata": {},
     "output_type": "execute_result"
    }
   ],
   "source": [
    "# переносим кластеры на нашу клиентскую выборку\n",
    "\n",
    "df['cluster'] = labels\n",
    "df.head()"
   ]
  },
  {
   "cell_type": "code",
   "execution_count": 23,
   "metadata": {},
   "outputs": [
    {
     "data": {
      "text/plain": [
       "<AxesSubplot:xlabel='cluster'>"
      ]
     },
     "execution_count": 23,
     "metadata": {},
     "output_type": "execute_result"
    },
    {
     "data": {
      "image/png": "[encoded data removed]",
      "text/plain": [
       "<Figure size 432x288 with 1 Axes>"
      ]
     },
     "metadata": {
      "needs_background": "light"
     },
     "output_type": "display_data"
    }
   ],
   "source": [
    "# строим график оттока посетителей по кластерам\n",
    "\n",
    "report = df.reset_index().pivot_table(index = 'cluster', columns = 'churn', values = 'index', aggfunc = 'count')\n",
    "report.plot(kind = 'bar', stacked = True, alpha = 0.5)\n"
   ]
  },
  {
   "cell_type": "markdown",
   "metadata": {},
   "source": [
    "Таким образом, получается, что наиболее подвержены оттоку посетители кластера 2 и 3. А зная их портреты, можно определить основные признаки, наиболее сильно влияющие на отток."
   ]
  },
  {
   "cell_type": "markdown",
   "metadata": {},
   "source": [
    "## Вывод"
   ]
  },
  {
   "attachments": {
    "image.png": {
     "image/png": "[encoded data removed]"
    }
   },
   "cell_type": "markdown",
   "metadata": {},
   "source": [
    "Подведем итоги.\n",
    "\n",
    "В рамках анализа были сформированы и описаны 5 типичных портретов пользователей:\n",
    "\n",
    "![image.png](attachment:image.png)\n",
    "\n",
    "Наиболее подвержены оттоку клиенты из кластера 2.\n",
    "\n",
    "С учетом целевого признака, можно выделить следующие отличительные черты, на которые стоит обращать внимание при поиске клиентов, которые могут попасть в отток:\n",
    "\n",
    "    Женщина;\n",
    "    Моложе 30 лет;\n",
    "    \n",
    "    \n",
    "    Не является сотрудником организации-партнера;\n",
    "    Не участник акции \"Приведи друга\";\n",
    "    \n",
    "    С момента первого обращения прошло не более 2 месяцев;\n",
    "    До окончания текущего действующего абонемента 1 месяц;\n",
    "    Не посещает групповые занятия;\n",
    "    \n",
    "    Средняя частота посещений в неделю за предыдущий месяц: не более 1 раза;\n",
    "    Суммарная выручка от других услуг фитнес-центра: менее 125 у.е.\n",
    "\n",
    "В рамках анализа были построены 2 рабочие модели прогнозирования оттока посетителей фитнес-центра. Данная разработка поможет научиться прогнозировать вероятность оттока (на уровне следующего месяца) для каждого клиента.\n",
    "\n",
    "**Рекомендации для бизнеса:**\n",
    "\n",
    "1) организовать периодические звонки клиентам с уточнением возможных причин прекращения посещений/недовольтсв работой зала\n",
    "\n",
    "2) провести наблюдение и оценить загрузку тренажеров в вечернее время (возможно нехватка кардио тренажеров, о чем говорит отток женщин моложе 30 лет)\n",
    "\n",
    "3) расширить/доработать перечень групповых занятий, продумать их работу в течение всего дня"
   ]
  }
 ],
 "metadata": {
  "ExecuteTimeLog": [
   {
    "duration": 1567,
    "start_time": "2022-05-29T09:17:10.662Z"
   },
   {
    "duration": 122,
    "start_time": "2022-05-29T09:17:21.882Z"
   },
   {
    "duration": 239,
    "start_time": "2022-05-29T09:17:34.637Z"
   },
   {
    "duration": 83,
    "start_time": "2022-05-29T09:17:53.042Z"
   },
   {
    "duration": 9,
    "start_time": "2022-05-29T09:18:10.762Z"
   },
   {
    "duration": 7,
    "start_time": "2022-05-29T09:18:37.939Z"
   },
   {
    "duration": 14,
    "start_time": "2022-05-29T09:18:48.082Z"
   },
   {
    "duration": 49,
    "start_time": "2022-05-29T09:19:30.007Z"
   },
   {
    "duration": 107,
    "start_time": "2022-05-29T09:19:57.179Z"
   },
   {
    "duration": 2567,
    "start_time": "2022-05-29T09:21:02.405Z"
   },
   {
    "duration": 1589,
    "start_time": "2022-05-29T09:21:21.165Z"
   },
   {
    "duration": 2,
    "start_time": "2022-05-29T09:22:06.765Z"
   },
   {
    "duration": 1245,
    "start_time": "2022-05-29T09:23:28.925Z"
   },
   {
    "duration": 41,
    "start_time": "2022-05-29T09:23:30.172Z"
   },
   {
    "duration": 90,
    "start_time": "2022-05-29T09:23:30.216Z"
   },
   {
    "duration": 11,
    "start_time": "2022-05-29T09:23:30.309Z"
   },
   {
    "duration": 11,
    "start_time": "2022-05-29T09:23:30.322Z"
   },
   {
    "duration": 31,
    "start_time": "2022-05-29T09:23:30.334Z"
   },
   {
    "duration": 63,
    "start_time": "2022-05-29T09:23:30.367Z"
   },
   {
    "duration": 107,
    "start_time": "2022-05-29T09:23:30.432Z"
   },
   {
    "duration": 2596,
    "start_time": "2022-05-29T09:23:30.541Z"
   },
   {
    "duration": 1539,
    "start_time": "2022-05-29T09:23:33.139Z"
   },
   {
    "duration": 3,
    "start_time": "2022-05-29T09:23:34.679Z"
   },
   {
    "duration": 5,
    "start_time": "2022-05-29T09:28:07.814Z"
   },
   {
    "duration": 157,
    "start_time": "2022-05-29T09:28:18.484Z"
   },
   {
    "duration": 10,
    "start_time": "2022-05-29T09:29:43.668Z"
   },
   {
    "duration": 1140,
    "start_time": "2022-05-29T09:30:19.697Z"
   },
   {
    "duration": 36,
    "start_time": "2022-05-29T09:30:20.839Z"
   },
   {
    "duration": 88,
    "start_time": "2022-05-29T09:30:20.877Z"
   },
   {
    "duration": 12,
    "start_time": "2022-05-29T09:30:20.985Z"
   },
   {
    "duration": 10,
    "start_time": "2022-05-29T09:30:20.999Z"
   },
   {
    "duration": 31,
    "start_time": "2022-05-29T09:30:21.010Z"
   },
   {
    "duration": 74,
    "start_time": "2022-05-29T09:30:21.043Z"
   },
   {
    "duration": 195,
    "start_time": "2022-05-29T09:30:21.119Z"
   },
   {
    "duration": 2742,
    "start_time": "2022-05-29T09:30:21.316Z"
   },
   {
    "duration": 1617,
    "start_time": "2022-05-29T09:30:24.061Z"
   },
   {
    "duration": 114,
    "start_time": "2022-05-29T09:30:25.680Z"
   },
   {
    "duration": 15,
    "start_time": "2022-05-29T09:33:14.087Z"
   },
   {
    "duration": 13,
    "start_time": "2022-05-29T09:34:50.052Z"
   },
   {
    "duration": 15,
    "start_time": "2022-05-29T09:35:59.081Z"
   },
   {
    "duration": 1166,
    "start_time": "2022-05-29T09:36:11.066Z"
   },
   {
    "duration": 33,
    "start_time": "2022-05-29T09:36:12.234Z"
   },
   {
    "duration": 119,
    "start_time": "2022-05-29T09:36:12.269Z"
   },
   {
    "duration": 9,
    "start_time": "2022-05-29T09:36:12.390Z"
   },
   {
    "duration": 6,
    "start_time": "2022-05-29T09:36:12.402Z"
   },
   {
    "duration": 18,
    "start_time": "2022-05-29T09:36:12.410Z"
   },
   {
    "duration": 90,
    "start_time": "2022-05-29T09:36:12.430Z"
   },
   {
    "duration": 118,
    "start_time": "2022-05-29T09:36:12.522Z"
   },
   {
    "duration": 2752,
    "start_time": "2022-05-29T09:36:12.642Z"
   },
   {
    "duration": 1638,
    "start_time": "2022-05-29T09:36:15.396Z"
   },
   {
    "duration": 1760,
    "start_time": "2022-05-29T09:36:17.037Z"
   },
   {
    "duration": 138,
    "start_time": "2022-05-29T09:36:41.991Z"
   },
   {
    "duration": 12,
    "start_time": "2022-05-29T09:37:15.693Z"
   },
   {
    "duration": 1146,
    "start_time": "2022-05-29T09:37:24.477Z"
   },
   {
    "duration": 33,
    "start_time": "2022-05-29T09:37:25.626Z"
   },
   {
    "duration": 82,
    "start_time": "2022-05-29T09:37:25.661Z"
   },
   {
    "duration": 9,
    "start_time": "2022-05-29T09:37:25.747Z"
   },
   {
    "duration": 27,
    "start_time": "2022-05-29T09:37:25.758Z"
   },
   {
    "duration": 13,
    "start_time": "2022-05-29T09:37:25.788Z"
   },
   {
    "duration": 49,
    "start_time": "2022-05-29T09:37:25.803Z"
   },
   {
    "duration": 151,
    "start_time": "2022-05-29T09:37:25.854Z"
   },
   {
    "duration": 2728,
    "start_time": "2022-05-29T09:37:26.007Z"
   },
   {
    "duration": 1609,
    "start_time": "2022-05-29T09:37:28.737Z"
   },
   {
    "duration": 143,
    "start_time": "2022-05-29T09:37:30.348Z"
   },
   {
    "duration": 10,
    "start_time": "2022-05-29T09:37:47.672Z"
   },
   {
    "duration": 1377,
    "start_time": "2022-05-29T09:37:56.894Z"
   },
   {
    "duration": 47,
    "start_time": "2022-05-29T09:37:58.274Z"
   },
   {
    "duration": 114,
    "start_time": "2022-05-29T09:37:58.323Z"
   },
   {
    "duration": 9,
    "start_time": "2022-05-29T09:37:58.439Z"
   },
   {
    "duration": 14,
    "start_time": "2022-05-29T09:37:58.451Z"
   },
   {
    "duration": 31,
    "start_time": "2022-05-29T09:37:58.484Z"
   },
   {
    "duration": 49,
    "start_time": "2022-05-29T09:37:58.517Z"
   },
   {
    "duration": 136,
    "start_time": "2022-05-29T09:37:58.568Z"
   },
   {
    "duration": 2597,
    "start_time": "2022-05-29T09:37:58.707Z"
   },
   {
    "duration": 1656,
    "start_time": "2022-05-29T09:38:01.306Z"
   },
   {
    "duration": 16,
    "start_time": "2022-05-29T09:38:02.964Z"
   },
   {
    "duration": 1221,
    "start_time": "2022-05-29T09:39:11.676Z"
   },
   {
    "duration": 33,
    "start_time": "2022-05-29T09:39:12.899Z"
   },
   {
    "duration": 85,
    "start_time": "2022-05-29T09:39:12.934Z"
   },
   {
    "duration": 10,
    "start_time": "2022-05-29T09:39:13.021Z"
   },
   {
    "duration": 7,
    "start_time": "2022-05-29T09:39:13.034Z"
   },
   {
    "duration": 41,
    "start_time": "2022-05-29T09:39:13.043Z"
   },
   {
    "duration": 65,
    "start_time": "2022-05-29T09:39:13.086Z"
   },
   {
    "duration": 135,
    "start_time": "2022-05-29T09:39:13.153Z"
   },
   {
    "duration": 2531,
    "start_time": "2022-05-29T09:39:13.290Z"
   },
   {
    "duration": 1570,
    "start_time": "2022-05-29T09:39:15.824Z"
   },
   {
    "duration": 15,
    "start_time": "2022-05-29T09:39:17.397Z"
   },
   {
    "duration": 134,
    "start_time": "2022-05-29T09:40:27.555Z"
   },
   {
    "duration": 1195,
    "start_time": "2022-05-29T09:40:36.438Z"
   },
   {
    "duration": 35,
    "start_time": "2022-05-29T09:40:37.635Z"
   },
   {
    "duration": 84,
    "start_time": "2022-05-29T09:40:37.671Z"
   },
   {
    "duration": 28,
    "start_time": "2022-05-29T09:40:37.758Z"
   },
   {
    "duration": 6,
    "start_time": "2022-05-29T09:40:37.788Z"
   },
   {
    "duration": 21,
    "start_time": "2022-05-29T09:40:37.796Z"
   },
   {
    "duration": 80,
    "start_time": "2022-05-29T09:40:37.819Z"
   },
   {
    "duration": 142,
    "start_time": "2022-05-29T09:40:37.901Z"
   },
   {
    "duration": 2849,
    "start_time": "2022-05-29T09:40:38.045Z"
   },
   {
    "duration": 1697,
    "start_time": "2022-05-29T09:40:40.897Z"
   },
   {
    "duration": 1307,
    "start_time": "2022-05-29T09:40:42.596Z"
   },
   {
    "duration": 1296,
    "start_time": "2022-05-29T09:41:37.075Z"
   },
   {
    "duration": 33,
    "start_time": "2022-05-29T09:41:38.374Z"
   },
   {
    "duration": 76,
    "start_time": "2022-05-29T09:41:38.409Z"
   },
   {
    "duration": 8,
    "start_time": "2022-05-29T09:41:38.487Z"
   },
   {
    "duration": 5,
    "start_time": "2022-05-29T09:41:38.497Z"
   },
   {
    "duration": 16,
    "start_time": "2022-05-29T09:41:38.503Z"
   },
   {
    "duration": 64,
    "start_time": "2022-05-29T09:41:38.521Z"
   },
   {
    "duration": 104,
    "start_time": "2022-05-29T09:41:38.587Z"
   },
   {
    "duration": 2506,
    "start_time": "2022-05-29T09:41:38.692Z"
   },
   {
    "duration": 1529,
    "start_time": "2022-05-29T09:41:41.201Z"
   },
   {
    "duration": 5,
    "start_time": "2022-05-29T09:41:42.732Z"
   },
   {
    "duration": 1345,
    "start_time": "2022-05-29T09:48:43.630Z"
   },
   {
    "duration": 38,
    "start_time": "2022-05-29T09:48:44.977Z"
   },
   {
    "duration": 174,
    "start_time": "2022-05-29T09:48:45.018Z"
   },
   {
    "duration": 15,
    "start_time": "2022-05-29T09:48:45.196Z"
   },
   {
    "duration": 7,
    "start_time": "2022-05-29T09:48:45.213Z"
   },
   {
    "duration": 15,
    "start_time": "2022-05-29T09:48:45.224Z"
   },
   {
    "duration": 92,
    "start_time": "2022-05-29T09:48:45.241Z"
   },
   {
    "duration": 122,
    "start_time": "2022-05-29T09:48:45.335Z"
   },
   {
    "duration": 2824,
    "start_time": "2022-05-29T09:48:45.484Z"
   },
   {
    "duration": 1543,
    "start_time": "2022-05-29T09:48:48.311Z"
   },
   {
    "duration": 7,
    "start_time": "2022-05-29T09:48:49.856Z"
   },
   {
    "duration": 13,
    "start_time": "2022-05-29T09:48:49.865Z"
   },
   {
    "duration": 1479,
    "start_time": "2022-05-29T09:55:24.706Z"
   },
   {
    "duration": 34,
    "start_time": "2022-05-29T09:55:26.187Z"
   },
   {
    "duration": 90,
    "start_time": "2022-05-29T09:55:26.223Z"
   },
   {
    "duration": 12,
    "start_time": "2022-05-29T09:55:26.318Z"
   },
   {
    "duration": 17,
    "start_time": "2022-05-29T09:55:26.332Z"
   },
   {
    "duration": 32,
    "start_time": "2022-05-29T09:55:26.351Z"
   },
   {
    "duration": 75,
    "start_time": "2022-05-29T09:55:26.387Z"
   },
   {
    "duration": 150,
    "start_time": "2022-05-29T09:55:26.464Z"
   },
   {
    "duration": 3687,
    "start_time": "2022-05-29T09:55:26.617Z"
   },
   {
    "duration": 2311,
    "start_time": "2022-05-29T09:55:30.307Z"
   },
   {
    "duration": 6,
    "start_time": "2022-05-29T09:55:32.621Z"
   },
   {
    "duration": 11,
    "start_time": "2022-05-29T09:55:32.630Z"
   },
   {
    "duration": 50,
    "start_time": "2022-05-29T09:55:32.643Z"
   },
   {
    "duration": 3,
    "start_time": "2022-05-29T09:55:32.695Z"
   },
   {
    "duration": 53,
    "start_time": "2022-05-29T09:56:21.983Z"
   },
   {
    "duration": 46,
    "start_time": "2022-05-29T09:58:07.487Z"
   },
   {
    "duration": 1305,
    "start_time": "2022-05-29T10:02:33.747Z"
   },
   {
    "duration": 33,
    "start_time": "2022-05-29T10:02:35.054Z"
   },
   {
    "duration": 114,
    "start_time": "2022-05-29T10:02:35.089Z"
   },
   {
    "duration": 11,
    "start_time": "2022-05-29T10:02:35.206Z"
   },
   {
    "duration": 6,
    "start_time": "2022-05-29T10:02:35.220Z"
   },
   {
    "duration": 14,
    "start_time": "2022-05-29T10:02:35.228Z"
   },
   {
    "duration": 98,
    "start_time": "2022-05-29T10:02:35.244Z"
   },
   {
    "duration": 145,
    "start_time": "2022-05-29T10:02:35.344Z"
   },
   {
    "duration": 2818,
    "start_time": "2022-05-29T10:02:35.491Z"
   },
   {
    "duration": 1618,
    "start_time": "2022-05-29T10:02:38.312Z"
   },
   {
    "duration": 6,
    "start_time": "2022-05-29T10:02:39.933Z"
   },
   {
    "duration": 12,
    "start_time": "2022-05-29T10:02:39.943Z"
   },
   {
    "duration": 50,
    "start_time": "2022-05-29T10:02:39.957Z"
   },
   {
    "duration": 2,
    "start_time": "2022-05-29T10:02:40.011Z"
   },
   {
    "duration": 40,
    "start_time": "2022-05-29T10:12:57.502Z"
   },
   {
    "duration": 1480,
    "start_time": "2022-05-29T10:54:35.312Z"
   },
   {
    "duration": 35,
    "start_time": "2022-05-29T10:54:36.794Z"
   },
   {
    "duration": 131,
    "start_time": "2022-05-29T10:54:36.832Z"
   },
   {
    "duration": 20,
    "start_time": "2022-05-29T10:54:36.966Z"
   },
   {
    "duration": 44,
    "start_time": "2022-05-29T10:54:36.988Z"
   },
   {
    "duration": 57,
    "start_time": "2022-05-29T10:54:37.034Z"
   },
   {
    "duration": 117,
    "start_time": "2022-05-29T10:54:37.092Z"
   },
   {
    "duration": 174,
    "start_time": "2022-05-29T10:54:37.211Z"
   },
   {
    "duration": 3022,
    "start_time": "2022-05-29T10:54:37.387Z"
   },
   {
    "duration": 1683,
    "start_time": "2022-05-29T10:54:40.411Z"
   },
   {
    "duration": 7,
    "start_time": "2022-05-29T10:54:42.099Z"
   },
   {
    "duration": 31,
    "start_time": "2022-05-29T10:54:42.108Z"
   },
   {
    "duration": 16,
    "start_time": "2022-05-29T10:54:42.141Z"
   },
   {
    "duration": 56,
    "start_time": "2022-05-29T10:54:42.158Z"
   },
   {
    "duration": 160,
    "start_time": "2022-05-29T10:54:42.216Z"
   },
   {
    "duration": 1503,
    "start_time": "2022-05-29T10:56:17.406Z"
   },
   {
    "duration": 34,
    "start_time": "2022-05-29T10:56:18.912Z"
   },
   {
    "duration": 90,
    "start_time": "2022-05-29T10:56:18.948Z"
   },
   {
    "duration": 9,
    "start_time": "2022-05-29T10:56:19.039Z"
   },
   {
    "duration": 7,
    "start_time": "2022-05-29T10:56:19.050Z"
   },
   {
    "duration": 54,
    "start_time": "2022-05-29T10:56:19.059Z"
   },
   {
    "duration": 52,
    "start_time": "2022-05-29T10:56:19.116Z"
   },
   {
    "duration": 136,
    "start_time": "2022-05-29T10:56:19.169Z"
   },
   {
    "duration": 2764,
    "start_time": "2022-05-29T10:56:19.307Z"
   },
   {
    "duration": 1709,
    "start_time": "2022-05-29T10:56:22.073Z"
   },
   {
    "duration": 6,
    "start_time": "2022-05-29T10:56:23.784Z"
   },
   {
    "duration": 35,
    "start_time": "2022-05-29T10:56:23.792Z"
   },
   {
    "duration": 13,
    "start_time": "2022-05-29T10:56:23.830Z"
   },
   {
    "duration": 74,
    "start_time": "2022-05-29T10:56:23.848Z"
   },
   {
    "duration": 477,
    "start_time": "2022-05-29T10:56:23.924Z"
   },
   {
    "duration": 1435,
    "start_time": "2022-05-29T11:57:03.536Z"
   },
   {
    "duration": 50,
    "start_time": "2022-05-29T11:57:04.973Z"
   },
   {
    "duration": 89,
    "start_time": "2022-05-29T11:57:05.027Z"
   },
   {
    "duration": 10,
    "start_time": "2022-05-29T11:57:05.118Z"
   },
   {
    "duration": 10,
    "start_time": "2022-05-29T11:57:05.130Z"
   },
   {
    "duration": 15,
    "start_time": "2022-05-29T11:57:05.142Z"
   },
   {
    "duration": 81,
    "start_time": "2022-05-29T11:57:05.159Z"
   },
   {
    "duration": 113,
    "start_time": "2022-05-29T11:57:05.242Z"
   },
   {
    "duration": 2976,
    "start_time": "2022-05-29T11:57:05.385Z"
   },
   {
    "duration": 1811,
    "start_time": "2022-05-29T11:57:08.363Z"
   },
   {
    "duration": 7,
    "start_time": "2022-05-29T11:57:10.176Z"
   },
   {
    "duration": 26,
    "start_time": "2022-05-29T11:57:10.186Z"
   },
   {
    "duration": 7,
    "start_time": "2022-05-29T11:57:10.215Z"
   },
   {
    "duration": 46,
    "start_time": "2022-05-29T11:57:10.224Z"
   },
   {
    "duration": 451,
    "start_time": "2022-05-29T11:57:10.272Z"
   },
   {
    "duration": 5,
    "start_time": "2022-05-29T11:57:10.725Z"
   },
   {
    "duration": 170,
    "start_time": "2022-05-29T11:57:10.732Z"
   },
   {
    "duration": 30091,
    "start_time": "2022-05-29T11:58:13.964Z"
   },
   {
    "duration": 1303,
    "start_time": "2022-05-29T11:58:55.734Z"
   },
   {
    "duration": 34,
    "start_time": "2022-05-29T11:58:57.039Z"
   },
   {
    "duration": 78,
    "start_time": "2022-05-29T11:58:57.075Z"
   },
   {
    "duration": 7,
    "start_time": "2022-05-29T11:58:57.155Z"
   },
   {
    "duration": 28,
    "start_time": "2022-05-29T11:58:57.164Z"
   },
   {
    "duration": 25,
    "start_time": "2022-05-29T11:58:57.194Z"
   },
   {
    "duration": 46,
    "start_time": "2022-05-29T11:58:57.221Z"
   },
   {
    "duration": 139,
    "start_time": "2022-05-29T11:58:57.269Z"
   },
   {
    "duration": 2568,
    "start_time": "2022-05-29T11:58:57.409Z"
   },
   {
    "duration": 1635,
    "start_time": "2022-05-29T11:58:59.979Z"
   },
   {
    "duration": 5,
    "start_time": "2022-05-29T11:59:01.616Z"
   },
   {
    "duration": 32,
    "start_time": "2022-05-29T11:59:01.623Z"
   },
   {
    "duration": 14,
    "start_time": "2022-05-29T11:59:01.657Z"
   },
   {
    "duration": 65,
    "start_time": "2022-05-29T11:59:01.673Z"
   },
   {
    "duration": 436,
    "start_time": "2022-05-29T11:59:01.740Z"
   },
   {
    "duration": 8,
    "start_time": "2022-05-29T11:59:02.178Z"
   },
   {
    "duration": 19,
    "start_time": "2022-05-29T11:59:02.187Z"
   },
   {
    "duration": 123503,
    "start_time": "2022-05-29T11:59:02.208Z"
   },
   {
    "duration": 157,
    "start_time": "2022-05-29T12:30:47.945Z"
   },
   {
    "duration": 1501,
    "start_time": "2022-05-29T12:31:05.612Z"
   },
   {
    "duration": 18,
    "start_time": "2022-05-29T12:33:02.880Z"
   },
   {
    "duration": 12,
    "start_time": "2022-05-29T12:33:48.224Z"
   },
   {
    "duration": 13,
    "start_time": "2022-05-29T12:33:56.812Z"
   },
   {
    "duration": 14,
    "start_time": "2022-05-29T12:44:44.241Z"
   },
   {
    "duration": 12,
    "start_time": "2022-05-29T12:44:58.705Z"
   },
   {
    "duration": 23591,
    "start_time": "2022-05-29T12:46:49.644Z"
   },
   {
    "duration": 3002,
    "start_time": "2022-05-29T12:50:01.596Z"
   },
   {
    "duration": 1452,
    "start_time": "2022-05-29T12:55:28.548Z"
   },
   {
    "duration": 12,
    "start_time": "2022-05-29T13:13:53.299Z"
   },
   {
    "duration": 9,
    "start_time": "2022-05-29T13:32:18.471Z"
   },
   {
    "duration": 7,
    "start_time": "2022-05-29T13:32:33.969Z"
   },
   {
    "duration": 9,
    "start_time": "2022-05-29T13:32:42.485Z"
   },
   {
    "duration": 15,
    "start_time": "2022-05-29T13:34:47.604Z"
   },
   {
    "duration": 37,
    "start_time": "2022-05-29T13:34:53.398Z"
   },
   {
    "duration": 27,
    "start_time": "2022-05-29T13:38:25.480Z"
   },
   {
    "duration": 30,
    "start_time": "2022-05-29T13:38:52.314Z"
   },
   {
    "duration": 173,
    "start_time": "2022-05-29T13:48:03.020Z"
   },
   {
    "duration": 23,
    "start_time": "2022-05-29T13:52:06.782Z"
   },
   {
    "duration": 32,
    "start_time": "2022-05-29T13:52:32.882Z"
   },
   {
    "duration": 13,
    "start_time": "2022-05-29T13:53:24.239Z"
   },
   {
    "duration": 20,
    "start_time": "2022-05-29T13:53:29.907Z"
   },
   {
    "duration": 23,
    "start_time": "2022-05-29T13:53:37.269Z"
   },
   {
    "duration": 24,
    "start_time": "2022-05-29T13:54:13.674Z"
   },
   {
    "duration": 22,
    "start_time": "2022-05-29T13:59:20.977Z"
   },
   {
    "duration": 26,
    "start_time": "2022-05-29T13:59:37.673Z"
   },
   {
    "duration": 540,
    "start_time": "2022-05-29T14:01:35.477Z"
   },
   {
    "duration": 17,
    "start_time": "2022-05-29T14:02:51.131Z"
   },
   {
    "duration": 20,
    "start_time": "2022-05-29T14:04:15.870Z"
   },
   {
    "duration": 761,
    "start_time": "2022-05-29T14:05:03.981Z"
   },
   {
    "duration": 430,
    "start_time": "2022-05-29T14:05:15.575Z"
   },
   {
    "duration": 509,
    "start_time": "2022-05-29T14:05:47.913Z"
   },
   {
    "duration": 442,
    "start_time": "2022-05-29T14:05:56.082Z"
   },
   {
    "duration": 160,
    "start_time": "2022-05-29T14:06:19.469Z"
   },
   {
    "duration": 1420,
    "start_time": "2022-05-29T14:13:38.347Z"
   },
   {
    "duration": 41,
    "start_time": "2022-05-29T14:13:39.769Z"
   },
   {
    "duration": 83,
    "start_time": "2022-05-29T14:13:39.813Z"
   },
   {
    "duration": 15,
    "start_time": "2022-05-29T14:13:39.897Z"
   },
   {
    "duration": 18,
    "start_time": "2022-05-29T14:13:39.915Z"
   },
   {
    "duration": 18,
    "start_time": "2022-05-29T14:13:39.935Z"
   },
   {
    "duration": 73,
    "start_time": "2022-05-29T14:13:39.956Z"
   },
   {
    "duration": 16,
    "start_time": "2022-05-29T14:13:40.031Z"
   },
   {
    "duration": 2729,
    "start_time": "2022-05-29T14:13:40.049Z"
   },
   {
    "duration": 1750,
    "start_time": "2022-05-29T14:13:42.784Z"
   },
   {
    "duration": 5,
    "start_time": "2022-05-29T14:13:44.536Z"
   },
   {
    "duration": 18,
    "start_time": "2022-05-29T14:13:44.543Z"
   },
   {
    "duration": 5,
    "start_time": "2022-05-29T14:13:44.563Z"
   },
   {
    "duration": 46,
    "start_time": "2022-05-29T14:13:44.571Z"
   },
   {
    "duration": 413,
    "start_time": "2022-05-29T14:13:44.619Z"
   },
   {
    "duration": 5,
    "start_time": "2022-05-29T14:13:45.035Z"
   },
   {
    "duration": 17,
    "start_time": "2022-05-29T14:13:45.043Z"
   },
   {
    "duration": 43070,
    "start_time": "2022-05-29T14:13:45.063Z"
   },
   {
    "duration": 0,
    "start_time": "2022-05-29T14:14:28.136Z"
   },
   {
    "duration": 0,
    "start_time": "2022-05-29T14:14:28.138Z"
   },
   {
    "duration": 0,
    "start_time": "2022-05-29T14:14:28.140Z"
   },
   {
    "duration": 0,
    "start_time": "2022-05-29T14:14:28.141Z"
   },
   {
    "duration": 0,
    "start_time": "2022-05-29T14:14:28.143Z"
   },
   {
    "duration": 1485,
    "start_time": "2022-05-29T14:14:33.907Z"
   },
   {
    "duration": 42,
    "start_time": "2022-05-29T14:14:35.400Z"
   },
   {
    "duration": 114,
    "start_time": "2022-05-29T14:14:35.444Z"
   },
   {
    "duration": 26,
    "start_time": "2022-05-29T14:14:35.561Z"
   },
   {
    "duration": 16,
    "start_time": "2022-05-29T14:14:35.594Z"
   },
   {
    "duration": 16,
    "start_time": "2022-05-29T14:14:35.612Z"
   },
   {
    "duration": 69,
    "start_time": "2022-05-29T14:14:35.630Z"
   },
   {
    "duration": 21,
    "start_time": "2022-05-29T14:14:35.702Z"
   },
   {
    "duration": 3681,
    "start_time": "2022-05-29T14:14:35.726Z"
   },
   {
    "duration": 2631,
    "start_time": "2022-05-29T14:14:39.411Z"
   },
   {
    "duration": 6,
    "start_time": "2022-05-29T14:14:42.045Z"
   },
   {
    "duration": 46,
    "start_time": "2022-05-29T14:14:42.053Z"
   },
   {
    "duration": 24,
    "start_time": "2022-05-29T14:14:42.103Z"
   },
   {
    "duration": 82,
    "start_time": "2022-05-29T14:14:42.130Z"
   },
   {
    "duration": 440,
    "start_time": "2022-05-29T14:14:42.214Z"
   },
   {
    "duration": 4,
    "start_time": "2022-05-29T14:14:42.656Z"
   },
   {
    "duration": 27,
    "start_time": "2022-05-29T14:14:42.662Z"
   },
   {
    "duration": 127018,
    "start_time": "2022-05-29T14:14:42.691Z"
   },
   {
    "duration": 1092,
    "start_time": "2022-05-29T14:16:49.710Z"
   },
   {
    "duration": 2850,
    "start_time": "2022-05-29T14:16:50.804Z"
   },
   {
    "duration": 12,
    "start_time": "2022-05-29T14:16:53.656Z"
   },
   {
    "duration": 180,
    "start_time": "2022-05-29T14:16:53.670Z"
   },
   {
    "duration": 62,
    "start_time": "2022-05-29T14:57:57.310Z"
   },
   {
    "duration": 77,
    "start_time": "2022-05-29T14:58:41.404Z"
   },
   {
    "duration": 26,
    "start_time": "2022-05-29T14:59:53.280Z"
   },
   {
    "duration": 24,
    "start_time": "2022-05-29T15:00:02.212Z"
   },
   {
    "duration": 1711,
    "start_time": "2022-05-29T15:20:20.047Z"
   },
   {
    "duration": 45,
    "start_time": "2022-05-29T15:20:21.760Z"
   },
   {
    "duration": 133,
    "start_time": "2022-05-29T15:20:21.808Z"
   },
   {
    "duration": 10,
    "start_time": "2022-05-29T15:20:21.943Z"
   },
   {
    "duration": 62,
    "start_time": "2022-05-29T15:20:21.956Z"
   },
   {
    "duration": 93,
    "start_time": "2022-05-29T15:20:22.021Z"
   },
   {
    "duration": 117,
    "start_time": "2022-05-29T15:20:22.118Z"
   },
   {
    "duration": 28,
    "start_time": "2022-05-29T15:20:22.237Z"
   },
   {
    "duration": 78,
    "start_time": "2022-05-29T15:20:22.267Z"
   },
   {
    "duration": 2716,
    "start_time": "2022-05-29T15:20:22.347Z"
   },
   {
    "duration": 1665,
    "start_time": "2022-05-29T15:20:25.065Z"
   },
   {
    "duration": 7,
    "start_time": "2022-05-29T15:20:26.732Z"
   },
   {
    "duration": 12,
    "start_time": "2022-05-29T15:20:26.741Z"
   },
   {
    "duration": 7,
    "start_time": "2022-05-29T15:20:26.757Z"
   },
   {
    "duration": 49,
    "start_time": "2022-05-29T15:20:26.766Z"
   },
   {
    "duration": 695,
    "start_time": "2022-05-29T15:20:26.817Z"
   },
   {
    "duration": 4,
    "start_time": "2022-05-29T15:20:27.514Z"
   },
   {
    "duration": 14,
    "start_time": "2022-05-29T15:20:27.521Z"
   },
   {
    "duration": 127279,
    "start_time": "2022-05-29T15:20:27.585Z"
   },
   {
    "duration": 1143,
    "start_time": "2022-05-29T15:22:34.866Z"
   },
   {
    "duration": 3025,
    "start_time": "2022-05-29T15:22:36.085Z"
   },
   {
    "duration": 14,
    "start_time": "2022-05-29T15:22:39.112Z"
   },
   {
    "duration": 186,
    "start_time": "2022-05-29T15:22:39.128Z"
   },
   {
    "duration": 1729,
    "start_time": "2022-05-29T15:50:56.744Z"
   },
   {
    "duration": 1495,
    "start_time": "2022-05-29T15:51:20.407Z"
   },
   {
    "duration": 38,
    "start_time": "2022-05-29T15:51:21.905Z"
   },
   {
    "duration": 93,
    "start_time": "2022-05-29T15:51:21.945Z"
   },
   {
    "duration": 10,
    "start_time": "2022-05-29T15:51:22.040Z"
   },
   {
    "duration": 5,
    "start_time": "2022-05-29T15:51:22.052Z"
   },
   {
    "duration": 23,
    "start_time": "2022-05-29T15:51:22.089Z"
   },
   {
    "duration": 58,
    "start_time": "2022-05-29T15:51:22.115Z"
   },
   {
    "duration": 33,
    "start_time": "2022-05-29T15:51:22.174Z"
   },
   {
    "duration": 21,
    "start_time": "2022-05-29T15:51:22.217Z"
   },
   {
    "duration": 2808,
    "start_time": "2022-05-29T15:51:22.241Z"
   },
   {
    "duration": 1807,
    "start_time": "2022-05-29T15:51:25.051Z"
   },
   {
    "duration": 5,
    "start_time": "2022-05-29T15:51:26.860Z"
   },
   {
    "duration": 43,
    "start_time": "2022-05-29T15:51:26.866Z"
   },
   {
    "duration": 45,
    "start_time": "2022-05-29T15:51:26.912Z"
   },
   {
    "duration": 91,
    "start_time": "2022-05-29T15:51:26.959Z"
   },
   {
    "duration": 428,
    "start_time": "2022-05-29T15:51:27.052Z"
   },
   {
    "duration": 13,
    "start_time": "2022-05-29T15:51:27.482Z"
   },
   {
    "duration": 73,
    "start_time": "2022-05-29T15:51:27.498Z"
   },
   {
    "duration": 134230,
    "start_time": "2022-05-29T15:51:27.573Z"
   },
   {
    "duration": 1109,
    "start_time": "2022-05-29T15:53:41.805Z"
   },
   {
    "duration": 3150,
    "start_time": "2022-05-29T15:53:42.916Z"
   },
   {
    "duration": 20,
    "start_time": "2022-05-29T15:53:46.068Z"
   },
   {
    "duration": 199,
    "start_time": "2022-05-29T15:53:46.090Z"
   },
   {
    "duration": 37,
    "start_time": "2022-05-29T17:25:10.541Z"
   },
   {
    "duration": 1498,
    "start_time": "2022-05-29T18:10:32.360Z"
   },
   {
    "duration": 56,
    "start_time": "2022-05-29T18:10:33.861Z"
   },
   {
    "duration": 108,
    "start_time": "2022-05-29T18:10:33.919Z"
   },
   {
    "duration": 9,
    "start_time": "2022-05-29T18:10:34.031Z"
   },
   {
    "duration": 11,
    "start_time": "2022-05-29T18:10:34.042Z"
   },
   {
    "duration": 39,
    "start_time": "2022-05-29T18:10:34.055Z"
   },
   {
    "duration": 54,
    "start_time": "2022-05-29T18:10:34.096Z"
   },
   {
    "duration": 49,
    "start_time": "2022-05-29T18:10:34.152Z"
   },
   {
    "duration": 17,
    "start_time": "2022-05-29T18:10:34.208Z"
   },
   {
    "duration": 2741,
    "start_time": "2022-05-29T18:10:34.229Z"
   },
   {
    "duration": 1877,
    "start_time": "2022-05-29T18:10:36.973Z"
   },
   {
    "duration": 7,
    "start_time": "2022-05-29T18:10:38.852Z"
   },
   {
    "duration": 16,
    "start_time": "2022-05-29T18:10:38.860Z"
   },
   {
    "duration": 34,
    "start_time": "2022-05-29T18:10:38.879Z"
   },
   {
    "duration": 53,
    "start_time": "2022-05-29T18:10:38.915Z"
   },
   {
    "duration": 397,
    "start_time": "2022-05-29T18:10:38.970Z"
   },
   {
    "duration": 4,
    "start_time": "2022-05-29T18:10:39.369Z"
   },
   {
    "duration": 22,
    "start_time": "2022-05-29T18:10:39.374Z"
   },
   {
    "duration": 134479,
    "start_time": "2022-05-29T18:10:39.402Z"
   },
   {
    "duration": 1308,
    "start_time": "2022-05-29T18:12:53.889Z"
   },
   {
    "duration": 3548,
    "start_time": "2022-05-29T18:12:55.205Z"
   },
   {
    "duration": 12,
    "start_time": "2022-05-29T18:12:58.755Z"
   },
   {
    "duration": 220,
    "start_time": "2022-05-29T18:12:58.768Z"
   },
   {
    "duration": 1529,
    "start_time": "2022-05-29T19:13:07.243Z"
   },
   {
    "duration": 40,
    "start_time": "2022-05-29T19:13:08.774Z"
   },
   {
    "duration": 113,
    "start_time": "2022-05-29T19:13:08.816Z"
   },
   {
    "duration": 8,
    "start_time": "2022-05-29T19:13:08.931Z"
   },
   {
    "duration": 55,
    "start_time": "2022-05-29T19:13:08.941Z"
   },
   {
    "duration": 43,
    "start_time": "2022-05-29T19:13:08.999Z"
   },
   {
    "duration": 122,
    "start_time": "2022-05-29T19:13:09.044Z"
   },
   {
    "duration": 42,
    "start_time": "2022-05-29T19:13:09.168Z"
   },
   {
    "duration": 55,
    "start_time": "2022-05-29T19:13:09.212Z"
   },
   {
    "duration": 2782,
    "start_time": "2022-05-29T19:13:09.269Z"
   },
   {
    "duration": 1770,
    "start_time": "2022-05-29T19:13:12.052Z"
   },
   {
    "duration": 5,
    "start_time": "2022-05-29T19:13:13.824Z"
   },
   {
    "duration": 23,
    "start_time": "2022-05-29T19:13:13.831Z"
   },
   {
    "duration": 9,
    "start_time": "2022-05-29T19:13:13.856Z"
   },
   {
    "duration": 68,
    "start_time": "2022-05-29T19:13:13.866Z"
   },
   {
    "duration": 435,
    "start_time": "2022-05-29T19:13:13.936Z"
   },
   {
    "duration": 11,
    "start_time": "2022-05-29T19:13:14.373Z"
   },
   {
    "duration": 23,
    "start_time": "2022-05-29T19:13:14.386Z"
   },
   {
    "duration": 125441,
    "start_time": "2022-05-29T19:13:14.411Z"
   },
   {
    "duration": 951,
    "start_time": "2022-05-29T19:15:19.853Z"
   },
   {
    "duration": 3006,
    "start_time": "2022-05-29T19:15:20.885Z"
   },
   {
    "duration": 13,
    "start_time": "2022-05-29T19:15:23.892Z"
   },
   {
    "duration": 194,
    "start_time": "2022-05-29T19:15:23.906Z"
   },
   {
    "duration": 1917,
    "start_time": "2022-05-30T12:48:24.055Z"
   },
   {
    "duration": 77,
    "start_time": "2022-05-30T12:48:25.976Z"
   },
   {
    "duration": 111,
    "start_time": "2022-05-30T12:48:26.062Z"
   },
   {
    "duration": 12,
    "start_time": "2022-05-30T12:48:26.176Z"
   },
   {
    "duration": 17,
    "start_time": "2022-05-30T12:48:26.190Z"
   },
   {
    "duration": 19,
    "start_time": "2022-05-30T12:48:26.209Z"
   },
   {
    "duration": 76,
    "start_time": "2022-05-30T12:48:26.230Z"
   },
   {
    "duration": 23,
    "start_time": "2022-05-30T12:48:26.308Z"
   },
   {
    "duration": 44,
    "start_time": "2022-05-30T12:48:26.335Z"
   },
   {
    "duration": 3272,
    "start_time": "2022-05-30T12:48:26.381Z"
   },
   {
    "duration": 2111,
    "start_time": "2022-05-30T12:48:29.659Z"
   },
   {
    "duration": 6,
    "start_time": "2022-05-30T12:48:31.777Z"
   },
   {
    "duration": 12,
    "start_time": "2022-05-30T12:48:31.786Z"
   },
   {
    "duration": 15,
    "start_time": "2022-05-30T12:48:31.800Z"
   },
   {
    "duration": 75,
    "start_time": "2022-05-30T12:48:31.818Z"
   },
   {
    "duration": 522,
    "start_time": "2022-05-30T12:48:31.898Z"
   },
   {
    "duration": 6,
    "start_time": "2022-05-30T12:48:32.422Z"
   },
   {
    "duration": 16,
    "start_time": "2022-05-30T12:48:32.429Z"
   },
   {
    "duration": 124178,
    "start_time": "2022-05-30T12:48:32.464Z"
   },
   {
    "duration": 1219,
    "start_time": "2022-05-30T12:50:36.644Z"
   },
   {
    "duration": 2825,
    "start_time": "2022-05-30T12:50:37.865Z"
   },
   {
    "duration": 16,
    "start_time": "2022-05-30T12:50:40.692Z"
   },
   {
    "duration": 186,
    "start_time": "2022-05-30T12:50:40.711Z"
   },
   {
    "duration": 41,
    "start_time": "2022-05-30T17:28:48.362Z"
   }
  ],
  "kernelspec": {
   "display_name": "Python 3 (ipykernel)",
   "language": "python",
   "name": "python3"
  },
  "language_info": {
   "codemirror_mode": {
    "name": "ipython",
    "version": 3
   },
   "file_extension": ".py",
   "mimetype": "text/x-python",
   "name": "python",
   "nbconvert_exporter": "python",
   "pygments_lexer": "ipython3",
   "version": "3.10.9"
  },
  "toc": {
   "base_numbering": 1,
   "nav_menu": {},
   "number_sections": true,
   "sideBar": true,
   "skip_h1_title": true,
   "title_cell": "Table of Contents",
   "title_sidebar": "Contents",
   "toc_cell": false,
   "toc_position": {
    "height": "calc(100% - 180px)",
    "left": "10px",
    "top": "150px",
    "width": "286.237px"
   },
   "toc_section_display": true,
   "toc_window_display": true
  }
 },
 "nbformat": 4,
 "nbformat_minor": 2
}
